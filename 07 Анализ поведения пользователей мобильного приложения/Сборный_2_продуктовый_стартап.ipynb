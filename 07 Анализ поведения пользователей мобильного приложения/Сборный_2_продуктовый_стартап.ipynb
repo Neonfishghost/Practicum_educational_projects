{
 "cells": [
  {
   "cell_type": "markdown",
   "metadata": {},
   "source": [
    "# Проект: \"Анализ поведения пользователей мобильного приложения\"\n",
    "\n",
    "**Описание проекта:** \n",
    "\n",
    "Анализируем поведение пользователей мобильного приложения по продаже продуктов питания для стартапа.\n",
    "\n",
    "**Цели и задачи:**\n",
    "\n",
    "* Изучить воронку продаж. Узнать, как пользователи доходят до покупки. Сколько пользователей доходит до покупки, а сколько — «застревает» на предыдущих шагах? На каких именно?\n",
    "* Исследовать результаты A/A/B-эксперимента. Дизайнеры захотели поменять шрифты во всём приложении, а менеджеры испугались, что пользователям будет непривычно. Договорились принять решение по результатам A/A/B-теста. Пользователей разбили на 3 группы: 2 контрольные со старыми шрифтами и одну экспериментальную — с новыми. Выясним, какой шрифт лучше.\n",
    "\n",
    "**Описание данных:**\n",
    "\n",
    "Каждая запись в логе — это действие пользователя, или событие. \n",
    "* `EventName` — название события;\n",
    "* `DeviceIDHash` — уникальный идентификатор пользователя;\n",
    "* `EventTimestamp` — время события;\n",
    "* `ExpId` — номер эксперимента: 246 и 247 — контрольные группы, а 248 — экспериментальная.\n",
    "\n",
    "**План исследования:**\n",
    "\n",
    "* 1. Откроем файл с данными и изучим общую информацию\n",
    "* 2. Подготовим данные\n",
    "* 3. Изучим и проверим данные\n",
    "* 4. Изучим воронку событий\n",
    "* 5. Изучим результаты эксперимента"
   ]
  },
  {
   "cell_type": "markdown",
   "metadata": {},
   "source": [
    "## Загрузим данные и подготовим их к анализу"
   ]
  },
  {
   "cell_type": "code",
   "execution_count": 3,
   "metadata": {},
   "outputs": [],
   "source": [
    "# Загружаем библиотеки\n",
    "import pandas as pd\n",
    "import numpy as np\n",
    "import datetime as dt\n",
    "from matplotlib import pyplot as plt\n",
    "plt.rcParams.update({'figure.max_open_warning': 0})\n",
    "import seaborn as sns\n",
    "sns.set(rc={'figure.figsize':(12, 10)})\n",
    "import scipy.stats as stats\n",
    "from scipy import stats as st\n",
    "import math"
   ]
  },
  {
   "cell_type": "code",
   "execution_count": 4,
   "metadata": {},
   "outputs": [
    {
     "ename": "FileNotFoundError",
     "evalue": "[Errno 2] No such file or directory: '/datasets/logs_exp.csv'",
     "output_type": "error",
     "traceback": [
      "\u001b[1;31m---------------------------------------------------------------------------\u001b[0m",
      "\u001b[1;31mOSError\u001b[0m                                   Traceback (most recent call last)",
      "Cell \u001b[1;32mIn[4], line 2\u001b[0m\n\u001b[0;32m      1\u001b[0m \u001b[38;5;28;01mtry\u001b[39;00m:\n\u001b[1;32m----> 2\u001b[0m     data \u001b[38;5;241m=\u001b[39m pd\u001b[38;5;241m.\u001b[39mread_csv(\u001b[38;5;124m'\u001b[39m\u001b[38;5;124m/https://code.s3.yandex.net/datasets/logs_exp.csv\u001b[39m\u001b[38;5;124m'\u001b[39m, sep\u001b[38;5;241m=\u001b[39m\u001b[38;5;124m'\u001b[39m\u001b[38;5;130;01m\\t\u001b[39;00m\u001b[38;5;124m'\u001b[39m)\n\u001b[0;32m      3\u001b[0m \u001b[38;5;28;01mexcept\u001b[39;00m:    \n",
      "File \u001b[1;32m~\\anaconda3\\Lib\\site-packages\\pandas\\io\\parsers\\readers.py:1026\u001b[0m, in \u001b[0;36mread_csv\u001b[1;34m(filepath_or_buffer, sep, delimiter, header, names, index_col, usecols, dtype, engine, converters, true_values, false_values, skipinitialspace, skiprows, skipfooter, nrows, na_values, keep_default_na, na_filter, verbose, skip_blank_lines, parse_dates, infer_datetime_format, keep_date_col, date_parser, date_format, dayfirst, cache_dates, iterator, chunksize, compression, thousands, decimal, lineterminator, quotechar, quoting, doublequote, escapechar, comment, encoding, encoding_errors, dialect, on_bad_lines, delim_whitespace, low_memory, memory_map, float_precision, storage_options, dtype_backend)\u001b[0m\n\u001b[0;32m   1024\u001b[0m kwds\u001b[38;5;241m.\u001b[39mupdate(kwds_defaults)\n\u001b[1;32m-> 1026\u001b[0m \u001b[38;5;28;01mreturn\u001b[39;00m _read(filepath_or_buffer, kwds)\n",
      "File \u001b[1;32m~\\anaconda3\\Lib\\site-packages\\pandas\\io\\parsers\\readers.py:620\u001b[0m, in \u001b[0;36m_read\u001b[1;34m(filepath_or_buffer, kwds)\u001b[0m\n\u001b[0;32m    619\u001b[0m \u001b[38;5;66;03m# Create the parser.\u001b[39;00m\n\u001b[1;32m--> 620\u001b[0m parser \u001b[38;5;241m=\u001b[39m TextFileReader(filepath_or_buffer, \u001b[38;5;241m*\u001b[39m\u001b[38;5;241m*\u001b[39mkwds)\n\u001b[0;32m    622\u001b[0m \u001b[38;5;28;01mif\u001b[39;00m chunksize \u001b[38;5;129;01mor\u001b[39;00m iterator:\n",
      "File \u001b[1;32m~\\anaconda3\\Lib\\site-packages\\pandas\\io\\parsers\\readers.py:1620\u001b[0m, in \u001b[0;36mTextFileReader.__init__\u001b[1;34m(self, f, engine, **kwds)\u001b[0m\n\u001b[0;32m   1619\u001b[0m \u001b[38;5;28mself\u001b[39m\u001b[38;5;241m.\u001b[39mhandles: IOHandles \u001b[38;5;241m|\u001b[39m \u001b[38;5;28;01mNone\u001b[39;00m \u001b[38;5;241m=\u001b[39m \u001b[38;5;28;01mNone\u001b[39;00m\n\u001b[1;32m-> 1620\u001b[0m \u001b[38;5;28mself\u001b[39m\u001b[38;5;241m.\u001b[39m_engine \u001b[38;5;241m=\u001b[39m \u001b[38;5;28mself\u001b[39m\u001b[38;5;241m.\u001b[39m_make_engine(f, \u001b[38;5;28mself\u001b[39m\u001b[38;5;241m.\u001b[39mengine)\n",
      "File \u001b[1;32m~\\anaconda3\\Lib\\site-packages\\pandas\\io\\parsers\\readers.py:1880\u001b[0m, in \u001b[0;36mTextFileReader._make_engine\u001b[1;34m(self, f, engine)\u001b[0m\n\u001b[0;32m   1879\u001b[0m         mode \u001b[38;5;241m+\u001b[39m\u001b[38;5;241m=\u001b[39m \u001b[38;5;124m\"\u001b[39m\u001b[38;5;124mb\u001b[39m\u001b[38;5;124m\"\u001b[39m\n\u001b[1;32m-> 1880\u001b[0m \u001b[38;5;28mself\u001b[39m\u001b[38;5;241m.\u001b[39mhandles \u001b[38;5;241m=\u001b[39m get_handle(\n\u001b[0;32m   1881\u001b[0m     f,\n\u001b[0;32m   1882\u001b[0m     mode,\n\u001b[0;32m   1883\u001b[0m     encoding\u001b[38;5;241m=\u001b[39m\u001b[38;5;28mself\u001b[39m\u001b[38;5;241m.\u001b[39moptions\u001b[38;5;241m.\u001b[39mget(\u001b[38;5;124m\"\u001b[39m\u001b[38;5;124mencoding\u001b[39m\u001b[38;5;124m\"\u001b[39m, \u001b[38;5;28;01mNone\u001b[39;00m),\n\u001b[0;32m   1884\u001b[0m     compression\u001b[38;5;241m=\u001b[39m\u001b[38;5;28mself\u001b[39m\u001b[38;5;241m.\u001b[39moptions\u001b[38;5;241m.\u001b[39mget(\u001b[38;5;124m\"\u001b[39m\u001b[38;5;124mcompression\u001b[39m\u001b[38;5;124m\"\u001b[39m, \u001b[38;5;28;01mNone\u001b[39;00m),\n\u001b[0;32m   1885\u001b[0m     memory_map\u001b[38;5;241m=\u001b[39m\u001b[38;5;28mself\u001b[39m\u001b[38;5;241m.\u001b[39moptions\u001b[38;5;241m.\u001b[39mget(\u001b[38;5;124m\"\u001b[39m\u001b[38;5;124mmemory_map\u001b[39m\u001b[38;5;124m\"\u001b[39m, \u001b[38;5;28;01mFalse\u001b[39;00m),\n\u001b[0;32m   1886\u001b[0m     is_text\u001b[38;5;241m=\u001b[39mis_text,\n\u001b[0;32m   1887\u001b[0m     errors\u001b[38;5;241m=\u001b[39m\u001b[38;5;28mself\u001b[39m\u001b[38;5;241m.\u001b[39moptions\u001b[38;5;241m.\u001b[39mget(\u001b[38;5;124m\"\u001b[39m\u001b[38;5;124mencoding_errors\u001b[39m\u001b[38;5;124m\"\u001b[39m, \u001b[38;5;124m\"\u001b[39m\u001b[38;5;124mstrict\u001b[39m\u001b[38;5;124m\"\u001b[39m),\n\u001b[0;32m   1888\u001b[0m     storage_options\u001b[38;5;241m=\u001b[39m\u001b[38;5;28mself\u001b[39m\u001b[38;5;241m.\u001b[39moptions\u001b[38;5;241m.\u001b[39mget(\u001b[38;5;124m\"\u001b[39m\u001b[38;5;124mstorage_options\u001b[39m\u001b[38;5;124m\"\u001b[39m, \u001b[38;5;28;01mNone\u001b[39;00m),\n\u001b[0;32m   1889\u001b[0m )\n\u001b[0;32m   1890\u001b[0m \u001b[38;5;28;01massert\u001b[39;00m \u001b[38;5;28mself\u001b[39m\u001b[38;5;241m.\u001b[39mhandles \u001b[38;5;129;01mis\u001b[39;00m \u001b[38;5;129;01mnot\u001b[39;00m \u001b[38;5;28;01mNone\u001b[39;00m\n",
      "File \u001b[1;32m~\\anaconda3\\Lib\\site-packages\\pandas\\io\\common.py:873\u001b[0m, in \u001b[0;36mget_handle\u001b[1;34m(path_or_buf, mode, encoding, compression, memory_map, is_text, errors, storage_options)\u001b[0m\n\u001b[0;32m    871\u001b[0m \u001b[38;5;28;01mif\u001b[39;00m ioargs\u001b[38;5;241m.\u001b[39mencoding \u001b[38;5;129;01mand\u001b[39;00m \u001b[38;5;124m\"\u001b[39m\u001b[38;5;124mb\u001b[39m\u001b[38;5;124m\"\u001b[39m \u001b[38;5;129;01mnot\u001b[39;00m \u001b[38;5;129;01min\u001b[39;00m ioargs\u001b[38;5;241m.\u001b[39mmode:\n\u001b[0;32m    872\u001b[0m     \u001b[38;5;66;03m# Encoding\u001b[39;00m\n\u001b[1;32m--> 873\u001b[0m     handle \u001b[38;5;241m=\u001b[39m \u001b[38;5;28mopen\u001b[39m(\n\u001b[0;32m    874\u001b[0m         handle,\n\u001b[0;32m    875\u001b[0m         ioargs\u001b[38;5;241m.\u001b[39mmode,\n\u001b[0;32m    876\u001b[0m         encoding\u001b[38;5;241m=\u001b[39mioargs\u001b[38;5;241m.\u001b[39mencoding,\n\u001b[0;32m    877\u001b[0m         errors\u001b[38;5;241m=\u001b[39merrors,\n\u001b[0;32m    878\u001b[0m         newline\u001b[38;5;241m=\u001b[39m\u001b[38;5;124m\"\u001b[39m\u001b[38;5;124m\"\u001b[39m,\n\u001b[0;32m    879\u001b[0m     )\n\u001b[0;32m    880\u001b[0m \u001b[38;5;28;01melse\u001b[39;00m:\n\u001b[0;32m    881\u001b[0m     \u001b[38;5;66;03m# Binary mode\u001b[39;00m\n",
      "\u001b[1;31mOSError\u001b[0m: [Errno 22] Invalid argument: '/https://code.s3.yandex.net/datasets/logs_exp.csv'",
      "\nDuring handling of the above exception, another exception occurred:\n",
      "\u001b[1;31mFileNotFoundError\u001b[0m                         Traceback (most recent call last)",
      "Cell \u001b[1;32mIn[4], line 4\u001b[0m\n\u001b[0;32m      2\u001b[0m     data \u001b[38;5;241m=\u001b[39m pd\u001b[38;5;241m.\u001b[39mread_csv(\u001b[38;5;124m'\u001b[39m\u001b[38;5;124m/https://code.s3.yandex.net/datasets/logs_exp.csv\u001b[39m\u001b[38;5;124m'\u001b[39m, sep\u001b[38;5;241m=\u001b[39m\u001b[38;5;124m'\u001b[39m\u001b[38;5;130;01m\\t\u001b[39;00m\u001b[38;5;124m'\u001b[39m)\n\u001b[0;32m      3\u001b[0m \u001b[38;5;28;01mexcept\u001b[39;00m:    \n\u001b[1;32m----> 4\u001b[0m     data \u001b[38;5;241m=\u001b[39m pd\u001b[38;5;241m.\u001b[39mread_csv(\u001b[38;5;124m'\u001b[39m\u001b[38;5;124m/datasets/logs_exp.csv\u001b[39m\u001b[38;5;124m'\u001b[39m, sep\u001b[38;5;241m=\u001b[39m\u001b[38;5;124m'\u001b[39m\u001b[38;5;130;01m\\t\u001b[39;00m\u001b[38;5;124m'\u001b[39m)\n",
      "File \u001b[1;32m~\\anaconda3\\Lib\\site-packages\\pandas\\io\\parsers\\readers.py:1026\u001b[0m, in \u001b[0;36mread_csv\u001b[1;34m(filepath_or_buffer, sep, delimiter, header, names, index_col, usecols, dtype, engine, converters, true_values, false_values, skipinitialspace, skiprows, skipfooter, nrows, na_values, keep_default_na, na_filter, verbose, skip_blank_lines, parse_dates, infer_datetime_format, keep_date_col, date_parser, date_format, dayfirst, cache_dates, iterator, chunksize, compression, thousands, decimal, lineterminator, quotechar, quoting, doublequote, escapechar, comment, encoding, encoding_errors, dialect, on_bad_lines, delim_whitespace, low_memory, memory_map, float_precision, storage_options, dtype_backend)\u001b[0m\n\u001b[0;32m   1013\u001b[0m kwds_defaults \u001b[38;5;241m=\u001b[39m _refine_defaults_read(\n\u001b[0;32m   1014\u001b[0m     dialect,\n\u001b[0;32m   1015\u001b[0m     delimiter,\n\u001b[1;32m   (...)\u001b[0m\n\u001b[0;32m   1022\u001b[0m     dtype_backend\u001b[38;5;241m=\u001b[39mdtype_backend,\n\u001b[0;32m   1023\u001b[0m )\n\u001b[0;32m   1024\u001b[0m kwds\u001b[38;5;241m.\u001b[39mupdate(kwds_defaults)\n\u001b[1;32m-> 1026\u001b[0m \u001b[38;5;28;01mreturn\u001b[39;00m _read(filepath_or_buffer, kwds)\n",
      "File \u001b[1;32m~\\anaconda3\\Lib\\site-packages\\pandas\\io\\parsers\\readers.py:620\u001b[0m, in \u001b[0;36m_read\u001b[1;34m(filepath_or_buffer, kwds)\u001b[0m\n\u001b[0;32m    617\u001b[0m _validate_names(kwds\u001b[38;5;241m.\u001b[39mget(\u001b[38;5;124m\"\u001b[39m\u001b[38;5;124mnames\u001b[39m\u001b[38;5;124m\"\u001b[39m, \u001b[38;5;28;01mNone\u001b[39;00m))\n\u001b[0;32m    619\u001b[0m \u001b[38;5;66;03m# Create the parser.\u001b[39;00m\n\u001b[1;32m--> 620\u001b[0m parser \u001b[38;5;241m=\u001b[39m TextFileReader(filepath_or_buffer, \u001b[38;5;241m*\u001b[39m\u001b[38;5;241m*\u001b[39mkwds)\n\u001b[0;32m    622\u001b[0m \u001b[38;5;28;01mif\u001b[39;00m chunksize \u001b[38;5;129;01mor\u001b[39;00m iterator:\n\u001b[0;32m    623\u001b[0m     \u001b[38;5;28;01mreturn\u001b[39;00m parser\n",
      "File \u001b[1;32m~\\anaconda3\\Lib\\site-packages\\pandas\\io\\parsers\\readers.py:1620\u001b[0m, in \u001b[0;36mTextFileReader.__init__\u001b[1;34m(self, f, engine, **kwds)\u001b[0m\n\u001b[0;32m   1617\u001b[0m     \u001b[38;5;28mself\u001b[39m\u001b[38;5;241m.\u001b[39moptions[\u001b[38;5;124m\"\u001b[39m\u001b[38;5;124mhas_index_names\u001b[39m\u001b[38;5;124m\"\u001b[39m] \u001b[38;5;241m=\u001b[39m kwds[\u001b[38;5;124m\"\u001b[39m\u001b[38;5;124mhas_index_names\u001b[39m\u001b[38;5;124m\"\u001b[39m]\n\u001b[0;32m   1619\u001b[0m \u001b[38;5;28mself\u001b[39m\u001b[38;5;241m.\u001b[39mhandles: IOHandles \u001b[38;5;241m|\u001b[39m \u001b[38;5;28;01mNone\u001b[39;00m \u001b[38;5;241m=\u001b[39m \u001b[38;5;28;01mNone\u001b[39;00m\n\u001b[1;32m-> 1620\u001b[0m \u001b[38;5;28mself\u001b[39m\u001b[38;5;241m.\u001b[39m_engine \u001b[38;5;241m=\u001b[39m \u001b[38;5;28mself\u001b[39m\u001b[38;5;241m.\u001b[39m_make_engine(f, \u001b[38;5;28mself\u001b[39m\u001b[38;5;241m.\u001b[39mengine)\n",
      "File \u001b[1;32m~\\anaconda3\\Lib\\site-packages\\pandas\\io\\parsers\\readers.py:1880\u001b[0m, in \u001b[0;36mTextFileReader._make_engine\u001b[1;34m(self, f, engine)\u001b[0m\n\u001b[0;32m   1878\u001b[0m     \u001b[38;5;28;01mif\u001b[39;00m \u001b[38;5;124m\"\u001b[39m\u001b[38;5;124mb\u001b[39m\u001b[38;5;124m\"\u001b[39m \u001b[38;5;129;01mnot\u001b[39;00m \u001b[38;5;129;01min\u001b[39;00m mode:\n\u001b[0;32m   1879\u001b[0m         mode \u001b[38;5;241m+\u001b[39m\u001b[38;5;241m=\u001b[39m \u001b[38;5;124m\"\u001b[39m\u001b[38;5;124mb\u001b[39m\u001b[38;5;124m\"\u001b[39m\n\u001b[1;32m-> 1880\u001b[0m \u001b[38;5;28mself\u001b[39m\u001b[38;5;241m.\u001b[39mhandles \u001b[38;5;241m=\u001b[39m get_handle(\n\u001b[0;32m   1881\u001b[0m     f,\n\u001b[0;32m   1882\u001b[0m     mode,\n\u001b[0;32m   1883\u001b[0m     encoding\u001b[38;5;241m=\u001b[39m\u001b[38;5;28mself\u001b[39m\u001b[38;5;241m.\u001b[39moptions\u001b[38;5;241m.\u001b[39mget(\u001b[38;5;124m\"\u001b[39m\u001b[38;5;124mencoding\u001b[39m\u001b[38;5;124m\"\u001b[39m, \u001b[38;5;28;01mNone\u001b[39;00m),\n\u001b[0;32m   1884\u001b[0m     compression\u001b[38;5;241m=\u001b[39m\u001b[38;5;28mself\u001b[39m\u001b[38;5;241m.\u001b[39moptions\u001b[38;5;241m.\u001b[39mget(\u001b[38;5;124m\"\u001b[39m\u001b[38;5;124mcompression\u001b[39m\u001b[38;5;124m\"\u001b[39m, \u001b[38;5;28;01mNone\u001b[39;00m),\n\u001b[0;32m   1885\u001b[0m     memory_map\u001b[38;5;241m=\u001b[39m\u001b[38;5;28mself\u001b[39m\u001b[38;5;241m.\u001b[39moptions\u001b[38;5;241m.\u001b[39mget(\u001b[38;5;124m\"\u001b[39m\u001b[38;5;124mmemory_map\u001b[39m\u001b[38;5;124m\"\u001b[39m, \u001b[38;5;28;01mFalse\u001b[39;00m),\n\u001b[0;32m   1886\u001b[0m     is_text\u001b[38;5;241m=\u001b[39mis_text,\n\u001b[0;32m   1887\u001b[0m     errors\u001b[38;5;241m=\u001b[39m\u001b[38;5;28mself\u001b[39m\u001b[38;5;241m.\u001b[39moptions\u001b[38;5;241m.\u001b[39mget(\u001b[38;5;124m\"\u001b[39m\u001b[38;5;124mencoding_errors\u001b[39m\u001b[38;5;124m\"\u001b[39m, \u001b[38;5;124m\"\u001b[39m\u001b[38;5;124mstrict\u001b[39m\u001b[38;5;124m\"\u001b[39m),\n\u001b[0;32m   1888\u001b[0m     storage_options\u001b[38;5;241m=\u001b[39m\u001b[38;5;28mself\u001b[39m\u001b[38;5;241m.\u001b[39moptions\u001b[38;5;241m.\u001b[39mget(\u001b[38;5;124m\"\u001b[39m\u001b[38;5;124mstorage_options\u001b[39m\u001b[38;5;124m\"\u001b[39m, \u001b[38;5;28;01mNone\u001b[39;00m),\n\u001b[0;32m   1889\u001b[0m )\n\u001b[0;32m   1890\u001b[0m \u001b[38;5;28;01massert\u001b[39;00m \u001b[38;5;28mself\u001b[39m\u001b[38;5;241m.\u001b[39mhandles \u001b[38;5;129;01mis\u001b[39;00m \u001b[38;5;129;01mnot\u001b[39;00m \u001b[38;5;28;01mNone\u001b[39;00m\n\u001b[0;32m   1891\u001b[0m f \u001b[38;5;241m=\u001b[39m \u001b[38;5;28mself\u001b[39m\u001b[38;5;241m.\u001b[39mhandles\u001b[38;5;241m.\u001b[39mhandle\n",
      "File \u001b[1;32m~\\anaconda3\\Lib\\site-packages\\pandas\\io\\common.py:873\u001b[0m, in \u001b[0;36mget_handle\u001b[1;34m(path_or_buf, mode, encoding, compression, memory_map, is_text, errors, storage_options)\u001b[0m\n\u001b[0;32m    868\u001b[0m \u001b[38;5;28;01melif\u001b[39;00m \u001b[38;5;28misinstance\u001b[39m(handle, \u001b[38;5;28mstr\u001b[39m):\n\u001b[0;32m    869\u001b[0m     \u001b[38;5;66;03m# Check whether the filename is to be opened in binary mode.\u001b[39;00m\n\u001b[0;32m    870\u001b[0m     \u001b[38;5;66;03m# Binary mode does not support 'encoding' and 'newline'.\u001b[39;00m\n\u001b[0;32m    871\u001b[0m     \u001b[38;5;28;01mif\u001b[39;00m ioargs\u001b[38;5;241m.\u001b[39mencoding \u001b[38;5;129;01mand\u001b[39;00m \u001b[38;5;124m\"\u001b[39m\u001b[38;5;124mb\u001b[39m\u001b[38;5;124m\"\u001b[39m \u001b[38;5;129;01mnot\u001b[39;00m \u001b[38;5;129;01min\u001b[39;00m ioargs\u001b[38;5;241m.\u001b[39mmode:\n\u001b[0;32m    872\u001b[0m         \u001b[38;5;66;03m# Encoding\u001b[39;00m\n\u001b[1;32m--> 873\u001b[0m         handle \u001b[38;5;241m=\u001b[39m \u001b[38;5;28mopen\u001b[39m(\n\u001b[0;32m    874\u001b[0m             handle,\n\u001b[0;32m    875\u001b[0m             ioargs\u001b[38;5;241m.\u001b[39mmode,\n\u001b[0;32m    876\u001b[0m             encoding\u001b[38;5;241m=\u001b[39mioargs\u001b[38;5;241m.\u001b[39mencoding,\n\u001b[0;32m    877\u001b[0m             errors\u001b[38;5;241m=\u001b[39merrors,\n\u001b[0;32m    878\u001b[0m             newline\u001b[38;5;241m=\u001b[39m\u001b[38;5;124m\"\u001b[39m\u001b[38;5;124m\"\u001b[39m,\n\u001b[0;32m    879\u001b[0m         )\n\u001b[0;32m    880\u001b[0m     \u001b[38;5;28;01melse\u001b[39;00m:\n\u001b[0;32m    881\u001b[0m         \u001b[38;5;66;03m# Binary mode\u001b[39;00m\n\u001b[0;32m    882\u001b[0m         handle \u001b[38;5;241m=\u001b[39m \u001b[38;5;28mopen\u001b[39m(handle, ioargs\u001b[38;5;241m.\u001b[39mmode)\n",
      "\u001b[1;31mFileNotFoundError\u001b[0m: [Errno 2] No such file or directory: '/datasets/logs_exp.csv'"
     ]
    }
   ],
   "source": [
    "try:\n",
    "    data = pd.read_csv('/https://code.s3.yandex.net/datasets/logs_exp.csv', sep='\\t')\n",
    "except:    \n",
    "    data = pd.read_csv('/datasets/logs_exp.csv', sep='\\t')"
   ]
  },
  {
   "cell_type": "code",
   "execution_count": null,
   "metadata": {},
   "outputs": [],
   "source": [
    "# Функция для просмотра основной информации о датафрейме\n",
    "def preview(data):\n",
    "    display(data.head())\n",
    "    \n",
    "    display(data.info())\n",
    "    \n",
    "    print('Всего строк:', data.shape[0],', столбцов:', data.shape[1])\n",
    "    \n",
    "    'Дубликатов:', data.duplicated().sum()"
   ]
  },
  {
   "cell_type": "code",
   "execution_count": null,
   "metadata": {},
   "outputs": [],
   "source": [
    "preview(data)"
   ]
  },
  {
   "cell_type": "markdown",
   "metadata": {},
   "source": [
    "<div class=\"alert alert-block alert-info\">\n",
    "Вывод:\n",
    "    На первый взгляд, данные полные, не содержат пропусков. Столбцы стоит переименовать для удобства восприятия и информативности. Также видим, что столбец `EventTimestamp` содержит дату и время события - его переведем в формат дата-время. Дополнительно проверим на наличие дублирующихся строк. \n",
    "</div>"
   ]
  },
  {
   "cell_type": "markdown",
   "metadata": {},
   "source": [
    "## Предобработка данных"
   ]
  },
  {
   "cell_type": "code",
   "execution_count": null,
   "metadata": {},
   "outputs": [],
   "source": [
    "# Поменяем названия столбцов для удобства дальнейшей работы\n",
    "data.rename(columns={'EventName': 'event', 'DeviceIDHash':'user_id', 'EventTimestamp': 'timestamp', 'ExpId': 'group'}, inplace=True)\n",
    "\n",
    "# Изменим тип данных в колонке 'timestamp'\n",
    "data['timestamp'] = pd.to_datetime(data.timestamp, unit='s')\n",
    "\n",
    "# Добавим столбец даты \n",
    "data['date'] = data['timestamp'].dt.date\n",
    "data['date'] = pd.to_datetime(data['date'])\n",
    "\n",
    "data.head()"
   ]
  },
  {
   "cell_type": "code",
   "execution_count": null,
   "metadata": {},
   "outputs": [],
   "source": [
    "# Проверим на дубликаты\n",
    "print('Всего дубликатов:', data.duplicated(['event', 'user_id', 'timestamp', 'group', 'date']).sum())\n",
    "# Удалим дублирующие записи\n",
    "data = data.drop_duplicates()\n",
    "print('Дубликатов после обработки:', data.duplicated(['event', 'user_id', 'timestamp', 'group', 'date']).sum())"
   ]
  },
  {
   "cell_type": "code",
   "execution_count": null,
   "metadata": {},
   "outputs": [],
   "source": [
    "data.groupby('user_id')['group'].nunique().value_counts()"
   ]
  },
  {
   "cell_type": "markdown",
   "metadata": {},
   "source": [
    "    У каждого пользователя только одна группа - и это замечательно!  \n"
   ]
  },
  {
   "cell_type": "code",
   "execution_count": null,
   "metadata": {},
   "outputs": [],
   "source": [
    "data.info()\n",
    "print('Контрольная дата, начало периода:', data['date']. min())\n",
    "print('Контрольная дата, конец периода:', data['date']. max())"
   ]
  },
  {
   "cell_type": "markdown",
   "metadata": {},
   "source": [
    "**Вывод:**\n",
    "\n",
    "* В представленном для анализа файле - записи о действиях пользователя и событиях за период с 25.07.2019 по 07.08.2019\n",
    "* Датафрейм содержит 243713 записей.\n",
    "* Данные загружены корректно.\n",
    "* Таблицы не содержат пропусков.\n",
    "* В датафрейме обнаружены и удалены 413 дублирующих записей.\n",
    "* Для удобства дальнейшей работы названия столбцов изменены:\n",
    "    - `event` — название события;\n",
    "    - `user_id` — уникальный идентификатор пользователя;\n",
    "    - `timestamp` — время события;\n",
    "    - `group` — номер эксперимента: 246 и 247 — контрольные группы, а 248 — экспериментальная.\n",
    "* Добавлен столбец `date`, содержащий дату события.\n",
    "* Данные, содержащие дату/время, приведены к формату datetime.\n",
    "* Типы данных соответствуют сохранённым в них значениям.\n",
    "* Распределение пользователей по тестовым группам корректно."
   ]
  },
  {
   "cell_type": "markdown",
   "metadata": {},
   "source": [
    "## Изучение и проверка данных\n",
    "### Найдем среднее количество событий на пользователя"
   ]
  },
  {
   "cell_type": "code",
   "execution_count": null,
   "metadata": {},
   "outputs": [],
   "source": [
    "# Найдем количество событий в логе\n",
    "print('Всего событий:', len(data['event']))\n",
    "\n",
    "# Найдем количество пользователей в логе\n",
    "print('Уникальных пользователей:', len(data['user_id'].unique()))\n",
    "\n",
    "# Найдем, сколько в среднем событий приходится на пользователя\n",
    "print('Среднее количество событий на одного пользователя:', round(data.groupby('user_id')['event'].count().mean(), 2))"
   ]
  },
  {
   "cell_type": "code",
   "execution_count": null,
   "metadata": {},
   "outputs": [],
   "source": [
    "# Проверим, насколько близко среднее значение к медианному\n",
    "data.groupby('user_id')['event'].count().describe()"
   ]
  },
  {
   "cell_type": "markdown",
   "metadata": {},
   "source": [
    "Медианное значение составляет 20 событий на пользователя. Присутствует максимальное значение в 2307 событий. Вероятно, это аномалии, в таком случае, в качестве показателя количества событий на пользователя лучше использовать медианное значение."
   ]
  },
  {
   "cell_type": "markdown",
   "metadata": {},
   "source": [
    "### Изучим изменение количества данных\n",
    "Данные представлены за период с 27 июля по 07 августа 2019 г. Построим столбчатую диаграмму, которая отобразит количество событий в зависимости от времени в разрезе групп. "
   ]
  },
  {
   "cell_type": "code",
   "execution_count": null,
   "metadata": {},
   "outputs": [],
   "source": [
    "data['date'] = data['timestamp'].dt.date\n",
    "\n",
    "# Создадим сводную таблицу, посчитаем количество событий в каждой группе за каждый день исследования\n",
    "events_by_dates = data.pivot_table(index='date', \n",
    "                  columns ='group', \n",
    "                  values='event', aggfunc='count')\n",
    "\n",
    "# Построим столбчатую диаграмму\n",
    "events_by_dates.plot(kind='bar', figsize=(10, 7), grid=True)\n",
    "plt.title('Распределение событий по датам в группах')\n",
    "plt.xlabel('Дата')\n",
    "plt.ylabel('Количество событий')\n",
    "plt.xticks(rotation=90)\n",
    "plt.show()"
   ]
  },
  {
   "cell_type": "code",
   "execution_count": null,
   "metadata": {},
   "outputs": [],
   "source": [
    "data['date'] = pd.to_datetime(data['date'])"
   ]
  },
  {
   "cell_type": "markdown",
   "metadata": {},
   "source": [
    "Становится очевидным, что события распределены во времени неравномерно. Слишком мало данных за период с 25 по 31 июля. Значит, для исследования мы возьмем данные с 01 по 07 августа. \n",
    "\n",
    "Отбросим неактуальные данные. Узнаем, много ли событий и пользователей мы потеряли. "
   ]
  },
  {
   "cell_type": "code",
   "execution_count": null,
   "metadata": {},
   "outputs": [],
   "source": [
    "data_filtered = data.query('date >= \"2019-08-01\"')\n",
    "print(f'Всего актуальных записей: {len(data_filtered)}')\n",
    "print(f'Потеряно информации событиях: {1 - (len(data_filtered) / len(data)):.2%}')\n",
    "print(f'Потеряно информации о пользователях: {1- (len(data_filtered.user_id.unique()) / len(data.user_id.unique())):.2%}')"
   ]
  },
  {
   "cell_type": "markdown",
   "metadata": {},
   "source": [
    "Проверим, что в нашем исследовании остались пользователи из всех трёх экспериментальных групп."
   ]
  },
  {
   "cell_type": "code",
   "execution_count": null,
   "metadata": {},
   "outputs": [],
   "source": [
    "data_filtered.groupby('group')['user_id'].nunique()"
   ]
  },
  {
   "cell_type": "markdown",
   "metadata": {},
   "source": [
    "**Вывод:**\n",
    "* В исходном датафрейме 243 713 событий и 7 551 уникальный пользователь.\n",
    "* Среднее количество событий на одного пользователя - 32.28, но учитывая, что в данных присутствуют выбросы, корректней ориентироваться на медианное значение в 20 событий на пользователя.\n",
    "* События распределены по дням исследования неравномерно. За первую неделю исследования с 25 по 31 июля 2019 года данных слишком мало. Для дальнейшего анализа мы используем данные с 01 по 07 августа, потеряв при этом около 1% информации о событиях и данные о 0,23% пользователей. \n",
    "* Пользователи всех трех экспериментальных групп присутсвуют в оставшихся для исследования данных."
   ]
  },
  {
   "cell_type": "markdown",
   "metadata": {},
   "source": [
    "## Изучим воронку событий"
   ]
  },
  {
   "cell_type": "code",
   "execution_count": null,
   "metadata": {},
   "outputs": [],
   "source": [
    "# Посмотрим, какие события есть в логах и как часто они встречаются\n",
    "data_filtered['event'].value_counts()"
   ]
  },
  {
   "cell_type": "code",
   "execution_count": null,
   "metadata": {
    "scrolled": true
   },
   "outputs": [],
   "source": [
    "# Соберем в таблицу частоту событий и количество пользователей, которые их совершали\n",
    "event_funnel = data_filtered.groupby('event').agg({'event': 'count', 'user_id':'nunique'}) \\\n",
    "               .rename(columns={'event': 'count_events', 'user_id': 'count_users'}) \\\n",
    "               .sort_values(by='count_events', ascending=False)\n",
    "                                                  \n",
    "# Посчитаем долю пользователей, которые хоть раз совершали событие.\n",
    "event_funnel['share'] = round((event_funnel['count_users'] / data_filtered['user_id'].nunique() * 100), 2)\n",
    "event_funnel"
   ]
  },
  {
   "cell_type": "markdown",
   "metadata": {},
   "source": [
    "    Видимо, часть пользователей попадает на страницу каталога, минуя главную страницу, через рассылку или, например, из пуш-уведомлений.\n"
   ]
  },
  {
   "cell_type": "code",
   "execution_count": null,
   "metadata": {},
   "outputs": [],
   "source": [
    "event_funnel['share'].plot(kind='bar', figsize=(10, 7))\n",
    "plt.title('Доля пользователей, совершивших событие')\n",
    "plt.xlabel('Событие')\n",
    "plt.ylabel('Доля пользователей')\n",
    "plt.xticks(rotation=45)\n",
    "plt.show()"
   ]
  },
  {
   "cell_type": "markdown",
   "metadata": {},
   "source": [
    "Пользователи совершают следующие события:\n",
    "* MainScreenAppear - просмотр главной страницы\n",
    "* OffersScreenAppear - просмотр страницы предложений\n",
    "* CartScreenAppear - просмотр корзины\n",
    "* PaymentScreenSuccessful - переход на страницу успешной оплаты\n",
    "* Tutorial - просмотр обучающей информации\n",
    "\n",
    "На главную страницу приложения попадает 98,8% пользователей. Открывают страницу с предложениями 61% пользователей. В корзину переходит 50% пользователей. На страницу оплаты - 47%. И только 11% просматривают обучающую страницу. Вероятно, просмотр обучающей информации не обязательный этап маршрута пользователя. Зато первые четыре этапа составляют последовательную цепочку движения пользователя. \n",
    "\n",
    "По воронке событий посчитаем, какая доля пользователей проходит на следующий шаг воронки (от числа пользователей на предыдущем). "
   ]
  },
  {
   "cell_type": "code",
   "execution_count": null,
   "metadata": {
    "scrolled": true
   },
   "outputs": [],
   "source": [
    "# Добавим в таблицу столбец с количеством пользователей на предыдущем шаге\n",
    "event_funnel['shifted'] = event_funnel['count_users'].shift(1)\n",
    "# Рассчитаем долю пользователей, перешедших на следующий шаг воронки от предыдущего шага\n",
    "event_funnel['parth_of_previous'] = round((event_funnel['count_users'] / event_funnel['shifted'] * 100), 2)\n",
    "# Рассчитаем долю пользователей, перешедших на следующий шаг от общего числа пользователей\n",
    "event_funnel['parth_of_all'] = round((event_funnel['count_users'] / event_funnel['count_users'][0] * 100), 2)\n",
    "\n",
    "event_funnel"
   ]
  },
  {
   "cell_type": "markdown",
   "metadata": {},
   "source": [
    "**Вывод:**\n",
    "Воронка событий состоит из следующих этапов:\n",
    "* Просмотр главной страницы - совершает 98% пользователей\n",
    "* Просмотр страницы предложений - сюда попадает 62% пользователей с предыдущего этапа\n",
    "* Просмотр корзины - переход на эту страницу совершают 81% пользователей\n",
    "* Переход на страницу успешной оплаты - этот шаг совершает 95% клиентов из предыдущего шага.\n",
    "\n",
    "Таком образом, наибольшая потеря пользователей происходит на этапе перехода с главной страницы на страницу предложений. Необходимо передать эту информацию, и проверить возможные ошибки, с которыми могут сталкиваться клиенты. Отметим, что с главной страницы приложения до страницы успешной оплаты доходит 48% пользователей, что является значительным результатом."
   ]
  },
  {
   "cell_type": "markdown",
   "metadata": {},
   "source": [
    "## Изучим результаты эксперимента"
   ]
  },
  {
   "cell_type": "code",
   "execution_count": null,
   "metadata": {},
   "outputs": [],
   "source": [
    "# Проверим, сколько пользователей в каждой экспериментальной группе\n",
    "count_users_in_group = data_filtered.groupby('group')['user_id'].nunique()\n",
    "count_users_in_group['246+247'] = count_users_in_group[246] + count_users_in_group[247]\n",
    "count_users_in_group.to_frame()"
   ]
  },
  {
   "cell_type": "markdown",
   "metadata": {},
   "source": [
    "Пользователи достаточно равномерно разделены на следующие группы:\n",
    "* 246 контрольная: 2484 пользователя\n",
    "* 247 контрольная: 2513 пользователей\n",
    "* 248 экспериментальная: 2537 пользователей\n",
    "* всего в контрольных группах: 4997 пользователей\n",
    "\n",
    "Убедимся, что все пользователи каждой группы совершали одни и те же события"
   ]
  },
  {
   "cell_type": "code",
   "execution_count": null,
   "metadata": {},
   "outputs": [],
   "source": [
    "# Подсчитаем, какое количество пользователей в каждой группе совершили каждое событие\n",
    "# Исключим событие \"Просмотр обучающей информации\"\n",
    "group_event = data_filtered.query('event != \"Tutorial\"').pivot_table(index='event', columns='group', values='user_id', aggfunc='nunique')\\\n",
    "              .sort_values(by=246, ascending=False)\n",
    "\n",
    "group_event"
   ]
  },
  {
   "cell_type": "code",
   "execution_count": null,
   "metadata": {},
   "outputs": [],
   "source": [
    "group_event.plot(kind='bar', figsize=(10, 7), grid=True)\n",
    "plt.title('Пользователи, совершившие событие')\n",
    "plt.xlabel('Событие')\n",
    "plt.ylabel('Количество пользователей')\n",
    "plt.xticks(rotation=45)\n",
    "plt.show()"
   ]
  },
  {
   "cell_type": "markdown",
   "metadata": {},
   "source": [
    "### Найдем долю пользователей, совершивших каждое событие в каждой группе"
   ]
  },
  {
   "cell_type": "code",
   "execution_count": null,
   "metadata": {
    "scrolled": true
   },
   "outputs": [],
   "source": [
    "# Сформируем таблицу с количеством пользователей по каждому событию\n",
    "testing_set = data_filtered.query('event != \"Tutorial\"')\\\n",
    "    .pivot_table(index='event', columns='group', values='user_id', aggfunc='nunique')\\\n",
    "    .sort_values(by=246, ascending=False).reset_index()\n",
    "\n",
    "# Добавим столбец суммарных показателей для групп 246 и 247\n",
    "testing_set['246+247'] = testing_set[246] + testing_set[247]\n",
    "\n",
    "# Добавим столбец с долей пользователей группы 246, по каждому событию\n",
    "testing_set['share_246'] = testing_set[246] / count_users_in_group[246]\n",
    "# Добавим столбец с долей пользователей группы 247, по каждому событию\n",
    "testing_set['share_247'] = testing_set[247] / count_users_in_group[247]\n",
    "# Добавим столбец с долей пользователей группы 248, по каждому событию\n",
    "testing_set['share_248'] = testing_set[248] / count_users_in_group[248]\n",
    "# Добавим столбец с долей пользователей группы 247, по каждому событию\n",
    "testing_set['share_246+247'] = testing_set['246+247'] / count_users_in_group['246+247']\n",
    "\n",
    "testing_set"
   ]
  },
  {
   "cell_type": "code",
   "execution_count": null,
   "metadata": {},
   "outputs": [],
   "source": [
    "from plotly import graph_objects as go\n",
    "\n",
    "\n",
    "fig = go.Figure()\n",
    "\n",
    "fig.add_trace(go.Funnel(\n",
    "    name = 'Группа 246',\n",
    "    y = testing_set['event'],\n",
    "    x = testing_set[246],\n",
    "    textinfo = \"value+percent initial\"))\n",
    "\n",
    "fig.add_trace(go.Funnel(\n",
    "    name = 'Группа 247',\n",
    "    orientation = \"h\",\n",
    "    y = testing_set['event'],\n",
    "    x = testing_set[247],\n",
    "    textposition = \"inside\",\n",
    "    textinfo = \"value+percent initial\"))\n",
    "\n",
    "fig.add_trace(go.Funnel(\n",
    "    name = 'Группа 248',\n",
    "    orientation = \"h\",\n",
    "    y = testing_set['event'],\n",
    "    x = testing_set[248],\n",
    "    textposition = \"inside\",\n",
    "    textinfo = \"value+percent initial\"))\n",
    "fig.update_layout(title='Воронка событий по пользователям', title_x = 0.5)\n",
    "fig.show()   "
   ]
  },
  {
   "cell_type": "markdown",
   "metadata": {},
   "source": [
    "Доли пользователей, совершивших событие в каждой группе близки, значит распределение событий между экспериментальными группами близко к равномерному, что свидетельствует о корректном разделении данных на группы."
   ]
  },
  {
   "cell_type": "markdown",
   "metadata": {},
   "source": [
    "### Выполним А/А-тест"
   ]
  },
  {
   "cell_type": "markdown",
   "metadata": {},
   "source": [
    "Функция для определения статистической значимости различий между группами\n",
    "\n",
    "* group_number - номера тестируемых групп\n",
    "* event - событие, на уровне которого проверяется равенство долей\n",
    "* alpha - критический уровень статистической значимости"
   ]
  },
  {
   "cell_type": "code",
   "execution_count": null,
   "metadata": {},
   "outputs": [],
   "source": [
    "# Функция test для определения стат.значимости различий между группами\n",
    "# Принимает на вход датафрейм, номера групп и заданный уровень стат.значимости альфа\n",
    "\n",
    "def test(df, group_number, alpha):\n",
    "    \n",
    "    # Разбиваем пользователей на группы:\n",
    "    users = [df.query('group == @i')['user_id'].nunique() for i in group_number]\n",
    "    \n",
    "    # Перебираем пары групп по событиям и количеству пользователей:    \n",
    "    for event in df.event.unique():\n",
    "        events = [df.query('group == %d and event == \"%s\"' % (group, event))['user_id'].nunique() for group in group_number]\n",
    "        \n",
    "        # пропорция успехов в первой группе:\n",
    "        p1 = events[0] / users[0] \n",
    "        \n",
    "        # пропорция успехов во второй группе:\n",
    "        p2 = events[1] / users[1] \n",
    "        \n",
    "        # пропорция успехов в комбинированном датасете:\n",
    "        p_combined = sum(events) / sum(users) \n",
    "        \n",
    "        # разница пропорций в датасетах:\n",
    "        difference = p1 - p2 \n",
    "        \n",
    "        # считаем статистику в ст.отклонениях стандартного нормального распределения:\n",
    "        z_value = difference / math.sqrt(p_combined * (1 - p_combined) * (1 / users[0] + 1 / users[1]))\n",
    "        \n",
    "        # задаем стандартное нормальное распределение (среднее 0, ст.отклонение 1):\n",
    "        distr = st.norm(0, 1)  \n",
    "        \n",
    "        p_value = (1 - distr.cdf(abs(z_value))) * 2\n",
    "        \n",
    "        print('Событие:', event)\n",
    "        print('p-значение: {p_value:}'.format(p_value=p_value))\n",
    "        \n",
    "        if p_value < alpha:\n",
    "            print('Отвергаем нулевую гипотезу: между долями есть разница')\n",
    "        else:\n",
    "            print('Не отвергаем нулевую гипотезу: различия статистически не значимы')\n",
    "        print()    "
   ]
  },
  {
   "cell_type": "markdown",
   "metadata": {},
   "source": [
    "У нас есть 2 контрольные группы для А/А-эксперимента, чтобы проверить корректность всех механизмов и расчётов. Выясним, находят ли статистические критерии разницу между выборками 246 и 247. Так как мы считаем, что эти группы идентичны, то установим точность теста в 1%.\n",
    "\n",
    "Выдвинем гипотезы:\n",
    "* Н0 : доли пользователей, совершивших одно и то же событие не отличаются\n",
    "* Н1 : доли пользователей, совершивших одно и то же событие отличаются\n",
    "\n",
    "Возьмем уровень значимости альфа равный 1%"
   ]
  },
  {
   "cell_type": "code",
   "execution_count": null,
   "metadata": {
    "scrolled": true
   },
   "outputs": [],
   "source": [
    "# Событие \"просмотр обучающей информации\" исключим из тестирования, как маловажное\n",
    "data_filtered = data_filtered.query('event != \"Tutorial\"')\n",
    "test(data_filtered, [246, 247], 0.01)"
   ]
  },
  {
   "cell_type": "markdown",
   "metadata": {},
   "source": [
    "**Вывод:**\n",
    "\n",
    "Результаты z-тестов для контрольных групп 246 и 247 не выявили статистически значимых различий между ними."
   ]
  },
  {
   "cell_type": "markdown",
   "metadata": {},
   "source": [
    "###  Выполним А/В-тест\n",
    "Аналогично поступим с группой с изменённым шрифтом. Сравним результаты с каждой из контрольных групп в отдельности по каждому событию. \n",
    "\n",
    "**Проведем z-тест для контрольной группы 246 и экспериментальной группой 248.** Для A/B теста не нужна высокая точность, поэтому выберем уровень статистической значимости равный 5%. \n",
    "\n",
    "Выдвинем гипотезы:\n",
    "\n",
    "* Н0 : доли пользователей, совершивших одно и то же событие не отличаются\n",
    "* Н1 : доли пользователей, совершивших одно и то же событие отличаются\n",
    "\n",
    "Возьмем уровень значимости альфа равный 5%"
   ]
  },
  {
   "cell_type": "code",
   "execution_count": null,
   "metadata": {},
   "outputs": [],
   "source": [
    "test(data_filtered, [246, 248], 0.05)"
   ]
  },
  {
   "cell_type": "markdown",
   "metadata": {},
   "source": [
    "**Вывод:**\n",
    "\n",
    "Результаты z-тестов для контрольной группы 246 и экспериментальной 248 не выявили статистически значимых различий между ними."
   ]
  },
  {
   "cell_type": "markdown",
   "metadata": {},
   "source": [
    "**Проведем z-тест для контрольной группы 247 и экспериментальной группой 248.** Выберем уровень статистической значимости равный 5%. \n",
    "\n",
    "Выдвинем гипотезы:\n",
    "\n",
    "* Н0 : доли пользователей, совершивших одно и то же событие не отличаются\n",
    "* Н1 : доли пользователей, совершивших одно и то же событие отличаются\n",
    "\n",
    "Возьмем уровень значимости альфа равный 5%"
   ]
  },
  {
   "cell_type": "code",
   "execution_count": null,
   "metadata": {
    "scrolled": true
   },
   "outputs": [],
   "source": [
    "test(data_filtered, [247, 248], 0.05)"
   ]
  },
  {
   "cell_type": "markdown",
   "metadata": {},
   "source": [
    "**Вывод:**\n",
    "\n",
    "Результаты z-тестов для контрольной группы 247 и экспериментальной 248 не выявили статистически значимых различий между ними.\n",
    "\n",
    "**Проведем z-тест для объединенной контрольной группы и экспериментальной группой 248.**\n",
    "\n",
    "Выдвинем гипотезы:\n",
    "\n",
    "* Н0 : доли пользователей, совершивших одно и то же событие не отличаются\n",
    "* Н1 : доли пользователей, совершивших одно и то же событие отличаются\n",
    "\n",
    "Возьмем уровень значимости альфа равный 5%"
   ]
  },
  {
   "cell_type": "code",
   "execution_count": null,
   "metadata": {},
   "outputs": [],
   "source": [
    "# создадим таблицу с объединенными данными групп 246 и 247\n",
    "data_combined = data_filtered.copy()\n",
    "data_combined['group'].replace({247: 246}, inplace=True)\n",
    "data_combined.groupby('group')['user_id'].nunique()"
   ]
  },
  {
   "cell_type": "code",
   "execution_count": null,
   "metadata": {
    "scrolled": true
   },
   "outputs": [],
   "source": [
    "test(data_combined, [246, 248], 0.05)"
   ]
  },
  {
   "cell_type": "markdown",
   "metadata": {},
   "source": [
    "**Вывод:**\n",
    "\n",
    "Результаты z-тестов для объединенной контрольной группы и экспериментальной 248 не выявили статистически значимых различий между ними.\n",
    "\n",
    "Для проверки статистических гипотез мы брали уровень значимости в 0,05. Провели 12 тестов, сравнивая по 4 события в 3 группах. При уровне значимости в 0,1 при проведении в среднем 10% проверок возможно ложное отклонение нулевой гипотезы. Для повышения достоверности результатов мы использовали более низкий уровень значимости. Учитывая, что мы проводили множественные тесты, используя выборки из одного набора данных, присутствует риск увеличения вероятности ошибки первого рода с каждой дополнительной проверкой гипотезы. Мы могли бы скорректировать полученные значения p-value, воспользовавшись методом Бонферрони, уменьшив уровень альфа до 0,05/12=0,00416. Но в нашем случае такой проверки не требуется, так как результаты тестов всех событий всех пар групп выше базового 5% уровня статистической значимости. \n",
    "\n",
    "Таким образом, изменение шрифта в приложении не влияет на поведение пользователей."
   ]
  },
  {
   "cell_type": "markdown",
   "metadata": {},
   "source": [
    "## Общий вывод\n",
    "\n",
    "* Мы анализировали работу мобильного приложения для стартапа по продаже продуктов питания.\n",
    "* Цель исследования заключалась в определении влияния изменения шрифта в приложении на действия пользователей.\n",
    "\n",
    "\n",
    "* Были реализованы следующие действия:\n",
    "\n",
    "* Изучен файл с логами о действиях пользователя и событиях за период с 25.07.2019 по 07.08.2019:\n",
    "    - В исходном датафрейме 243 713 событий и 7 551 уникальный пользователь.\n",
    "    - Пользователи разспределены на 3 группы равномерно.\n",
    "    - Среднее количество событий на одного пользователя - 32.28, но учитывая, что в данных присутствуют выбросы, корректней ориентироваться на медианное значение в 20 событий на пользователя.\n",
    "    - События распределены по дням исследования неравномерно. За первую неделю исследования с 25 по 31 июля 2019 года данных слишком мало. Для дальнейшего исследования мы отсеяли эти данные, оставив для анализа данные с 01 по 07 августа, потеряв при этом около 1% информации о событиях и данные о 0,23% пользователей.\n",
    "    - Пользователи всех трех экспериментальных групп присутсвуют в оставшихся для исследования данных.\n",
    "\n",
    "\n",
    "* Пользователи совершают следующие события:\n",
    "    - MainScreenAppear - просмотр главной страницы\n",
    "    - OffersScreenAppear - просмотр страницы предложений\n",
    "    - CartScreenAppear - просмотр корзины\n",
    "    - PaymentScreenSuccessful - переход на страницу успешной оплаты\n",
    "    - Tutorial - просмотр обучающей информации.\n",
    "    \n",
    "Событие Tutorial не является обязательным этапом пути пользователя.\n",
    "\n",
    "* Воронка событий состоит из следующих этапов:\n",
    "    - Просмотр главной страницы - совершает 98% пользователей\n",
    "    - Просмотр страницы предложений - сюда попадает 62% пользователей с предыдущего этапа\n",
    "    - Просмотр корзины - переход на эту страницу совершают 81% пользователей\n",
    "    - Переход на страницу успешной оплаты - этот шаг совершает 95% клиентов из предыдущего шага.\n",
    "    \n",
    "Наибольшая потеря пользователей происходит на этапе перехода с главной страницы на страницу предложений. Рекомендовано проверить возможные ошибки, с которыми могут сталкиваться клиенты. Также отмечено, что с главной страницы приложения до страницы успешной оплаты доходит 48% пользователей, что является значительным результатом.\n",
    "\n",
    "\n",
    "Пользователи достаточно равномерно разделены на следующие группы:\n",
    "- 246 контрольная: 2484 пользователя\n",
    "- 247 контрольная: 2513 пользователей\n",
    "- 248 экспериментальная: 2537 пользователей\n",
    "\n",
    "Все пользователи каждой группы совершали одни и те же события.\n",
    "Доли пользователей, совершивших событие в каждой группе близки, значит распределение событий между экспериментальными группами близко к равномерному, что свидетельствует о корректном разделении данных на группы.\n",
    "\n",
    "\n",
    "* Для оценки влияния изменений на пользовательские группы была проведена серия А/А тестов на контрольных группах 246 и 247 с уровнем статистической значимости в 1%. В контрольных группах шрифты остались прежними, в эксериментальной - измененными. По результатам этих тестов, статистически значимых различий между двумя контрольными группами не найдено. Это подтверждает корректность распределения пользователей на группы для исследования.\n",
    "\n",
    "\n",
    "* Аналогичным образом была проведена серия А/В-тестов, где контрольные группы сравнивались с экспериментальной по отдельности и затем обе вместе на каждом шаге воронки событий. Были сформированы нулевая и альтернативная гипотезы:\n",
    "* Н0 : доли пользователей, совершивших одно и то же событие не отличаются;\n",
    "* Н1 : доли пользователей, совершивших одно и то же событие отличаются.\n",
    "\n",
    "В результате проведения 12 А/В-тестов, статистически значимых различий между контрольными и экспериментальной группами не выявлено ни на одном этапе, а значит нельзя утверждать, что изменение шрифтов в приложении отразилось на поведении пользователей. "
   ]
  },
  {
   "cell_type": "code",
   "execution_count": null,
   "metadata": {},
   "outputs": [],
   "source": []
  }
 ],
 "metadata": {
  "ExecuteTimeLog": [
   {
    "duration": 1480,
    "start_time": "2024-11-28T07:43:40.292Z"
   },
   {
    "duration": 836,
    "start_time": "2024-11-28T07:44:43.221Z"
   },
   {
    "duration": 206,
    "start_time": "2024-11-28T07:45:28.471Z"
   },
   {
    "duration": 183,
    "start_time": "2024-11-28T07:46:01.735Z"
   },
   {
    "duration": 3,
    "start_time": "2024-11-28T07:46:09.192Z"
   },
   {
    "duration": 82,
    "start_time": "2024-11-28T07:46:19.607Z"
   },
   {
    "duration": 133,
    "start_time": "2024-11-28T07:50:41.408Z"
   },
   {
    "duration": 101,
    "start_time": "2024-11-28T08:04:49.029Z"
   },
   {
    "duration": 10,
    "start_time": "2024-11-28T08:05:01.734Z"
   },
   {
    "duration": 111,
    "start_time": "2024-11-28T08:09:48.990Z"
   },
   {
    "duration": 331,
    "start_time": "2024-11-28T08:09:58.444Z"
   },
   {
    "duration": 353,
    "start_time": "2024-11-28T08:10:14.845Z"
   },
   {
    "duration": 373,
    "start_time": "2024-11-28T08:11:02.031Z"
   },
   {
    "duration": 400,
    "start_time": "2024-11-28T08:11:28.145Z"
   },
   {
    "duration": 370,
    "start_time": "2024-11-28T08:11:55.681Z"
   },
   {
    "duration": 338,
    "start_time": "2024-11-28T08:12:38.484Z"
   },
   {
    "duration": 12,
    "start_time": "2024-11-28T08:15:10.582Z"
   },
   {
    "duration": 21,
    "start_time": "2024-11-28T08:15:30.327Z"
   },
   {
    "duration": 99,
    "start_time": "2024-11-28T08:15:34.742Z"
   },
   {
    "duration": 173,
    "start_time": "2024-11-28T08:15:38.646Z"
   },
   {
    "duration": 103,
    "start_time": "2024-11-28T08:16:30.216Z"
   },
   {
    "duration": 6,
    "start_time": "2024-11-28T08:16:49.272Z"
   },
   {
    "duration": 191,
    "start_time": "2024-11-28T08:16:49.639Z"
   },
   {
    "duration": 3,
    "start_time": "2024-11-28T08:16:50.055Z"
   },
   {
    "duration": 100,
    "start_time": "2024-11-28T08:16:50.439Z"
   },
   {
    "duration": 89,
    "start_time": "2024-11-28T08:16:51.464Z"
   },
   {
    "duration": 36,
    "start_time": "2024-11-28T08:26:39.144Z"
   },
   {
    "duration": 99,
    "start_time": "2024-11-28T08:27:09.176Z"
   },
   {
    "duration": 93,
    "start_time": "2024-11-28T08:27:44.745Z"
   },
   {
    "duration": 190,
    "start_time": "2024-11-28T08:28:29.627Z"
   },
   {
    "duration": 106,
    "start_time": "2024-11-28T08:28:41.259Z"
   },
   {
    "duration": 104,
    "start_time": "2024-11-28T08:29:57.293Z"
   },
   {
    "duration": 101,
    "start_time": "2024-11-28T08:30:01.740Z"
   },
   {
    "duration": 32,
    "start_time": "2024-11-28T08:30:03.388Z"
   },
   {
    "duration": 126,
    "start_time": "2024-11-28T08:30:48.877Z"
   },
   {
    "duration": 23,
    "start_time": "2024-11-28T08:30:49.758Z"
   },
   {
    "duration": 27,
    "start_time": "2024-11-28T08:32:21.200Z"
   },
   {
    "duration": 4,
    "start_time": "2024-11-28T08:43:44.371Z"
   },
   {
    "duration": 10,
    "start_time": "2024-11-28T08:43:53.315Z"
   },
   {
    "duration": 72,
    "start_time": "2024-11-28T08:44:00.899Z"
   },
   {
    "duration": 72,
    "start_time": "2024-11-28T08:47:52.633Z"
   },
   {
    "duration": 91,
    "start_time": "2024-11-28T08:48:48.348Z"
   },
   {
    "duration": 3,
    "start_time": "2024-11-28T08:48:54.283Z"
   },
   {
    "duration": 73,
    "start_time": "2024-11-28T08:49:04.492Z"
   },
   {
    "duration": 9,
    "start_time": "2024-11-28T08:49:15.116Z"
   },
   {
    "duration": 69,
    "start_time": "2024-11-28T08:49:26.076Z"
   },
   {
    "duration": 164,
    "start_time": "2024-11-28T08:50:12.989Z"
   },
   {
    "duration": 208,
    "start_time": "2024-11-28T08:50:51.950Z"
   },
   {
    "duration": 189,
    "start_time": "2024-11-28T08:51:47.887Z"
   },
   {
    "duration": 26,
    "start_time": "2024-11-28T08:51:54.624Z"
   },
   {
    "duration": 6,
    "start_time": "2024-11-28T08:59:56.029Z"
   },
   {
    "duration": 5,
    "start_time": "2024-11-28T09:00:17.198Z"
   },
   {
    "duration": 53,
    "start_time": "2024-11-28T09:00:32.830Z"
   },
   {
    "duration": 47,
    "start_time": "2024-11-28T09:00:54.383Z"
   },
   {
    "duration": 42,
    "start_time": "2024-11-28T09:02:22.545Z"
   },
   {
    "duration": 24,
    "start_time": "2024-11-28T09:02:38.723Z"
   },
   {
    "duration": 132,
    "start_time": "2024-11-28T09:03:48.452Z"
   },
   {
    "duration": 235,
    "start_time": "2024-11-28T09:03:48.823Z"
   },
   {
    "duration": 45,
    "start_time": "2024-11-28T09:03:49.475Z"
   },
   {
    "duration": 38,
    "start_time": "2024-11-28T09:03:50.163Z"
   },
   {
    "duration": 1325,
    "start_time": "2024-11-28T11:48:01.176Z"
   },
   {
    "duration": 650,
    "start_time": "2024-11-28T11:48:02.502Z"
   },
   {
    "duration": 3,
    "start_time": "2024-11-28T11:48:03.154Z"
   },
   {
    "duration": 112,
    "start_time": "2024-11-28T11:48:03.159Z"
   },
   {
    "duration": 121,
    "start_time": "2024-11-28T11:48:04.219Z"
   },
   {
    "duration": 205,
    "start_time": "2024-11-28T11:48:04.872Z"
   },
   {
    "duration": 48,
    "start_time": "2024-11-28T11:48:05.688Z"
   },
   {
    "duration": 22,
    "start_time": "2024-11-28T11:48:06.552Z"
   },
   {
    "duration": 28,
    "start_time": "2024-11-28T11:51:35.759Z"
   },
   {
    "duration": 35,
    "start_time": "2024-11-28T11:53:08.529Z"
   },
   {
    "duration": 31,
    "start_time": "2024-11-28T11:53:33.809Z"
   },
   {
    "duration": 21,
    "start_time": "2024-11-28T11:53:46.818Z"
   },
   {
    "duration": 3,
    "start_time": "2024-11-28T11:59:22.090Z"
   },
   {
    "duration": 17,
    "start_time": "2024-11-28T12:02:47.889Z"
   },
   {
    "duration": 146,
    "start_time": "2024-11-28T12:03:02.224Z"
   },
   {
    "duration": 17,
    "start_time": "2024-11-28T12:03:15.473Z"
   },
   {
    "duration": 20,
    "start_time": "2024-11-28T12:08:38.135Z"
   },
   {
    "duration": 213,
    "start_time": "2024-11-28T12:14:56.229Z"
   },
   {
    "duration": 187,
    "start_time": "2024-11-28T12:17:51.546Z"
   },
   {
    "duration": 127,
    "start_time": "2024-11-28T12:19:52.989Z"
   },
   {
    "duration": 30,
    "start_time": "2024-11-28T12:20:13.997Z"
   },
   {
    "duration": 27,
    "start_time": "2024-11-28T12:21:45.183Z"
   },
   {
    "duration": 183,
    "start_time": "2024-11-28T12:22:07.232Z"
   },
   {
    "duration": 21,
    "start_time": "2024-11-28T12:38:27.194Z"
   },
   {
    "duration": 19,
    "start_time": "2024-11-28T12:44:03.587Z"
   },
   {
    "duration": 231,
    "start_time": "2024-11-28T13:05:01.781Z"
   },
   {
    "duration": 40,
    "start_time": "2024-11-28T13:15:06.327Z"
   },
   {
    "duration": 64,
    "start_time": "2024-11-28T13:15:16.887Z"
   },
   {
    "duration": 341,
    "start_time": "2024-11-28T13:15:41.240Z"
   },
   {
    "duration": 394,
    "start_time": "2024-11-28T13:18:57.357Z"
   },
   {
    "duration": 426,
    "start_time": "2024-11-28T13:19:38.398Z"
   },
   {
    "duration": 7,
    "start_time": "2024-11-28T13:20:22.976Z"
   },
   {
    "duration": 375,
    "start_time": "2024-11-28T13:21:52.434Z"
   },
   {
    "duration": 357,
    "start_time": "2024-11-28T13:27:30.459Z"
   },
   {
    "duration": 358,
    "start_time": "2024-11-28T13:27:35.899Z"
   },
   {
    "duration": 18,
    "start_time": "2024-11-28T13:43:01.381Z"
   },
   {
    "duration": 23,
    "start_time": "2024-11-28T13:43:15.941Z"
   },
   {
    "duration": 10,
    "start_time": "2024-11-28T13:45:00.745Z"
   },
   {
    "duration": 3,
    "start_time": "2024-11-28T13:47:30.237Z"
   },
   {
    "duration": 3,
    "start_time": "2024-11-28T13:47:39.533Z"
   },
   {
    "duration": 21,
    "start_time": "2024-11-28T13:47:57.823Z"
   },
   {
    "duration": 20,
    "start_time": "2024-11-28T13:48:16.813Z"
   },
   {
    "duration": 99,
    "start_time": "2024-11-28T13:49:09.599Z"
   },
   {
    "duration": 16,
    "start_time": "2024-11-28T13:49:28.943Z"
   },
   {
    "duration": 84,
    "start_time": "2024-11-28T13:49:49.169Z"
   },
   {
    "duration": 84,
    "start_time": "2024-11-28T13:49:56.497Z"
   },
   {
    "duration": 74,
    "start_time": "2024-11-28T13:50:22.066Z"
   },
   {
    "duration": 16,
    "start_time": "2024-11-28T13:50:29.810Z"
   },
   {
    "duration": 17,
    "start_time": "2024-11-28T13:52:05.108Z"
   },
   {
    "duration": 92,
    "start_time": "2024-11-28T13:56:29.135Z"
   },
   {
    "duration": 89,
    "start_time": "2024-11-28T13:57:07.790Z"
   },
   {
    "duration": 99,
    "start_time": "2024-11-28T13:57:17.791Z"
   },
   {
    "duration": 97,
    "start_time": "2024-11-28T13:57:53.551Z"
   },
   {
    "duration": 29,
    "start_time": "2024-11-28T13:59:36.531Z"
   },
   {
    "duration": 21,
    "start_time": "2024-11-28T13:59:54.053Z"
   },
   {
    "duration": 16,
    "start_time": "2024-11-28T14:02:05.703Z"
   },
   {
    "duration": 18,
    "start_time": "2024-11-28T14:02:18.119Z"
   },
   {
    "duration": 15,
    "start_time": "2024-11-28T14:07:41.216Z"
   },
   {
    "duration": 15,
    "start_time": "2024-11-28T14:07:46.176Z"
   },
   {
    "duration": 78,
    "start_time": "2024-11-28T14:09:57.123Z"
   },
   {
    "duration": 7,
    "start_time": "2024-11-28T14:10:25.300Z"
   },
   {
    "duration": 110,
    "start_time": "2024-11-28T14:13:02.761Z"
   },
   {
    "duration": 29,
    "start_time": "2024-11-28T14:13:27.513Z"
   },
   {
    "duration": 20,
    "start_time": "2024-11-28T14:41:25.303Z"
   },
   {
    "duration": 28,
    "start_time": "2024-11-28T14:43:35.935Z"
   },
   {
    "duration": 49,
    "start_time": "2024-11-28T14:56:14.991Z"
   },
   {
    "duration": 50,
    "start_time": "2024-11-28T14:56:38.543Z"
   },
   {
    "duration": 47,
    "start_time": "2024-11-28T14:56:50.159Z"
   },
   {
    "duration": 45,
    "start_time": "2024-11-28T15:01:03.991Z"
   },
   {
    "duration": 45,
    "start_time": "2024-11-28T15:01:09.175Z"
   },
   {
    "duration": 60,
    "start_time": "2024-11-28T15:01:13.927Z"
   },
   {
    "duration": 8,
    "start_time": "2024-11-28T15:05:38.766Z"
   },
   {
    "duration": 47,
    "start_time": "2024-11-28T15:06:02.943Z"
   },
   {
    "duration": 52,
    "start_time": "2024-11-28T15:06:16.687Z"
   },
   {
    "duration": 52,
    "start_time": "2024-11-28T15:07:42.097Z"
   },
   {
    "duration": 61,
    "start_time": "2024-11-28T15:08:36.307Z"
   },
   {
    "duration": 77,
    "start_time": "2024-11-28T15:11:03.527Z"
   },
   {
    "duration": 59,
    "start_time": "2024-11-28T15:11:09.961Z"
   },
   {
    "duration": 60,
    "start_time": "2024-11-28T15:11:34.231Z"
   },
   {
    "duration": 106,
    "start_time": "2024-11-28T15:18:02.227Z"
   },
   {
    "duration": 91,
    "start_time": "2024-11-28T15:18:06.723Z"
   },
   {
    "duration": 57,
    "start_time": "2024-11-28T15:18:18.739Z"
   },
   {
    "duration": 61,
    "start_time": "2024-11-28T15:18:25.506Z"
   },
   {
    "duration": 62,
    "start_time": "2024-11-28T15:18:37.683Z"
   },
   {
    "duration": 61,
    "start_time": "2024-11-28T15:22:46.442Z"
   },
   {
    "duration": 75,
    "start_time": "2024-11-28T15:22:55.530Z"
   },
   {
    "duration": 63,
    "start_time": "2024-11-28T15:23:15.403Z"
   },
   {
    "duration": 65,
    "start_time": "2024-11-28T15:23:43.324Z"
   },
   {
    "duration": 66,
    "start_time": "2024-11-28T15:25:34.846Z"
   },
   {
    "duration": 201,
    "start_time": "2024-11-28T15:46:40.220Z"
   },
   {
    "duration": 156,
    "start_time": "2024-11-28T15:47:09.534Z"
   },
   {
    "duration": 157,
    "start_time": "2024-11-28T15:47:59.553Z"
   },
   {
    "duration": 146,
    "start_time": "2024-11-28T15:48:05.680Z"
   },
   {
    "duration": 212,
    "start_time": "2024-11-28T15:49:41.827Z"
   },
   {
    "duration": 3,
    "start_time": "2024-11-28T18:05:25.927Z"
   },
   {
    "duration": 8,
    "start_time": "2024-11-28T18:05:35.431Z"
   },
   {
    "duration": 10,
    "start_time": "2024-11-28T18:08:28.716Z"
   },
   {
    "duration": 10,
    "start_time": "2024-11-28T18:08:50.860Z"
   },
   {
    "duration": 10,
    "start_time": "2024-11-28T18:12:31.475Z"
   },
   {
    "duration": 6,
    "start_time": "2024-11-28T18:26:54.074Z"
   },
   {
    "duration": 10,
    "start_time": "2024-11-28T18:27:05.977Z"
   },
   {
    "duration": 11,
    "start_time": "2024-11-28T18:28:04.572Z"
   },
   {
    "duration": 11,
    "start_time": "2024-11-28T18:28:37.405Z"
   },
   {
    "duration": 11,
    "start_time": "2024-11-28T18:31:13.073Z"
   },
   {
    "duration": 11,
    "start_time": "2024-11-28T18:31:34.673Z"
   },
   {
    "duration": 92,
    "start_time": "2024-11-28T18:44:58.774Z"
   },
   {
    "duration": 81,
    "start_time": "2024-11-28T18:45:48.151Z"
   },
   {
    "duration": 84,
    "start_time": "2024-11-28T18:45:59.432Z"
   },
   {
    "duration": 1246,
    "start_time": "2024-11-29T06:00:15.772Z"
   },
   {
    "duration": 705,
    "start_time": "2024-11-29T06:00:17.020Z"
   },
   {
    "duration": 3,
    "start_time": "2024-11-29T06:00:17.726Z"
   },
   {
    "duration": 111,
    "start_time": "2024-11-29T06:00:17.731Z"
   },
   {
    "duration": 110,
    "start_time": "2024-11-29T06:00:17.843Z"
   },
   {
    "duration": 191,
    "start_time": "2024-11-29T06:00:17.957Z"
   },
   {
    "duration": 48,
    "start_time": "2024-11-29T06:00:18.149Z"
   },
   {
    "duration": 19,
    "start_time": "2024-11-29T06:00:18.198Z"
   },
   {
    "duration": 19,
    "start_time": "2024-11-29T06:00:19.002Z"
   },
   {
    "duration": 19,
    "start_time": "2024-11-29T06:00:19.642Z"
   },
   {
    "duration": 323,
    "start_time": "2024-11-29T06:00:21.019Z"
   },
   {
    "duration": 24,
    "start_time": "2024-11-29T06:00:22.282Z"
   },
   {
    "duration": 31,
    "start_time": "2024-11-29T06:00:23.258Z"
   },
   {
    "duration": 19,
    "start_time": "2024-11-29T06:00:24.634Z"
   },
   {
    "duration": 78,
    "start_time": "2024-11-29T06:00:25.019Z"
   },
   {
    "duration": 146,
    "start_time": "2024-11-29T06:00:25.594Z"
   },
   {
    "duration": 11,
    "start_time": "2024-11-29T06:00:26.603Z"
   },
   {
    "duration": 82,
    "start_time": "2024-11-29T06:00:27.002Z"
   },
   {
    "duration": 81,
    "start_time": "2024-11-29T06:00:38.715Z"
   },
   {
    "duration": 49,
    "start_time": "2024-11-29T06:57:27.639Z"
   },
   {
    "duration": 241,
    "start_time": "2024-11-29T07:26:14.072Z"
   },
   {
    "duration": 92,
    "start_time": "2024-11-29T07:26:58.950Z"
   },
   {
    "duration": 309,
    "start_time": "2024-11-29T07:27:04.084Z"
   },
   {
    "duration": 255,
    "start_time": "2024-11-29T07:27:34.341Z"
   },
   {
    "duration": 239,
    "start_time": "2024-11-29T07:27:55.991Z"
   },
   {
    "duration": 100,
    "start_time": "2024-11-29T07:28:22.329Z"
   },
   {
    "duration": 208,
    "start_time": "2024-11-29T07:28:27.095Z"
   },
   {
    "duration": 237,
    "start_time": "2024-11-29T07:29:00.473Z"
   },
   {
    "duration": 84,
    "start_time": "2024-11-29T07:29:18.745Z"
   },
   {
    "duration": 230,
    "start_time": "2024-11-29T07:29:27.049Z"
   },
   {
    "duration": 236,
    "start_time": "2024-11-29T07:29:59.403Z"
   },
   {
    "duration": 224,
    "start_time": "2024-11-29T07:31:32.732Z"
   },
   {
    "duration": 224,
    "start_time": "2024-11-29T07:31:42.620Z"
   },
   {
    "duration": 243,
    "start_time": "2024-11-29T07:32:16.110Z"
   },
   {
    "duration": 224,
    "start_time": "2024-11-29T07:33:18.087Z"
   },
   {
    "duration": 110,
    "start_time": "2024-11-29T07:33:58.851Z"
   },
   {
    "duration": 11,
    "start_time": "2024-11-29T07:34:15.312Z"
   },
   {
    "duration": 11,
    "start_time": "2024-11-29T07:34:22.273Z"
   },
   {
    "duration": 240,
    "start_time": "2024-11-29T07:34:50.274Z"
   },
   {
    "duration": 91,
    "start_time": "2024-11-29T07:35:22.354Z"
   },
   {
    "duration": 107,
    "start_time": "2024-11-29T07:35:36.131Z"
   },
   {
    "duration": 87,
    "start_time": "2024-11-29T07:35:56.052Z"
   },
   {
    "duration": 78,
    "start_time": "2024-11-29T07:36:01.766Z"
   },
   {
    "duration": 93,
    "start_time": "2024-11-29T07:36:31.285Z"
   },
   {
    "duration": 182,
    "start_time": "2024-11-29T07:36:48.470Z"
   },
   {
    "duration": 86,
    "start_time": "2024-11-29T07:37:10.360Z"
   },
   {
    "duration": 97,
    "start_time": "2024-11-29T07:37:27.222Z"
   },
   {
    "duration": 64,
    "start_time": "2024-11-29T07:37:55.479Z"
   },
   {
    "duration": 89,
    "start_time": "2024-11-29T07:38:07.254Z"
   },
   {
    "duration": 95,
    "start_time": "2024-11-29T07:39:04.792Z"
   },
   {
    "duration": 93,
    "start_time": "2024-11-29T07:40:51.835Z"
   },
   {
    "duration": 97,
    "start_time": "2024-11-29T07:40:58.139Z"
   },
   {
    "duration": 229,
    "start_time": "2024-11-29T07:41:11.677Z"
   },
   {
    "duration": 290,
    "start_time": "2024-11-29T07:43:05.280Z"
   },
   {
    "duration": 1401,
    "start_time": "2024-11-29T10:37:03.295Z"
   },
   {
    "duration": 699,
    "start_time": "2024-11-29T10:37:04.697Z"
   },
   {
    "duration": 4,
    "start_time": "2024-11-29T10:37:05.398Z"
   },
   {
    "duration": 124,
    "start_time": "2024-11-29T10:37:05.404Z"
   },
   {
    "duration": 129,
    "start_time": "2024-11-29T10:37:05.529Z"
   },
   {
    "duration": 200,
    "start_time": "2024-11-29T10:37:05.711Z"
   },
   {
    "duration": 48,
    "start_time": "2024-11-29T10:37:06.079Z"
   },
   {
    "duration": 22,
    "start_time": "2024-11-29T10:37:06.414Z"
   },
   {
    "duration": 23,
    "start_time": "2024-11-29T10:37:07.582Z"
   },
   {
    "duration": 24,
    "start_time": "2024-11-29T10:37:07.965Z"
   },
   {
    "duration": 385,
    "start_time": "2024-11-29T10:37:09.566Z"
   },
   {
    "duration": 23,
    "start_time": "2024-11-29T10:37:10.526Z"
   },
   {
    "duration": 45,
    "start_time": "2024-11-29T10:37:11.438Z"
   },
   {
    "duration": 47,
    "start_time": "2024-11-29T10:37:13.135Z"
   },
   {
    "duration": 71,
    "start_time": "2024-11-29T10:37:13.600Z"
   },
   {
    "duration": 193,
    "start_time": "2024-11-29T10:37:14.110Z"
   },
   {
    "duration": 18,
    "start_time": "2024-11-29T10:37:14.831Z"
   },
   {
    "duration": 31,
    "start_time": "2024-11-29T10:37:40.048Z"
   },
   {
    "duration": 78,
    "start_time": "2024-11-29T10:59:12.002Z"
   },
   {
    "duration": 179,
    "start_time": "2024-11-29T11:00:34.900Z"
   },
   {
    "duration": 6,
    "start_time": "2024-11-29T11:00:53.637Z"
   },
   {
    "duration": 190,
    "start_time": "2024-11-29T11:00:53.845Z"
   },
   {
    "duration": 4,
    "start_time": "2024-11-29T11:00:54.037Z"
   },
   {
    "duration": 80,
    "start_time": "2024-11-29T11:00:54.212Z"
   },
   {
    "duration": 133,
    "start_time": "2024-11-29T11:00:54.759Z"
   },
   {
    "duration": 212,
    "start_time": "2024-11-29T11:00:54.894Z"
   },
   {
    "duration": 46,
    "start_time": "2024-11-29T11:00:55.108Z"
   },
   {
    "duration": 78,
    "start_time": "2024-11-29T11:00:55.156Z"
   },
   {
    "duration": 22,
    "start_time": "2024-11-29T11:00:55.236Z"
   },
   {
    "duration": 22,
    "start_time": "2024-11-29T11:00:55.259Z"
   },
   {
    "duration": 377,
    "start_time": "2024-11-29T11:00:55.301Z"
   },
   {
    "duration": 36,
    "start_time": "2024-11-29T11:00:55.680Z"
   },
   {
    "duration": 29,
    "start_time": "2024-11-29T11:00:55.717Z"
   },
   {
    "duration": 32,
    "start_time": "2024-11-29T11:00:55.802Z"
   },
   {
    "duration": 79,
    "start_time": "2024-11-29T11:00:56.074Z"
   },
   {
    "duration": 174,
    "start_time": "2024-11-29T11:00:56.245Z"
   },
   {
    "duration": 24,
    "start_time": "2024-11-29T11:00:56.598Z"
   },
   {
    "duration": 35,
    "start_time": "2024-11-29T11:00:57.141Z"
   },
   {
    "duration": 88,
    "start_time": "2024-11-29T11:00:57.510Z"
   },
   {
    "duration": 229,
    "start_time": "2024-11-29T11:00:57.700Z"
   },
   {
    "duration": 79,
    "start_time": "2024-11-29T11:01:26.517Z"
   },
   {
    "duration": 96,
    "start_time": "2024-11-29T11:02:25.895Z"
   },
   {
    "duration": 78,
    "start_time": "2024-11-29T11:02:37.767Z"
   },
   {
    "duration": 84,
    "start_time": "2024-11-29T11:03:11.352Z"
   },
   {
    "duration": 79,
    "start_time": "2024-11-29T11:03:19.512Z"
   },
   {
    "duration": 77,
    "start_time": "2024-11-29T11:03:32.312Z"
   },
   {
    "duration": 80,
    "start_time": "2024-11-29T11:03:40.969Z"
   },
   {
    "duration": 211,
    "start_time": "2024-11-29T11:03:43.225Z"
   },
   {
    "duration": 87,
    "start_time": "2024-11-29T11:49:16.018Z"
   },
   {
    "duration": 103,
    "start_time": "2024-11-29T11:52:42.455Z"
   },
   {
    "duration": 286,
    "start_time": "2024-11-29T11:52:44.855Z"
   },
   {
    "duration": 103,
    "start_time": "2024-11-29T11:54:40.874Z"
   },
   {
    "duration": 222,
    "start_time": "2024-11-29T11:54:46.190Z"
   },
   {
    "duration": 116,
    "start_time": "2024-11-29T11:55:30.235Z"
   },
   {
    "duration": 34,
    "start_time": "2024-11-29T12:10:41.140Z"
   },
   {
    "duration": 102,
    "start_time": "2024-11-29T12:13:40.168Z"
   },
   {
    "duration": 80,
    "start_time": "2024-11-29T12:15:06.091Z"
   },
   {
    "duration": 91,
    "start_time": "2024-11-29T12:15:24.286Z"
   },
   {
    "duration": 205,
    "start_time": "2024-11-29T12:15:25.018Z"
   },
   {
    "duration": 92,
    "start_time": "2024-11-29T12:15:26.251Z"
   },
   {
    "duration": 7,
    "start_time": "2024-11-29T12:16:02.059Z"
   },
   {
    "duration": 9,
    "start_time": "2024-11-29T12:18:46.576Z"
   },
   {
    "duration": 92,
    "start_time": "2024-11-29T12:21:14.517Z"
   },
   {
    "duration": 87,
    "start_time": "2024-11-29T12:21:48.005Z"
   },
   {
    "duration": 75,
    "start_time": "2024-11-29T12:22:24.135Z"
   },
   {
    "duration": 84,
    "start_time": "2024-11-29T12:29:58.627Z"
   },
   {
    "duration": 119,
    "start_time": "2024-11-29T12:30:04.642Z"
   },
   {
    "duration": 24,
    "start_time": "2024-11-29T12:30:20.787Z"
   },
   {
    "duration": 22,
    "start_time": "2024-11-29T12:30:52.868Z"
   },
   {
    "duration": 10,
    "start_time": "2024-11-29T12:31:10.869Z"
   },
   {
    "duration": 20,
    "start_time": "2024-11-29T12:31:47.766Z"
   },
   {
    "duration": 93,
    "start_time": "2024-11-29T12:33:15.704Z"
   },
   {
    "duration": 91,
    "start_time": "2024-11-29T12:33:23.817Z"
   },
   {
    "duration": 222,
    "start_time": "2024-11-29T12:33:44.905Z"
   },
   {
    "duration": 228,
    "start_time": "2024-11-29T12:35:53.885Z"
   },
   {
    "duration": 246,
    "start_time": "2024-11-29T12:41:47.894Z"
   },
   {
    "duration": 219,
    "start_time": "2024-11-29T12:42:09.436Z"
   },
   {
    "duration": 1610,
    "start_time": "2024-11-29T12:52:43.305Z"
   },
   {
    "duration": 249,
    "start_time": "2024-11-29T12:52:54.328Z"
   },
   {
    "duration": 28,
    "start_time": "2024-11-29T12:55:29.661Z"
   },
   {
    "duration": 32,
    "start_time": "2024-11-29T12:55:40.396Z"
   },
   {
    "duration": 34,
    "start_time": "2024-11-29T12:55:44.716Z"
   },
   {
    "duration": 32,
    "start_time": "2024-11-29T12:55:48.205Z"
   },
   {
    "duration": 1540,
    "start_time": "2024-11-29T12:56:30.319Z"
   },
   {
    "duration": 31,
    "start_time": "2024-11-29T12:58:28.769Z"
   },
   {
    "duration": 90,
    "start_time": "2024-11-29T12:58:33.729Z"
   },
   {
    "duration": 215,
    "start_time": "2024-11-29T12:58:34.321Z"
   },
   {
    "duration": 219,
    "start_time": "2024-11-29T12:58:35.234Z"
   },
   {
    "duration": 33,
    "start_time": "2024-11-29T13:00:20.084Z"
   },
   {
    "duration": 34,
    "start_time": "2024-11-29T13:00:39.654Z"
   },
   {
    "duration": 32,
    "start_time": "2024-11-29T13:01:06.869Z"
   },
   {
    "duration": 233,
    "start_time": "2024-11-29T13:01:16.070Z"
   },
   {
    "duration": 227,
    "start_time": "2024-11-29T13:01:21.206Z"
   },
   {
    "duration": 250,
    "start_time": "2024-11-29T13:01:27.751Z"
   },
   {
    "duration": 215,
    "start_time": "2024-11-29T13:03:33.307Z"
   },
   {
    "duration": 234,
    "start_time": "2024-11-29T13:06:13.087Z"
   },
   {
    "duration": 246,
    "start_time": "2024-11-29T13:11:44.167Z"
   },
   {
    "duration": 213,
    "start_time": "2024-11-29T13:11:49.527Z"
   },
   {
    "duration": 223,
    "start_time": "2024-11-29T13:11:54.808Z"
   },
   {
    "duration": 226,
    "start_time": "2024-11-29T13:18:42.964Z"
   },
   {
    "duration": 1382,
    "start_time": "2024-11-29T13:56:31.289Z"
   },
   {
    "duration": 1023,
    "start_time": "2024-11-29T13:56:32.673Z"
   },
   {
    "duration": 4,
    "start_time": "2024-11-29T13:56:33.697Z"
   },
   {
    "duration": 109,
    "start_time": "2024-11-29T13:56:33.703Z"
   },
   {
    "duration": 144,
    "start_time": "2024-11-29T13:56:33.814Z"
   },
   {
    "duration": 233,
    "start_time": "2024-11-29T13:56:33.959Z"
   },
   {
    "duration": 51,
    "start_time": "2024-11-29T13:56:34.198Z"
   },
   {
    "duration": 47,
    "start_time": "2024-11-29T13:56:34.251Z"
   },
   {
    "duration": 27,
    "start_time": "2024-11-29T13:56:34.299Z"
   },
   {
    "duration": 37,
    "start_time": "2024-11-29T13:56:34.330Z"
   },
   {
    "duration": 438,
    "start_time": "2024-11-29T13:56:34.368Z"
   },
   {
    "duration": 26,
    "start_time": "2024-11-29T13:56:34.808Z"
   },
   {
    "duration": 38,
    "start_time": "2024-11-29T13:56:34.836Z"
   },
   {
    "duration": 44,
    "start_time": "2024-11-29T13:56:34.875Z"
   },
   {
    "duration": 93,
    "start_time": "2024-11-29T13:56:34.921Z"
   },
   {
    "duration": 196,
    "start_time": "2024-11-29T13:56:35.016Z"
   },
   {
    "duration": 16,
    "start_time": "2024-11-29T13:56:35.215Z"
   },
   {
    "duration": 121,
    "start_time": "2024-11-29T13:56:35.233Z"
   },
   {
    "duration": 38,
    "start_time": "2024-11-29T13:56:35.742Z"
   },
   {
    "duration": 113,
    "start_time": "2024-11-29T13:56:36.574Z"
   },
   {
    "duration": 270,
    "start_time": "2024-11-29T13:56:37.295Z"
   },
   {
    "duration": 269,
    "start_time": "2024-11-29T13:56:38.462Z"
   },
   {
    "duration": 112,
    "start_time": "2024-11-29T14:36:04.796Z"
   },
   {
    "duration": 13,
    "start_time": "2024-11-29T14:36:17.501Z"
   },
   {
    "duration": 9,
    "start_time": "2024-11-29T14:36:25.548Z"
   },
   {
    "duration": 11,
    "start_time": "2024-11-29T14:36:50.685Z"
   },
   {
    "duration": 11,
    "start_time": "2024-11-29T14:38:16.352Z"
   },
   {
    "duration": 1125,
    "start_time": "2024-11-29T17:30:35.514Z"
   },
   {
    "duration": 766,
    "start_time": "2024-11-29T17:30:36.641Z"
   },
   {
    "duration": 3,
    "start_time": "2024-11-29T17:30:37.408Z"
   },
   {
    "duration": 95,
    "start_time": "2024-11-29T17:30:37.413Z"
   },
   {
    "duration": 102,
    "start_time": "2024-11-29T17:30:37.513Z"
   },
   {
    "duration": 172,
    "start_time": "2024-11-29T17:30:37.866Z"
   },
   {
    "duration": 39,
    "start_time": "2024-11-29T17:30:38.283Z"
   },
   {
    "duration": 17,
    "start_time": "2024-11-29T17:30:38.809Z"
   },
   {
    "duration": 16,
    "start_time": "2024-11-29T17:30:40.041Z"
   },
   {
    "duration": 19,
    "start_time": "2024-11-29T17:30:40.490Z"
   },
   {
    "duration": 321,
    "start_time": "2024-11-29T17:30:41.818Z"
   },
   {
    "duration": 19,
    "start_time": "2024-11-29T17:30:42.731Z"
   },
   {
    "duration": 30,
    "start_time": "2024-11-29T17:30:43.497Z"
   },
   {
    "duration": 18,
    "start_time": "2024-11-29T17:30:44.698Z"
   },
   {
    "duration": 61,
    "start_time": "2024-11-29T17:30:45.131Z"
   },
   {
    "duration": 143,
    "start_time": "2024-11-29T17:30:45.513Z"
   },
   {
    "duration": 12,
    "start_time": "2024-11-29T17:30:46.283Z"
   },
   {
    "duration": 81,
    "start_time": "2024-11-29T17:30:46.954Z"
   },
   {
    "duration": 31,
    "start_time": "2024-11-29T17:30:47.561Z"
   },
   {
    "duration": 83,
    "start_time": "2024-11-29T17:30:48.217Z"
   },
   {
    "duration": 177,
    "start_time": "2024-11-29T17:30:48.539Z"
   },
   {
    "duration": 201,
    "start_time": "2024-11-29T17:30:49.435Z"
   },
   {
    "duration": 97,
    "start_time": "2024-11-29T17:30:49.962Z"
   },
   {
    "duration": 12,
    "start_time": "2024-11-29T17:30:50.617Z"
   },
   {
    "duration": 8,
    "start_time": "2024-11-29T17:51:02.447Z"
   },
   {
    "duration": 6,
    "start_time": "2024-11-29T17:52:02.689Z"
   },
   {
    "duration": 6,
    "start_time": "2024-11-29T17:53:14.628Z"
   },
   {
    "duration": 6,
    "start_time": "2024-11-29T18:06:34.247Z"
   },
   {
    "duration": 95,
    "start_time": "2024-11-29T18:16:46.620Z"
   },
   {
    "duration": 95,
    "start_time": "2024-11-29T18:17:01.309Z"
   },
   {
    "duration": 1263,
    "start_time": "2024-11-30T16:35:00.719Z"
   },
   {
    "duration": 798,
    "start_time": "2024-11-30T16:35:01.984Z"
   },
   {
    "duration": 3,
    "start_time": "2024-11-30T16:35:02.783Z"
   },
   {
    "duration": 99,
    "start_time": "2024-11-30T16:35:02.787Z"
   },
   {
    "duration": 110,
    "start_time": "2024-11-30T16:35:02.888Z"
   },
   {
    "duration": 201,
    "start_time": "2024-11-30T16:35:03.000Z"
   },
   {
    "duration": 42,
    "start_time": "2024-11-30T16:35:03.202Z"
   },
   {
    "duration": 30,
    "start_time": "2024-11-30T16:35:03.245Z"
   },
   {
    "duration": 18,
    "start_time": "2024-11-30T16:35:03.277Z"
   },
   {
    "duration": 30,
    "start_time": "2024-11-30T16:35:03.297Z"
   },
   {
    "duration": 326,
    "start_time": "2024-11-30T16:35:04.223Z"
   },
   {
    "duration": 20,
    "start_time": "2024-11-30T16:35:05.199Z"
   },
   {
    "duration": 30,
    "start_time": "2024-11-30T16:35:06.014Z"
   },
   {
    "duration": 20,
    "start_time": "2024-11-30T16:35:07.662Z"
   },
   {
    "duration": 64,
    "start_time": "2024-11-30T16:35:08.511Z"
   },
   {
    "duration": 145,
    "start_time": "2024-11-30T16:35:09.278Z"
   },
   {
    "duration": 12,
    "start_time": "2024-11-30T16:35:10.866Z"
   },
   {
    "duration": 29,
    "start_time": "2024-11-30T16:35:12.959Z"
   },
   {
    "duration": 88,
    "start_time": "2024-11-30T16:35:14.288Z"
   },
   {
    "duration": 179,
    "start_time": "2024-11-30T16:35:16.192Z"
   },
   {
    "duration": 99,
    "start_time": "2024-11-30T16:35:21.439Z"
   },
   {
    "duration": 65,
    "start_time": "2024-11-30T16:35:22.640Z"
   },
   {
    "duration": 57,
    "start_time": "2024-11-30T16:35:24.367Z"
   },
   {
    "duration": 5,
    "start_time": "2024-11-30T16:55:05.761Z"
   },
   {
    "duration": 113,
    "start_time": "2024-11-30T16:55:56.628Z"
   },
   {
    "duration": 917,
    "start_time": "2024-11-30T16:58:31.099Z"
   },
   {
    "duration": 3,
    "start_time": "2024-11-30T16:59:17.260Z"
   },
   {
    "duration": 137,
    "start_time": "2024-11-30T16:59:17.436Z"
   },
   {
    "duration": 2,
    "start_time": "2024-11-30T16:59:17.615Z"
   },
   {
    "duration": 71,
    "start_time": "2024-11-30T16:59:17.804Z"
   },
   {
    "duration": 94,
    "start_time": "2024-11-30T16:59:18.108Z"
   },
   {
    "duration": 152,
    "start_time": "2024-11-30T16:59:18.304Z"
   },
   {
    "duration": 38,
    "start_time": "2024-11-30T16:59:18.500Z"
   },
   {
    "duration": 19,
    "start_time": "2024-11-30T16:59:18.668Z"
   },
   {
    "duration": 19,
    "start_time": "2024-11-30T16:59:19.468Z"
   },
   {
    "duration": 18,
    "start_time": "2024-11-30T16:59:19.820Z"
   },
   {
    "duration": 300,
    "start_time": "2024-11-30T16:59:20.830Z"
   },
   {
    "duration": 19,
    "start_time": "2024-11-30T16:59:21.484Z"
   },
   {
    "duration": 28,
    "start_time": "2024-11-30T16:59:22.043Z"
   },
   {
    "duration": 19,
    "start_time": "2024-11-30T16:59:22.813Z"
   },
   {
    "duration": 62,
    "start_time": "2024-11-30T16:59:23.087Z"
   },
   {
    "duration": 142,
    "start_time": "2024-11-30T16:59:23.328Z"
   },
   {
    "duration": 15,
    "start_time": "2024-11-30T16:59:24.125Z"
   },
   {
    "duration": 883,
    "start_time": "2024-11-30T16:59:26.621Z"
   },
   {
    "duration": 29,
    "start_time": "2024-11-30T16:59:42.718Z"
   },
   {
    "duration": 30,
    "start_time": "2024-11-30T16:59:51.390Z"
   },
   {
    "duration": 29,
    "start_time": "2024-11-30T17:00:00.942Z"
   },
   {
    "duration": 91,
    "start_time": "2024-11-30T17:00:02.654Z"
   },
   {
    "duration": 235,
    "start_time": "2024-11-30T17:00:03.262Z"
   },
   {
    "duration": 89,
    "start_time": "2024-11-30T17:00:04.302Z"
   },
   {
    "duration": 13,
    "start_time": "2024-11-30T17:00:38.548Z"
   },
   {
    "duration": 5,
    "start_time": "2024-11-30T17:00:51.889Z"
   },
   {
    "duration": 13,
    "start_time": "2024-11-30T17:00:59.473Z"
   },
   {
    "duration": 5,
    "start_time": "2024-11-30T17:06:32.478Z"
   },
   {
    "duration": 12,
    "start_time": "2024-11-30T17:06:58.205Z"
   },
   {
    "duration": 28,
    "start_time": "2024-11-30T17:10:12.836Z"
   },
   {
    "duration": 57,
    "start_time": "2024-11-30T17:36:28.634Z"
   },
   {
    "duration": 6,
    "start_time": "2024-11-30T17:37:02.347Z"
   },
   {
    "duration": 31,
    "start_time": "2024-11-30T17:37:03.630Z"
   },
   {
    "duration": 8,
    "start_time": "2024-11-30T17:37:43.914Z"
   },
   {
    "duration": 5,
    "start_time": "2024-11-30T17:38:18.604Z"
   },
   {
    "duration": 24,
    "start_time": "2024-11-30T17:38:20.269Z"
   },
   {
    "duration": 5,
    "start_time": "2024-11-30T17:39:45.375Z"
   },
   {
    "duration": 21,
    "start_time": "2024-11-30T17:39:45.951Z"
   },
   {
    "duration": 5,
    "start_time": "2024-11-30T17:40:51.152Z"
   },
   {
    "duration": 23,
    "start_time": "2024-11-30T17:40:51.663Z"
   },
   {
    "duration": 5,
    "start_time": "2024-11-30T17:42:18.946Z"
   },
   {
    "duration": 38,
    "start_time": "2024-11-30T17:42:19.537Z"
   },
   {
    "duration": 10,
    "start_time": "2024-11-30T17:42:21.970Z"
   },
   {
    "duration": 4,
    "start_time": "2024-11-30T17:42:55.605Z"
   },
   {
    "duration": 103,
    "start_time": "2024-11-30T17:42:56.022Z"
   },
   {
    "duration": 8,
    "start_time": "2024-11-30T17:44:53.717Z"
   },
   {
    "duration": 64,
    "start_time": "2024-11-30T17:45:07.478Z"
   },
   {
    "duration": 7,
    "start_time": "2024-11-30T17:45:08.773Z"
   },
   {
    "duration": 5,
    "start_time": "2024-11-30T17:45:23.222Z"
   },
   {
    "duration": 110,
    "start_time": "2024-11-30T17:45:24.022Z"
   },
   {
    "duration": 114,
    "start_time": "2024-11-30T17:55:01.959Z"
   },
   {
    "duration": 5,
    "start_time": "2024-11-30T18:10:44.692Z"
   },
   {
    "duration": 109,
    "start_time": "2024-11-30T18:10:45.475Z"
   },
   {
    "duration": 5,
    "start_time": "2024-11-30T18:12:56.011Z"
   },
   {
    "duration": 88,
    "start_time": "2024-11-30T18:15:40.445Z"
   },
   {
    "duration": 89,
    "start_time": "2024-11-30T18:17:01.920Z"
   },
   {
    "duration": 113,
    "start_time": "2024-11-30T18:24:50.702Z"
   },
   {
    "duration": 109,
    "start_time": "2024-11-30T18:38:47.827Z"
   },
   {
    "duration": 102,
    "start_time": "2024-11-30T18:40:20.484Z"
   },
   {
    "duration": 107,
    "start_time": "2024-11-30T18:41:04.309Z"
   },
   {
    "duration": 107,
    "start_time": "2024-11-30T18:41:06.773Z"
   },
   {
    "duration": 1464,
    "start_time": "2024-12-02T07:23:15.492Z"
   },
   {
    "duration": 903,
    "start_time": "2024-12-02T07:23:16.958Z"
   },
   {
    "duration": 3,
    "start_time": "2024-12-02T07:23:17.863Z"
   },
   {
    "duration": 103,
    "start_time": "2024-12-02T07:23:17.868Z"
   },
   {
    "duration": 130,
    "start_time": "2024-12-02T07:23:18.675Z"
   },
   {
    "duration": 230,
    "start_time": "2024-12-02T07:23:20.164Z"
   },
   {
    "duration": 49,
    "start_time": "2024-12-02T07:23:21.060Z"
   },
   {
    "duration": 23,
    "start_time": "2024-12-02T07:23:21.717Z"
   },
   {
    "duration": 24,
    "start_time": "2024-12-02T07:23:23.603Z"
   },
   {
    "duration": 24,
    "start_time": "2024-12-02T07:23:24.387Z"
   },
   {
    "duration": 398,
    "start_time": "2024-12-02T07:23:26.131Z"
   },
   {
    "duration": 23,
    "start_time": "2024-12-02T07:23:27.316Z"
   },
   {
    "duration": 36,
    "start_time": "2024-12-02T07:23:28.499Z"
   },
   {
    "duration": 28,
    "start_time": "2024-12-02T07:23:29.891Z"
   },
   {
    "duration": 77,
    "start_time": "2024-12-02T07:23:30.452Z"
   },
   {
    "duration": 176,
    "start_time": "2024-12-02T07:23:31.076Z"
   },
   {
    "duration": 15,
    "start_time": "2024-12-02T07:23:32.020Z"
   },
   {
    "duration": 36,
    "start_time": "2024-12-02T07:23:33.252Z"
   },
   {
    "duration": 102,
    "start_time": "2024-12-02T07:23:34.164Z"
   },
   {
    "duration": 220,
    "start_time": "2024-12-02T07:23:34.964Z"
   },
   {
    "duration": 116,
    "start_time": "2024-12-02T07:23:36.436Z"
   },
   {
    "duration": 6,
    "start_time": "2024-12-02T07:23:38.532Z"
   },
   {
    "duration": 136,
    "start_time": "2024-12-02T07:23:40.227Z"
   },
   {
    "duration": 165,
    "start_time": "2024-12-02T07:23:43.907Z"
   },
   {
    "duration": 123,
    "start_time": "2024-12-02T07:23:51.988Z"
   },
   {
    "duration": 124,
    "start_time": "2024-12-02T07:27:55.482Z"
   },
   {
    "duration": 124,
    "start_time": "2024-12-02T07:28:05.482Z"
   },
   {
    "duration": 15,
    "start_time": "2024-12-02T07:33:20.677Z"
   },
   {
    "duration": 9,
    "start_time": "2024-12-02T07:33:27.189Z"
   },
   {
    "duration": 17,
    "start_time": "2024-12-02T07:42:01.476Z"
   },
   {
    "duration": 46,
    "start_time": "2024-12-02T07:43:36.308Z"
   },
   {
    "duration": 46,
    "start_time": "2024-12-02T07:44:45.785Z"
   },
   {
    "duration": 131,
    "start_time": "2024-12-02T07:45:16.358Z"
   },
   {
    "duration": 61,
    "start_time": "2024-12-02T09:44:10.486Z"
   },
   {
    "duration": 129,
    "start_time": "2024-12-02T09:44:12.596Z"
   },
   {
    "duration": 1357,
    "start_time": "2024-12-02T10:48:55.872Z"
   },
   {
    "duration": 229,
    "start_time": "2024-12-02T10:48:57.231Z"
   },
   {
    "duration": 5,
    "start_time": "2024-12-02T10:48:57.462Z"
   },
   {
    "duration": 135,
    "start_time": "2024-12-02T10:48:57.470Z"
   },
   {
    "duration": 158,
    "start_time": "2024-12-02T10:48:57.606Z"
   },
   {
    "duration": 266,
    "start_time": "2024-12-02T10:48:57.766Z"
   },
   {
    "duration": 61,
    "start_time": "2024-12-02T10:48:58.034Z"
   },
   {
    "duration": 25,
    "start_time": "2024-12-02T10:48:58.096Z"
   },
   {
    "duration": 56,
    "start_time": "2024-12-02T10:48:58.122Z"
   },
   {
    "duration": 25,
    "start_time": "2024-12-02T10:48:58.181Z"
   },
   {
    "duration": 465,
    "start_time": "2024-12-02T10:48:58.207Z"
   },
   {
    "duration": 23,
    "start_time": "2024-12-02T10:48:58.674Z"
   },
   {
    "duration": 62,
    "start_time": "2024-12-02T10:48:58.698Z"
   },
   {
    "duration": 32,
    "start_time": "2024-12-02T10:48:58.762Z"
   },
   {
    "duration": 99,
    "start_time": "2024-12-02T10:48:58.796Z"
   },
   {
    "duration": 216,
    "start_time": "2024-12-02T10:48:58.896Z"
   },
   {
    "duration": 23,
    "start_time": "2024-12-02T10:48:59.114Z"
   },
   {
    "duration": 56,
    "start_time": "2024-12-02T10:48:59.152Z"
   },
   {
    "duration": 134,
    "start_time": "2024-12-02T10:48:59.210Z"
   },
   {
    "duration": 252,
    "start_time": "2024-12-02T10:48:59.346Z"
   },
   {
    "duration": 136,
    "start_time": "2024-12-02T10:48:59.600Z"
   },
   {
    "duration": 13,
    "start_time": "2024-12-02T10:48:59.738Z"
   },
   {
    "duration": 172,
    "start_time": "2024-12-02T10:48:59.753Z"
   },
   {
    "duration": 162,
    "start_time": "2024-12-02T10:48:59.927Z"
   },
   {
    "duration": 154,
    "start_time": "2024-12-02T10:49:00.090Z"
   },
   {
    "duration": 49,
    "start_time": "2024-12-02T10:49:00.246Z"
   },
   {
    "duration": 179,
    "start_time": "2024-12-02T10:49:00.296Z"
   },
   {
    "duration": 1425,
    "start_time": "2024-12-02T14:55:13.013Z"
   },
   {
    "duration": 825,
    "start_time": "2024-12-02T14:55:14.440Z"
   },
   {
    "duration": 3,
    "start_time": "2024-12-02T14:55:15.267Z"
   },
   {
    "duration": 116,
    "start_time": "2024-12-02T14:55:15.272Z"
   },
   {
    "duration": 158,
    "start_time": "2024-12-02T14:55:15.390Z"
   },
   {
    "duration": 236,
    "start_time": "2024-12-02T14:55:15.550Z"
   },
   {
    "duration": 46,
    "start_time": "2024-12-02T14:55:15.789Z"
   },
   {
    "duration": 45,
    "start_time": "2024-12-02T14:55:15.836Z"
   },
   {
    "duration": 24,
    "start_time": "2024-12-02T14:55:15.883Z"
   },
   {
    "duration": 23,
    "start_time": "2024-12-02T14:55:15.910Z"
   },
   {
    "duration": 444,
    "start_time": "2024-12-02T14:55:15.935Z"
   },
   {
    "duration": 22,
    "start_time": "2024-12-02T14:55:16.383Z"
   },
   {
    "duration": 34,
    "start_time": "2024-12-02T14:55:16.407Z"
   },
   {
    "duration": 48,
    "start_time": "2024-12-02T14:55:16.442Z"
   },
   {
    "duration": 84,
    "start_time": "2024-12-02T14:55:16.492Z"
   },
   {
    "duration": 188,
    "start_time": "2024-12-02T14:55:16.581Z"
   },
   {
    "duration": 17,
    "start_time": "2024-12-02T14:55:16.778Z"
   },
   {
    "duration": 48,
    "start_time": "2024-12-02T14:55:16.796Z"
   },
   {
    "duration": 107,
    "start_time": "2024-12-02T14:55:16.846Z"
   },
   {
    "duration": 247,
    "start_time": "2024-12-02T14:55:16.955Z"
   },
   {
    "duration": 129,
    "start_time": "2024-12-02T14:55:17.204Z"
   },
   {
    "duration": 6,
    "start_time": "2024-12-02T14:55:17.334Z"
   },
   {
    "duration": 164,
    "start_time": "2024-12-02T14:55:17.342Z"
   },
   {
    "duration": 135,
    "start_time": "2024-12-02T14:55:17.507Z"
   },
   {
    "duration": 148,
    "start_time": "2024-12-02T14:55:17.644Z"
   },
   {
    "duration": 38,
    "start_time": "2024-12-02T14:55:17.794Z"
   },
   {
    "duration": 164,
    "start_time": "2024-12-02T14:55:17.833Z"
   },
   {
    "duration": 1213,
    "start_time": "2024-12-02T15:14:21.100Z"
   },
   {
    "duration": 196,
    "start_time": "2024-12-02T15:14:22.315Z"
   },
   {
    "duration": 4,
    "start_time": "2024-12-02T15:14:22.512Z"
   },
   {
    "duration": 119,
    "start_time": "2024-12-02T15:14:22.517Z"
   },
   {
    "duration": 160,
    "start_time": "2024-12-02T15:14:22.639Z"
   },
   {
    "duration": 234,
    "start_time": "2024-12-02T15:14:22.800Z"
   },
   {
    "duration": 64,
    "start_time": "2024-12-02T15:14:23.036Z"
   },
   {
    "duration": 24,
    "start_time": "2024-12-02T15:14:23.102Z"
   },
   {
    "duration": 53,
    "start_time": "2024-12-02T15:14:23.128Z"
   },
   {
    "duration": 26,
    "start_time": "2024-12-02T15:14:23.185Z"
   },
   {
    "duration": 428,
    "start_time": "2024-12-02T15:14:23.212Z"
   },
   {
    "duration": 35,
    "start_time": "2024-12-02T15:14:23.642Z"
   },
   {
    "duration": 33,
    "start_time": "2024-12-02T15:14:23.678Z"
   },
   {
    "duration": 26,
    "start_time": "2024-12-02T15:14:23.714Z"
   },
   {
    "duration": 98,
    "start_time": "2024-12-02T15:14:23.741Z"
   },
   {
    "duration": 202,
    "start_time": "2024-12-02T15:14:23.841Z"
   },
   {
    "duration": 13,
    "start_time": "2024-12-02T15:14:24.044Z"
   },
   {
    "duration": 43,
    "start_time": "2024-12-02T15:14:24.070Z"
   },
   {
    "duration": 115,
    "start_time": "2024-12-02T15:14:24.115Z"
   },
   {
    "duration": 219,
    "start_time": "2024-12-02T15:14:24.232Z"
   },
   {
    "duration": 125,
    "start_time": "2024-12-02T15:14:24.452Z"
   },
   {
    "duration": 13,
    "start_time": "2024-12-02T15:14:24.579Z"
   },
   {
    "duration": 159,
    "start_time": "2024-12-02T15:14:24.594Z"
   },
   {
    "duration": 139,
    "start_time": "2024-12-02T15:14:24.754Z"
   },
   {
    "duration": 131,
    "start_time": "2024-12-02T15:14:24.894Z"
   },
   {
    "duration": 46,
    "start_time": "2024-12-02T15:14:25.027Z"
   },
   {
    "duration": 150,
    "start_time": "2024-12-02T15:14:25.075Z"
   },
   {
    "duration": 50,
    "start_time": "2024-12-02T15:52:54.617Z"
   },
   {
    "duration": 1321,
    "start_time": "2024-12-02T15:53:05.913Z"
   },
   {
    "duration": 977,
    "start_time": "2024-12-02T15:53:07.236Z"
   },
   {
    "duration": 3,
    "start_time": "2024-12-02T15:53:08.215Z"
   },
   {
    "duration": 125,
    "start_time": "2024-12-02T15:53:08.379Z"
   },
   {
    "duration": 132,
    "start_time": "2024-12-02T15:53:12.266Z"
   },
   {
    "duration": 213,
    "start_time": "2024-12-02T15:53:13.864Z"
   },
   {
    "duration": 50,
    "start_time": "2024-12-02T15:53:15.033Z"
   },
   {
    "duration": 39,
    "start_time": "2024-12-02T15:53:16.986Z"
   },
   {
    "duration": 36,
    "start_time": "2024-12-02T15:53:48.202Z"
   },
   {
    "duration": 39,
    "start_time": "2024-12-02T15:54:36.075Z"
   },
   {
    "duration": 26,
    "start_time": "2024-12-02T15:56:24.270Z"
   },
   {
    "duration": 64,
    "start_time": "2024-12-02T15:59:46.260Z"
   },
   {
    "duration": 11,
    "start_time": "2024-12-02T15:59:52.788Z"
   },
   {
    "duration": 413,
    "start_time": "2024-12-02T16:00:05.572Z"
   },
   {
    "duration": 24,
    "start_time": "2024-12-02T16:00:07.076Z"
   },
   {
    "duration": 37,
    "start_time": "2024-12-02T16:00:08.276Z"
   },
   {
    "duration": 27,
    "start_time": "2024-12-02T16:00:10.372Z"
   },
   {
    "duration": 75,
    "start_time": "2024-12-02T16:00:11.189Z"
   },
   {
    "duration": 395,
    "start_time": "2024-12-02T16:00:58.150Z"
   },
   {
    "duration": 11,
    "start_time": "2024-12-02T16:01:23.430Z"
   },
   {
    "duration": 386,
    "start_time": "2024-12-02T16:01:42.183Z"
   },
   {
    "duration": 477,
    "start_time": "2024-12-02T16:02:47.401Z"
   },
   {
    "duration": 37,
    "start_time": "2024-12-02T16:03:32.362Z"
   },
   {
    "duration": 26,
    "start_time": "2024-12-02T16:04:29.387Z"
   },
   {
    "duration": 33,
    "start_time": "2024-12-02T16:04:37.227Z"
   },
   {
    "duration": 26,
    "start_time": "2024-12-02T16:04:41.963Z"
   },
   {
    "duration": 73,
    "start_time": "2024-12-02T16:04:42.604Z"
   },
   {
    "duration": 277,
    "start_time": "2024-12-02T16:04:48.364Z"
   },
   {
    "duration": 14,
    "start_time": "2024-12-02T16:04:55.789Z"
   },
   {
    "duration": 32,
    "start_time": "2024-12-02T16:16:26.848Z"
   },
   {
    "duration": 101,
    "start_time": "2024-12-02T16:16:42.544Z"
   },
   {
    "duration": 461,
    "start_time": "2024-12-02T16:16:52.863Z"
   },
   {
    "duration": 38,
    "start_time": "2024-12-02T16:16:53.328Z"
   },
   {
    "duration": 20,
    "start_time": "2024-12-02T16:16:55.647Z"
   },
   {
    "duration": 30,
    "start_time": "2024-12-02T16:16:57.119Z"
   },
   {
    "duration": 26,
    "start_time": "2024-12-02T16:16:58.959Z"
   },
   {
    "duration": 76,
    "start_time": "2024-12-02T16:16:59.568Z"
   },
   {
    "duration": 176,
    "start_time": "2024-12-02T16:17:01.440Z"
   },
   {
    "duration": 14,
    "start_time": "2024-12-02T16:17:03.327Z"
   },
   {
    "duration": 36,
    "start_time": "2024-12-02T16:17:05.599Z"
   },
   {
    "duration": 94,
    "start_time": "2024-12-02T16:17:06.928Z"
   },
   {
    "duration": 211,
    "start_time": "2024-12-02T16:17:07.600Z"
   },
   {
    "duration": 111,
    "start_time": "2024-12-02T16:17:09.168Z"
   },
   {
    "duration": 1075,
    "start_time": "2024-12-02T16:17:11.040Z"
   },
   {
    "duration": 0,
    "start_time": "2024-12-02T16:17:12.116Z"
   },
   {
    "duration": 952,
    "start_time": "2024-12-02T16:18:02.307Z"
   },
   {
    "duration": 112,
    "start_time": "2024-12-02T16:18:29.443Z"
   },
   {
    "duration": 996,
    "start_time": "2024-12-02T16:18:43.124Z"
   },
   {
    "duration": 166,
    "start_time": "2024-12-02T16:20:28.678Z"
   },
   {
    "duration": 22,
    "start_time": "2024-12-02T16:21:17.657Z"
   },
   {
    "duration": 15,
    "start_time": "2024-12-02T16:22:15.818Z"
   },
   {
    "duration": 1050,
    "start_time": "2024-12-03T12:53:43.862Z"
   },
   {
    "duration": 152,
    "start_time": "2024-12-03T12:53:44.914Z"
   },
   {
    "duration": 3,
    "start_time": "2024-12-03T12:53:45.067Z"
   },
   {
    "duration": 161,
    "start_time": "2024-12-03T12:53:45.072Z"
   },
   {
    "duration": 110,
    "start_time": "2024-12-03T12:53:45.236Z"
   },
   {
    "duration": 204,
    "start_time": "2024-12-03T12:53:45.347Z"
   },
   {
    "duration": 45,
    "start_time": "2024-12-03T12:53:45.553Z"
   },
   {
    "duration": 52,
    "start_time": "2024-12-03T12:53:45.599Z"
   },
   {
    "duration": 20,
    "start_time": "2024-12-03T12:53:45.652Z"
   },
   {
    "duration": 20,
    "start_time": "2024-12-03T12:53:45.674Z"
   },
   {
    "duration": 39,
    "start_time": "2024-12-03T12:53:45.695Z"
   },
   {
    "duration": 406,
    "start_time": "2024-12-03T12:53:45.735Z"
   },
   {
    "duration": 28,
    "start_time": "2024-12-03T12:53:46.142Z"
   },
   {
    "duration": 29,
    "start_time": "2024-12-03T12:53:46.173Z"
   },
   {
    "duration": 45,
    "start_time": "2024-12-03T12:53:46.204Z"
   },
   {
    "duration": 23,
    "start_time": "2024-12-03T12:53:46.251Z"
   },
   {
    "duration": 73,
    "start_time": "2024-12-03T12:53:46.275Z"
   },
   {
    "duration": 153,
    "start_time": "2024-12-03T12:53:46.349Z"
   },
   {
    "duration": 11,
    "start_time": "2024-12-03T12:53:46.504Z"
   },
   {
    "duration": 46,
    "start_time": "2024-12-03T12:53:46.517Z"
   },
   {
    "duration": 94,
    "start_time": "2024-12-03T12:53:46.565Z"
   },
   {
    "duration": 188,
    "start_time": "2024-12-03T12:53:46.660Z"
   },
   {
    "duration": 107,
    "start_time": "2024-12-03T12:53:46.849Z"
   },
   {
    "duration": 294,
    "start_time": "2024-12-03T12:53:46.957Z"
   },
   {
    "duration": 7,
    "start_time": "2024-12-03T12:53:47.252Z"
   },
   {
    "duration": 220,
    "start_time": "2024-12-03T12:53:47.260Z"
   },
   {
    "duration": 116,
    "start_time": "2024-12-03T12:53:47.481Z"
   },
   {
    "duration": 118,
    "start_time": "2024-12-03T12:53:47.599Z"
   },
   {
    "duration": 44,
    "start_time": "2024-12-03T12:53:47.718Z"
   },
   {
    "duration": 110,
    "start_time": "2024-12-03T12:53:47.763Z"
   },
   {
    "duration": 1054,
    "start_time": "2024-12-03T12:57:12.142Z"
   },
   {
    "duration": 148,
    "start_time": "2024-12-03T12:57:13.198Z"
   },
   {
    "duration": 3,
    "start_time": "2024-12-03T12:57:13.347Z"
   },
   {
    "duration": 93,
    "start_time": "2024-12-03T12:57:13.351Z"
   },
   {
    "duration": 110,
    "start_time": "2024-12-03T12:57:13.446Z"
   },
   {
    "duration": 198,
    "start_time": "2024-12-03T12:57:13.557Z"
   },
   {
    "duration": 43,
    "start_time": "2024-12-03T12:57:13.757Z"
   },
   {
    "duration": 45,
    "start_time": "2024-12-03T12:57:13.801Z"
   },
   {
    "duration": 19,
    "start_time": "2024-12-03T12:57:13.847Z"
   },
   {
    "duration": 17,
    "start_time": "2024-12-03T12:57:13.867Z"
   },
   {
    "duration": 18,
    "start_time": "2024-12-03T12:57:13.886Z"
   },
   {
    "duration": 424,
    "start_time": "2024-12-03T12:57:13.905Z"
   },
   {
    "duration": 29,
    "start_time": "2024-12-03T12:57:14.333Z"
   },
   {
    "duration": 18,
    "start_time": "2024-12-03T12:57:14.365Z"
   },
   {
    "duration": 51,
    "start_time": "2024-12-03T12:57:14.384Z"
   },
   {
    "duration": 19,
    "start_time": "2024-12-03T12:57:14.437Z"
   },
   {
    "duration": 78,
    "start_time": "2024-12-03T12:57:14.457Z"
   },
   {
    "duration": 153,
    "start_time": "2024-12-03T12:57:14.536Z"
   },
   {
    "duration": 11,
    "start_time": "2024-12-03T12:57:14.691Z"
   },
   {
    "duration": 46,
    "start_time": "2024-12-03T12:57:14.704Z"
   },
   {
    "duration": 93,
    "start_time": "2024-12-03T12:57:14.752Z"
   },
   {
    "duration": 198,
    "start_time": "2024-12-03T12:57:14.847Z"
   },
   {
    "duration": 110,
    "start_time": "2024-12-03T12:57:15.047Z"
   },
   {
    "duration": 301,
    "start_time": "2024-12-03T12:57:15.159Z"
   },
   {
    "duration": 6,
    "start_time": "2024-12-03T12:57:15.461Z"
   },
   {
    "duration": 183,
    "start_time": "2024-12-03T12:57:15.469Z"
   },
   {
    "duration": 109,
    "start_time": "2024-12-03T12:57:15.653Z"
   },
   {
    "duration": 106,
    "start_time": "2024-12-03T12:57:15.764Z"
   },
   {
    "duration": 32,
    "start_time": "2024-12-03T12:57:15.872Z"
   },
   {
    "duration": 119,
    "start_time": "2024-12-03T12:57:15.906Z"
   }
  ],
  "kernelspec": {
   "display_name": "Python 3 (ipykernel)",
   "language": "python",
   "name": "python3"
  },
  "language_info": {
   "codemirror_mode": {
    "name": "ipython",
    "version": 3
   },
   "file_extension": ".py",
   "mimetype": "text/x-python",
   "name": "python",
   "nbconvert_exporter": "python",
   "pygments_lexer": "ipython3",
   "version": "3.12.7"
  },
  "toc": {
   "base_numbering": 1,
   "nav_menu": {},
   "number_sections": true,
   "sideBar": true,
   "skip_h1_title": true,
   "title_cell": "Table of Contents",
   "title_sidebar": "Contents",
   "toc_cell": false,
   "toc_position": {
    "height": "calc(100% - 180px)",
    "left": "10px",
    "top": "150px",
    "width": "384px"
   },
   "toc_section_display": true,
   "toc_window_display": false
  }
 },
 "nbformat": 4,
 "nbformat_minor": 4
}

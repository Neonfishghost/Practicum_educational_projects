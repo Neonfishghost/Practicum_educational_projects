{
 "cells": [
  {
   "cell_type": "markdown",
   "id": "386f2ae7",
   "metadata": {
    "deletable": false,
    "editable": false,
    "id": "386f2ae7"
   },
   "source": [
    "# Исследование надежности заемщиков\n"
   ]
  },
  {
   "cell_type": "markdown",
   "id": "ffe86f65",
   "metadata": {
    "deletable": false,
    "editable": false,
    "id": "ffe86f65"
   },
   "source": [
    "Во второй части проекта вы выполните шаги 3 и 4. Их вручную проверит ревьюер.\n",
    "Чтобы вам не пришлось писать код заново для шагов 1 и 2, мы добавили авторские решения в ячейки с кодом. \n",
    "\n"
   ]
  },
  {
   "cell_type": "markdown",
   "id": "c0604c84-82c8-4e8a-b932-4490a9d35738",
   "metadata": {},
   "source": [
    "**Описание проекта**\n",
    "\n",
    "Заказчик — кредитный отдел банка. Нужно разобраться, влияет ли семейное положение и количество детей клиента на факт погашения кредита в срок. Входные данные от банка — статистика о платёжеспособности клиентов.\n",
    "\n",
    "Результаты исследования будут учтены при построении модели кредитного скоринга — специальной системы, которая оценивает способность потенциального заёмщика вернуть кредит банку.\n",
    "\n",
    "**Описание данных**\n",
    "* `children` — количество детей в семье\n",
    "* `days_employed` — общий трудовой стаж в днях\n",
    "* `dob_years` — возраст клиента в годах\n",
    "* `education` — уровень образования клиента\n",
    "* `education_id` — идентификатор уровня образования\n",
    "* `family_status` — семейное положение\n",
    "* `family_status_id` — идентификатор семейного положения\n",
    "* `gender` — пол клиента\n",
    "* `income_type` — тип занятости\n",
    "* `debt` — имел ли задолженность по возврату кредитов\n",
    "* `total_income` — ежемесячный доход\n",
    "* `purpose` — цель получения кредита"
   ]
  },
  {
   "cell_type": "markdown",
   "id": "26613308",
   "metadata": {
    "deletable": false,
    "editable": false,
    "id": "26613308"
   },
   "source": [
    "## Откройте таблицу и изучите общую информацию о данных"
   ]
  },
  {
   "cell_type": "markdown",
   "id": "3c9f838e",
   "metadata": {
    "deletable": false,
    "editable": false,
    "id": "3c9f838e"
   },
   "source": [
    "**Задание 1. Импортируйте библиотеку pandas. Считайте данные из csv-файла в датафрейм и сохраните в переменную `data`. Путь к файлу:**\n",
    "\n",
    "`/datasets/data.csv`"
   ]
  },
  {
   "cell_type": "code",
   "execution_count": 107,
   "id": "77a68a90",
   "metadata": {
    "deletable": false,
    "id": "77a68a90"
   },
   "outputs": [],
   "source": [
    "import pandas as pd\n",
    "\n",
    "try:\n",
    "    data = pd.read_csv('/datasets/data.csv')\n",
    "except:\n",
    "    data = pd.read_csv('https://code.s3.yandex.net/datasets/data.csv')"
   ]
  },
  {
   "cell_type": "markdown",
   "id": "45365635",
   "metadata": {
    "deletable": false,
    "editable": false,
    "id": "45365635"
   },
   "source": [
    "**Задание 2. Выведите первые 20 строчек датафрейма `data` на экран.**"
   ]
  },
  {
   "cell_type": "code",
   "execution_count": 108,
   "id": "b0451a9a",
   "metadata": {
    "deletable": false,
    "id": "b0451a9a",
    "outputId": "1a8f3ef2-d323-4ec2-ddf7-89670b5944c4"
   },
   "outputs": [
    {
     "data": {
      "text/html": [
       "<div>\n",
       "<style scoped>\n",
       "    .dataframe tbody tr th:only-of-type {\n",
       "        vertical-align: middle;\n",
       "    }\n",
       "\n",
       "    .dataframe tbody tr th {\n",
       "        vertical-align: top;\n",
       "    }\n",
       "\n",
       "    .dataframe thead th {\n",
       "        text-align: right;\n",
       "    }\n",
       "</style>\n",
       "<table border=\"1\" class=\"dataframe\">\n",
       "  <thead>\n",
       "    <tr style=\"text-align: right;\">\n",
       "      <th></th>\n",
       "      <th>children</th>\n",
       "      <th>days_employed</th>\n",
       "      <th>dob_years</th>\n",
       "      <th>education</th>\n",
       "      <th>education_id</th>\n",
       "      <th>family_status</th>\n",
       "      <th>family_status_id</th>\n",
       "      <th>gender</th>\n",
       "      <th>income_type</th>\n",
       "      <th>debt</th>\n",
       "      <th>total_income</th>\n",
       "      <th>purpose</th>\n",
       "    </tr>\n",
       "  </thead>\n",
       "  <tbody>\n",
       "    <tr>\n",
       "      <th>0</th>\n",
       "      <td>1</td>\n",
       "      <td>-8437.673028</td>\n",
       "      <td>42</td>\n",
       "      <td>высшее</td>\n",
       "      <td>0</td>\n",
       "      <td>женат / замужем</td>\n",
       "      <td>0</td>\n",
       "      <td>F</td>\n",
       "      <td>сотрудник</td>\n",
       "      <td>0</td>\n",
       "      <td>253875.639453</td>\n",
       "      <td>покупка жилья</td>\n",
       "    </tr>\n",
       "    <tr>\n",
       "      <th>1</th>\n",
       "      <td>1</td>\n",
       "      <td>-4024.803754</td>\n",
       "      <td>36</td>\n",
       "      <td>среднее</td>\n",
       "      <td>1</td>\n",
       "      <td>женат / замужем</td>\n",
       "      <td>0</td>\n",
       "      <td>F</td>\n",
       "      <td>сотрудник</td>\n",
       "      <td>0</td>\n",
       "      <td>112080.014102</td>\n",
       "      <td>приобретение автомобиля</td>\n",
       "    </tr>\n",
       "    <tr>\n",
       "      <th>2</th>\n",
       "      <td>0</td>\n",
       "      <td>-5623.422610</td>\n",
       "      <td>33</td>\n",
       "      <td>Среднее</td>\n",
       "      <td>1</td>\n",
       "      <td>женат / замужем</td>\n",
       "      <td>0</td>\n",
       "      <td>M</td>\n",
       "      <td>сотрудник</td>\n",
       "      <td>0</td>\n",
       "      <td>145885.952297</td>\n",
       "      <td>покупка жилья</td>\n",
       "    </tr>\n",
       "    <tr>\n",
       "      <th>3</th>\n",
       "      <td>3</td>\n",
       "      <td>-4124.747207</td>\n",
       "      <td>32</td>\n",
       "      <td>среднее</td>\n",
       "      <td>1</td>\n",
       "      <td>женат / замужем</td>\n",
       "      <td>0</td>\n",
       "      <td>M</td>\n",
       "      <td>сотрудник</td>\n",
       "      <td>0</td>\n",
       "      <td>267628.550329</td>\n",
       "      <td>дополнительное образование</td>\n",
       "    </tr>\n",
       "    <tr>\n",
       "      <th>4</th>\n",
       "      <td>0</td>\n",
       "      <td>340266.072047</td>\n",
       "      <td>53</td>\n",
       "      <td>среднее</td>\n",
       "      <td>1</td>\n",
       "      <td>гражданский брак</td>\n",
       "      <td>1</td>\n",
       "      <td>F</td>\n",
       "      <td>пенсионер</td>\n",
       "      <td>0</td>\n",
       "      <td>158616.077870</td>\n",
       "      <td>сыграть свадьбу</td>\n",
       "    </tr>\n",
       "    <tr>\n",
       "      <th>5</th>\n",
       "      <td>0</td>\n",
       "      <td>-926.185831</td>\n",
       "      <td>27</td>\n",
       "      <td>высшее</td>\n",
       "      <td>0</td>\n",
       "      <td>гражданский брак</td>\n",
       "      <td>1</td>\n",
       "      <td>M</td>\n",
       "      <td>компаньон</td>\n",
       "      <td>0</td>\n",
       "      <td>255763.565419</td>\n",
       "      <td>покупка жилья</td>\n",
       "    </tr>\n",
       "    <tr>\n",
       "      <th>6</th>\n",
       "      <td>0</td>\n",
       "      <td>-2879.202052</td>\n",
       "      <td>43</td>\n",
       "      <td>высшее</td>\n",
       "      <td>0</td>\n",
       "      <td>женат / замужем</td>\n",
       "      <td>0</td>\n",
       "      <td>F</td>\n",
       "      <td>компаньон</td>\n",
       "      <td>0</td>\n",
       "      <td>240525.971920</td>\n",
       "      <td>операции с жильем</td>\n",
       "    </tr>\n",
       "    <tr>\n",
       "      <th>7</th>\n",
       "      <td>0</td>\n",
       "      <td>-152.779569</td>\n",
       "      <td>50</td>\n",
       "      <td>СРЕДНЕЕ</td>\n",
       "      <td>1</td>\n",
       "      <td>женат / замужем</td>\n",
       "      <td>0</td>\n",
       "      <td>M</td>\n",
       "      <td>сотрудник</td>\n",
       "      <td>0</td>\n",
       "      <td>135823.934197</td>\n",
       "      <td>образование</td>\n",
       "    </tr>\n",
       "    <tr>\n",
       "      <th>8</th>\n",
       "      <td>2</td>\n",
       "      <td>-6929.865299</td>\n",
       "      <td>35</td>\n",
       "      <td>ВЫСШЕЕ</td>\n",
       "      <td>0</td>\n",
       "      <td>гражданский брак</td>\n",
       "      <td>1</td>\n",
       "      <td>F</td>\n",
       "      <td>сотрудник</td>\n",
       "      <td>0</td>\n",
       "      <td>95856.832424</td>\n",
       "      <td>на проведение свадьбы</td>\n",
       "    </tr>\n",
       "    <tr>\n",
       "      <th>9</th>\n",
       "      <td>0</td>\n",
       "      <td>-2188.756445</td>\n",
       "      <td>41</td>\n",
       "      <td>среднее</td>\n",
       "      <td>1</td>\n",
       "      <td>женат / замужем</td>\n",
       "      <td>0</td>\n",
       "      <td>M</td>\n",
       "      <td>сотрудник</td>\n",
       "      <td>0</td>\n",
       "      <td>144425.938277</td>\n",
       "      <td>покупка жилья для семьи</td>\n",
       "    </tr>\n",
       "    <tr>\n",
       "      <th>10</th>\n",
       "      <td>2</td>\n",
       "      <td>-4171.483647</td>\n",
       "      <td>36</td>\n",
       "      <td>высшее</td>\n",
       "      <td>0</td>\n",
       "      <td>женат / замужем</td>\n",
       "      <td>0</td>\n",
       "      <td>M</td>\n",
       "      <td>компаньон</td>\n",
       "      <td>0</td>\n",
       "      <td>113943.491460</td>\n",
       "      <td>покупка недвижимости</td>\n",
       "    </tr>\n",
       "    <tr>\n",
       "      <th>11</th>\n",
       "      <td>0</td>\n",
       "      <td>-792.701887</td>\n",
       "      <td>40</td>\n",
       "      <td>среднее</td>\n",
       "      <td>1</td>\n",
       "      <td>женат / замужем</td>\n",
       "      <td>0</td>\n",
       "      <td>F</td>\n",
       "      <td>сотрудник</td>\n",
       "      <td>0</td>\n",
       "      <td>77069.234271</td>\n",
       "      <td>покупка коммерческой недвижимости</td>\n",
       "    </tr>\n",
       "    <tr>\n",
       "      <th>12</th>\n",
       "      <td>0</td>\n",
       "      <td>NaN</td>\n",
       "      <td>65</td>\n",
       "      <td>среднее</td>\n",
       "      <td>1</td>\n",
       "      <td>гражданский брак</td>\n",
       "      <td>1</td>\n",
       "      <td>M</td>\n",
       "      <td>пенсионер</td>\n",
       "      <td>0</td>\n",
       "      <td>NaN</td>\n",
       "      <td>сыграть свадьбу</td>\n",
       "    </tr>\n",
       "    <tr>\n",
       "      <th>13</th>\n",
       "      <td>0</td>\n",
       "      <td>-1846.641941</td>\n",
       "      <td>54</td>\n",
       "      <td>неоконченное высшее</td>\n",
       "      <td>2</td>\n",
       "      <td>женат / замужем</td>\n",
       "      <td>0</td>\n",
       "      <td>F</td>\n",
       "      <td>сотрудник</td>\n",
       "      <td>0</td>\n",
       "      <td>130458.228857</td>\n",
       "      <td>приобретение автомобиля</td>\n",
       "    </tr>\n",
       "    <tr>\n",
       "      <th>14</th>\n",
       "      <td>0</td>\n",
       "      <td>-1844.956182</td>\n",
       "      <td>56</td>\n",
       "      <td>высшее</td>\n",
       "      <td>0</td>\n",
       "      <td>гражданский брак</td>\n",
       "      <td>1</td>\n",
       "      <td>F</td>\n",
       "      <td>компаньон</td>\n",
       "      <td>1</td>\n",
       "      <td>165127.911772</td>\n",
       "      <td>покупка жилой недвижимости</td>\n",
       "    </tr>\n",
       "    <tr>\n",
       "      <th>15</th>\n",
       "      <td>1</td>\n",
       "      <td>-972.364419</td>\n",
       "      <td>26</td>\n",
       "      <td>среднее</td>\n",
       "      <td>1</td>\n",
       "      <td>женат / замужем</td>\n",
       "      <td>0</td>\n",
       "      <td>F</td>\n",
       "      <td>сотрудник</td>\n",
       "      <td>0</td>\n",
       "      <td>116820.904450</td>\n",
       "      <td>строительство собственной недвижимости</td>\n",
       "    </tr>\n",
       "    <tr>\n",
       "      <th>16</th>\n",
       "      <td>0</td>\n",
       "      <td>-1719.934226</td>\n",
       "      <td>35</td>\n",
       "      <td>среднее</td>\n",
       "      <td>1</td>\n",
       "      <td>женат / замужем</td>\n",
       "      <td>0</td>\n",
       "      <td>F</td>\n",
       "      <td>сотрудник</td>\n",
       "      <td>0</td>\n",
       "      <td>289202.704229</td>\n",
       "      <td>недвижимость</td>\n",
       "    </tr>\n",
       "    <tr>\n",
       "      <th>17</th>\n",
       "      <td>0</td>\n",
       "      <td>-2369.999720</td>\n",
       "      <td>33</td>\n",
       "      <td>высшее</td>\n",
       "      <td>0</td>\n",
       "      <td>гражданский брак</td>\n",
       "      <td>1</td>\n",
       "      <td>M</td>\n",
       "      <td>сотрудник</td>\n",
       "      <td>0</td>\n",
       "      <td>90410.586745</td>\n",
       "      <td>строительство недвижимости</td>\n",
       "    </tr>\n",
       "    <tr>\n",
       "      <th>18</th>\n",
       "      <td>0</td>\n",
       "      <td>400281.136913</td>\n",
       "      <td>53</td>\n",
       "      <td>среднее</td>\n",
       "      <td>1</td>\n",
       "      <td>вдовец / вдова</td>\n",
       "      <td>2</td>\n",
       "      <td>F</td>\n",
       "      <td>пенсионер</td>\n",
       "      <td>0</td>\n",
       "      <td>56823.777243</td>\n",
       "      <td>на покупку подержанного автомобиля</td>\n",
       "    </tr>\n",
       "    <tr>\n",
       "      <th>19</th>\n",
       "      <td>0</td>\n",
       "      <td>-10038.818549</td>\n",
       "      <td>48</td>\n",
       "      <td>СРЕДНЕЕ</td>\n",
       "      <td>1</td>\n",
       "      <td>в разводе</td>\n",
       "      <td>3</td>\n",
       "      <td>F</td>\n",
       "      <td>сотрудник</td>\n",
       "      <td>0</td>\n",
       "      <td>242831.107982</td>\n",
       "      <td>на покупку своего автомобиля</td>\n",
       "    </tr>\n",
       "  </tbody>\n",
       "</table>\n",
       "</div>"
      ],
      "text/plain": [
       "    children  days_employed  dob_years            education  education_id  \\\n",
       "0          1   -8437.673028         42               высшее             0   \n",
       "1          1   -4024.803754         36              среднее             1   \n",
       "2          0   -5623.422610         33              Среднее             1   \n",
       "3          3   -4124.747207         32              среднее             1   \n",
       "4          0  340266.072047         53              среднее             1   \n",
       "5          0    -926.185831         27               высшее             0   \n",
       "6          0   -2879.202052         43               высшее             0   \n",
       "7          0    -152.779569         50              СРЕДНЕЕ             1   \n",
       "8          2   -6929.865299         35               ВЫСШЕЕ             0   \n",
       "9          0   -2188.756445         41              среднее             1   \n",
       "10         2   -4171.483647         36               высшее             0   \n",
       "11         0    -792.701887         40              среднее             1   \n",
       "12         0            NaN         65              среднее             1   \n",
       "13         0   -1846.641941         54  неоконченное высшее             2   \n",
       "14         0   -1844.956182         56               высшее             0   \n",
       "15         1    -972.364419         26              среднее             1   \n",
       "16         0   -1719.934226         35              среднее             1   \n",
       "17         0   -2369.999720         33               высшее             0   \n",
       "18         0  400281.136913         53              среднее             1   \n",
       "19         0  -10038.818549         48              СРЕДНЕЕ             1   \n",
       "\n",
       "       family_status  family_status_id gender income_type  debt  \\\n",
       "0    женат / замужем                 0      F   сотрудник     0   \n",
       "1    женат / замужем                 0      F   сотрудник     0   \n",
       "2    женат / замужем                 0      M   сотрудник     0   \n",
       "3    женат / замужем                 0      M   сотрудник     0   \n",
       "4   гражданский брак                 1      F   пенсионер     0   \n",
       "5   гражданский брак                 1      M   компаньон     0   \n",
       "6    женат / замужем                 0      F   компаньон     0   \n",
       "7    женат / замужем                 0      M   сотрудник     0   \n",
       "8   гражданский брак                 1      F   сотрудник     0   \n",
       "9    женат / замужем                 0      M   сотрудник     0   \n",
       "10   женат / замужем                 0      M   компаньон     0   \n",
       "11   женат / замужем                 0      F   сотрудник     0   \n",
       "12  гражданский брак                 1      M   пенсионер     0   \n",
       "13   женат / замужем                 0      F   сотрудник     0   \n",
       "14  гражданский брак                 1      F   компаньон     1   \n",
       "15   женат / замужем                 0      F   сотрудник     0   \n",
       "16   женат / замужем                 0      F   сотрудник     0   \n",
       "17  гражданский брак                 1      M   сотрудник     0   \n",
       "18    вдовец / вдова                 2      F   пенсионер     0   \n",
       "19         в разводе                 3      F   сотрудник     0   \n",
       "\n",
       "     total_income                                 purpose  \n",
       "0   253875.639453                           покупка жилья  \n",
       "1   112080.014102                 приобретение автомобиля  \n",
       "2   145885.952297                           покупка жилья  \n",
       "3   267628.550329              дополнительное образование  \n",
       "4   158616.077870                         сыграть свадьбу  \n",
       "5   255763.565419                           покупка жилья  \n",
       "6   240525.971920                       операции с жильем  \n",
       "7   135823.934197                             образование  \n",
       "8    95856.832424                   на проведение свадьбы  \n",
       "9   144425.938277                 покупка жилья для семьи  \n",
       "10  113943.491460                    покупка недвижимости  \n",
       "11   77069.234271       покупка коммерческой недвижимости  \n",
       "12            NaN                         сыграть свадьбу  \n",
       "13  130458.228857                 приобретение автомобиля  \n",
       "14  165127.911772              покупка жилой недвижимости  \n",
       "15  116820.904450  строительство собственной недвижимости  \n",
       "16  289202.704229                            недвижимость  \n",
       "17   90410.586745              строительство недвижимости  \n",
       "18   56823.777243      на покупку подержанного автомобиля  \n",
       "19  242831.107982            на покупку своего автомобиля  "
      ]
     },
     "execution_count": 108,
     "metadata": {},
     "output_type": "execute_result"
    }
   ],
   "source": [
    "data.head(20)"
   ]
  },
  {
   "cell_type": "markdown",
   "id": "0ed8f27f",
   "metadata": {
    "deletable": false,
    "editable": false,
    "id": "0ed8f27f"
   },
   "source": [
    "**Задание 3. Выведите основную информацию о датафрейме с помощью метода `info()`.**"
   ]
  },
  {
   "cell_type": "code",
   "execution_count": 109,
   "id": "ab3f863b",
   "metadata": {
    "deletable": false,
    "id": "ab3f863b",
    "outputId": "15376089-8dad-46c9-b520-c05248d43158"
   },
   "outputs": [
    {
     "name": "stdout",
     "output_type": "stream",
     "text": [
      "<class 'pandas.core.frame.DataFrame'>\n",
      "RangeIndex: 21525 entries, 0 to 21524\n",
      "Data columns (total 12 columns):\n",
      " #   Column            Non-Null Count  Dtype  \n",
      "---  ------            --------------  -----  \n",
      " 0   children          21525 non-null  int64  \n",
      " 1   days_employed     19351 non-null  float64\n",
      " 2   dob_years         21525 non-null  int64  \n",
      " 3   education         21525 non-null  object \n",
      " 4   education_id      21525 non-null  int64  \n",
      " 5   family_status     21525 non-null  object \n",
      " 6   family_status_id  21525 non-null  int64  \n",
      " 7   gender            21525 non-null  object \n",
      " 8   income_type       21525 non-null  object \n",
      " 9   debt              21525 non-null  int64  \n",
      " 10  total_income      19351 non-null  float64\n",
      " 11  purpose           21525 non-null  object \n",
      "dtypes: float64(2), int64(5), object(5)\n",
      "memory usage: 2.0+ MB\n"
     ]
    }
   ],
   "source": [
    "data.info()"
   ]
  },
  {
   "cell_type": "markdown",
   "id": "60e3e22d",
   "metadata": {
    "deletable": false,
    "editable": false,
    "id": "60e3e22d"
   },
   "source": [
    "## Предобработка данных"
   ]
  },
  {
   "cell_type": "markdown",
   "id": "03dc170c",
   "metadata": {
    "deletable": false,
    "editable": false,
    "id": "03dc170c"
   },
   "source": [
    "### Удаление пропусков"
   ]
  },
  {
   "cell_type": "markdown",
   "id": "a4f54eef",
   "metadata": {
    "deletable": false,
    "editable": false,
    "id": "a4f54eef"
   },
   "source": [
    "**Задание 4. Выведите количество пропущенных значений для каждого столбца. Используйте комбинацию двух методов.**"
   ]
  },
  {
   "cell_type": "code",
   "execution_count": 110,
   "id": "2dc372b2",
   "metadata": {
    "deletable": false,
    "id": "2dc372b2",
    "outputId": "81f4d817-781c-465c-ed15-91ce4446810d"
   },
   "outputs": [
    {
     "data": {
      "text/plain": [
       "children               0\n",
       "days_employed       2174\n",
       "dob_years              0\n",
       "education              0\n",
       "education_id           0\n",
       "family_status          0\n",
       "family_status_id       0\n",
       "gender                 0\n",
       "income_type            0\n",
       "debt                   0\n",
       "total_income        2174\n",
       "purpose                0\n",
       "dtype: int64"
      ]
     },
     "execution_count": 110,
     "metadata": {},
     "output_type": "execute_result"
    }
   ],
   "source": [
    "data.isna().sum()"
   ]
  },
  {
   "cell_type": "markdown",
   "id": "14f011b1",
   "metadata": {
    "deletable": false,
    "editable": false,
    "id": "14f011b1"
   },
   "source": [
    "**Задание 5. В двух столбцах есть пропущенные значения. Один из них — `days_employed`. Пропуски в этом столбце вы обработаете на следующем этапе. Другой столбец с пропущенными значениями — `total_income` — хранит данные о доходах. На сумму дохода сильнее всего влияет тип занятости, поэтому заполнить пропуски в этом столбце нужно медианным значением по каждому типу из столбца `income_type`. Например, у человека с типом занятости `сотрудник` пропуск в столбце `total_income` должен быть заполнен медианным доходом среди всех записей с тем же типом.**"
   ]
  },
  {
   "cell_type": "code",
   "execution_count": 111,
   "id": "bdabfb6e",
   "metadata": {
    "deletable": false,
    "id": "bdabfb6e"
   },
   "outputs": [],
   "source": [
    "for t in data['income_type'].unique():\n",
    "    data.loc[(data['income_type'] == t) & (data['total_income'].isna()), 'total_income'] = \\\n",
    "    data.loc[(data['income_type'] == t), 'total_income'].median()"
   ]
  },
  {
   "cell_type": "markdown",
   "id": "5be34059",
   "metadata": {
    "deletable": false,
    "editable": false,
    "id": "5be34059"
   },
   "source": [
    "### Обработка аномальных значений"
   ]
  },
  {
   "cell_type": "markdown",
   "id": "a87606cb",
   "metadata": {
    "deletable": false,
    "editable": false,
    "id": "a87606cb"
   },
   "source": [
    "**Задание 6. В данных могут встречаться артефакты (аномалии) — значения, которые не отражают действительность и появились по какой-то ошибке. таким артефактом будет отрицательное количество дней трудового стажа в столбце `days_employed`. Для реальных данных это нормально. Обработайте значения в этом столбце: замените все отрицательные значения положительными с помощью метода `abs()`.**"
   ]
  },
  {
   "cell_type": "code",
   "execution_count": 112,
   "id": "020c46cc",
   "metadata": {
    "deletable": false,
    "id": "020c46cc"
   },
   "outputs": [],
   "source": [
    "data['days_employed'] = data['days_employed'].abs()"
   ]
  },
  {
   "cell_type": "markdown",
   "id": "45538a3a",
   "metadata": {
    "deletable": false,
    "editable": false,
    "id": "45538a3a"
   },
   "source": [
    "**Задание 7. Для каждого типа занятости выведите медианное значение трудового стажа `days_employed` в днях.**"
   ]
  },
  {
   "cell_type": "code",
   "execution_count": 113,
   "id": "cd3e6328",
   "metadata": {
    "deletable": false,
    "id": "cd3e6328",
    "outputId": "801ef80e-522b-4668-f34e-565af7432bcf"
   },
   "outputs": [
    {
     "data": {
      "text/plain": [
       "income_type\n",
       "безработный        366413.652744\n",
       "в декрете            3296.759962\n",
       "госслужащий          2689.368353\n",
       "компаньон            1547.382223\n",
       "пенсионер          365213.306266\n",
       "предприниматель       520.848083\n",
       "сотрудник            1574.202821\n",
       "студент               578.751554\n",
       "Name: days_employed, dtype: float64"
      ]
     },
     "execution_count": 113,
     "metadata": {},
     "output_type": "execute_result"
    }
   ],
   "source": [
    "data.groupby('income_type')['days_employed'].agg('median')"
   ]
  },
  {
   "cell_type": "markdown",
   "id": "90c5f058",
   "metadata": {
    "deletable": false,
    "editable": false,
    "id": "90c5f058"
   },
   "source": [
    "У двух типов (безработные и пенсионеры) получатся аномально большие значения. Исправить такие значения сложно, поэтому оставьте их как есть."
   ]
  },
  {
   "cell_type": "markdown",
   "id": "9652e50d",
   "metadata": {
    "deletable": false,
    "editable": false,
    "id": "9652e50d"
   },
   "source": [
    "**Задание 8. Выведите перечень уникальных значений столбца `children`.**"
   ]
  },
  {
   "cell_type": "code",
   "execution_count": 114,
   "id": "dbb37b8e",
   "metadata": {
    "deletable": false,
    "id": "dbb37b8e",
    "outputId": "6975b15c-7f95-4697-d16d-a0c79b657b03"
   },
   "outputs": [
    {
     "data": {
      "text/plain": [
       "array([ 1,  0,  3,  2, -1,  4, 20,  5])"
      ]
     },
     "execution_count": 114,
     "metadata": {},
     "output_type": "execute_result"
    }
   ],
   "source": [
    "data['children'].unique()"
   ]
  },
  {
   "cell_type": "markdown",
   "id": "2b8b0715",
   "metadata": {
    "deletable": false,
    "editable": false,
    "id": "2b8b0715"
   },
   "source": [
    "**Задание 9. В столбце `children` есть два аномальных значения. Удалите строки, в которых встречаются такие аномальные значения из датафрейма `data`.**"
   ]
  },
  {
   "cell_type": "code",
   "execution_count": 115,
   "id": "20009df8",
   "metadata": {
    "deletable": false,
    "id": "20009df8"
   },
   "outputs": [],
   "source": [
    "data = data[(data['children'] != -1) & (data['children'] != 20)]"
   ]
  },
  {
   "cell_type": "markdown",
   "id": "8c6ac9f1",
   "metadata": {
    "deletable": false,
    "editable": false,
    "id": "8c6ac9f1"
   },
   "source": [
    "**Задание 10. Ещё раз выведите перечень уникальных значений столбца `children`, чтобы убедиться, что артефакты удалены.**"
   ]
  },
  {
   "cell_type": "code",
   "execution_count": 116,
   "id": "07337b81",
   "metadata": {
    "deletable": false,
    "id": "07337b81",
    "outputId": "b2097101-d49d-44d9-901b-32a65c9463d1"
   },
   "outputs": [
    {
     "data": {
      "text/plain": [
       "array([1, 0, 3, 2, 4, 5])"
      ]
     },
     "execution_count": 116,
     "metadata": {},
     "output_type": "execute_result"
    }
   ],
   "source": [
    "data['children'].unique()"
   ]
  },
  {
   "cell_type": "markdown",
   "id": "ee3f52d4",
   "metadata": {
    "deletable": false,
    "editable": false,
    "id": "ee3f52d4"
   },
   "source": [
    "### Удаление пропусков (продолжение)"
   ]
  },
  {
   "cell_type": "markdown",
   "id": "a700b0e4",
   "metadata": {
    "deletable": false,
    "editable": false,
    "id": "a700b0e4"
   },
   "source": [
    "**Задание 11. Заполните пропуски в столбце `days_employed` медианными значениями по каждого типа занятости `income_type`.**"
   ]
  },
  {
   "cell_type": "code",
   "execution_count": 117,
   "id": "61946b83",
   "metadata": {
    "deletable": false,
    "id": "61946b83"
   },
   "outputs": [],
   "source": [
    "for t in data['income_type'].unique():\n",
    "    data.loc[(data['income_type'] == t) & (data['days_employed'].isna()), 'days_employed'] = \\\n",
    "    data.loc[(data['income_type'] == t), 'days_employed'].median()"
   ]
  },
  {
   "cell_type": "markdown",
   "id": "550dcd9b",
   "metadata": {
    "deletable": false,
    "editable": false,
    "id": "550dcd9b"
   },
   "source": [
    "**Задание 12. Убедитесь, что все пропуски заполнены. Проверьте себя и ещё раз выведите количество пропущенных значений для каждого столбца с помощью двух методов.**"
   ]
  },
  {
   "cell_type": "code",
   "execution_count": 118,
   "id": "937c7014",
   "metadata": {
    "deletable": false,
    "id": "937c7014",
    "outputId": "8da1e4e1-358e-4e87-98c9-f261bce0a7b2"
   },
   "outputs": [
    {
     "data": {
      "text/plain": [
       "children            0\n",
       "days_employed       0\n",
       "dob_years           0\n",
       "education           0\n",
       "education_id        0\n",
       "family_status       0\n",
       "family_status_id    0\n",
       "gender              0\n",
       "income_type         0\n",
       "debt                0\n",
       "total_income        0\n",
       "purpose             0\n",
       "dtype: int64"
      ]
     },
     "execution_count": 118,
     "metadata": {},
     "output_type": "execute_result"
    }
   ],
   "source": [
    "data.isna().sum()"
   ]
  },
  {
   "cell_type": "markdown",
   "id": "d522e295",
   "metadata": {
    "deletable": false,
    "editable": false,
    "id": "d522e295"
   },
   "source": [
    "### Изменение типов данных"
   ]
  },
  {
   "cell_type": "markdown",
   "id": "c229c581",
   "metadata": {
    "deletable": false,
    "editable": false,
    "id": "c229c581"
   },
   "source": [
    "**Задание 13. Замените вещественный тип данных в столбце `total_income` на целочисленный с помощью метода `astype()`.**"
   ]
  },
  {
   "cell_type": "code",
   "execution_count": 119,
   "id": "31036462",
   "metadata": {
    "deletable": false,
    "id": "31036462"
   },
   "outputs": [],
   "source": [
    "data['total_income'] = data['total_income'].astype(int)"
   ]
  },
  {
   "cell_type": "markdown",
   "id": "b8e3d1d9",
   "metadata": {
    "deletable": false,
    "editable": false,
    "id": "b8e3d1d9"
   },
   "source": [
    "### Обработка дубликатов"
   ]
  },
  {
   "cell_type": "markdown",
   "id": "9be53c49",
   "metadata": {
    "deletable": false,
    "editable": false,
    "id": "9be53c49"
   },
   "source": [
    "**Задание 14. Обработайте неявные дубликаты в столбце `education`. В этом столбце есть одни и те же значения, но записанные по-разному: с использованием заглавных и строчных букв. Приведите их к нижнему регистру.**"
   ]
  },
  {
   "cell_type": "code",
   "execution_count": 120,
   "id": "d89e73e1",
   "metadata": {
    "deletable": false,
    "id": "d89e73e1"
   },
   "outputs": [],
   "source": [
    "data['education'] = data['education'].str.lower()"
   ]
  },
  {
   "cell_type": "markdown",
   "id": "01d4500e",
   "metadata": {
    "deletable": false,
    "editable": false,
    "id": "01d4500e"
   },
   "source": [
    "**Задание 15. Выведите на экран количество строк-дубликатов в данных. Если такие строки присутствуют, удалите их.**"
   ]
  },
  {
   "cell_type": "code",
   "execution_count": 121,
   "id": "e10efb23",
   "metadata": {
    "deletable": false,
    "id": "e10efb23",
    "outputId": "9684deba-1934-42d1-99e1-cda61740f822"
   },
   "outputs": [
    {
     "data": {
      "text/plain": [
       "71"
      ]
     },
     "execution_count": 121,
     "metadata": {},
     "output_type": "execute_result"
    }
   ],
   "source": [
    "data.duplicated().sum()"
   ]
  },
  {
   "cell_type": "code",
   "execution_count": 122,
   "id": "df853f20",
   "metadata": {
    "deletable": false,
    "id": "df853f20"
   },
   "outputs": [],
   "source": [
    "data = data.drop_duplicates()"
   ]
  },
  {
   "cell_type": "markdown",
   "id": "627be38f",
   "metadata": {
    "deletable": false,
    "editable": false,
    "id": "627be38f"
   },
   "source": [
    "### Категоризация данных"
   ]
  },
  {
   "cell_type": "markdown",
   "id": "4684c3e0",
   "metadata": {
    "deletable": false,
    "editable": false,
    "id": "4684c3e0"
   },
   "source": [
    "**Задание 16. На основании диапазонов, указанных ниже, создайте в датафрейме `data` столбец `total_income_category` с категориями:**\n",
    "\n",
    "- 0–30000 — `'E'`;\n",
    "- 30001–50000 — `'D'`;\n",
    "- 50001–200000 — `'C'`;\n",
    "- 200001–1000000 — `'B'`;\n",
    "- 1000001 и выше — `'A'`.\n",
    "\n",
    "\n",
    "**Например, кредитополучателю с доходом 25000 нужно назначить категорию `'E'`, а клиенту, получающему 235000, — `'B'`. Используйте собственную функцию с именем `categorize_income()` и метод `apply()`.**"
   ]
  },
  {
   "cell_type": "code",
   "execution_count": 123,
   "id": "78965238",
   "metadata": {
    "deletable": false,
    "id": "78965238"
   },
   "outputs": [],
   "source": [
    "def categorize_income(income):\n",
    "    try:\n",
    "        if 0 <= income <= 30000:\n",
    "            return 'E'\n",
    "        elif 30001 <= income <= 50000:\n",
    "            return 'D'\n",
    "        elif 50001 <= income <= 200000:\n",
    "            return 'C'\n",
    "        elif 200001 <= income <= 1000000:\n",
    "            return 'B'\n",
    "        elif income >= 1000001:\n",
    "            return 'A'\n",
    "    except:\n",
    "        pass"
   ]
  },
  {
   "cell_type": "code",
   "execution_count": 124,
   "id": "0980ada1",
   "metadata": {
    "deletable": false,
    "id": "0980ada1"
   },
   "outputs": [],
   "source": [
    "data['total_income_category'] = data['total_income'].apply(categorize_income)"
   ]
  },
  {
   "cell_type": "markdown",
   "id": "9917bba0",
   "metadata": {
    "deletable": false,
    "editable": false,
    "id": "9917bba0"
   },
   "source": [
    "**Задание 17. Выведите на экран перечень уникальных целей взятия кредита из столбца `purpose`.**"
   ]
  },
  {
   "cell_type": "code",
   "execution_count": 125,
   "id": "ee07b65e",
   "metadata": {
    "deletable": false,
    "id": "ee07b65e",
    "outputId": "673c12d9-7d7e-4ae0-9812-c622c89dd244"
   },
   "outputs": [
    {
     "data": {
      "text/plain": [
       "array(['покупка жилья', 'приобретение автомобиля',\n",
       "       'дополнительное образование', 'сыграть свадьбу',\n",
       "       'операции с жильем', 'образование', 'на проведение свадьбы',\n",
       "       'покупка жилья для семьи', 'покупка недвижимости',\n",
       "       'покупка коммерческой недвижимости', 'покупка жилой недвижимости',\n",
       "       'строительство собственной недвижимости', 'недвижимость',\n",
       "       'строительство недвижимости', 'на покупку подержанного автомобиля',\n",
       "       'на покупку своего автомобиля',\n",
       "       'операции с коммерческой недвижимостью',\n",
       "       'строительство жилой недвижимости', 'жилье',\n",
       "       'операции со своей недвижимостью', 'автомобили',\n",
       "       'заняться образованием', 'сделка с подержанным автомобилем',\n",
       "       'получение образования', 'автомобиль', 'свадьба',\n",
       "       'получение дополнительного образования', 'покупка своего жилья',\n",
       "       'операции с недвижимостью', 'получение высшего образования',\n",
       "       'свой автомобиль', 'сделка с автомобилем',\n",
       "       'профильное образование', 'высшее образование',\n",
       "       'покупка жилья для сдачи', 'на покупку автомобиля', 'ремонт жилью',\n",
       "       'заняться высшим образованием'], dtype=object)"
      ]
     },
     "execution_count": 125,
     "metadata": {},
     "output_type": "execute_result"
    }
   ],
   "source": [
    "data['purpose'].unique()"
   ]
  },
  {
   "cell_type": "markdown",
   "id": "52b79d56",
   "metadata": {
    "deletable": false,
    "editable": false,
    "id": "52b79d56"
   },
   "source": [
    "**Задание 18. Создайте функцию, которая на основании данных из столбца `purpose` сформирует новый столбец `purpose_category`, в который войдут следующие категории:**\n",
    "\n",
    "- `'операции с автомобилем'`,\n",
    "- `'операции с недвижимостью'`,\n",
    "- `'проведение свадьбы'`,\n",
    "- `'получение образования'`.\n",
    "\n",
    "**Например, если в столбце `purpose` находится подстрока `'на покупку автомобиля'`, то в столбце `purpose_category` должна появиться строка `'операции с автомобилем'`.**\n",
    "\n",
    "**Используйте собственную функцию с именем `categorize_purpose()` и метод `apply()`. Изучите данные в столбце `purpose` и определите, какие подстроки помогут вам правильно определить категорию.**"
   ]
  },
  {
   "cell_type": "code",
   "execution_count": 126,
   "id": "be41da5d",
   "metadata": {
    "deletable": false,
    "id": "be41da5d"
   },
   "outputs": [],
   "source": [
    "def categorize_purpose(row):\n",
    "    try:\n",
    "        if 'автом' in row:\n",
    "            return 'операции с автомобилем'\n",
    "        elif 'жил' in row or 'недвиж' in row:\n",
    "            return 'операции с недвижимостью'\n",
    "        elif 'свад' in row:\n",
    "            return 'проведение свадьбы'\n",
    "        elif 'образов' in row:\n",
    "            return 'получение образования'\n",
    "    except:\n",
    "        return 'нет категории'"
   ]
  },
  {
   "cell_type": "code",
   "execution_count": 127,
   "id": "94c4a19a",
   "metadata": {
    "deletable": false,
    "id": "94c4a19a"
   },
   "outputs": [],
   "source": [
    "data['purpose_category'] = data['purpose'].apply(categorize_purpose)"
   ]
  },
  {
   "cell_type": "markdown",
   "id": "3d596c34",
   "metadata": {
    "deletable": false,
    "editable": false,
    "id": "3d596c34"
   },
   "source": [
    "### Шаг 3. Исследуйте данные и ответьте на вопросы"
   ]
  },
  {
   "cell_type": "markdown",
   "id": "648db036",
   "metadata": {
    "deletable": false,
    "editable": false,
    "id": "648db036"
   },
   "source": [
    "#### 3.1 Есть ли зависимость между количеством детей и возвратом кредита в срок?"
   ]
  },
  {
   "cell_type": "markdown",
   "id": "88e6ca2c",
   "metadata": {},
   "source": [
    "Узнаем какая часть клиентов с детьми и без детей имеют задолженность по возврату кредита."
   ]
  },
  {
   "cell_type": "code",
   "execution_count": 128,
   "id": "7fcff25e",
   "metadata": {
    "deletable": false,
    "id": "7fcff25e",
    "scrolled": true
   },
   "outputs": [
    {
     "data": {
      "text/html": [
       "<div>\n",
       "<style scoped>\n",
       "    .dataframe tbody tr th:only-of-type {\n",
       "        vertical-align: middle;\n",
       "    }\n",
       "\n",
       "    .dataframe tbody tr th {\n",
       "        vertical-align: top;\n",
       "    }\n",
       "\n",
       "    .dataframe thead th {\n",
       "        text-align: right;\n",
       "    }\n",
       "</style>\n",
       "<table border=\"1\" class=\"dataframe\">\n",
       "  <thead>\n",
       "    <tr style=\"text-align: right;\">\n",
       "      <th></th>\n",
       "      <th>mean</th>\n",
       "      <th>count</th>\n",
       "    </tr>\n",
       "    <tr>\n",
       "      <th>children</th>\n",
       "      <th></th>\n",
       "      <th></th>\n",
       "    </tr>\n",
       "  </thead>\n",
       "  <tbody>\n",
       "    <tr>\n",
       "      <th>5</th>\n",
       "      <td>0.00%</td>\n",
       "      <td>9</td>\n",
       "    </tr>\n",
       "    <tr>\n",
       "      <th>0</th>\n",
       "      <td>7.54%</td>\n",
       "      <td>14091</td>\n",
       "    </tr>\n",
       "    <tr>\n",
       "      <th>3</th>\n",
       "      <td>8.18%</td>\n",
       "      <td>330</td>\n",
       "    </tr>\n",
       "    <tr>\n",
       "      <th>1</th>\n",
       "      <td>9.23%</td>\n",
       "      <td>4808</td>\n",
       "    </tr>\n",
       "    <tr>\n",
       "      <th>2</th>\n",
       "      <td>9.45%</td>\n",
       "      <td>2052</td>\n",
       "    </tr>\n",
       "    <tr>\n",
       "      <th>4</th>\n",
       "      <td>9.76%</td>\n",
       "      <td>41</td>\n",
       "    </tr>\n",
       "  </tbody>\n",
       "</table>\n",
       "</div>"
      ],
      "text/plain": [
       "           mean  count\n",
       "children              \n",
       "5         0.00%      9\n",
       "0         7.54%  14091\n",
       "3         8.18%    330\n",
       "1         9.23%   4808\n",
       "2         9.45%   2052\n",
       "4         9.76%     41"
      ]
     },
     "execution_count": 128,
     "metadata": {},
     "output_type": "execute_result"
    }
   ],
   "source": [
    "# Сгруппируем данные из столбца \"наличие задолженностей по возврату кредита\" по количеству детей. \n",
    "# Выведем среднее значение и количество записей для каждого случая\n",
    "# Отсортируем по возрастанию среднего значения\n",
    "\n",
    "debt_children = data.groupby('children')['debt'].agg(['mean', 'count']).sort_values(by = 'mean')\n",
    "\n",
    "# Представим среднее сначение в процентном выражении\n",
    "def percent(x):\n",
    "    return \"{0:.2%}\".format(x)\n",
    "\n",
    "debt_children['mean'] = debt_children['mean'].apply(percent)\n",
    "debt_children"
   ]
  },
  {
   "cell_type": "markdown",
   "id": "2c2746e6",
   "metadata": {
    "id": "2eb9088e"
   },
   "source": [
    "**Вывод:** "
   ]
  },
  {
   "cell_type": "markdown",
   "id": "37045e46",
   "metadata": {},
   "source": [
    "- В представленном датафрейме заемщики с 5 детьми не имели задолженности по возврату кредитов. Но их количество слишком мало (9 клиентов из 21525), чтобы делать общие выводы.\n",
    "- Чаще всего берут кредиты клиенты, не имеющие детей (14091 записей). Эта категория заемщиков менее склонна к невозврату кредитов, чем клиенты, имеющие детей (7,54%).  \n",
    "- Процент случаев появления задолженнсти по возврату кредита у клиентов с детьми выше (8.18 - 9.76%%).\n",
    "\n",
    "Однако, прямой зависимости между количеством детей и задолженностью по возврату кредитов не наблюдается."
   ]
  },
  {
   "cell_type": "markdown",
   "id": "3e69fbe7",
   "metadata": {},
   "source": [
    "***Исправлено***\n",
    "\n",
    "Попробуем разбить клиентов на категории:\n",
    "- без детей,\n",
    "- семьи, в которых 1 ребенок,\n",
    "- семьи, в которых 2 ребенка,\n",
    "- многодетные семья (3 и более детей).\n",
    "\n",
    "Посчитаем процент задолженностей по возврату кредитов в этих группах"
   ]
  },
  {
   "cell_type": "code",
   "execution_count": 129,
   "id": "67841e2c",
   "metadata": {},
   "outputs": [
    {
     "data": {
      "text/html": [
       "<div>\n",
       "<style scoped>\n",
       "    .dataframe tbody tr th:only-of-type {\n",
       "        vertical-align: middle;\n",
       "    }\n",
       "\n",
       "    .dataframe tbody tr th {\n",
       "        vertical-align: top;\n",
       "    }\n",
       "\n",
       "    .dataframe thead th {\n",
       "        text-align: right;\n",
       "    }\n",
       "</style>\n",
       "<table border=\"1\" class=\"dataframe\">\n",
       "  <thead>\n",
       "    <tr style=\"text-align: right;\">\n",
       "      <th></th>\n",
       "      <th>mean</th>\n",
       "      <th>count</th>\n",
       "    </tr>\n",
       "    <tr>\n",
       "      <th>children_category</th>\n",
       "      <th></th>\n",
       "      <th></th>\n",
       "    </tr>\n",
       "  </thead>\n",
       "  <tbody>\n",
       "    <tr>\n",
       "      <th>нет детей</th>\n",
       "      <td>7.54%</td>\n",
       "      <td>14091</td>\n",
       "    </tr>\n",
       "    <tr>\n",
       "      <th>многодетная семья</th>\n",
       "      <td>8.16%</td>\n",
       "      <td>380</td>\n",
       "    </tr>\n",
       "    <tr>\n",
       "      <th>1 ребенок</th>\n",
       "      <td>9.23%</td>\n",
       "      <td>4808</td>\n",
       "    </tr>\n",
       "    <tr>\n",
       "      <th>2 детей</th>\n",
       "      <td>9.45%</td>\n",
       "      <td>2052</td>\n",
       "    </tr>\n",
       "  </tbody>\n",
       "</table>\n",
       "</div>"
      ],
      "text/plain": [
       "                    mean  count\n",
       "children_category              \n",
       "нет детей          7.54%  14091\n",
       "многодетная семья  8.16%    380\n",
       "1 ребенок          9.23%   4808\n",
       "2 детей            9.45%   2052"
      ]
     },
     "execution_count": 129,
     "metadata": {},
     "output_type": "execute_result"
    }
   ],
   "source": [
    "#Функция сhildren_category принимает каждое значение из столбца children\n",
    "# и распределяет его в группы соответственно количеству детей\n",
    "def children_category(children):\n",
    "    if children == 0:\n",
    "        return 'нет детей'\n",
    "    elif children == 1:\n",
    "        return '1 ребенок'\n",
    "    elif children == 2:\n",
    "        return '2 детей'\n",
    "    return 'многодетная семья'\n",
    "\n",
    "# добавим в датафрейм столбец children_category, найдем среднее сзачение столбца debt для каждой категории\n",
    "# отсортируем по возрастанию среднего значения\n",
    "data['children_category'] = data['children'].apply(children_category)\n",
    "debt_children_1 = data.groupby('children_category')['debt'].agg(['mean', 'count']).sort_values(by='mean')\n",
    "\n",
    "# выразим среднее в процентах\n",
    "def percent(x):\n",
    "    return \"{0:.2%}\".format(x)\n",
    "\n",
    "debt_children_1['mean'] = debt_children_1['mean'].apply(percent)\n",
    "debt_children_1"
   ]
  },
  {
   "cell_type": "markdown",
   "id": "2eb9088e",
   "metadata": {
    "deletable": false,
    "id": "2eb9088e"
   },
   "source": [
    "**Вывод:** "
   ]
  },
  {
   "cell_type": "markdown",
   "id": "eca34314",
   "metadata": {},
   "source": [
    "- 2/3 от всех клиентов - не имеют детей, среди них самый низкий процент задолженности по возврату кредита.\n",
    "- Многодетныех клиентов менее 2%. Процент задолженности по возврату у них выше клиентов без детей.\n",
    "- Клиенты, у которых 1 ребенок составляют 1/4 часть выборки, в этой группе процент задолженности по возврату выше остальных.\n",
    "- Клиенты с 2 детьми имеют самый высокий показатель просроченной задолженности по кредиту. \n",
    "- Абсолютная разница между минимальным и максимальным средним значением составляет 20%.\n",
    "\n",
    "На основании этих данных не удается установить корреляцию между количеством детей у клиента и возвратом кредита в срок. \n",
    "Необходимы более точные инструменты для оценки такой зависимости."
   ]
  },
  {
   "cell_type": "markdown",
   "id": "74c9b3a7",
   "metadata": {
    "deletable": false,
    "editable": false,
    "id": "74c9b3a7"
   },
   "source": [
    "#### 3.2 Есть ли зависимость между семейным положением и возвратом кредита в срок?"
   ]
  },
  {
   "cell_type": "markdown",
   "id": "861882ac",
   "metadata": {},
   "source": [
    "Узнаем, какие значения есть в столбце family_status"
   ]
  },
  {
   "cell_type": "code",
   "execution_count": 130,
   "id": "8098ab3b",
   "metadata": {
    "deletable": false,
    "id": "8098ab3b"
   },
   "outputs": [
    {
     "data": {
      "text/plain": [
       "женат / замужем          12261\n",
       "гражданский брак          4134\n",
       "Не женат / не замужем     2796\n",
       "в разводе                 1189\n",
       "вдовец / вдова             951\n",
       "Name: family_status, dtype: int64"
      ]
     },
     "execution_count": 130,
     "metadata": {},
     "output_type": "execute_result"
    }
   ],
   "source": [
    "data['family_status'].value_counts()"
   ]
  },
  {
   "cell_type": "code",
   "execution_count": 131,
   "id": "3ccbae95",
   "metadata": {},
   "outputs": [
    {
     "data": {
      "text/html": [
       "<div>\n",
       "<style scoped>\n",
       "    .dataframe tbody tr th:only-of-type {\n",
       "        vertical-align: middle;\n",
       "    }\n",
       "\n",
       "    .dataframe tbody tr th {\n",
       "        vertical-align: top;\n",
       "    }\n",
       "\n",
       "    .dataframe thead th {\n",
       "        text-align: right;\n",
       "    }\n",
       "</style>\n",
       "<table border=\"1\" class=\"dataframe\">\n",
       "  <thead>\n",
       "    <tr style=\"text-align: right;\">\n",
       "      <th></th>\n",
       "      <th>mean</th>\n",
       "      <th>count</th>\n",
       "    </tr>\n",
       "    <tr>\n",
       "      <th>family_status</th>\n",
       "      <th></th>\n",
       "      <th></th>\n",
       "    </tr>\n",
       "  </thead>\n",
       "  <tbody>\n",
       "    <tr>\n",
       "      <th>вдовец / вдова</th>\n",
       "      <td>6.62%</td>\n",
       "      <td>951</td>\n",
       "    </tr>\n",
       "    <tr>\n",
       "      <th>в разводе</th>\n",
       "      <td>7.06%</td>\n",
       "      <td>1189</td>\n",
       "    </tr>\n",
       "    <tr>\n",
       "      <th>женат / замужем</th>\n",
       "      <td>7.56%</td>\n",
       "      <td>12261</td>\n",
       "    </tr>\n",
       "    <tr>\n",
       "      <th>гражданский брак</th>\n",
       "      <td>9.31%</td>\n",
       "      <td>4134</td>\n",
       "    </tr>\n",
       "    <tr>\n",
       "      <th>Не женат / не замужем</th>\n",
       "      <td>9.76%</td>\n",
       "      <td>2796</td>\n",
       "    </tr>\n",
       "  </tbody>\n",
       "</table>\n",
       "</div>"
      ],
      "text/plain": [
       "                        mean  count\n",
       "family_status                      \n",
       "вдовец / вдова         6.62%    951\n",
       "в разводе              7.06%   1189\n",
       "женат / замужем        7.56%  12261\n",
       "гражданский брак       9.31%   4134\n",
       "Не женат / не замужем  9.76%   2796"
      ]
     },
     "execution_count": 131,
     "metadata": {},
     "output_type": "execute_result"
    }
   ],
   "source": [
    "# Сгруппируем данные из столбца \"наличие задолженностей по возврату кредита\" по категориям семейного положения. \n",
    "# Выведем среднее значение и количество записей для каждого случая\n",
    "\n",
    "debt_family_status = data.groupby('family_status')['debt'].agg(['mean', 'count']).sort_values(by='mean')\n",
    "\n",
    "# выразим среднее в процентах\n",
    "\n",
    "debt_family_status['mean'] = debt_family_status['mean'].apply(percent)\n",
    "debt_family_status"
   ]
  },
  {
   "cell_type": "markdown",
   "id": "c389ca63",
   "metadata": {
    "deletable": false,
    "id": "c389ca63"
   },
   "source": [
    "**Вывод:** \n",
    "- Группы вдовец/вдова и клиенты в разводе - самая малочисленная (10 часть выборки) и самая ответсвенная к возврату кредита категория клиентов. Объединив их в одну категорию, можно сказать, что люди, раннее состоявшие в отношениях, чаще возвращают кредит в срок.\n",
    "- Более половины от всех заемщиков состоят в отношениях (официальный брак). В этой категории процент задолженности по возврату кредита выше. \n",
    "- Около 1/3 заемщиков не женаты/не замужем или состоят в гражданском браке. Эта категория клиентов имеет самый высокий процент задолженности по возврату кредита. \n",
    "\n",
    "\n",
    "Можно сделать вывод о влиянии семейного положения на факт возврата кредита в срок."
   ]
  },
  {
   "cell_type": "code",
   "execution_count": 132,
   "id": "3bb024eb",
   "metadata": {},
   "outputs": [
    {
     "data": {
      "text/html": [
       "<div>\n",
       "<style scoped>\n",
       "    .dataframe tbody tr th:only-of-type {\n",
       "        vertical-align: middle;\n",
       "    }\n",
       "\n",
       "    .dataframe tbody tr th {\n",
       "        vertical-align: top;\n",
       "    }\n",
       "\n",
       "    .dataframe thead th {\n",
       "        text-align: right;\n",
       "    }\n",
       "</style>\n",
       "<table border=\"1\" class=\"dataframe\">\n",
       "  <thead>\n",
       "    <tr style=\"text-align: right;\">\n",
       "      <th>family_status</th>\n",
       "      <th>Не женат / не замужем</th>\n",
       "      <th>в разводе</th>\n",
       "      <th>вдовец / вдова</th>\n",
       "      <th>гражданский брак</th>\n",
       "      <th>женат / замужем</th>\n",
       "    </tr>\n",
       "  </thead>\n",
       "  <tbody>\n",
       "    <tr>\n",
       "      <th>debt</th>\n",
       "      <td>0.097639</td>\n",
       "      <td>0.070648</td>\n",
       "      <td>0.066246</td>\n",
       "      <td>0.093130</td>\n",
       "      <td>0.075606</td>\n",
       "    </tr>\n",
       "    <tr>\n",
       "      <th>dob_years</th>\n",
       "      <td>38.368026</td>\n",
       "      <td>45.561817</td>\n",
       "      <td>56.501577</td>\n",
       "      <td>42.067731</td>\n",
       "      <td>43.558519</td>\n",
       "    </tr>\n",
       "    <tr>\n",
       "      <th>total_income</th>\n",
       "      <td>166552.384478</td>\n",
       "      <td>167955.227082</td>\n",
       "      <td>142559.789695</td>\n",
       "      <td>164819.409289</td>\n",
       "      <td>166757.122584</td>\n",
       "    </tr>\n",
       "  </tbody>\n",
       "</table>\n",
       "</div>"
      ],
      "text/plain": [
       "family_status  Не женат / не замужем      в разводе  вдовец / вдова  \\\n",
       "debt                        0.097639       0.070648        0.066246   \n",
       "dob_years                  38.368026      45.561817       56.501577   \n",
       "total_income           166552.384478  167955.227082   142559.789695   \n",
       "\n",
       "family_status  гражданский брак  женат / замужем  \n",
       "debt                   0.093130         0.075606  \n",
       "dob_years             42.067731        43.558519  \n",
       "total_income      164819.409289    166757.122584  "
      ]
     },
     "execution_count": 132,
     "metadata": {},
     "output_type": "execute_result"
    }
   ],
   "source": [
    "debt_family_status1 = pd.pivot_table(data,                                     \n",
    "                                     columns = 'family_status',\n",
    "                                     values = ('dob_years', 'debt', 'total_income'),\n",
    "                                     aggfunc = 'mean'                                     \n",
    "                                    )\n",
    "debt_family_status1"
   ]
  },
  {
   "cell_type": "markdown",
   "id": "63641715",
   "metadata": {},
   "source": [
    "***Исправлено***\n",
    "\n",
    "Полагаю, люди, ранее состоявшие в отношениях (группа клиентов со статусом вдовец/вдова и в разводе) - это наиболее возрастная категория клиентов. В силу возраста и накопленного жизненного опыта, в том числе семейных отношений, клиенты этой категории лучше рассчитывают свои возможности, просчитывают риски и осознают свою ответственность, когда решают взять кредит.\n",
    "\n",
    "Клиенты, состоящие в официальном браке - это пары, где решение о кредите, как правило, принимается совместно. Муж/жена зачастую выступают созаемщиками при заключении кредитного договора, и делят ответственность по погашению кредита. Хотелось бы сказать, что эта группа клиентов так же более финансово стабильна, чем заемщики, не состоящие в официальных отношениях, но по среднему доходу такого вывода сделать нельзя. \n",
    "\n",
    "Группа с самым высоким показателем просроченной задолженности - это клиенты не женатые/ не замужем. Вероятно, эта группа моложе остальных, и более \"мобильная\" и открытая для перемен. Поменять работу, место жительства, принять решение завести семью или получить дополнительное образование - в процессе могут измениться и цели кредита и возможности его своевременного погашения. "
   ]
  },
  {
   "cell_type": "markdown",
   "id": "9529de68",
   "metadata": {
    "deletable": false,
    "editable": false,
    "id": "9529de68"
   },
   "source": [
    "#### 3.3 Есть ли зависимость между уровнем дохода и возвратом кредита в срок?"
   ]
  },
  {
   "cell_type": "markdown",
   "id": "68514687",
   "metadata": {
    "deletable": false,
    "id": "8787f44a"
   },
   "source": [
    "Узнаем (ради интереса) максимальное, минимальное, среднее и медианное значения в столбце 'total_income':"
   ]
  },
  {
   "cell_type": "code",
   "execution_count": 133,
   "id": "2f6cc1c4",
   "metadata": {},
   "outputs": [
    {
     "data": {
      "text/plain": [
       "min         20667.0000\n",
       "max       2265604.0000\n",
       "mean       165342.7458\n",
       "median     142594.0000\n",
       "Name: total_income, dtype: object"
      ]
     },
     "execution_count": 133,
     "metadata": {},
     "output_type": "execute_result"
    }
   ],
   "source": [
    "data['total_income'].agg(['min','max','mean','median']).apply(lambda x: '%.4f' % x)"
   ]
  },
  {
   "cell_type": "markdown",
   "id": "c579563b",
   "metadata": {},
   "source": [
    "Клиенты по суммарному доходу разбиты на 5 категорий:\n",
    "   - A - клиенты с доходом свыше 1 000 000  руб.\n",
    "   - B - клиенты с доходом от 200 001 до 1 000 000 руб.\n",
    "   - C - клиенты с доходом от 50 001 до 200 000 руб.\n",
    "   - D - клиенты с доходом от 30 001 до 50 000 руб.\n",
    "   - E - клиенты с доходом до 30 000 руб.\n",
    "\n",
    "Узнаем процент задолженностей по возврату кредитов для каждой группы:"
   ]
  },
  {
   "cell_type": "code",
   "execution_count": 135,
   "id": "033910da",
   "metadata": {},
   "outputs": [
    {
     "data": {
      "text/html": [
       "<div>\n",
       "<style scoped>\n",
       "    .dataframe tbody tr th:only-of-type {\n",
       "        vertical-align: middle;\n",
       "    }\n",
       "\n",
       "    .dataframe tbody tr th {\n",
       "        vertical-align: top;\n",
       "    }\n",
       "\n",
       "    .dataframe thead th {\n",
       "        text-align: right;\n",
       "    }\n",
       "</style>\n",
       "<table border=\"1\" class=\"dataframe\">\n",
       "  <thead>\n",
       "    <tr style=\"text-align: right;\">\n",
       "      <th></th>\n",
       "      <th>mean</th>\n",
       "      <th>count</th>\n",
       "    </tr>\n",
       "    <tr>\n",
       "      <th>total_income_category</th>\n",
       "      <th></th>\n",
       "      <th></th>\n",
       "    </tr>\n",
       "  </thead>\n",
       "  <tbody>\n",
       "    <tr>\n",
       "      <th>D</th>\n",
       "      <td>6.02%</td>\n",
       "      <td>349</td>\n",
       "    </tr>\n",
       "    <tr>\n",
       "      <th>B</th>\n",
       "      <td>7.06%</td>\n",
       "      <td>5014</td>\n",
       "    </tr>\n",
       "    <tr>\n",
       "      <th>A</th>\n",
       "      <td>8.00%</td>\n",
       "      <td>25</td>\n",
       "    </tr>\n",
       "    <tr>\n",
       "      <th>C</th>\n",
       "      <td>8.50%</td>\n",
       "      <td>15921</td>\n",
       "    </tr>\n",
       "    <tr>\n",
       "      <th>E</th>\n",
       "      <td>9.09%</td>\n",
       "      <td>22</td>\n",
       "    </tr>\n",
       "  </tbody>\n",
       "</table>\n",
       "</div>"
      ],
      "text/plain": [
       "                        mean  count\n",
       "total_income_category              \n",
       "D                      6.02%    349\n",
       "B                      7.06%   5014\n",
       "A                      8.00%     25\n",
       "C                      8.50%  15921\n",
       "E                      9.09%     22"
      ]
     },
     "execution_count": 135,
     "metadata": {},
     "output_type": "execute_result"
    }
   ],
   "source": [
    "# Сгруппируем данные из столбца \"наличие задолженностей по возврату кредита\" по категориям дохода. \n",
    "# Выведем среднее значение и количество записей для каждого случая\n",
    "\n",
    "debt_income = data.groupby('total_income_category')['debt'].agg(['mean', 'count']).sort_values(by='mean')\n",
    "\n",
    "#Выразим среднее значение в процентах\n",
    "\n",
    "debt_income['mean'] = debt_income['mean'].apply(percent)\n",
    "debt_income"
   ]
  },
  {
   "cell_type": "markdown",
   "id": "620a9e8d",
   "metadata": {
    "deletable": false,
    "id": "6dd14b57"
   },
   "source": [
    "**Вывод:** \n",
    "\n",
    "Группы с самым низким и с самым высоким доходом - малочисленные (22 и 25 записей соответственно). Если принять эти значения за экстремальные и не рассматривать их в этом срезе, то можно сделать следующие выводы:\n",
    "- Около 3/4 заемщиков принадлежат к группе с доходом 50 001 - 200 000 руб. Процент задолженности по возврату кредита в этой группе самый высокий среди всех показателей. \n",
    "- При этом в группе клиентов с доходами 200 001 - 1 000 000 руб., второй по численности (1/4 от общего количества), процент задолженности ниже.\n",
    "- Лучший показатель по своевременному возврату кредита у клиентов с доходом 30 000 - 50 000 руб.\n",
    "\n",
    "Таким образом, прямой зависимости между уровнем дохода клиента и возвратом кредита в срок не наблюдается. Но стоит обращать внимание на принадлежность клиента к той или иной категории.\n"
   ]
  },
  {
   "cell_type": "markdown",
   "id": "1dcc9b12",
   "metadata": {
    "deletable": false,
    "editable": false,
    "id": "1dcc9b12"
   },
   "source": [
    "#### 3.4 Как разные цели кредита влияют на его возврат в срок?"
   ]
  },
  {
   "cell_type": "code",
   "execution_count": 136,
   "id": "c602bc8b",
   "metadata": {
    "deletable": false,
    "id": "c602bc8b"
   },
   "outputs": [
    {
     "data": {
      "text/html": [
       "<div>\n",
       "<style scoped>\n",
       "    .dataframe tbody tr th:only-of-type {\n",
       "        vertical-align: middle;\n",
       "    }\n",
       "\n",
       "    .dataframe tbody tr th {\n",
       "        vertical-align: top;\n",
       "    }\n",
       "\n",
       "    .dataframe thead tr th {\n",
       "        text-align: left;\n",
       "    }\n",
       "\n",
       "    .dataframe thead tr:last-of-type th {\n",
       "        text-align: right;\n",
       "    }\n",
       "</style>\n",
       "<table border=\"1\" class=\"dataframe\">\n",
       "  <thead>\n",
       "    <tr>\n",
       "      <th></th>\n",
       "      <th>mean</th>\n",
       "      <th>count</th>\n",
       "    </tr>\n",
       "    <tr>\n",
       "      <th></th>\n",
       "      <th>debt</th>\n",
       "      <th>debt</th>\n",
       "    </tr>\n",
       "    <tr>\n",
       "      <th>purpose_category</th>\n",
       "      <th></th>\n",
       "      <th></th>\n",
       "    </tr>\n",
       "  </thead>\n",
       "  <tbody>\n",
       "    <tr>\n",
       "      <th>операции с недвижимостью</th>\n",
       "      <td>7.26%</td>\n",
       "      <td>10751</td>\n",
       "    </tr>\n",
       "    <tr>\n",
       "      <th>проведение свадьбы</th>\n",
       "      <td>7.91%</td>\n",
       "      <td>2313</td>\n",
       "    </tr>\n",
       "    <tr>\n",
       "      <th>получение образования</th>\n",
       "      <td>9.25%</td>\n",
       "      <td>3988</td>\n",
       "    </tr>\n",
       "    <tr>\n",
       "      <th>операции с автомобилем</th>\n",
       "      <td>9.35%</td>\n",
       "      <td>4279</td>\n",
       "    </tr>\n",
       "  </tbody>\n",
       "</table>\n",
       "</div>"
      ],
      "text/plain": [
       "                           mean  count\n",
       "                           debt   debt\n",
       "purpose_category                      \n",
       "операции с недвижимостью  7.26%  10751\n",
       "проведение свадьбы        7.91%   2313\n",
       "получение образования     9.25%   3988\n",
       "операции с автомобилем    9.35%   4279"
      ]
     },
     "execution_count": 136,
     "metadata": {},
     "output_type": "execute_result"
    }
   ],
   "source": [
    "# Сгруппируем данные из столбца \"наличие задолженностей по возврату кредита\" по целям кредита. \n",
    "# Выведем среднее значение и количество записей для каждого случая\n",
    "\n",
    "debt_purpose = pd.pivot_table(data, \n",
    "                             index = 'purpose_category',\n",
    "                             values = 'debt', \n",
    "                             aggfunc = ['mean', 'count'],\n",
    "                             )\n",
    "\n",
    "debt_purpose[('mean', 'debt')] = debt_purpose[('mean', 'debt')].apply(percent) \n",
    "\n",
    "debt_purpose.sort_values(by=[('mean', 'debt')])"
   ]
  },
  {
   "cell_type": "markdown",
   "id": "cf05ed63",
   "metadata": {
    "deletable": false,
    "id": "cf05ed63"
   },
   "source": [
    "**Вывод:** \n",
    "- Половина всех заемщиков берет кредит для операций с недвижимостью. Эта группа клиентов наиболее ответственно подходит к возврату кредита в срок. На мой взгляд, это связано со сложностью получения ипотечных кредитов и санкциями при невозврате в срок, влекущими потенциальную потерю объекта залога. \n",
    "- Среди клиентов, берущих кредит для проведения свадьбы, также невысокий процент задолженности по возврату.\n",
    "- Повышенный процент задолженности по возврату у клиентов, берущих кредит на операции с автомобилем и для получения образования.\n"
   ]
  },
  {
   "cell_type": "markdown",
   "id": "46c1f10b",
   "metadata": {
    "deletable": false,
    "editable": false,
    "id": "46c1f10b"
   },
   "source": [
    "#### 3.5 Приведите возможные причины появления пропусков в исходных данных."
   ]
  },
  {
   "cell_type": "markdown",
   "id": "3697d2a9",
   "metadata": {
    "deletable": false,
    "id": "3697d2a9"
   },
   "source": [
    "*Ответ:* \n",
    "В исходных данных наблюдались пропуски в столбцах 'days_employed' - 'общий трудовой стаж ' и 'total_income' - 'ежемесячный доход'.\n",
    "Причины, по которым возникли пропуски в этих столбцах могут быть следующими:\n",
    "- Техническая ошибка при загрузке/выгрузке данных.\n",
    "- Отсутствие информации от клиента (например пропуски при заполнении анкеты) или нежелание клиентов предоставлять данные сведения."
   ]
  },
  {
   "cell_type": "markdown",
   "id": "3137d257",
   "metadata": {
    "deletable": false,
    "editable": false,
    "id": "3137d257"
   },
   "source": [
    "#### 3.6 Объясните, почему заполнить пропуски медианным значением — лучшее решение для количественных переменных."
   ]
  },
  {
   "cell_type": "markdown",
   "id": "cf40012a",
   "metadata": {
    "deletable": false,
    "id": "cf40012a"
   },
   "source": [
    "*Ответ:* \n",
    "\n",
    "Медиана отражает центр распределения данных. Она менее чувствительна к экстремальным значениям. Заполнение пропусков медианным значением позволяет не терять данные при предобработке."
   ]
  },
  {
   "cell_type": "markdown",
   "id": "57bc304e",
   "metadata": {
    "deletable": false,
    "editable": false,
    "id": "57bc304e"
   },
   "source": [
    "### Шаг 4: общий вывод."
   ]
  },
  {
   "cell_type": "markdown",
   "id": "1ab75d1c",
   "metadata": {
    "deletable": false,
    "id": "1ab75d1c"
   },
   "source": [
    "В процессе исследования были реализованы следующие действия:\n",
    "\n",
    "- Импортированы и изучены данные.\n",
    "- В прцессе предобработки были устранены дубликаты, заполнены пропуски, удалены аномальные значения.\n",
    "- Уровень дохода клиента и цели кредита разбиты на категории для анализа.\n",
    "- Проведен анализ влияния семейного положения, количества детей у клиента, уровня дохода и цели получения кредита на факт погашения кредита в срок.\n",
    "\n",
    "Анализ влияния семейного положения выявил следующую тенденцию: \n",
    "* клиенты, раннее состоявшие в отношениях (текущий статус 'вдовец/вдова' и 'в разводе'), являются самой надежной категорией заемщиков. \n",
    "* не выявлена взаимосвязь между наличием и количеством детей у клиента и появлением просроченной задолженности.\n",
    "\n",
    "Категоризация клиентов по уровню дохода показала следующий результат:\n",
    "* большинство заемщиков относится к группе с доходом 50 000 - 200 000 руб. В этой группе также высокий процент задолженности по своевременному погашению кредита. \n",
    "* Большая группа клиентов имеет доход от 200 000 до 1 000 000 руб. и лучшие показатели по своевременному погашению кредита.  Возможно, стоит применить более точные критерии категоризации клиентов или иные методы оценки корреляции уровня дохода и наличия просроченной задолженности. \n",
    "\n",
    "Анализ влияния цели кредита на его возврат в срок показал:\n",
    "* чаще всего берутся, а также своевременно возвращаются кредиты на операции с недвижимостью. В то время как кредиты на образование и приобретение автомобиля имеют больший процент просрочек при погашении.\n",
    "\n",
    "На мой взгляд, стоило бы так же проанализировать средний возраст клиента, уровень образования, тип занятости и трудовой стаж. \n",
    "\n",
    "Тогда к образу идеального заемщика я бы добавила:\n",
    "- отсутствие детей (и вообще иждивенцев); \n",
    "- официально оформленный брак (текущий или в анамнезе); \n",
    "- доход от 200 000 до 1 000 000 руб (хотя эта категория требует дополнительной разбивки и уточнения);\n",
    "- цели кредита - операции с недвижимостью или проведение свадьбы."
   ]
  }
 ],
 "metadata": {
  "ExecuteTimeLog": [
   {
    "duration": 44,
    "start_time": "2024-07-25T13:55:22.375Z"
   },
   {
    "duration": 478,
    "start_time": "2024-07-25T13:56:15.166Z"
   },
   {
    "duration": 21,
    "start_time": "2024-07-25T13:56:15.887Z"
   },
   {
    "duration": 14,
    "start_time": "2024-07-25T13:56:16.832Z"
   },
   {
    "duration": 10,
    "start_time": "2024-07-25T13:56:18.536Z"
   },
   {
    "duration": 32,
    "start_time": "2024-07-25T13:56:19.426Z"
   },
   {
    "duration": 3,
    "start_time": "2024-07-25T13:56:21.140Z"
   },
   {
    "duration": 7,
    "start_time": "2024-07-25T13:56:24.672Z"
   },
   {
    "duration": 3,
    "start_time": "2024-07-25T13:56:29.316Z"
   },
   {
    "duration": 7,
    "start_time": "2024-07-25T13:56:30.756Z"
   },
   {
    "duration": 4,
    "start_time": "2024-07-25T13:56:31.708Z"
   },
   {
    "duration": 35,
    "start_time": "2024-07-25T13:56:33.229Z"
   },
   {
    "duration": 10,
    "start_time": "2024-07-25T13:56:33.693Z"
   },
   {
    "duration": 3,
    "start_time": "2024-07-25T13:56:34.537Z"
   },
   {
    "duration": 11,
    "start_time": "2024-07-25T13:56:35.118Z"
   },
   {
    "duration": 25,
    "start_time": "2024-07-25T13:56:35.514Z"
   },
   {
    "duration": 16,
    "start_time": "2024-07-25T13:56:35.738Z"
   },
   {
    "duration": 4,
    "start_time": "2024-07-25T13:56:37.070Z"
   },
   {
    "duration": 11,
    "start_time": "2024-07-25T13:56:37.836Z"
   },
   {
    "duration": 6,
    "start_time": "2024-07-25T13:56:39.589Z"
   },
   {
    "duration": 3,
    "start_time": "2024-07-25T13:56:41.519Z"
   },
   {
    "duration": 8,
    "start_time": "2024-07-25T13:56:42.983Z"
   },
   {
    "duration": 6,
    "start_time": "2024-07-25T13:56:47.205Z"
   },
   {
    "duration": 4,
    "start_time": "2024-07-25T14:10:43.519Z"
   },
   {
    "duration": 26,
    "start_time": "2024-07-25T14:12:38.843Z"
   },
   {
    "duration": 5,
    "start_time": "2024-07-25T14:21:32.729Z"
   },
   {
    "duration": 8,
    "start_time": "2024-07-25T14:25:23.711Z"
   },
   {
    "duration": 5,
    "start_time": "2024-07-25T14:25:33.615Z"
   },
   {
    "duration": 23,
    "start_time": "2024-07-25T14:26:30.689Z"
   },
   {
    "duration": 6,
    "start_time": "2024-07-25T14:27:31.011Z"
   },
   {
    "duration": 4,
    "start_time": "2024-07-25T14:29:43.798Z"
   },
   {
    "duration": 6,
    "start_time": "2024-07-25T14:30:11.158Z"
   },
   {
    "duration": 16,
    "start_time": "2024-07-25T14:35:02.751Z"
   },
   {
    "duration": 6,
    "start_time": "2024-07-25T14:35:48.083Z"
   },
   {
    "duration": 15,
    "start_time": "2024-07-25T14:35:49.770Z"
   },
   {
    "duration": 8,
    "start_time": "2024-07-25T14:56:42.497Z"
   },
   {
    "duration": 789,
    "start_time": "2024-07-25T14:56:50.914Z"
   },
   {
    "duration": 8,
    "start_time": "2024-07-25T14:57:05.346Z"
   },
   {
    "duration": 6,
    "start_time": "2024-07-25T14:57:19.922Z"
   },
   {
    "duration": 4,
    "start_time": "2024-07-25T14:57:31.043Z"
   },
   {
    "duration": 6,
    "start_time": "2024-07-25T14:57:48.390Z"
   },
   {
    "duration": 1040,
    "start_time": "2024-07-25T14:58:32.868Z"
   },
   {
    "duration": 983,
    "start_time": "2024-07-25T15:00:23.305Z"
   },
   {
    "duration": 11,
    "start_time": "2024-07-25T15:02:07.770Z"
   },
   {
    "duration": 10,
    "start_time": "2024-07-25T15:03:56.486Z"
   },
   {
    "duration": 9,
    "start_time": "2024-07-25T15:04:35.613Z"
   },
   {
    "duration": 6,
    "start_time": "2024-07-25T15:05:42.383Z"
   },
   {
    "duration": 7,
    "start_time": "2024-07-25T15:06:31.073Z"
   },
   {
    "duration": 54,
    "start_time": "2024-07-25T15:08:51.748Z"
   },
   {
    "duration": 6,
    "start_time": "2024-07-25T15:08:57.860Z"
   },
   {
    "duration": 10,
    "start_time": "2024-07-25T15:10:33.766Z"
   },
   {
    "duration": 6,
    "start_time": "2024-07-25T15:11:34.328Z"
   },
   {
    "duration": 6,
    "start_time": "2024-07-25T15:11:44.504Z"
   },
   {
    "duration": 8,
    "start_time": "2024-07-25T15:11:54.120Z"
   },
   {
    "duration": 10,
    "start_time": "2024-07-25T15:16:28.287Z"
   },
   {
    "duration": 56,
    "start_time": "2024-07-25T15:20:17.014Z"
   },
   {
    "duration": 3,
    "start_time": "2024-07-25T15:20:24.630Z"
   },
   {
    "duration": 4,
    "start_time": "2024-07-25T15:20:35.111Z"
   },
   {
    "duration": 6,
    "start_time": "2024-07-25T15:20:48.198Z"
   },
   {
    "duration": 718,
    "start_time": "2024-07-25T17:52:42.306Z"
   },
   {
    "duration": 24,
    "start_time": "2024-07-25T17:52:43.025Z"
   },
   {
    "duration": 16,
    "start_time": "2024-07-25T17:52:44.676Z"
   },
   {
    "duration": 11,
    "start_time": "2024-07-25T17:52:46.189Z"
   },
   {
    "duration": 35,
    "start_time": "2024-07-25T17:52:47.041Z"
   },
   {
    "duration": 3,
    "start_time": "2024-07-25T17:52:48.127Z"
   },
   {
    "duration": 7,
    "start_time": "2024-07-25T17:52:48.653Z"
   },
   {
    "duration": 4,
    "start_time": "2024-07-25T17:52:49.413Z"
   },
   {
    "duration": 6,
    "start_time": "2024-07-25T17:52:50.033Z"
   },
   {
    "duration": 4,
    "start_time": "2024-07-25T17:52:50.497Z"
   },
   {
    "duration": 35,
    "start_time": "2024-07-25T17:52:51.063Z"
   },
   {
    "duration": 10,
    "start_time": "2024-07-25T17:52:51.443Z"
   },
   {
    "duration": 3,
    "start_time": "2024-07-25T17:52:52.529Z"
   },
   {
    "duration": 11,
    "start_time": "2024-07-25T17:52:53.109Z"
   },
   {
    "duration": 20,
    "start_time": "2024-07-25T17:52:53.745Z"
   },
   {
    "duration": 17,
    "start_time": "2024-07-25T17:52:54.290Z"
   },
   {
    "duration": 4,
    "start_time": "2024-07-25T17:52:55.343Z"
   },
   {
    "duration": 10,
    "start_time": "2024-07-25T17:52:55.584Z"
   },
   {
    "duration": 6,
    "start_time": "2024-07-25T17:52:56.125Z"
   },
   {
    "duration": 4,
    "start_time": "2024-07-25T17:52:56.591Z"
   },
   {
    "duration": 8,
    "start_time": "2024-07-25T17:52:56.973Z"
   },
   {
    "duration": 6,
    "start_time": "2024-07-25T17:52:57.623Z"
   },
   {
    "duration": 5,
    "start_time": "2024-07-25T17:54:55.215Z"
   },
   {
    "duration": 6,
    "start_time": "2024-07-25T17:55:05.982Z"
   },
   {
    "duration": 9,
    "start_time": "2024-07-25T17:55:28.127Z"
   },
   {
    "duration": 7,
    "start_time": "2024-07-25T17:55:50.706Z"
   },
   {
    "duration": 544,
    "start_time": "2024-07-26T06:31:03.518Z"
   },
   {
    "duration": 20,
    "start_time": "2024-07-26T06:31:04.064Z"
   },
   {
    "duration": 14,
    "start_time": "2024-07-26T06:31:04.687Z"
   },
   {
    "duration": 8,
    "start_time": "2024-07-26T06:31:06.830Z"
   },
   {
    "duration": 30,
    "start_time": "2024-07-26T06:31:07.812Z"
   },
   {
    "duration": 3,
    "start_time": "2024-07-26T06:31:09.962Z"
   },
   {
    "duration": 8,
    "start_time": "2024-07-26T06:31:10.784Z"
   },
   {
    "duration": 4,
    "start_time": "2024-07-26T06:31:18.354Z"
   },
   {
    "duration": 6,
    "start_time": "2024-07-26T06:31:22.279Z"
   },
   {
    "duration": 4,
    "start_time": "2024-07-26T06:31:23.093Z"
   },
   {
    "duration": 41,
    "start_time": "2024-07-26T06:31:24.117Z"
   },
   {
    "duration": 13,
    "start_time": "2024-07-26T06:31:24.667Z"
   },
   {
    "duration": 3,
    "start_time": "2024-07-26T06:31:26.102Z"
   },
   {
    "duration": 10,
    "start_time": "2024-07-26T06:31:27.104Z"
   },
   {
    "duration": 19,
    "start_time": "2024-07-26T06:31:27.969Z"
   },
   {
    "duration": 16,
    "start_time": "2024-07-26T06:31:28.600Z"
   },
   {
    "duration": 4,
    "start_time": "2024-07-26T06:31:30.252Z"
   },
   {
    "duration": 10,
    "start_time": "2024-07-26T06:31:30.797Z"
   },
   {
    "duration": 5,
    "start_time": "2024-07-26T06:31:32.097Z"
   },
   {
    "duration": 3,
    "start_time": "2024-07-26T06:31:34.013Z"
   },
   {
    "duration": 8,
    "start_time": "2024-07-26T06:31:34.541Z"
   },
   {
    "duration": 9,
    "start_time": "2024-07-26T06:32:37.929Z"
   },
   {
    "duration": 80,
    "start_time": "2024-07-26T06:33:14.200Z"
   },
   {
    "duration": 10,
    "start_time": "2024-07-26T06:33:42.328Z"
   },
   {
    "duration": 7,
    "start_time": "2024-07-26T06:35:15.657Z"
   },
   {
    "duration": 6,
    "start_time": "2024-07-26T06:42:26.548Z"
   },
   {
    "duration": 4,
    "start_time": "2024-07-26T10:56:38.770Z"
   },
   {
    "duration": 67,
    "start_time": "2024-07-26T10:56:47.518Z"
   },
   {
    "duration": 13,
    "start_time": "2024-07-26T10:56:47.899Z"
   },
   {
    "duration": 13,
    "start_time": "2024-07-26T10:56:50.402Z"
   },
   {
    "duration": 9,
    "start_time": "2024-07-26T10:56:52.684Z"
   },
   {
    "duration": 29,
    "start_time": "2024-07-26T10:56:53.539Z"
   },
   {
    "duration": 4,
    "start_time": "2024-07-26T10:56:56.828Z"
   },
   {
    "duration": 7,
    "start_time": "2024-07-26T10:56:58.679Z"
   },
   {
    "duration": 4,
    "start_time": "2024-07-26T10:57:12.739Z"
   },
   {
    "duration": 5,
    "start_time": "2024-07-26T10:57:17.143Z"
   },
   {
    "duration": 4,
    "start_time": "2024-07-26T10:57:18.161Z"
   },
   {
    "duration": 29,
    "start_time": "2024-07-26T10:57:20.113Z"
   },
   {
    "duration": 9,
    "start_time": "2024-07-26T10:57:22.045Z"
   },
   {
    "duration": 3,
    "start_time": "2024-07-26T10:57:24.696Z"
   },
   {
    "duration": 10,
    "start_time": "2024-07-26T10:57:25.434Z"
   },
   {
    "duration": 20,
    "start_time": "2024-07-26T10:57:26.059Z"
   },
   {
    "duration": 16,
    "start_time": "2024-07-26T10:57:26.533Z"
   },
   {
    "duration": 3,
    "start_time": "2024-07-26T10:57:28.216Z"
   },
   {
    "duration": 9,
    "start_time": "2024-07-26T10:57:28.971Z"
   },
   {
    "duration": 6,
    "start_time": "2024-07-26T10:57:29.441Z"
   },
   {
    "duration": 3,
    "start_time": "2024-07-26T10:57:30.623Z"
   },
   {
    "duration": 8,
    "start_time": "2024-07-26T10:57:31.101Z"
   },
   {
    "duration": 4,
    "start_time": "2024-07-26T10:57:32.498Z"
   },
   {
    "duration": 6,
    "start_time": "2024-07-26T10:57:48.388Z"
   },
   {
    "duration": 5,
    "start_time": "2024-07-26T10:59:12.549Z"
   },
   {
    "duration": 8,
    "start_time": "2024-07-26T10:59:25.924Z"
   },
   {
    "duration": 6,
    "start_time": "2024-07-26T11:08:36.224Z"
   },
   {
    "duration": 6,
    "start_time": "2024-07-26T11:08:54.016Z"
   },
   {
    "duration": 6,
    "start_time": "2024-07-26T11:08:55.632Z"
   },
   {
    "duration": 4,
    "start_time": "2024-07-26T11:09:18.864Z"
   },
   {
    "duration": 7,
    "start_time": "2024-07-26T11:09:30.016Z"
   },
   {
    "duration": 6,
    "start_time": "2024-07-26T11:09:43.680Z"
   },
   {
    "duration": 5,
    "start_time": "2024-07-26T11:09:54.033Z"
   },
   {
    "duration": 6,
    "start_time": "2024-07-26T11:10:14.626Z"
   },
   {
    "duration": 29,
    "start_time": "2024-07-26T11:13:28.902Z"
   },
   {
    "duration": 8,
    "start_time": "2024-07-26T11:13:47.230Z"
   },
   {
    "duration": 7,
    "start_time": "2024-07-26T11:14:39.751Z"
   },
   {
    "duration": 6,
    "start_time": "2024-07-26T11:14:53.063Z"
   },
   {
    "duration": 7,
    "start_time": "2024-07-26T11:16:51.786Z"
   },
   {
    "duration": 9,
    "start_time": "2024-07-26T11:17:03.306Z"
   },
   {
    "duration": 6,
    "start_time": "2024-07-26T11:18:45.153Z"
   },
   {
    "duration": 4,
    "start_time": "2024-07-26T11:20:20.100Z"
   },
   {
    "duration": 6,
    "start_time": "2024-07-26T11:40:56.154Z"
   },
   {
    "duration": 46,
    "start_time": "2024-07-26T11:51:39.603Z"
   },
   {
    "duration": 6,
    "start_time": "2024-07-26T11:52:25.678Z"
   },
   {
    "duration": 15,
    "start_time": "2024-07-26T12:06:48.495Z"
   },
   {
    "duration": 12,
    "start_time": "2024-07-26T12:07:24.656Z"
   },
   {
    "duration": 6,
    "start_time": "2024-07-26T12:17:45.541Z"
   },
   {
    "duration": 5,
    "start_time": "2024-07-26T12:17:53.839Z"
   },
   {
    "duration": 9,
    "start_time": "2024-07-26T12:25:19.940Z"
   },
   {
    "duration": 4,
    "start_time": "2024-07-26T12:27:56.840Z"
   },
   {
    "duration": 5,
    "start_time": "2024-07-26T12:28:12.488Z"
   },
   {
    "duration": 11,
    "start_time": "2024-07-26T12:29:50.979Z"
   },
   {
    "duration": 9,
    "start_time": "2024-07-26T12:57:11.558Z"
   },
   {
    "duration": 9,
    "start_time": "2024-07-26T12:57:19.756Z"
   },
   {
    "duration": 11,
    "start_time": "2024-07-26T13:08:45.575Z"
   },
   {
    "duration": 77,
    "start_time": "2024-07-26T13:10:44.536Z"
   },
   {
    "duration": 8,
    "start_time": "2024-07-26T13:11:01.544Z"
   },
   {
    "duration": 9,
    "start_time": "2024-07-26T13:11:28.073Z"
   },
   {
    "duration": 10,
    "start_time": "2024-07-26T13:12:12.634Z"
   },
   {
    "duration": 9,
    "start_time": "2024-07-26T13:12:24.874Z"
   },
   {
    "duration": 6,
    "start_time": "2024-07-26T13:13:03.052Z"
   },
   {
    "duration": 9,
    "start_time": "2024-07-26T13:13:22.301Z"
   },
   {
    "duration": 11,
    "start_time": "2024-07-26T13:13:41.611Z"
   },
   {
    "duration": 13,
    "start_time": "2024-07-26T13:18:18.419Z"
   },
   {
    "duration": 58,
    "start_time": "2024-07-26T13:24:00.139Z"
   },
   {
    "duration": 57,
    "start_time": "2024-07-26T13:24:13.100Z"
   },
   {
    "duration": 11,
    "start_time": "2024-07-26T13:24:21.531Z"
   },
   {
    "duration": 11,
    "start_time": "2024-07-26T13:24:39.612Z"
   },
   {
    "duration": 11,
    "start_time": "2024-07-26T13:25:09.356Z"
   },
   {
    "duration": 10,
    "start_time": "2024-07-26T13:26:09.486Z"
   },
   {
    "duration": 11,
    "start_time": "2024-07-26T13:31:07.839Z"
   },
   {
    "duration": 10,
    "start_time": "2024-07-26T13:31:20.342Z"
   },
   {
    "duration": 19,
    "start_time": "2024-07-26T13:55:43.564Z"
   },
   {
    "duration": 7,
    "start_time": "2024-07-26T13:56:47.270Z"
   },
   {
    "duration": 5,
    "start_time": "2024-07-26T13:58:09.055Z"
   },
   {
    "duration": 484,
    "start_time": "2024-07-26T14:32:52.829Z"
   },
   {
    "duration": 540,
    "start_time": "2024-07-26T14:34:34.161Z"
   },
   {
    "duration": 528,
    "start_time": "2024-07-26T14:34:49.888Z"
   },
   {
    "duration": 22,
    "start_time": "2024-07-26T15:19:55.107Z"
   },
   {
    "duration": 12,
    "start_time": "2024-07-26T15:22:23.559Z"
   },
   {
    "duration": 965,
    "start_time": "2024-07-26T15:24:20.842Z"
   },
   {
    "duration": 11,
    "start_time": "2024-07-26T15:25:44.588Z"
   },
   {
    "duration": 15,
    "start_time": "2024-07-26T15:26:08.254Z"
   },
   {
    "duration": 18,
    "start_time": "2024-07-26T15:26:33.086Z"
   },
   {
    "duration": 15,
    "start_time": "2024-07-26T15:37:13.097Z"
   },
   {
    "duration": 16,
    "start_time": "2024-07-26T15:37:44.943Z"
   },
   {
    "duration": 729,
    "start_time": "2024-07-26T18:16:03.124Z"
   },
   {
    "duration": 26,
    "start_time": "2024-07-26T18:16:05.501Z"
   },
   {
    "duration": 18,
    "start_time": "2024-07-26T18:16:06.904Z"
   },
   {
    "duration": 12,
    "start_time": "2024-07-26T18:16:15.809Z"
   },
   {
    "duration": 43,
    "start_time": "2024-07-26T18:16:17.877Z"
   },
   {
    "duration": 3,
    "start_time": "2024-07-26T18:16:22.640Z"
   },
   {
    "duration": 8,
    "start_time": "2024-07-26T18:16:23.508Z"
   },
   {
    "duration": 4,
    "start_time": "2024-07-26T18:16:24.854Z"
   },
   {
    "duration": 8,
    "start_time": "2024-07-26T18:16:25.283Z"
   },
   {
    "duration": 5,
    "start_time": "2024-07-26T18:16:25.647Z"
   },
   {
    "duration": 42,
    "start_time": "2024-07-26T18:16:26.366Z"
   },
   {
    "duration": 11,
    "start_time": "2024-07-26T18:16:26.747Z"
   },
   {
    "duration": 4,
    "start_time": "2024-07-26T18:16:27.329Z"
   },
   {
    "duration": 20,
    "start_time": "2024-07-26T18:16:27.896Z"
   },
   {
    "duration": 21,
    "start_time": "2024-07-26T18:16:28.321Z"
   },
   {
    "duration": 18,
    "start_time": "2024-07-26T18:16:28.515Z"
   },
   {
    "duration": 5,
    "start_time": "2024-07-26T18:16:29.704Z"
   },
   {
    "duration": 19,
    "start_time": "2024-07-26T18:16:30.099Z"
   },
   {
    "duration": 8,
    "start_time": "2024-07-26T18:16:31.323Z"
   },
   {
    "duration": 5,
    "start_time": "2024-07-26T18:16:32.347Z"
   },
   {
    "duration": 11,
    "start_time": "2024-07-26T18:16:32.811Z"
   },
   {
    "duration": 5,
    "start_time": "2024-07-26T18:18:28.956Z"
   },
   {
    "duration": 718,
    "start_time": "2024-07-29T05:42:10.628Z"
   },
   {
    "duration": 22,
    "start_time": "2024-07-29T05:42:13.063Z"
   },
   {
    "duration": 16,
    "start_time": "2024-07-29T05:42:14.032Z"
   },
   {
    "duration": 11,
    "start_time": "2024-07-29T05:42:15.244Z"
   },
   {
    "duration": 38,
    "start_time": "2024-07-29T05:42:15.648Z"
   },
   {
    "duration": 4,
    "start_time": "2024-07-29T05:42:16.205Z"
   },
   {
    "duration": 8,
    "start_time": "2024-07-29T05:42:16.578Z"
   },
   {
    "duration": 4,
    "start_time": "2024-07-29T05:42:17.533Z"
   },
   {
    "duration": 6,
    "start_time": "2024-07-29T05:42:17.928Z"
   },
   {
    "duration": 5,
    "start_time": "2024-07-29T05:42:18.323Z"
   },
   {
    "duration": 37,
    "start_time": "2024-07-29T05:42:19.302Z"
   },
   {
    "duration": 12,
    "start_time": "2024-07-29T05:42:20.046Z"
   },
   {
    "duration": 4,
    "start_time": "2024-07-29T05:42:21.170Z"
   },
   {
    "duration": 13,
    "start_time": "2024-07-29T05:42:22.179Z"
   },
   {
    "duration": 27,
    "start_time": "2024-07-29T05:42:22.831Z"
   },
   {
    "duration": 18,
    "start_time": "2024-07-29T05:42:23.065Z"
   },
   {
    "duration": 4,
    "start_time": "2024-07-29T05:42:24.267Z"
   },
   {
    "duration": 11,
    "start_time": "2024-07-29T05:42:24.666Z"
   },
   {
    "duration": 6,
    "start_time": "2024-07-29T05:42:25.592Z"
   },
   {
    "duration": 4,
    "start_time": "2024-07-29T05:42:26.507Z"
   },
   {
    "duration": 9,
    "start_time": "2024-07-29T05:42:26.959Z"
   },
   {
    "duration": 13,
    "start_time": "2024-07-29T05:42:30.503Z"
   },
   {
    "duration": 14,
    "start_time": "2024-07-29T05:45:14.976Z"
   },
   {
    "duration": 8,
    "start_time": "2024-07-29T05:56:10.034Z"
   },
   {
    "duration": 75,
    "start_time": "2024-07-29T06:05:00.479Z"
   },
   {
    "duration": 11,
    "start_time": "2024-07-29T06:05:10.222Z"
   },
   {
    "duration": 12,
    "start_time": "2024-07-29T06:05:35.854Z"
   },
   {
    "duration": 12,
    "start_time": "2024-07-29T06:07:52.308Z"
   },
   {
    "duration": 9,
    "start_time": "2024-07-29T06:08:36.932Z"
   },
   {
    "duration": 12,
    "start_time": "2024-07-29T06:08:42.132Z"
   },
   {
    "duration": 7,
    "start_time": "2024-07-29T06:19:35.511Z"
   },
   {
    "duration": 4,
    "start_time": "2024-07-29T06:20:07.927Z"
   },
   {
    "duration": 4,
    "start_time": "2024-07-29T06:20:21.799Z"
   },
   {
    "duration": 5,
    "start_time": "2024-07-29T06:20:47.992Z"
   },
   {
    "duration": 6,
    "start_time": "2024-07-29T06:26:11.682Z"
   },
   {
    "duration": 6,
    "start_time": "2024-07-29T06:26:28.450Z"
   },
   {
    "duration": 10,
    "start_time": "2024-07-29T06:26:42.066Z"
   },
   {
    "duration": 6,
    "start_time": "2024-07-29T06:27:28.036Z"
   },
   {
    "duration": 7,
    "start_time": "2024-07-29T06:27:41.652Z"
   },
   {
    "duration": 7,
    "start_time": "2024-07-29T06:27:50.564Z"
   },
   {
    "duration": 8,
    "start_time": "2024-07-29T06:28:00.244Z"
   },
   {
    "duration": 4,
    "start_time": "2024-07-29T06:30:27.176Z"
   },
   {
    "duration": 3,
    "start_time": "2024-07-29T06:30:45.881Z"
   },
   {
    "duration": 18697,
    "start_time": "2024-07-29T06:44:45.866Z"
   },
   {
    "duration": 7,
    "start_time": "2024-07-29T06:48:51.919Z"
   },
   {
    "duration": 49,
    "start_time": "2024-07-29T06:49:00.869Z"
   },
   {
    "duration": 7,
    "start_time": "2024-07-29T06:49:08.086Z"
   },
   {
    "duration": 5,
    "start_time": "2024-07-29T07:04:50.270Z"
   },
   {
    "duration": 4,
    "start_time": "2024-07-29T07:05:44.576Z"
   },
   {
    "duration": 4,
    "start_time": "2024-07-29T07:06:04.128Z"
   },
   {
    "duration": 5,
    "start_time": "2024-07-29T07:06:25.841Z"
   },
   {
    "duration": 4,
    "start_time": "2024-07-29T07:27:43.269Z"
   },
   {
    "duration": 24,
    "start_time": "2024-07-29T07:35:16.097Z"
   },
   {
    "duration": 8,
    "start_time": "2024-07-29T07:36:28.819Z"
   },
   {
    "duration": 20,
    "start_time": "2024-07-29T07:37:09.315Z"
   },
   {
    "duration": 16,
    "start_time": "2024-07-29T07:39:49.656Z"
   },
   {
    "duration": 18,
    "start_time": "2024-07-29T07:41:54.524Z"
   },
   {
    "duration": 27,
    "start_time": "2024-07-29T07:47:27.252Z"
   },
   {
    "duration": 529,
    "start_time": "2024-07-29T07:49:05.335Z"
   },
   {
    "duration": 10,
    "start_time": "2024-07-29T07:49:44.248Z"
   },
   {
    "duration": 12,
    "start_time": "2024-07-29T07:52:51.100Z"
   },
   {
    "duration": 25,
    "start_time": "2024-07-29T07:53:20.382Z"
   },
   {
    "duration": 25,
    "start_time": "2024-07-29T08:29:54.633Z"
   },
   {
    "duration": 740,
    "start_time": "2024-07-29T10:48:54.936Z"
   },
   {
    "duration": 23,
    "start_time": "2024-07-29T10:48:56.745Z"
   },
   {
    "duration": 16,
    "start_time": "2024-07-29T10:48:57.467Z"
   },
   {
    "duration": 18,
    "start_time": "2024-07-29T10:48:58.558Z"
   },
   {
    "duration": 37,
    "start_time": "2024-07-29T10:48:59.069Z"
   },
   {
    "duration": 3,
    "start_time": "2024-07-29T10:48:59.854Z"
   },
   {
    "duration": 8,
    "start_time": "2024-07-29T10:49:00.630Z"
   },
   {
    "duration": 5,
    "start_time": "2024-07-29T10:49:01.234Z"
   },
   {
    "duration": 7,
    "start_time": "2024-07-29T10:49:01.600Z"
   },
   {
    "duration": 5,
    "start_time": "2024-07-29T10:49:01.972Z"
   },
   {
    "duration": 36,
    "start_time": "2024-07-29T10:49:02.562Z"
   },
   {
    "duration": 12,
    "start_time": "2024-07-29T10:49:02.956Z"
   },
   {
    "duration": 3,
    "start_time": "2024-07-29T10:49:03.687Z"
   },
   {
    "duration": 12,
    "start_time": "2024-07-29T10:49:04.546Z"
   },
   {
    "duration": 20,
    "start_time": "2024-07-29T10:49:04.927Z"
   },
   {
    "duration": 18,
    "start_time": "2024-07-29T10:49:05.129Z"
   },
   {
    "duration": 5,
    "start_time": "2024-07-29T10:49:05.982Z"
   },
   {
    "duration": 18,
    "start_time": "2024-07-29T10:49:06.206Z"
   },
   {
    "duration": 8,
    "start_time": "2024-07-29T10:49:06.704Z"
   },
   {
    "duration": 5,
    "start_time": "2024-07-29T10:49:07.596Z"
   },
   {
    "duration": 16,
    "start_time": "2024-07-29T10:49:07.944Z"
   },
   {
    "duration": 17,
    "start_time": "2024-07-29T10:49:09.249Z"
   },
   {
    "duration": 19,
    "start_time": "2024-07-29T10:49:15.220Z"
   },
   {
    "duration": 7,
    "start_time": "2024-07-29T10:49:33.403Z"
   },
   {
    "duration": 13,
    "start_time": "2024-07-29T10:49:36.701Z"
   },
   {
    "duration": 2,
    "start_time": "2024-07-29T10:49:41.803Z"
   },
   {
    "duration": 8,
    "start_time": "2024-07-29T10:49:54.673Z"
   },
   {
    "duration": 6,
    "start_time": "2024-07-29T11:07:46.206Z"
   },
   {
    "duration": 4,
    "start_time": "2024-07-29T11:08:00.621Z"
   },
   {
    "duration": 6,
    "start_time": "2024-07-29T11:08:26.864Z"
   },
   {
    "duration": 953,
    "start_time": "2024-07-29T11:10:52.147Z"
   },
   {
    "duration": 6,
    "start_time": "2024-07-29T11:11:21.203Z"
   },
   {
    "duration": 16,
    "start_time": "2024-07-29T11:21:37.781Z"
   },
   {
    "duration": 11,
    "start_time": "2024-07-29T11:22:16.085Z"
   },
   {
    "duration": 11,
    "start_time": "2024-07-29T11:22:41.301Z"
   },
   {
    "duration": 10,
    "start_time": "2024-07-29T11:23:08.198Z"
   },
   {
    "duration": 10,
    "start_time": "2024-07-29T11:23:31.559Z"
   },
   {
    "duration": 25,
    "start_time": "2024-07-29T11:31:14.643Z"
   },
   {
    "duration": 1032,
    "start_time": "2024-07-29T11:32:54.374Z"
   },
   {
    "duration": 17,
    "start_time": "2024-07-29T11:33:38.071Z"
   },
   {
    "duration": 3,
    "start_time": "2024-07-29T11:40:44.434Z"
   },
   {
    "duration": 5,
    "start_time": "2024-07-29T11:40:55.106Z"
   },
   {
    "duration": 22,
    "start_time": "2024-07-29T11:41:29.890Z"
   },
   {
    "duration": 6,
    "start_time": "2024-07-29T11:42:24.757Z"
   },
   {
    "duration": 8,
    "start_time": "2024-07-29T11:42:38.901Z"
   },
   {
    "duration": 9,
    "start_time": "2024-07-29T11:42:51.108Z"
   },
   {
    "duration": 7,
    "start_time": "2024-07-29T11:43:25.671Z"
   },
   {
    "duration": 6,
    "start_time": "2024-07-29T11:44:06.151Z"
   },
   {
    "duration": 25,
    "start_time": "2024-07-29T11:53:51.319Z"
   },
   {
    "duration": 30,
    "start_time": "2024-07-29T12:02:18.901Z"
   },
   {
    "duration": 29,
    "start_time": "2024-07-29T12:02:42.918Z"
   },
   {
    "duration": 26,
    "start_time": "2024-07-29T12:10:10.546Z"
   },
   {
    "duration": 10,
    "start_time": "2024-07-29T12:12:34.901Z"
   },
   {
    "duration": 13,
    "start_time": "2024-07-29T12:12:43.732Z"
   },
   {
    "duration": 25,
    "start_time": "2024-07-29T12:13:08.597Z"
   },
   {
    "duration": 8,
    "start_time": "2024-07-29T12:16:28.538Z"
   },
   {
    "duration": 8,
    "start_time": "2024-07-29T12:29:06.864Z"
   },
   {
    "duration": 11,
    "start_time": "2024-07-29T12:30:04.993Z"
   },
   {
    "duration": 11,
    "start_time": "2024-07-29T12:30:22.352Z"
   },
   {
    "duration": 11,
    "start_time": "2024-07-29T12:47:08.140Z"
   },
   {
    "duration": 52,
    "start_time": "2024-07-29T12:47:52.861Z"
   },
   {
    "duration": 61,
    "start_time": "2024-07-29T12:48:04.557Z"
   },
   {
    "duration": 56,
    "start_time": "2024-07-29T12:48:22.606Z"
   },
   {
    "duration": 56,
    "start_time": "2024-07-29T12:48:41.983Z"
   },
   {
    "duration": 17,
    "start_time": "2024-07-29T12:49:17.055Z"
   },
   {
    "duration": 11,
    "start_time": "2024-07-29T12:50:06.801Z"
   },
   {
    "duration": 6,
    "start_time": "2024-07-29T12:50:51.986Z"
   },
   {
    "duration": 7,
    "start_time": "2024-07-29T12:51:31.763Z"
   },
   {
    "duration": 2,
    "start_time": "2024-07-29T12:51:34.883Z"
   },
   {
    "duration": 7,
    "start_time": "2024-07-29T12:52:26.357Z"
   },
   {
    "duration": 12,
    "start_time": "2024-07-29T12:52:44.404Z"
   },
   {
    "duration": 13,
    "start_time": "2024-07-29T12:53:30.759Z"
   },
   {
    "duration": 11,
    "start_time": "2024-07-29T12:54:12.297Z"
   },
   {
    "duration": 623,
    "start_time": "2024-07-29T17:56:42.869Z"
   },
   {
    "duration": 23,
    "start_time": "2024-07-29T17:56:43.591Z"
   },
   {
    "duration": 17,
    "start_time": "2024-07-29T17:56:44.062Z"
   },
   {
    "duration": 11,
    "start_time": "2024-07-29T17:56:45.428Z"
   },
   {
    "duration": 46,
    "start_time": "2024-07-29T17:56:45.854Z"
   },
   {
    "duration": 4,
    "start_time": "2024-07-29T17:56:46.691Z"
   },
   {
    "duration": 8,
    "start_time": "2024-07-29T17:56:47.057Z"
   },
   {
    "duration": 5,
    "start_time": "2024-07-29T17:56:47.638Z"
   },
   {
    "duration": 7,
    "start_time": "2024-07-29T17:56:48.026Z"
   },
   {
    "duration": 5,
    "start_time": "2024-07-29T17:56:48.414Z"
   },
   {
    "duration": 40,
    "start_time": "2024-07-29T17:56:48.981Z"
   },
   {
    "duration": 11,
    "start_time": "2024-07-29T17:56:49.382Z"
   },
   {
    "duration": 4,
    "start_time": "2024-07-29T17:56:49.972Z"
   },
   {
    "duration": 12,
    "start_time": "2024-07-29T17:56:50.547Z"
   },
   {
    "duration": 22,
    "start_time": "2024-07-29T17:56:50.918Z"
   },
   {
    "duration": 18,
    "start_time": "2024-07-29T17:56:51.104Z"
   },
   {
    "duration": 6,
    "start_time": "2024-07-29T17:56:51.864Z"
   },
   {
    "duration": 11,
    "start_time": "2024-07-29T17:56:52.051Z"
   },
   {
    "duration": 6,
    "start_time": "2024-07-29T17:56:52.463Z"
   },
   {
    "duration": 4,
    "start_time": "2024-07-29T17:56:52.937Z"
   },
   {
    "duration": 8,
    "start_time": "2024-07-29T17:56:53.201Z"
   },
   {
    "duration": 13,
    "start_time": "2024-07-29T17:56:57.117Z"
   },
   {
    "duration": 30,
    "start_time": "2024-07-29T17:57:05.415Z"
   },
   {
    "duration": 8,
    "start_time": "2024-07-29T17:57:09.627Z"
   },
   {
    "duration": 12,
    "start_time": "2024-07-29T17:57:39.486Z"
   },
   {
    "duration": 16,
    "start_time": "2024-07-29T18:56:36.189Z"
   },
   {
    "duration": 9,
    "start_time": "2024-07-29T19:01:28.039Z"
   },
   {
    "duration": 20,
    "start_time": "2024-07-29T19:01:43.899Z"
   },
   {
    "duration": 23,
    "start_time": "2024-07-29T19:02:31.768Z"
   },
   {
    "duration": 14,
    "start_time": "2024-07-29T19:03:15.738Z"
   },
   {
    "duration": 574,
    "start_time": "2024-07-30T09:52:55.264Z"
   },
   {
    "duration": 23,
    "start_time": "2024-07-30T09:52:57.831Z"
   },
   {
    "duration": 15,
    "start_time": "2024-07-30T09:52:59.918Z"
   },
   {
    "duration": 11,
    "start_time": "2024-07-30T09:53:01.945Z"
   },
   {
    "duration": 36,
    "start_time": "2024-07-30T09:53:03.762Z"
   },
   {
    "duration": 4,
    "start_time": "2024-07-30T09:53:14.061Z"
   },
   {
    "duration": 8,
    "start_time": "2024-07-30T09:53:15.443Z"
   },
   {
    "duration": 4,
    "start_time": "2024-07-30T09:53:19.256Z"
   },
   {
    "duration": 7,
    "start_time": "2024-07-30T09:53:20.498Z"
   },
   {
    "duration": 6,
    "start_time": "2024-07-30T09:53:23.331Z"
   },
   {
    "duration": 36,
    "start_time": "2024-07-30T09:53:26.318Z"
   },
   {
    "duration": 11,
    "start_time": "2024-07-30T09:53:27.198Z"
   },
   {
    "duration": 4,
    "start_time": "2024-07-30T09:53:28.975Z"
   },
   {
    "duration": 18,
    "start_time": "2024-07-30T09:53:29.626Z"
   },
   {
    "duration": 21,
    "start_time": "2024-07-30T09:53:30.295Z"
   },
   {
    "duration": 17,
    "start_time": "2024-07-30T09:53:30.823Z"
   },
   {
    "duration": 4,
    "start_time": "2024-07-30T09:53:44.285Z"
   },
   {
    "duration": 11,
    "start_time": "2024-07-30T09:53:44.994Z"
   },
   {
    "duration": 8,
    "start_time": "2024-07-30T09:53:48.469Z"
   },
   {
    "duration": 3,
    "start_time": "2024-07-30T09:53:51.092Z"
   },
   {
    "duration": 9,
    "start_time": "2024-07-30T09:53:51.591Z"
   },
   {
    "duration": 14,
    "start_time": "2024-07-30T09:53:58.051Z"
   },
   {
    "duration": 18,
    "start_time": "2024-07-30T09:54:02.675Z"
   },
   {
    "duration": 6,
    "start_time": "2024-07-30T09:54:07.976Z"
   },
   {
    "duration": 12,
    "start_time": "2024-07-30T09:54:10.251Z"
   },
   {
    "duration": 8,
    "start_time": "2024-07-30T09:54:44.235Z"
   },
   {
    "duration": 2,
    "start_time": "2024-07-30T09:54:46.635Z"
   },
   {
    "duration": 13,
    "start_time": "2024-07-30T09:54:52.141Z"
   },
   {
    "duration": 13,
    "start_time": "2024-07-30T10:34:35.459Z"
   },
   {
    "duration": 49,
    "start_time": "2024-07-31T07:51:19.696Z"
   },
   {
    "duration": 710,
    "start_time": "2024-07-31T07:51:28.551Z"
   },
   {
    "duration": 23,
    "start_time": "2024-07-31T07:51:29.263Z"
   },
   {
    "duration": 17,
    "start_time": "2024-07-31T07:51:30.002Z"
   },
   {
    "duration": 11,
    "start_time": "2024-07-31T07:51:31.174Z"
   },
   {
    "duration": 38,
    "start_time": "2024-07-31T07:51:31.563Z"
   },
   {
    "duration": 4,
    "start_time": "2024-07-31T07:51:32.167Z"
   },
   {
    "duration": 8,
    "start_time": "2024-07-31T07:51:32.595Z"
   },
   {
    "duration": 4,
    "start_time": "2024-07-31T07:51:33.161Z"
   },
   {
    "duration": 7,
    "start_time": "2024-07-31T07:51:33.549Z"
   },
   {
    "duration": 5,
    "start_time": "2024-07-31T07:51:34.185Z"
   },
   {
    "duration": 40,
    "start_time": "2024-07-31T07:51:34.822Z"
   },
   {
    "duration": 11,
    "start_time": "2024-07-31T07:51:35.210Z"
   },
   {
    "duration": 4,
    "start_time": "2024-07-31T07:51:35.746Z"
   },
   {
    "duration": 13,
    "start_time": "2024-07-31T07:51:36.311Z"
   },
   {
    "duration": 20,
    "start_time": "2024-07-31T07:51:36.684Z"
   },
   {
    "duration": 17,
    "start_time": "2024-07-31T07:51:36.856Z"
   },
   {
    "duration": 3,
    "start_time": "2024-07-31T07:51:37.477Z"
   },
   {
    "duration": 10,
    "start_time": "2024-07-31T07:51:37.897Z"
   },
   {
    "duration": 6,
    "start_time": "2024-07-31T07:51:38.446Z"
   },
   {
    "duration": 3,
    "start_time": "2024-07-31T07:51:38.920Z"
   },
   {
    "duration": 9,
    "start_time": "2024-07-31T07:51:39.403Z"
   },
   {
    "duration": 13,
    "start_time": "2024-07-31T07:51:42.894Z"
   },
   {
    "duration": 18,
    "start_time": "2024-07-31T07:51:48.234Z"
   },
   {
    "duration": 59,
    "start_time": "2024-07-31T08:40:33.193Z"
   },
   {
    "duration": 27,
    "start_time": "2024-07-31T08:40:50.706Z"
   },
   {
    "duration": 23,
    "start_time": "2024-07-31T08:41:02.642Z"
   },
   {
    "duration": 58,
    "start_time": "2024-07-31T08:41:41.859Z"
   },
   {
    "duration": 23,
    "start_time": "2024-07-31T08:43:14.294Z"
   },
   {
    "duration": 53,
    "start_time": "2024-07-31T08:45:44.281Z"
   },
   {
    "duration": 19,
    "start_time": "2024-07-31T08:46:04.922Z"
   },
   {
    "duration": 23,
    "start_time": "2024-07-31T08:46:18.571Z"
   },
   {
    "duration": 25,
    "start_time": "2024-07-31T08:46:33.002Z"
   },
   {
    "duration": 23,
    "start_time": "2024-07-31T08:58:15.038Z"
   },
   {
    "duration": 59,
    "start_time": "2024-07-31T09:00:23.393Z"
   },
   {
    "duration": 26,
    "start_time": "2024-07-31T09:00:32.400Z"
   },
   {
    "duration": 26,
    "start_time": "2024-07-31T09:00:52.433Z"
   },
   {
    "duration": 62,
    "start_time": "2024-07-31T09:05:11.849Z"
   },
   {
    "duration": 26,
    "start_time": "2024-07-31T10:27:37.046Z"
   },
   {
    "duration": 25,
    "start_time": "2024-07-31T10:39:17.424Z"
   },
   {
    "duration": 20,
    "start_time": "2024-07-31T10:39:37.207Z"
   },
   {
    "duration": 25,
    "start_time": "2024-07-31T10:39:53.959Z"
   },
   {
    "duration": 25,
    "start_time": "2024-07-31T10:41:19.195Z"
   },
   {
    "duration": 30,
    "start_time": "2024-07-31T10:42:51.997Z"
   },
   {
    "duration": 29,
    "start_time": "2024-07-31T10:43:41.934Z"
   },
   {
    "duration": 32,
    "start_time": "2024-07-31T10:46:02.549Z"
   },
   {
    "duration": 26,
    "start_time": "2024-07-31T10:46:38.179Z"
   },
   {
    "duration": 24,
    "start_time": "2024-07-31T10:48:33.942Z"
   },
   {
    "duration": 25,
    "start_time": "2024-07-31T10:48:58.217Z"
   },
   {
    "duration": 24,
    "start_time": "2024-07-31T10:51:52.920Z"
   },
   {
    "duration": 25,
    "start_time": "2024-07-31T10:52:19.576Z"
   },
   {
    "duration": 24,
    "start_time": "2024-07-31T10:52:59.770Z"
   },
   {
    "duration": 25,
    "start_time": "2024-07-31T10:55:09.232Z"
   },
   {
    "duration": 25,
    "start_time": "2024-07-31T10:55:52.237Z"
   },
   {
    "duration": 80,
    "start_time": "2024-07-31T10:58:12.729Z"
   },
   {
    "duration": 15,
    "start_time": "2024-07-31T10:58:13.613Z"
   },
   {
    "duration": 16,
    "start_time": "2024-07-31T10:58:14.597Z"
   },
   {
    "duration": 11,
    "start_time": "2024-07-31T10:58:16.543Z"
   },
   {
    "duration": 37,
    "start_time": "2024-07-31T10:58:17.071Z"
   },
   {
    "duration": 3,
    "start_time": "2024-07-31T10:58:18.125Z"
   },
   {
    "duration": 8,
    "start_time": "2024-07-31T10:58:18.916Z"
   },
   {
    "duration": 5,
    "start_time": "2024-07-31T10:58:20.141Z"
   },
   {
    "duration": 5,
    "start_time": "2024-07-31T10:58:20.987Z"
   },
   {
    "duration": 4,
    "start_time": "2024-07-31T10:58:21.801Z"
   },
   {
    "duration": 38,
    "start_time": "2024-07-31T10:58:23.521Z"
   },
   {
    "duration": 11,
    "start_time": "2024-07-31T10:58:24.529Z"
   },
   {
    "duration": 4,
    "start_time": "2024-07-31T10:58:26.321Z"
   },
   {
    "duration": 11,
    "start_time": "2024-07-31T10:58:27.755Z"
   },
   {
    "duration": 23,
    "start_time": "2024-07-31T10:58:28.685Z"
   },
   {
    "duration": 18,
    "start_time": "2024-07-31T10:58:29.177Z"
   },
   {
    "duration": 4,
    "start_time": "2024-07-31T10:58:31.795Z"
   },
   {
    "duration": 11,
    "start_time": "2024-07-31T10:58:32.396Z"
   },
   {
    "duration": 6,
    "start_time": "2024-07-31T10:58:33.879Z"
   },
   {
    "duration": 4,
    "start_time": "2024-07-31T10:58:34.727Z"
   },
   {
    "duration": 9,
    "start_time": "2024-07-31T10:58:35.146Z"
   },
   {
    "duration": 12,
    "start_time": "2024-07-31T10:58:37.168Z"
   },
   {
    "duration": 17,
    "start_time": "2024-07-31T10:58:46.790Z"
   },
   {
    "duration": 7,
    "start_time": "2024-07-31T10:58:59.042Z"
   },
   {
    "duration": 12,
    "start_time": "2024-07-31T10:59:00.493Z"
   },
   {
    "duration": 7,
    "start_time": "2024-07-31T10:59:09.325Z"
   },
   {
    "duration": 2,
    "start_time": "2024-07-31T10:59:09.991Z"
   },
   {
    "duration": 12,
    "start_time": "2024-07-31T10:59:11.147Z"
   },
   {
    "duration": 28,
    "start_time": "2024-07-31T10:59:13.985Z"
   },
   {
    "duration": 26,
    "start_time": "2024-07-31T10:59:56.693Z"
   },
   {
    "duration": 26,
    "start_time": "2024-07-31T11:00:12.212Z"
   },
   {
    "duration": 91,
    "start_time": "2024-07-31T11:02:22.600Z"
   },
   {
    "duration": 28,
    "start_time": "2024-07-31T11:02:43.913Z"
   },
   {
    "duration": 25,
    "start_time": "2024-07-31T11:02:56.692Z"
   },
   {
    "duration": 24,
    "start_time": "2024-07-31T11:03:05.913Z"
   },
   {
    "duration": 24,
    "start_time": "2024-07-31T11:03:23.162Z"
   },
   {
    "duration": 26,
    "start_time": "2024-07-31T11:05:07.885Z"
   },
   {
    "duration": 26,
    "start_time": "2024-07-31T11:16:33.547Z"
   },
   {
    "duration": 24,
    "start_time": "2024-07-31T11:16:48.362Z"
   },
   {
    "duration": 25,
    "start_time": "2024-07-31T11:17:06.923Z"
   },
   {
    "duration": 26,
    "start_time": "2024-07-31T11:17:39.132Z"
   },
   {
    "duration": 26,
    "start_time": "2024-07-31T11:19:20.202Z"
   },
   {
    "duration": 23,
    "start_time": "2024-07-31T11:19:44.689Z"
   },
   {
    "duration": 25,
    "start_time": "2024-07-31T11:24:34.114Z"
   },
   {
    "duration": 14,
    "start_time": "2024-07-31T11:31:52.532Z"
   },
   {
    "duration": 15,
    "start_time": "2024-07-31T11:48:50.528Z"
   },
   {
    "duration": 12,
    "start_time": "2024-07-31T11:49:19.281Z"
   },
   {
    "duration": 12,
    "start_time": "2024-07-31T11:49:26.560Z"
   },
   {
    "duration": 16,
    "start_time": "2024-07-31T11:50:03.373Z"
   },
   {
    "duration": 51,
    "start_time": "2024-07-31T11:50:57.939Z"
   },
   {
    "duration": 20,
    "start_time": "2024-07-31T11:51:08.083Z"
   },
   {
    "duration": 20,
    "start_time": "2024-07-31T12:21:31.142Z"
   },
   {
    "duration": 82,
    "start_time": "2024-07-31T13:52:06.348Z"
   },
   {
    "duration": 19,
    "start_time": "2024-07-31T13:52:06.826Z"
   },
   {
    "duration": 16,
    "start_time": "2024-07-31T13:52:07.185Z"
   },
   {
    "duration": 11,
    "start_time": "2024-07-31T13:52:07.913Z"
   },
   {
    "duration": 40,
    "start_time": "2024-07-31T13:52:08.272Z"
   },
   {
    "duration": 4,
    "start_time": "2024-07-31T13:52:08.813Z"
   },
   {
    "duration": 8,
    "start_time": "2024-07-31T13:52:09.169Z"
   },
   {
    "duration": 5,
    "start_time": "2024-07-31T13:52:09.718Z"
   },
   {
    "duration": 7,
    "start_time": "2024-07-31T13:52:10.084Z"
   },
   {
    "duration": 4,
    "start_time": "2024-07-31T13:52:10.457Z"
   },
   {
    "duration": 37,
    "start_time": "2024-07-31T13:52:11.247Z"
   },
   {
    "duration": 11,
    "start_time": "2024-07-31T13:52:11.650Z"
   },
   {
    "duration": 3,
    "start_time": "2024-07-31T13:52:12.395Z"
   },
   {
    "duration": 12,
    "start_time": "2024-07-31T13:52:12.984Z"
   },
   {
    "duration": 20,
    "start_time": "2024-07-31T13:52:13.371Z"
   },
   {
    "duration": 18,
    "start_time": "2024-07-31T13:52:13.565Z"
   },
   {
    "duration": 3,
    "start_time": "2024-07-31T13:52:14.179Z"
   },
   {
    "duration": 11,
    "start_time": "2024-07-31T13:52:14.386Z"
   },
   {
    "duration": 6,
    "start_time": "2024-07-31T13:52:14.799Z"
   },
   {
    "duration": 4,
    "start_time": "2024-07-31T13:52:15.279Z"
   },
   {
    "duration": 9,
    "start_time": "2024-07-31T13:52:15.651Z"
   },
   {
    "duration": 12,
    "start_time": "2024-07-31T13:52:16.614Z"
   },
   {
    "duration": 19,
    "start_time": "2024-07-31T13:52:18.785Z"
   },
   {
    "duration": 7,
    "start_time": "2024-07-31T13:52:21.397Z"
   },
   {
    "duration": 13,
    "start_time": "2024-07-31T13:52:21.591Z"
   },
   {
    "duration": 23,
    "start_time": "2024-07-31T13:52:21.995Z"
   },
   {
    "duration": 7,
    "start_time": "2024-07-31T13:52:22.980Z"
   },
   {
    "duration": 3,
    "start_time": "2024-07-31T13:52:23.197Z"
   },
   {
    "duration": 13,
    "start_time": "2024-07-31T13:52:23.661Z"
   },
   {
    "duration": 27,
    "start_time": "2024-07-31T13:52:25.181Z"
   }
  ],
  "colab": {
   "provenance": []
  },
  "kernelspec": {
   "display_name": "Python 3 (ipykernel)",
   "language": "python",
   "name": "python3"
  },
  "language_info": {
   "codemirror_mode": {
    "name": "ipython",
    "version": 3
   },
   "file_extension": ".py",
   "mimetype": "text/x-python",
   "name": "python",
   "nbconvert_exporter": "python",
   "pygments_lexer": "ipython3",
   "version": "3.12.7"
  },
  "toc": {
   "base_numbering": 1,
   "nav_menu": {},
   "number_sections": true,
   "sideBar": true,
   "skip_h1_title": true,
   "title_cell": "Table of Contents",
   "title_sidebar": "Contents",
   "toc_cell": false,
   "toc_position": {
    "height": "calc(100% - 180px)",
    "left": "10px",
    "top": "150px",
    "width": "384px"
   },
   "toc_section_display": true,
   "toc_window_display": true
  }
 },
 "nbformat": 4,
 "nbformat_minor": 5
}

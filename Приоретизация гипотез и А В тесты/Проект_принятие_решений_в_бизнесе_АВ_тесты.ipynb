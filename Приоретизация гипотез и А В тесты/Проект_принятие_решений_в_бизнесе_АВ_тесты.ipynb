{
 "cells": [
  {
   "cell_type": "markdown",
   "metadata": {},
   "source": [
    "# Принятие решений в бизнесе\n",
    "\n",
    "Описание проекта\n",
    "\n",
    "Аналитик крупного интернет-магазина вместе с отделом маркетинга подготовили список гипотез для увеличения выручки.\n",
    "\n",
    "\n",
    "Задача: приоритизировать гипотезы, запустить A/B-тест и проанализировать результаты. "
   ]
  },
  {
   "cell_type": "markdown",
   "metadata": {},
   "source": [
    "## Описание данных\n",
    "\n",
    "Файл **/datasets/hypothesis.csv** содержит 9 гипотез по увеличению выручки интернет-магазина с указанными параметрами:\n",
    "- `Hypothesis` — краткое описание гипотезы;\n",
    "- `Reach` — охват пользователей по 10-балльной шкале;\n",
    "- `Impact` — влияние на пользователей по 10-балльной шкале;\n",
    "- `Confidence` — уверенность в гипотезе по 10-балльной шкале;\n",
    "- `Efforts` — затраты ресурсов на проверку гипотезы по 10-балльной шкале. Чем больше значение Efforts, тем дороже проверка гипотезы.\n",
    "\n",
    "Результаты проведенного A/B-теста описаны в файлах:\n",
    "\n",
    "Файл **/datasets/orders.csv** содержит информацию о заказах пользователей:\n",
    "- `transactionId` — идентификатор заказа;\n",
    "- `visitorId` — идентификатор пользователя, совершившего заказ;\n",
    "- `date` — дата, когда был совершён заказ;\n",
    "- `revenue` — выручка заказа;\n",
    "- `group` — группа A/B-теста, в которую попал заказ.\n",
    "\n",
    "\n",
    "Файл **/datasets/visitors.csv** содержит данные о разделении пользователей на группы А и В:\n",
    "- `date` — дата;\n",
    "- `group` — группа A/B-теста;\n",
    "- `visitors` — количество пользователей в указанную дату в указанной группе A/B-теста"
   ]
  },
  {
   "cell_type": "code",
   "execution_count": 3,
   "metadata": {},
   "outputs": [],
   "source": [
    "#Загрузим данные и подготовим их к анализу\n",
    "import pandas as pd\n",
    "import numpy as np\n",
    "import datetime as dt\n",
    "from matplotlib import pyplot as plt\n",
    "plt.rcParams.update({'figure.max_open_warning': 0})\n",
    "import seaborn as sns\n",
    "sns.set(rc={'figure.figsize':(12, 10)})\n",
    "import scipy.stats as stats\n",
    "from scipy import stats as st\n",
    "import math"
   ]
  },
  {
   "cell_type": "code",
   "execution_count": 4,
   "metadata": {},
   "outputs": [],
   "source": [
    "try:\n",
    "    hypothesis, orders, visitors = (\n",
    "    pd.read_csv('https://code.s3.yandex.net/datasets/hypothesis.csv'),  # гипотезы\n",
    "    pd.read_csv('https://code.s3.yandex.net/datasets/orders.csv'),      # заказы\n",
    "    pd.read_csv('https://code.s3.yandex.net/datasets/visitors.csv'))     # группы пользователей\n",
    "except:\n",
    "    hypothesis, orders, visitors = (\n",
    "    pd.read_csv('/datasets/hypothesis.csv'),  # гипотезы\n",
    "    pd.read_csv('/datasets/orders.csv'),      # заказы\n",
    "    pd.read_csv('/datasets/visitors.csv'))     # группы пользователей"
   ]
  },
  {
   "cell_type": "code",
   "execution_count": 5,
   "metadata": {},
   "outputs": [],
   "source": [
    "# Функция для просмотра основной информации о датафрейме\n",
    "def preview(data):\n",
    "    display(data.head())\n",
    "    \n",
    "    display(data.info())\n",
    "    \n",
    "    print('Всего строк:', data.shape[0],', столбцов:', data.shape[1])\n",
    "    \n",
    "    'Дубликатов:', data.duplicated().sum()"
   ]
  },
  {
   "cell_type": "code",
   "execution_count": 6,
   "metadata": {
    "scrolled": true
   },
   "outputs": [
    {
     "data": {
      "text/html": [
       "<div>\n",
       "<style scoped>\n",
       "    .dataframe tbody tr th:only-of-type {\n",
       "        vertical-align: middle;\n",
       "    }\n",
       "\n",
       "    .dataframe tbody tr th {\n",
       "        vertical-align: top;\n",
       "    }\n",
       "\n",
       "    .dataframe thead th {\n",
       "        text-align: right;\n",
       "    }\n",
       "</style>\n",
       "<table border=\"1\" class=\"dataframe\">\n",
       "  <thead>\n",
       "    <tr style=\"text-align: right;\">\n",
       "      <th></th>\n",
       "      <th>Hypothesis</th>\n",
       "      <th>Reach</th>\n",
       "      <th>Impact</th>\n",
       "      <th>Confidence</th>\n",
       "      <th>Efforts</th>\n",
       "    </tr>\n",
       "  </thead>\n",
       "  <tbody>\n",
       "    <tr>\n",
       "      <th>0</th>\n",
       "      <td>Добавить два новых канала привлечения трафика,...</td>\n",
       "      <td>3</td>\n",
       "      <td>10</td>\n",
       "      <td>8</td>\n",
       "      <td>6</td>\n",
       "    </tr>\n",
       "    <tr>\n",
       "      <th>1</th>\n",
       "      <td>Запустить собственную службу доставки, что сок...</td>\n",
       "      <td>2</td>\n",
       "      <td>5</td>\n",
       "      <td>4</td>\n",
       "      <td>10</td>\n",
       "    </tr>\n",
       "    <tr>\n",
       "      <th>2</th>\n",
       "      <td>Добавить блоки рекомендаций товаров на сайт ин...</td>\n",
       "      <td>8</td>\n",
       "      <td>3</td>\n",
       "      <td>7</td>\n",
       "      <td>3</td>\n",
       "    </tr>\n",
       "    <tr>\n",
       "      <th>3</th>\n",
       "      <td>Изменить структура категорий, что увеличит кон...</td>\n",
       "      <td>8</td>\n",
       "      <td>3</td>\n",
       "      <td>3</td>\n",
       "      <td>8</td>\n",
       "    </tr>\n",
       "    <tr>\n",
       "      <th>4</th>\n",
       "      <td>Изменить цвет фона главной страницы, чтобы уве...</td>\n",
       "      <td>3</td>\n",
       "      <td>1</td>\n",
       "      <td>1</td>\n",
       "      <td>1</td>\n",
       "    </tr>\n",
       "  </tbody>\n",
       "</table>\n",
       "</div>"
      ],
      "text/plain": [
       "                                          Hypothesis  Reach  Impact  \\\n",
       "0  Добавить два новых канала привлечения трафика,...      3      10   \n",
       "1  Запустить собственную службу доставки, что сок...      2       5   \n",
       "2  Добавить блоки рекомендаций товаров на сайт ин...      8       3   \n",
       "3  Изменить структура категорий, что увеличит кон...      8       3   \n",
       "4  Изменить цвет фона главной страницы, чтобы уве...      3       1   \n",
       "\n",
       "   Confidence  Efforts  \n",
       "0           8        6  \n",
       "1           4       10  \n",
       "2           7        3  \n",
       "3           3        8  \n",
       "4           1        1  "
      ]
     },
     "metadata": {},
     "output_type": "display_data"
    },
    {
     "name": "stdout",
     "output_type": "stream",
     "text": [
      "<class 'pandas.core.frame.DataFrame'>\n",
      "RangeIndex: 9 entries, 0 to 8\n",
      "Data columns (total 5 columns):\n",
      " #   Column      Non-Null Count  Dtype \n",
      "---  ------      --------------  ----- \n",
      " 0   Hypothesis  9 non-null      object\n",
      " 1   Reach       9 non-null      int64 \n",
      " 2   Impact      9 non-null      int64 \n",
      " 3   Confidence  9 non-null      int64 \n",
      " 4   Efforts     9 non-null      int64 \n",
      "dtypes: int64(4), object(1)\n",
      "memory usage: 492.0+ bytes\n"
     ]
    },
    {
     "data": {
      "text/plain": [
       "None"
      ]
     },
     "metadata": {},
     "output_type": "display_data"
    },
    {
     "name": "stdout",
     "output_type": "stream",
     "text": [
      "Всего строк: 9 , столбцов: 5\n"
     ]
    }
   ],
   "source": [
    "preview(hypothesis)"
   ]
  },
  {
   "cell_type": "code",
   "execution_count": 7,
   "metadata": {},
   "outputs": [
    {
     "data": {
      "text/html": [
       "<div>\n",
       "<style scoped>\n",
       "    .dataframe tbody tr th:only-of-type {\n",
       "        vertical-align: middle;\n",
       "    }\n",
       "\n",
       "    .dataframe tbody tr th {\n",
       "        vertical-align: top;\n",
       "    }\n",
       "\n",
       "    .dataframe thead th {\n",
       "        text-align: right;\n",
       "    }\n",
       "</style>\n",
       "<table border=\"1\" class=\"dataframe\">\n",
       "  <thead>\n",
       "    <tr style=\"text-align: right;\">\n",
       "      <th></th>\n",
       "      <th>transactionId</th>\n",
       "      <th>visitorId</th>\n",
       "      <th>date</th>\n",
       "      <th>revenue</th>\n",
       "      <th>group</th>\n",
       "    </tr>\n",
       "  </thead>\n",
       "  <tbody>\n",
       "    <tr>\n",
       "      <th>0</th>\n",
       "      <td>3667963787</td>\n",
       "      <td>3312258926</td>\n",
       "      <td>2019-08-15</td>\n",
       "      <td>1650</td>\n",
       "      <td>B</td>\n",
       "    </tr>\n",
       "    <tr>\n",
       "      <th>1</th>\n",
       "      <td>2804400009</td>\n",
       "      <td>3642806036</td>\n",
       "      <td>2019-08-15</td>\n",
       "      <td>730</td>\n",
       "      <td>B</td>\n",
       "    </tr>\n",
       "    <tr>\n",
       "      <th>2</th>\n",
       "      <td>2961555356</td>\n",
       "      <td>4069496402</td>\n",
       "      <td>2019-08-15</td>\n",
       "      <td>400</td>\n",
       "      <td>A</td>\n",
       "    </tr>\n",
       "    <tr>\n",
       "      <th>3</th>\n",
       "      <td>3797467345</td>\n",
       "      <td>1196621759</td>\n",
       "      <td>2019-08-15</td>\n",
       "      <td>9759</td>\n",
       "      <td>B</td>\n",
       "    </tr>\n",
       "    <tr>\n",
       "      <th>4</th>\n",
       "      <td>2282983706</td>\n",
       "      <td>2322279887</td>\n",
       "      <td>2019-08-15</td>\n",
       "      <td>2308</td>\n",
       "      <td>B</td>\n",
       "    </tr>\n",
       "  </tbody>\n",
       "</table>\n",
       "</div>"
      ],
      "text/plain": [
       "   transactionId   visitorId        date  revenue group\n",
       "0     3667963787  3312258926  2019-08-15     1650     B\n",
       "1     2804400009  3642806036  2019-08-15      730     B\n",
       "2     2961555356  4069496402  2019-08-15      400     A\n",
       "3     3797467345  1196621759  2019-08-15     9759     B\n",
       "4     2282983706  2322279887  2019-08-15     2308     B"
      ]
     },
     "metadata": {},
     "output_type": "display_data"
    },
    {
     "name": "stdout",
     "output_type": "stream",
     "text": [
      "<class 'pandas.core.frame.DataFrame'>\n",
      "RangeIndex: 1197 entries, 0 to 1196\n",
      "Data columns (total 5 columns):\n",
      " #   Column         Non-Null Count  Dtype \n",
      "---  ------         --------------  ----- \n",
      " 0   transactionId  1197 non-null   int64 \n",
      " 1   visitorId      1197 non-null   int64 \n",
      " 2   date           1197 non-null   object\n",
      " 3   revenue        1197 non-null   int64 \n",
      " 4   group          1197 non-null   object\n",
      "dtypes: int64(3), object(2)\n",
      "memory usage: 46.9+ KB\n"
     ]
    },
    {
     "data": {
      "text/plain": [
       "None"
      ]
     },
     "metadata": {},
     "output_type": "display_data"
    },
    {
     "name": "stdout",
     "output_type": "stream",
     "text": [
      "Всего строк: 1197 , столбцов: 5\n",
      "Контрольная дата, начало периода: 2019-08-01\n",
      "Контрольная дата, конец периода: 2019-08-31\n"
     ]
    }
   ],
   "source": [
    "preview(orders)\n",
    "print('Контрольная дата, начало периода:', orders['date']. min())\n",
    "print('Контрольная дата, конец периода:', orders['date']. max())"
   ]
  },
  {
   "cell_type": "code",
   "execution_count": 8,
   "metadata": {},
   "outputs": [
    {
     "data": {
      "text/html": [
       "<div>\n",
       "<style scoped>\n",
       "    .dataframe tbody tr th:only-of-type {\n",
       "        vertical-align: middle;\n",
       "    }\n",
       "\n",
       "    .dataframe tbody tr th {\n",
       "        vertical-align: top;\n",
       "    }\n",
       "\n",
       "    .dataframe thead th {\n",
       "        text-align: right;\n",
       "    }\n",
       "</style>\n",
       "<table border=\"1\" class=\"dataframe\">\n",
       "  <thead>\n",
       "    <tr style=\"text-align: right;\">\n",
       "      <th></th>\n",
       "      <th>date</th>\n",
       "      <th>group</th>\n",
       "      <th>visitors</th>\n",
       "    </tr>\n",
       "  </thead>\n",
       "  <tbody>\n",
       "    <tr>\n",
       "      <th>0</th>\n",
       "      <td>2019-08-01</td>\n",
       "      <td>A</td>\n",
       "      <td>719</td>\n",
       "    </tr>\n",
       "    <tr>\n",
       "      <th>1</th>\n",
       "      <td>2019-08-02</td>\n",
       "      <td>A</td>\n",
       "      <td>619</td>\n",
       "    </tr>\n",
       "    <tr>\n",
       "      <th>2</th>\n",
       "      <td>2019-08-03</td>\n",
       "      <td>A</td>\n",
       "      <td>507</td>\n",
       "    </tr>\n",
       "    <tr>\n",
       "      <th>3</th>\n",
       "      <td>2019-08-04</td>\n",
       "      <td>A</td>\n",
       "      <td>717</td>\n",
       "    </tr>\n",
       "    <tr>\n",
       "      <th>4</th>\n",
       "      <td>2019-08-05</td>\n",
       "      <td>A</td>\n",
       "      <td>756</td>\n",
       "    </tr>\n",
       "  </tbody>\n",
       "</table>\n",
       "</div>"
      ],
      "text/plain": [
       "         date group  visitors\n",
       "0  2019-08-01     A       719\n",
       "1  2019-08-02     A       619\n",
       "2  2019-08-03     A       507\n",
       "3  2019-08-04     A       717\n",
       "4  2019-08-05     A       756"
      ]
     },
     "metadata": {},
     "output_type": "display_data"
    },
    {
     "name": "stdout",
     "output_type": "stream",
     "text": [
      "<class 'pandas.core.frame.DataFrame'>\n",
      "RangeIndex: 62 entries, 0 to 61\n",
      "Data columns (total 3 columns):\n",
      " #   Column    Non-Null Count  Dtype \n",
      "---  ------    --------------  ----- \n",
      " 0   date      62 non-null     object\n",
      " 1   group     62 non-null     object\n",
      " 2   visitors  62 non-null     int64 \n",
      "dtypes: int64(1), object(2)\n",
      "memory usage: 1.6+ KB\n"
     ]
    },
    {
     "data": {
      "text/plain": [
       "None"
      ]
     },
     "metadata": {},
     "output_type": "display_data"
    },
    {
     "name": "stdout",
     "output_type": "stream",
     "text": [
      "Всего строк: 62 , столбцов: 3\n",
      "Контрольная дата, начало периода: 2019-08-01\n",
      "Контрольная дата, конец периода: 2019-08-31\n"
     ]
    }
   ],
   "source": [
    "preview(visitors)\n",
    "print('Контрольная дата, начало периода:', visitors['date']. min())\n",
    "print('Контрольная дата, конец периода:', visitors['date']. max())"
   ]
  },
  {
   "cell_type": "markdown",
   "metadata": {},
   "source": [
    "### Предобработка данных"
   ]
  },
  {
   "cell_type": "code",
   "execution_count": 10,
   "metadata": {},
   "outputs": [],
   "source": [
    "# Изменим названия столбцов для удобства чтения\n",
    "orders.rename(columns={'transactionId':'transaction_id', 'visitorId':'visitor_id'}, inplace=True)\n",
    "# столбцы с датами приведем типу данных \"datetime\" \n",
    "orders['date'] = pd.to_datetime(orders['date'])\n",
    "visitors['date'] = pd.to_datetime(visitors['date'])"
   ]
  },
  {
   "cell_type": "markdown",
   "metadata": {},
   "source": [
    "Для анализа А/B теста проверим правильность разделения пользователей на группы A и B."
   ]
  },
  {
   "cell_type": "code",
   "execution_count": 12,
   "metadata": {},
   "outputs": [
    {
     "name": "stdout",
     "output_type": "stream",
     "text": [
      "Всего уникальных пользователей: 1031\n",
      "Пользователи группы А: 503\n",
      "Пользователи группы В: 586\n",
      "Пользователи, попавшие в группы А и В одновременно: 58\n",
      "Всего уникальных пользователей после предобработки: 973\n"
     ]
    }
   ],
   "source": [
    "print('Всего уникальных пользователей:', len(orders['visitor_id'].unique()))\n",
    "# Посчитаем уникальных пользователей группы А\n",
    "group_A = orders.query('group == \"A\"')\n",
    "print('Пользователи группы А:', len(group_A['visitor_id'].unique()))\n",
    "# Посчитаем уникальных пользователей группы В\n",
    "group_B = orders.query('group == \"B\"')\n",
    "print('Пользователи группы В:', len(group_B['visitor_id'].unique()))\n",
    "# Найдем тех, кто оказался в обоих группах\n",
    "a_and_b_users = group_A.merge(group_B,on = 'visitor_id')\n",
    "print('Пользователи, попавшие в группы А и В одновременно:', len(a_and_b_users['visitor_id'].unique()))\n",
    "# Удалим этих пользователей\n",
    "matching_visitors = a_and_b_users['visitor_id'].unique()\n",
    "orders_correct = orders.query('visitor_id not in @matching_visitors')\n",
    "print('Всего уникальных пользователей после предобработки:', len(orders_correct['visitor_id'].unique()))"
   ]
  },
  {
   "cell_type": "markdown",
   "metadata": {},
   "source": [
    "**Вывод:** \n",
    "\n",
    "В представленных для анализа файлах - данные для приоритизации гипотез и результаты проведения А/В теста\n",
    "\n",
    "- Данные загружены корректно. \n",
    "- Таблицы не содержат пропусков и дубликатов. \n",
    "- Для удобства дальнейшей работы названия столбцов приведены к единому стилю. \n",
    "- Данные, содержащие дату/время, приведены к формату datetime. \n",
    "- Типы данных соответствуют сохранённым в них значениям.\n",
    "- Данные содержат результаты проведения А/В теста за период с 01.08.2019 по 31.08.2019.\n",
    "- Анализ распределения пользователей между группами выявил присутствие клиентов с одинаковым id в обоих группах. Для проведения А/В теста важно, чтобы пользователи групп не пересекались. Клиенты, попавшие в обе группы были удалены."
   ]
  },
  {
   "cell_type": "markdown",
   "metadata": {},
   "source": [
    "##  Часть 1. Приоритизация гипотез\n",
    "\n",
    "В файле /datasets/hypothesis.csv 9 гипотез по увеличению выручки интернет-магазина с указанными параметрами `Reach`, `Impact`, `Confidence`, `Effort`.\n",
    "\n",
    "**Задача**\n",
    "* Примените фреймворк ICE для приоритизации гипотез. Отсортируйте их по убыванию приоритета.\n",
    "* Примените фреймворк RICE для приоритизации гипотез. Отсортируйте их по убыванию приоритета.\n",
    "* Укажите, как изменилась приоритизация гипотез при применении RICE вместо ICE. Объясните, почему так произошло."
   ]
  },
  {
   "cell_type": "code",
   "execution_count": 15,
   "metadata": {},
   "outputs": [
    {
     "data": {
      "text/html": [
       "<div>\n",
       "<style scoped>\n",
       "    .dataframe tbody tr th:only-of-type {\n",
       "        vertical-align: middle;\n",
       "    }\n",
       "\n",
       "    .dataframe tbody tr th {\n",
       "        vertical-align: top;\n",
       "    }\n",
       "\n",
       "    .dataframe thead th {\n",
       "        text-align: right;\n",
       "    }\n",
       "</style>\n",
       "<table border=\"1\" class=\"dataframe\">\n",
       "  <thead>\n",
       "    <tr style=\"text-align: right;\">\n",
       "      <th></th>\n",
       "      <th>ICE</th>\n",
       "      <th>Hypothesis</th>\n",
       "    </tr>\n",
       "  </thead>\n",
       "  <tbody>\n",
       "    <tr>\n",
       "      <th>8</th>\n",
       "      <td>16.200000</td>\n",
       "      <td>Запустить акцию, дающую скидку на товар в день рождения</td>\n",
       "    </tr>\n",
       "    <tr>\n",
       "      <th>0</th>\n",
       "      <td>13.333333</td>\n",
       "      <td>Добавить два новых канала привлечения трафика, что позволит привлекать на 30% больше пользователей</td>\n",
       "    </tr>\n",
       "    <tr>\n",
       "      <th>7</th>\n",
       "      <td>11.200000</td>\n",
       "      <td>Добавить форму подписки на все основные страницы, чтобы собрать базу клиентов для email-рассылок</td>\n",
       "    </tr>\n",
       "    <tr>\n",
       "      <th>6</th>\n",
       "      <td>8.000000</td>\n",
       "      <td>Показать на главной странице баннеры с актуальными акциями и распродажами, чтобы увеличить конверсию</td>\n",
       "    </tr>\n",
       "    <tr>\n",
       "      <th>2</th>\n",
       "      <td>7.000000</td>\n",
       "      <td>Добавить блоки рекомендаций товаров на сайт интернет магазина, чтобы повысить конверсию и средний чек заказа</td>\n",
       "    </tr>\n",
       "    <tr>\n",
       "      <th>1</th>\n",
       "      <td>2.000000</td>\n",
       "      <td>Запустить собственную службу доставки, что сократит срок доставки заказов</td>\n",
       "    </tr>\n",
       "    <tr>\n",
       "      <th>5</th>\n",
       "      <td>1.333333</td>\n",
       "      <td>Добавить страницу отзывов клиентов о магазине, что позволит увеличить количество заказов</td>\n",
       "    </tr>\n",
       "    <tr>\n",
       "      <th>3</th>\n",
       "      <td>1.125000</td>\n",
       "      <td>Изменить структура категорий, что увеличит конверсию, т.к. пользователи быстрее найдут нужный товар</td>\n",
       "    </tr>\n",
       "    <tr>\n",
       "      <th>4</th>\n",
       "      <td>1.000000</td>\n",
       "      <td>Изменить цвет фона главной страницы, чтобы увеличить вовлеченность пользователей</td>\n",
       "    </tr>\n",
       "  </tbody>\n",
       "</table>\n",
       "</div>"
      ],
      "text/plain": [
       "         ICE  \\\n",
       "8  16.200000   \n",
       "0  13.333333   \n",
       "7  11.200000   \n",
       "6   8.000000   \n",
       "2   7.000000   \n",
       "1   2.000000   \n",
       "5   1.333333   \n",
       "3   1.125000   \n",
       "4   1.000000   \n",
       "\n",
       "                                                                                                     Hypothesis  \n",
       "8                                                       Запустить акцию, дающую скидку на товар в день рождения  \n",
       "0            Добавить два новых канала привлечения трафика, что позволит привлекать на 30% больше пользователей  \n",
       "7              Добавить форму подписки на все основные страницы, чтобы собрать базу клиентов для email-рассылок  \n",
       "6          Показать на главной странице баннеры с актуальными акциями и распродажами, чтобы увеличить конверсию  \n",
       "2  Добавить блоки рекомендаций товаров на сайт интернет магазина, чтобы повысить конверсию и средний чек заказа  \n",
       "1                                     Запустить собственную службу доставки, что сократит срок доставки заказов  \n",
       "5                      Добавить страницу отзывов клиентов о магазине, что позволит увеличить количество заказов  \n",
       "3           Изменить структура категорий, что увеличит конверсию, т.к. пользователи быстрее найдут нужный товар  \n",
       "4                              Изменить цвет фона главной страницы, чтобы увеличить вовлеченность пользователей  "
      ]
     },
     "execution_count": 15,
     "metadata": {},
     "output_type": "execute_result"
    }
   ],
   "source": [
    "# Применим фреймворк ICE для приоритизации гипотез. Отсортируем их по убыванию приоритета.\n",
    "pd.options.display.max_colwidth = 250\n",
    "hypothesis['ICE'] = hypothesis['Impact'] * hypothesis['Confidence'] / hypothesis['Efforts']\n",
    "hypothesis['RICE'] = (hypothesis['Reach']  *hypothesis['Impact'] * hypothesis['Confidence']) / hypothesis['Efforts']\n",
    "hypothesis[['ICE', 'Hypothesis']].sort_values(by='ICE', ascending=False)"
   ]
  },
  {
   "cell_type": "code",
   "execution_count": 16,
   "metadata": {},
   "outputs": [
    {
     "data": {
      "text/html": [
       "<div>\n",
       "<style scoped>\n",
       "    .dataframe tbody tr th:only-of-type {\n",
       "        vertical-align: middle;\n",
       "    }\n",
       "\n",
       "    .dataframe tbody tr th {\n",
       "        vertical-align: top;\n",
       "    }\n",
       "\n",
       "    .dataframe thead th {\n",
       "        text-align: right;\n",
       "    }\n",
       "</style>\n",
       "<table border=\"1\" class=\"dataframe\">\n",
       "  <thead>\n",
       "    <tr style=\"text-align: right;\">\n",
       "      <th></th>\n",
       "      <th>Hypothesis</th>\n",
       "      <th>Reach</th>\n",
       "      <th>Impact</th>\n",
       "      <th>Confidence</th>\n",
       "      <th>Efforts</th>\n",
       "      <th>ICE</th>\n",
       "      <th>RICE</th>\n",
       "    </tr>\n",
       "  </thead>\n",
       "  <tbody>\n",
       "    <tr>\n",
       "      <th>7</th>\n",
       "      <td>Добавить форму подписки на все основные страницы, чтобы собрать базу клиентов для email-рассылок</td>\n",
       "      <td>10</td>\n",
       "      <td>7</td>\n",
       "      <td>8</td>\n",
       "      <td>5</td>\n",
       "      <td>11.200000</td>\n",
       "      <td>112.0</td>\n",
       "    </tr>\n",
       "    <tr>\n",
       "      <th>2</th>\n",
       "      <td>Добавить блоки рекомендаций товаров на сайт интернет магазина, чтобы повысить конверсию и средний чек заказа</td>\n",
       "      <td>8</td>\n",
       "      <td>3</td>\n",
       "      <td>7</td>\n",
       "      <td>3</td>\n",
       "      <td>7.000000</td>\n",
       "      <td>56.0</td>\n",
       "    </tr>\n",
       "    <tr>\n",
       "      <th>0</th>\n",
       "      <td>Добавить два новых канала привлечения трафика, что позволит привлекать на 30% больше пользователей</td>\n",
       "      <td>3</td>\n",
       "      <td>10</td>\n",
       "      <td>8</td>\n",
       "      <td>6</td>\n",
       "      <td>13.333333</td>\n",
       "      <td>40.0</td>\n",
       "    </tr>\n",
       "    <tr>\n",
       "      <th>6</th>\n",
       "      <td>Показать на главной странице баннеры с актуальными акциями и распродажами, чтобы увеличить конверсию</td>\n",
       "      <td>5</td>\n",
       "      <td>3</td>\n",
       "      <td>8</td>\n",
       "      <td>3</td>\n",
       "      <td>8.000000</td>\n",
       "      <td>40.0</td>\n",
       "    </tr>\n",
       "    <tr>\n",
       "      <th>8</th>\n",
       "      <td>Запустить акцию, дающую скидку на товар в день рождения</td>\n",
       "      <td>1</td>\n",
       "      <td>9</td>\n",
       "      <td>9</td>\n",
       "      <td>5</td>\n",
       "      <td>16.200000</td>\n",
       "      <td>16.2</td>\n",
       "    </tr>\n",
       "    <tr>\n",
       "      <th>3</th>\n",
       "      <td>Изменить структура категорий, что увеличит конверсию, т.к. пользователи быстрее найдут нужный товар</td>\n",
       "      <td>8</td>\n",
       "      <td>3</td>\n",
       "      <td>3</td>\n",
       "      <td>8</td>\n",
       "      <td>1.125000</td>\n",
       "      <td>9.0</td>\n",
       "    </tr>\n",
       "    <tr>\n",
       "      <th>1</th>\n",
       "      <td>Запустить собственную службу доставки, что сократит срок доставки заказов</td>\n",
       "      <td>2</td>\n",
       "      <td>5</td>\n",
       "      <td>4</td>\n",
       "      <td>10</td>\n",
       "      <td>2.000000</td>\n",
       "      <td>4.0</td>\n",
       "    </tr>\n",
       "    <tr>\n",
       "      <th>5</th>\n",
       "      <td>Добавить страницу отзывов клиентов о магазине, что позволит увеличить количество заказов</td>\n",
       "      <td>3</td>\n",
       "      <td>2</td>\n",
       "      <td>2</td>\n",
       "      <td>3</td>\n",
       "      <td>1.333333</td>\n",
       "      <td>4.0</td>\n",
       "    </tr>\n",
       "    <tr>\n",
       "      <th>4</th>\n",
       "      <td>Изменить цвет фона главной страницы, чтобы увеличить вовлеченность пользователей</td>\n",
       "      <td>3</td>\n",
       "      <td>1</td>\n",
       "      <td>1</td>\n",
       "      <td>1</td>\n",
       "      <td>1.000000</td>\n",
       "      <td>3.0</td>\n",
       "    </tr>\n",
       "  </tbody>\n",
       "</table>\n",
       "</div>"
      ],
      "text/plain": [
       "                                                                                                     Hypothesis  \\\n",
       "7              Добавить форму подписки на все основные страницы, чтобы собрать базу клиентов для email-рассылок   \n",
       "2  Добавить блоки рекомендаций товаров на сайт интернет магазина, чтобы повысить конверсию и средний чек заказа   \n",
       "0            Добавить два новых канала привлечения трафика, что позволит привлекать на 30% больше пользователей   \n",
       "6          Показать на главной странице баннеры с актуальными акциями и распродажами, чтобы увеличить конверсию   \n",
       "8                                                       Запустить акцию, дающую скидку на товар в день рождения   \n",
       "3           Изменить структура категорий, что увеличит конверсию, т.к. пользователи быстрее найдут нужный товар   \n",
       "1                                     Запустить собственную службу доставки, что сократит срок доставки заказов   \n",
       "5                      Добавить страницу отзывов клиентов о магазине, что позволит увеличить количество заказов   \n",
       "4                              Изменить цвет фона главной страницы, чтобы увеличить вовлеченность пользователей   \n",
       "\n",
       "   Reach  Impact  Confidence  Efforts        ICE   RICE  \n",
       "7     10       7           8        5  11.200000  112.0  \n",
       "2      8       3           7        3   7.000000   56.0  \n",
       "0      3      10           8        6  13.333333   40.0  \n",
       "6      5       3           8        3   8.000000   40.0  \n",
       "8      1       9           9        5  16.200000   16.2  \n",
       "3      8       3           3        8   1.125000    9.0  \n",
       "1      2       5           4       10   2.000000    4.0  \n",
       "5      3       2           2        3   1.333333    4.0  \n",
       "4      3       1           1        1   1.000000    3.0  "
      ]
     },
     "execution_count": 16,
     "metadata": {},
     "output_type": "execute_result"
    }
   ],
   "source": [
    "# Применим фреймворк RICE для приоритизации гипотез. Отсортируем их по убыванию приоритета.\n",
    "hypothesis.sort_values(by='RICE', ascending=False)"
   ]
  },
  {
   "cell_type": "markdown",
   "metadata": {},
   "source": [
    "На основе полученных результатов можно сделать вывод, что согласно ICE, наибольшие баллы получили гипотезы:\n",
    "- 8 (Запустить акцию, дающую скидку на товар в день рождения);\n",
    "- 0 (Добавить два новых канала привлечения трафика, что позволит привлекать на 30% больше пользователей). \n",
    "\n",
    "Однако после использования RICE приоритеты изменились на: \n",
    "- 7 (Добавить форму подписки на все основные страницы, чтобы собрать базу клиентов для email-рассылок); \n",
    "- 2 (Добавить блоки рекомендаций товаров на сайт интернет магазина, чтобы повысить конверсию и средний чек заказа); \n",
    "- 0 (Добавить два новых канала привлечения трафика, что позволит привлекать на 30% больше пользователей). \n",
    "\n",
    "Это связано с тем, что во время использования ICE охват изменений не учитывался, в то время как RICE принимает его во внимание. Таким образом, в нашем случае наиболее приоритетными гипотезами являются 7, 2 и 0.\n",
    "Гипотезы 8 и 0 имеют высокие показатели impact и confidence, но у гипотезы 8 охват предполагается меньше, поэтому она не стоит в приоритете проверки по показателю RICE. "
   ]
  },
  {
   "cell_type": "markdown",
   "metadata": {},
   "source": [
    "## Часть 2. Анализ A/B-теста\n",
    "Вы провели A/B-тест и получили результаты, которые описаны в файлах /datasets/orders.csv и /datasets/visitors.csv.\n",
    "\n",
    "**Задача**\n",
    "- Проанализируйте A/B-тест"
   ]
  },
  {
   "cell_type": "markdown",
   "metadata": {},
   "source": [
    "### Построим график кумулятивной выручки по группам. Сделаем выводы и предположения."
   ]
  },
  {
   "cell_type": "code",
   "execution_count": 20,
   "metadata": {},
   "outputs": [
    {
     "data": {
      "text/html": [
       "<div>\n",
       "<style scoped>\n",
       "    .dataframe tbody tr th:only-of-type {\n",
       "        vertical-align: middle;\n",
       "    }\n",
       "\n",
       "    .dataframe tbody tr th {\n",
       "        vertical-align: top;\n",
       "    }\n",
       "\n",
       "    .dataframe thead th {\n",
       "        text-align: right;\n",
       "    }\n",
       "</style>\n",
       "<table border=\"1\" class=\"dataframe\">\n",
       "  <thead>\n",
       "    <tr style=\"text-align: right;\">\n",
       "      <th></th>\n",
       "      <th>transaction_id</th>\n",
       "      <th>visitor_id</th>\n",
       "      <th>date</th>\n",
       "      <th>revenue</th>\n",
       "      <th>group</th>\n",
       "    </tr>\n",
       "  </thead>\n",
       "  <tbody>\n",
       "    <tr>\n",
       "      <th>0</th>\n",
       "      <td>3667963787</td>\n",
       "      <td>3312258926</td>\n",
       "      <td>2019-08-15</td>\n",
       "      <td>1650</td>\n",
       "      <td>B</td>\n",
       "    </tr>\n",
       "    <tr>\n",
       "      <th>1</th>\n",
       "      <td>2804400009</td>\n",
       "      <td>3642806036</td>\n",
       "      <td>2019-08-15</td>\n",
       "      <td>730</td>\n",
       "      <td>B</td>\n",
       "    </tr>\n",
       "    <tr>\n",
       "      <th>3</th>\n",
       "      <td>3797467345</td>\n",
       "      <td>1196621759</td>\n",
       "      <td>2019-08-15</td>\n",
       "      <td>9759</td>\n",
       "      <td>B</td>\n",
       "    </tr>\n",
       "    <tr>\n",
       "      <th>4</th>\n",
       "      <td>2282983706</td>\n",
       "      <td>2322279887</td>\n",
       "      <td>2019-08-15</td>\n",
       "      <td>2308</td>\n",
       "      <td>B</td>\n",
       "    </tr>\n",
       "    <tr>\n",
       "      <th>5</th>\n",
       "      <td>182168103</td>\n",
       "      <td>935554773</td>\n",
       "      <td>2019-08-15</td>\n",
       "      <td>2210</td>\n",
       "      <td>B</td>\n",
       "    </tr>\n",
       "  </tbody>\n",
       "</table>\n",
       "</div>"
      ],
      "text/plain": [
       "   transaction_id  visitor_id       date  revenue group\n",
       "0      3667963787  3312258926 2019-08-15     1650     B\n",
       "1      2804400009  3642806036 2019-08-15      730     B\n",
       "3      3797467345  1196621759 2019-08-15     9759     B\n",
       "4      2282983706  2322279887 2019-08-15     2308     B\n",
       "5       182168103   935554773 2019-08-15     2210     B"
      ]
     },
     "execution_count": 20,
     "metadata": {},
     "output_type": "execute_result"
    }
   ],
   "source": [
    "orders_correct.head()"
   ]
  },
  {
   "cell_type": "code",
   "execution_count": 21,
   "metadata": {},
   "outputs": [
    {
     "data": {
      "text/html": [
       "<div>\n",
       "<style scoped>\n",
       "    .dataframe tbody tr th:only-of-type {\n",
       "        vertical-align: middle;\n",
       "    }\n",
       "\n",
       "    .dataframe tbody tr th {\n",
       "        vertical-align: top;\n",
       "    }\n",
       "\n",
       "    .dataframe thead th {\n",
       "        text-align: right;\n",
       "    }\n",
       "</style>\n",
       "<table border=\"1\" class=\"dataframe\">\n",
       "  <thead>\n",
       "    <tr style=\"text-align: right;\">\n",
       "      <th></th>\n",
       "      <th>date</th>\n",
       "      <th>group</th>\n",
       "      <th>visitors</th>\n",
       "    </tr>\n",
       "  </thead>\n",
       "  <tbody>\n",
       "    <tr>\n",
       "      <th>0</th>\n",
       "      <td>2019-08-01</td>\n",
       "      <td>A</td>\n",
       "      <td>719</td>\n",
       "    </tr>\n",
       "    <tr>\n",
       "      <th>1</th>\n",
       "      <td>2019-08-02</td>\n",
       "      <td>A</td>\n",
       "      <td>619</td>\n",
       "    </tr>\n",
       "    <tr>\n",
       "      <th>2</th>\n",
       "      <td>2019-08-03</td>\n",
       "      <td>A</td>\n",
       "      <td>507</td>\n",
       "    </tr>\n",
       "    <tr>\n",
       "      <th>3</th>\n",
       "      <td>2019-08-04</td>\n",
       "      <td>A</td>\n",
       "      <td>717</td>\n",
       "    </tr>\n",
       "    <tr>\n",
       "      <th>4</th>\n",
       "      <td>2019-08-05</td>\n",
       "      <td>A</td>\n",
       "      <td>756</td>\n",
       "    </tr>\n",
       "  </tbody>\n",
       "</table>\n",
       "</div>"
      ],
      "text/plain": [
       "        date group  visitors\n",
       "0 2019-08-01     A       719\n",
       "1 2019-08-02     A       619\n",
       "2 2019-08-03     A       507\n",
       "3 2019-08-04     A       717\n",
       "4 2019-08-05     A       756"
      ]
     },
     "execution_count": 21,
     "metadata": {},
     "output_type": "execute_result"
    }
   ],
   "source": [
    "visitors.head()"
   ]
  },
  {
   "cell_type": "code",
   "execution_count": 22,
   "metadata": {},
   "outputs": [
    {
     "data": {
      "text/html": [
       "<div>\n",
       "<style scoped>\n",
       "    .dataframe tbody tr th:only-of-type {\n",
       "        vertical-align: middle;\n",
       "    }\n",
       "\n",
       "    .dataframe tbody tr th {\n",
       "        vertical-align: top;\n",
       "    }\n",
       "\n",
       "    .dataframe thead th {\n",
       "        text-align: right;\n",
       "    }\n",
       "</style>\n",
       "<table border=\"1\" class=\"dataframe\">\n",
       "  <thead>\n",
       "    <tr style=\"text-align: right;\">\n",
       "      <th></th>\n",
       "      <th>date</th>\n",
       "      <th>group</th>\n",
       "      <th>orders</th>\n",
       "      <th>buyers</th>\n",
       "      <th>revenue</th>\n",
       "      <th>visitors</th>\n",
       "    </tr>\n",
       "  </thead>\n",
       "  <tbody>\n",
       "    <tr>\n",
       "      <th>0</th>\n",
       "      <td>2019-08-01</td>\n",
       "      <td>A</td>\n",
       "      <td>23</td>\n",
       "      <td>19</td>\n",
       "      <td>142779</td>\n",
       "      <td>719</td>\n",
       "    </tr>\n",
       "    <tr>\n",
       "      <th>1</th>\n",
       "      <td>2019-08-01</td>\n",
       "      <td>B</td>\n",
       "      <td>17</td>\n",
       "      <td>17</td>\n",
       "      <td>59758</td>\n",
       "      <td>713</td>\n",
       "    </tr>\n",
       "    <tr>\n",
       "      <th>2</th>\n",
       "      <td>2019-08-02</td>\n",
       "      <td>A</td>\n",
       "      <td>42</td>\n",
       "      <td>36</td>\n",
       "      <td>234381</td>\n",
       "      <td>1338</td>\n",
       "    </tr>\n",
       "    <tr>\n",
       "      <th>3</th>\n",
       "      <td>2019-08-02</td>\n",
       "      <td>B</td>\n",
       "      <td>40</td>\n",
       "      <td>39</td>\n",
       "      <td>221801</td>\n",
       "      <td>1294</td>\n",
       "    </tr>\n",
       "    <tr>\n",
       "      <th>4</th>\n",
       "      <td>2019-08-03</td>\n",
       "      <td>A</td>\n",
       "      <td>66</td>\n",
       "      <td>60</td>\n",
       "      <td>346854</td>\n",
       "      <td>1845</td>\n",
       "    </tr>\n",
       "  </tbody>\n",
       "</table>\n",
       "</div>"
      ],
      "text/plain": [
       "        date group  orders  buyers  revenue  visitors\n",
       "0 2019-08-01     A      23      19   142779       719\n",
       "1 2019-08-01     B      17      17    59758       713\n",
       "2 2019-08-02     A      42      36   234381      1338\n",
       "3 2019-08-02     B      40      39   221801      1294\n",
       "4 2019-08-03     A      66      60   346854      1845"
      ]
     },
     "execution_count": 22,
     "metadata": {},
     "output_type": "execute_result"
    }
   ],
   "source": [
    "# Cоберем кумулятивные данные. Создадим массив уникальных пар значений дат и групп теста методом drop_duplicates(): \n",
    "datesGroups = orders_correct[['date','group']].drop_duplicates()\n",
    "\n",
    "# Соберём агрегированные кумулятивные по дням данные о заказах\n",
    "ordersAggregated = datesGroups.apply(\n",
    "    lambda x: orders_correct[np.logical_and(orders_correct['date'] <= x['date'], orders_correct['group'] == x['group'])]\n",
    ".agg({\n",
    "'date' : 'max', \n",
    "'group' : 'max', \n",
    "'transaction_id' : 'nunique', \n",
    "'visitor_id' : 'nunique', \n",
    "'revenue' : 'sum'}), axis=1).sort_values(by=['date','group'])\n",
    "\n",
    "# Соберём агрегированные кумулятивные по дням данные о посетителях\n",
    "visitorsAggregated = datesGroups.apply(\n",
    "    lambda x: visitors[np.logical_and(visitors['date'] <= x['date'], visitors['group'] == x['group'])].agg({\n",
    "'date' : 'max', \n",
    "'group' : 'max', \n",
    "'visitors' : 'sum'}), axis=1).sort_values(by=['date','group'])\n",
    "\n",
    "# Объединим обе таблицы в одну\n",
    "cumulativeData = ordersAggregated.merge(visitorsAggregated, left_on=['date', 'group'], right_on=['date', 'group']) \n",
    "cumulativeData.columns = ['date', 'group', 'orders', 'buyers', 'revenue', 'visitors']\n",
    "\n",
    "cumulativeData.head()"
   ]
  },
  {
   "cell_type": "code",
   "execution_count": 23,
   "metadata": {},
   "outputs": [
    {
     "data": {
      "image/png": "[encoded data removed]",
      "text/plain": [
       "<Figure size 1200x1000 with 1 Axes>"
      ]
     },
     "metadata": {},
     "output_type": "display_data"
    }
   ],
   "source": [
    "# Построим графики кумулятивной выручки по дням и группам A/B-тестирования: \n",
    "\n",
    "cumulativeRevenueA = cumulativeData[cumulativeData['group']=='A'][['date','revenue', 'orders']]\n",
    "cumulativeRevenueB = cumulativeData[cumulativeData['group']=='B'][['date','revenue', 'orders']]\n",
    "plt.plot(cumulativeRevenueA['date'], cumulativeRevenueA['revenue'], label='A')\n",
    "plt.plot(cumulativeRevenueB['date'], cumulativeRevenueB['revenue'], label='B')\n",
    "plt.title('Кумулятивная выручка по группам')\n",
    "plt.ylabel('Выручка')\n",
    "plt.xticks(rotation=45)\n",
    "plt.legend() \n",
    "plt.show()"
   ]
  },
  {
   "cell_type": "markdown",
   "metadata": {},
   "source": [
    "**Вывод:**\n",
    "\n",
    "- Выручка равномерно увеличивается в течение всего периода теста для обеих групп.\n",
    "- Однако график выручки групппы В в точке, соответствующей дате 2019-08-19 резко растет. Это может свидетельствовать об увеличении числа заказов, либо о появлении очень дорогих заказов в этот период. "
   ]
  },
  {
   "cell_type": "markdown",
   "metadata": {},
   "source": [
    "### Построим график кумулятивного среднего чека по группам. Сделаем выводы и предположения."
   ]
  },
  {
   "cell_type": "code",
   "execution_count": 26,
   "metadata": {},
   "outputs": [
    {
     "data": {
      "image/png": "[encoded data removed]",
      "text/plain": [
       "<Figure size 1200x1000 with 1 Axes>"
      ]
     },
     "metadata": {},
     "output_type": "display_data"
    }
   ],
   "source": [
    "plt.plot(cumulativeRevenueA['date'], cumulativeRevenueA['revenue']/cumulativeRevenueA['orders'], label='А')\n",
    "plt.plot(cumulativeRevenueB['date'], cumulativeRevenueB['revenue']/cumulativeRevenueB['orders'], label='В')\n",
    "plt.title('Кумулятивный средний чек по группам')\n",
    "plt.ylabel('Выручка')\n",
    "plt.xticks(rotation=45)\n",
    "plt.legend()\n",
    "plt.show()"
   ]
  },
  {
   "cell_type": "markdown",
   "metadata": {},
   "source": [
    "**Вывод:**\n",
    "\n",
    "- В ту же дату 2019-08-19 средний чек в группе В резко растет. "
   ]
  },
  {
   "cell_type": "markdown",
   "metadata": {},
   "source": [
    "### Построим график относительного изменения кумулятивного среднего чека группы B к группе A. Сделаем выводы и предположения."
   ]
  },
  {
   "cell_type": "code",
   "execution_count": 29,
   "metadata": {},
   "outputs": [
    {
     "data": {
      "image/png": "[encoded data removed]",
      "text/plain": [
       "<Figure size 1200x1000 with 1 Axes>"
      ]
     },
     "metadata": {},
     "output_type": "display_data"
    }
   ],
   "source": [
    "mergedCumulativeRevenue = cumulativeRevenueA.merge(\n",
    "    cumulativeRevenueB, left_on='date', right_on='date', how='left', suffixes=['A', 'B'])\n",
    "plt.plot(mergedCumulativeRevenue['date'], \n",
    "         (mergedCumulativeRevenue['revenueB']/\n",
    "          mergedCumulativeRevenue['ordersB'])/\n",
    "         (mergedCumulativeRevenue['revenueA']/\n",
    "          mergedCumulativeRevenue['ordersA'])-1)\n",
    "plt.title('Относительное изменение кумулятивного среднего чека группы B к группе A')\n",
    "plt.xticks(rotation=45)\n",
    "plt.axhline(y=0, color='black', linestyle='--') \n",
    "plt.show()"
   ]
  },
  {
   "cell_type": "markdown",
   "metadata": {},
   "source": [
    "**Вывод:**\n",
    "\n",
    "Анализируя данные, можно сделать вывод, что средний чек в группе B, как и в предыдущих случаях, подвержен резким изменениям, включая значительные скачки, которые, вероятно, обусловлены нестандартными заказами. Можно предположить, что группа B привлекла покупателей с высокими суммами заказов благодаря рекламной акции или другому событию."
   ]
  },
  {
   "cell_type": "markdown",
   "metadata": {},
   "source": [
    "### Построим график кумулятивного среднего количества заказов на посетителя по группам. Сделаем выводы и предположения."
   ]
  },
  {
   "cell_type": "code",
   "execution_count": 32,
   "metadata": {},
   "outputs": [
    {
     "data": {
      "image/png": "[encoded data removed]",
      "text/plain": [
       "<Figure size 1200x1000 with 1 Axes>"
      ]
     },
     "metadata": {},
     "output_type": "display_data"
    }
   ],
   "source": [
    "cumulativeData['conversion'] = cumulativeData['orders']/cumulativeData['visitors']\n",
    "cumulativeDataA = cumulativeData[cumulativeData['group']=='A']\n",
    "cumulativeDataB = cumulativeData[cumulativeData['group']=='B']\n",
    "\n",
    "plt.plot(cumulativeDataA['date'], cumulativeDataA['conversion'], label='A')\n",
    "plt.plot(cumulativeDataB['date'], cumulativeDataB['conversion'], label='B')\n",
    "plt.title('Кумулятивная конверсия по группам')\n",
    "plt.ylabel('Выручка')\n",
    "plt.xticks(rotation=45)\n",
    "plt.legend()\n",
    "plt.show()"
   ]
  },
  {
   "cell_type": "markdown",
   "metadata": {},
   "source": [
    "**Вывод:**\n",
    "\n",
    "Группа B показывает стабильную повышенную совокупную конверсию, что может указывать на положительный эффект от внесённых изменений. Возможно, в группе B были проведены мероприятия, которые улучшили пользовательский опыт и увеличили конверсию. В то же время группа A могла столкнуться с отрицательными факторами, снижающими её конверсию."
   ]
  },
  {
   "cell_type": "markdown",
   "metadata": {},
   "source": [
    "### Построим график относительного изменения кумулятивного среднего количества заказов на посетителя группы B к группе A. Сделаем выводы и предположения."
   ]
  },
  {
   "cell_type": "code",
   "execution_count": 35,
   "metadata": {},
   "outputs": [
    {
     "data": {
      "image/png": "[encoded data removed]",
      "text/plain": [
       "<Figure size 1200x1000 with 1 Axes>"
      ]
     },
     "metadata": {},
     "output_type": "display_data"
    }
   ],
   "source": [
    "mergedCumulativeConversions = cumulativeDataA[['date','conversion']].merge(cumulativeDataB[['date','conversion']], \\\n",
    "left_on='date', right_on='date', how='left', suffixes=['A', 'B'])\n",
    "\n",
    "plt.plot(mergedCumulativeConversions['date'], mergedCumulativeConversions['conversionB']/\n",
    "mergedCumulativeConversions['conversionA']-1, \n",
    ")\n",
    "plt.title('Относительное изменение среднего количества заказов группы B относительно группы A')\n",
    "plt.axhline(y=0, color='black', linestyle='--')\n",
    "plt.xticks(rotation=45)\n",
    "\n",
    "plt.show()"
   ]
  },
  {
   "cell_type": "markdown",
   "metadata": {},
   "source": [
    "**Вывод:**\n",
    "\n",
    "В начале теста группа B проигрывала группе A, но затем быстро вырвалась вперед. С 2019-08-06 и на протяжении всего теста группа В имеет устойчиво более высокий коэффициент конверсии по сравнению с группой A. "
   ]
  },
  {
   "cell_type": "markdown",
   "metadata": {},
   "source": [
    "### Построим точечный график количества заказов по пользователям. Сделаем выводы и предположения."
   ]
  },
  {
   "cell_type": "code",
   "execution_count": 38,
   "metadata": {},
   "outputs": [
    {
     "data": {
      "text/html": [
       "<div>\n",
       "<style scoped>\n",
       "    .dataframe tbody tr th:only-of-type {\n",
       "        vertical-align: middle;\n",
       "    }\n",
       "\n",
       "    .dataframe tbody tr th {\n",
       "        vertical-align: top;\n",
       "    }\n",
       "\n",
       "    .dataframe thead th {\n",
       "        text-align: right;\n",
       "    }\n",
       "</style>\n",
       "<table border=\"1\" class=\"dataframe\">\n",
       "  <thead>\n",
       "    <tr style=\"text-align: right;\">\n",
       "      <th></th>\n",
       "      <th>user_id</th>\n",
       "      <th>orders</th>\n",
       "    </tr>\n",
       "  </thead>\n",
       "  <tbody>\n",
       "    <tr>\n",
       "      <th>908</th>\n",
       "      <td>3967698036</td>\n",
       "      <td>3</td>\n",
       "    </tr>\n",
       "    <tr>\n",
       "      <th>55</th>\n",
       "      <td>249864742</td>\n",
       "      <td>3</td>\n",
       "    </tr>\n",
       "    <tr>\n",
       "      <th>478</th>\n",
       "      <td>2108163459</td>\n",
       "      <td>3</td>\n",
       "    </tr>\n",
       "    <tr>\n",
       "      <th>687</th>\n",
       "      <td>2988190573</td>\n",
       "      <td>3</td>\n",
       "    </tr>\n",
       "    <tr>\n",
       "      <th>890</th>\n",
       "      <td>3908431265</td>\n",
       "      <td>3</td>\n",
       "    </tr>\n",
       "    <tr>\n",
       "      <th>138</th>\n",
       "      <td>611059232</td>\n",
       "      <td>3</td>\n",
       "    </tr>\n",
       "    <tr>\n",
       "      <th>632</th>\n",
       "      <td>2742574263</td>\n",
       "      <td>3</td>\n",
       "    </tr>\n",
       "    <tr>\n",
       "      <th>157</th>\n",
       "      <td>678354126</td>\n",
       "      <td>2</td>\n",
       "    </tr>\n",
       "    <tr>\n",
       "      <th>323</th>\n",
       "      <td>1404560065</td>\n",
       "      <td>2</td>\n",
       "    </tr>\n",
       "    <tr>\n",
       "      <th>452</th>\n",
       "      <td>1985475298</td>\n",
       "      <td>2</td>\n",
       "    </tr>\n",
       "  </tbody>\n",
       "</table>\n",
       "</div>"
      ],
      "text/plain": [
       "        user_id  orders\n",
       "908  3967698036       3\n",
       "55    249864742       3\n",
       "478  2108163459       3\n",
       "687  2988190573       3\n",
       "890  3908431265       3\n",
       "138   611059232       3\n",
       "632  2742574263       3\n",
       "157   678354126       2\n",
       "323  1404560065       2\n",
       "452  1985475298       2"
      ]
     },
     "execution_count": 38,
     "metadata": {},
     "output_type": "execute_result"
    }
   ],
   "source": [
    "# Подсчитаем количество заказов по пользователям\n",
    "ordersByUsers = (\n",
    "    orders_correct.groupby('visitor_id', as_index=False)\n",
    "    .agg({'transaction_id': pd.Series.nunique}))\n",
    "\n",
    "ordersByUsers.columns = ['user_id','orders']\n",
    "\n",
    "ordersByUsers.sort_values(by='orders',ascending=False).head(10)"
   ]
  },
  {
   "cell_type": "code",
   "execution_count": 39,
   "metadata": {},
   "outputs": [
    {
     "data": {
      "image/png": "[encoded data removed]",
      "text/plain": [
       "<Figure size 1200x1000 with 1 Axes>"
      ]
     },
     "metadata": {},
     "output_type": "display_data"
    }
   ],
   "source": [
    "# Построим точечную диаграмму числа заказов на одного пользователя\n",
    "x_values = pd.Series(range(0, len(ordersByUsers)))\n",
    "\n",
    "plt.scatter(x_values, ordersByUsers['orders']) \n",
    "plt.title('Количество заказов на одного пользователя')\n",
    "plt.ylabel('Число заказов')\n",
    "plt.show()"
   ]
  },
  {
   "cell_type": "markdown",
   "metadata": {},
   "source": [
    "**Вывод:**\n",
    "\n",
    "Большинство пользователей совершают 1 заказ, намного реже 2-3 заказа.   "
   ]
  },
  {
   "cell_type": "markdown",
   "metadata": {},
   "source": [
    "### Посчитаем 95-й и 99-й перцентили количества заказов на пользователя. Выберем границу для определения аномальных пользователей."
   ]
  },
  {
   "cell_type": "code",
   "execution_count": 42,
   "metadata": {},
   "outputs": [
    {
     "data": {
      "text/plain": [
       "array([1., 2.])"
      ]
     },
     "execution_count": 42,
     "metadata": {},
     "output_type": "execute_result"
    }
   ],
   "source": [
    "np.percentile(ordersByUsers['orders'], [95, 99])"
   ]
  },
  {
   "cell_type": "code",
   "execution_count": 43,
   "metadata": {},
   "outputs": [
    {
     "data": {
      "text/plain": [
       "array([1., 1., 2., 2., 2.])"
      ]
     },
     "execution_count": 43,
     "metadata": {},
     "output_type": "execute_result"
    }
   ],
   "source": [
    "# Посмотрим точнее с 95 по 99 перцентили\n",
    "np.percentile(ordersByUsers['orders'], [95, 96, 97, 98, 99])"
   ]
  },
  {
   "cell_type": "markdown",
   "metadata": {},
   "source": [
    "**Вывод:**\n",
    "\n",
    "Количество заказов сократилось заметно, а вот чек не сильно уменьшился. Поэтому, границей для определения аномальных пользователей будем считать количество заказов свыше 2. "
   ]
  },
  {
   "cell_type": "markdown",
   "metadata": {},
   "source": [
    "### Построим точечный график стоимостей заказов. Сделаем выводы и предположения."
   ]
  },
  {
   "cell_type": "code",
   "execution_count": 46,
   "metadata": {},
   "outputs": [
    {
     "data": {
      "image/png": "[encoded data removed]",
      "text/plain": [
       "<Figure size 1200x1000 with 1 Axes>"
      ]
     },
     "metadata": {},
     "output_type": "display_data"
    }
   ],
   "source": [
    "x_values = pd.Series(range(0,len(orders_correct['revenue'])))\n",
    "\n",
    "plt.scatter(x_values, orders_correct['revenue']) \n",
    "plt.title('Стоимости заказов пользователей')\n",
    "plt.ylabel('Стоимость')\n",
    "plt.show()"
   ]
  },
  {
   "cell_type": "markdown",
   "metadata": {},
   "source": [
    "**Вывод:**\n",
    "\n",
    "На графике выделяются два заказа с аномально высокой стоимостью: первый свыше 1,2 млн и второй около 200 000. Основная масса заказов не превышает 100 000. "
   ]
  },
  {
   "cell_type": "markdown",
   "metadata": {},
   "source": [
    "### Посчитаем 95-й и 99-й перцентили стоимости заказов. Выберем границу для определения аномальных заказов."
   ]
  },
  {
   "cell_type": "code",
   "execution_count": 49,
   "metadata": {},
   "outputs": [
    {
     "data": {
      "text/plain": [
       "array([26785., 53904.])"
      ]
     },
     "execution_count": 49,
     "metadata": {},
     "output_type": "execute_result"
    }
   ],
   "source": [
    "np.percentile(orders_correct['revenue'], [95, 99])"
   ]
  },
  {
   "cell_type": "markdown",
   "metadata": {},
   "source": [
    "**Вывод:**\n",
    "\n",
    "99% заказов имеют выручку не более 58233.2 - это и будет нашей границей для определения аномальных заказов."
   ]
  },
  {
   "cell_type": "markdown",
   "metadata": {},
   "source": [
    "### Посчитаем статистическую значимость различий в среднем количестве заказов на посетителя между группами по «сырым» данным. Сделаем выводы и предположения."
   ]
  },
  {
   "cell_type": "markdown",
   "metadata": {},
   "source": [
    "Для групп A и B рассчитаем ежедневное и кумулятивное количество посетителей. Объединим данные по заказам и посещениям, создадим таблицу, содержащую накопительные значения посетителей по каждой дате."
   ]
  },
  {
   "cell_type": "code",
   "execution_count": 53,
   "metadata": {},
   "outputs": [
    {
     "data": {
      "text/html": [
       "<div>\n",
       "<style scoped>\n",
       "    .dataframe tbody tr th:only-of-type {\n",
       "        vertical-align: middle;\n",
       "    }\n",
       "\n",
       "    .dataframe tbody tr th {\n",
       "        vertical-align: top;\n",
       "    }\n",
       "\n",
       "    .dataframe thead th {\n",
       "        text-align: right;\n",
       "    }\n",
       "</style>\n",
       "<table border=\"1\" class=\"dataframe\">\n",
       "  <thead>\n",
       "    <tr style=\"text-align: right;\">\n",
       "      <th></th>\n",
       "      <th>date</th>\n",
       "      <th>ordersPerDateA</th>\n",
       "      <th>revenuePerDateA</th>\n",
       "      <th>ordersPerDateB</th>\n",
       "      <th>revenuePerDateB</th>\n",
       "      <th>ordersCummulativeA</th>\n",
       "      <th>revenueCummulativeA</th>\n",
       "      <th>ordersCummulativeB</th>\n",
       "      <th>revenueCummulativeB</th>\n",
       "      <th>visitorsPerDateA</th>\n",
       "      <th>visitorsPerDateB</th>\n",
       "      <th>visitorsCummulativeA</th>\n",
       "      <th>visitorsCummulativeB</th>\n",
       "    </tr>\n",
       "  </thead>\n",
       "  <tbody>\n",
       "    <tr>\n",
       "      <th>0</th>\n",
       "      <td>2019-08-01</td>\n",
       "      <td>23</td>\n",
       "      <td>142779</td>\n",
       "      <td>17</td>\n",
       "      <td>59758</td>\n",
       "      <td>23</td>\n",
       "      <td>142779</td>\n",
       "      <td>17</td>\n",
       "      <td>59758</td>\n",
       "      <td>719</td>\n",
       "      <td>713</td>\n",
       "      <td>719</td>\n",
       "      <td>713</td>\n",
       "    </tr>\n",
       "    <tr>\n",
       "      <th>1</th>\n",
       "      <td>2019-08-02</td>\n",
       "      <td>19</td>\n",
       "      <td>91602</td>\n",
       "      <td>23</td>\n",
       "      <td>162043</td>\n",
       "      <td>42</td>\n",
       "      <td>234381</td>\n",
       "      <td>40</td>\n",
       "      <td>221801</td>\n",
       "      <td>619</td>\n",
       "      <td>581</td>\n",
       "      <td>1338</td>\n",
       "      <td>1294</td>\n",
       "    </tr>\n",
       "    <tr>\n",
       "      <th>2</th>\n",
       "      <td>2019-08-03</td>\n",
       "      <td>24</td>\n",
       "      <td>112473</td>\n",
       "      <td>14</td>\n",
       "      <td>67049</td>\n",
       "      <td>66</td>\n",
       "      <td>346854</td>\n",
       "      <td>54</td>\n",
       "      <td>288850</td>\n",
       "      <td>507</td>\n",
       "      <td>509</td>\n",
       "      <td>1845</td>\n",
       "      <td>1803</td>\n",
       "    </tr>\n",
       "    <tr>\n",
       "      <th>3</th>\n",
       "      <td>2019-08-04</td>\n",
       "      <td>11</td>\n",
       "      <td>41176</td>\n",
       "      <td>14</td>\n",
       "      <td>96890</td>\n",
       "      <td>77</td>\n",
       "      <td>388030</td>\n",
       "      <td>68</td>\n",
       "      <td>385740</td>\n",
       "      <td>717</td>\n",
       "      <td>770</td>\n",
       "      <td>2562</td>\n",
       "      <td>2573</td>\n",
       "    </tr>\n",
       "    <tr>\n",
       "      <th>4</th>\n",
       "      <td>2019-08-05</td>\n",
       "      <td>22</td>\n",
       "      <td>86383</td>\n",
       "      <td>21</td>\n",
       "      <td>89908</td>\n",
       "      <td>99</td>\n",
       "      <td>474413</td>\n",
       "      <td>89</td>\n",
       "      <td>475648</td>\n",
       "      <td>756</td>\n",
       "      <td>707</td>\n",
       "      <td>3318</td>\n",
       "      <td>3280</td>\n",
       "    </tr>\n",
       "  </tbody>\n",
       "</table>\n",
       "</div>"
      ],
      "text/plain": [
       "        date  ordersPerDateA  revenuePerDateA  ordersPerDateB  \\\n",
       "0 2019-08-01              23           142779              17   \n",
       "1 2019-08-02              19            91602              23   \n",
       "2 2019-08-03              24           112473              14   \n",
       "3 2019-08-04              11            41176              14   \n",
       "4 2019-08-05              22            86383              21   \n",
       "\n",
       "   revenuePerDateB  ordersCummulativeA  revenueCummulativeA  \\\n",
       "0            59758                  23               142779   \n",
       "1           162043                  42               234381   \n",
       "2            67049                  66               346854   \n",
       "3            96890                  77               388030   \n",
       "4            89908                  99               474413   \n",
       "\n",
       "   ordersCummulativeB  revenueCummulativeB  visitorsPerDateA  \\\n",
       "0                  17                59758               719   \n",
       "1                  40               221801               619   \n",
       "2                  54               288850               507   \n",
       "3                  68               385740               717   \n",
       "4                  89               475648               756   \n",
       "\n",
       "   visitorsPerDateB  visitorsCummulativeA  visitorsCummulativeB  \n",
       "0               713                   719                   713  \n",
       "1               581                  1338                  1294  \n",
       "2               509                  1845                  1803  \n",
       "3               770                  2562                  2573  \n",
       "4               707                  3318                  3280  "
      ]
     },
     "execution_count": 53,
     "metadata": {},
     "output_type": "execute_result"
    }
   ],
   "source": [
    "# соберем в дф количество пользователей группы А за каждый день\n",
    "visitorsADaily = visitors[visitors['group'] == 'A'][['date', 'visitors']]\n",
    "visitorsADaily.columns = ['date', 'visitorsPerDateA']\n",
    "# соберем в дф кумулятивное количество пользователей группы А за каждый день\n",
    "visitorsACummulative = visitorsADaily.apply(\n",
    "    lambda x: visitorsADaily[visitorsADaily['date'] <= x['date']].agg(\n",
    "        {'date': 'max', 'visitorsPerDateA': 'sum'}), axis=1)\n",
    "visitorsACummulative.columns = ['date', 'visitorsCummulativeA']\n",
    "\n",
    "# соберем в дф количество пользователей группы В за каждый день\n",
    "\n",
    "visitorsBDaily = visitors[visitors['group'] == 'B'][['date', 'visitors']]\n",
    "visitorsBDaily.columns = ['date', 'visitorsPerDateB']\n",
    "# соберем в дф кумулятивное количество пользователей группы В за каждый день\n",
    "\n",
    "visitorsBCummulative = visitorsBDaily.apply(\n",
    "    lambda x: visitorsBDaily[visitorsBDaily['date'] <= x['date']].agg(\n",
    "        {'date': 'max', 'visitorsPerDateB': 'sum'}), axis=1)\n",
    "visitorsBCummulative.columns = ['date', 'visitorsCummulativeB']\n",
    "\n",
    "# соберем в дф количество заказов и выручку группы А по дням    \n",
    "ordersADaily = (\n",
    "    orders_correct[orders_correct['group'] == 'A'][['date', 'transaction_id', 'visitor_id', 'revenue']]\n",
    "    .groupby('date', as_index=False)\n",
    "    .agg({'transaction_id': pd.Series.nunique, 'revenue': 'sum'})\n",
    ")\n",
    "ordersADaily.columns = ['date', 'ordersPerDateA', 'revenuePerDateA']\n",
    "# соберем в дф накопительное количество заказов и накопленную выручку группы А по дням    \n",
    "ordersACummulative = ordersADaily.apply(\n",
    "    lambda x: ordersADaily[ordersADaily['date'] <= x['date']].agg(\n",
    "        {'date': 'max', 'ordersPerDateA': 'sum', 'revenuePerDateA': 'sum'}\n",
    "    ),\n",
    "    axis=1,\n",
    ").sort_values(by=['date'])\n",
    "ordersACummulative.columns = [\n",
    "    'date',\n",
    "    'ordersCummulativeA',\n",
    "    'revenueCummulativeA',\n",
    "]\n",
    "# соберем в дф количество заказов и выручку группы В по дням    \n",
    "ordersBDaily = (\n",
    "    orders_correct[orders_correct['group'] == 'B'][['date', 'transaction_id', 'visitor_id', 'revenue']]\n",
    "    .groupby('date', as_index=False)\n",
    "    .agg({'transaction_id': pd.Series.nunique, 'revenue': 'sum'})\n",
    ")\n",
    "ordersBDaily.columns = ['date', 'ordersPerDateB', 'revenuePerDateB']\n",
    "# соберем в дф накопительное количество заказов и накопленную выручку группы В по дням\n",
    "ordersBCummulative = ordersBDaily.apply(\n",
    "    lambda x: ordersBDaily[ordersBDaily['date'] <= x['date']].agg(\n",
    "        {'date': 'max', 'ordersPerDateB': 'sum', 'revenuePerDateB': 'sum'}\n",
    "    ),\n",
    "    axis=1,\n",
    ").sort_values(by=['date'])\n",
    "ordersBCummulative.columns = [\n",
    "    'date',\n",
    "    'ordersCummulativeB',\n",
    "    'revenueCummulativeB',\n",
    "]\n",
    "\n",
    "# объединим полученные данные в один датафрейм    \n",
    "data = (\n",
    "    ordersADaily.merge(\n",
    "        ordersBDaily, left_on='date', right_on='date', how='left'\n",
    "    )\n",
    "    .merge(ordersACummulative, left_on='date', right_on='date', how='left')\n",
    "    .merge(ordersBCummulative, left_on='date', right_on='date', how='left')\n",
    "    .merge(visitorsADaily, left_on='date', right_on='date', how='left')\n",
    "    .merge(visitorsBDaily, left_on='date', right_on='date', how='left')\n",
    "    .merge(visitorsACummulative, left_on='date', right_on='date', how='left')\n",
    "    .merge(visitorsBCummulative, left_on='date', right_on='date', how='left')\n",
    ")\n",
    "\n",
    "data.head(5)"
   ]
  },
  {
   "cell_type": "markdown",
   "metadata": {},
   "source": [
    "Напомним названия столбцов данных:\n",
    "* `date` — дата;\n",
    "* `ordersPerDateA` — количество заказов в выбранную дату в группе A;\n",
    "* `revenuePerDateA` — суммарная выручка в выбранную дату в группе A;\n",
    "* `ordersPerDateB` — количество заказов в выбранную дату в группе B;\n",
    "* `revenuePerDateB` — суммарная выручка в выбранную дату в группе B;\n",
    "* `ordersCummulativeA` — суммарное число заказов до выбранной даты включительно в группе A;\n",
    "* `revenueCummulativeA` — суммарная выручка до выбранной даты включительно в группе A;\n",
    "* `ordersCummulativeB` — суммарное количество заказов до выбранной даты включительно в группе B;\n",
    "* `revenueCummulativeB` — суммарная выручка до выбранной даты включительно в группе B;\n",
    "* `visitorsPerDateA` — количество пользователей в выбранную дату в группе A;\n",
    "* `visitorsPerDateB` — количество пользователей в выбранную дату в группе B;\n",
    "* `visitorsCummulativeA` — количество пользователей до выбранной даты включительно в группе A;\n",
    "* `visitorsCummulativeB` — количество пользователей до выбранной даты включительно в группе B.\n",
    "\n",
    "Для определения статистической значимости различий в среднем количестве заказов между группами создадим переменные ordersByUsersA и ordersByUsersB со столбцами userId и orders. В эти переменные внесём данные о заказах пользователей, которые хотя бы один раз совершили покупку."
   ]
  },
  {
   "cell_type": "code",
   "execution_count": 55,
   "metadata": {},
   "outputs": [],
   "source": [
    "ordersByUsersA = (\n",
    "    orders_correct[orders_correct['group'] == 'A']\n",
    "    .groupby('visitor_id', as_index=False)\n",
    "    .agg({'transaction_id': pd.Series.nunique})\n",
    ")\n",
    "ordersByUsersA.columns = ['userId', 'orders']\n",
    "\n",
    "ordersByUsersB = (\n",
    "    orders_correct[orders_correct['group'] == 'B']\n",
    "    .groupby('visitor_id', as_index=False)\n",
    "    .agg({'transaction_id': pd.Series.nunique})\n",
    ")\n",
    "ordersByUsersB.columns = ['userId', 'orders'] "
   ]
  },
  {
   "cell_type": "code",
   "execution_count": 56,
   "metadata": {},
   "outputs": [],
   "source": [
    "# Создаём выборки количества заказов для групп A и B. Тем, кто ничего не заказал, будут соответствовать нули.\n",
    "sampleA = pd.concat(\n",
    "    [ordersByUsersA['orders'], \n",
    "    pd.Series(0, index=np.arange(data['visitorsPerDateA'].sum() - len(ordersByUsersA['orders'])),\n",
    "    name='orders')], axis=0)\n",
    "\n",
    "sampleB = pd.concat(\n",
    "    [ordersByUsersB['orders'],\n",
    "    pd.Series(0, index=np.arange(data['visitorsPerDateB'].sum() - len(ordersByUsersB['orders'])),\n",
    "    name='orders')], axis=0)"
   ]
  },
  {
   "cell_type": "markdown",
   "metadata": {},
   "source": [
    "Сформулируем гипотезы. \n",
    "* Н0: различий в среднем количестве заказов между группами нет. \n",
    "* Н1: различия в среднем количестве заказов между группами есть.\n",
    "\n",
    "Возьмем уровень значимости равный 5%"
   ]
  },
  {
   "cell_type": "code",
   "execution_count": 58,
   "metadata": {},
   "outputs": [
    {
     "name": "stdout",
     "output_type": "stream",
     "text": [
      "p-value: 0.011\n",
      "Относительное изменение количества заказов клиентов группы B к группе A: 0.160\n"
     ]
    }
   ],
   "source": [
    "print('p-value: {0:.3f}'.format(stats.mannwhitneyu(sampleA, sampleB)[1]))\n",
    "\n",
    "print('Относительное изменение количества заказов клиентов группы B к группе A: {0:.3f}'.format(sampleB.mean() / sampleA.mean() - 1))"
   ]
  },
  {
   "cell_type": "markdown",
   "metadata": {},
   "source": [
    "**Вывод:**\n",
    "* Значение p-value 0.011 меньше уровня значимости, отвергаем нулевую гипотезу. Будем считать, что есть статистически значимые различия в среднем количестве заказов между двумя группами по «сырым» данным. \n",
    "* Относительный прирост среднего количества заказов в группе В по отношению к группе А составляет 16% возможно это положительное влияние внесенных изменений. "
   ]
  },
  {
   "cell_type": "markdown",
   "metadata": {},
   "source": [
    "### Посчитаем статистическую значимость различий в среднем чеке заказа между группами по «сырым» данным. Сделаем выводы и предположения."
   ]
  },
  {
   "cell_type": "markdown",
   "metadata": {},
   "source": [
    "Сформулируем гипотезы.\n",
    "\n",
    "* Н0: различий в среднем чеке между группами нет.\n",
    "* Н1: различия в среднем чеке между группами есть.\n",
    "\n",
    "Возьмем уровень значимости равный 5%"
   ]
  },
  {
   "cell_type": "code",
   "execution_count": 62,
   "metadata": {},
   "outputs": [
    {
     "name": "stdout",
     "output_type": "stream",
     "text": [
      "p-value: 0.829\n",
      "Относительное изменение среднего чека клиентов группы B к группе A: 0.287\n"
     ]
    }
   ],
   "source": [
    "print('p-value: {0:.3f}'.format(stats.mannwhitneyu(orders_correct[orders_correct['group']=='A']['revenue'], orders_correct[orders_correct['group']=='B']['revenue'])[1]))\n",
    "\n",
    "print('Относительное изменение среднего чека клиентов группы B к группе A: {0:.3f}'.format(orders_correct[orders_correct['group']=='B']['revenue'].mean()/orders_correct[orders_correct['group']=='A']['revenue'].mean()-1)) "
   ]
  },
  {
   "cell_type": "markdown",
   "metadata": {},
   "source": [
    "**Вывод:**\n",
    "\n",
    "* Значение p-value 0.829 больше уровня значимости, следовательно у нас нет оснований отвергнуть нулевую гипотезу. Будем считать, что на \"сырых\" данных статистически значимых отличий в среднем чеке заказа клиентов групп А и В нет.\n",
    "* Наблюдаемое различие среднего чека клиентов группы В в 28,7% не явлется статистически значимым.    \n",
    "  "
   ]
  },
  {
   "cell_type": "markdown",
   "metadata": {},
   "source": [
    "### Посчитаем статистическую значимость различий в среднем количестве заказов на посетителя между группами по «очищенным» данным. Сделаем выводы и предположения."
   ]
  },
  {
   "cell_type": "markdown",
   "metadata": {},
   "source": [
    "Ранее мы нашли 95-й и 99-й перцентили средних чеков, они равны 26785 и 53904  рублям. \n",
    "А 95-й и 99-й перцентили количества заказов на одного пользователя равны 1 и 2 заказа на пользователя.\n",
    "Примем за аномальных пользователей тех, кто совершил свыше 2 заказов или совершил заказ дороже 53904 рублей. Так мы уберём 1% пользователей с наибольшим числом заказов и от 1% до 5% пользователей с дорогими заказами. Сделаем срезы пользователей с числом заказов больше 2 — usersWithManyOrders и пользователей, совершивших заказы дороже 53904 — usersWithExpensiveOrders. Объединим их в таблице abnormalUsers. "
   ]
  },
  {
   "cell_type": "code",
   "execution_count": 66,
   "metadata": {},
   "outputs": [
    {
     "name": "stdout",
     "output_type": "stream",
     "text": [
      "Всего аномальных пользователей: 16\n"
     ]
    },
    {
     "data": {
      "text/plain": [
       "1099    148427295\n",
       "33      249864742\n",
       "58      611059232\n",
       "949     887908475\n",
       "744     888512513\n",
       "dtype: int64"
      ]
     },
     "execution_count": 66,
     "metadata": {},
     "output_type": "execute_result"
    }
   ],
   "source": [
    "usersWithManyOrders = pd.concat([ordersByUsersA[ordersByUsersA['orders'] > 2]['userId'], ordersByUsersB[ordersByUsersB['orders'] > 2]['userId']], axis = 0)\n",
    "usersWithExpensiveOrders = orders_correct[orders_correct['revenue'] > 53904 ]['visitor_id']\n",
    "abnormalUsers = pd.concat([usersWithManyOrders, usersWithExpensiveOrders], axis = 0).drop_duplicates().sort_values()\n",
    "\n",
    "print('Всего аномальных пользователей:' ,abnormalUsers.shape[0]) \n",
    "abnormalUsers.head(5)"
   ]
  },
  {
   "cell_type": "markdown",
   "metadata": {},
   "source": [
    "Сформулируем гипотезы.\n",
    "\n",
    "* Н0: различий в среднем количестве заказов между группами по «очищенным» данным нет.\n",
    "* Н1: различия в среднем количестве заказов между группами по «очищенным» данным есть.\n",
    "\n",
    "Возьмем уровень значимости равный 5%"
   ]
  },
  {
   "cell_type": "code",
   "execution_count": 68,
   "metadata": {},
   "outputs": [
    {
     "name": "stdout",
     "output_type": "stream",
     "text": [
      "p-value: 0.00702\n",
      "Относительное изменение количества заказов клиентов группы B к группе A на \"очищеных\" данных: 0.189\n"
     ]
    }
   ],
   "source": [
    "sampleAFiltered = pd.concat(\n",
    "    [ordersByUsersA[np.logical_not(ordersByUsersA['userId'].isin(abnormalUsers))]['orders'],\n",
    "    pd.Series(0, index=np.arange(data['visitorsPerDateA'].sum() - len(ordersByUsersA['orders'])), name='orders')],\n",
    "    axis=0)\n",
    "\n",
    "sampleBFiltered = pd.concat(\n",
    "    [ordersByUsersB[np.logical_not(ordersByUsersB['userId'].isin(abnormalUsers))]['orders'],\n",
    "    pd.Series(0, index=np.arange(data['visitorsPerDateB'].sum() - len(ordersByUsersB['orders'])), name='orders')],\n",
    "    axis=0)\n",
    "\n",
    "print('p-value: {0:.5f}'.format(stats.mannwhitneyu(sampleAFiltered, sampleBFiltered)[1]))\n",
    "print('Относительное изменение количества заказов клиентов группы B к группе A на \"очищеных\" данных: {0:.3f}'.format(sampleBFiltered.mean()/sampleAFiltered.mean()-1)) "
   ]
  },
  {
   "cell_type": "markdown",
   "metadata": {},
   "source": [
    "**Вывод:**\n",
    "* Значение p-value 0.00702 меньше уровня значимости, отвергаем нулевую гипотезу. Будем считать, что есть статистически значимые различия в среднем количестве заказов между двумя группами по «очищеным» данным.\n",
    "* Относительный прирост среднего количества заказов в группе В по отношению к группе А составляет 18,9%.\n",
    "\n",
    "На \"очищеных\" данных также как на \"сырых\" наблюдаем лучшую конверсию у клиентов группы В."
   ]
  },
  {
   "cell_type": "markdown",
   "metadata": {},
   "source": [
    "### Посчитаем статистическую значимость различий в среднем чеке заказа между группами по «очищенным» данным. Сделаем выводы и предположения"
   ]
  },
  {
   "cell_type": "markdown",
   "metadata": {},
   "source": [
    "Сформулируем гипотезы.\n",
    "\n",
    "* Н0: различий в среднем чеке между группами по «очищенным» данным нет.\n",
    "* Н1: различия в среднем чеке между группами по «очищенным» данным есть.\n",
    "\n",
    "Возьмем уровень значимости равный 5%"
   ]
  },
  {
   "cell_type": "code",
   "execution_count": 72,
   "metadata": {},
   "outputs": [
    {
     "name": "stdout",
     "output_type": "stream",
     "text": [
      "p-value: 0.788\n",
      "Относительное изменение среднего чека клиентов группы B к группе A на \"очищеных\" данных: -0.032\n"
     ]
    }
   ],
   "source": [
    "print(\n",
    "    'p-value: {0:.3f}'.format(\n",
    "        stats.mannwhitneyu(\n",
    "            orders_correct[\n",
    "                np.logical_and(\n",
    "                    orders_correct['group'] == 'A',\n",
    "                    np.logical_not(orders_correct['visitor_id'].isin(abnormalUsers)),\n",
    "                )\n",
    "            ]['revenue'],\n",
    "            orders_correct[\n",
    "                np.logical_and(\n",
    "                    orders_correct['group'] == 'B',\n",
    "                    np.logical_not(orders_correct['visitor_id'].isin(abnormalUsers)),\n",
    "                )\n",
    "            ]['revenue'],\n",
    "        )[1]\n",
    "    )\n",
    ")\n",
    "\n",
    "print(\n",
    "    'Относительное изменение среднего чека клиентов группы B к группе A на \"очищеных\" данных: {0:.3f}'.format(\n",
    "        orders_correct[\n",
    "            np.logical_and(\n",
    "                orders_correct['group'] == 'B',\n",
    "                np.logical_not(orders_correct['visitor_id'].isin(abnormalUsers)),\n",
    "            )\n",
    "        ]['revenue'].mean()\n",
    "        / orders_correct[\n",
    "            np.logical_and(\n",
    "                orders_correct['group'] == 'A',\n",
    "                np.logical_not(orders_correct['visitor_id'].isin(abnormalUsers)),\n",
    "            )\n",
    "        ]['revenue'].mean()\n",
    "        - 1\n",
    "    )\n",
    ") \n"
   ]
  },
  {
   "cell_type": "markdown",
   "metadata": {},
   "source": [
    "**Вывод:**\n",
    "* Значение p-value 0.788 больше уровня значимости, следовательно у нас нет оснований отвергнуть нулевую гипотезу. Будем считать, что на \"очищеных\" данных, так же как и на \"сырых\" статистически значимых отличий в среднем чеке заказа клиентов групп А и В нет.\n",
    "* Но средний чек клиентов группы В на \"очищеных\" данных меньше на 3,2%. Можем считать это различие незначительным."
   ]
  },
  {
   "cell_type": "markdown",
   "metadata": {},
   "source": [
    "### Примем решение по результатам теста. \n",
    "На основании результатов теста можно рекомендовать остановить тест и признать победу группы В.\n",
    "\n",
    "Группа B демонстрирует уверенное превосходство в показателях конверсии, несмотря на отсутствие статистически значимых различий в средних значениях суммы чека между группами, как по исходным, так и по обработанным данным. Графический анализ также указывает на устойчивое преимущество группы B, которая либо сохраняет текущие средние значения, либо демонстрирует тенденцию к росту. Таким образом, группа B оказывается более результативной, а изменения, примененные в ней, могут быть применены ко всем остальным клиентам."
   ]
  }
 ],
 "metadata": {
  "ExecuteTimeLog": [
   {
    "duration": 89,
    "start_time": "2024-11-15T20:49:50.781Z"
   },
   {
    "duration": 731,
    "start_time": "2024-11-15T21:08:37.258Z"
   },
   {
    "duration": 73,
    "start_time": "2024-11-15T21:13:40.999Z"
   },
   {
    "duration": 93,
    "start_time": "2024-11-15T21:13:54.464Z"
   },
   {
    "duration": 226,
    "start_time": "2024-11-15T21:14:08.194Z"
   },
   {
    "duration": 4,
    "start_time": "2024-11-15T21:16:21.440Z"
   },
   {
    "duration": 19,
    "start_time": "2024-11-15T21:16:46.399Z"
   },
   {
    "duration": 17,
    "start_time": "2024-11-15T21:17:38.389Z"
   },
   {
    "duration": 13,
    "start_time": "2024-11-15T21:18:21.554Z"
   },
   {
    "duration": 83,
    "start_time": "2024-11-15T21:18:49.260Z"
   },
   {
    "duration": 16,
    "start_time": "2024-11-15T21:19:43.582Z"
   },
   {
    "duration": 17,
    "start_time": "2024-11-15T21:21:02.647Z"
   },
   {
    "duration": 19,
    "start_time": "2024-11-15T21:21:44.826Z"
   },
   {
    "duration": 16,
    "start_time": "2024-11-15T21:22:07.439Z"
   },
   {
    "duration": 44,
    "start_time": "2024-11-16T20:49:03.630Z"
   },
   {
    "duration": 69,
    "start_time": "2024-11-16T20:49:13.800Z"
   },
   {
    "duration": 7,
    "start_time": "2024-11-16T20:49:14.002Z"
   },
   {
    "duration": 3,
    "start_time": "2024-11-16T20:49:14.462Z"
   },
   {
    "duration": 6,
    "start_time": "2024-11-16T20:49:15.114Z"
   },
   {
    "duration": 7,
    "start_time": "2024-11-16T20:49:15.758Z"
   },
   {
    "duration": 7,
    "start_time": "2024-11-16T20:49:16.288Z"
   },
   {
    "duration": 63,
    "start_time": "2024-11-16T20:49:17.453Z"
   },
   {
    "duration": 7,
    "start_time": "2024-11-16T20:49:17.817Z"
   },
   {
    "duration": 739,
    "start_time": "2024-11-16T20:49:46.151Z"
   },
   {
    "duration": 224,
    "start_time": "2024-11-16T20:49:46.892Z"
   },
   {
    "duration": 3,
    "start_time": "2024-11-16T20:49:47.118Z"
   },
   {
    "duration": 25,
    "start_time": "2024-11-16T20:49:47.651Z"
   },
   {
    "duration": 21,
    "start_time": "2024-11-16T20:49:48.341Z"
   },
   {
    "duration": 18,
    "start_time": "2024-11-16T20:49:49.008Z"
   },
   {
    "duration": 67,
    "start_time": "2024-11-16T20:49:50.479Z"
   },
   {
    "duration": 1104,
    "start_time": "2024-11-16T20:49:51.156Z"
   },
   {
    "duration": 1126,
    "start_time": "2024-11-16T20:50:14.447Z"
   },
   {
    "duration": 8,
    "start_time": "2024-11-16T20:51:11.643Z"
   },
   {
    "duration": 1262,
    "start_time": "2024-11-16T20:52:55.817Z"
   },
   {
    "duration": 8,
    "start_time": "2024-11-16T20:53:22.178Z"
   },
   {
    "duration": 779,
    "start_time": "2024-11-21T14:01:14.744Z"
   },
   {
    "duration": 290,
    "start_time": "2024-11-21T14:01:15.525Z"
   },
   {
    "duration": 3,
    "start_time": "2024-11-21T14:01:15.817Z"
   },
   {
    "duration": 20,
    "start_time": "2024-11-21T14:01:16.279Z"
   },
   {
    "duration": 17,
    "start_time": "2024-11-21T14:01:17.085Z"
   },
   {
    "duration": 16,
    "start_time": "2024-11-21T14:01:17.611Z"
   },
   {
    "duration": 10,
    "start_time": "2024-11-21T14:01:19.289Z"
   },
   {
    "duration": 7,
    "start_time": "2024-11-21T14:01:20.356Z"
   },
   {
    "duration": 3,
    "start_time": "2024-11-21T14:03:16.097Z"
   },
   {
    "duration": 4,
    "start_time": "2024-11-21T14:03:41.869Z"
   },
   {
    "duration": 10,
    "start_time": "2024-11-21T14:03:57.795Z"
   },
   {
    "duration": 9,
    "start_time": "2024-11-21T14:04:10.126Z"
   },
   {
    "duration": 89,
    "start_time": "2024-11-21T14:47:54.778Z"
   },
   {
    "duration": 76,
    "start_time": "2024-11-21T14:48:38.499Z"
   },
   {
    "duration": 1272,
    "start_time": "2024-11-21T14:48:53.228Z"
   },
   {
    "duration": 14,
    "start_time": "2024-11-21T14:54:32.680Z"
   },
   {
    "duration": 12,
    "start_time": "2024-11-21T14:55:14.094Z"
   },
   {
    "duration": 11,
    "start_time": "2024-11-21T14:58:37.382Z"
   },
   {
    "duration": 13,
    "start_time": "2024-11-21T14:59:07.698Z"
   },
   {
    "duration": 11,
    "start_time": "2024-11-21T15:48:35.658Z"
   },
   {
    "duration": 19,
    "start_time": "2024-11-21T15:50:55.675Z"
   },
   {
    "duration": 48,
    "start_time": "2024-11-26T08:53:24.362Z"
   },
   {
    "duration": 1387,
    "start_time": "2024-11-26T08:53:31.657Z"
   },
   {
    "duration": 265,
    "start_time": "2024-11-26T08:53:33.046Z"
   },
   {
    "duration": 3,
    "start_time": "2024-11-26T08:53:33.313Z"
   },
   {
    "duration": 34,
    "start_time": "2024-11-26T08:53:33.317Z"
   },
   {
    "duration": 18,
    "start_time": "2024-11-26T08:53:33.353Z"
   },
   {
    "duration": 18,
    "start_time": "2024-11-26T08:53:34.072Z"
   },
   {
    "duration": 3,
    "start_time": "2024-11-26T08:53:35.338Z"
   },
   {
    "duration": 7,
    "start_time": "2024-11-26T08:59:00.785Z"
   },
   {
    "duration": 26,
    "start_time": "2024-11-26T08:59:31.106Z"
   },
   {
    "duration": 62,
    "start_time": "2024-11-26T09:03:13.976Z"
   },
   {
    "duration": 79,
    "start_time": "2024-11-26T09:04:30.795Z"
   },
   {
    "duration": 15,
    "start_time": "2024-11-26T09:04:58.476Z"
   },
   {
    "duration": 23,
    "start_time": "2024-11-26T09:06:08.958Z"
   },
   {
    "duration": 17,
    "start_time": "2024-11-26T09:06:39.582Z"
   },
   {
    "duration": 20,
    "start_time": "2024-11-26T09:07:13.233Z"
   },
   {
    "duration": 56,
    "start_time": "2024-11-26T09:08:01.026Z"
   },
   {
    "duration": 20,
    "start_time": "2024-11-26T09:08:05.730Z"
   },
   {
    "duration": 20,
    "start_time": "2024-11-26T09:08:56.882Z"
   },
   {
    "duration": 6,
    "start_time": "2024-11-26T09:09:11.010Z"
   },
   {
    "duration": 18,
    "start_time": "2024-11-26T09:09:11.842Z"
   },
   {
    "duration": 16,
    "start_time": "2024-11-26T09:09:32.388Z"
   },
   {
    "duration": 4,
    "start_time": "2024-11-26T09:10:23.701Z"
   },
   {
    "duration": 75,
    "start_time": "2024-11-26T09:10:24.070Z"
   },
   {
    "duration": 6,
    "start_time": "2024-11-26T09:10:24.677Z"
   },
   {
    "duration": 33,
    "start_time": "2024-11-26T09:10:25.227Z"
   },
   {
    "duration": 22,
    "start_time": "2024-11-26T09:10:25.733Z"
   },
   {
    "duration": 26,
    "start_time": "2024-11-26T09:10:26.213Z"
   },
   {
    "duration": 7,
    "start_time": "2024-11-26T09:10:27.254Z"
   },
   {
    "duration": 14,
    "start_time": "2024-11-26T09:10:28.101Z"
   },
   {
    "duration": 34,
    "start_time": "2024-11-26T09:12:25.177Z"
   },
   {
    "duration": 27,
    "start_time": "2024-11-26T09:15:06.604Z"
   },
   {
    "duration": 5,
    "start_time": "2024-11-26T10:34:23.688Z"
   },
   {
    "duration": 94,
    "start_time": "2024-11-26T10:34:23.929Z"
   },
   {
    "duration": 3,
    "start_time": "2024-11-26T10:34:24.345Z"
   },
   {
    "duration": 20,
    "start_time": "2024-11-26T10:34:24.797Z"
   },
   {
    "duration": 24,
    "start_time": "2024-11-26T10:34:25.178Z"
   },
   {
    "duration": 20,
    "start_time": "2024-11-26T10:34:25.577Z"
   },
   {
    "duration": 6,
    "start_time": "2024-11-26T10:34:26.360Z"
   },
   {
    "duration": 31,
    "start_time": "2024-11-26T10:34:27.144Z"
   },
   {
    "duration": 14,
    "start_time": "2024-11-26T10:43:36.343Z"
   },
   {
    "duration": 13,
    "start_time": "2024-11-26T10:44:16.429Z"
   },
   {
    "duration": 17,
    "start_time": "2024-11-26T10:46:34.218Z"
   },
   {
    "duration": 13,
    "start_time": "2024-11-26T10:49:06.863Z"
   },
   {
    "duration": 15,
    "start_time": "2024-11-26T10:49:07.425Z"
   },
   {
    "duration": 8,
    "start_time": "2024-11-26T11:51:06.948Z"
   },
   {
    "duration": 9,
    "start_time": "2024-11-26T11:51:22.787Z"
   },
   {
    "duration": 8,
    "start_time": "2024-11-26T11:51:47.780Z"
   },
   {
    "duration": 40,
    "start_time": "2024-11-26T12:08:15.185Z"
   },
   {
    "duration": 41,
    "start_time": "2024-11-26T12:10:20.660Z"
   },
   {
    "duration": 25,
    "start_time": "2024-11-26T12:10:32.548Z"
   },
   {
    "duration": 26,
    "start_time": "2024-11-26T12:10:41.268Z"
   },
   {
    "duration": 62,
    "start_time": "2024-11-26T12:10:46.212Z"
   },
   {
    "duration": 27,
    "start_time": "2024-11-26T12:10:51.636Z"
   },
   {
    "duration": 21,
    "start_time": "2024-11-26T12:12:49.000Z"
   },
   {
    "duration": 23,
    "start_time": "2024-11-26T12:13:25.433Z"
   },
   {
    "duration": 26,
    "start_time": "2024-11-26T12:14:33.291Z"
   },
   {
    "duration": 26,
    "start_time": "2024-11-26T12:15:49.276Z"
   },
   {
    "duration": 280,
    "start_time": "2024-11-26T12:17:03.855Z"
   },
   {
    "duration": 285,
    "start_time": "2024-11-26T12:17:15.549Z"
   },
   {
    "duration": 3,
    "start_time": "2024-11-26T12:18:31.984Z"
   },
   {
    "duration": 402,
    "start_time": "2024-11-26T12:19:17.137Z"
   },
   {
    "duration": 334,
    "start_time": "2024-11-26T12:22:43.287Z"
   },
   {
    "duration": 334,
    "start_time": "2024-11-26T12:23:33.735Z"
   },
   {
    "duration": 313,
    "start_time": "2024-11-26T12:24:15.321Z"
   },
   {
    "duration": 318,
    "start_time": "2024-11-26T12:36:33.757Z"
   },
   {
    "duration": 316,
    "start_time": "2024-11-26T12:36:37.372Z"
   },
   {
    "duration": 494,
    "start_time": "2024-11-26T12:50:40.067Z"
   },
   {
    "duration": 405,
    "start_time": "2024-11-26T12:53:35.338Z"
   },
   {
    "duration": 370,
    "start_time": "2024-11-26T12:53:54.761Z"
   },
   {
    "duration": 417,
    "start_time": "2024-11-26T12:54:01.033Z"
   },
   {
    "duration": 385,
    "start_time": "2024-11-26T12:54:09.369Z"
   },
   {
    "duration": 365,
    "start_time": "2024-11-26T12:54:16.442Z"
   },
   {
    "duration": 383,
    "start_time": "2024-11-26T12:54:47.259Z"
   },
   {
    "duration": 411,
    "start_time": "2024-11-26T12:55:14.012Z"
   },
   {
    "duration": 394,
    "start_time": "2024-11-26T12:55:45.531Z"
   },
   {
    "duration": 403,
    "start_time": "2024-11-26T12:56:11.980Z"
   },
   {
    "duration": 414,
    "start_time": "2024-11-26T12:56:35.293Z"
   },
   {
    "duration": 426,
    "start_time": "2024-11-26T12:56:57.182Z"
   },
   {
    "duration": 404,
    "start_time": "2024-11-26T12:57:03.966Z"
   },
   {
    "duration": 509,
    "start_time": "2024-11-26T12:57:18.494Z"
   },
   {
    "duration": 387,
    "start_time": "2024-11-26T13:00:03.747Z"
   },
   {
    "duration": 310,
    "start_time": "2024-11-26T13:00:18.451Z"
   },
   {
    "duration": 310,
    "start_time": "2024-11-26T13:00:28.659Z"
   },
   {
    "duration": 353,
    "start_time": "2024-11-26T13:13:28.345Z"
   },
   {
    "duration": 375,
    "start_time": "2024-11-26T13:43:04.648Z"
   },
   {
    "duration": 402,
    "start_time": "2024-11-26T13:50:24.678Z"
   },
   {
    "duration": 394,
    "start_time": "2024-11-26T13:50:58.550Z"
   },
   {
    "duration": 456,
    "start_time": "2024-11-26T13:51:20.917Z"
   },
   {
    "duration": 410,
    "start_time": "2024-11-26T13:51:53.557Z"
   },
   {
    "duration": 451,
    "start_time": "2024-11-26T13:52:19.510Z"
   },
   {
    "duration": 441,
    "start_time": "2024-11-26T13:56:01.693Z"
   },
   {
    "duration": 455,
    "start_time": "2024-11-26T13:57:20.240Z"
   },
   {
    "duration": 462,
    "start_time": "2024-11-26T13:57:36.802Z"
   },
   {
    "duration": 548,
    "start_time": "2024-11-26T13:57:49.712Z"
   },
   {
    "duration": 57,
    "start_time": "2024-11-26T13:59:50.099Z"
   },
   {
    "duration": 300,
    "start_time": "2024-11-26T13:59:58.836Z"
   },
   {
    "duration": 268,
    "start_time": "2024-11-26T14:00:09.635Z"
   },
   {
    "duration": 440,
    "start_time": "2024-11-26T14:00:33.012Z"
   },
   {
    "duration": 361,
    "start_time": "2024-11-26T14:36:49.662Z"
   },
   {
    "duration": 402,
    "start_time": "2024-11-26T14:48:05.008Z"
   },
   {
    "duration": 8,
    "start_time": "2024-11-26T15:00:45.620Z"
   },
   {
    "duration": 179,
    "start_time": "2024-11-26T15:01:38.469Z"
   },
   {
    "duration": 15,
    "start_time": "2024-11-26T15:02:13.305Z"
   },
   {
    "duration": 13,
    "start_time": "2024-11-26T15:03:13.512Z"
   },
   {
    "duration": 124,
    "start_time": "2024-11-26T15:05:09.419Z"
   },
   {
    "duration": 129,
    "start_time": "2024-11-26T15:05:25.532Z"
   },
   {
    "duration": 171,
    "start_time": "2024-11-26T15:06:18.605Z"
   },
   {
    "duration": 162,
    "start_time": "2024-11-26T15:06:31.917Z"
   },
   {
    "duration": 169,
    "start_time": "2024-11-26T15:11:20.438Z"
   },
   {
    "duration": 182,
    "start_time": "2024-11-26T15:11:31.332Z"
   },
   {
    "duration": 6,
    "start_time": "2024-11-26T15:29:04.306Z"
   },
   {
    "duration": 5,
    "start_time": "2024-11-26T15:29:20.562Z"
   },
   {
    "duration": 6,
    "start_time": "2024-11-26T16:45:15.787Z"
   },
   {
    "duration": 192,
    "start_time": "2024-11-26T16:54:03.977Z"
   },
   {
    "duration": 184,
    "start_time": "2024-11-26T16:57:11.357Z"
   },
   {
    "duration": 6,
    "start_time": "2024-11-26T17:01:41.974Z"
   },
   {
    "duration": 89,
    "start_time": "2024-11-26T18:38:14.672Z"
   },
   {
    "duration": 100,
    "start_time": "2024-11-26T18:51:40.182Z"
   },
   {
    "duration": 8,
    "start_time": "2024-11-26T18:52:59.655Z"
   },
   {
    "duration": 8,
    "start_time": "2024-11-26T18:53:15.032Z"
   },
   {
    "duration": 200,
    "start_time": "2024-11-26T18:55:58.877Z"
   },
   {
    "duration": 199,
    "start_time": "2024-11-26T18:56:36.654Z"
   },
   {
    "duration": 15,
    "start_time": "2024-11-26T18:59:14.018Z"
   },
   {
    "duration": 12,
    "start_time": "2024-11-26T18:59:18.289Z"
   },
   {
    "duration": 9,
    "start_time": "2024-11-26T18:59:19.842Z"
   },
   {
    "duration": 12,
    "start_time": "2024-11-26T18:59:27.329Z"
   },
   {
    "duration": 7,
    "start_time": "2024-11-26T18:59:30.018Z"
   },
   {
    "duration": 256,
    "start_time": "2024-11-26T19:00:13.859Z"
   },
   {
    "duration": 250,
    "start_time": "2024-11-26T19:00:17.812Z"
   },
   {
    "duration": 295,
    "start_time": "2024-11-26T19:00:37.045Z"
   },
   {
    "duration": 292,
    "start_time": "2024-11-26T19:00:39.106Z"
   },
   {
    "duration": 456,
    "start_time": "2024-11-26T19:00:41.459Z"
   },
   {
    "duration": 301,
    "start_time": "2024-11-26T19:00:43.683Z"
   },
   {
    "duration": 398,
    "start_time": "2024-11-26T19:00:45.602Z"
   },
   {
    "duration": 113,
    "start_time": "2024-11-26T19:00:52.148Z"
   },
   {
    "duration": 165,
    "start_time": "2024-11-26T19:00:53.588Z"
   },
   {
    "duration": 5,
    "start_time": "2024-11-26T19:01:07.939Z"
   },
   {
    "duration": 5,
    "start_time": "2024-11-26T19:01:10.004Z"
   },
   {
    "duration": 181,
    "start_time": "2024-11-26T19:01:12.580Z"
   },
   {
    "duration": 6,
    "start_time": "2024-11-26T19:01:16.612Z"
   },
   {
    "duration": 8,
    "start_time": "2024-11-26T19:01:27.333Z"
   },
   {
    "duration": 7,
    "start_time": "2024-11-26T19:01:28.212Z"
   },
   {
    "duration": 198,
    "start_time": "2024-11-26T19:01:29.542Z"
   },
   {
    "duration": 207,
    "start_time": "2024-11-26T19:02:57.000Z"
   },
   {
    "duration": 1243,
    "start_time": "2024-11-27T06:12:16.245Z"
   },
   {
    "duration": 218,
    "start_time": "2024-11-27T06:12:17.490Z"
   },
   {
    "duration": 3,
    "start_time": "2024-11-27T06:12:17.709Z"
   },
   {
    "duration": 19,
    "start_time": "2024-11-27T06:12:17.720Z"
   },
   {
    "duration": 17,
    "start_time": "2024-11-27T06:12:18.214Z"
   },
   {
    "duration": 16,
    "start_time": "2024-11-27T06:12:18.677Z"
   },
   {
    "duration": 6,
    "start_time": "2024-11-27T06:12:19.461Z"
   },
   {
    "duration": 18,
    "start_time": "2024-11-27T06:12:20.197Z"
   },
   {
    "duration": 12,
    "start_time": "2024-11-27T06:12:21.319Z"
   },
   {
    "duration": 9,
    "start_time": "2024-11-27T06:12:21.688Z"
   },
   {
    "duration": 7,
    "start_time": "2024-11-27T06:12:23.237Z"
   },
   {
    "duration": 6,
    "start_time": "2024-11-27T06:12:24.230Z"
   },
   {
    "duration": 259,
    "start_time": "2024-11-27T06:12:24.774Z"
   },
   {
    "duration": 349,
    "start_time": "2024-11-27T06:12:25.382Z"
   },
   {
    "duration": 295,
    "start_time": "2024-11-27T06:12:26.932Z"
   },
   {
    "duration": 389,
    "start_time": "2024-11-27T06:12:28.132Z"
   },
   {
    "duration": 302,
    "start_time": "2024-11-27T06:12:29.300Z"
   },
   {
    "duration": 347,
    "start_time": "2024-11-27T06:12:30.565Z"
   },
   {
    "duration": 120,
    "start_time": "2024-11-27T06:12:32.263Z"
   },
   {
    "duration": 164,
    "start_time": "2024-11-27T06:12:32.901Z"
   },
   {
    "duration": 5,
    "start_time": "2024-11-27T06:12:34.262Z"
   },
   {
    "duration": 4,
    "start_time": "2024-11-27T06:12:34.629Z"
   },
   {
    "duration": 185,
    "start_time": "2024-11-27T06:12:35.990Z"
   },
   {
    "duration": 4,
    "start_time": "2024-11-27T06:12:37.909Z"
   },
   {
    "duration": 242,
    "start_time": "2024-11-27T06:12:39.751Z"
   },
   {
    "duration": 115,
    "start_time": "2024-11-27T06:19:57.587Z"
   },
   {
    "duration": 7,
    "start_time": "2024-11-27T06:30:53.348Z"
   },
   {
    "duration": 8,
    "start_time": "2024-11-27T06:31:27.525Z"
   },
   {
    "duration": 8,
    "start_time": "2024-11-27T06:31:35.175Z"
   },
   {
    "duration": 6,
    "start_time": "2024-11-27T06:31:42.213Z"
   },
   {
    "duration": 21,
    "start_time": "2024-11-27T06:34:51.563Z"
   },
   {
    "duration": 72,
    "start_time": "2024-11-27T06:38:14.544Z"
   },
   {
    "duration": 66,
    "start_time": "2024-11-27T06:38:23.152Z"
   },
   {
    "duration": 72,
    "start_time": "2024-11-27T06:38:36.433Z"
   },
   {
    "duration": 19,
    "start_time": "2024-11-27T06:38:55.041Z"
   },
   {
    "duration": 20,
    "start_time": "2024-11-27T06:39:09.457Z"
   },
   {
    "duration": 20,
    "start_time": "2024-11-27T06:42:05.975Z"
   },
   {
    "duration": 108,
    "start_time": "2024-11-27T06:46:01.181Z"
   },
   {
    "duration": 19,
    "start_time": "2024-11-27T06:46:28.286Z"
   },
   {
    "duration": 116,
    "start_time": "2024-11-27T07:40:17.811Z"
   },
   {
    "duration": 9,
    "start_time": "2024-11-27T07:41:28.821Z"
   },
   {
    "duration": 9,
    "start_time": "2024-11-27T07:42:56.122Z"
   },
   {
    "duration": 23,
    "start_time": "2024-11-27T07:44:07.625Z"
   },
   {
    "duration": 21,
    "start_time": "2024-11-27T07:44:20.665Z"
   },
   {
    "duration": 20,
    "start_time": "2024-11-27T07:44:38.938Z"
   },
   {
    "duration": 9,
    "start_time": "2024-11-27T07:45:37.324Z"
   },
   {
    "duration": 1229,
    "start_time": "2024-11-27T08:13:18.616Z"
   },
   {
    "duration": 109,
    "start_time": "2024-11-27T08:13:42.777Z"
   },
   {
    "duration": 6,
    "start_time": "2024-11-27T08:13:43.176Z"
   },
   {
    "duration": 21,
    "start_time": "2024-11-27T08:13:44.361Z"
   },
   {
    "duration": 11,
    "start_time": "2024-11-27T08:13:46.185Z"
   },
   {
    "duration": 1060,
    "start_time": "2024-11-27T08:13:47.881Z"
   },
   {
    "duration": 1265,
    "start_time": "2024-11-27T08:21:20.389Z"
   },
   {
    "duration": 8,
    "start_time": "2024-11-27T08:23:02.521Z"
   },
   {
    "duration": 8,
    "start_time": "2024-11-27T08:24:46.120Z"
   },
   {
    "duration": 8,
    "start_time": "2024-11-27T08:24:54.395Z"
   },
   {
    "duration": 6,
    "start_time": "2024-11-27T08:25:07.868Z"
   },
   {
    "duration": 9,
    "start_time": "2024-11-27T08:25:27.773Z"
   },
   {
    "duration": 23,
    "start_time": "2024-11-27T08:31:01.542Z"
   },
   {
    "duration": 23,
    "start_time": "2024-11-27T08:33:57.210Z"
   },
   {
    "duration": 5,
    "start_time": "2024-11-27T08:45:28.349Z"
   },
   {
    "duration": 1195,
    "start_time": "2024-11-27T08:45:34.589Z"
   },
   {
    "duration": 13,
    "start_time": "2024-11-27T08:47:48.263Z"
   },
   {
    "duration": 24,
    "start_time": "2024-11-27T08:49:02.485Z"
   },
   {
    "duration": 12,
    "start_time": "2024-11-27T08:50:08.247Z"
   },
   {
    "duration": 1154,
    "start_time": "2024-11-27T09:21:58.802Z"
   },
   {
    "duration": 73,
    "start_time": "2024-11-27T09:21:59.957Z"
   },
   {
    "duration": 3,
    "start_time": "2024-11-27T09:22:00.032Z"
   },
   {
    "duration": 82,
    "start_time": "2024-11-27T09:22:00.038Z"
   },
   {
    "duration": 51,
    "start_time": "2024-11-27T09:22:00.122Z"
   },
   {
    "duration": 59,
    "start_time": "2024-11-27T09:22:00.174Z"
   },
   {
    "duration": 52,
    "start_time": "2024-11-27T09:22:00.235Z"
   },
   {
    "duration": 45,
    "start_time": "2024-11-27T09:22:00.289Z"
   },
   {
    "duration": 47,
    "start_time": "2024-11-27T09:22:00.336Z"
   },
   {
    "duration": 27,
    "start_time": "2024-11-27T09:22:00.386Z"
   },
   {
    "duration": 47,
    "start_time": "2024-11-27T09:22:00.415Z"
   },
   {
    "duration": 32,
    "start_time": "2024-11-27T09:22:00.464Z"
   },
   {
    "duration": 269,
    "start_time": "2024-11-27T09:22:00.497Z"
   },
   {
    "duration": 371,
    "start_time": "2024-11-27T09:22:00.767Z"
   },
   {
    "duration": 303,
    "start_time": "2024-11-27T09:22:01.140Z"
   },
   {
    "duration": 353,
    "start_time": "2024-11-27T09:22:01.444Z"
   },
   {
    "duration": 335,
    "start_time": "2024-11-27T09:22:01.799Z"
   },
   {
    "duration": 387,
    "start_time": "2024-11-27T09:22:02.136Z"
   },
   {
    "duration": 130,
    "start_time": "2024-11-27T09:22:02.525Z"
   },
   {
    "duration": 172,
    "start_time": "2024-11-27T09:22:02.657Z"
   },
   {
    "duration": 4,
    "start_time": "2024-11-27T09:22:02.830Z"
   },
   {
    "duration": 25,
    "start_time": "2024-11-27T09:22:02.835Z"
   },
   {
    "duration": 199,
    "start_time": "2024-11-27T09:22:02.861Z"
   },
   {
    "duration": 4,
    "start_time": "2024-11-27T09:22:03.062Z"
   },
   {
    "duration": 274,
    "start_time": "2024-11-27T09:22:03.068Z"
   },
   {
    "duration": 184,
    "start_time": "2024-11-27T09:22:03.343Z"
   },
   {
    "duration": 7,
    "start_time": "2024-11-27T09:22:03.528Z"
   },
   {
    "duration": 29,
    "start_time": "2024-11-27T09:22:03.538Z"
   },
   {
    "duration": 11,
    "start_time": "2024-11-27T09:22:03.569Z"
   },
   {
    "duration": 20,
    "start_time": "2024-11-27T09:22:03.581Z"
   },
   {
    "duration": 34,
    "start_time": "2024-11-27T09:22:03.612Z"
   },
   {
    "duration": 12,
    "start_time": "2024-11-27T09:22:03.648Z"
   },
   {
    "duration": 1398,
    "start_time": "2024-11-27T09:34:35.275Z"
   },
   {
    "duration": 232,
    "start_time": "2024-11-27T09:34:36.675Z"
   },
   {
    "duration": 4,
    "start_time": "2024-11-27T09:34:36.908Z"
   },
   {
    "duration": 47,
    "start_time": "2024-11-27T09:34:36.914Z"
   },
   {
    "duration": 21,
    "start_time": "2024-11-27T09:34:36.963Z"
   },
   {
    "duration": 30,
    "start_time": "2024-11-27T09:34:36.985Z"
   },
   {
    "duration": 7,
    "start_time": "2024-11-27T09:34:37.017Z"
   },
   {
    "duration": 39,
    "start_time": "2024-11-27T09:34:37.026Z"
   },
   {
    "duration": 16,
    "start_time": "2024-11-27T09:34:37.067Z"
   },
   {
    "duration": 22,
    "start_time": "2024-11-27T09:34:37.084Z"
   },
   {
    "duration": 16,
    "start_time": "2024-11-27T09:34:37.108Z"
   },
   {
    "duration": 22,
    "start_time": "2024-11-27T09:34:37.126Z"
   },
   {
    "duration": 294,
    "start_time": "2024-11-27T09:34:37.149Z"
   },
   {
    "duration": 455,
    "start_time": "2024-11-27T09:34:37.446Z"
   },
   {
    "duration": 357,
    "start_time": "2024-11-27T09:34:37.903Z"
   },
   {
    "duration": 490,
    "start_time": "2024-11-27T09:34:38.262Z"
   },
   {
    "duration": 369,
    "start_time": "2024-11-27T09:34:38.754Z"
   },
   {
    "duration": 441,
    "start_time": "2024-11-27T09:34:39.125Z"
   },
   {
    "duration": 151,
    "start_time": "2024-11-27T09:34:39.568Z"
   },
   {
    "duration": 226,
    "start_time": "2024-11-27T09:34:39.721Z"
   },
   {
    "duration": 6,
    "start_time": "2024-11-27T09:34:39.948Z"
   },
   {
    "duration": 13,
    "start_time": "2024-11-27T09:34:39.956Z"
   },
   {
    "duration": 230,
    "start_time": "2024-11-27T09:34:39.970Z"
   },
   {
    "duration": 6,
    "start_time": "2024-11-27T09:34:40.201Z"
   },
   {
    "duration": 350,
    "start_time": "2024-11-27T09:34:40.208Z"
   },
   {
    "duration": 140,
    "start_time": "2024-11-27T09:34:40.560Z"
   },
   {
    "duration": 7,
    "start_time": "2024-11-27T09:34:40.701Z"
   },
   {
    "duration": 44,
    "start_time": "2024-11-27T09:34:40.709Z"
   },
   {
    "duration": 12,
    "start_time": "2024-11-27T09:34:40.755Z"
   },
   {
    "duration": 21,
    "start_time": "2024-11-27T09:34:40.769Z"
   },
   {
    "duration": 45,
    "start_time": "2024-11-27T09:34:40.791Z"
   },
   {
    "duration": 39,
    "start_time": "2024-11-27T09:34:40.838Z"
   },
   {
    "duration": 8,
    "start_time": "2024-11-27T11:43:01.120Z"
   },
   {
    "duration": 254,
    "start_time": "2024-11-27T11:44:05.218Z"
   },
   {
    "duration": 273,
    "start_time": "2024-11-27T11:45:09.267Z"
   },
   {
    "duration": 267,
    "start_time": "2024-11-27T11:47:41.799Z"
   },
   {
    "duration": 341,
    "start_time": "2024-11-27T11:48:04.055Z"
   },
   {
    "duration": 279,
    "start_time": "2024-11-27T11:48:37.735Z"
   },
   {
    "duration": 342,
    "start_time": "2024-11-27T11:50:11.645Z"
   },
   {
    "duration": 125,
    "start_time": "2024-11-27T11:50:50.812Z"
   },
   {
    "duration": 9,
    "start_time": "2024-11-27T11:55:08.307Z"
   },
   {
    "duration": 7,
    "start_time": "2024-11-27T11:55:09.970Z"
   },
   {
    "duration": 232,
    "start_time": "2024-11-27T11:55:47.956Z"
   },
   {
    "duration": 269,
    "start_time": "2024-11-27T11:58:47.913Z"
   },
   {
    "duration": 280,
    "start_time": "2024-11-27T11:58:56.856Z"
   },
   {
    "duration": 334,
    "start_time": "2024-11-27T11:59:15.239Z"
   },
   {
    "duration": 279,
    "start_time": "2024-11-27T11:59:35.289Z"
   },
   {
    "duration": 348,
    "start_time": "2024-11-27T12:00:00.730Z"
   },
   {
    "duration": 132,
    "start_time": "2024-11-27T12:00:20.811Z"
   },
   {
    "duration": 251,
    "start_time": "2024-11-27T12:00:35.323Z"
   },
   {
    "duration": 4,
    "start_time": "2024-11-27T12:01:00.955Z"
   },
   {
    "duration": 5,
    "start_time": "2024-11-27T12:01:03.164Z"
   },
   {
    "duration": 121,
    "start_time": "2024-11-27T12:06:47.591Z"
   },
   {
    "duration": 171,
    "start_time": "2024-11-27T12:06:48.965Z"
   },
   {
    "duration": 166,
    "start_time": "2024-11-27T12:12:46.254Z"
   },
   {
    "duration": 4,
    "start_time": "2024-11-27T12:13:10.590Z"
   },
   {
    "duration": 5,
    "start_time": "2024-11-27T12:13:58.290Z"
   },
   {
    "duration": 8,
    "start_time": "2024-11-27T12:26:43.539Z"
   },
   {
    "duration": 7,
    "start_time": "2024-11-27T12:28:35.414Z"
   },
   {
    "duration": 9,
    "start_time": "2024-11-27T12:30:10.904Z"
   },
   {
    "duration": 98,
    "start_time": "2024-11-27T12:32:49.613Z"
   },
   {
    "duration": 128,
    "start_time": "2024-11-27T12:34:46.608Z"
   },
   {
    "duration": 4,
    "start_time": "2024-11-27T12:35:08.527Z"
   },
   {
    "duration": 113,
    "start_time": "2024-11-27T12:35:12.399Z"
   },
   {
    "duration": 210,
    "start_time": "2024-11-27T12:35:44.850Z"
   },
   {
    "duration": 181,
    "start_time": "2024-11-27T12:36:58.131Z"
   },
   {
    "duration": 114,
    "start_time": "2024-11-27T12:38:38.629Z"
   },
   {
    "duration": 5,
    "start_time": "2024-11-27T12:38:43.750Z"
   },
   {
    "duration": 19,
    "start_time": "2024-11-27T12:38:47.412Z"
   },
   {
    "duration": 9,
    "start_time": "2024-11-27T12:38:51.428Z"
   },
   {
    "duration": 9,
    "start_time": "2024-11-27T12:45:07.698Z"
   },
   {
    "duration": 24,
    "start_time": "2024-11-27T12:45:13.567Z"
   },
   {
    "duration": 12,
    "start_time": "2024-11-27T12:45:18.463Z"
   },
   {
    "duration": 1056,
    "start_time": "2024-11-27T12:45:45.825Z"
   },
   {
    "duration": 72,
    "start_time": "2024-11-27T12:45:46.883Z"
   },
   {
    "duration": 3,
    "start_time": "2024-11-27T12:45:46.956Z"
   },
   {
    "duration": 39,
    "start_time": "2024-11-27T12:45:46.961Z"
   },
   {
    "duration": 20,
    "start_time": "2024-11-27T12:45:47.001Z"
   },
   {
    "duration": 20,
    "start_time": "2024-11-27T12:45:47.022Z"
   },
   {
    "duration": 7,
    "start_time": "2024-11-27T12:45:47.043Z"
   },
   {
    "duration": 19,
    "start_time": "2024-11-27T12:45:47.052Z"
   },
   {
    "duration": 51,
    "start_time": "2024-11-27T12:45:47.072Z"
   },
   {
    "duration": 11,
    "start_time": "2024-11-27T12:45:47.126Z"
   },
   {
    "duration": 10,
    "start_time": "2024-11-27T12:45:47.138Z"
   },
   {
    "duration": 14,
    "start_time": "2024-11-27T12:45:47.149Z"
   },
   {
    "duration": 262,
    "start_time": "2024-11-27T12:45:47.165Z"
   },
   {
    "duration": 348,
    "start_time": "2024-11-27T12:45:47.429Z"
   },
   {
    "duration": 279,
    "start_time": "2024-11-27T12:45:47.778Z"
   },
   {
    "duration": 367,
    "start_time": "2024-11-27T12:45:48.058Z"
   },
   {
    "duration": 304,
    "start_time": "2024-11-27T12:45:48.426Z"
   },
   {
    "duration": 345,
    "start_time": "2024-11-27T12:45:48.731Z"
   },
   {
    "duration": 119,
    "start_time": "2024-11-27T12:45:49.077Z"
   },
   {
    "duration": 180,
    "start_time": "2024-11-27T12:45:49.197Z"
   },
   {
    "duration": 4,
    "start_time": "2024-11-27T12:45:49.379Z"
   },
   {
    "duration": 4,
    "start_time": "2024-11-27T12:45:49.384Z"
   },
   {
    "duration": 196,
    "start_time": "2024-11-27T12:45:49.389Z"
   },
   {
    "duration": 6,
    "start_time": "2024-11-27T12:45:49.587Z"
   },
   {
    "duration": 250,
    "start_time": "2024-11-27T12:45:49.594Z"
   },
   {
    "duration": 133,
    "start_time": "2024-11-27T12:45:49.845Z"
   },
   {
    "duration": 5,
    "start_time": "2024-11-27T12:45:49.979Z"
   },
   {
    "duration": 31,
    "start_time": "2024-11-27T12:45:49.987Z"
   },
   {
    "duration": 9,
    "start_time": "2024-11-27T12:45:50.020Z"
   },
   {
    "duration": 17,
    "start_time": "2024-11-27T12:45:50.030Z"
   },
   {
    "duration": 23,
    "start_time": "2024-11-27T12:45:50.048Z"
   },
   {
    "duration": 11,
    "start_time": "2024-11-27T12:45:50.073Z"
   },
   {
    "duration": 1242,
    "start_time": "2024-11-28T06:15:29.362Z"
   },
   {
    "duration": 213,
    "start_time": "2024-11-28T06:15:30.606Z"
   },
   {
    "duration": 3,
    "start_time": "2024-11-28T06:15:30.820Z"
   },
   {
    "duration": 117,
    "start_time": "2024-11-28T06:15:30.825Z"
   },
   {
    "duration": 47,
    "start_time": "2024-11-28T06:15:30.943Z"
   },
   {
    "duration": 43,
    "start_time": "2024-11-28T06:15:30.991Z"
   },
   {
    "duration": 41,
    "start_time": "2024-11-28T06:15:31.035Z"
   },
   {
    "duration": 42,
    "start_time": "2024-11-28T06:15:31.077Z"
   },
   {
    "duration": 90,
    "start_time": "2024-11-28T06:15:31.121Z"
   },
   {
    "duration": 38,
    "start_time": "2024-11-28T06:15:31.213Z"
   },
   {
    "duration": 34,
    "start_time": "2024-11-28T06:15:31.253Z"
   },
   {
    "duration": 29,
    "start_time": "2024-11-28T06:15:31.288Z"
   },
   {
    "duration": 286,
    "start_time": "2024-11-28T06:15:31.319Z"
   },
   {
    "duration": 371,
    "start_time": "2024-11-28T06:15:31.607Z"
   },
   {
    "duration": 285,
    "start_time": "2024-11-28T06:15:31.979Z"
   },
   {
    "duration": 438,
    "start_time": "2024-11-28T06:15:32.266Z"
   },
   {
    "duration": 308,
    "start_time": "2024-11-28T06:15:32.706Z"
   },
   {
    "duration": 390,
    "start_time": "2024-11-28T06:15:33.015Z"
   },
   {
    "duration": 127,
    "start_time": "2024-11-28T06:15:33.407Z"
   },
   {
    "duration": 186,
    "start_time": "2024-11-28T06:15:33.536Z"
   },
   {
    "duration": 5,
    "start_time": "2024-11-28T06:15:33.724Z"
   },
   {
    "duration": 16,
    "start_time": "2024-11-28T06:15:33.731Z"
   },
   {
    "duration": 181,
    "start_time": "2024-11-28T06:15:33.748Z"
   },
   {
    "duration": 5,
    "start_time": "2024-11-28T06:15:33.931Z"
   },
   {
    "duration": 254,
    "start_time": "2024-11-28T06:15:33.938Z"
   },
   {
    "duration": 138,
    "start_time": "2024-11-28T06:15:34.194Z"
   },
   {
    "duration": 5,
    "start_time": "2024-11-28T06:15:34.334Z"
   },
   {
    "duration": 53,
    "start_time": "2024-11-28T06:15:34.343Z"
   },
   {
    "duration": 11,
    "start_time": "2024-11-28T06:15:34.397Z"
   },
   {
    "duration": 43,
    "start_time": "2024-11-28T06:15:34.410Z"
   },
   {
    "duration": 56,
    "start_time": "2024-11-28T06:15:34.455Z"
   },
   {
    "duration": 15,
    "start_time": "2024-11-28T06:15:34.512Z"
   }
  ],
  "kernelspec": {
   "display_name": "Python 3 (ipykernel)",
   "language": "python",
   "name": "python3"
  },
  "language_info": {
   "codemirror_mode": {
    "name": "ipython",
    "version": 3
   },
   "file_extension": ".py",
   "mimetype": "text/x-python",
   "name": "python",
   "nbconvert_exporter": "python",
   "pygments_lexer": "ipython3",
   "version": "3.12.7"
  },
  "toc": {
   "base_numbering": 1,
   "nav_menu": {},
   "number_sections": true,
   "sideBar": true,
   "skip_h1_title": true,
   "title_cell": "Table of Contents",
   "title_sidebar": "Contents",
   "toc_cell": false,
   "toc_position": {
    "height": "calc(100% - 180px)",
    "left": "10px",
    "top": "150px",
    "width": "339.391px"
   },
   "toc_section_display": true,
   "toc_window_display": true
  }
 },
 "nbformat": 4,
 "nbformat_minor": 4
}

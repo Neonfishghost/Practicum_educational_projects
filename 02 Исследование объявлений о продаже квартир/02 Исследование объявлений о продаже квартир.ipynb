{
 "cells": [
  {
   "cell_type": "markdown",
   "metadata": {
    "id": "-VFbjcb3Awb7"
   },
   "source": [
    "# Исследование объявлений о продаже квартир\n",
    "\n",
    "Для исследования нам предоставлены данные сервиса Яндекс Недвижимость — архив объявлений о продаже квартир в Санкт-Петербурге и соседних населённых пунктах за несколько лет. Нам предстоит определять рыночную стоимость объектов недвижимости. Для этого проведем исследовательский анализ данных и установим параметры, влияющие на цену объектов. Это позволит построить автоматизированную систему: она отследит аномалии и мошенническую деятельность.\n",
    "\n",
    "По каждой квартире на продажу доступны два вида данных. Первые вписаны пользователем, вторые — получены автоматически на основе картографических данных. Например, расстояние до центра, аэропорта и других объектов — эти данные автоматически получены из геосервисов. Количество парков и водоёмов также заполняется без участия пользователя."
   ]
  },
  {
   "cell_type": "markdown",
   "metadata": {},
   "source": [
    "# Описание данных\n",
    "\n",
    "* airports_nearest — расстояние до ближайшего аэропорта в метрах (м)\n",
    "* balcony — число балконов\n",
    "* ceiling_height — высота потолков (м)\n",
    "* cityCenters_nearest — расстояние до центра города (м)\n",
    "* days_exposition — сколько дней было размещено объявление (от публикации до снятия)\n",
    "* first_day_exposition — дата публикации\n",
    "* floor — этаж\n",
    "* floors_total — всего этажей в доме\n",
    "* is_apartment — апартаменты (булев тип)\n",
    "* kitchen_area — площадь кухни в квадратных метрах (м²)\n",
    "* last_price — цена на момент снятия с публикации\n",
    "* living_area — жилая площадь в квадратных метрах (м²)\n",
    "* locality_name — название населённого пункта\n",
    "* open_plan — свободная планировка (булев тип)\n",
    "* parks_around3000 — число парков в радиусе 3 км\n",
    "* parks_nearest — расстояние до ближайшего парка (м)\n",
    "* ponds_around3000 — число водоёмов в радиусе 3 км\n",
    "* ponds_nearest — расстояние до ближайшего водоёма (м)\n",
    "* rooms — число комнат\n",
    "* studio — квартира-студия (булев тип)\n",
    "* total_area — общая площадь квартиры в квадратных метрах (м²)\n",
    "* total_images — число фотографий квартиры в объявлении"
   ]
  },
  {
   "cell_type": "markdown",
   "metadata": {
    "id": "aeFLH07FAwb9"
   },
   "source": [
    "## Получим общую информацию о данных"
   ]
  },
  {
   "cell_type": "code",
   "execution_count": 4,
   "metadata": {
    "id": "7MZxY65pAwb9"
   },
   "outputs": [],
   "source": [
    "#импортируем библиотеку pandas и откроем файл\n",
    "import pandas as pd\n",
    "import numpy as np\n",
    "import matplotlib.pyplot as plt\n",
    "import seaborn as sns\n"
   ]
  },
  {
   "cell_type": "code",
   "execution_count": 72,
   "metadata": {},
   "outputs": [
    {
     "data": {
      "text/html": [
       "<div>\n",
       "<style scoped>\n",
       "    .dataframe tbody tr th:only-of-type {\n",
       "        vertical-align: middle;\n",
       "    }\n",
       "\n",
       "    .dataframe tbody tr th {\n",
       "        vertical-align: top;\n",
       "    }\n",
       "\n",
       "    .dataframe thead th {\n",
       "        text-align: right;\n",
       "    }\n",
       "</style>\n",
       "<table border=\"1\" class=\"dataframe\">\n",
       "  <thead>\n",
       "    <tr style=\"text-align: right;\">\n",
       "      <th></th>\n",
       "      <th>total_images</th>\n",
       "      <th>last_price</th>\n",
       "      <th>total_area</th>\n",
       "      <th>first_day_exposition</th>\n",
       "      <th>rooms</th>\n",
       "      <th>ceiling_height</th>\n",
       "      <th>floors_total</th>\n",
       "      <th>living_area</th>\n",
       "      <th>floor</th>\n",
       "      <th>is_apartment</th>\n",
       "      <th>...</th>\n",
       "      <th>kitchen_area</th>\n",
       "      <th>balcony</th>\n",
       "      <th>locality_name</th>\n",
       "      <th>airports_nearest</th>\n",
       "      <th>cityCenters_nearest</th>\n",
       "      <th>parks_around3000</th>\n",
       "      <th>parks_nearest</th>\n",
       "      <th>ponds_around3000</th>\n",
       "      <th>ponds_nearest</th>\n",
       "      <th>days_exposition</th>\n",
       "    </tr>\n",
       "  </thead>\n",
       "  <tbody>\n",
       "    <tr>\n",
       "      <th>0</th>\n",
       "      <td>20</td>\n",
       "      <td>13000000.0</td>\n",
       "      <td>108.00</td>\n",
       "      <td>2019-03-07T00:00:00</td>\n",
       "      <td>3</td>\n",
       "      <td>2.70</td>\n",
       "      <td>16.0</td>\n",
       "      <td>51.00</td>\n",
       "      <td>8</td>\n",
       "      <td>NaN</td>\n",
       "      <td>...</td>\n",
       "      <td>25.00</td>\n",
       "      <td>NaN</td>\n",
       "      <td>Санкт-Петербург</td>\n",
       "      <td>18863.0</td>\n",
       "      <td>16028.0</td>\n",
       "      <td>1.0</td>\n",
       "      <td>482.0</td>\n",
       "      <td>2.0</td>\n",
       "      <td>755.0</td>\n",
       "      <td>NaN</td>\n",
       "    </tr>\n",
       "    <tr>\n",
       "      <th>1</th>\n",
       "      <td>7</td>\n",
       "      <td>3350000.0</td>\n",
       "      <td>40.40</td>\n",
       "      <td>2018-12-04T00:00:00</td>\n",
       "      <td>1</td>\n",
       "      <td>NaN</td>\n",
       "      <td>11.0</td>\n",
       "      <td>18.60</td>\n",
       "      <td>1</td>\n",
       "      <td>NaN</td>\n",
       "      <td>...</td>\n",
       "      <td>11.00</td>\n",
       "      <td>2.0</td>\n",
       "      <td>посёлок Шушары</td>\n",
       "      <td>12817.0</td>\n",
       "      <td>18603.0</td>\n",
       "      <td>0.0</td>\n",
       "      <td>NaN</td>\n",
       "      <td>0.0</td>\n",
       "      <td>NaN</td>\n",
       "      <td>81.0</td>\n",
       "    </tr>\n",
       "    <tr>\n",
       "      <th>2</th>\n",
       "      <td>10</td>\n",
       "      <td>5196000.0</td>\n",
       "      <td>56.00</td>\n",
       "      <td>2015-08-20T00:00:00</td>\n",
       "      <td>2</td>\n",
       "      <td>NaN</td>\n",
       "      <td>5.0</td>\n",
       "      <td>34.30</td>\n",
       "      <td>4</td>\n",
       "      <td>NaN</td>\n",
       "      <td>...</td>\n",
       "      <td>8.30</td>\n",
       "      <td>0.0</td>\n",
       "      <td>Санкт-Петербург</td>\n",
       "      <td>21741.0</td>\n",
       "      <td>13933.0</td>\n",
       "      <td>1.0</td>\n",
       "      <td>90.0</td>\n",
       "      <td>2.0</td>\n",
       "      <td>574.0</td>\n",
       "      <td>558.0</td>\n",
       "    </tr>\n",
       "    <tr>\n",
       "      <th>3</th>\n",
       "      <td>0</td>\n",
       "      <td>64900000.0</td>\n",
       "      <td>159.00</td>\n",
       "      <td>2015-07-24T00:00:00</td>\n",
       "      <td>3</td>\n",
       "      <td>NaN</td>\n",
       "      <td>14.0</td>\n",
       "      <td>NaN</td>\n",
       "      <td>9</td>\n",
       "      <td>NaN</td>\n",
       "      <td>...</td>\n",
       "      <td>NaN</td>\n",
       "      <td>0.0</td>\n",
       "      <td>Санкт-Петербург</td>\n",
       "      <td>28098.0</td>\n",
       "      <td>6800.0</td>\n",
       "      <td>2.0</td>\n",
       "      <td>84.0</td>\n",
       "      <td>3.0</td>\n",
       "      <td>234.0</td>\n",
       "      <td>424.0</td>\n",
       "    </tr>\n",
       "    <tr>\n",
       "      <th>4</th>\n",
       "      <td>2</td>\n",
       "      <td>10000000.0</td>\n",
       "      <td>100.00</td>\n",
       "      <td>2018-06-19T00:00:00</td>\n",
       "      <td>2</td>\n",
       "      <td>3.03</td>\n",
       "      <td>14.0</td>\n",
       "      <td>32.00</td>\n",
       "      <td>13</td>\n",
       "      <td>NaN</td>\n",
       "      <td>...</td>\n",
       "      <td>41.00</td>\n",
       "      <td>NaN</td>\n",
       "      <td>Санкт-Петербург</td>\n",
       "      <td>31856.0</td>\n",
       "      <td>8098.0</td>\n",
       "      <td>2.0</td>\n",
       "      <td>112.0</td>\n",
       "      <td>1.0</td>\n",
       "      <td>48.0</td>\n",
       "      <td>121.0</td>\n",
       "    </tr>\n",
       "    <tr>\n",
       "      <th>5</th>\n",
       "      <td>10</td>\n",
       "      <td>2890000.0</td>\n",
       "      <td>30.40</td>\n",
       "      <td>2018-09-10T00:00:00</td>\n",
       "      <td>1</td>\n",
       "      <td>NaN</td>\n",
       "      <td>12.0</td>\n",
       "      <td>14.40</td>\n",
       "      <td>5</td>\n",
       "      <td>NaN</td>\n",
       "      <td>...</td>\n",
       "      <td>9.10</td>\n",
       "      <td>NaN</td>\n",
       "      <td>городской посёлок Янино-1</td>\n",
       "      <td>NaN</td>\n",
       "      <td>NaN</td>\n",
       "      <td>NaN</td>\n",
       "      <td>NaN</td>\n",
       "      <td>NaN</td>\n",
       "      <td>NaN</td>\n",
       "      <td>55.0</td>\n",
       "    </tr>\n",
       "    <tr>\n",
       "      <th>6</th>\n",
       "      <td>6</td>\n",
       "      <td>3700000.0</td>\n",
       "      <td>37.30</td>\n",
       "      <td>2017-11-02T00:00:00</td>\n",
       "      <td>1</td>\n",
       "      <td>NaN</td>\n",
       "      <td>26.0</td>\n",
       "      <td>10.60</td>\n",
       "      <td>6</td>\n",
       "      <td>NaN</td>\n",
       "      <td>...</td>\n",
       "      <td>14.40</td>\n",
       "      <td>1.0</td>\n",
       "      <td>посёлок Парголово</td>\n",
       "      <td>52996.0</td>\n",
       "      <td>19143.0</td>\n",
       "      <td>0.0</td>\n",
       "      <td>NaN</td>\n",
       "      <td>0.0</td>\n",
       "      <td>NaN</td>\n",
       "      <td>155.0</td>\n",
       "    </tr>\n",
       "    <tr>\n",
       "      <th>7</th>\n",
       "      <td>5</td>\n",
       "      <td>7915000.0</td>\n",
       "      <td>71.60</td>\n",
       "      <td>2019-04-18T00:00:00</td>\n",
       "      <td>2</td>\n",
       "      <td>NaN</td>\n",
       "      <td>24.0</td>\n",
       "      <td>NaN</td>\n",
       "      <td>22</td>\n",
       "      <td>NaN</td>\n",
       "      <td>...</td>\n",
       "      <td>18.90</td>\n",
       "      <td>2.0</td>\n",
       "      <td>Санкт-Петербург</td>\n",
       "      <td>23982.0</td>\n",
       "      <td>11634.0</td>\n",
       "      <td>0.0</td>\n",
       "      <td>NaN</td>\n",
       "      <td>0.0</td>\n",
       "      <td>NaN</td>\n",
       "      <td>NaN</td>\n",
       "    </tr>\n",
       "    <tr>\n",
       "      <th>8</th>\n",
       "      <td>20</td>\n",
       "      <td>2900000.0</td>\n",
       "      <td>33.16</td>\n",
       "      <td>2018-05-23T00:00:00</td>\n",
       "      <td>1</td>\n",
       "      <td>NaN</td>\n",
       "      <td>27.0</td>\n",
       "      <td>15.43</td>\n",
       "      <td>26</td>\n",
       "      <td>NaN</td>\n",
       "      <td>...</td>\n",
       "      <td>8.81</td>\n",
       "      <td>NaN</td>\n",
       "      <td>посёлок Мурино</td>\n",
       "      <td>NaN</td>\n",
       "      <td>NaN</td>\n",
       "      <td>NaN</td>\n",
       "      <td>NaN</td>\n",
       "      <td>NaN</td>\n",
       "      <td>NaN</td>\n",
       "      <td>189.0</td>\n",
       "    </tr>\n",
       "    <tr>\n",
       "      <th>9</th>\n",
       "      <td>18</td>\n",
       "      <td>5400000.0</td>\n",
       "      <td>61.00</td>\n",
       "      <td>2017-02-26T00:00:00</td>\n",
       "      <td>3</td>\n",
       "      <td>2.50</td>\n",
       "      <td>9.0</td>\n",
       "      <td>43.60</td>\n",
       "      <td>7</td>\n",
       "      <td>NaN</td>\n",
       "      <td>...</td>\n",
       "      <td>6.50</td>\n",
       "      <td>2.0</td>\n",
       "      <td>Санкт-Петербург</td>\n",
       "      <td>50898.0</td>\n",
       "      <td>15008.0</td>\n",
       "      <td>0.0</td>\n",
       "      <td>NaN</td>\n",
       "      <td>0.0</td>\n",
       "      <td>NaN</td>\n",
       "      <td>289.0</td>\n",
       "    </tr>\n",
       "  </tbody>\n",
       "</table>\n",
       "<p>10 rows × 22 columns</p>\n",
       "</div>"
      ],
      "text/plain": [
       "   total_images  last_price  total_area first_day_exposition  rooms  \\\n",
       "0            20  13000000.0      108.00  2019-03-07T00:00:00      3   \n",
       "1             7   3350000.0       40.40  2018-12-04T00:00:00      1   \n",
       "2            10   5196000.0       56.00  2015-08-20T00:00:00      2   \n",
       "3             0  64900000.0      159.00  2015-07-24T00:00:00      3   \n",
       "4             2  10000000.0      100.00  2018-06-19T00:00:00      2   \n",
       "5            10   2890000.0       30.40  2018-09-10T00:00:00      1   \n",
       "6             6   3700000.0       37.30  2017-11-02T00:00:00      1   \n",
       "7             5   7915000.0       71.60  2019-04-18T00:00:00      2   \n",
       "8            20   2900000.0       33.16  2018-05-23T00:00:00      1   \n",
       "9            18   5400000.0       61.00  2017-02-26T00:00:00      3   \n",
       "\n",
       "   ceiling_height  floors_total  living_area  floor is_apartment  ...  \\\n",
       "0            2.70          16.0        51.00      8          NaN  ...   \n",
       "1             NaN          11.0        18.60      1          NaN  ...   \n",
       "2             NaN           5.0        34.30      4          NaN  ...   \n",
       "3             NaN          14.0          NaN      9          NaN  ...   \n",
       "4            3.03          14.0        32.00     13          NaN  ...   \n",
       "5             NaN          12.0        14.40      5          NaN  ...   \n",
       "6             NaN          26.0        10.60      6          NaN  ...   \n",
       "7             NaN          24.0          NaN     22          NaN  ...   \n",
       "8             NaN          27.0        15.43     26          NaN  ...   \n",
       "9            2.50           9.0        43.60      7          NaN  ...   \n",
       "\n",
       "   kitchen_area  balcony              locality_name  airports_nearest  \\\n",
       "0         25.00      NaN            Санкт-Петербург           18863.0   \n",
       "1         11.00      2.0             посёлок Шушары           12817.0   \n",
       "2          8.30      0.0            Санкт-Петербург           21741.0   \n",
       "3           NaN      0.0            Санкт-Петербург           28098.0   \n",
       "4         41.00      NaN            Санкт-Петербург           31856.0   \n",
       "5          9.10      NaN  городской посёлок Янино-1               NaN   \n",
       "6         14.40      1.0          посёлок Парголово           52996.0   \n",
       "7         18.90      2.0            Санкт-Петербург           23982.0   \n",
       "8          8.81      NaN             посёлок Мурино               NaN   \n",
       "9          6.50      2.0            Санкт-Петербург           50898.0   \n",
       "\n",
       "  cityCenters_nearest  parks_around3000  parks_nearest  ponds_around3000  \\\n",
       "0             16028.0               1.0          482.0               2.0   \n",
       "1             18603.0               0.0            NaN               0.0   \n",
       "2             13933.0               1.0           90.0               2.0   \n",
       "3              6800.0               2.0           84.0               3.0   \n",
       "4              8098.0               2.0          112.0               1.0   \n",
       "5                 NaN               NaN            NaN               NaN   \n",
       "6             19143.0               0.0            NaN               0.0   \n",
       "7             11634.0               0.0            NaN               0.0   \n",
       "8                 NaN               NaN            NaN               NaN   \n",
       "9             15008.0               0.0            NaN               0.0   \n",
       "\n",
       "   ponds_nearest  days_exposition  \n",
       "0          755.0              NaN  \n",
       "1            NaN             81.0  \n",
       "2          574.0            558.0  \n",
       "3          234.0            424.0  \n",
       "4           48.0            121.0  \n",
       "5            NaN             55.0  \n",
       "6            NaN            155.0  \n",
       "7            NaN              NaN  \n",
       "8            NaN            189.0  \n",
       "9            NaN            289.0  \n",
       "\n",
       "[10 rows x 22 columns]"
      ]
     },
     "execution_count": 72,
     "metadata": {},
     "output_type": "execute_result"
    }
   ],
   "source": [
    "try:\n",
    "    data = pd.read_csv('https://code.s3.yandex.net/datasets/real_estate_data.csv', sep='\\t')\n",
    "except:\n",
    "    data = pd.read_csv('/datasets/real_estate_data.csv', sep='\\t')\n",
    "data.head(10)"
   ]
  },
  {
   "cell_type": "code",
   "execution_count": null,
   "metadata": {},
   "outputs": [],
   "source": [
    "#выведем информацию о датасете\n",
    "data.info()"
   ]
  },
  {
   "cell_type": "code",
   "execution_count": null,
   "metadata": {},
   "outputs": [],
   "source": [
    "# построим гистограммы\n",
    "data.hist(figsize=(15, 20))"
   ]
  },
  {
   "cell_type": "code",
   "execution_count": null,
   "metadata": {},
   "outputs": [],
   "source": [
    "data.shape"
   ]
  },
  {
   "cell_type": "code",
   "execution_count": null,
   "metadata": {},
   "outputs": [],
   "source": [
    "data.isna().sum()"
   ]
  },
  {
   "cell_type": "code",
   "execution_count": null,
   "metadata": {},
   "outputs": [],
   "source": [
    "data.describe()"
   ]
  },
  {
   "cell_type": "markdown",
   "metadata": {},
   "source": [
    "Датафрейм содержит 23699 записей о продаже жилой недвижимости. \n",
    "\n",
    "Данные содержат пропуски в 14 колонках.\n",
    "\n",
    "Наблюдаются подозрительные аномалии, например, показатель максимальной высоты потолков в 100м, общая площадь квартиры в 900кв.м. и дворцы с 19 комнатами - довольно нетипичные показатели для объявлений о продаже квартир. \n",
    "\n",
    "Данные требуют предварительной обработки."
   ]
  },
  {
   "cell_type": "markdown",
   "metadata": {
    "id": "-O5NtivEAwb9"
   },
   "source": [
    "## Выполним предобработку данных"
   ]
  },
  {
   "cell_type": "markdown",
   "metadata": {
    "id": "7v3vAeTuAwb-"
   },
   "source": [
    "### Наведем красоту в названиях столбцов"
   ]
  },
  {
   "cell_type": "code",
   "execution_count": null,
   "metadata": {},
   "outputs": [],
   "source": [
    "#переименуем некоторые колонки методом rename()\n",
    "data = data.rename(columns = {'cityCenters_nearest' : 'city_centers_nearest',\n",
    "                             'parks_around3000' : 'parks_around_3000',\n",
    "                             'ponds_around3000' : 'ponds_around_3000'})\n",
    "\n",
    "#проверим, что получилось\n",
    "data.head()"
   ]
  },
  {
   "cell_type": "markdown",
   "metadata": {},
   "source": [
    "### Обработаем пропущенные значения\n",
    "\n",
    "Еще раз посмотрим пропуски и определим как можно их заполнить."
   ]
  },
  {
   "cell_type": "code",
   "execution_count": null,
   "metadata": {},
   "outputs": [],
   "source": [
    "data_nulls = (data.isna().sum()/len(data)*100).sort_values(ascending=False)\n",
    "data_nulls"
   ]
  },
  {
   "cell_type": "markdown",
   "metadata": {},
   "source": [
    "Данные содержат пропуски в 14 колонках\n",
    "* ceiling_height - высота потолков (м)\n",
    "* floors_total - всего этажей в доме           \n",
    "* living_area - жилая площадь в квадратных метрах (м²)\n",
    "* is_apartment - апартаменты \n",
    "* kitchen_area - площадь кухни в квадратных метрах (м²)\n",
    "* balcony - число балконов            \n",
    "* locality_name - название населённого пункта \n",
    "* airports_nearest - расстояние до ближайшего аэропорта в метрах (м)\n",
    "* city_centers_nearest - расстояние до центра города (м)\n",
    "* parks_around_3000 - число парков в радиусе 3 км        \n",
    "* parks_nearest - расстояние до ближайшего парка (м)\n",
    "* ponds_around_3000 - число водоёмов в радиусе 3 км \n",
    "* ponds_nearest - расстояние до ближайшего водоёма (м) \n",
    "* days_exposition - сколько дней было размещено объявление (от публикации до снятия)"
   ]
  },
  {
   "cell_type": "markdown",
   "metadata": {},
   "source": [
    "**Обработка пропусков в столбце 'locality_name'**\n",
    "\n",
    "0.2% объявлений не содержат информации о названии населенного пункта, в котором расположена квартира. Эти данные пользователь наверняка вносил самостоятельно и, возможно по невнимательности, пропустил. Но т.к. расположение объекта недвижимости обычно влияет на его рыночную стоимость, а восстановить эту информацию невозможно, удалим эти объявления из общих данных."
   ]
  },
  {
   "cell_type": "code",
   "execution_count": null,
   "metadata": {},
   "outputs": [],
   "source": [
    "data = data.dropna(subset=['locality_name'])"
   ]
  },
  {
   "cell_type": "markdown",
   "metadata": {},
   "source": [
    "**Обработка пропусков в столбце 'floors_total'**"
   ]
  },
  {
   "cell_type": "code",
   "execution_count": null,
   "metadata": {},
   "outputs": [],
   "source": [
    "# Посмотрим на пропущенные значения в столбце 'floors_total':\n",
    "data[data.floors_total.isna()].head(10)"
   ]
  },
  {
   "cell_type": "markdown",
   "metadata": {},
   "source": [
    "В 0.36% записей отсутствуют данные об общей этажности здания. Но столбец 'floor', в котором указан этаж, где находится квартира, заполнен без пропусков. Значит можно предположить, что в доме не меньше этажей, чем указано в соответствующей графе 'floor'. \n",
    "\n",
    "Осталась проблема с квартирами на первом этаже. Возможно ли, что это частные дома или одноэтажная застройка в пригороде?\n",
    "\n",
    "Посмотрим есть ли вообще такие объявления."
   ]
  },
  {
   "cell_type": "code",
   "execution_count": null,
   "metadata": {},
   "outputs": [],
   "source": [
    "data.query('floors_total == 1')[['floors_total', 'locality_name']]"
   ]
  },
  {
   "cell_type": "markdown",
   "metadata": {},
   "source": [
    "Такие объявления тоже встречаются. Большинство из них действительно в пригороде, но попадаются и окраины Санкт-Петербурга. Значит бывают квартиры на первых этажах одноэтажных домов.\n",
    "\n",
    "В таком случае, пропуски в общей этажности дома заполним из графы 'floor'."
   ]
  },
  {
   "cell_type": "code",
   "execution_count": null,
   "metadata": {},
   "outputs": [],
   "source": [
    "data['floors_total'] = data['floors_total'].fillna(data['floor'])\n",
    "data['floors_total'].isna().sum()"
   ]
  },
  {
   "cell_type": "markdown",
   "metadata": {},
   "source": [
    "**Пропуски в столбце 'balcony'**\n",
    "\n",
    "Столбец с количеством балконов пользователь заполнял самостоятельно.\n",
    "\n",
    "48,6% значений в этом столбце пропущено. Логично предположить, что если балконов в квартире нет, то и в графе стоит пропуск.\n",
    "\n",
    "Заменим пропуски нулем."
   ]
  },
  {
   "cell_type": "code",
   "execution_count": null,
   "metadata": {},
   "outputs": [],
   "source": [
    "data['balcony'] = data['balcony'].fillna(0)"
   ]
  },
  {
   "cell_type": "markdown",
   "metadata": {},
   "source": [
    "**Пропуски в столбце 'ceiling_height'**\n",
    "\n",
    "В таблице данные о высоте потолков не заполнены в 38% объявлений.\n",
    "\n",
    "Полагаю, что владельцы квартир с трехметровыми потолками, указали бы этот факт - ведь это существенный плюс при продаже квартиры, увеличивающий ее престиж и стоимость.\n",
    "\n",
    "Возможно, остальные владельцы стандартных 2,65 не сочли эти данные важными и пропустили при заполнении.\n",
    "\n",
    "Помня о том, что у нас были аномально высокие потолки в 100м, для заполнения пропусков возьмем медианное значение высоты потолков в одинаковых по этажности зданиях. Но сначала посмортим, есть ли существенная разница в медианной высоте потолков в различных населенных пунктах"
   ]
  },
  {
   "cell_type": "code",
   "execution_count": null,
   "metadata": {},
   "outputs": [],
   "source": [
    "data.pivot_table(index='locality_name', columns='floors_total', values='ceiling_height', aggfunc='median').head(20)"
   ]
  },
  {
   "cell_type": "markdown",
   "metadata": {},
   "source": [
    "Разница, действительно, есть.\n",
    "\n",
    "В таком случае пропуски там, где возможно заполним медианным значением высоты потолков в домах в одной локации и с одинаковой этажностью.\n",
    "\n",
    "**Наблюдение:** В Бокситогорской трехэтажке пятиметровые потолки,.. а в Кронштадте есть 60-этажные здания? Вот так сюрприз!"
   ]
  },
  {
   "cell_type": "code",
   "execution_count": null,
   "metadata": {},
   "outputs": [],
   "source": [
    "data['ceiling_height'] = data['ceiling_height']\\\n",
    "                .fillna(data.groupby(['locality_name', 'floors_total'])['ceiling_height']\\\n",
    "                .transform('median'))"
   ]
  },
  {
   "cell_type": "code",
   "execution_count": null,
   "metadata": {
    "scrolled": true
   },
   "outputs": [],
   "source": [
    "# Проверим что получилось в Кронштадте\n",
    "data.query('locality_name == \"Кронштадт\" ')"
   ]
  },
  {
   "cell_type": "code",
   "execution_count": null,
   "metadata": {},
   "outputs": [],
   "source": [
    "# Посмотрим сколько осталось пропущенных значений.\n",
    "data['ceiling_height'].isna().sum()"
   ]
  },
  {
   "cell_type": "markdown",
   "metadata": {},
   "source": [
    "Осталось 399 значений. Пропуски остались там, где нет домов с одинаковой этажностью в пределах одного населенного пункта. Их заменим медианным значением высоты потолков среди всех домов с одинаковым количеством этажей."
   ]
  },
  {
   "cell_type": "markdown",
   "metadata": {},
   "source": [
    "data['ceiling_height'] = data['ceiling_height'].fillna(data.groupby('floors_total')['ceiling_height'].transform('median'))\n",
    "data.query('locality_name == \"Кронштадт\" ')"
   ]
  },
  {
   "cell_type": "code",
   "execution_count": null,
   "metadata": {},
   "outputs": [],
   "source": [
    "# Готово! Проверим итоговые значения пропусков по столбцу.\n",
    "data['ceiling_height'].isna().sum()"
   ]
  },
  {
   "cell_type": "markdown",
   "metadata": {},
   "source": [
    "Остался один. Проверим, что это за объявление."
   ]
  },
  {
   "cell_type": "code",
   "execution_count": null,
   "metadata": {},
   "outputs": [],
   "source": [
    "data[data['ceiling_height'].isna()]"
   ]
  },
  {
   "cell_type": "markdown",
   "metadata": {},
   "source": [
    "Википедия утверждает, что в Санкт-Петербурге нет жилых домов с общей этажностью в 33 этажа. https://ru.wikipedia.org/wiki/%D0%A1%D0%BF%D0%B8%D1%81%D0%BE%D0%BA_%D1%81%D0%B0%D0%BC%D1%8B%D1%85_%D0%B2%D1%8B%D1%81%D0%BE%D0%BA%D0%B8%D1%85_%D0%B7%D0%B4%D0%B0%D0%BD%D0%B8%D0%B9_%D0%A1%D0%B0%D0%BD%D0%BA%D1%82-%D0%9F%D0%B5%D1%82%D0%B5%D1%80%D0%B1%D1%83%D1%80%D0%B3%D0%B0\n",
    "\n",
    "Ближайший по этажности и подходящий по расположению (удаленность от центра города) - ЖК \"Князь Александр Невский\". Высота потолков в квартирах этого жилого комплекса - 2.65.\n",
    "\n",
    "Ссылка на источник: https://www.novostroy-spb.ru/baza/zhk_knyaz_aleksandr_nevskiy\n",
    "\n",
    "Так тому и быть. Заполним этим значением."
   ]
  },
  {
   "cell_type": "code",
   "execution_count": null,
   "metadata": {},
   "outputs": [],
   "source": [
    "data['ceiling_height'] = data['ceiling_height'].fillna(2.650)\n",
    "data['ceiling_height'].isna().sum()"
   ]
  },
  {
   "cell_type": "markdown",
   "metadata": {},
   "source": [
    "**Обработка пропусков в столбце 'is_apartment'**\n",
    "\n",
    "Пропущенных значений в этом столбце рекордные 88%.\n",
    "\n",
    "Есть несколько предположений:\n",
    "\n",
    "* пользователи, не заполняли эту графу потому что их недвижимость - это не апартаменты. В таком случае, значения стоит исправить на 'False'.\n",
    "* сама графа 'is_apartment' была добавлена в таблицу позже и более ранние объявления не имеют этого признака.\n",
    "\n",
    "Для начала проверим заполнение столбца по годам, потом решим."
   ]
  },
  {
   "cell_type": "code",
   "execution_count": null,
   "metadata": {},
   "outputs": [],
   "source": [
    "data['is_apartment'].value_counts()"
   ]
  },
  {
   "cell_type": "code",
   "execution_count": null,
   "metadata": {},
   "outputs": [],
   "source": [
    "#методом to_datetime() скорректируем значения в столбце с датами. Т.к. время не указано, оставим только год-месяц-число\n",
    "data['first_day_exposition'] = pd.to_datetime(data['first_day_exposition'], format='%Y-%m-%d')\n",
    "\n",
    "# создадим колонку с годом в исходном датафрейме\n",
    "data['year'] = data['first_day_exposition'].dt.year\n",
    "\n",
    "# теперь сгруппируем данные по годам и посмотрим на результаты. \n",
    "# Сумма - это количество объявлений, где аппартаменты однозначно указаны (True)\n",
    "data.pivot_table(index='year', values='is_apartment', aggfunc=['sum', 'count'])"
   ]
  },
  {
   "cell_type": "markdown",
   "metadata": {},
   "source": [
    "Получается, что записи о продаже аппартаментов были в объявлениях во все годы, значит нельзя утверждать, что раньше такой графы просто не существовало.\n",
    "\n",
    "Исходя из этого можно либо заполнить пропуски значениями False, либо оставить этот столбец как есть. \n",
    "\n",
    "Пока что не будем исправлять и вернемся к столбцу, если он понадобится."
   ]
  },
  {
   "cell_type": "markdown",
   "metadata": {},
   "source": [
    "**Обработка пропусков в столбцах 'kitchen_area', 'living_area'**\n",
    "\n",
    "Предположу, что отсутствующие значения в этих колонках связаны с планировкой квартиры. В датафрейме присутствуют квартиры-студии и квартиры со свободной планировкой. Площадь кухни и жилая площадь в них могут не учитываться отдельно."
   ]
  },
  {
   "cell_type": "code",
   "execution_count": null,
   "metadata": {},
   "outputs": [],
   "source": [
    "data.query('open_plan == True')[['kitchen_area', 'living_area']].isna().sum()"
   ]
  },
  {
   "cell_type": "code",
   "execution_count": null,
   "metadata": {},
   "outputs": [],
   "source": [
    "data.query('studio == True')[['kitchen_area', 'living_area']].isna().sum()"
   ]
  },
  {
   "cell_type": "markdown",
   "metadata": {},
   "source": [
    "Версия не подтвердилась. Пропущенных значений гораздо больше, чем количество студий и открытых планировок. По всей видимости, этот параметр не является обязательным и многие пользователи проигнорировали его заполнение.\n",
    "\n",
    "Оставим эти пропуски как есть. Ведь заполнение, исходя из известной общей площади за вычетом кухни или жилой площади (если они где-то указаны) не даст точного результата. Не будут учтены сан.узлы, балконы, кладовки и т.д."
   ]
  },
  {
   "cell_type": "markdown",
   "metadata": {},
   "source": [
    "**Обработка данных, полученных автоматически**"
   ]
  },
  {
   "cell_type": "code",
   "execution_count": null,
   "metadata": {},
   "outputs": [],
   "source": [
    "data.isna().sum()"
   ]
  },
  {
   "cell_type": "markdown",
   "metadata": {},
   "source": [
    "Выше мы заполняли пропуски в колонках, где данные указывали пользователи. \n",
    "\n",
    "Остались столбцы, с пропущенными значениями, заполняемыми автоматически:\n",
    "\n",
    "* airports_nearest (5534)\n",
    "* city_centers_nearest (5511)\n",
    "* parks_around_3000 (5510)\n",
    "* parks_nearest (15586)\n",
    "* ponds_around_3000 (5510)\n",
    "* ponds_nearest (14565)\n",
    "* days_exposition (3180)\n",
    "\n",
    "Примечательны близкие по количеству пропусков столбцы с расстояниями до аэропорта/центра, и одинаковое количество пропусков в столбцах парки/пруды в пределах 3 км.\n",
    "\n",
    "Стоит проверить, не было ли какого-то сбоя при заполнении или переносе данных.\n",
    "\n",
    "Сравним для начала, во всех ли строках с пропущенными значениями в 'parks_around_3000' пропущены так же и 'ponds_around_3000', 'city_centers_nearest', 'airports_nearest'. И аналогично 'ponds_nearest' и 'parks_nearest'."
   ]
  },
  {
   "cell_type": "code",
   "execution_count": null,
   "metadata": {},
   "outputs": [],
   "source": [
    "# Т.к. NaN не навен NaN и вообще не равен ничему, сделаем срез по пропускам значений в 'parks_around_3000'\n",
    "# 'ponds_around_3000' одновременно, т.е. попарно и узнаем количество таких пар\n",
    "len(data.query('parks_around_3000 != parks_around_3000\\\n",
    "     and ponds_around_3000 != ponds_around_3000\\\n",
    "     and city_centers_nearest != city_centers_nearest \\\n",
    "     and airports_nearest != airports_nearest'))"
   ]
  },
  {
   "cell_type": "code",
   "execution_count": null,
   "metadata": {},
   "outputs": [],
   "source": [
    "len(data.query('ponds_nearest != ponds_nearest and parks_nearest != parks_nearest'))"
   ]
  },
  {
   "cell_type": "markdown",
   "metadata": {},
   "source": [
    "Во многих объвлениях пропущены геоданные одновременно во всех заполняемых автоматически ячейках. Возможна была какая-то ошибка при заполнении или выгрузке данных. Эти строки мы оставим как есть."
   ]
  },
  {
   "cell_type": "markdown",
   "metadata": {},
   "source": [
    "Столбец 'days_exposition' содержит информацию о том, сколько дней прошло с момента публикации до снятия объявления. Полагаю, что некоторые объявления еще не были закрыты на момент формирования датафрейма, что и объясняет количество пропусков в этой колонке (3180). Заполнять их не будем."
   ]
  },
  {
   "cell_type": "markdown",
   "metadata": {},
   "source": [
    "### Для выборочных столбцов скорректируем тип данных"
   ]
  },
  {
   "cell_type": "markdown",
   "metadata": {
    "id": "Z8eJek3IAwb-"
   },
   "source": [
    "* столбец 'first_day_exposition' содержит дату, для дальнейшей работы с этим столбцом переведем его в формат datetime;\n",
    "* в столбце 'floors_total' логично предположить цельночисленные значения, исправим тип данных на int64;\n",
    "* столбец 'balcony' тоже должен содержать целые числа;"
   ]
  },
  {
   "cell_type": "code",
   "execution_count": null,
   "metadata": {},
   "outputs": [],
   "source": [
    "#методом to_datetime() скорректируем значения в столбце с датами. Т.к. время не указано, оставим только год-месяц-число\n",
    "data['first_day_exposition'] = pd.to_datetime(data['first_day_exposition'], format='%Y-%m-%d')\n",
    "\n",
    "#методом astype() переведем значения столбца 'floors_total' и 'balcony' в цельночисленный формат\n",
    "data['floors_total'] = data['floors_total'].astype('int64')\n",
    "data['balcony'] = data['balcony'].astype('int64')"
   ]
  },
  {
   "cell_type": "code",
   "execution_count": null,
   "metadata": {},
   "outputs": [],
   "source": [
    "data.info()"
   ]
  },
  {
   "cell_type": "markdown",
   "metadata": {},
   "source": [
    "### Обработаем дубликаты"
   ]
  },
  {
   "cell_type": "code",
   "execution_count": null,
   "metadata": {},
   "outputs": [],
   "source": [
    "data.duplicated().sum()"
   ]
  },
  {
   "cell_type": "markdown",
   "metadata": {},
   "source": [
    "Явных дубликатов нет. Поищем неявные. Вероятнее всего, частичные совпадения могут присутствовать в столбце 'locality_name'."
   ]
  },
  {
   "cell_type": "code",
   "execution_count": null,
   "metadata": {},
   "outputs": [],
   "source": [
    "data['locality_name'].sort_values().unique()"
   ]
  },
  {
   "cell_type": "code",
   "execution_count": null,
   "metadata": {},
   "outputs": [],
   "source": [
    "len(data['locality_name'].sort_values().unique())"
   ]
  },
  {
   "cell_type": "markdown",
   "metadata": {},
   "source": [
    "Присутствует 364 уникальных значения. Но среди них могут быть одинаковые названия в разном написании (посёлок городского типа/городской поселок). Поэтому поселки любых видов заменим на простой 'поселок'. И также приведем к одному виду садовые товарищества."
   ]
  },
  {
   "cell_type": "code",
   "execution_count": null,
   "metadata": {},
   "outputs": [],
   "source": [
    "data['locality_name'] = data['locality_name'].replace({'посёлок':'поселок'},regex=True)\n",
    "data['locality_name'] = data['locality_name']\\\n",
    "    .replace({\n",
    "                'городской поселок':'поселок',\n",
    "                'коттеджный поселок':'поселок',\n",
    "                'поселок городского типа':'поселок',\n",
    "                'поселок при железнодорожной станции':'поселок',\n",
    "                'поселок станции':'поселок',\n",
    "                'садоводческое некоммерческое товарищество':'садовое товарищество',\n",
    "              }\n",
    "             ,regex=True)\n",
    "\n",
    "data['locality_name'].sort_values().unique()"
   ]
  },
  {
   "cell_type": "code",
   "execution_count": null,
   "metadata": {},
   "outputs": [],
   "source": [
    "len(data['locality_name'].sort_values().unique())"
   ]
  },
  {
   "cell_type": "markdown",
   "metadata": {},
   "source": [
    "Остались деревня Кудрово и поселок Мурино, но не знаю точно, принадлежат ли эти локации к одноименным районам пригорода. Оставлю как есть."
   ]
  },
  {
   "cell_type": "markdown",
   "metadata": {
    "id": "QCcvyY6YAwb-"
   },
   "source": [
    "## Добавим в таблицу новые столбцы"
   ]
  },
  {
   "cell_type": "markdown",
   "metadata": {},
   "source": [
    "Для дальнейшей работы добавим в таблицу новые столбцы со следующими параметрами:\n",
    "* price_per_m2 - цена одного квадратного метра\n",
    "* weekday - день недели публикации объявления (0 — понедельник, 1 — вторник и так далее)\n",
    "* month - месяц публикации объявления\n",
    "* year - год публикации объявления\n",
    "* floor_type - тип этажа квартиры\n",
    "* distance_to_center_km - расстояние до центра города в километрах"
   ]
  },
  {
   "cell_type": "code",
   "execution_count": null,
   "metadata": {},
   "outputs": [],
   "source": [
    "# для расчета цены 1 кв.м. поделим последнюю стоимость объекта на его общую площадь, округлим до сотых\n",
    "data['price_per_m2'] = (data['last_price'] / data['total_area']).round(2)\n",
    "\n",
    "# выделим из даты публикации объявления день недели и месяц, сохраним их в новых столбцах\n",
    "data['weekday'] = data['first_day_exposition'].dt.weekday\n",
    "data['month'] = data['first_day_exposition'].dt.month\n",
    "\n",
    "# посмотрим, что получилось\n",
    "data[['price_per_m2', 'weekday', 'month', 'year']].head()"
   ]
  },
  {
   "cell_type": "markdown",
   "metadata": {},
   "source": [
    "Для разбивки по типу этажа создадим функцию, которая в зависимости от номера этажа и общей этажности дома присвоит каждой квартире значение по типу этажа: «первый», «последний», «другой»."
   ]
  },
  {
   "cell_type": "code",
   "execution_count": null,
   "metadata": {},
   "outputs": [],
   "source": [
    "# функция floor_type() берет номер этажа и сравнивает его с общей этажностью дома, \n",
    "# возвращает тип этажа, на котором находится квартира\n",
    "def floor_type(row):\n",
    "        if row['floor'] == 1:\n",
    "            return 'первый'\n",
    "        elif row['floor'] == row['floors_total']:\n",
    "            return 'последний'\n",
    "        else: \n",
    "            return 'другой'\n",
    "\n",
    "data['floor_type'] = data.apply(floor_type, axis=1)\n",
    "data[['floor', 'floors_total', 'floor_type']].head(15)"
   ]
  },
  {
   "cell_type": "markdown",
   "metadata": {},
   "source": [
    "Расстояние до центра города выразим в километрах и округлим до целого"
   ]
  },
  {
   "cell_type": "code",
   "execution_count": null,
   "metadata": {},
   "outputs": [],
   "source": [
    "data['distance_to_center_km'] = (data['city_centers_nearest'] / 1000).round()\n",
    "data[['city_centers_nearest', 'distance_to_center_km']].head(10)"
   ]
  },
  {
   "cell_type": "markdown",
   "metadata": {
    "id": "pPyxrKWTAwb-"
   },
   "source": [
    "## Проведем исследовательский анализ данных"
   ]
  },
  {
   "cell_type": "markdown",
   "metadata": {},
   "source": [
    "### Изучим параметры объектов недвижимости\n",
    "\n",
    "Рассмотрим следующие параметры:\n",
    "* общая площадь\n",
    "* жилая площадь\n",
    "* площадь кухни\n",
    "* цена объекта\n",
    "* количество комнат\n",
    "* высота потолков\n",
    "* тип этажа квартиры («первый», «последний», «другой»)\n",
    "* общее количество этажей в доме\n",
    "* расстояние до центра города\n",
    "* расстояние до ближайшего парка.\n",
    "\n",
    "Проверим, есть ли в них аномальные значения."
   ]
  },
  {
   "cell_type": "markdown",
   "metadata": {},
   "source": [
    "#### Параметр total_area -  общая площадь"
   ]
  },
  {
   "cell_type": "code",
   "execution_count": null,
   "metadata": {},
   "outputs": [],
   "source": [
    "data['total_area'].describe()"
   ]
  },
  {
   "cell_type": "markdown",
   "metadata": {},
   "source": [
    "Средняя площадь квартир 60 кв.м., медианное значение меньше - 52 кв.м. - вполне похоже на правду.\n",
    "\n",
    "Присутствуют объекты площадью менее 14 кв.м. (хотя при действующем с 2003г. СНиПе 31-01-2003 п 5.7 : \" 5.7 Площадь помещений в квартирах <...> должна быть не менее: жилого помещения (комнаты) в однокомнатной квартире - 14 м \" - это кажется подозрительным). Но пока оставим эти данные, всякое может быть."
   ]
  },
  {
   "cell_type": "code",
   "execution_count": null,
   "metadata": {},
   "outputs": [],
   "source": [
    "data.query('total_area < 14')"
   ]
  },
  {
   "cell_type": "markdown",
   "metadata": {},
   "source": [
    "Интересна также максимальная площадь в 900 кв.м. Построим гистограмму значений площади квартир. По всем значениям и отдельно по площади до 200 кв.м.."
   ]
  },
  {
   "cell_type": "code",
   "execution_count": null,
   "metadata": {},
   "outputs": [],
   "source": [
    "data['total_area'].hist(bins=30)\n",
    "plt.show()\n",
    "data['total_area'].hist(bins=30, range=(30, 200))\n",
    "plt.show()"
   ]
  },
  {
   "cell_type": "markdown",
   "metadata": {},
   "source": [
    "Основная масса - это квартиры площадью 30-60 кв.м. \n",
    "\n",
    "Объявления о продаже квартир свыше 200 кв.м., судя по гистограмме, встречаются редко.\n",
    "Посмотрим, сколько таких объектов."
   ]
  },
  {
   "cell_type": "code",
   "execution_count": null,
   "metadata": {},
   "outputs": [],
   "source": [
    "len(data.query('total_area > 200').sort_values(by='total_area'))/len(data)*100"
   ]
  },
  {
   "cell_type": "code",
   "execution_count": null,
   "metadata": {},
   "outputs": [],
   "source": [
    "data.query('total_area > 200').sort_values(by='total_area').tail(20)"
   ]
  },
  {
   "cell_type": "markdown",
   "metadata": {},
   "source": [
    "227 объектов с площадью свыше 200 кв.м. Среди них 12-комнатный пентхаус(?) на 25 этаже, площадью 900 квадратов - что-то на богатом.\n",
    "\n",
    "Для дальнейшей оценки параметров недвижимости будем использовать значения площади в диапазоне 30-200 кв.м.."
   ]
  },
  {
   "cell_type": "markdown",
   "metadata": {},
   "source": [
    "#### Параметр rooms - число комнат"
   ]
  },
  {
   "cell_type": "code",
   "execution_count": null,
   "metadata": {},
   "outputs": [],
   "source": [
    "data['rooms'].describe()"
   ]
  },
  {
   "cell_type": "code",
   "execution_count": null,
   "metadata": {},
   "outputs": [],
   "source": [
    "data['rooms'].hist(bins=19)\n",
    "plt.show()\n",
    "data['rooms'].hist(range=(1, 3))"
   ]
  },
  {
   "cell_type": "markdown",
   "metadata": {},
   "source": [
    "Почти поровну однокомнатных и двухкомнатных квартир и чуть меньше трехкомнатных. Посмотрим, сколько всех остальных."
   ]
  },
  {
   "cell_type": "code",
   "execution_count": null,
   "metadata": {},
   "outputs": [],
   "source": [
    "len(data.query('rooms < 1 or rooms > 3'))/len(data)*100"
   ]
  },
  {
   "cell_type": "markdown",
   "metadata": {},
   "source": [
    "Большинство объявлений о продаже 1, 2, 3х - комнатных квартир. Их и будем рассматривать как типичные значения. "
   ]
  },
  {
   "cell_type": "markdown",
   "metadata": {},
   "source": [
    "#### Параметры living_area - жилая площадь и kitchen_area - площадь кухни"
   ]
  },
  {
   "cell_type": "code",
   "execution_count": null,
   "metadata": {},
   "outputs": [],
   "source": [
    "data[['living_area', 'kitchen_area']].describe()"
   ]
  },
  {
   "cell_type": "markdown",
   "metadata": {},
   "source": [
    "В основном средняя жилая площадь квартиры - 30-35 кв.м., кухни - 9-10 кв.м.. Этот параметр указан не во всех объявлениях, к тому же мы помним, что некоторые объекты могут быть квартирами-студиями или объектами со свободной планировкой. \n",
    "\n",
    "Нужно подробнее посмотреть, что за минимальное значение жилой площади в 2кв.м.. "
   ]
  },
  {
   "cell_type": "code",
   "execution_count": null,
   "metadata": {},
   "outputs": [],
   "source": [
    "data.query('living_area < 14').sort_values(by='living_area')"
   ]
  },
  {
   "cell_type": "markdown",
   "metadata": {},
   "source": [
    "На первый взгляд, жилая площадь в 2 кв.м. кажется просто ошибкой записи, возможно автор имел в виду 20 кв.м.. Но эта логика не работает при значении 5 при общей площади 22кв.м.\n",
    "\n",
    "Проверим, может это студии и свободная планировка."
   ]
  },
  {
   "cell_type": "code",
   "execution_count": null,
   "metadata": {},
   "outputs": [],
   "source": [
    "data.query('living_area < 14 and (studio == True or open_plan == True)')[['total_area', 'living_area', 'kitchen_area', 'open_plan', 'studio']].sort_values(by='living_area')"
   ]
  },
  {
   "cell_type": "markdown",
   "metadata": {},
   "source": [
    "Из 321 объекта с указанной жилой площадью менее 14 кв.м. -  студий и открытых планировок всего 12. Эта версия тоже не годится.\n",
    "\n",
    "Посмотрим, сколько однокомнатных квартир с жилой площадью менее 14 кв.м.."
   ]
  },
  {
   "cell_type": "code",
   "execution_count": null,
   "metadata": {},
   "outputs": [],
   "source": [
    "data.query('living_area < 14 and rooms == 1')"
   ]
  },
  {
   "cell_type": "markdown",
   "metadata": {},
   "source": [
    "Таких объявлений много (289) и общая площадь квартиры кажется нормальной для обычной однушки. Вероятно, не все объекты соответствуют СНиПам по норме жилой площади, или же графа 'living_area' не во всех объявлениях заполнена корректно.\n",
    "\n",
    "Построим гистограммы распределения значений жилой площади и площади кухни."
   ]
  },
  {
   "cell_type": "code",
   "execution_count": null,
   "metadata": {},
   "outputs": [],
   "source": [
    "data.plot(kind='hist', y='living_area', grid=True, legend=True)\n",
    "plt.show()\n",
    "data.plot(kind='hist', y='kitchen_area', grid=True, legend=True)"
   ]
  },
  {
   "cell_type": "markdown",
   "metadata": {},
   "source": [
    "Графики выглядят почти идентично, площадь кухни пропорциональна жилой площади квартиры, как в основном и бывает."
   ]
  },
  {
   "cell_type": "markdown",
   "metadata": {},
   "source": [
    "#### Параметр ceiling_height - высота потолков"
   ]
  },
  {
   "cell_type": "code",
   "execution_count": null,
   "metadata": {},
   "outputs": [],
   "source": [
    "data['ceiling_height'].describe()"
   ]
  },
  {
   "cell_type": "markdown",
   "metadata": {},
   "source": [
    "Медианное значение - 2,65, что соответствует реальности. Нужно проверить, что за минимальное значение в 1 м и явно неправдоподобный максимум в 100м.\n",
    "\n",
    "Согласно СНиП 2.08.01-85 \"Жилые здания\": высота жилых помещений от пола до потолка - не менее 2,5 м. Но в нашей выборке есть также одноэтажные дома в пригороде. Поэтому в качестве нижней планки будем рассматривать объекты с высотой потолков от 2 м. "
   ]
  },
  {
   "cell_type": "code",
   "execution_count": null,
   "metadata": {},
   "outputs": [],
   "source": [
    "# проверим, сколько значений меньше \n",
    "len(data.query('ceiling_height <= 2'))"
   ]
  },
  {
   "cell_type": "markdown",
   "metadata": {},
   "source": [
    "Теперь разберемся с аномально высокими потолками. Возьмем за верхний предел 3,5 метра. Посмотрим на самые выдающиеся значения."
   ]
  },
  {
   "cell_type": "code",
   "execution_count": null,
   "metadata": {},
   "outputs": [],
   "source": [
    "data.query('ceiling_height > 3.5')[['ceiling_height', 'floor', 'floors_total', 'locality_name']].sort_values(by='ceiling_height').tail(30)"
   ]
  },
  {
   "cell_type": "code",
   "execution_count": null,
   "metadata": {},
   "outputs": [],
   "source": [
    "len(data.query('ceiling_height > 3.5'))/len(data)*100"
   ]
  },
  {
   "cell_type": "markdown",
   "metadata": {},
   "source": [
    "Похоже, что значения потолков в 24-32 метра просто некорректно внесены в базу и подразумевают величины в 2,4 - 3,2. Исправим."
   ]
  },
  {
   "cell_type": "code",
   "execution_count": null,
   "metadata": {},
   "outputs": [],
   "source": [
    "data.loc[(data['ceiling_height'] >= 24) & (data['ceiling_height'] <= 32), 'ceiling_height'] = data['ceiling_height']/10"
   ]
  },
  {
   "cell_type": "code",
   "execution_count": null,
   "metadata": {},
   "outputs": [],
   "source": [
    "# проверим\n",
    "data[355:356]"
   ]
  },
  {
   "cell_type": "markdown",
   "metadata": {},
   "source": [
    "Оставшиеся значения будем считать аномально высокими и в расчет брать не станем."
   ]
  },
  {
   "cell_type": "code",
   "execution_count": null,
   "metadata": {},
   "outputs": [],
   "source": [
    "# построим график\n",
    "data.query('2 <= ceiling_height <= 3.5').plot(kind='hist', y='ceiling_height', bins=30, grid=True)"
   ]
  },
  {
   "cell_type": "markdown",
   "metadata": {},
   "source": [
    "Судя по графику, и значения меньше 2.5 метров можно смело отбрасывать."
   ]
  },
  {
   "cell_type": "markdown",
   "metadata": {},
   "source": [
    "#### Параметр floor_type - тип этажа"
   ]
  },
  {
   "cell_type": "code",
   "execution_count": null,
   "metadata": {},
   "outputs": [],
   "source": [
    "data['floor_type'].hist(bins=5)"
   ]
  },
  {
   "cell_type": "markdown",
   "metadata": {},
   "source": [
    "Квартиры на первом этаже пользуются наименьшим спросом."
   ]
  },
  {
   "cell_type": "markdown",
   "metadata": {},
   "source": [
    "#### Параметр floors_total - общее количество этажей в доме"
   ]
  },
  {
   "cell_type": "code",
   "execution_count": null,
   "metadata": {},
   "outputs": [],
   "source": [
    "data['floors_total'].describe()"
   ]
  },
  {
   "cell_type": "markdown",
   "metadata": {},
   "source": [
    "Самое высокое жилое здание Санкт-Петербурга и окрестностей - ЖК \"Князь Александр Невский\" 37 этажей. Все, что превышает эти значения рассматривать не будем."
   ]
  },
  {
   "cell_type": "code",
   "execution_count": null,
   "metadata": {},
   "outputs": [],
   "source": [
    "data.query('floors_total > 37')[['floors_total', 'locality_name']]"
   ]
  },
  {
   "cell_type": "code",
   "execution_count": null,
   "metadata": {},
   "outputs": [],
   "source": [
    "data['floors_total'].hist(bins=30, figsize=(15, 7))"
   ]
  },
  {
   "cell_type": "markdown",
   "metadata": {},
   "source": [
    "Большинство объектов в нашем датасете - квартиры в 5-ти и 9-ти этажных домах. Объекты свыше 30 этажей можно не учитывать при анализе, их слишком мало."
   ]
  },
  {
   "cell_type": "markdown",
   "metadata": {},
   "source": [
    "#### Параметр last_price - цена объекта"
   ]
  },
  {
   "cell_type": "code",
   "execution_count": null,
   "metadata": {},
   "outputs": [],
   "source": [
    "data['last_price'].describe()"
   ]
  },
  {
   "cell_type": "markdown",
   "metadata": {},
   "source": [
    "Медианная цена объекта недвижимости в нашей выборке 4.65 млн.руб., средняя около 6,5 млн.руб. Разброс цен огромный. Неправдоподобной кажется и минимальная цена в 12тыс и максимальная в 760 млн."
   ]
  },
  {
   "cell_type": "code",
   "execution_count": null,
   "metadata": {},
   "outputs": [],
   "source": [
    "# посмотрим на объекты стоимостью менее 1млн.руб.\n",
    "data.query('last_price < 1000000')[['last_price', 'total_area', 'locality_name']].sort_values(by='last_price').head(10)"
   ]
  },
  {
   "cell_type": "markdown",
   "metadata": {},
   "source": [
    "Для построения гистограммы оставим данные о цене, не превышающие 20 млн.руб., так же не будем брать в рассчет объект за 12тыс.руб. - тут явно какая-то ошибка"
   ]
  },
  {
   "cell_type": "code",
   "execution_count": null,
   "metadata": {},
   "outputs": [],
   "source": [
    "data['last_price'].hist(bins=100, range=(430000, 20000000), figsize=(15, 7))"
   ]
  },
  {
   "cell_type": "markdown",
   "metadata": {},
   "source": [
    "Большая часть значений лежит в пределах 2-7,5 млн.руб. Данные о цене свыше 10 млн. хотя и присутствуют, но являются скорее нетипичными значениями."
   ]
  },
  {
   "cell_type": "markdown",
   "metadata": {},
   "source": [
    "#### Параметр city_centers_nearest - расстояние до центра города"
   ]
  },
  {
   "cell_type": "code",
   "execution_count": null,
   "metadata": {},
   "outputs": [],
   "source": [
    "data['city_centers_nearest'].describe()"
   ]
  },
  {
   "cell_type": "code",
   "execution_count": null,
   "metadata": {},
   "outputs": [],
   "source": [
    "data['city_centers_nearest'].hist(bins=50)"
   ]
  },
  {
   "cell_type": "markdown",
   "metadata": {},
   "source": [
    "Большинство объектов расположены в пределах 10-20 км от центра города. Среднее и медианное значение этого показателя близки и составляют 13-14 км. Так же есть пик значений на отметке около 5 км. В нашей базе объявления из разных городов Ленинградской области. В небольших населенных пунктах центр города значительно ближе, чем в Санкт-Петербурге."
   ]
  },
  {
   "cell_type": "markdown",
   "metadata": {},
   "source": [
    "#### Параметр parks_nearest - расстояние до ближайшего парка"
   ]
  },
  {
   "cell_type": "code",
   "execution_count": null,
   "metadata": {},
   "outputs": [],
   "source": [
    "data['parks_nearest'].describe()"
   ]
  },
  {
   "cell_type": "code",
   "execution_count": null,
   "metadata": {},
   "outputs": [],
   "source": [
    "data['parks_nearest'].hist(bins=30)"
   ]
  },
  {
   "cell_type": "markdown",
   "metadata": {},
   "source": [
    "Похоже, что парков в Санкт-Петербурге и окрестностях так много, что почти все живут где-то рядом. "
   ]
  },
  {
   "cell_type": "markdown",
   "metadata": {},
   "source": [
    "### Скорость продажи квартиры"
   ]
  },
  {
   "cell_type": "markdown",
   "metadata": {},
   "source": [
    "Изучите, как быстро продавались квартиры (столбец days_exposition). Этот параметр показывает, сколько дней было размещено каждое объявление.\n",
    "Постройте гистограмму.\n",
    "Посчитайте среднее и медиану.\n",
    "В ячейке типа markdown опишите, сколько времени обычно занимает продажа. Какие продажи можно считать быстрыми, а какие — необычно долгими?"
   ]
  },
  {
   "cell_type": "markdown",
   "metadata": {},
   "source": [
    "#### Параметр days_exposition — сколько дней было размещено объявление"
   ]
  },
  {
   "cell_type": "code",
   "execution_count": null,
   "metadata": {},
   "outputs": [],
   "source": [
    "data['days_exposition'].describe()"
   ]
  },
  {
   "cell_type": "code",
   "execution_count": null,
   "metadata": {},
   "outputs": [],
   "source": [
    "data['days_exposition'].hist(bins=200, figsize=(15, 7))"
   ]
  },
  {
   "cell_type": "markdown",
   "metadata": {},
   "source": [
    "Среднее время продажи квартиры - 180 дней, медианное - 95. Четверть квартир было продано в первые 45 дней после публикации объявления - такие продажи можно считать быстрыми. Есть объявления, не закрытые свыше четырех лет - вероятно аномалии. В основном, большинство объявлений было закрыто в течение 7-8 месяцев. \n",
    "\n",
    "Присутствуют два пика значений в периоде от 40 до 100 дней. В эти дни было закрыто больше объявлений, чем обычно. Посмотрим на них."
   ]
  },
  {
   "cell_type": "code",
   "execution_count": null,
   "metadata": {},
   "outputs": [],
   "source": [
    "data['days_exposition'].hist(bins=100, range=(40, 100), figsize=(15, 7))"
   ]
  },
  {
   "cell_type": "markdown",
   "metadata": {},
   "source": [
    "Возможно это какие-то автоматические настойки, регулирующие период размещения объявления, и эти значения не следует рассматривать как типичные."
   ]
  },
  {
   "cell_type": "markdown",
   "metadata": {},
   "source": [
    "### Факторы, влияющие на общую стоимость объекта недвижимости"
   ]
  },
  {
   "cell_type": "markdown",
   "metadata": {},
   "source": [
    "Для изучения факторов, влияющих на стоимость квартиры, подготовим таблицу с отфильтрованными данными, исходя из предыдущих наблюдений."
   ]
  },
  {
   "cell_type": "code",
   "execution_count": null,
   "metadata": {},
   "outputs": [],
   "source": [
    "data_slice = data.query('30 < total_area < 200')\n",
    "data_slice = data_slice.query('1 <= rooms <= 3')\n",
    "data_slice = data_slice.query('2.5 <= ceiling_height < 3.5')\n",
    "data_slice = data_slice.query('floors_total <= 30')\n",
    "data_slice = data_slice.query('430000 <= last_price <= 10000000')\n",
    "data_slice = data_slice.query('days_exposition <= 230 and days_exposition != 45 and days_exposition != 60')\n",
    "\n",
    "len(data_slice)"
   ]
  },
  {
   "cell_type": "code",
   "execution_count": null,
   "metadata": {},
   "outputs": [],
   "source": [
    "data_slice.describe()"
   ]
  },
  {
   "cell_type": "markdown",
   "metadata": {},
   "source": [
    "Выясним, зависит ли цена от: \n",
    "* общей площади; \n",
    "* жилой площади; \n",
    "* площади кухни; \n",
    "* количества комнат; \n",
    "* этажа, на котором расположена квартира; \n",
    "* даты размещения (день недели, месяц, год). "
   ]
  },
  {
   "cell_type": "markdown",
   "metadata": {},
   "source": [
    "#### Взаимосвязь цены и общей площади квартиры\n",
    "\n",
    "Установим, есть ли линейная зависимость между этими параметрами"
   ]
  },
  {
   "cell_type": "code",
   "execution_count": null,
   "metadata": {},
   "outputs": [],
   "source": [
    "data_slice['last_price'].corr(data_slice['total_area'])"
   ]
  },
  {
   "cell_type": "code",
   "execution_count": null,
   "metadata": {},
   "outputs": [],
   "source": [
    "data_slice.plot(x='total_area', y='last_price', kind='scatter', alpha=0.3, grid=True, figsize=(15, 7))"
   ]
  },
  {
   "cell_type": "markdown",
   "metadata": {},
   "source": [
    "Наблюдаем, что с увеличением площади квартиры, общая стоимость также растет, что логично."
   ]
  },
  {
   "cell_type": "markdown",
   "metadata": {},
   "source": [
    "#### Взаимосвязь цены и жилой площади квартиры"
   ]
  },
  {
   "cell_type": "code",
   "execution_count": null,
   "metadata": {},
   "outputs": [],
   "source": [
    "data_slice['last_price'].corr(data_slice['living_area'])"
   ]
  },
  {
   "cell_type": "code",
   "execution_count": null,
   "metadata": {},
   "outputs": [],
   "source": [
    "data_slice.plot(x='living_area', y='last_price', kind='scatter', alpha=0.3, grid=True, figsize=(15, 7))"
   ]
  },
  {
   "cell_type": "markdown",
   "metadata": {},
   "source": [
    "Явной линейной зависимости между жилой площадью и ценой квартиры не наблюдается. Жилая площадь обычно пропорциональна общей площади квартиры. И на нашем графике двумя пятнами выделаются, по всей видимости, однокомнатные и двухкомнатные квартиры."
   ]
  },
  {
   "cell_type": "markdown",
   "metadata": {},
   "source": [
    "#### Взаимосвязь цены и площади кухни"
   ]
  },
  {
   "cell_type": "code",
   "execution_count": null,
   "metadata": {},
   "outputs": [],
   "source": [
    "data_slice['last_price'].corr(data_slice['kitchen_area'])"
   ]
  },
  {
   "cell_type": "code",
   "execution_count": null,
   "metadata": {},
   "outputs": [],
   "source": [
    "data_slice.plot(x='kitchen_area', y='last_price', kind='scatter', alpha=0.3, grid=True, figsize=(15, 7))"
   ]
  },
  {
   "cell_type": "markdown",
   "metadata": {},
   "source": [
    "Явной линейной зависимости между площадью кухни и ценой квартиры не наблюдается. Но кухня, как и жилая площадь обычно увеличиваются с ростом общей площади квартиры. "
   ]
  },
  {
   "cell_type": "markdown",
   "metadata": {},
   "source": [
    "#### Взаимосвязь цены и количества комнат"
   ]
  },
  {
   "cell_type": "markdown",
   "metadata": {},
   "source": [
    "Для изучения взаимосвязи этих параметров возьмем среднюю цену квартир с разным количеством комнат."
   ]
  },
  {
   "cell_type": "code",
   "execution_count": null,
   "metadata": {},
   "outputs": [],
   "source": [
    "data_slice['last_price'].corr(data_slice['rooms'])"
   ]
  },
  {
   "cell_type": "code",
   "execution_count": null,
   "metadata": {},
   "outputs": [],
   "source": [
    "data_slice.pivot_table(index='rooms', values='last_price', aggfunc='mean').plot(y='last_price', grid=True, figsize=(15, 7))"
   ]
  },
  {
   "cell_type": "markdown",
   "metadata": {},
   "source": [
    "Средняя цена квартиры растет по мере увеличения количества комнат в ней."
   ]
  },
  {
   "cell_type": "markdown",
   "metadata": {},
   "source": [
    "#### Взаимосвязь цены и этажа, на котором расположена квартира"
   ]
  },
  {
   "cell_type": "code",
   "execution_count": null,
   "metadata": {},
   "outputs": [],
   "source": [
    "data_slice.pivot_table(index='floor_type', values='last_price', aggfunc='mean').plot(y='last_price', grid=True, figsize=(15, 7))"
   ]
  },
  {
   "cell_type": "markdown",
   "metadata": {},
   "source": [
    "Для графика мы взяли среднюю стоимость крартир на первом, последнем и остальных этажах. Просматривается влияние типа этажа на цену недвижимости. Самые дешевые квартиры расположены на первом этаже. Самые дорогие - на других этажах, кроме последнего. "
   ]
  },
  {
   "cell_type": "markdown",
   "metadata": {},
   "source": [
    "#### Взаимосвязь цены и даты размещения объявления "
   ]
  },
  {
   "cell_type": "markdown",
   "metadata": {},
   "source": [
    "Проверим, есть ли связь между днем недели, месяцем, годом размещения объявления о продаже  и средней ценой квартиры. Построим графики для каждого параметра."
   ]
  },
  {
   "cell_type": "code",
   "execution_count": null,
   "metadata": {},
   "outputs": [],
   "source": [
    "data_slice.pivot_table(index='weekday', values='last_price', aggfunc='mean').plot(y='last_price', grid=True)\n",
    "plt.show()\n",
    "data_slice.pivot_table(index='month', values='last_price', aggfunc='mean').plot(y='last_price', grid=True)\n",
    "plt.show()\n",
    "data_slice.pivot_table(index='year', values='last_price', aggfunc='mean').plot(y='last_price', grid=True)"
   ]
  },
  {
   "cell_type": "markdown",
   "metadata": {},
   "source": [
    "Можно сказать, что в среднем цена на квартиру в объявлении, размещенном в воскресение, ниже, чем в другие дни недели. Возможно, это просто совпадение, или, например, в рабочие дни активно размещают объявления профессиональные риэлторы и агентства недвижимости. Должны же они когда-то тоже отдыхать.\n",
    "\n",
    "В графике взаимосвязи цены и месяца размещения объявления прослеживается некоторая сезонность - провал цен в середине лета и в конце года, а пики приходятся на апрель, август и ноябрь. Возможно это связано с сезоном отпусков и новогодних каникул.\n",
    "\n",
    "В графике по годам размещения наблюдается плавный рост средней цены на квартиру с 2015 по 2016 г., падение цены к 2017г. и резкий скачок после 2018-го. Возможно, такой скачок связан с общим ростом рынка недвижимости, доступностью ипотечных кредитов, государственными программами поддержки - больше людей смогли позволить себе купить квартиру. Повышенный спрос спровоцировал  рост цен на недвижимость."
   ]
  },
  {
   "cell_type": "markdown",
   "metadata": {},
   "source": [
    "### Изучим среднюю цену одного квадратного метра"
   ]
  },
  {
   "cell_type": "markdown",
   "metadata": {},
   "source": [
    "Проанализируем среднюю цену одного квадратного метра в 10 населённых пунктах с наибольшим числом объявлений. Построим сводную таблицу с количеством объявлений и средней ценой квадратного метра для этих населенных пунктов. "
   ]
  },
  {
   "cell_type": "code",
   "execution_count": null,
   "metadata": {},
   "outputs": [],
   "source": [
    "# сводная таблица из топ-10 по количеству объявлений из предыдущего среза,\n",
    "# сгруппирована по локациям, содержит среднюю цену 1кв.м. и общее количество записей в каждой группе\n",
    "price_per_meter = data_slice.pivot_table(index='locality_name', values='price_per_m2', aggfunc=('mean', 'count'))\\\n",
    "                .sort_values(by='count', ascending=False).head(10)\n",
    "price_per_meter"
   ]
  },
  {
   "cell_type": "code",
   "execution_count": null,
   "metadata": {},
   "outputs": [],
   "source": [
    "print('Самая высокая цена 1 квадратного метра в городе', price_per_meter.query('mean == mean.max()').index.tolist())\n",
    "print('Самая низкая цена 1 квадратного метра в городе', price_per_meter.query('mean == mean.min()').index.tolist())"
   ]
  },
  {
   "cell_type": "markdown",
   "metadata": {},
   "source": [
    "Ранее мы посчитали расстояние до центра в километрах. Теперь узнаем среднюю стоимость квартир в Санкт-Петербурге на разном удалении от центра. "
   ]
  },
  {
   "cell_type": "code",
   "execution_count": null,
   "metadata": {},
   "outputs": [],
   "source": [
    "data_spb = data_slice.query('locality_name == \"Санкт-Петербург\" ')[['last_price', 'distance_to_center_km']]\n",
    "data_spb = data_spb.pivot_table(index='distance_to_center_km', values='last_price', aggfunc='mean')\n",
    "data_spb"
   ]
  },
  {
   "cell_type": "markdown",
   "metadata": {},
   "source": [
    "Построим график изменения средней цены для каждого километра от центра Петербурга."
   ]
  },
  {
   "cell_type": "code",
   "execution_count": null,
   "metadata": {},
   "outputs": [],
   "source": [
    "data_spb.plot(y='last_price', kind='bar', grid=True, figsize=(15, 7))"
   ]
  },
  {
   "cell_type": "markdown",
   "metadata": {},
   "source": [
    "Самые дорогие квартиры находятся в пределах 8 км от центра города. После 8 км цена перестает резко падать. Это говорит о том, что заканчивается зона центра города. По удалению от центра стоимость квартир равномерно снижается, однако виден пик стоимости на расстоянии 28 км от центра - возможно там расположен новый дорогой жилой комплекс. "
   ]
  },
  {
   "cell_type": "markdown",
   "metadata": {},
   "source": [
    "## Общий вывод\n",
    "\n",
    "В процессе исследования были реализованы следующие действия:\n",
    "\n",
    "1. Импортированы и изучены данные.\n",
    "\n",
    "\n",
    "2. В прцессе предобработки были обнаружены и заполнены пропуски в следующих колонках:\n",
    "- данные без обозначения локации объекта недвижимости удалены,\n",
    "- пропущенные значения общей этажности дома заменены на значения этажа, на котором расположена квартира,\n",
    "- неуказанное количество балконов заменено нулем,\n",
    "- пропущенные значения высоты потолка заменены медианным значением высоты потолка в домах, находящихся в той же местности, с тем же количеством этажей либо просто медианным значением высоты потолка в домах той же этажности,\n",
    "- остальные пропущенные значения не изменялись.\n",
    "\n",
    "3. Отдельно стоит отметить пропуски в геоданных, проставленных автоматически - таких значений много, возможно произошел сбой при заполнении или выгрузке этих данных.\n",
    "\n",
    "\n",
    "4. Изменены типы данных:\n",
    "- столбец с датой размещения переведен в формат datetime,\n",
    "- столбцы с количеством балконов и количеством этажей приведены к цельночисленному формату.\n",
    "\n",
    "\n",
    "5. Скорректированы названия локаций объектов недвижимости.\n",
    "\n",
    "\n",
    "6. Для проведения анализа добавлены столбцы:\n",
    "- цена одного квадратного метра\n",
    "- день недели публикации объявления (0 — понедельник, 1 — вторник и так далее)\n",
    "- месяц публикации объявления\n",
    "- год публикации объявления\n",
    "- тип этажа квартиры\n",
    "- расстояние до центра города в километрах.\n",
    "\n",
    "\n",
    "7. Изучены следующие параметры объектов недвижимости:\n",
    "- общая площадь,\n",
    "- число комнат,\n",
    "- жилая площадь,\n",
    "- площадь кухни,\n",
    "- высота потолков,\n",
    "- тип этажа,\n",
    "- общее количество этажей,\n",
    "- цена объекта,\n",
    "- расстояние до центра города,\n",
    "- расстояние до ближайшего парка,\n",
    "- скорость продажи квартиры.\n",
    "\n",
    "8. Для описания факторов, влияющих на стоимость объекта недвижимости был взят срез полученных данных со следующими границами:\n",
    "- общая площадь квартиры от 30 до 200 кв.м.,\n",
    "- количество комнат от 1 до 3,\n",
    "- высота потолков от 2,5 до 3,5 метров,\n",
    "- количество этажей в доме от 1 до 30,\n",
    "- цена квартиры от 430 тыс. до 10 млн. руб.,\n",
    "- количество дней от даты размещения до снятия объявления до 230.\n",
    "\n",
    "\n",
    "9. В рамках исследования найдены следующие особенности, рынка недвижимости Санкт-Петербурга и Ленинградской области:\n",
    "- с увеличением площади, растет и цена квартиры,\n",
    "- явной линейной зависимости между жилой площадью и площадью кухни с  ценой квартиры не наблюдается. Но кухня, как и жилая площадь обычно увеличиваются с ростом общей площади квартиры, соответственно растет и цена.\n",
    "- средняя цена квартиры растет по мере увеличения количества комнат в ней,\n",
    "- квартиры, расположенные на первом и последнем этажах стоят дешевле остальных,\n",
    "- с 2018 года произошел резкий подъем стоимости недвижимости.\n",
    "\n",
    "\n",
    "10. Были проанализированы 10 регионов Ленинградской области с наибольшим числом объявлений о продаже квартир. Найдены следующие особенности:\n",
    "- самая высокая средняя цена за 1 кв.м. - в Санкт-Петербурге составляет около 103 тыс.руб.\n",
    "- в Выборге средняя цена почти в два раза меньше (около 57 тыс.руб.)\n",
    "\n",
    "\n",
    "11. Отдельно была изучена средняя стоимость квартир в Санкт-Петербурге и выявлена зависимость стоимости от расстояния до центра города. Чем ближе к центру - тем дороже стоит квартира.\n",
    "\n",
    "\n",
    "**Таким образом, основными факторами, влияющими на цену недвижимости в регионе являются общая площадь квартиры, этаж, на котором она находится, а для Санкт-Петербурга еще и удаленность квартиры от центра города.**"
   ]
  }
 ],
 "metadata": {
  "ExecuteTimeLog": [
   {
    "duration": 748,
    "start_time": "2024-08-09T16:09:40.025Z"
   },
   {
    "duration": 101,
    "start_time": "2024-08-09T16:11:08.081Z"
   },
   {
    "duration": 55,
    "start_time": "2024-08-09T16:11:42.250Z"
   },
   {
    "duration": 146,
    "start_time": "2024-08-09T16:11:50.394Z"
   },
   {
    "duration": 30,
    "start_time": "2024-08-09T16:12:42.220Z"
   },
   {
    "duration": 1307,
    "start_time": "2024-08-09T16:38:52.300Z"
   },
   {
    "duration": 795,
    "start_time": "2024-08-10T06:53:40.505Z"
   },
   {
    "duration": 30,
    "start_time": "2024-08-10T06:53:41.666Z"
   },
   {
    "duration": 911,
    "start_time": "2024-08-10T06:53:43.021Z"
   },
   {
    "duration": 1304,
    "start_time": "2024-08-15T11:48:39.379Z"
   },
   {
    "duration": 197,
    "start_time": "2024-08-15T11:49:13.415Z"
   },
   {
    "duration": 17,
    "start_time": "2024-08-15T11:49:34.269Z"
   },
   {
    "duration": 1698,
    "start_time": "2024-08-15T11:49:54.942Z"
   },
   {
    "duration": 3,
    "start_time": "2024-08-15T11:50:46.064Z"
   },
   {
    "duration": 9,
    "start_time": "2024-08-15T11:50:59.312Z"
   },
   {
    "duration": 65,
    "start_time": "2024-08-15T11:51:23.216Z"
   },
   {
    "duration": 7,
    "start_time": "2024-08-15T11:53:07.300Z"
   },
   {
    "duration": 22,
    "start_time": "2024-08-15T11:53:35.540Z"
   },
   {
    "duration": 9,
    "start_time": "2024-08-15T11:54:36.390Z"
   },
   {
    "duration": 7,
    "start_time": "2024-08-15T11:55:41.479Z"
   },
   {
    "duration": 96,
    "start_time": "2024-08-15T11:56:00.777Z"
   },
   {
    "duration": 31,
    "start_time": "2024-08-15T11:56:47.513Z"
   },
   {
    "duration": 24,
    "start_time": "2024-08-15T11:57:00.218Z"
   },
   {
    "duration": 37,
    "start_time": "2024-08-15T11:58:10.827Z"
   },
   {
    "duration": 3,
    "start_time": "2024-08-15T11:58:48.333Z"
   },
   {
    "duration": 4,
    "start_time": "2024-08-15T11:59:11.845Z"
   },
   {
    "duration": 3,
    "start_time": "2024-08-15T12:00:28.595Z"
   },
   {
    "duration": 38,
    "start_time": "2024-08-15T12:01:51.743Z"
   },
   {
    "duration": 33,
    "start_time": "2024-08-15T12:03:53.299Z"
   },
   {
    "duration": 4,
    "start_time": "2024-08-15T12:04:41.212Z"
   },
   {
    "duration": 119,
    "start_time": "2024-08-15T12:05:06.457Z"
   },
   {
    "duration": 13,
    "start_time": "2024-08-15T12:05:06.620Z"
   },
   {
    "duration": 1604,
    "start_time": "2024-08-15T12:05:06.783Z"
   },
   {
    "duration": 4,
    "start_time": "2024-08-15T12:05:08.389Z"
   },
   {
    "duration": 14,
    "start_time": "2024-08-15T12:05:08.394Z"
   },
   {
    "duration": 61,
    "start_time": "2024-08-15T12:05:08.409Z"
   },
   {
    "duration": 21,
    "start_time": "2024-08-15T12:05:08.767Z"
   },
   {
    "duration": 9,
    "start_time": "2024-08-15T12:05:10.162Z"
   },
   {
    "duration": 6,
    "start_time": "2024-08-15T12:05:11.712Z"
   },
   {
    "duration": 31,
    "start_time": "2024-08-15T12:05:12.163Z"
   },
   {
    "duration": 38,
    "start_time": "2024-08-15T12:05:13.571Z"
   },
   {
    "duration": 4,
    "start_time": "2024-08-15T12:05:14.427Z"
   },
   {
    "duration": 3,
    "start_time": "2024-08-15T12:05:15.319Z"
   },
   {
    "duration": 38,
    "start_time": "2024-08-15T12:05:16.590Z"
   },
   {
    "duration": 7,
    "start_time": "2024-08-15T12:05:18.046Z"
   },
   {
    "duration": 32,
    "start_time": "2024-08-15T12:05:18.514Z"
   },
   {
    "duration": 4,
    "start_time": "2024-08-15T12:05:19.163Z"
   },
   {
    "duration": 35,
    "start_time": "2024-08-15T12:05:37.254Z"
   },
   {
    "duration": 4,
    "start_time": "2024-08-15T12:06:10.985Z"
   },
   {
    "duration": 3,
    "start_time": "2024-08-15T12:06:14.425Z"
   },
   {
    "duration": 64,
    "start_time": "2024-08-15T12:06:29.543Z"
   },
   {
    "duration": 17,
    "start_time": "2024-08-15T12:06:43.835Z"
   },
   {
    "duration": 5,
    "start_time": "2024-08-15T12:07:12.873Z"
   },
   {
    "duration": 6,
    "start_time": "2024-08-15T12:08:22.843Z"
   },
   {
    "duration": 8,
    "start_time": "2024-08-15T12:08:38.843Z"
   },
   {
    "duration": 106,
    "start_time": "2024-08-15T12:09:08.652Z"
   },
   {
    "duration": 9,
    "start_time": "2024-08-15T12:10:22.814Z"
   },
   {
    "duration": 8,
    "start_time": "2024-08-15T12:10:34.013Z"
   },
   {
    "duration": 76,
    "start_time": "2024-08-15T12:12:03.617Z"
   },
   {
    "duration": 10,
    "start_time": "2024-08-15T12:12:22.626Z"
   },
   {
    "duration": 8,
    "start_time": "2024-08-15T12:12:48.627Z"
   },
   {
    "duration": 7,
    "start_time": "2024-08-15T12:13:10.881Z"
   },
   {
    "duration": 7,
    "start_time": "2024-08-15T12:13:12.275Z"
   },
   {
    "duration": 8,
    "start_time": "2024-08-15T12:15:12.885Z"
   },
   {
    "duration": 2,
    "start_time": "2024-08-15T12:15:36.280Z"
   },
   {
    "duration": 12,
    "start_time": "2024-08-15T12:16:14.379Z"
   },
   {
    "duration": 12,
    "start_time": "2024-08-15T12:16:24.332Z"
   },
   {
    "duration": 29,
    "start_time": "2024-08-15T12:17:17.100Z"
   },
   {
    "duration": 27,
    "start_time": "2024-08-15T12:17:45.563Z"
   },
   {
    "duration": 17,
    "start_time": "2024-08-15T12:19:00.271Z"
   },
   {
    "duration": 19,
    "start_time": "2024-08-15T12:19:05.315Z"
   },
   {
    "duration": 183,
    "start_time": "2024-08-15T12:19:21.166Z"
   },
   {
    "duration": 16,
    "start_time": "2024-08-15T12:19:38.732Z"
   },
   {
    "duration": 17,
    "start_time": "2024-08-15T12:21:46.896Z"
   },
   {
    "duration": 328,
    "start_time": "2024-08-15T12:22:34.371Z"
   },
   {
    "duration": 11,
    "start_time": "2024-08-15T12:23:21.526Z"
   },
   {
    "duration": 58,
    "start_time": "2024-08-15T12:26:18.025Z"
   },
   {
    "duration": 8,
    "start_time": "2024-08-15T12:26:49.575Z"
   },
   {
    "duration": 22,
    "start_time": "2024-08-15T12:27:22.730Z"
   },
   {
    "duration": 250,
    "start_time": "2024-08-15T12:28:39.247Z"
   },
   {
    "duration": 6,
    "start_time": "2024-08-15T12:29:21.452Z"
   },
   {
    "duration": 30,
    "start_time": "2024-08-15T12:29:31.440Z"
   },
   {
    "duration": 7,
    "start_time": "2024-08-15T12:31:34.560Z"
   },
   {
    "duration": 252,
    "start_time": "2024-08-15T12:31:44.545Z"
   },
   {
    "duration": 7,
    "start_time": "2024-08-15T12:32:16.134Z"
   },
   {
    "duration": 15,
    "start_time": "2024-08-15T12:33:21.912Z"
   },
   {
    "duration": 38,
    "start_time": "2024-08-15T12:33:49.379Z"
   },
   {
    "duration": 13,
    "start_time": "2024-08-15T12:34:32.964Z"
   },
   {
    "duration": 32,
    "start_time": "2024-08-15T12:35:23.061Z"
   },
   {
    "duration": 302,
    "start_time": "2024-08-15T12:35:51.445Z"
   },
   {
    "duration": 13,
    "start_time": "2024-08-15T12:37:29.800Z"
   },
   {
    "duration": 6,
    "start_time": "2024-08-15T12:38:38.762Z"
   },
   {
    "duration": 13,
    "start_time": "2024-08-15T12:39:03.712Z"
   },
   {
    "duration": 5,
    "start_time": "2024-08-15T12:39:21.966Z"
   },
   {
    "duration": 528,
    "start_time": "2024-08-15T12:39:32.940Z"
   },
   {
    "duration": 7,
    "start_time": "2024-08-15T12:39:46.554Z"
   },
   {
    "duration": 17,
    "start_time": "2024-08-15T12:40:05.853Z"
   },
   {
    "duration": 180,
    "start_time": "2024-08-15T12:43:19.172Z"
   },
   {
    "duration": 108,
    "start_time": "2024-08-15T12:45:01.414Z"
   },
   {
    "duration": 99,
    "start_time": "2024-08-15T12:45:07.623Z"
   },
   {
    "duration": 193,
    "start_time": "2024-08-15T12:45:15.397Z"
   },
   {
    "duration": 98,
    "start_time": "2024-08-15T12:45:21.590Z"
   },
   {
    "duration": 109,
    "start_time": "2024-08-15T12:45:25.321Z"
   },
   {
    "duration": 102,
    "start_time": "2024-08-15T12:45:29.557Z"
   },
   {
    "duration": 93,
    "start_time": "2024-08-15T12:45:34.953Z"
   },
   {
    "duration": 97,
    "start_time": "2024-08-15T12:45:40.999Z"
   },
   {
    "duration": 843,
    "start_time": "2024-08-15T12:48:48.445Z"
   },
   {
    "duration": 932,
    "start_time": "2024-08-15T12:48:52.016Z"
   },
   {
    "duration": 930,
    "start_time": "2024-08-15T12:48:57.789Z"
   },
   {
    "duration": 1138,
    "start_time": "2024-08-15T12:49:01.660Z"
   },
   {
    "duration": 7,
    "start_time": "2024-08-15T12:49:20.554Z"
   },
   {
    "duration": 19,
    "start_time": "2024-08-15T12:54:20.631Z"
   },
   {
    "duration": 161,
    "start_time": "2024-08-15T12:56:37.336Z"
   },
   {
    "duration": 40,
    "start_time": "2024-08-15T12:57:20.656Z"
   },
   {
    "duration": 13,
    "start_time": "2024-08-15T12:58:48.828Z"
   },
   {
    "duration": 11,
    "start_time": "2024-08-15T12:59:11.195Z"
   },
   {
    "duration": 9,
    "start_time": "2024-08-15T13:00:25.760Z"
   },
   {
    "duration": 145,
    "start_time": "2024-08-15T13:02:00.366Z"
   },
   {
    "duration": 9,
    "start_time": "2024-08-15T13:24:31.102Z"
   },
   {
    "duration": 5,
    "start_time": "2024-08-15T13:43:01.008Z"
   },
   {
    "duration": 116,
    "start_time": "2024-08-15T13:43:38.330Z"
   },
   {
    "duration": 163,
    "start_time": "2024-08-15T13:43:47.313Z"
   },
   {
    "duration": 209,
    "start_time": "2024-08-15T13:43:56.777Z"
   },
   {
    "duration": 157,
    "start_time": "2024-08-15T13:44:01.256Z"
   },
   {
    "duration": 33,
    "start_time": "2024-08-15T13:50:05.826Z"
   },
   {
    "duration": 30,
    "start_time": "2024-08-15T13:50:42.654Z"
   },
   {
    "duration": 1694,
    "start_time": "2024-08-15T13:54:09.322Z"
   },
   {
    "duration": 138,
    "start_time": "2024-08-15T13:54:56.075Z"
   },
   {
    "duration": 172,
    "start_time": "2024-08-15T13:55:17.369Z"
   },
   {
    "duration": 209,
    "start_time": "2024-08-15T13:55:26.063Z"
   },
   {
    "duration": 1257,
    "start_time": "2024-08-15T13:58:41.729Z"
   },
   {
    "duration": 1220,
    "start_time": "2024-08-15T13:58:49.505Z"
   },
   {
    "duration": 389,
    "start_time": "2024-08-15T13:58:54.735Z"
   },
   {
    "duration": 67,
    "start_time": "2024-08-15T14:04:20.266Z"
   },
   {
    "duration": 122,
    "start_time": "2024-08-15T14:04:55.694Z"
   },
   {
    "duration": 199,
    "start_time": "2024-08-15T14:05:07.323Z"
   },
   {
    "duration": 172,
    "start_time": "2024-08-15T14:05:12.487Z"
   },
   {
    "duration": 64,
    "start_time": "2024-08-15T14:06:14.013Z"
   },
   {
    "duration": 160,
    "start_time": "2024-08-15T14:06:20.412Z"
   },
   {
    "duration": 10,
    "start_time": "2024-08-15T14:08:02.671Z"
   },
   {
    "duration": 2,
    "start_time": "2024-08-15T14:11:58.610Z"
   },
   {
    "duration": 11,
    "start_time": "2024-08-15T14:12:26.950Z"
   },
   {
    "duration": 8,
    "start_time": "2024-08-15T14:12:45.482Z"
   },
   {
    "duration": 124,
    "start_time": "2024-08-15T14:13:25.929Z"
   },
   {
    "duration": 7,
    "start_time": "2024-08-15T14:21:23.603Z"
   },
   {
    "duration": 119,
    "start_time": "2024-08-15T14:29:07.786Z"
   },
   {
    "duration": 372,
    "start_time": "2024-08-15T14:29:26.886Z"
   },
   {
    "duration": 278,
    "start_time": "2024-08-15T14:29:33.070Z"
   },
   {
    "duration": 128,
    "start_time": "2024-08-15T14:29:50.624Z"
   },
   {
    "duration": 167,
    "start_time": "2024-08-15T14:30:23.665Z"
   },
   {
    "duration": 123,
    "start_time": "2024-08-15T14:30:37.411Z"
   },
   {
    "duration": 223,
    "start_time": "2024-08-15T14:30:58.429Z"
   },
   {
    "duration": 157,
    "start_time": "2024-08-15T14:32:00.065Z"
   },
   {
    "duration": 572,
    "start_time": "2024-08-15T14:36:51.256Z"
   },
   {
    "duration": 66,
    "start_time": "2024-08-16T05:54:47.722Z"
   },
   {
    "duration": 44,
    "start_time": "2024-08-16T05:54:55.206Z"
   },
   {
    "duration": 1611,
    "start_time": "2024-08-16T05:55:11.431Z"
   },
   {
    "duration": 15,
    "start_time": "2024-08-16T05:55:13.044Z"
   },
   {
    "duration": 2093,
    "start_time": "2024-08-16T05:55:13.060Z"
   },
   {
    "duration": 4,
    "start_time": "2024-08-16T05:55:15.156Z"
   },
   {
    "duration": 17,
    "start_time": "2024-08-16T05:55:15.162Z"
   },
   {
    "duration": 96,
    "start_time": "2024-08-16T05:55:15.181Z"
   },
   {
    "duration": 37,
    "start_time": "2024-08-16T05:55:15.279Z"
   },
   {
    "duration": 21,
    "start_time": "2024-08-16T05:55:15.318Z"
   },
   {
    "duration": 11,
    "start_time": "2024-08-16T05:55:16.817Z"
   },
   {
    "duration": 31,
    "start_time": "2024-08-16T05:55:17.178Z"
   },
   {
    "duration": 46,
    "start_time": "2024-08-16T05:55:17.544Z"
   },
   {
    "duration": 7,
    "start_time": "2024-08-16T05:55:17.932Z"
   },
   {
    "duration": 3,
    "start_time": "2024-08-16T05:55:18.254Z"
   },
   {
    "duration": 45,
    "start_time": "2024-08-16T05:55:18.601Z"
   },
   {
    "duration": 10,
    "start_time": "2024-08-16T05:55:18.943Z"
   },
   {
    "duration": 42,
    "start_time": "2024-08-16T05:55:19.144Z"
   },
   {
    "duration": 5,
    "start_time": "2024-08-16T05:55:19.371Z"
   },
   {
    "duration": 43,
    "start_time": "2024-08-16T05:55:19.681Z"
   },
   {
    "duration": 5,
    "start_time": "2024-08-16T05:55:19.845Z"
   },
   {
    "duration": 23,
    "start_time": "2024-08-16T05:55:20.188Z"
   },
   {
    "duration": 6,
    "start_time": "2024-08-16T05:55:20.570Z"
   },
   {
    "duration": 10,
    "start_time": "2024-08-16T05:55:20.889Z"
   },
   {
    "duration": 36,
    "start_time": "2024-08-16T05:55:21.057Z"
   },
   {
    "duration": 10,
    "start_time": "2024-08-16T05:55:21.572Z"
   },
   {
    "duration": 8,
    "start_time": "2024-08-16T05:55:21.753Z"
   },
   {
    "duration": 9,
    "start_time": "2024-08-16T05:55:22.336Z"
   },
   {
    "duration": 11,
    "start_time": "2024-08-16T05:55:22.857Z"
   },
   {
    "duration": 8,
    "start_time": "2024-08-16T05:55:22.988Z"
   },
   {
    "duration": 9,
    "start_time": "2024-08-16T05:55:23.144Z"
   },
   {
    "duration": 23,
    "start_time": "2024-08-16T05:55:25.559Z"
   },
   {
    "duration": 15,
    "start_time": "2024-08-16T05:55:25.776Z"
   },
   {
    "duration": 24,
    "start_time": "2024-08-16T05:55:26.140Z"
   },
   {
    "duration": 18,
    "start_time": "2024-08-16T05:55:26.504Z"
   },
   {
    "duration": 18,
    "start_time": "2024-08-16T05:55:26.717Z"
   },
   {
    "duration": 159,
    "start_time": "2024-08-16T05:55:27.056Z"
   },
   {
    "duration": 19,
    "start_time": "2024-08-16T05:55:27.258Z"
   },
   {
    "duration": 20,
    "start_time": "2024-08-16T05:55:27.948Z"
   },
   {
    "duration": 332,
    "start_time": "2024-08-16T05:55:28.323Z"
   },
   {
    "duration": 11,
    "start_time": "2024-08-16T05:55:28.669Z"
   },
   {
    "duration": 9,
    "start_time": "2024-08-16T05:55:29.390Z"
   },
   {
    "duration": 42,
    "start_time": "2024-08-16T05:55:30.291Z"
   },
   {
    "duration": 402,
    "start_time": "2024-08-16T05:55:30.335Z"
   },
   {
    "duration": 9,
    "start_time": "2024-08-16T05:55:30.739Z"
   },
   {
    "duration": 79,
    "start_time": "2024-08-16T05:55:30.749Z"
   },
   {
    "duration": 9,
    "start_time": "2024-08-16T05:55:31.152Z"
   },
   {
    "duration": 326,
    "start_time": "2024-08-16T05:55:31.355Z"
   },
   {
    "duration": 10,
    "start_time": "2024-08-16T05:55:31.683Z"
   },
   {
    "duration": 18,
    "start_time": "2024-08-16T05:55:32.209Z"
   },
   {
    "duration": 43,
    "start_time": "2024-08-16T05:55:32.593Z"
   },
   {
    "duration": 17,
    "start_time": "2024-08-16T05:55:32.937Z"
   },
   {
    "duration": 39,
    "start_time": "2024-08-16T05:55:33.326Z"
   },
   {
    "duration": 420,
    "start_time": "2024-08-16T05:55:33.703Z"
   },
   {
    "duration": 10,
    "start_time": "2024-08-16T05:55:34.241Z"
   },
   {
    "duration": 7,
    "start_time": "2024-08-16T05:55:34.624Z"
   },
   {
    "duration": 17,
    "start_time": "2024-08-16T05:55:34.996Z"
   },
   {
    "duration": 7,
    "start_time": "2024-08-16T05:55:35.214Z"
   },
   {
    "duration": 6,
    "start_time": "2024-08-16T05:55:35.590Z"
   },
   {
    "duration": 21,
    "start_time": "2024-08-16T05:55:35.774Z"
   },
   {
    "duration": 193,
    "start_time": "2024-08-16T05:55:36.181Z"
   },
   {
    "duration": 116,
    "start_time": "2024-08-16T05:55:36.697Z"
   },
   {
    "duration": 8,
    "start_time": "2024-08-16T05:55:37.250Z"
   },
   {
    "duration": 10,
    "start_time": "2024-08-16T05:55:37.662Z"
   },
   {
    "duration": 190,
    "start_time": "2024-08-16T05:55:37.861Z"
   },
   {
    "duration": 9,
    "start_time": "2024-08-16T05:55:38.447Z"
   },
   {
    "duration": 273,
    "start_time": "2024-08-16T05:55:38.864Z"
   },
   {
    "duration": 10,
    "start_time": "2024-08-16T05:55:39.467Z"
   },
   {
    "duration": 213,
    "start_time": "2024-08-16T05:55:39.681Z"
   },
   {
    "duration": 11,
    "start_time": "2024-08-16T05:55:40.241Z"
   },
   {
    "duration": 157,
    "start_time": "2024-08-16T05:55:40.448Z"
   },
   {
    "duration": 10,
    "start_time": "2024-08-16T05:55:41.378Z"
   },
   {
    "duration": 515,
    "start_time": "2024-08-16T05:55:41.562Z"
   },
   {
    "duration": 396,
    "start_time": "2024-08-16T05:55:42.079Z"
   },
   {
    "duration": 280,
    "start_time": "2024-08-16T05:56:26.536Z"
   },
   {
    "duration": 335,
    "start_time": "2024-08-16T05:56:39.685Z"
   },
   {
    "duration": 268,
    "start_time": "2024-08-16T05:56:57.110Z"
   },
   {
    "duration": 102,
    "start_time": "2024-08-16T06:17:17.622Z"
   },
   {
    "duration": 42,
    "start_time": "2024-08-16T06:31:43.597Z"
   },
   {
    "duration": 43,
    "start_time": "2024-08-16T06:32:06.191Z"
   },
   {
    "duration": 31,
    "start_time": "2024-08-16T06:32:22.485Z"
   },
   {
    "duration": 15,
    "start_time": "2024-08-16T06:34:25.189Z"
   },
   {
    "duration": 421,
    "start_time": "2024-08-16T06:37:13.559Z"
   },
   {
    "duration": 11,
    "start_time": "2024-08-16T06:56:36.068Z"
   },
   {
    "duration": 13,
    "start_time": "2024-08-16T06:56:48.994Z"
   },
   {
    "duration": 11,
    "start_time": "2024-08-16T06:58:03.654Z"
   },
   {
    "duration": 9,
    "start_time": "2024-08-16T06:59:08.008Z"
   },
   {
    "duration": 10,
    "start_time": "2024-08-16T06:59:19.094Z"
   },
   {
    "duration": 70,
    "start_time": "2024-08-16T07:00:05.785Z"
   },
   {
    "duration": 9,
    "start_time": "2024-08-16T07:01:04.253Z"
   },
   {
    "duration": 10,
    "start_time": "2024-08-16T07:01:13.785Z"
   },
   {
    "duration": 8,
    "start_time": "2024-08-16T07:02:10.689Z"
   },
   {
    "duration": 12,
    "start_time": "2024-08-16T07:02:17.244Z"
   },
   {
    "duration": 9,
    "start_time": "2024-08-16T07:03:11.278Z"
   },
   {
    "duration": 19,
    "start_time": "2024-08-16T07:03:26.913Z"
   },
   {
    "duration": 9,
    "start_time": "2024-08-16T07:03:49.936Z"
   },
   {
    "duration": 33,
    "start_time": "2024-08-16T07:04:39.969Z"
   },
   {
    "duration": 9,
    "start_time": "2024-08-16T07:05:39.268Z"
   },
   {
    "duration": 43,
    "start_time": "2024-08-16T07:07:25.627Z"
   },
   {
    "duration": 41,
    "start_time": "2024-08-16T07:07:52.133Z"
   },
   {
    "duration": 79,
    "start_time": "2024-08-16T07:08:49.599Z"
   },
   {
    "duration": 87,
    "start_time": "2024-08-16T07:15:47.746Z"
   },
   {
    "duration": 285,
    "start_time": "2024-08-16T07:15:55.750Z"
   },
   {
    "duration": 262,
    "start_time": "2024-08-16T07:17:27.320Z"
   },
   {
    "duration": 1053,
    "start_time": "2024-08-16T07:19:00.553Z"
   },
   {
    "duration": 1093,
    "start_time": "2024-08-16T07:19:19.965Z"
   },
   {
    "duration": 149,
    "start_time": "2024-08-16T07:19:26.328Z"
   },
   {
    "duration": 282,
    "start_time": "2024-08-16T07:19:49.591Z"
   },
   {
    "duration": 280,
    "start_time": "2024-08-16T07:20:12.838Z"
   },
   {
    "duration": 286,
    "start_time": "2024-08-16T07:20:25.688Z"
   },
   {
    "duration": 441,
    "start_time": "2024-08-16T07:20:36.103Z"
   },
   {
    "duration": 285,
    "start_time": "2024-08-16T07:21:25.373Z"
   },
   {
    "duration": 18,
    "start_time": "2024-08-16T07:21:59.387Z"
   },
   {
    "duration": 40,
    "start_time": "2024-08-16T07:22:33.338Z"
   },
   {
    "duration": 291,
    "start_time": "2024-08-16T07:25:12.051Z"
   },
   {
    "duration": 281,
    "start_time": "2024-08-16T07:27:01.061Z"
   },
   {
    "duration": 293,
    "start_time": "2024-08-16T07:27:31.430Z"
   },
   {
    "duration": 40,
    "start_time": "2024-08-16T07:29:32.173Z"
   },
   {
    "duration": 56,
    "start_time": "2024-08-16T07:29:44.797Z"
   },
   {
    "duration": 152,
    "start_time": "2024-08-16T07:30:06.618Z"
   },
   {
    "duration": 431,
    "start_time": "2024-08-16T07:30:37.160Z"
   },
   {
    "duration": 542,
    "start_time": "2024-08-16T07:31:43.114Z"
   },
   {
    "duration": 389,
    "start_time": "2024-08-16T07:31:59.419Z"
   },
   {
    "duration": 392,
    "start_time": "2024-08-16T07:32:11.439Z"
   },
   {
    "duration": 46,
    "start_time": "2024-08-16T07:37:31.496Z"
   },
   {
    "duration": 392,
    "start_time": "2024-08-16T07:40:12.918Z"
   },
   {
    "duration": 320,
    "start_time": "2024-08-16T07:40:43.592Z"
   },
   {
    "duration": 331,
    "start_time": "2024-08-16T07:40:59.533Z"
   },
   {
    "duration": 312,
    "start_time": "2024-08-16T07:41:13.224Z"
   },
   {
    "duration": 547,
    "start_time": "2024-08-16T07:41:21.192Z"
   },
   {
    "duration": 343,
    "start_time": "2024-08-16T07:41:29.419Z"
   },
   {
    "duration": 329,
    "start_time": "2024-08-16T07:41:35.870Z"
   },
   {
    "duration": 309,
    "start_time": "2024-08-16T07:41:46.137Z"
   },
   {
    "duration": 323,
    "start_time": "2024-08-16T07:41:55.513Z"
   },
   {
    "duration": 313,
    "start_time": "2024-08-16T07:42:00.526Z"
   },
   {
    "duration": 311,
    "start_time": "2024-08-16T07:42:05.417Z"
   },
   {
    "duration": 310,
    "start_time": "2024-08-16T07:42:33.100Z"
   },
   {
    "duration": 43,
    "start_time": "2024-08-16T07:44:23.564Z"
   },
   {
    "duration": 87,
    "start_time": "2024-08-16T07:45:22.186Z"
   },
   {
    "duration": 9,
    "start_time": "2024-08-16T07:47:04.866Z"
   },
   {
    "duration": 7,
    "start_time": "2024-08-16T07:47:30.061Z"
   },
   {
    "duration": 6,
    "start_time": "2024-08-16T07:47:40.390Z"
   },
   {
    "duration": 48,
    "start_time": "2024-08-16T11:28:57.495Z"
   },
   {
    "duration": 1630,
    "start_time": "2024-08-16T11:29:17.360Z"
   },
   {
    "duration": 15,
    "start_time": "2024-08-16T11:29:18.991Z"
   },
   {
    "duration": 2064,
    "start_time": "2024-08-16T11:29:19.008Z"
   },
   {
    "duration": 4,
    "start_time": "2024-08-16T11:29:21.074Z"
   },
   {
    "duration": 14,
    "start_time": "2024-08-16T11:29:21.079Z"
   },
   {
    "duration": 82,
    "start_time": "2024-08-16T11:29:21.095Z"
   },
   {
    "duration": 26,
    "start_time": "2024-08-16T11:29:21.179Z"
   },
   {
    "duration": 12,
    "start_time": "2024-08-16T11:29:21.206Z"
   },
   {
    "duration": 9,
    "start_time": "2024-08-16T11:29:21.219Z"
   },
   {
    "duration": 61,
    "start_time": "2024-08-16T11:29:21.231Z"
   },
   {
    "duration": 46,
    "start_time": "2024-08-16T11:29:21.293Z"
   },
   {
    "duration": 7,
    "start_time": "2024-08-16T11:29:21.340Z"
   },
   {
    "duration": 3,
    "start_time": "2024-08-16T11:29:21.364Z"
   },
   {
    "duration": 45,
    "start_time": "2024-08-16T11:29:21.369Z"
   },
   {
    "duration": 8,
    "start_time": "2024-08-16T11:29:21.416Z"
   },
   {
    "duration": 63,
    "start_time": "2024-08-16T11:29:21.426Z"
   },
   {
    "duration": 4,
    "start_time": "2024-08-16T11:29:21.491Z"
   },
   {
    "duration": 69,
    "start_time": "2024-08-16T11:29:21.496Z"
   },
   {
    "duration": 4,
    "start_time": "2024-08-16T11:29:21.567Z"
   },
   {
    "duration": 32,
    "start_time": "2024-08-16T11:29:21.573Z"
   },
   {
    "duration": 5,
    "start_time": "2024-08-16T11:29:21.607Z"
   },
   {
    "duration": 6,
    "start_time": "2024-08-16T11:29:21.613Z"
   },
   {
    "duration": 54,
    "start_time": "2024-08-16T11:29:21.621Z"
   },
   {
    "duration": 8,
    "start_time": "2024-08-16T11:29:21.677Z"
   },
   {
    "duration": 8,
    "start_time": "2024-08-16T11:29:21.687Z"
   },
   {
    "duration": 9,
    "start_time": "2024-08-16T11:29:21.696Z"
   },
   {
    "duration": 9,
    "start_time": "2024-08-16T11:29:21.706Z"
   },
   {
    "duration": 7,
    "start_time": "2024-08-16T11:29:21.719Z"
   },
   {
    "duration": 44,
    "start_time": "2024-08-16T11:29:21.727Z"
   },
   {
    "duration": 20,
    "start_time": "2024-08-16T11:29:21.773Z"
   },
   {
    "duration": 13,
    "start_time": "2024-08-16T11:29:21.795Z"
   },
   {
    "duration": 22,
    "start_time": "2024-08-16T11:29:21.809Z"
   },
   {
    "duration": 50,
    "start_time": "2024-08-16T11:29:21.833Z"
   },
   {
    "duration": 30,
    "start_time": "2024-08-16T11:29:21.885Z"
   },
   {
    "duration": 161,
    "start_time": "2024-08-16T11:29:21.917Z"
   },
   {
    "duration": 19,
    "start_time": "2024-08-16T11:29:22.080Z"
   },
   {
    "duration": 19,
    "start_time": "2024-08-16T11:29:22.100Z"
   },
   {
    "duration": 375,
    "start_time": "2024-08-16T11:29:22.120Z"
   },
   {
    "duration": 15,
    "start_time": "2024-08-16T11:29:22.497Z"
   },
   {
    "duration": 10,
    "start_time": "2024-08-16T11:29:22.515Z"
   },
   {
    "duration": 53,
    "start_time": "2024-08-16T11:29:22.527Z"
   },
   {
    "duration": 322,
    "start_time": "2024-08-16T11:29:22.582Z"
   },
   {
    "duration": 7,
    "start_time": "2024-08-16T11:29:22.906Z"
   },
   {
    "duration": 40,
    "start_time": "2024-08-16T11:29:22.915Z"
   },
   {
    "duration": 9,
    "start_time": "2024-08-16T11:29:22.964Z"
   },
   {
    "duration": 316,
    "start_time": "2024-08-16T11:29:22.974Z"
   },
   {
    "duration": 8,
    "start_time": "2024-08-16T11:29:23.292Z"
   },
   {
    "duration": 21,
    "start_time": "2024-08-16T11:29:23.301Z"
   },
   {
    "duration": 52,
    "start_time": "2024-08-16T11:29:23.324Z"
   },
   {
    "duration": 16,
    "start_time": "2024-08-16T11:29:23.378Z"
   },
   {
    "duration": 39,
    "start_time": "2024-08-16T11:29:23.395Z"
   },
   {
    "duration": 437,
    "start_time": "2024-08-16T11:29:23.435Z"
   },
   {
    "duration": 10,
    "start_time": "2024-08-16T11:29:23.874Z"
   },
   {
    "duration": 7,
    "start_time": "2024-08-16T11:29:23.885Z"
   },
   {
    "duration": 31,
    "start_time": "2024-08-16T11:29:23.894Z"
   },
   {
    "duration": 7,
    "start_time": "2024-08-16T11:29:23.926Z"
   },
   {
    "duration": 6,
    "start_time": "2024-08-16T11:29:23.934Z"
   },
   {
    "duration": 37,
    "start_time": "2024-08-16T11:29:23.942Z"
   },
   {
    "duration": 199,
    "start_time": "2024-08-16T11:29:23.980Z"
   },
   {
    "duration": 130,
    "start_time": "2024-08-16T11:29:24.180Z"
   },
   {
    "duration": 8,
    "start_time": "2024-08-16T11:29:24.312Z"
   },
   {
    "duration": 10,
    "start_time": "2024-08-16T11:29:24.322Z"
   },
   {
    "duration": 221,
    "start_time": "2024-08-16T11:29:24.334Z"
   },
   {
    "duration": 16,
    "start_time": "2024-08-16T11:29:24.557Z"
   },
   {
    "duration": 15,
    "start_time": "2024-08-16T11:29:24.575Z"
   },
   {
    "duration": 294,
    "start_time": "2024-08-16T11:29:24.592Z"
   },
   {
    "duration": 9,
    "start_time": "2024-08-16T11:29:24.888Z"
   },
   {
    "duration": 225,
    "start_time": "2024-08-16T11:29:24.899Z"
   },
   {
    "duration": 9,
    "start_time": "2024-08-16T11:29:25.125Z"
   },
   {
    "duration": 182,
    "start_time": "2024-08-16T11:29:25.136Z"
   },
   {
    "duration": 9,
    "start_time": "2024-08-16T11:29:25.319Z"
   },
   {
    "duration": 561,
    "start_time": "2024-08-16T11:29:25.330Z"
   },
   {
    "duration": 281,
    "start_time": "2024-08-16T11:29:25.893Z"
   },
   {
    "duration": 38,
    "start_time": "2024-08-16T11:29:26.176Z"
   },
   {
    "duration": 84,
    "start_time": "2024-08-16T11:29:26.216Z"
   },
   {
    "duration": 20,
    "start_time": "2024-08-16T11:29:26.302Z"
   },
   {
    "duration": 102,
    "start_time": "2024-08-16T11:46:37.309Z"
   },
   {
    "duration": 6,
    "start_time": "2024-08-16T11:47:08.786Z"
   },
   {
    "duration": 170,
    "start_time": "2024-08-16T11:49:08.579Z"
   },
   {
    "duration": 167,
    "start_time": "2024-08-16T11:50:04.328Z"
   },
   {
    "duration": 177,
    "start_time": "2024-08-16T11:50:11.125Z"
   },
   {
    "duration": 245,
    "start_time": "2024-08-16T11:52:45.467Z"
   },
   {
    "duration": 235,
    "start_time": "2024-08-16T11:52:51.273Z"
   },
   {
    "duration": 244,
    "start_time": "2024-08-16T11:53:07.386Z"
   },
   {
    "duration": 56,
    "start_time": "2024-08-16T11:56:00.897Z"
   },
   {
    "duration": 222,
    "start_time": "2024-08-16T11:56:57.331Z"
   },
   {
    "duration": 6,
    "start_time": "2024-08-16T12:00:47.159Z"
   },
   {
    "duration": 253,
    "start_time": "2024-08-16T12:01:15.653Z"
   },
   {
    "duration": 580,
    "start_time": "2024-08-16T12:04:29.387Z"
   },
   {
    "duration": 225,
    "start_time": "2024-08-16T12:10:03.879Z"
   },
   {
    "duration": 189,
    "start_time": "2024-08-16T12:11:10.312Z"
   },
   {
    "duration": 235,
    "start_time": "2024-08-16T12:12:18.015Z"
   },
   {
    "duration": 323,
    "start_time": "2024-08-16T12:13:41.688Z"
   },
   {
    "duration": 158,
    "start_time": "2024-08-16T12:14:08.189Z"
   },
   {
    "duration": 246,
    "start_time": "2024-08-16T12:14:15.468Z"
   },
   {
    "duration": 387,
    "start_time": "2024-08-16T12:14:51.261Z"
   },
   {
    "duration": 6,
    "start_time": "2024-08-16T12:20:57.845Z"
   },
   {
    "duration": 208,
    "start_time": "2024-08-16T12:21:22.418Z"
   },
   {
    "duration": 222,
    "start_time": "2024-08-16T12:28:26.000Z"
   },
   {
    "duration": 213,
    "start_time": "2024-08-16T12:28:57.472Z"
   },
   {
    "duration": 202,
    "start_time": "2024-08-16T12:30:53.956Z"
   },
   {
    "duration": 6,
    "start_time": "2024-08-16T12:32:40.073Z"
   },
   {
    "duration": 253,
    "start_time": "2024-08-16T12:36:09.753Z"
   },
   {
    "duration": 73,
    "start_time": "2024-08-16T12:38:28.346Z"
   },
   {
    "duration": 61,
    "start_time": "2024-08-16T12:39:55.277Z"
   },
   {
    "duration": 230,
    "start_time": "2024-08-16T12:41:53.955Z"
   },
   {
    "duration": 188,
    "start_time": "2024-08-16T13:10:16.702Z"
   },
   {
    "duration": 133,
    "start_time": "2024-08-16T13:10:54.278Z"
   },
   {
    "duration": 173,
    "start_time": "2024-08-16T13:11:24.462Z"
   },
   {
    "duration": 76,
    "start_time": "2024-08-16T13:25:25.542Z"
   },
   {
    "duration": 182,
    "start_time": "2024-08-16T13:26:03.848Z"
   },
   {
    "duration": 159,
    "start_time": "2024-08-16T13:26:18.188Z"
   },
   {
    "duration": 156,
    "start_time": "2024-08-16T13:26:39.853Z"
   },
   {
    "duration": 17,
    "start_time": "2024-08-16T13:28:12.201Z"
   },
   {
    "duration": 190,
    "start_time": "2024-08-16T13:29:13.951Z"
   },
   {
    "duration": 156,
    "start_time": "2024-08-16T13:29:32.685Z"
   },
   {
    "duration": 162,
    "start_time": "2024-08-16T13:31:09.475Z"
   },
   {
    "duration": 195,
    "start_time": "2024-08-16T13:31:40.108Z"
   },
   {
    "duration": 164,
    "start_time": "2024-08-16T13:31:50.206Z"
   },
   {
    "duration": 185,
    "start_time": "2024-08-16T13:32:32.653Z"
   },
   {
    "duration": 145,
    "start_time": "2024-08-16T13:34:32.436Z"
   },
   {
    "duration": 156,
    "start_time": "2024-08-16T13:34:36.519Z"
   },
   {
    "duration": 156,
    "start_time": "2024-08-16T13:34:50.564Z"
   },
   {
    "duration": 284,
    "start_time": "2024-08-16T13:35:21.986Z"
   },
   {
    "duration": 704,
    "start_time": "2024-08-16T13:35:40.099Z"
   },
   {
    "duration": 71,
    "start_time": "2024-08-16T13:36:43.412Z"
   },
   {
    "duration": 276,
    "start_time": "2024-08-16T13:36:50.100Z"
   },
   {
    "duration": 481,
    "start_time": "2024-08-16T13:37:01.161Z"
   },
   {
    "duration": 174,
    "start_time": "2024-08-16T13:57:04.697Z"
   },
   {
    "duration": 24,
    "start_time": "2024-08-16T14:22:15.374Z"
   },
   {
    "duration": 82,
    "start_time": "2024-08-16T14:23:07.658Z"
   },
   {
    "duration": 21,
    "start_time": "2024-08-16T14:24:18.283Z"
   },
   {
    "duration": 21,
    "start_time": "2024-08-16T14:24:41.090Z"
   },
   {
    "duration": 20,
    "start_time": "2024-08-16T14:24:50.995Z"
   },
   {
    "duration": 17,
    "start_time": "2024-08-16T14:30:19.625Z"
   },
   {
    "duration": 19,
    "start_time": "2024-08-16T14:30:42.762Z"
   },
   {
    "duration": 21,
    "start_time": "2024-08-16T14:33:30.011Z"
   },
   {
    "duration": 5,
    "start_time": "2024-08-16T14:35:37.363Z"
   },
   {
    "duration": 12,
    "start_time": "2024-08-16T14:36:43.928Z"
   },
   {
    "duration": 1187,
    "start_time": "2024-08-16T14:41:34.680Z"
   },
   {
    "duration": 63,
    "start_time": "2024-08-16T14:54:22.988Z"
   },
   {
    "duration": 1045,
    "start_time": "2024-08-16T14:55:15.213Z"
   },
   {
    "duration": 22,
    "start_time": "2024-08-16T14:55:44.991Z"
   },
   {
    "duration": 26,
    "start_time": "2024-08-16T14:56:06.573Z"
   },
   {
    "duration": 983,
    "start_time": "2024-08-16T14:56:15.809Z"
   },
   {
    "duration": 28,
    "start_time": "2024-08-16T14:56:24.722Z"
   },
   {
    "duration": 22,
    "start_time": "2024-08-16T14:58:34.611Z"
   },
   {
    "duration": 30,
    "start_time": "2024-08-16T14:59:02.442Z"
   },
   {
    "duration": 30,
    "start_time": "2024-08-16T14:59:13.333Z"
   },
   {
    "duration": 22,
    "start_time": "2024-08-16T14:59:24.320Z"
   },
   {
    "duration": 18,
    "start_time": "2024-08-16T14:59:28.259Z"
   },
   {
    "duration": 5,
    "start_time": "2024-08-16T14:59:45.654Z"
   },
   {
    "duration": 6,
    "start_time": "2024-08-16T14:59:55.355Z"
   },
   {
    "duration": 8,
    "start_time": "2024-08-16T15:00:38.936Z"
   },
   {
    "duration": 15,
    "start_time": "2024-08-16T15:00:48.348Z"
   },
   {
    "duration": 16,
    "start_time": "2024-08-16T15:00:51.290Z"
   },
   {
    "duration": 20,
    "start_time": "2024-08-16T15:01:04.487Z"
   },
   {
    "duration": 8,
    "start_time": "2024-08-16T15:01:26.151Z"
   },
   {
    "duration": 8,
    "start_time": "2024-08-16T15:04:28.426Z"
   },
   {
    "duration": 20,
    "start_time": "2024-08-16T15:14:34.492Z"
   },
   {
    "duration": 1482,
    "start_time": "2024-08-16T15:15:00.666Z"
   },
   {
    "duration": 7,
    "start_time": "2024-08-16T15:15:19.471Z"
   },
   {
    "duration": 44,
    "start_time": "2024-08-16T15:15:30.218Z"
   },
   {
    "duration": 73,
    "start_time": "2024-08-16T15:16:51.566Z"
   },
   {
    "duration": 14,
    "start_time": "2024-08-16T15:16:59.937Z"
   },
   {
    "duration": 20,
    "start_time": "2024-08-16T15:19:07.633Z"
   },
   {
    "duration": 20,
    "start_time": "2024-08-16T15:19:34.641Z"
   },
   {
    "duration": 1376,
    "start_time": "2024-08-16T15:27:13.752Z"
   },
   {
    "duration": 15,
    "start_time": "2024-08-16T15:27:15.130Z"
   },
   {
    "duration": 1990,
    "start_time": "2024-08-16T15:27:15.146Z"
   },
   {
    "duration": 4,
    "start_time": "2024-08-16T15:27:17.138Z"
   },
   {
    "duration": 16,
    "start_time": "2024-08-16T15:27:17.144Z"
   },
   {
    "duration": 71,
    "start_time": "2024-08-16T15:27:17.161Z"
   },
   {
    "duration": 34,
    "start_time": "2024-08-16T15:27:17.234Z"
   },
   {
    "duration": 11,
    "start_time": "2024-08-16T15:27:17.269Z"
   },
   {
    "duration": 9,
    "start_time": "2024-08-16T15:27:17.282Z"
   },
   {
    "duration": 28,
    "start_time": "2024-08-16T15:27:17.293Z"
   },
   {
    "duration": 66,
    "start_time": "2024-08-16T15:27:17.323Z"
   },
   {
    "duration": 5,
    "start_time": "2024-08-16T15:27:17.390Z"
   },
   {
    "duration": 3,
    "start_time": "2024-08-16T15:27:17.397Z"
   },
   {
    "duration": 65,
    "start_time": "2024-08-16T15:27:17.401Z"
   },
   {
    "duration": 8,
    "start_time": "2024-08-16T15:27:17.468Z"
   },
   {
    "duration": 39,
    "start_time": "2024-08-16T15:27:17.477Z"
   },
   {
    "duration": 4,
    "start_time": "2024-08-16T15:27:17.517Z"
   },
   {
    "duration": 65,
    "start_time": "2024-08-16T15:27:17.523Z"
   },
   {
    "duration": 4,
    "start_time": "2024-08-16T15:27:17.590Z"
   },
   {
    "duration": 25,
    "start_time": "2024-08-16T15:27:17.595Z"
   },
   {
    "duration": 5,
    "start_time": "2024-08-16T15:27:17.622Z"
   },
   {
    "duration": 16,
    "start_time": "2024-08-16T15:27:17.629Z"
   },
   {
    "duration": 56,
    "start_time": "2024-08-16T15:27:17.646Z"
   },
   {
    "duration": 38,
    "start_time": "2024-08-16T15:27:17.704Z"
   },
   {
    "duration": 25,
    "start_time": "2024-08-16T15:27:17.743Z"
   },
   {
    "duration": 12,
    "start_time": "2024-08-16T15:27:17.770Z"
   },
   {
    "duration": 12,
    "start_time": "2024-08-16T15:27:17.784Z"
   },
   {
    "duration": 7,
    "start_time": "2024-08-16T15:27:17.800Z"
   },
   {
    "duration": 9,
    "start_time": "2024-08-16T15:27:17.809Z"
   },
   {
    "duration": 47,
    "start_time": "2024-08-16T15:27:17.820Z"
   },
   {
    "duration": 14,
    "start_time": "2024-08-16T15:27:17.869Z"
   },
   {
    "duration": 23,
    "start_time": "2024-08-16T15:27:17.885Z"
   },
   {
    "duration": 20,
    "start_time": "2024-08-16T15:27:17.910Z"
   },
   {
    "duration": 45,
    "start_time": "2024-08-16T15:27:17.931Z"
   },
   {
    "duration": 163,
    "start_time": "2024-08-16T15:27:17.977Z"
   },
   {
    "duration": 25,
    "start_time": "2024-08-16T15:27:18.141Z"
   },
   {
    "duration": 19,
    "start_time": "2024-08-16T15:27:18.168Z"
   },
   {
    "duration": 362,
    "start_time": "2024-08-16T15:27:18.189Z"
   },
   {
    "duration": 13,
    "start_time": "2024-08-16T15:27:18.553Z"
   },
   {
    "duration": 12,
    "start_time": "2024-08-16T15:27:18.568Z"
   },
   {
    "duration": 41,
    "start_time": "2024-08-16T15:27:18.582Z"
   },
   {
    "duration": 321,
    "start_time": "2024-08-16T15:27:18.625Z"
   },
   {
    "duration": 8,
    "start_time": "2024-08-16T15:27:18.947Z"
   },
   {
    "duration": 36,
    "start_time": "2024-08-16T15:27:18.965Z"
   },
   {
    "duration": 8,
    "start_time": "2024-08-16T15:27:19.002Z"
   },
   {
    "duration": 308,
    "start_time": "2024-08-16T15:27:19.011Z"
   },
   {
    "duration": 8,
    "start_time": "2024-08-16T15:27:19.320Z"
   },
   {
    "duration": 17,
    "start_time": "2024-08-16T15:27:19.329Z"
   },
   {
    "duration": 38,
    "start_time": "2024-08-16T15:27:19.364Z"
   },
   {
    "duration": 14,
    "start_time": "2024-08-16T15:27:19.404Z"
   },
   {
    "duration": 58,
    "start_time": "2024-08-16T15:27:19.420Z"
   },
   {
    "duration": 440,
    "start_time": "2024-08-16T15:27:19.480Z"
   },
   {
    "duration": 9,
    "start_time": "2024-08-16T15:27:19.922Z"
   },
   {
    "duration": 7,
    "start_time": "2024-08-16T15:27:19.933Z"
   },
   {
    "duration": 42,
    "start_time": "2024-08-16T15:27:19.941Z"
   },
   {
    "duration": 17,
    "start_time": "2024-08-16T15:27:19.985Z"
   },
   {
    "duration": 41,
    "start_time": "2024-08-16T15:27:20.006Z"
   },
   {
    "duration": 39,
    "start_time": "2024-08-16T15:27:20.049Z"
   },
   {
    "duration": 205,
    "start_time": "2024-08-16T15:27:20.091Z"
   },
   {
    "duration": 140,
    "start_time": "2024-08-16T15:27:20.297Z"
   },
   {
    "duration": 11,
    "start_time": "2024-08-16T15:27:20.438Z"
   },
   {
    "duration": 20,
    "start_time": "2024-08-16T15:27:20.450Z"
   },
   {
    "duration": 194,
    "start_time": "2024-08-16T15:27:20.471Z"
   },
   {
    "duration": 9,
    "start_time": "2024-08-16T15:27:20.667Z"
   },
   {
    "duration": 20,
    "start_time": "2024-08-16T15:27:20.678Z"
   },
   {
    "duration": 287,
    "start_time": "2024-08-16T15:27:20.700Z"
   },
   {
    "duration": 10,
    "start_time": "2024-08-16T15:27:20.988Z"
   },
   {
    "duration": 201,
    "start_time": "2024-08-16T15:27:21.000Z"
   },
   {
    "duration": 10,
    "start_time": "2024-08-16T15:27:21.203Z"
   },
   {
    "duration": 182,
    "start_time": "2024-08-16T15:27:21.214Z"
   },
   {
    "duration": 10,
    "start_time": "2024-08-16T15:27:21.398Z"
   },
   {
    "duration": 543,
    "start_time": "2024-08-16T15:27:21.410Z"
   },
   {
    "duration": 271,
    "start_time": "2024-08-16T15:27:21.955Z"
   },
   {
    "duration": 48,
    "start_time": "2024-08-16T15:27:22.236Z"
   },
   {
    "duration": 94,
    "start_time": "2024-08-16T15:27:22.286Z"
   },
   {
    "duration": 5,
    "start_time": "2024-08-16T15:27:22.382Z"
   },
   {
    "duration": 245,
    "start_time": "2024-08-16T15:27:22.389Z"
   },
   {
    "duration": 5,
    "start_time": "2024-08-16T15:27:22.636Z"
   },
   {
    "duration": 243,
    "start_time": "2024-08-16T15:27:22.642Z"
   },
   {
    "duration": 5,
    "start_time": "2024-08-16T15:27:22.887Z"
   },
   {
    "duration": 233,
    "start_time": "2024-08-16T15:27:22.893Z"
   },
   {
    "duration": 6,
    "start_time": "2024-08-16T15:27:23.131Z"
   },
   {
    "duration": 232,
    "start_time": "2024-08-16T15:27:23.138Z"
   },
   {
    "duration": 195,
    "start_time": "2024-08-16T15:27:23.372Z"
   },
   {
    "duration": 487,
    "start_time": "2024-08-16T15:27:23.568Z"
   },
   {
    "duration": 26,
    "start_time": "2024-08-16T15:27:24.057Z"
   },
   {
    "duration": 26,
    "start_time": "2024-08-16T15:27:24.084Z"
   },
   {
    "duration": 24,
    "start_time": "2024-08-16T15:27:24.112Z"
   },
   {
    "duration": 237,
    "start_time": "2024-08-16T15:29:26.792Z"
   },
   {
    "duration": 103,
    "start_time": "2024-08-16T15:29:38.322Z"
   },
   {
    "duration": 273,
    "start_time": "2024-08-16T15:29:46.260Z"
   },
   {
    "duration": 106730,
    "start_time": "2024-08-16T15:30:01.108Z"
   },
   {
    "duration": 107501,
    "start_time": "2024-08-16T15:32:16.805Z"
   },
   {
    "duration": 15,
    "start_time": "2024-08-16T15:34:04.326Z"
   },
   {
    "duration": 326,
    "start_time": "2024-08-16T15:34:22.574Z"
   },
   {
    "duration": 21,
    "start_time": "2024-08-16T15:34:35.994Z"
   },
   {
    "duration": 2027,
    "start_time": "2024-08-16T18:54:08.950Z"
   },
   {
    "duration": 15,
    "start_time": "2024-08-16T18:54:10.978Z"
   },
   {
    "duration": 1785,
    "start_time": "2024-08-16T18:54:10.994Z"
   },
   {
    "duration": 4,
    "start_time": "2024-08-16T18:54:12.781Z"
   },
   {
    "duration": 37,
    "start_time": "2024-08-16T18:54:12.786Z"
   },
   {
    "duration": 95,
    "start_time": "2024-08-16T18:54:12.824Z"
   },
   {
    "duration": 34,
    "start_time": "2024-08-16T18:54:12.920Z"
   },
   {
    "duration": 12,
    "start_time": "2024-08-16T18:54:12.955Z"
   },
   {
    "duration": 9,
    "start_time": "2024-08-16T18:54:12.968Z"
   },
   {
    "duration": 52,
    "start_time": "2024-08-16T18:54:12.979Z"
   },
   {
    "duration": 37,
    "start_time": "2024-08-16T18:54:13.033Z"
   },
   {
    "duration": 4,
    "start_time": "2024-08-16T18:54:13.071Z"
   },
   {
    "duration": 9,
    "start_time": "2024-08-16T18:54:13.076Z"
   },
   {
    "duration": 49,
    "start_time": "2024-08-16T18:54:13.086Z"
   },
   {
    "duration": 8,
    "start_time": "2024-08-16T18:54:13.137Z"
   },
   {
    "duration": 38,
    "start_time": "2024-08-16T18:54:13.147Z"
   },
   {
    "duration": 5,
    "start_time": "2024-08-16T18:54:13.206Z"
   },
   {
    "duration": 35,
    "start_time": "2024-08-16T18:54:13.212Z"
   },
   {
    "duration": 3,
    "start_time": "2024-08-16T18:54:13.249Z"
   },
   {
    "duration": 24,
    "start_time": "2024-08-16T18:54:13.253Z"
   },
   {
    "duration": 28,
    "start_time": "2024-08-16T18:54:13.279Z"
   },
   {
    "duration": 7,
    "start_time": "2024-08-16T18:54:13.308Z"
   },
   {
    "duration": 48,
    "start_time": "2024-08-16T18:54:13.317Z"
   },
   {
    "duration": 8,
    "start_time": "2024-08-16T18:54:13.367Z"
   },
   {
    "duration": 9,
    "start_time": "2024-08-16T18:54:13.377Z"
   },
   {
    "duration": 21,
    "start_time": "2024-08-16T18:54:13.387Z"
   },
   {
    "duration": 9,
    "start_time": "2024-08-16T18:54:13.409Z"
   },
   {
    "duration": 88,
    "start_time": "2024-08-16T18:54:13.422Z"
   },
   {
    "duration": 14,
    "start_time": "2024-08-16T18:54:13.512Z"
   },
   {
    "duration": 14,
    "start_time": "2024-08-16T18:54:13.527Z"
   },
   {
    "duration": 13,
    "start_time": "2024-08-16T18:54:13.542Z"
   },
   {
    "duration": 20,
    "start_time": "2024-08-16T18:54:13.556Z"
   },
   {
    "duration": 39,
    "start_time": "2024-08-16T18:54:13.577Z"
   },
   {
    "duration": 16,
    "start_time": "2024-08-16T18:54:13.617Z"
   },
   {
    "duration": 158,
    "start_time": "2024-08-16T18:54:13.635Z"
   },
   {
    "duration": 25,
    "start_time": "2024-08-16T18:54:13.795Z"
   },
   {
    "duration": 35,
    "start_time": "2024-08-16T18:54:13.821Z"
   },
   {
    "duration": 309,
    "start_time": "2024-08-16T18:54:13.857Z"
   },
   {
    "duration": 11,
    "start_time": "2024-08-16T18:54:14.167Z"
   },
   {
    "duration": 10,
    "start_time": "2024-08-16T18:54:14.179Z"
   },
   {
    "duration": 36,
    "start_time": "2024-08-16T18:54:14.191Z"
   },
   {
    "duration": 296,
    "start_time": "2024-08-16T18:54:14.229Z"
   },
   {
    "duration": 8,
    "start_time": "2024-08-16T18:54:14.527Z"
   },
   {
    "duration": 32,
    "start_time": "2024-08-16T18:54:14.537Z"
   },
   {
    "duration": 7,
    "start_time": "2024-08-16T18:54:14.570Z"
   },
   {
    "duration": 298,
    "start_time": "2024-08-16T18:54:14.578Z"
   },
   {
    "duration": 7,
    "start_time": "2024-08-16T18:54:14.878Z"
   },
   {
    "duration": 28,
    "start_time": "2024-08-16T18:54:14.886Z"
   },
   {
    "duration": 36,
    "start_time": "2024-08-16T18:54:14.916Z"
   },
   {
    "duration": 14,
    "start_time": "2024-08-16T18:54:14.953Z"
   },
   {
    "duration": 60,
    "start_time": "2024-08-16T18:54:14.968Z"
   },
   {
    "duration": 448,
    "start_time": "2024-08-16T18:54:15.030Z"
   },
   {
    "duration": 8,
    "start_time": "2024-08-16T18:54:15.479Z"
   },
   {
    "duration": 20,
    "start_time": "2024-08-16T18:54:15.488Z"
   },
   {
    "duration": 14,
    "start_time": "2024-08-16T18:54:15.509Z"
   },
   {
    "duration": 7,
    "start_time": "2024-08-16T18:54:15.524Z"
   },
   {
    "duration": 5,
    "start_time": "2024-08-16T18:54:15.532Z"
   },
   {
    "duration": 21,
    "start_time": "2024-08-16T18:54:15.539Z"
   },
   {
    "duration": 194,
    "start_time": "2024-08-16T18:54:15.562Z"
   },
   {
    "duration": 122,
    "start_time": "2024-08-16T18:54:15.758Z"
   },
   {
    "duration": 8,
    "start_time": "2024-08-16T18:54:15.881Z"
   },
   {
    "duration": 17,
    "start_time": "2024-08-16T18:54:15.890Z"
   },
   {
    "duration": 185,
    "start_time": "2024-08-16T18:54:15.909Z"
   },
   {
    "duration": 12,
    "start_time": "2024-08-16T18:54:16.096Z"
   },
   {
    "duration": 13,
    "start_time": "2024-08-16T18:54:16.109Z"
   },
   {
    "duration": 268,
    "start_time": "2024-08-16T18:54:16.123Z"
   },
   {
    "duration": 17,
    "start_time": "2024-08-16T18:54:16.393Z"
   },
   {
    "duration": 180,
    "start_time": "2024-08-16T18:54:16.412Z"
   },
   {
    "duration": 17,
    "start_time": "2024-08-16T18:54:16.593Z"
   },
   {
    "duration": 156,
    "start_time": "2024-08-16T18:54:16.612Z"
   },
   {
    "duration": 10,
    "start_time": "2024-08-16T18:54:16.769Z"
   },
   {
    "duration": 472,
    "start_time": "2024-08-16T18:54:16.780Z"
   },
   {
    "duration": 266,
    "start_time": "2024-08-16T18:54:17.254Z"
   },
   {
    "duration": 38,
    "start_time": "2024-08-16T18:54:17.521Z"
   },
   {
    "duration": 84,
    "start_time": "2024-08-16T18:54:17.560Z"
   },
   {
    "duration": 5,
    "start_time": "2024-08-16T18:54:17.645Z"
   },
   {
    "duration": 226,
    "start_time": "2024-08-16T18:54:17.651Z"
   },
   {
    "duration": 5,
    "start_time": "2024-08-16T18:54:17.879Z"
   },
   {
    "duration": 222,
    "start_time": "2024-08-16T18:54:17.885Z"
   },
   {
    "duration": 5,
    "start_time": "2024-08-16T18:54:18.108Z"
   },
   {
    "duration": 205,
    "start_time": "2024-08-16T18:54:18.114Z"
   },
   {
    "duration": 5,
    "start_time": "2024-08-16T18:54:18.324Z"
   },
   {
    "duration": 200,
    "start_time": "2024-08-16T18:54:18.331Z"
   },
   {
    "duration": 172,
    "start_time": "2024-08-16T18:54:18.532Z"
   },
   {
    "duration": 428,
    "start_time": "2024-08-16T18:54:18.705Z"
   },
   {
    "duration": 20,
    "start_time": "2024-08-16T18:54:19.134Z"
   },
   {
    "duration": 7,
    "start_time": "2024-08-16T18:54:19.155Z"
   },
   {
    "duration": 19,
    "start_time": "2024-08-16T18:54:19.163Z"
   },
   {
    "duration": 316,
    "start_time": "2024-08-16T18:54:19.183Z"
   },
   {
    "duration": 1063,
    "start_time": "2024-08-16T18:56:06.745Z"
   },
   {
    "duration": 15,
    "start_time": "2024-08-16T18:56:12.841Z"
   },
   {
    "duration": 10,
    "start_time": "2024-08-16T18:56:41.128Z"
   },
   {
    "duration": 55,
    "start_time": "2024-08-16T19:02:03.365Z"
   },
   {
    "duration": 8,
    "start_time": "2024-08-16T19:02:16.212Z"
   },
   {
    "duration": 9,
    "start_time": "2024-08-16T19:02:47.171Z"
   },
   {
    "duration": 55,
    "start_time": "2024-08-16T19:04:03.683Z"
   },
   {
    "duration": 8,
    "start_time": "2024-08-16T19:05:55.731Z"
   },
   {
    "duration": 10,
    "start_time": "2024-08-16T19:08:32.876Z"
   },
   {
    "duration": 13,
    "start_time": "2024-08-16T19:18:04.756Z"
   },
   {
    "duration": 36,
    "start_time": "2024-08-16T20:05:37.041Z"
   },
   {
    "duration": 30,
    "start_time": "2024-08-16T20:05:48.856Z"
   },
   {
    "duration": 70,
    "start_time": "2024-08-16T20:05:51.469Z"
   },
   {
    "duration": 5,
    "start_time": "2024-08-16T20:05:53.776Z"
   },
   {
    "duration": 203,
    "start_time": "2024-08-16T20:05:54.514Z"
   },
   {
    "duration": 5,
    "start_time": "2024-08-16T20:05:56.265Z"
   },
   {
    "duration": 321,
    "start_time": "2024-08-16T20:05:56.486Z"
   },
   {
    "duration": 5,
    "start_time": "2024-08-16T20:05:57.176Z"
   },
   {
    "duration": 219,
    "start_time": "2024-08-16T20:05:57.279Z"
   },
   {
    "duration": 5,
    "start_time": "2024-08-16T20:05:58.390Z"
   },
   {
    "duration": 177,
    "start_time": "2024-08-16T20:05:58.544Z"
   },
   {
    "duration": 149,
    "start_time": "2024-08-16T20:05:59.359Z"
   },
   {
    "duration": 412,
    "start_time": "2024-08-16T20:06:00.296Z"
   },
   {
    "duration": 19,
    "start_time": "2024-08-16T20:06:01.521Z"
   },
   {
    "duration": 8,
    "start_time": "2024-08-16T20:06:02.047Z"
   },
   {
    "duration": 23,
    "start_time": "2024-08-16T20:06:02.862Z"
   },
   {
    "duration": 288,
    "start_time": "2024-08-16T20:06:03.263Z"
   },
   {
    "duration": 1229,
    "start_time": "2024-08-16T20:47:49.986Z"
   },
   {
    "duration": 13,
    "start_time": "2024-08-16T20:47:51.218Z"
   },
   {
    "duration": 2307,
    "start_time": "2024-08-16T20:47:51.233Z"
   },
   {
    "duration": 4,
    "start_time": "2024-08-16T20:47:53.541Z"
   },
   {
    "duration": 26,
    "start_time": "2024-08-16T20:47:53.547Z"
   },
   {
    "duration": 77,
    "start_time": "2024-08-16T20:47:53.574Z"
   },
   {
    "duration": 23,
    "start_time": "2024-08-16T20:47:53.652Z"
   },
   {
    "duration": 13,
    "start_time": "2024-08-16T20:47:53.677Z"
   },
   {
    "duration": 21,
    "start_time": "2024-08-16T20:47:53.692Z"
   },
   {
    "duration": 27,
    "start_time": "2024-08-16T20:47:53.715Z"
   },
   {
    "duration": 12,
    "start_time": "2024-08-16T20:47:53.743Z"
   },
   {
    "duration": 5,
    "start_time": "2024-08-16T20:47:53.756Z"
   },
   {
    "duration": 3,
    "start_time": "2024-08-16T20:47:53.762Z"
   },
   {
    "duration": 65,
    "start_time": "2024-08-16T20:47:53.766Z"
   },
   {
    "duration": 8,
    "start_time": "2024-08-16T20:47:53.833Z"
   },
   {
    "duration": 69,
    "start_time": "2024-08-16T20:47:53.842Z"
   },
   {
    "duration": 3,
    "start_time": "2024-08-16T20:47:53.913Z"
   },
   {
    "duration": 36,
    "start_time": "2024-08-16T20:47:53.918Z"
   },
   {
    "duration": 4,
    "start_time": "2024-08-16T20:47:53.956Z"
   },
   {
    "duration": 22,
    "start_time": "2024-08-16T20:47:53.962Z"
   },
   {
    "duration": 26,
    "start_time": "2024-08-16T20:47:53.986Z"
   },
   {
    "duration": 7,
    "start_time": "2024-08-16T20:47:54.014Z"
   },
   {
    "duration": 32,
    "start_time": "2024-08-16T20:47:54.022Z"
   },
   {
    "duration": 8,
    "start_time": "2024-08-16T20:47:54.055Z"
   },
   {
    "duration": 7,
    "start_time": "2024-08-16T20:47:54.064Z"
   },
   {
    "duration": 39,
    "start_time": "2024-08-16T20:47:54.073Z"
   },
   {
    "duration": 9,
    "start_time": "2024-08-16T20:47:54.113Z"
   },
   {
    "duration": 7,
    "start_time": "2024-08-16T20:47:54.126Z"
   },
   {
    "duration": 14,
    "start_time": "2024-08-16T20:47:54.135Z"
   },
   {
    "duration": 12,
    "start_time": "2024-08-16T20:47:54.150Z"
   },
   {
    "duration": 50,
    "start_time": "2024-08-16T20:47:54.163Z"
   },
   {
    "duration": 18,
    "start_time": "2024-08-16T20:47:54.214Z"
   },
   {
    "duration": 38,
    "start_time": "2024-08-16T20:47:54.233Z"
   },
   {
    "duration": 152,
    "start_time": "2024-08-16T20:47:54.273Z"
   },
   {
    "duration": 17,
    "start_time": "2024-08-16T20:47:54.427Z"
   },
   {
    "duration": 30,
    "start_time": "2024-08-16T20:47:54.446Z"
   },
   {
    "duration": 321,
    "start_time": "2024-08-16T20:47:54.478Z"
   },
   {
    "duration": 14,
    "start_time": "2024-08-16T20:47:54.801Z"
   },
   {
    "duration": 7,
    "start_time": "2024-08-16T20:47:54.816Z"
   },
   {
    "duration": 25,
    "start_time": "2024-08-16T20:47:54.824Z"
   },
   {
    "duration": 280,
    "start_time": "2024-08-16T20:47:54.850Z"
   },
   {
    "duration": 7,
    "start_time": "2024-08-16T20:47:55.132Z"
   },
   {
    "duration": 91,
    "start_time": "2024-08-16T20:47:55.140Z"
   },
   {
    "duration": 8,
    "start_time": "2024-08-16T20:47:55.232Z"
   },
   {
    "duration": 278,
    "start_time": "2024-08-16T20:47:55.241Z"
   },
   {
    "duration": 8,
    "start_time": "2024-08-16T20:47:55.521Z"
   },
   {
    "duration": 22,
    "start_time": "2024-08-16T20:47:55.530Z"
   },
   {
    "duration": 46,
    "start_time": "2024-08-16T20:47:55.553Z"
   },
   {
    "duration": 12,
    "start_time": "2024-08-16T20:47:55.601Z"
   },
   {
    "duration": 94,
    "start_time": "2024-08-16T20:47:55.615Z"
   },
   {
    "duration": 376,
    "start_time": "2024-08-16T20:47:55.710Z"
   },
   {
    "duration": 8,
    "start_time": "2024-08-16T20:47:56.088Z"
   },
   {
    "duration": 8,
    "start_time": "2024-08-16T20:47:56.106Z"
   },
   {
    "duration": 19,
    "start_time": "2024-08-16T20:47:56.115Z"
   },
   {
    "duration": 5,
    "start_time": "2024-08-16T20:47:56.136Z"
   },
   {
    "duration": 10,
    "start_time": "2024-08-16T20:47:56.143Z"
   },
   {
    "duration": 33,
    "start_time": "2024-08-16T20:47:56.155Z"
   },
   {
    "duration": 187,
    "start_time": "2024-08-16T20:47:56.190Z"
   },
   {
    "duration": 108,
    "start_time": "2024-08-16T20:47:56.379Z"
   },
   {
    "duration": 19,
    "start_time": "2024-08-16T20:47:56.488Z"
   },
   {
    "duration": 9,
    "start_time": "2024-08-16T20:47:56.509Z"
   },
   {
    "duration": 179,
    "start_time": "2024-08-16T20:47:56.519Z"
   },
   {
    "duration": 14,
    "start_time": "2024-08-16T20:47:56.699Z"
   },
   {
    "duration": 35,
    "start_time": "2024-08-16T20:47:56.714Z"
   },
   {
    "duration": 248,
    "start_time": "2024-08-16T20:47:56.750Z"
   },
   {
    "duration": 13,
    "start_time": "2024-08-16T20:47:57.000Z"
   },
   {
    "duration": 181,
    "start_time": "2024-08-16T20:47:57.014Z"
   },
   {
    "duration": 12,
    "start_time": "2024-08-16T20:47:57.197Z"
   },
   {
    "duration": 183,
    "start_time": "2024-08-16T20:47:57.211Z"
   },
   {
    "duration": 12,
    "start_time": "2024-08-16T20:47:57.396Z"
   },
   {
    "duration": 473,
    "start_time": "2024-08-16T20:47:57.409Z"
   },
   {
    "duration": 237,
    "start_time": "2024-08-16T20:47:57.883Z"
   },
   {
    "duration": 32,
    "start_time": "2024-08-16T20:47:58.122Z"
   },
   {
    "duration": 80,
    "start_time": "2024-08-16T20:47:58.156Z"
   },
   {
    "duration": 6,
    "start_time": "2024-08-16T20:47:58.237Z"
   },
   {
    "duration": 212,
    "start_time": "2024-08-16T20:47:58.245Z"
   },
   {
    "duration": 5,
    "start_time": "2024-08-16T20:47:58.459Z"
   },
   {
    "duration": 225,
    "start_time": "2024-08-16T20:47:58.466Z"
   },
   {
    "duration": 15,
    "start_time": "2024-08-16T20:47:58.692Z"
   },
   {
    "duration": 195,
    "start_time": "2024-08-16T20:47:58.708Z"
   },
   {
    "duration": 5,
    "start_time": "2024-08-16T20:47:58.905Z"
   },
   {
    "duration": 204,
    "start_time": "2024-08-16T20:47:58.914Z"
   },
   {
    "duration": 152,
    "start_time": "2024-08-16T20:47:59.119Z"
   },
   {
    "duration": 372,
    "start_time": "2024-08-16T20:47:59.272Z"
   },
   {
    "duration": 20,
    "start_time": "2024-08-16T20:47:59.646Z"
   },
   {
    "duration": 18,
    "start_time": "2024-08-16T20:47:59.668Z"
   },
   {
    "duration": 35,
    "start_time": "2024-08-16T20:47:59.687Z"
   },
   {
    "duration": 285,
    "start_time": "2024-08-16T20:47:59.723Z"
   }
  ],
  "colab": {
   "provenance": []
  },
  "kernelspec": {
   "display_name": "Python 3 (ipykernel)",
   "language": "python",
   "name": "python3"
  },
  "language_info": {
   "codemirror_mode": {
    "name": "ipython",
    "version": 3
   },
   "file_extension": ".py",
   "mimetype": "text/x-python",
   "name": "python",
   "nbconvert_exporter": "python",
   "pygments_lexer": "ipython3",
   "version": "3.12.7"
  },
  "toc": {
   "base_numbering": 1,
   "nav_menu": {},
   "number_sections": true,
   "sideBar": true,
   "skip_h1_title": true,
   "title_cell": "Table of Contents",
   "title_sidebar": "Contents",
   "toc_cell": false,
   "toc_position": {
    "height": "calc(100% - 180px)",
    "left": "10px",
    "top": "150px",
    "width": "226.667px"
   },
   "toc_section_display": true,
   "toc_window_display": true
  }
 },
 "nbformat": 4,
 "nbformat_minor": 4
}

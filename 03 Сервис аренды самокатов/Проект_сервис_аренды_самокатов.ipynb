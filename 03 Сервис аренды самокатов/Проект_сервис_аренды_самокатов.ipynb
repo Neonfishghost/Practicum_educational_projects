{
 "cells": [
  {
   "cell_type": "markdown",
   "id": "bf58ed1d",
   "metadata": {},
   "source": [
    "# Проект: Анализ данных для сервиса аренды самокатов Go Fast\n",
    "\n",
    "Для анализа предоставлены данные сервиса аренды самокатов GoFast, которые включают данные о некоторых пользователях из нескольких городов, а также об их поездках. \n",
    "\n",
    "Чтобы совершать поездки по городу, пользователи сервиса GoFast пользуются мобильным приложением. Сервисом можно пользоваться:\n",
    "* без подписки\n",
    " - абонентская плата отсутствует;\n",
    " - стоимость одной минуты поездки — 8 рублей;\n",
    " - стоимость старта (начала поездки) — 50 рублей;\n",
    "\n",
    "* с подпиской Ultra\n",
    " - абонентская плата — 199 рублей в месяц;\n",
    " - стоимость одной минуты поездки — 6 рублей;\n",
    " - стоимость старта — бесплатно."
   ]
  },
  {
   "cell_type": "markdown",
   "id": "2ada6174",
   "metadata": {},
   "source": [
    "# Описание данных\n",
    "\n",
    "**Пользователи** — users_go.csv\n",
    "* user_id - уникальный идентификатор пользователя\n",
    "* name -\tимя пользователя\n",
    "* age -\tвозраст\n",
    "* city - город\n",
    "* subscription_type - тип подписки (free, ultra)\n",
    "\n",
    "**Поездки** — rides_go.csv\n",
    "* user_id - уникальный идентификатор пользователя\n",
    "* distance - расстояние, которое пользователь проехал в текущей сессии (в метрах)\n",
    "* duration - продолжительность сессии (в минутах) — время с того момента, как пользователь нажал кнопку «Начать поездку» до момента, как он нажал кнопку «Завершить поездку»\n",
    "* date - дата совершения поездки\n",
    "\n",
    "**Подписки** — subscriptions_go.csv\n",
    "* subscription_type - тип подписки\n",
    "* minute_price - стоимость одной минуты поездки по данной подписке\n",
    "* start_ride_price - стоимость начала поездки\n",
    "* subscription_fee - стоимость ежемесячного платежа\n",
    "\n",
    "Нам предстоит проанализировать данные и проверить некоторые гипотезы, которые могут помочь бизнесу вырасти."
   ]
  },
  {
   "cell_type": "code",
   "execution_count": 3,
   "id": "480b9ef0",
   "metadata": {},
   "outputs": [],
   "source": [
    "import pandas as pd\n",
    "import numpy as np\n",
    "import matplotlib.pyplot as plt\n",
    "from scipy import stats as st\n",
    "from scipy.stats import binom\n",
    "from math import sqrt"
   ]
  },
  {
   "cell_type": "markdown",
   "id": "f15a0cc7",
   "metadata": {},
   "source": [
    "## Получаем общую информацию о данных"
   ]
  },
  {
   "cell_type": "code",
   "execution_count": 5,
   "id": "af10b1fb-6489-4c1c-b427-bc8543596b22",
   "metadata": {},
   "outputs": [],
   "source": [
    "try:\n",
    "        users = pd.read_csv('https://code.s3.yandex.net/datasets/users_go.csv')\n",
    "        rides = pd.read_csv('https://code.s3.yandex.net/datasets/rides_go.csv')\n",
    "        subscriptions = pd.read_csv('https://code.s3.yandex.net/datasets/subscriptions_go.csv')\n",
    "except:\n",
    "        users = pd.read_csv('/datasets/users_go.csv')\n",
    "        rides = pd.read_csv('/datasets/rides_go.csv')\n",
    "        subscriptions = pd.read_csv('/datasets/subscriptions_go.csv')"
   ]
  },
  {
   "cell_type": "markdown",
   "id": "2d3a7c26",
   "metadata": {},
   "source": [
    "### Таблица users - пользователи"
   ]
  },
  {
   "cell_type": "code",
   "execution_count": 7,
   "id": "cf062f0e",
   "metadata": {},
   "outputs": [
    {
     "data": {
      "text/html": [
       "<div>\n",
       "<style scoped>\n",
       "    .dataframe tbody tr th:only-of-type {\n",
       "        vertical-align: middle;\n",
       "    }\n",
       "\n",
       "    .dataframe tbody tr th {\n",
       "        vertical-align: top;\n",
       "    }\n",
       "\n",
       "    .dataframe thead th {\n",
       "        text-align: right;\n",
       "    }\n",
       "</style>\n",
       "<table border=\"1\" class=\"dataframe\">\n",
       "  <thead>\n",
       "    <tr style=\"text-align: right;\">\n",
       "      <th></th>\n",
       "      <th>user_id</th>\n",
       "      <th>name</th>\n",
       "      <th>age</th>\n",
       "      <th>city</th>\n",
       "      <th>subscription_type</th>\n",
       "    </tr>\n",
       "  </thead>\n",
       "  <tbody>\n",
       "    <tr>\n",
       "      <th>0</th>\n",
       "      <td>1</td>\n",
       "      <td>Кира</td>\n",
       "      <td>22</td>\n",
       "      <td>Тюмень</td>\n",
       "      <td>ultra</td>\n",
       "    </tr>\n",
       "    <tr>\n",
       "      <th>1</th>\n",
       "      <td>2</td>\n",
       "      <td>Станислав</td>\n",
       "      <td>31</td>\n",
       "      <td>Омск</td>\n",
       "      <td>ultra</td>\n",
       "    </tr>\n",
       "    <tr>\n",
       "      <th>2</th>\n",
       "      <td>3</td>\n",
       "      <td>Алексей</td>\n",
       "      <td>20</td>\n",
       "      <td>Москва</td>\n",
       "      <td>ultra</td>\n",
       "    </tr>\n",
       "    <tr>\n",
       "      <th>3</th>\n",
       "      <td>4</td>\n",
       "      <td>Константин</td>\n",
       "      <td>26</td>\n",
       "      <td>Ростов-на-Дону</td>\n",
       "      <td>ultra</td>\n",
       "    </tr>\n",
       "    <tr>\n",
       "      <th>4</th>\n",
       "      <td>5</td>\n",
       "      <td>Адель</td>\n",
       "      <td>28</td>\n",
       "      <td>Омск</td>\n",
       "      <td>ultra</td>\n",
       "    </tr>\n",
       "  </tbody>\n",
       "</table>\n",
       "</div>"
      ],
      "text/plain": [
       "   user_id        name  age            city subscription_type\n",
       "0        1        Кира   22          Тюмень             ultra\n",
       "1        2   Станислав   31            Омск             ultra\n",
       "2        3     Алексей   20          Москва             ultra\n",
       "3        4  Константин   26  Ростов-на-Дону             ultra\n",
       "4        5       Адель   28            Омск             ultra"
      ]
     },
     "execution_count": 7,
     "metadata": {},
     "output_type": "execute_result"
    }
   ],
   "source": [
    "users.head()"
   ]
  },
  {
   "cell_type": "code",
   "execution_count": 8,
   "id": "37c90aae",
   "metadata": {},
   "outputs": [
    {
     "name": "stdout",
     "output_type": "stream",
     "text": [
      "<class 'pandas.core.frame.DataFrame'>\n",
      "RangeIndex: 1565 entries, 0 to 1564\n",
      "Data columns (total 5 columns):\n",
      " #   Column             Non-Null Count  Dtype \n",
      "---  ------             --------------  ----- \n",
      " 0   user_id            1565 non-null   int64 \n",
      " 1   name               1565 non-null   object\n",
      " 2   age                1565 non-null   int64 \n",
      " 3   city               1565 non-null   object\n",
      " 4   subscription_type  1565 non-null   object\n",
      "dtypes: int64(2), object(3)\n",
      "memory usage: 61.3+ KB\n"
     ]
    }
   ],
   "source": [
    "users.info()"
   ]
  },
  {
   "cell_type": "code",
   "execution_count": 9,
   "id": "82f062d3",
   "metadata": {},
   "outputs": [
    {
     "data": {
      "text/plain": [
       "(1565, 5)"
      ]
     },
     "execution_count": 9,
     "metadata": {},
     "output_type": "execute_result"
    }
   ],
   "source": [
    "users.shape"
   ]
  },
  {
   "cell_type": "markdown",
   "id": "5f0f8d5f",
   "metadata": {},
   "source": [
    "Датафрейм \"users\" содержит информацию о пользователях сервиса аренды самокатов. Хранит 1565 записей в 5 колонках.\n",
    "\n",
    "<div class=\"alert alert-block alert-info\">\n",
    "Названия столбцов корректны, пропусков нет, тип данных соответствует ожидаемому\n",
    "</div>"
   ]
  },
  {
   "cell_type": "markdown",
   "id": "12c492a3",
   "metadata": {},
   "source": [
    "### Таблица rides - поездки"
   ]
  },
  {
   "cell_type": "code",
   "execution_count": 12,
   "id": "b3cfef97",
   "metadata": {},
   "outputs": [
    {
     "data": {
      "text/html": [
       "<div>\n",
       "<style scoped>\n",
       "    .dataframe tbody tr th:only-of-type {\n",
       "        vertical-align: middle;\n",
       "    }\n",
       "\n",
       "    .dataframe tbody tr th {\n",
       "        vertical-align: top;\n",
       "    }\n",
       "\n",
       "    .dataframe thead th {\n",
       "        text-align: right;\n",
       "    }\n",
       "</style>\n",
       "<table border=\"1\" class=\"dataframe\">\n",
       "  <thead>\n",
       "    <tr style=\"text-align: right;\">\n",
       "      <th></th>\n",
       "      <th>user_id</th>\n",
       "      <th>distance</th>\n",
       "      <th>duration</th>\n",
       "      <th>date</th>\n",
       "    </tr>\n",
       "  </thead>\n",
       "  <tbody>\n",
       "    <tr>\n",
       "      <th>0</th>\n",
       "      <td>1</td>\n",
       "      <td>4409.919140</td>\n",
       "      <td>25.599769</td>\n",
       "      <td>2021-01-01</td>\n",
       "    </tr>\n",
       "    <tr>\n",
       "      <th>1</th>\n",
       "      <td>1</td>\n",
       "      <td>2617.592153</td>\n",
       "      <td>15.816871</td>\n",
       "      <td>2021-01-18</td>\n",
       "    </tr>\n",
       "    <tr>\n",
       "      <th>2</th>\n",
       "      <td>1</td>\n",
       "      <td>754.159807</td>\n",
       "      <td>6.232113</td>\n",
       "      <td>2021-04-20</td>\n",
       "    </tr>\n",
       "    <tr>\n",
       "      <th>3</th>\n",
       "      <td>1</td>\n",
       "      <td>2694.783254</td>\n",
       "      <td>18.511000</td>\n",
       "      <td>2021-08-11</td>\n",
       "    </tr>\n",
       "    <tr>\n",
       "      <th>4</th>\n",
       "      <td>1</td>\n",
       "      <td>4028.687306</td>\n",
       "      <td>26.265803</td>\n",
       "      <td>2021-08-28</td>\n",
       "    </tr>\n",
       "  </tbody>\n",
       "</table>\n",
       "</div>"
      ],
      "text/plain": [
       "   user_id     distance   duration        date\n",
       "0        1  4409.919140  25.599769  2021-01-01\n",
       "1        1  2617.592153  15.816871  2021-01-18\n",
       "2        1   754.159807   6.232113  2021-04-20\n",
       "3        1  2694.783254  18.511000  2021-08-11\n",
       "4        1  4028.687306  26.265803  2021-08-28"
      ]
     },
     "execution_count": 12,
     "metadata": {},
     "output_type": "execute_result"
    }
   ],
   "source": [
    "rides.head()"
   ]
  },
  {
   "cell_type": "code",
   "execution_count": 13,
   "id": "c7ca27ab",
   "metadata": {},
   "outputs": [
    {
     "name": "stdout",
     "output_type": "stream",
     "text": [
      "<class 'pandas.core.frame.DataFrame'>\n",
      "RangeIndex: 18068 entries, 0 to 18067\n",
      "Data columns (total 4 columns):\n",
      " #   Column    Non-Null Count  Dtype  \n",
      "---  ------    --------------  -----  \n",
      " 0   user_id   18068 non-null  int64  \n",
      " 1   distance  18068 non-null  float64\n",
      " 2   duration  18068 non-null  float64\n",
      " 3   date      18068 non-null  object \n",
      "dtypes: float64(2), int64(1), object(1)\n",
      "memory usage: 564.8+ KB\n"
     ]
    }
   ],
   "source": [
    "rides.info()"
   ]
  },
  {
   "cell_type": "code",
   "execution_count": 14,
   "id": "6cfa2b13",
   "metadata": {},
   "outputs": [
    {
     "data": {
      "text/plain": [
       "(18068, 4)"
      ]
     },
     "execution_count": 14,
     "metadata": {},
     "output_type": "execute_result"
    }
   ],
   "source": [
    "rides.shape"
   ]
  },
  {
   "cell_type": "markdown",
   "id": "e2d73d3c",
   "metadata": {},
   "source": [
    "<a id='right_here'></a>"
   ]
  },
  {
   "cell_type": "code",
   "execution_count": 16,
   "id": "9261e6b8",
   "metadata": {},
   "outputs": [
    {
     "name": "stdout",
     "output_type": "stream",
     "text": [
      "2021-01-01\n",
      "2021-12-30\n"
     ]
    }
   ],
   "source": [
    "print(rides['date'].min())\n",
    "print(rides['date'].max())"
   ]
  },
  {
   "cell_type": "markdown",
   "id": "6bcb4162",
   "metadata": {},
   "source": [
    "Датафрейм \"rides\" содержит информацию о поездках, совершенных пользователями сервиса в период с января по декабрь 2021 года. Хранит 18068 записей в 4 колонках. \n",
    "<div class=\"alert alert-block alert-info\">\n",
    "Названия столбцов корректны, пропусков нет, данные в столбце date имеют тип object - нужно будет скорректировать.\n",
    "</div>"
   ]
  },
  {
   "cell_type": "markdown",
   "id": "3d42fd66",
   "metadata": {},
   "source": [
    "### Таблица subscriptions - подписки"
   ]
  },
  {
   "cell_type": "code",
   "execution_count": 19,
   "id": "ea910faa",
   "metadata": {},
   "outputs": [
    {
     "data": {
      "text/html": [
       "<div>\n",
       "<style scoped>\n",
       "    .dataframe tbody tr th:only-of-type {\n",
       "        vertical-align: middle;\n",
       "    }\n",
       "\n",
       "    .dataframe tbody tr th {\n",
       "        vertical-align: top;\n",
       "    }\n",
       "\n",
       "    .dataframe thead th {\n",
       "        text-align: right;\n",
       "    }\n",
       "</style>\n",
       "<table border=\"1\" class=\"dataframe\">\n",
       "  <thead>\n",
       "    <tr style=\"text-align: right;\">\n",
       "      <th></th>\n",
       "      <th>subscription_type</th>\n",
       "      <th>minute_price</th>\n",
       "      <th>start_ride_price</th>\n",
       "      <th>subscription_fee</th>\n",
       "    </tr>\n",
       "  </thead>\n",
       "  <tbody>\n",
       "    <tr>\n",
       "      <th>0</th>\n",
       "      <td>free</td>\n",
       "      <td>8</td>\n",
       "      <td>50</td>\n",
       "      <td>0</td>\n",
       "    </tr>\n",
       "    <tr>\n",
       "      <th>1</th>\n",
       "      <td>ultra</td>\n",
       "      <td>6</td>\n",
       "      <td>0</td>\n",
       "      <td>199</td>\n",
       "    </tr>\n",
       "  </tbody>\n",
       "</table>\n",
       "</div>"
      ],
      "text/plain": [
       "  subscription_type  minute_price  start_ride_price  subscription_fee\n",
       "0              free             8                50                 0\n",
       "1             ultra             6                 0               199"
      ]
     },
     "execution_count": 19,
     "metadata": {},
     "output_type": "execute_result"
    }
   ],
   "source": [
    "subscriptions.head()"
   ]
  },
  {
   "cell_type": "code",
   "execution_count": 20,
   "id": "8c23fe56",
   "metadata": {},
   "outputs": [
    {
     "name": "stdout",
     "output_type": "stream",
     "text": [
      "<class 'pandas.core.frame.DataFrame'>\n",
      "RangeIndex: 2 entries, 0 to 1\n",
      "Data columns (total 4 columns):\n",
      " #   Column             Non-Null Count  Dtype \n",
      "---  ------             --------------  ----- \n",
      " 0   subscription_type  2 non-null      object\n",
      " 1   minute_price       2 non-null      int64 \n",
      " 2   start_ride_price   2 non-null      int64 \n",
      " 3   subscription_fee   2 non-null      int64 \n",
      "dtypes: int64(3), object(1)\n",
      "memory usage: 196.0+ bytes\n"
     ]
    }
   ],
   "source": [
    "subscriptions.info()"
   ]
  },
  {
   "cell_type": "code",
   "execution_count": 21,
   "id": "14364314",
   "metadata": {},
   "outputs": [
    {
     "data": {
      "text/plain": [
       "(2, 4)"
      ]
     },
     "execution_count": 21,
     "metadata": {},
     "output_type": "execute_result"
    }
   ],
   "source": [
    "subscriptions.shape"
   ]
  },
  {
   "cell_type": "markdown",
   "id": "9d3d74e6",
   "metadata": {},
   "source": [
    "Таблица subscriptions содержит информацию о типах подписок сервиса. \n",
    "\n",
    "<div class=\"alert alert-block alert-info\">\n",
    "Названия столбцов корректны, пропусков нет, тип данных соответствует ожидаемому.\n",
    "</div>"
   ]
  },
  {
   "cell_type": "markdown",
   "id": "9aa193c2",
   "metadata": {},
   "source": [
    "## Предобработка данных"
   ]
  },
  {
   "cell_type": "markdown",
   "id": "61d48673",
   "metadata": {},
   "source": [
    "### Изменим формат столбца date таблицы rides\n",
    "Для дальнейшей работы переведем столбец date, содержащий дату, в формат datetime."
   ]
  },
  {
   "cell_type": "code",
   "execution_count": 27,
   "id": "7628b54d",
   "metadata": {},
   "outputs": [],
   "source": [
    "rides['date'] = pd.to_datetime(rides['date'], format='%Y-%m-%d')"
   ]
  },
  {
   "cell_type": "markdown",
   "id": "a0c1e78c",
   "metadata": {},
   "source": [
    "### Добавим столбец с номером месяца"
   ]
  },
  {
   "cell_type": "markdown",
   "id": "568c498e",
   "metadata": {},
   "source": [
    "Создадим новый столбец 'month', содержащий номер месяца, в таблице rides."
   ]
  },
  {
   "cell_type": "code",
   "execution_count": 30,
   "id": "ae471b6d",
   "metadata": {},
   "outputs": [],
   "source": [
    "rides['month'] = rides['date'].dt.month"
   ]
  },
  {
   "cell_type": "markdown",
   "id": "ff42d381",
   "metadata": {},
   "source": [
    "### Обработаем дубликаты"
   ]
  },
  {
   "cell_type": "markdown",
   "id": "ab0fed6f",
   "metadata": {},
   "source": [
    "Проверим таблицы users и rides на наличие явных дубликатов. "
   ]
  },
  {
   "cell_type": "code",
   "execution_count": 36,
   "id": "d7f43e71",
   "metadata": {},
   "outputs": [
    {
     "data": {
      "text/plain": [
       "31"
      ]
     },
     "execution_count": 36,
     "metadata": {},
     "output_type": "execute_result"
    }
   ],
   "source": [
    "users.duplicated().sum()"
   ]
  },
  {
   "cell_type": "code",
   "execution_count": 37,
   "id": "56604e76",
   "metadata": {},
   "outputs": [],
   "source": [
    "# удалим дубликаты\n",
    "users = users.drop_duplicates()"
   ]
  },
  {
   "cell_type": "raw",
   "id": "6c25ff3b",
   "metadata": {},
   "source": [
    "Дополнительно проверим столбец с названиями городов на наличие неявных дубликатов."
   ]
  },
  {
   "cell_type": "code",
   "execution_count": 38,
   "id": "3058c31c",
   "metadata": {},
   "outputs": [
    {
     "data": {
      "text/plain": [
       "array(['Екатеринбург', 'Краснодар', 'Москва', 'Омск', 'Пятигорск',\n",
       "       'Ростов-на-Дону', 'Сочи', 'Тюмень'], dtype=object)"
      ]
     },
     "execution_count": 38,
     "metadata": {},
     "output_type": "execute_result"
    }
   ],
   "source": [
    "users['city'].sort_values().unique()"
   ]
  },
  {
   "cell_type": "code",
   "execution_count": 39,
   "id": "b9fe800b",
   "metadata": {},
   "outputs": [
    {
     "data": {
      "text/plain": [
       "0"
      ]
     },
     "execution_count": 39,
     "metadata": {},
     "output_type": "execute_result"
    }
   ],
   "source": [
    "rides.duplicated().sum()"
   ]
  },
  {
   "cell_type": "markdown",
   "id": "46da4bf4",
   "metadata": {},
   "source": [
    "### Проверим пропущенные значения"
   ]
  },
  {
   "cell_type": "code",
   "execution_count": 41,
   "id": "d07eaa79",
   "metadata": {},
   "outputs": [
    {
     "data": {
      "text/plain": [
       "user_id              0\n",
       "name                 0\n",
       "age                  0\n",
       "city                 0\n",
       "subscription_type    0\n",
       "dtype: int64"
      ]
     },
     "execution_count": 41,
     "metadata": {},
     "output_type": "execute_result"
    }
   ],
   "source": [
    "users.isna().sum()"
   ]
  },
  {
   "cell_type": "code",
   "execution_count": 42,
   "id": "729e40bf",
   "metadata": {},
   "outputs": [
    {
     "data": {
      "text/plain": [
       "user_id     0\n",
       "distance    0\n",
       "duration    0\n",
       "date        0\n",
       "month       0\n",
       "dtype: int64"
      ]
     },
     "execution_count": 42,
     "metadata": {},
     "output_type": "execute_result"
    }
   ],
   "source": [
    "rides.isna().sum()"
   ]
  },
  {
   "cell_type": "code",
   "execution_count": 43,
   "id": "0111dfdd",
   "metadata": {},
   "outputs": [
    {
     "data": {
      "text/plain": [
       "subscription_type    0\n",
       "minute_price         0\n",
       "start_ride_price     0\n",
       "subscription_fee     0\n",
       "dtype: int64"
      ]
     },
     "execution_count": 43,
     "metadata": {},
     "output_type": "execute_result"
    }
   ],
   "source": [
    "subscriptions.isna().sum()"
   ]
  },
  {
   "cell_type": "markdown",
   "id": "b4aff298",
   "metadata": {},
   "source": [
    "Проведена предобработка данных:\n",
    "* В таблице **users**:\n",
    "  - удалена 31 дублирующая строка;\n",
    "  - пропущенные значения отсутствуют.\n",
    "* В таблице **rides**:\n",
    "  - формат столбца 'date' изменен на datetime для удобства работы с датами;\n",
    "  - добавлен столбец 'month' с номером месяца;\n",
    "  - дубликатов не обнаружено;\n",
    "  - пропущенные значения отсутствуют.\n",
    "* В таблице **subscriptions**:\n",
    "  - пропущенные значения отсутствуют."
   ]
  },
  {
   "cell_type": "markdown",
   "id": "1766ba36",
   "metadata": {},
   "source": [
    "## Исследовательский анализ данных"
   ]
  },
  {
   "cell_type": "markdown",
   "id": "3ad61ebb",
   "metadata": {},
   "source": [
    "### Частота встречаемости городов"
   ]
  },
  {
   "cell_type": "markdown",
   "id": "12654531",
   "metadata": {},
   "source": [
    "Сводная таблица \"users_city\" содержит название города, количество пользователей сервиса в городе и относительную частоту встречаемости города в процентах."
   ]
  },
  {
   "cell_type": "code",
   "execution_count": 50,
   "id": "fb8ed0d2",
   "metadata": {
    "scrolled": true
   },
   "outputs": [
    {
     "data": {
      "image/png": "[encoded data removed]",
      "text/plain": [
       "<Figure size 900x400 with 1 Axes>"
      ]
     },
     "metadata": {},
     "output_type": "display_data"
    }
   ],
   "source": [
    "users['city'].value_counts().sort_values(ascending=True).plot(kind='barh', figsize=(9, 4), grid=True)\n",
    "plt.title('Частота встречаемости городов')\n",
    "plt.xlabel('Количество записей')\n",
    "plt.ylabel('Город')\n",
    "plt.show()"
   ]
  },
  {
   "cell_type": "code",
   "execution_count": 54,
   "id": "cbe58f41",
   "metadata": {},
   "outputs": [
    {
     "data": {
      "text/html": [
       "<div>\n",
       "<style scoped>\n",
       "    .dataframe tbody tr th:only-of-type {\n",
       "        vertical-align: middle;\n",
       "    }\n",
       "\n",
       "    .dataframe tbody tr th {\n",
       "        vertical-align: top;\n",
       "    }\n",
       "\n",
       "    .dataframe thead th {\n",
       "        text-align: right;\n",
       "    }\n",
       "</style>\n",
       "<table border=\"1\" class=\"dataframe\">\n",
       "  <thead>\n",
       "    <tr style=\"text-align: right;\">\n",
       "      <th></th>\n",
       "      <th>city</th>\n",
       "      <th>count</th>\n",
       "      <th>proportion</th>\n",
       "    </tr>\n",
       "  </thead>\n",
       "  <tbody>\n",
       "    <tr>\n",
       "      <th>0</th>\n",
       "      <td>Пятигорск</td>\n",
       "      <td>219</td>\n",
       "      <td>14.276</td>\n",
       "    </tr>\n",
       "    <tr>\n",
       "      <th>1</th>\n",
       "      <td>Екатеринбург</td>\n",
       "      <td>204</td>\n",
       "      <td>13.299</td>\n",
       "    </tr>\n",
       "    <tr>\n",
       "      <th>2</th>\n",
       "      <td>Ростов-на-Дону</td>\n",
       "      <td>198</td>\n",
       "      <td>12.907</td>\n",
       "    </tr>\n",
       "    <tr>\n",
       "      <th>3</th>\n",
       "      <td>Краснодар</td>\n",
       "      <td>193</td>\n",
       "      <td>12.581</td>\n",
       "    </tr>\n",
       "    <tr>\n",
       "      <th>4</th>\n",
       "      <td>Сочи</td>\n",
       "      <td>189</td>\n",
       "      <td>12.321</td>\n",
       "    </tr>\n",
       "    <tr>\n",
       "      <th>5</th>\n",
       "      <td>Омск</td>\n",
       "      <td>183</td>\n",
       "      <td>11.930</td>\n",
       "    </tr>\n",
       "    <tr>\n",
       "      <th>6</th>\n",
       "      <td>Тюмень</td>\n",
       "      <td>180</td>\n",
       "      <td>11.734</td>\n",
       "    </tr>\n",
       "    <tr>\n",
       "      <th>7</th>\n",
       "      <td>Москва</td>\n",
       "      <td>168</td>\n",
       "      <td>10.952</td>\n",
       "    </tr>\n",
       "  </tbody>\n",
       "</table>\n",
       "</div>"
      ],
      "text/plain": [
       "             city  count  proportion\n",
       "0       Пятигорск    219      14.276\n",
       "1    Екатеринбург    204      13.299\n",
       "2  Ростов-на-Дону    198      12.907\n",
       "3       Краснодар    193      12.581\n",
       "4            Сочи    189      12.321\n",
       "5            Омск    183      11.930\n",
       "6          Тюмень    180      11.734\n",
       "7          Москва    168      10.952"
      ]
     },
     "execution_count": 54,
     "metadata": {},
     "output_type": "execute_result"
    }
   ],
   "source": [
    "users_city['proportion'] = round((users_city['count'] / len(users) * 100), 3)\n",
    "users_city.sort_values(by='count', ascending=False).reset_index()"
   ]
  },
  {
   "cell_type": "markdown",
   "id": "23302c34",
   "metadata": {},
   "source": [
    "Датафрейм содержит записи о пользователях из восьми городов России. 14% всех пользователей из Пятигорска - это самый часто встречающийся город в таблице. Меньше всего записей о пользователях из Москвы - около 11%. В целом данные по городам распределены равномерно."
   ]
  },
  {
   "cell_type": "markdown",
   "id": "93028b1f",
   "metadata": {},
   "source": [
    "### Cоотношение пользователей с подпиской и без подписки"
   ]
  },
  {
   "cell_type": "markdown",
   "id": "0b8e62ed",
   "metadata": {},
   "source": [
    "Построим график распределения долей пользователей сервиса:\n",
    "- free - доля пользователей, не имеющих подписки,\n",
    "- ultra - доля пользователей с подпиской 'Ultra'"
   ]
  },
  {
   "cell_type": "code",
   "execution_count": 58,
   "id": "50103665",
   "metadata": {},
   "outputs": [
    {
     "data": {
      "image/png": "[encoded data removed]",
      "text/plain": [
       "<Figure size 640x480 with 1 Axes>"
      ]
     },
     "metadata": {},
     "output_type": "display_data"
    }
   ],
   "source": [
    "users.groupby('subscription_type')['user_id']\\\n",
    "    .count()\\\n",
    "    .plot(kind='pie', autopct='%1.0f%%', title='Доли пользователей с подпиской и без подписки')\n",
    "plt.show()"
   ]
  },
  {
   "cell_type": "code",
   "execution_count": 59,
   "id": "a88338df",
   "metadata": {},
   "outputs": [
    {
     "data": {
      "text/html": [
       "<div>\n",
       "<style scoped>\n",
       "    .dataframe tbody tr th:only-of-type {\n",
       "        vertical-align: middle;\n",
       "    }\n",
       "\n",
       "    .dataframe tbody tr th {\n",
       "        vertical-align: top;\n",
       "    }\n",
       "\n",
       "    .dataframe thead th {\n",
       "        text-align: right;\n",
       "    }\n",
       "</style>\n",
       "<table border=\"1\" class=\"dataframe\">\n",
       "  <thead>\n",
       "    <tr style=\"text-align: right;\">\n",
       "      <th>subscription_type</th>\n",
       "      <th>free</th>\n",
       "      <th>ultra</th>\n",
       "    </tr>\n",
       "    <tr>\n",
       "      <th>city</th>\n",
       "      <th></th>\n",
       "      <th></th>\n",
       "    </tr>\n",
       "  </thead>\n",
       "  <tbody>\n",
       "    <tr>\n",
       "      <th>Екатеринбург</th>\n",
       "      <td>112</td>\n",
       "      <td>92</td>\n",
       "    </tr>\n",
       "    <tr>\n",
       "      <th>Краснодар</th>\n",
       "      <td>112</td>\n",
       "      <td>81</td>\n",
       "    </tr>\n",
       "    <tr>\n",
       "      <th>Москва</th>\n",
       "      <td>84</td>\n",
       "      <td>84</td>\n",
       "    </tr>\n",
       "    <tr>\n",
       "      <th>Омск</th>\n",
       "      <td>92</td>\n",
       "      <td>91</td>\n",
       "    </tr>\n",
       "    <tr>\n",
       "      <th>Пятигорск</th>\n",
       "      <td>125</td>\n",
       "      <td>94</td>\n",
       "    </tr>\n",
       "    <tr>\n",
       "      <th>Ростов-на-Дону</th>\n",
       "      <td>109</td>\n",
       "      <td>89</td>\n",
       "    </tr>\n",
       "    <tr>\n",
       "      <th>Сочи</th>\n",
       "      <td>103</td>\n",
       "      <td>86</td>\n",
       "    </tr>\n",
       "    <tr>\n",
       "      <th>Тюмень</th>\n",
       "      <td>98</td>\n",
       "      <td>82</td>\n",
       "    </tr>\n",
       "  </tbody>\n",
       "</table>\n",
       "</div>"
      ],
      "text/plain": [
       "subscription_type  free  ultra\n",
       "city                          \n",
       "Екатеринбург        112     92\n",
       "Краснодар           112     81\n",
       "Москва               84     84\n",
       "Омск                 92     91\n",
       "Пятигорск           125     94\n",
       "Ростов-на-Дону      109     89\n",
       "Сочи                103     86\n",
       "Тюмень               98     82"
      ]
     },
     "execution_count": 59,
     "metadata": {},
     "output_type": "execute_result"
    }
   ],
   "source": [
    "users_subscription = users.pivot_table(index='city', \n",
    "                  columns ='subscription_type', \n",
    "                  values='user_id', aggfunc='count')\n",
    "     \n",
    "users_subscription"
   ]
  },
  {
   "cell_type": "code",
   "execution_count": 60,
   "id": "8ec1ee51",
   "metadata": {},
   "outputs": [
    {
     "data": {
      "image/png": "[encoded data removed]",
      "text/plain": [
       "<Figure size 1000x600 with 1 Axes>"
      ]
     },
     "metadata": {},
     "output_type": "display_data"
    }
   ],
   "source": [
    "users_subscription.plot(kind='barh', figsize=(10, 6), grid=True)\n",
    "plt.title('Распределение типов подписки в городах')\n",
    "plt.xlabel('Количество записей')\n",
    "plt.ylabel('Город')\n",
    "plt.show()"
   ]
  },
  {
   "cell_type": "markdown",
   "id": "ddc821b3",
   "metadata": {},
   "source": [
    "Более половины всех пользователей сервиса - 54% не используют подписку. Доля пользователей, оформивших подписку составляет 46%.\n",
    "\n",
    "Распределение по городам показало, что клиенты из Москвы и Омска с подпиской и без разделились практически поровну. В остальных городах: Тюмени, Сочи, Ростове-на-Дону, Пятигорске, Краснодаре и Екатеринбурге - преобладают пользователи, предпочитающие не оформлять подписку на сервис."
   ]
  },
  {
   "cell_type": "markdown",
   "id": "25f71260",
   "metadata": {},
   "source": [
    "### Возраст пользователей"
   ]
  },
  {
   "cell_type": "markdown",
   "id": "9cea77a2",
   "metadata": {},
   "source": [
    "Определим средний возраст пользователей и построим гистограмму распределения клиентов сервиса по возрастам."
   ]
  },
  {
   "cell_type": "code",
   "execution_count": 65,
   "id": "df48a9ee",
   "metadata": {},
   "outputs": [
    {
     "data": {
      "text/plain": [
       "count    1534.000000\n",
       "mean       24.903520\n",
       "std         4.572367\n",
       "min        12.000000\n",
       "25%        22.000000\n",
       "50%        25.000000\n",
       "75%        28.000000\n",
       "max        43.000000\n",
       "Name: age, dtype: float64"
      ]
     },
     "execution_count": 65,
     "metadata": {},
     "output_type": "execute_result"
    }
   ],
   "source": [
    "users['age'].describe()"
   ]
  },
  {
   "cell_type": "code",
   "execution_count": 67,
   "id": "fa087c63",
   "metadata": {
    "scrolled": true
   },
   "outputs": [
    {
     "data": {
      "image/png": "[encoded data removed]",
      "text/plain": [
       "<Figure size 1000x400 with 1 Axes>"
      ]
     },
     "metadata": {},
     "output_type": "display_data"
    }
   ],
   "source": [
    "#users['age'].hist(bins=30, figsize=(10,4), grid=True, title='Распределение пользователей по возрастам')\n",
    "users['age'].plot(kind='hist', bins=30, figsize=(10, 4), grid=True)\n",
    "plt.title('Распределение пользователей по возрастам')\n",
    "plt.xlabel('Возраст')\n",
    "plt.ylabel('Частота')\n",
    "plt.show()"
   ]
  },
  {
   "cell_type": "markdown",
   "id": "7f8f25b9",
   "metadata": {},
   "source": [
    "Клиентам сервиса от 12 до 43 лет. Средний возраст пользователя 25 лет, основная группа пользователей от 22 до 28 лет. Распределение клиентов по возрастам имеет вид нормального распределения."
   ]
  },
  {
   "cell_type": "markdown",
   "id": "d63c65a4",
   "metadata": {},
   "source": [
    "### Расстояние, которое пользователь преодолел за одну поездку"
   ]
  },
  {
   "cell_type": "markdown",
   "id": "ddd1c17a",
   "metadata": {},
   "source": [
    "Оценим расстояние, преодолеваемое за одну поездку, построим график распределения "
   ]
  },
  {
   "cell_type": "code",
   "execution_count": 71,
   "id": "f95fc807",
   "metadata": {},
   "outputs": [
    {
     "data": {
      "text/plain": [
       "count    18068.000000\n",
       "mean      3070.659976\n",
       "std       1116.831209\n",
       "min          0.855683\n",
       "25%       2543.226360\n",
       "50%       3133.609994\n",
       "75%       3776.222735\n",
       "max       7211.007745\n",
       "Name: distance, dtype: float64"
      ]
     },
     "execution_count": 71,
     "metadata": {},
     "output_type": "execute_result"
    }
   ],
   "source": [
    "rides['distance'].describe()"
   ]
  },
  {
   "cell_type": "code",
   "execution_count": 72,
   "id": "f60c8729",
   "metadata": {},
   "outputs": [
    {
     "data": {
      "image/png": "[encoded data removed]",
      "text/plain": [
       "<Figure size 1000x500 with 1 Axes>"
      ]
     },
     "metadata": {},
     "output_type": "display_data"
    }
   ],
   "source": [
    "rides['distance'].plot(kind='hist', bins=100, grid=True, figsize=(10, 5))\n",
    "plt.title('Распределение поездок по расстоянию')\n",
    "plt.xlabel('Расстояние, м')\n",
    "plt.ylabel('Частота')\n",
    "plt.show()"
   ]
  },
  {
   "cell_type": "markdown",
   "id": "3db71926",
   "metadata": {},
   "source": [
    "Пользователи совершали поездки длиной от 1 м до 7 км. Среднее расстояние за одну поездку составляет 3071м. Медианное значение близко к среднему, составляет 3134м. \n",
    "\n",
    "Расстояние поездок распределено неравномерно. По графику можно условно выделить два типа поездок:\n",
    "* короткие поездки, с расстоянием от 0 до 1,5 км. Пик значений составляет около 500 метров. Это небольшая доля всех поездок.\n",
    "* длинные поездки, основная группа - поездки от 1,5 до 6 км. Пик значений составляет около 3200 метров. Таких поездок большинство. \n",
    "* Поездки свыше 6 км совершаются редко. \n",
    "\n",
    "Расстояние за одну поездку зависит от многих факторов. Для части клиентов аренда самоката может быть регулярной заменой общественному транспорту и такси - такие поездки могут быть длиннее. Для других -  способом добраться от дома до метро или от остановки автобуса до работы, такие поездки будут короче. Для кого-то это способ приятно провести время за прогулкой, например, в парке, - такие поездки могут быть существенно длиннее остальных. "
   ]
  },
  {
   "cell_type": "markdown",
   "id": "d4f95096",
   "metadata": {},
   "source": [
    "### Продолжительность поездок"
   ]
  },
  {
   "cell_type": "markdown",
   "id": "48d7ae7f",
   "metadata": {},
   "source": [
    "Оценим продолжительность поездок пользователей сервиса. Построим гистограмму распределения поездок по длительности сессии."
   ]
  },
  {
   "cell_type": "code",
   "execution_count": 77,
   "id": "53ed987a",
   "metadata": {},
   "outputs": [
    {
     "data": {
      "text/plain": [
       "count    18068.000000\n",
       "mean        17.805011\n",
       "std          6.091051\n",
       "min          0.500000\n",
       "25%         13.597563\n",
       "50%         17.678395\n",
       "75%         21.724800\n",
       "max         40.823963\n",
       "Name: duration, dtype: float64"
      ]
     },
     "execution_count": 77,
     "metadata": {},
     "output_type": "execute_result"
    }
   ],
   "source": [
    "rides['duration'].describe()"
   ]
  },
  {
   "cell_type": "code",
   "execution_count": 78,
   "id": "602dd0c0",
   "metadata": {
    "scrolled": true
   },
   "outputs": [
    {
     "data": {
      "image/png": "[encoded data removed]",
      "text/plain": [
       "<Figure size 1000x500 with 1 Axes>"
      ]
     },
     "metadata": {},
     "output_type": "display_data"
    }
   ],
   "source": [
    "rides['duration'].plot(kind='hist', bins=41, grid=True, figsize=(10, 5))\n",
    "plt.title('Распределение поездок по продолжительности')\n",
    "plt.xlabel('Время, мин')\n",
    "plt.ylabel('Частота')\n",
    "plt.show()"
   ]
  },
  {
   "cell_type": "markdown",
   "id": "3e45f82e",
   "metadata": {},
   "source": [
    "Часть поездок пользователей длилась менее 1 минуты, рассмотрим подробнее эти данные."
   ]
  },
  {
   "cell_type": "code",
   "execution_count": 80,
   "id": "dcd6e1a6",
   "metadata": {},
   "outputs": [
    {
     "data": {
      "text/html": [
       "<div>\n",
       "<style scoped>\n",
       "    .dataframe tbody tr th:only-of-type {\n",
       "        vertical-align: middle;\n",
       "    }\n",
       "\n",
       "    .dataframe tbody tr th {\n",
       "        vertical-align: top;\n",
       "    }\n",
       "\n",
       "    .dataframe thead th {\n",
       "        text-align: right;\n",
       "    }\n",
       "</style>\n",
       "<table border=\"1\" class=\"dataframe\">\n",
       "  <thead>\n",
       "    <tr style=\"text-align: right;\">\n",
       "      <th></th>\n",
       "      <th>user_id</th>\n",
       "      <th>distance</th>\n",
       "      <th>duration</th>\n",
       "      <th>date</th>\n",
       "      <th>month</th>\n",
       "    </tr>\n",
       "  </thead>\n",
       "  <tbody>\n",
       "    <tr>\n",
       "      <th>15132</th>\n",
       "      <td>1325</td>\n",
       "      <td>4030.308008</td>\n",
       "      <td>0.5</td>\n",
       "      <td>2021-12-22</td>\n",
       "      <td>12</td>\n",
       "    </tr>\n",
       "    <tr>\n",
       "      <th>17909</th>\n",
       "      <td>1524</td>\n",
       "      <td>4103.998874</td>\n",
       "      <td>0.5</td>\n",
       "      <td>2021-06-18</td>\n",
       "      <td>6</td>\n",
       "    </tr>\n",
       "    <tr>\n",
       "      <th>10692</th>\n",
       "      <td>1006</td>\n",
       "      <td>4106.278268</td>\n",
       "      <td>0.5</td>\n",
       "      <td>2021-10-31</td>\n",
       "      <td>10</td>\n",
       "    </tr>\n",
       "    <tr>\n",
       "      <th>9698</th>\n",
       "      <td>937</td>\n",
       "      <td>4169.066800</td>\n",
       "      <td>0.5</td>\n",
       "      <td>2021-12-12</td>\n",
       "      <td>12</td>\n",
       "    </tr>\n",
       "    <tr>\n",
       "      <th>14342</th>\n",
       "      <td>1268</td>\n",
       "      <td>4177.139336</td>\n",
       "      <td>0.5</td>\n",
       "      <td>2021-06-09</td>\n",
       "      <td>6</td>\n",
       "    </tr>\n",
       "    <tr>\n",
       "      <th>...</th>\n",
       "      <td>...</td>\n",
       "      <td>...</td>\n",
       "      <td>...</td>\n",
       "      <td>...</td>\n",
       "      <td>...</td>\n",
       "    </tr>\n",
       "    <tr>\n",
       "      <th>14574</th>\n",
       "      <td>1285</td>\n",
       "      <td>6316.574814</td>\n",
       "      <td>0.5</td>\n",
       "      <td>2021-09-25</td>\n",
       "      <td>9</td>\n",
       "    </tr>\n",
       "    <tr>\n",
       "      <th>13701</th>\n",
       "      <td>1224</td>\n",
       "      <td>6414.516026</td>\n",
       "      <td>0.5</td>\n",
       "      <td>2021-07-15</td>\n",
       "      <td>7</td>\n",
       "    </tr>\n",
       "    <tr>\n",
       "      <th>11385</th>\n",
       "      <td>1057</td>\n",
       "      <td>6601.197575</td>\n",
       "      <td>0.5</td>\n",
       "      <td>2021-02-07</td>\n",
       "      <td>2</td>\n",
       "    </tr>\n",
       "    <tr>\n",
       "      <th>17242</th>\n",
       "      <td>1477</td>\n",
       "      <td>6724.932981</td>\n",
       "      <td>0.5</td>\n",
       "      <td>2021-01-12</td>\n",
       "      <td>1</td>\n",
       "    </tr>\n",
       "    <tr>\n",
       "      <th>16309</th>\n",
       "      <td>1411</td>\n",
       "      <td>7211.007745</td>\n",
       "      <td>0.5</td>\n",
       "      <td>2021-04-15</td>\n",
       "      <td>4</td>\n",
       "    </tr>\n",
       "  </tbody>\n",
       "</table>\n",
       "<p>95 rows × 5 columns</p>\n",
       "</div>"
      ],
      "text/plain": [
       "       user_id     distance  duration       date  month\n",
       "15132     1325  4030.308008       0.5 2021-12-22     12\n",
       "17909     1524  4103.998874       0.5 2021-06-18      6\n",
       "10692     1006  4106.278268       0.5 2021-10-31     10\n",
       "9698       937  4169.066800       0.5 2021-12-12     12\n",
       "14342     1268  4177.139336       0.5 2021-06-09      6\n",
       "...        ...          ...       ...        ...    ...\n",
       "14574     1285  6316.574814       0.5 2021-09-25      9\n",
       "13701     1224  6414.516026       0.5 2021-07-15      7\n",
       "11385     1057  6601.197575       0.5 2021-02-07      2\n",
       "17242     1477  6724.932981       0.5 2021-01-12      1\n",
       "16309     1411  7211.007745       0.5 2021-04-15      4\n",
       "\n",
       "[95 rows x 5 columns]"
      ]
     },
     "execution_count": 80,
     "metadata": {},
     "output_type": "execute_result"
    }
   ],
   "source": [
    "rides.query('duration < 1').sort_values(by='distance')"
   ]
  },
  {
   "cell_type": "markdown",
   "id": "0d9ec0c7",
   "metadata": {},
   "source": [
    "<div class=\"alert alert-block alert-info\">\n",
    "\n",
    "В датафрейме обнаружено 95 записей о поездках длительностью 0,5 минуты с расстоянием от 4 до 7 км. Стоит уточнить у коллег информацию о рекламных акциях с бесплатными минутами.\n",
    "\n",
    "</div>"
   ]
  },
  {
   "cell_type": "markdown",
   "id": "d6a61635",
   "metadata": {},
   "source": [
    "Пользователи сервиса совершали поездки продолжительностью от 30 секунд до 41 минуты.\n",
    "* Большинство поездок длятся от 10 до 25 минут \n",
    "* Среднее время поездки 18 минут\n",
    "* В данных присутствует 95 записей о поездках длительностью 0,5 минуты с расстоянием от 4 до 7 км. \n",
    "* Есть редкие поездки длительностью свыше 35 минут - это малая часть всех поездок\n",
    "* Распределение поездок по длительности имеет вид нормального распределения."
   ]
  },
  {
   "cell_type": "markdown",
   "id": "9ba020a0",
   "metadata": {},
   "source": [
    "## Объединение данных"
   ]
  },
  {
   "cell_type": "markdown",
   "id": "f92e51f3",
   "metadata": {},
   "source": [
    "### Объединим данные о пользователях, поездках и подписках в один датафрейм"
   ]
  },
  {
   "cell_type": "code",
   "execution_count": 88,
   "id": "ad4e5875",
   "metadata": {},
   "outputs": [
    {
     "data": {
      "text/plain": [
       "18068"
      ]
     },
     "execution_count": 88,
     "metadata": {},
     "output_type": "execute_result"
    }
   ],
   "source": [
    "# Количество строк в таблице rides после удаления выбросов\n",
    "rides.shape[0]"
   ]
  },
  {
   "cell_type": "code",
   "execution_count": 91,
   "id": "3d867e1c",
   "metadata": {},
   "outputs": [
    {
     "name": "stdout",
     "output_type": "stream",
     "text": [
      "<class 'pandas.core.frame.DataFrame'>\n",
      "RangeIndex: 18068 entries, 0 to 18067\n",
      "Data columns (total 12 columns):\n",
      " #   Column             Non-Null Count  Dtype         \n",
      "---  ------             --------------  -----         \n",
      " 0   user_id            18068 non-null  int64         \n",
      " 1   name               18068 non-null  object        \n",
      " 2   age                18068 non-null  int64         \n",
      " 3   city               18068 non-null  object        \n",
      " 4   subscription_type  18068 non-null  object        \n",
      " 5   distance           18068 non-null  float64       \n",
      " 6   duration           18068 non-null  float64       \n",
      " 7   date               18068 non-null  datetime64[ns]\n",
      " 8   month              18068 non-null  int32         \n",
      " 9   minute_price       18068 non-null  int64         \n",
      " 10  start_ride_price   18068 non-null  int64         \n",
      " 11  subscription_fee   18068 non-null  int64         \n",
      "dtypes: datetime64[ns](1), float64(2), int32(1), int64(5), object(3)\n",
      "memory usage: 1.6+ MB\n"
     ]
    }
   ],
   "source": [
    "data = users.merge(rides, on='user_id').merge(subscriptions, on='subscription_type')\n",
    "data.info()"
   ]
  },
  {
   "cell_type": "code",
   "execution_count": 92,
   "id": "1fb7512c",
   "metadata": {},
   "outputs": [
    {
     "data": {
      "text/html": [
       "<div>\n",
       "<style scoped>\n",
       "    .dataframe tbody tr th:only-of-type {\n",
       "        vertical-align: middle;\n",
       "    }\n",
       "\n",
       "    .dataframe tbody tr th {\n",
       "        vertical-align: top;\n",
       "    }\n",
       "\n",
       "    .dataframe thead th {\n",
       "        text-align: right;\n",
       "    }\n",
       "</style>\n",
       "<table border=\"1\" class=\"dataframe\">\n",
       "  <thead>\n",
       "    <tr style=\"text-align: right;\">\n",
       "      <th></th>\n",
       "      <th>user_id</th>\n",
       "      <th>name</th>\n",
       "      <th>age</th>\n",
       "      <th>city</th>\n",
       "      <th>subscription_type</th>\n",
       "      <th>distance</th>\n",
       "      <th>duration</th>\n",
       "      <th>date</th>\n",
       "      <th>month</th>\n",
       "      <th>minute_price</th>\n",
       "      <th>start_ride_price</th>\n",
       "      <th>subscription_fee</th>\n",
       "    </tr>\n",
       "  </thead>\n",
       "  <tbody>\n",
       "    <tr>\n",
       "      <th>0</th>\n",
       "      <td>1</td>\n",
       "      <td>Кира</td>\n",
       "      <td>22</td>\n",
       "      <td>Тюмень</td>\n",
       "      <td>ultra</td>\n",
       "      <td>4409.919140</td>\n",
       "      <td>25.599769</td>\n",
       "      <td>2021-01-01</td>\n",
       "      <td>1</td>\n",
       "      <td>6</td>\n",
       "      <td>0</td>\n",
       "      <td>199</td>\n",
       "    </tr>\n",
       "    <tr>\n",
       "      <th>1</th>\n",
       "      <td>1</td>\n",
       "      <td>Кира</td>\n",
       "      <td>22</td>\n",
       "      <td>Тюмень</td>\n",
       "      <td>ultra</td>\n",
       "      <td>2617.592153</td>\n",
       "      <td>15.816871</td>\n",
       "      <td>2021-01-18</td>\n",
       "      <td>1</td>\n",
       "      <td>6</td>\n",
       "      <td>0</td>\n",
       "      <td>199</td>\n",
       "    </tr>\n",
       "    <tr>\n",
       "      <th>2</th>\n",
       "      <td>1</td>\n",
       "      <td>Кира</td>\n",
       "      <td>22</td>\n",
       "      <td>Тюмень</td>\n",
       "      <td>ultra</td>\n",
       "      <td>754.159807</td>\n",
       "      <td>6.232113</td>\n",
       "      <td>2021-04-20</td>\n",
       "      <td>4</td>\n",
       "      <td>6</td>\n",
       "      <td>0</td>\n",
       "      <td>199</td>\n",
       "    </tr>\n",
       "    <tr>\n",
       "      <th>3</th>\n",
       "      <td>1</td>\n",
       "      <td>Кира</td>\n",
       "      <td>22</td>\n",
       "      <td>Тюмень</td>\n",
       "      <td>ultra</td>\n",
       "      <td>2694.783254</td>\n",
       "      <td>18.511000</td>\n",
       "      <td>2021-08-11</td>\n",
       "      <td>8</td>\n",
       "      <td>6</td>\n",
       "      <td>0</td>\n",
       "      <td>199</td>\n",
       "    </tr>\n",
       "    <tr>\n",
       "      <th>4</th>\n",
       "      <td>1</td>\n",
       "      <td>Кира</td>\n",
       "      <td>22</td>\n",
       "      <td>Тюмень</td>\n",
       "      <td>ultra</td>\n",
       "      <td>4028.687306</td>\n",
       "      <td>26.265803</td>\n",
       "      <td>2021-08-28</td>\n",
       "      <td>8</td>\n",
       "      <td>6</td>\n",
       "      <td>0</td>\n",
       "      <td>199</td>\n",
       "    </tr>\n",
       "    <tr>\n",
       "      <th>5</th>\n",
       "      <td>1</td>\n",
       "      <td>Кира</td>\n",
       "      <td>22</td>\n",
       "      <td>Тюмень</td>\n",
       "      <td>ultra</td>\n",
       "      <td>2770.890808</td>\n",
       "      <td>16.650138</td>\n",
       "      <td>2021-10-09</td>\n",
       "      <td>10</td>\n",
       "      <td>6</td>\n",
       "      <td>0</td>\n",
       "      <td>199</td>\n",
       "    </tr>\n",
       "    <tr>\n",
       "      <th>6</th>\n",
       "      <td>1</td>\n",
       "      <td>Кира</td>\n",
       "      <td>22</td>\n",
       "      <td>Тюмень</td>\n",
       "      <td>ultra</td>\n",
       "      <td>3039.020292</td>\n",
       "      <td>14.927879</td>\n",
       "      <td>2021-10-19</td>\n",
       "      <td>10</td>\n",
       "      <td>6</td>\n",
       "      <td>0</td>\n",
       "      <td>199</td>\n",
       "    </tr>\n",
       "    <tr>\n",
       "      <th>7</th>\n",
       "      <td>1</td>\n",
       "      <td>Кира</td>\n",
       "      <td>22</td>\n",
       "      <td>Тюмень</td>\n",
       "      <td>ultra</td>\n",
       "      <td>2842.118050</td>\n",
       "      <td>23.117468</td>\n",
       "      <td>2021-11-06</td>\n",
       "      <td>11</td>\n",
       "      <td>6</td>\n",
       "      <td>0</td>\n",
       "      <td>199</td>\n",
       "    </tr>\n",
       "    <tr>\n",
       "      <th>8</th>\n",
       "      <td>1</td>\n",
       "      <td>Кира</td>\n",
       "      <td>22</td>\n",
       "      <td>Тюмень</td>\n",
       "      <td>ultra</td>\n",
       "      <td>3412.690668</td>\n",
       "      <td>15.238072</td>\n",
       "      <td>2021-11-14</td>\n",
       "      <td>11</td>\n",
       "      <td>6</td>\n",
       "      <td>0</td>\n",
       "      <td>199</td>\n",
       "    </tr>\n",
       "    <tr>\n",
       "      <th>9</th>\n",
       "      <td>1</td>\n",
       "      <td>Кира</td>\n",
       "      <td>22</td>\n",
       "      <td>Тюмень</td>\n",
       "      <td>ultra</td>\n",
       "      <td>748.690645</td>\n",
       "      <td>15.041884</td>\n",
       "      <td>2021-11-22</td>\n",
       "      <td>11</td>\n",
       "      <td>6</td>\n",
       "      <td>0</td>\n",
       "      <td>199</td>\n",
       "    </tr>\n",
       "    <tr>\n",
       "      <th>10</th>\n",
       "      <td>1</td>\n",
       "      <td>Кира</td>\n",
       "      <td>22</td>\n",
       "      <td>Тюмень</td>\n",
       "      <td>ultra</td>\n",
       "      <td>4031.020195</td>\n",
       "      <td>17.674448</td>\n",
       "      <td>2021-12-14</td>\n",
       "      <td>12</td>\n",
       "      <td>6</td>\n",
       "      <td>0</td>\n",
       "      <td>199</td>\n",
       "    </tr>\n",
       "    <tr>\n",
       "      <th>11</th>\n",
       "      <td>1</td>\n",
       "      <td>Кира</td>\n",
       "      <td>22</td>\n",
       "      <td>Тюмень</td>\n",
       "      <td>ultra</td>\n",
       "      <td>2720.609748</td>\n",
       "      <td>9.529463</td>\n",
       "      <td>2021-12-22</td>\n",
       "      <td>12</td>\n",
       "      <td>6</td>\n",
       "      <td>0</td>\n",
       "      <td>199</td>\n",
       "    </tr>\n",
       "    <tr>\n",
       "      <th>12</th>\n",
       "      <td>2</td>\n",
       "      <td>Станислав</td>\n",
       "      <td>31</td>\n",
       "      <td>Омск</td>\n",
       "      <td>ultra</td>\n",
       "      <td>3105.086678</td>\n",
       "      <td>24.307514</td>\n",
       "      <td>2021-03-15</td>\n",
       "      <td>3</td>\n",
       "      <td>6</td>\n",
       "      <td>0</td>\n",
       "      <td>199</td>\n",
       "    </tr>\n",
       "    <tr>\n",
       "      <th>13</th>\n",
       "      <td>2</td>\n",
       "      <td>Станислав</td>\n",
       "      <td>31</td>\n",
       "      <td>Омск</td>\n",
       "      <td>ultra</td>\n",
       "      <td>3053.519401</td>\n",
       "      <td>11.543256</td>\n",
       "      <td>2021-03-18</td>\n",
       "      <td>3</td>\n",
       "      <td>6</td>\n",
       "      <td>0</td>\n",
       "      <td>199</td>\n",
       "    </tr>\n",
       "    <tr>\n",
       "      <th>14</th>\n",
       "      <td>2</td>\n",
       "      <td>Станислав</td>\n",
       "      <td>31</td>\n",
       "      <td>Омск</td>\n",
       "      <td>ultra</td>\n",
       "      <td>4029.116927</td>\n",
       "      <td>25.109188</td>\n",
       "      <td>2021-03-23</td>\n",
       "      <td>3</td>\n",
       "      <td>6</td>\n",
       "      <td>0</td>\n",
       "      <td>199</td>\n",
       "    </tr>\n",
       "    <tr>\n",
       "      <th>15</th>\n",
       "      <td>2</td>\n",
       "      <td>Станислав</td>\n",
       "      <td>31</td>\n",
       "      <td>Омск</td>\n",
       "      <td>ultra</td>\n",
       "      <td>2805.786329</td>\n",
       "      <td>20.652145</td>\n",
       "      <td>2021-04-08</td>\n",
       "      <td>4</td>\n",
       "      <td>6</td>\n",
       "      <td>0</td>\n",
       "      <td>199</td>\n",
       "    </tr>\n",
       "    <tr>\n",
       "      <th>16</th>\n",
       "      <td>2</td>\n",
       "      <td>Станислав</td>\n",
       "      <td>31</td>\n",
       "      <td>Омск</td>\n",
       "      <td>ultra</td>\n",
       "      <td>3358.595495</td>\n",
       "      <td>18.396489</td>\n",
       "      <td>2021-04-13</td>\n",
       "      <td>4</td>\n",
       "      <td>6</td>\n",
       "      <td>0</td>\n",
       "      <td>199</td>\n",
       "    </tr>\n",
       "    <tr>\n",
       "      <th>17</th>\n",
       "      <td>2</td>\n",
       "      <td>Станислав</td>\n",
       "      <td>31</td>\n",
       "      <td>Омск</td>\n",
       "      <td>ultra</td>\n",
       "      <td>3255.338202</td>\n",
       "      <td>13.851127</td>\n",
       "      <td>2021-06-20</td>\n",
       "      <td>6</td>\n",
       "      <td>6</td>\n",
       "      <td>0</td>\n",
       "      <td>199</td>\n",
       "    </tr>\n",
       "    <tr>\n",
       "      <th>18</th>\n",
       "      <td>2</td>\n",
       "      <td>Станислав</td>\n",
       "      <td>31</td>\n",
       "      <td>Омск</td>\n",
       "      <td>ultra</td>\n",
       "      <td>3942.817648</td>\n",
       "      <td>20.142725</td>\n",
       "      <td>2021-07-02</td>\n",
       "      <td>7</td>\n",
       "      <td>6</td>\n",
       "      <td>0</td>\n",
       "      <td>199</td>\n",
       "    </tr>\n",
       "    <tr>\n",
       "      <th>19</th>\n",
       "      <td>2</td>\n",
       "      <td>Станислав</td>\n",
       "      <td>31</td>\n",
       "      <td>Омск</td>\n",
       "      <td>ultra</td>\n",
       "      <td>2837.905316</td>\n",
       "      <td>26.027432</td>\n",
       "      <td>2021-07-18</td>\n",
       "      <td>7</td>\n",
       "      <td>6</td>\n",
       "      <td>0</td>\n",
       "      <td>199</td>\n",
       "    </tr>\n",
       "  </tbody>\n",
       "</table>\n",
       "</div>"
      ],
      "text/plain": [
       "    user_id       name  age    city subscription_type     distance   duration  \\\n",
       "0         1       Кира   22  Тюмень             ultra  4409.919140  25.599769   \n",
       "1         1       Кира   22  Тюмень             ultra  2617.592153  15.816871   \n",
       "2         1       Кира   22  Тюмень             ultra   754.159807   6.232113   \n",
       "3         1       Кира   22  Тюмень             ultra  2694.783254  18.511000   \n",
       "4         1       Кира   22  Тюмень             ultra  4028.687306  26.265803   \n",
       "5         1       Кира   22  Тюмень             ultra  2770.890808  16.650138   \n",
       "6         1       Кира   22  Тюмень             ultra  3039.020292  14.927879   \n",
       "7         1       Кира   22  Тюмень             ultra  2842.118050  23.117468   \n",
       "8         1       Кира   22  Тюмень             ultra  3412.690668  15.238072   \n",
       "9         1       Кира   22  Тюмень             ultra   748.690645  15.041884   \n",
       "10        1       Кира   22  Тюмень             ultra  4031.020195  17.674448   \n",
       "11        1       Кира   22  Тюмень             ultra  2720.609748   9.529463   \n",
       "12        2  Станислав   31    Омск             ultra  3105.086678  24.307514   \n",
       "13        2  Станислав   31    Омск             ultra  3053.519401  11.543256   \n",
       "14        2  Станислав   31    Омск             ultra  4029.116927  25.109188   \n",
       "15        2  Станислав   31    Омск             ultra  2805.786329  20.652145   \n",
       "16        2  Станислав   31    Омск             ultra  3358.595495  18.396489   \n",
       "17        2  Станислав   31    Омск             ultra  3255.338202  13.851127   \n",
       "18        2  Станислав   31    Омск             ultra  3942.817648  20.142725   \n",
       "19        2  Станислав   31    Омск             ultra  2837.905316  26.027432   \n",
       "\n",
       "         date  month  minute_price  start_ride_price  subscription_fee  \n",
       "0  2021-01-01      1             6                 0               199  \n",
       "1  2021-01-18      1             6                 0               199  \n",
       "2  2021-04-20      4             6                 0               199  \n",
       "3  2021-08-11      8             6                 0               199  \n",
       "4  2021-08-28      8             6                 0               199  \n",
       "5  2021-10-09     10             6                 0               199  \n",
       "6  2021-10-19     10             6                 0               199  \n",
       "7  2021-11-06     11             6                 0               199  \n",
       "8  2021-11-14     11             6                 0               199  \n",
       "9  2021-11-22     11             6                 0               199  \n",
       "10 2021-12-14     12             6                 0               199  \n",
       "11 2021-12-22     12             6                 0               199  \n",
       "12 2021-03-15      3             6                 0               199  \n",
       "13 2021-03-18      3             6                 0               199  \n",
       "14 2021-03-23      3             6                 0               199  \n",
       "15 2021-04-08      4             6                 0               199  \n",
       "16 2021-04-13      4             6                 0               199  \n",
       "17 2021-06-20      6             6                 0               199  \n",
       "18 2021-07-02      7             6                 0               199  \n",
       "19 2021-07-18      7             6                 0               199  "
      ]
     },
     "execution_count": 92,
     "metadata": {},
     "output_type": "execute_result"
    }
   ],
   "source": [
    "data.head(20)"
   ]
  },
  {
   "cell_type": "markdown",
   "id": "b38fb45e",
   "metadata": {},
   "source": [
    "Новая таблица \"data\" содержит объединенные данные о пользователях, поездках и типах подписки. В таблице 17973 записи, пропущенных значений нет."
   ]
  },
  {
   "cell_type": "markdown",
   "id": "71d167f4",
   "metadata": {},
   "source": [
    "### Создадим датафрейм c данными о пользователях без подписки"
   ]
  },
  {
   "cell_type": "code",
   "execution_count": 95,
   "id": "7f9bb9df",
   "metadata": {},
   "outputs": [
    {
     "data": {
      "text/html": [
       "<div>\n",
       "<style scoped>\n",
       "    .dataframe tbody tr th:only-of-type {\n",
       "        vertical-align: middle;\n",
       "    }\n",
       "\n",
       "    .dataframe tbody tr th {\n",
       "        vertical-align: top;\n",
       "    }\n",
       "\n",
       "    .dataframe thead th {\n",
       "        text-align: right;\n",
       "    }\n",
       "</style>\n",
       "<table border=\"1\" class=\"dataframe\">\n",
       "  <thead>\n",
       "    <tr style=\"text-align: right;\">\n",
       "      <th></th>\n",
       "      <th>user_id</th>\n",
       "      <th>name</th>\n",
       "      <th>age</th>\n",
       "      <th>city</th>\n",
       "      <th>subscription_type</th>\n",
       "      <th>distance</th>\n",
       "      <th>duration</th>\n",
       "      <th>date</th>\n",
       "      <th>month</th>\n",
       "      <th>minute_price</th>\n",
       "      <th>start_ride_price</th>\n",
       "      <th>subscription_fee</th>\n",
       "    </tr>\n",
       "  </thead>\n",
       "  <tbody>\n",
       "    <tr>\n",
       "      <th>13557</th>\n",
       "      <td>1214</td>\n",
       "      <td>Савелий</td>\n",
       "      <td>25</td>\n",
       "      <td>Ростов-на-Дону</td>\n",
       "      <td>free</td>\n",
       "      <td>3425.939822</td>\n",
       "      <td>17.341300</td>\n",
       "      <td>2021-06-07</td>\n",
       "      <td>6</td>\n",
       "      <td>8</td>\n",
       "      <td>50</td>\n",
       "      <td>0</td>\n",
       "    </tr>\n",
       "    <tr>\n",
       "      <th>13167</th>\n",
       "      <td>1187</td>\n",
       "      <td>Влад</td>\n",
       "      <td>17</td>\n",
       "      <td>Москва</td>\n",
       "      <td>free</td>\n",
       "      <td>2466.566527</td>\n",
       "      <td>22.332833</td>\n",
       "      <td>2021-11-10</td>\n",
       "      <td>11</td>\n",
       "      <td>8</td>\n",
       "      <td>50</td>\n",
       "      <td>0</td>\n",
       "    </tr>\n",
       "    <tr>\n",
       "      <th>8220</th>\n",
       "      <td>827</td>\n",
       "      <td>Алиса</td>\n",
       "      <td>28</td>\n",
       "      <td>Краснодар</td>\n",
       "      <td>free</td>\n",
       "      <td>3021.607674</td>\n",
       "      <td>15.945882</td>\n",
       "      <td>2021-12-17</td>\n",
       "      <td>12</td>\n",
       "      <td>8</td>\n",
       "      <td>50</td>\n",
       "      <td>0</td>\n",
       "    </tr>\n",
       "    <tr>\n",
       "      <th>6575</th>\n",
       "      <td>705</td>\n",
       "      <td>Елена</td>\n",
       "      <td>27</td>\n",
       "      <td>Ростов-на-Дону</td>\n",
       "      <td>free</td>\n",
       "      <td>2570.516947</td>\n",
       "      <td>21.282068</td>\n",
       "      <td>2021-03-01</td>\n",
       "      <td>3</td>\n",
       "      <td>8</td>\n",
       "      <td>50</td>\n",
       "      <td>0</td>\n",
       "    </tr>\n",
       "    <tr>\n",
       "      <th>8182</th>\n",
       "      <td>825</td>\n",
       "      <td>Борис</td>\n",
       "      <td>27</td>\n",
       "      <td>Сочи</td>\n",
       "      <td>free</td>\n",
       "      <td>3038.908525</td>\n",
       "      <td>20.575865</td>\n",
       "      <td>2021-03-15</td>\n",
       "      <td>3</td>\n",
       "      <td>8</td>\n",
       "      <td>50</td>\n",
       "      <td>0</td>\n",
       "    </tr>\n",
       "    <tr>\n",
       "      <th>11229</th>\n",
       "      <td>1046</td>\n",
       "      <td>Всеволод</td>\n",
       "      <td>22</td>\n",
       "      <td>Омск</td>\n",
       "      <td>free</td>\n",
       "      <td>3355.576218</td>\n",
       "      <td>21.753677</td>\n",
       "      <td>2021-07-29</td>\n",
       "      <td>7</td>\n",
       "      <td>8</td>\n",
       "      <td>50</td>\n",
       "      <td>0</td>\n",
       "    </tr>\n",
       "    <tr>\n",
       "      <th>16900</th>\n",
       "      <td>1451</td>\n",
       "      <td>Иван</td>\n",
       "      <td>21</td>\n",
       "      <td>Тюмень</td>\n",
       "      <td>free</td>\n",
       "      <td>1205.825119</td>\n",
       "      <td>6.255853</td>\n",
       "      <td>2021-07-19</td>\n",
       "      <td>7</td>\n",
       "      <td>8</td>\n",
       "      <td>50</td>\n",
       "      <td>0</td>\n",
       "    </tr>\n",
       "    <tr>\n",
       "      <th>7676</th>\n",
       "      <td>784</td>\n",
       "      <td>Светлана</td>\n",
       "      <td>30</td>\n",
       "      <td>Ростов-на-Дону</td>\n",
       "      <td>free</td>\n",
       "      <td>1683.200864</td>\n",
       "      <td>17.312003</td>\n",
       "      <td>2021-04-07</td>\n",
       "      <td>4</td>\n",
       "      <td>8</td>\n",
       "      <td>50</td>\n",
       "      <td>0</td>\n",
       "    </tr>\n",
       "    <tr>\n",
       "      <th>8092</th>\n",
       "      <td>818</td>\n",
       "      <td>Антонина</td>\n",
       "      <td>24</td>\n",
       "      <td>Пятигорск</td>\n",
       "      <td>free</td>\n",
       "      <td>2259.006813</td>\n",
       "      <td>9.530023</td>\n",
       "      <td>2021-03-18</td>\n",
       "      <td>3</td>\n",
       "      <td>8</td>\n",
       "      <td>50</td>\n",
       "      <td>0</td>\n",
       "    </tr>\n",
       "    <tr>\n",
       "      <th>13551</th>\n",
       "      <td>1214</td>\n",
       "      <td>Савелий</td>\n",
       "      <td>25</td>\n",
       "      <td>Ростов-на-Дону</td>\n",
       "      <td>free</td>\n",
       "      <td>3448.704638</td>\n",
       "      <td>13.958549</td>\n",
       "      <td>2021-01-27</td>\n",
       "      <td>1</td>\n",
       "      <td>8</td>\n",
       "      <td>50</td>\n",
       "      <td>0</td>\n",
       "    </tr>\n",
       "  </tbody>\n",
       "</table>\n",
       "</div>"
      ],
      "text/plain": [
       "       user_id      name  age            city subscription_type     distance  \\\n",
       "13557     1214   Савелий   25  Ростов-на-Дону              free  3425.939822   \n",
       "13167     1187      Влад   17          Москва              free  2466.566527   \n",
       "8220       827     Алиса   28       Краснодар              free  3021.607674   \n",
       "6575       705     Елена   27  Ростов-на-Дону              free  2570.516947   \n",
       "8182       825     Борис   27            Сочи              free  3038.908525   \n",
       "11229     1046  Всеволод   22            Омск              free  3355.576218   \n",
       "16900     1451      Иван   21          Тюмень              free  1205.825119   \n",
       "7676       784  Светлана   30  Ростов-на-Дону              free  1683.200864   \n",
       "8092       818  Антонина   24       Пятигорск              free  2259.006813   \n",
       "13551     1214   Савелий   25  Ростов-на-Дону              free  3448.704638   \n",
       "\n",
       "        duration       date  month  minute_price  start_ride_price  \\\n",
       "13557  17.341300 2021-06-07      6             8                50   \n",
       "13167  22.332833 2021-11-10     11             8                50   \n",
       "8220   15.945882 2021-12-17     12             8                50   \n",
       "6575   21.282068 2021-03-01      3             8                50   \n",
       "8182   20.575865 2021-03-15      3             8                50   \n",
       "11229  21.753677 2021-07-29      7             8                50   \n",
       "16900   6.255853 2021-07-19      7             8                50   \n",
       "7676   17.312003 2021-04-07      4             8                50   \n",
       "8092    9.530023 2021-03-18      3             8                50   \n",
       "13551  13.958549 2021-01-27      1             8                50   \n",
       "\n",
       "       subscription_fee  \n",
       "13557                 0  \n",
       "13167                 0  \n",
       "8220                  0  \n",
       "6575                  0  \n",
       "8182                  0  \n",
       "11229                 0  \n",
       "16900                 0  \n",
       "7676                  0  \n",
       "8092                  0  \n",
       "13551                 0  "
      ]
     },
     "execution_count": 95,
     "metadata": {},
     "output_type": "execute_result"
    }
   ],
   "source": [
    "free_users = data.query('subscription_type == \"free\" ')\n",
    "free_users.sample(10)"
   ]
  },
  {
   "cell_type": "code",
   "execution_count": 96,
   "id": "ddd5e3dc",
   "metadata": {},
   "outputs": [
    {
     "data": {
      "text/plain": [
       "11568"
      ]
     },
     "execution_count": 96,
     "metadata": {},
     "output_type": "execute_result"
    }
   ],
   "source": [
    "free_users.shape[0]"
   ]
  },
  {
   "cell_type": "markdown",
   "id": "ac29028d",
   "metadata": {},
   "source": [
    "Датафрейм 'free_users' о пользователях без подписки содержит 11473 записи."
   ]
  },
  {
   "cell_type": "markdown",
   "id": "c78631dc",
   "metadata": {},
   "source": [
    "### Создадим датафрейм c данными о пользователях с подпиской"
   ]
  },
  {
   "cell_type": "code",
   "execution_count": 99,
   "id": "8362ea2a",
   "metadata": {},
   "outputs": [
    {
     "data": {
      "text/html": [
       "<div>\n",
       "<style scoped>\n",
       "    .dataframe tbody tr th:only-of-type {\n",
       "        vertical-align: middle;\n",
       "    }\n",
       "\n",
       "    .dataframe tbody tr th {\n",
       "        vertical-align: top;\n",
       "    }\n",
       "\n",
       "    .dataframe thead th {\n",
       "        text-align: right;\n",
       "    }\n",
       "</style>\n",
       "<table border=\"1\" class=\"dataframe\">\n",
       "  <thead>\n",
       "    <tr style=\"text-align: right;\">\n",
       "      <th></th>\n",
       "      <th>user_id</th>\n",
       "      <th>name</th>\n",
       "      <th>age</th>\n",
       "      <th>city</th>\n",
       "      <th>subscription_type</th>\n",
       "      <th>distance</th>\n",
       "      <th>duration</th>\n",
       "      <th>date</th>\n",
       "      <th>month</th>\n",
       "      <th>minute_price</th>\n",
       "      <th>start_ride_price</th>\n",
       "      <th>subscription_fee</th>\n",
       "    </tr>\n",
       "  </thead>\n",
       "  <tbody>\n",
       "    <tr>\n",
       "      <th>4759</th>\n",
       "      <td>512</td>\n",
       "      <td>Мария</td>\n",
       "      <td>29</td>\n",
       "      <td>Омск</td>\n",
       "      <td>ultra</td>\n",
       "      <td>2740.539336</td>\n",
       "      <td>20.277023</td>\n",
       "      <td>2021-05-31</td>\n",
       "      <td>5</td>\n",
       "      <td>6</td>\n",
       "      <td>0</td>\n",
       "      <td>199</td>\n",
       "    </tr>\n",
       "    <tr>\n",
       "      <th>2993</th>\n",
       "      <td>321</td>\n",
       "      <td>Артемий</td>\n",
       "      <td>22</td>\n",
       "      <td>Москва</td>\n",
       "      <td>ultra</td>\n",
       "      <td>2385.776958</td>\n",
       "      <td>22.543108</td>\n",
       "      <td>2021-04-15</td>\n",
       "      <td>4</td>\n",
       "      <td>6</td>\n",
       "      <td>0</td>\n",
       "      <td>199</td>\n",
       "    </tr>\n",
       "    <tr>\n",
       "      <th>4519</th>\n",
       "      <td>487</td>\n",
       "      <td>Николай</td>\n",
       "      <td>22</td>\n",
       "      <td>Екатеринбург</td>\n",
       "      <td>ultra</td>\n",
       "      <td>4067.689204</td>\n",
       "      <td>21.762454</td>\n",
       "      <td>2021-07-19</td>\n",
       "      <td>7</td>\n",
       "      <td>6</td>\n",
       "      <td>0</td>\n",
       "      <td>199</td>\n",
       "    </tr>\n",
       "    <tr>\n",
       "      <th>1170</th>\n",
       "      <td>125</td>\n",
       "      <td>Андрей</td>\n",
       "      <td>20</td>\n",
       "      <td>Тюмень</td>\n",
       "      <td>ultra</td>\n",
       "      <td>2629.937807</td>\n",
       "      <td>17.069087</td>\n",
       "      <td>2021-08-25</td>\n",
       "      <td>8</td>\n",
       "      <td>6</td>\n",
       "      <td>0</td>\n",
       "      <td>199</td>\n",
       "    </tr>\n",
       "    <tr>\n",
       "      <th>3447</th>\n",
       "      <td>371</td>\n",
       "      <td>Владислава</td>\n",
       "      <td>28</td>\n",
       "      <td>Екатеринбург</td>\n",
       "      <td>ultra</td>\n",
       "      <td>2988.165462</td>\n",
       "      <td>25.299084</td>\n",
       "      <td>2021-12-24</td>\n",
       "      <td>12</td>\n",
       "      <td>6</td>\n",
       "      <td>0</td>\n",
       "      <td>199</td>\n",
       "    </tr>\n",
       "    <tr>\n",
       "      <th>1167</th>\n",
       "      <td>125</td>\n",
       "      <td>Андрей</td>\n",
       "      <td>20</td>\n",
       "      <td>Тюмень</td>\n",
       "      <td>ultra</td>\n",
       "      <td>3361.636790</td>\n",
       "      <td>24.205456</td>\n",
       "      <td>2021-05-22</td>\n",
       "      <td>5</td>\n",
       "      <td>6</td>\n",
       "      <td>0</td>\n",
       "      <td>199</td>\n",
       "    </tr>\n",
       "    <tr>\n",
       "      <th>2016</th>\n",
       "      <td>218</td>\n",
       "      <td>Михаил</td>\n",
       "      <td>23</td>\n",
       "      <td>Сочи</td>\n",
       "      <td>ultra</td>\n",
       "      <td>3241.509809</td>\n",
       "      <td>19.960815</td>\n",
       "      <td>2021-08-01</td>\n",
       "      <td>8</td>\n",
       "      <td>6</td>\n",
       "      <td>0</td>\n",
       "      <td>199</td>\n",
       "    </tr>\n",
       "    <tr>\n",
       "      <th>289</th>\n",
       "      <td>30</td>\n",
       "      <td>Кира</td>\n",
       "      <td>29</td>\n",
       "      <td>Краснодар</td>\n",
       "      <td>ultra</td>\n",
       "      <td>3806.459819</td>\n",
       "      <td>12.929895</td>\n",
       "      <td>2021-10-01</td>\n",
       "      <td>10</td>\n",
       "      <td>6</td>\n",
       "      <td>0</td>\n",
       "      <td>199</td>\n",
       "    </tr>\n",
       "    <tr>\n",
       "      <th>3217</th>\n",
       "      <td>348</td>\n",
       "      <td>Татьяна</td>\n",
       "      <td>27</td>\n",
       "      <td>Ростов-на-Дону</td>\n",
       "      <td>ultra</td>\n",
       "      <td>2756.702204</td>\n",
       "      <td>16.876292</td>\n",
       "      <td>2021-10-12</td>\n",
       "      <td>10</td>\n",
       "      <td>6</td>\n",
       "      <td>0</td>\n",
       "      <td>199</td>\n",
       "    </tr>\n",
       "    <tr>\n",
       "      <th>3889</th>\n",
       "      <td>418</td>\n",
       "      <td>Наташа</td>\n",
       "      <td>26</td>\n",
       "      <td>Краснодар</td>\n",
       "      <td>ultra</td>\n",
       "      <td>4392.166693</td>\n",
       "      <td>28.470625</td>\n",
       "      <td>2021-04-28</td>\n",
       "      <td>4</td>\n",
       "      <td>6</td>\n",
       "      <td>0</td>\n",
       "      <td>199</td>\n",
       "    </tr>\n",
       "  </tbody>\n",
       "</table>\n",
       "</div>"
      ],
      "text/plain": [
       "      user_id        name  age            city subscription_type     distance  \\\n",
       "4759      512       Мария   29            Омск             ultra  2740.539336   \n",
       "2993      321     Артемий   22          Москва             ultra  2385.776958   \n",
       "4519      487     Николай   22    Екатеринбург             ultra  4067.689204   \n",
       "1170      125      Андрей   20          Тюмень             ultra  2629.937807   \n",
       "3447      371  Владислава   28    Екатеринбург             ultra  2988.165462   \n",
       "1167      125      Андрей   20          Тюмень             ultra  3361.636790   \n",
       "2016      218      Михаил   23            Сочи             ultra  3241.509809   \n",
       "289        30        Кира   29       Краснодар             ultra  3806.459819   \n",
       "3217      348     Татьяна   27  Ростов-на-Дону             ultra  2756.702204   \n",
       "3889      418      Наташа   26       Краснодар             ultra  4392.166693   \n",
       "\n",
       "       duration       date  month  minute_price  start_ride_price  \\\n",
       "4759  20.277023 2021-05-31      5             6                 0   \n",
       "2993  22.543108 2021-04-15      4             6                 0   \n",
       "4519  21.762454 2021-07-19      7             6                 0   \n",
       "1170  17.069087 2021-08-25      8             6                 0   \n",
       "3447  25.299084 2021-12-24     12             6                 0   \n",
       "1167  24.205456 2021-05-22      5             6                 0   \n",
       "2016  19.960815 2021-08-01      8             6                 0   \n",
       "289   12.929895 2021-10-01     10             6                 0   \n",
       "3217  16.876292 2021-10-12     10             6                 0   \n",
       "3889  28.470625 2021-04-28      4             6                 0   \n",
       "\n",
       "      subscription_fee  \n",
       "4759               199  \n",
       "2993               199  \n",
       "4519               199  \n",
       "1170               199  \n",
       "3447               199  \n",
       "1167               199  \n",
       "2016               199  \n",
       "289                199  \n",
       "3217               199  \n",
       "3889               199  "
      ]
     },
     "execution_count": 99,
     "metadata": {},
     "output_type": "execute_result"
    }
   ],
   "source": [
    "ultra_users = data.query('subscription_type == \"ultra\" ')\n",
    "ultra_users.sample(10)"
   ]
  },
  {
   "cell_type": "code",
   "execution_count": 100,
   "id": "db3099e3",
   "metadata": {},
   "outputs": [
    {
     "data": {
      "text/plain": [
       "6500"
      ]
     },
     "execution_count": 100,
     "metadata": {},
     "output_type": "execute_result"
    }
   ],
   "source": [
    "ultra_users.shape[0]"
   ]
  },
  {
   "cell_type": "markdown",
   "id": "c1676fff",
   "metadata": {},
   "source": [
    "Датафрейм 'ultra_users' о пользователях с подпиской содержит 6500 записей."
   ]
  },
  {
   "cell_type": "markdown",
   "id": "c59e9a6d",
   "metadata": {},
   "source": [
    "### Расстояние и время поездок для пользователей обеих категорий"
   ]
  },
  {
   "cell_type": "markdown",
   "id": "d2c2499d",
   "metadata": {},
   "source": [
    "Построим гистограммы расстояния за одну поездку для пользователей с подпиской и без подписки."
   ]
  },
  {
   "cell_type": "code",
   "execution_count": 105,
   "id": "4f84e53e",
   "metadata": {},
   "outputs": [
    {
     "data": {
      "image/png": "[encoded data removed]",
      "text/plain": [
       "<Figure size 1000x600 with 1 Axes>"
      ]
     },
     "metadata": {},
     "output_type": "display_data"
    }
   ],
   "source": [
    "ax = free_users.plot(\n",
    "    kind='hist', \n",
    "    bins=30,\n",
    "    y='distance', \n",
    "    alpha=0.7, \n",
    "    label='free',\n",
    "    figsize=(10, 6),\n",
    ")\n",
    "ultra_users.plot(\n",
    "    kind='hist', \n",
    "    bins=30,\n",
    "    y='distance', \n",
    "    alpha=0.7, \n",
    "    label='ultra',\n",
    "    ax=ax,\n",
    "    grid=True,\n",
    "    legend=True,\n",
    ")\n",
    "plt.title('Расстояние за одну поездку')\n",
    "plt.xlabel('Расстояние, м')\n",
    "plt.ylabel('Частота')\n",
    "plt.show()"
   ]
  },
  {
   "cell_type": "code",
   "execution_count": 106,
   "id": "64fecd19",
   "metadata": {},
   "outputs": [
    {
     "name": "stdout",
     "output_type": "stream",
     "text": [
      "Среднее расстояние одной поездки пользователей без подписки: 3045 метров\n",
      "Среднее расстояние одной поездки пользователей с подпиской: 3115 метров\n"
     ]
    }
   ],
   "source": [
    "print('Среднее расстояние одной поездки пользователей без подписки:', round(free_users['distance'].mean()), 'метров')\n",
    "print('Среднее расстояние одной поездки пользователей с подпиской:', round(ultra_users['distance'].mean()), 'метров')"
   ]
  },
  {
   "cell_type": "markdown",
   "id": "3d6b49aa",
   "metadata": {},
   "source": [
    "Среднее расстояние одной поездки пользователей с подпиской и без отличается незначительно и составляет 3115 и 3045 метров соответственно.\n",
    "\n",
    "Пользователи без подписки совершают значительно больше коротких поездок, на расстояние до 1 км. Возможно это новые клиенты сервиса. \n",
    "Пользователи без подписки совершают более длинные поездки, максимальное расстояние одной поездки свыше 7км против ~ 5,8км у пользователей с подпиской."
   ]
  },
  {
   "cell_type": "markdown",
   "id": "7b2de092",
   "metadata": {},
   "source": [
    "Построим гистограммы продолжительности поездки для пользователей с подпиской и без подписки."
   ]
  },
  {
   "cell_type": "code",
   "execution_count": 109,
   "id": "f01f7032",
   "metadata": {
    "scrolled": true
   },
   "outputs": [
    {
     "data": {
      "image/png": "[encoded data removed]",
      "text/plain": [
       "<Figure size 1000x500 with 1 Axes>"
      ]
     },
     "metadata": {},
     "output_type": "display_data"
    }
   ],
   "source": [
    "ax = free_users.plot(\n",
    "    kind='hist', \n",
    "    bins=30,\n",
    "    y='duration', \n",
    "    alpha=0.7, \n",
    "    label='free',\n",
    "    figsize=(10, 5),\n",
    ")\n",
    "ultra_users.plot(\n",
    "    kind='hist', \n",
    "    bins=30,\n",
    "    y='duration', \n",
    "    alpha=0.7, \n",
    "    label='ultra',\n",
    "    ax=ax,\n",
    "    grid=True,\n",
    "    legend=True,\n",
    ")\n",
    "plt.title('Длительность поездки')\n",
    "plt.xlabel('Время, мин')\n",
    "plt.ylabel('Частота')\n",
    "plt.show()"
   ]
  },
  {
   "cell_type": "code",
   "execution_count": 110,
   "id": "9624f2e8",
   "metadata": {},
   "outputs": [
    {
     "name": "stdout",
     "output_type": "stream",
     "text": [
      "Средняя продолжительность поездки пользователей без подписки: 17 минут\n",
      "Средняя продолжительность поездки пользователей с подпиской: 19 минут\n"
     ]
    }
   ],
   "source": [
    "print('Средняя продолжительность поездки пользователей без подписки:', round(free_users['duration'].mean()), 'минут')\n",
    "print('Средняя продолжительность поездки пользователей с подпиской:', round(ultra_users['duration'].mean()), 'минут')"
   ]
  },
  {
   "cell_type": "markdown",
   "id": "3246bbc9",
   "metadata": {},
   "source": [
    "Средняя длительность поездки пользователей без подписки и с подпиской отличается и составляет 17 и 19 минут соответственно. \n",
    "Среди пользователей с подпиской есть те, кто совершают более долгие поездки - свыше 40 минут, в то время как максимальная длительность поездки клиентов без подписки не превышает 35 минут. В группе пользователей без подписки есть пик значений времени в районе около 1 минуты. Возможно это новые пользователи, совершающие пробные поездки."
   ]
  },
  {
   "cell_type": "markdown",
   "id": "03c72637",
   "metadata": {},
   "source": [
    "## Подсчёт выручки"
   ]
  },
  {
   "cell_type": "markdown",
   "id": "94547f18",
   "metadata": {},
   "source": [
    "### Округлим до следующего целого значения в колонках \"расстояние\" и \"продолжительность сессии\""
   ]
  },
  {
   "cell_type": "code",
   "execution_count": 118,
   "id": "2cb4535a",
   "metadata": {
    "scrolled": true
   },
   "outputs": [],
   "source": [
    "data['distance'] = np.ceil(data['distance']).astype(int)\n",
    "data['duration'] = np.ceil(data['duration']).astype(int)"
   ]
  },
  {
   "cell_type": "markdown",
   "id": "7ae6ac2d",
   "metadata": {},
   "source": [
    "### Создадим датафрейм с агрегированными данными о поездках"
   ]
  },
  {
   "cell_type": "markdown",
   "id": "399d5b62",
   "metadata": {},
   "source": [
    "Проверим, нет ли в датафрейме пользователей с двумя типами подписки одновременно."
   ]
  },
  {
   "cell_type": "code",
   "execution_count": 122,
   "id": "81b56a95",
   "metadata": {},
   "outputs": [
    {
     "data": {
      "text/plain": [
       "True"
      ]
     },
     "execution_count": 122,
     "metadata": {},
     "output_type": "execute_result"
    }
   ],
   "source": [
    "data.groupby('user_id')['subscription_type'].unique().count() == data.groupby('user_id')['user_id'].unique().count()"
   ]
  },
  {
   "cell_type": "code",
   "execution_count": 123,
   "id": "e22801b5",
   "metadata": {},
   "outputs": [
    {
     "data": {
      "text/html": [
       "<div>\n",
       "<style scoped>\n",
       "    .dataframe tbody tr th:only-of-type {\n",
       "        vertical-align: middle;\n",
       "    }\n",
       "\n",
       "    .dataframe tbody tr th {\n",
       "        vertical-align: top;\n",
       "    }\n",
       "\n",
       "    .dataframe thead th {\n",
       "        text-align: right;\n",
       "    }\n",
       "</style>\n",
       "<table border=\"1\" class=\"dataframe\">\n",
       "  <thead>\n",
       "    <tr style=\"text-align: right;\">\n",
       "      <th></th>\n",
       "      <th>user_id</th>\n",
       "      <th>month</th>\n",
       "      <th>count</th>\n",
       "      <th>distance</th>\n",
       "      <th>duration</th>\n",
       "      <th>minute_price</th>\n",
       "      <th>start_ride_price</th>\n",
       "      <th>subscription_fee</th>\n",
       "      <th>subscription_type</th>\n",
       "      <th>revenue</th>\n",
       "    </tr>\n",
       "  </thead>\n",
       "  <tbody>\n",
       "    <tr>\n",
       "      <th>0</th>\n",
       "      <td>1</td>\n",
       "      <td>1</td>\n",
       "      <td>2</td>\n",
       "      <td>7028</td>\n",
       "      <td>42</td>\n",
       "      <td>6</td>\n",
       "      <td>0</td>\n",
       "      <td>199</td>\n",
       "      <td>ultra</td>\n",
       "      <td>451</td>\n",
       "    </tr>\n",
       "    <tr>\n",
       "      <th>1</th>\n",
       "      <td>1</td>\n",
       "      <td>4</td>\n",
       "      <td>1</td>\n",
       "      <td>755</td>\n",
       "      <td>7</td>\n",
       "      <td>6</td>\n",
       "      <td>0</td>\n",
       "      <td>199</td>\n",
       "      <td>ultra</td>\n",
       "      <td>241</td>\n",
       "    </tr>\n",
       "    <tr>\n",
       "      <th>2</th>\n",
       "      <td>1</td>\n",
       "      <td>8</td>\n",
       "      <td>2</td>\n",
       "      <td>6724</td>\n",
       "      <td>46</td>\n",
       "      <td>6</td>\n",
       "      <td>0</td>\n",
       "      <td>199</td>\n",
       "      <td>ultra</td>\n",
       "      <td>475</td>\n",
       "    </tr>\n",
       "    <tr>\n",
       "      <th>3</th>\n",
       "      <td>1</td>\n",
       "      <td>10</td>\n",
       "      <td>2</td>\n",
       "      <td>5811</td>\n",
       "      <td>32</td>\n",
       "      <td>6</td>\n",
       "      <td>0</td>\n",
       "      <td>199</td>\n",
       "      <td>ultra</td>\n",
       "      <td>391</td>\n",
       "    </tr>\n",
       "    <tr>\n",
       "      <th>4</th>\n",
       "      <td>1</td>\n",
       "      <td>11</td>\n",
       "      <td>3</td>\n",
       "      <td>7005</td>\n",
       "      <td>56</td>\n",
       "      <td>6</td>\n",
       "      <td>0</td>\n",
       "      <td>199</td>\n",
       "      <td>ultra</td>\n",
       "      <td>535</td>\n",
       "    </tr>\n",
       "    <tr>\n",
       "      <th>5</th>\n",
       "      <td>1</td>\n",
       "      <td>12</td>\n",
       "      <td>2</td>\n",
       "      <td>6753</td>\n",
       "      <td>28</td>\n",
       "      <td>6</td>\n",
       "      <td>0</td>\n",
       "      <td>199</td>\n",
       "      <td>ultra</td>\n",
       "      <td>367</td>\n",
       "    </tr>\n",
       "    <tr>\n",
       "      <th>6</th>\n",
       "      <td>2</td>\n",
       "      <td>3</td>\n",
       "      <td>3</td>\n",
       "      <td>10190</td>\n",
       "      <td>63</td>\n",
       "      <td>6</td>\n",
       "      <td>0</td>\n",
       "      <td>199</td>\n",
       "      <td>ultra</td>\n",
       "      <td>577</td>\n",
       "    </tr>\n",
       "    <tr>\n",
       "      <th>7</th>\n",
       "      <td>2</td>\n",
       "      <td>4</td>\n",
       "      <td>2</td>\n",
       "      <td>6165</td>\n",
       "      <td>40</td>\n",
       "      <td>6</td>\n",
       "      <td>0</td>\n",
       "      <td>199</td>\n",
       "      <td>ultra</td>\n",
       "      <td>439</td>\n",
       "    </tr>\n",
       "    <tr>\n",
       "      <th>8</th>\n",
       "      <td>2</td>\n",
       "      <td>6</td>\n",
       "      <td>1</td>\n",
       "      <td>3256</td>\n",
       "      <td>14</td>\n",
       "      <td>6</td>\n",
       "      <td>0</td>\n",
       "      <td>199</td>\n",
       "      <td>ultra</td>\n",
       "      <td>283</td>\n",
       "    </tr>\n",
       "    <tr>\n",
       "      <th>9</th>\n",
       "      <td>2</td>\n",
       "      <td>7</td>\n",
       "      <td>2</td>\n",
       "      <td>6781</td>\n",
       "      <td>48</td>\n",
       "      <td>6</td>\n",
       "      <td>0</td>\n",
       "      <td>199</td>\n",
       "      <td>ultra</td>\n",
       "      <td>487</td>\n",
       "    </tr>\n",
       "  </tbody>\n",
       "</table>\n",
       "</div>"
      ],
      "text/plain": [
       "   user_id  month  count  distance  duration  minute_price  start_ride_price  \\\n",
       "0        1      1      2      7028        42             6                 0   \n",
       "1        1      4      1       755         7             6                 0   \n",
       "2        1      8      2      6724        46             6                 0   \n",
       "3        1     10      2      5811        32             6                 0   \n",
       "4        1     11      3      7005        56             6                 0   \n",
       "5        1     12      2      6753        28             6                 0   \n",
       "6        2      3      3     10190        63             6                 0   \n",
       "7        2      4      2      6165        40             6                 0   \n",
       "8        2      6      1      3256        14             6                 0   \n",
       "9        2      7      2      6781        48             6                 0   \n",
       "\n",
       "   subscription_fee subscription_type  revenue  \n",
       "0               199             ultra      451  \n",
       "1               199             ultra      241  \n",
       "2               199             ultra      475  \n",
       "3               199             ultra      391  \n",
       "4               199             ultra      535  \n",
       "5               199             ultra      367  \n",
       "6               199             ultra      577  \n",
       "7               199             ultra      439  \n",
       "8               199             ultra      283  \n",
       "9               199             ultra      487  "
      ]
     },
     "execution_count": 123,
     "metadata": {},
     "output_type": "execute_result"
    }
   ],
   "source": [
    "data_agg = data.pivot_table(index=['user_id','month'], \n",
    "                            values=('date', \n",
    "                                    'distance', \n",
    "                                    'duration', \n",
    "                                    'subscription_type', \n",
    "                                    'minute_price', \n",
    "                                    'start_ride_price', \n",
    "                                    'subscription_fee'), \n",
    "                            aggfunc={'date':'count',\n",
    "                                     'distance':'sum',\n",
    "                                     'duration': 'sum',\n",
    "                                     'subscription_type':'first',\n",
    "                                     'minute_price':'first',\n",
    "                                     'start_ride_price':'first',\n",
    "                                     'subscription_fee':'first'\n",
    "                                    }).reset_index().rename(columns={'date':'count'})\n",
    "\n",
    "# добавим столбец с помесячной выручкой, которую принёс каждый пользователь\n",
    "data_agg['revenue'] = (data_agg['start_ride_price'] * data_agg['count']\n",
    "                       + data_agg['minute_price'] * data_agg['duration']\n",
    "                       + data_agg['subscription_fee'])\n",
    "\n",
    "data_agg.head(10)"
   ]
  },
  {
   "cell_type": "markdown",
   "id": "1e7bd95a",
   "metadata": {},
   "source": [
    "Таблица data_agg содержит данные о поездках пользователей, сгруппированные по идентификатору пользователя и месяцу, в котором совершались поездки: \n",
    "- user_id - идентификатор пользователя;\n",
    "- month - месяц поездки;\n",
    "- count - количество поездок;\n",
    "- distance - общее расстояние за месяц;\n",
    "- duration - общая длительность поездок за месяц\n",
    "- minute_price - стоимость одной минуты поездки по данной подписке;\n",
    "- start_ride_price - стоимость начала поездки;\n",
    "- subscription_fee - стоимость ежемесячного платежа;\n",
    "- subscription_type - тип подписки;\n",
    "- revenue - помесячная выручка (считается по формуле: стоимость старта поездки × количество поездок + стоимость одной минуты поездки × общая продолжительность всех поездок в минутах + стоимость подписки)."
   ]
  },
  {
   "cell_type": "markdown",
   "id": "11627dce",
   "metadata": {},
   "source": [
    "## Проверка гипотез"
   ]
  },
  {
   "cell_type": "markdown",
   "id": "ad52bae3",
   "metadata": {},
   "source": [
    "Мы получили данные о суммарном количестве времени на поездки, расстоянии, которое преодолел каждый пользователь за месяц, помесячной выручке. Нашей задачей будет проверка следующих гипотез:\n",
    "* 1. Тратят ли пользователи с подпиской больше времени на поездки? Если да, то пользователи с подпиской могут быть «выгоднее» для компании. \n",
    "* 2. Расстояние одной поездки в 3130 метров — оптимальное с точки зрения износа самоката.  Можно ли сказать, что среднее расстояние, которое проезжают пользователи с подпиской за одну поездку, не превышает 3130 метров?\n",
    "* 3. Будет ли помесячная выручка от пользователей с подпиской по месяцам выше, чем выручка от пользователей без подписки. "
   ]
  },
  {
   "cell_type": "markdown",
   "id": "e6a1ea61",
   "metadata": {},
   "source": [
    "### Тратят ли пользователи с подпиской больше времени на поездки?"
   ]
  },
  {
   "cell_type": "markdown",
   "id": "e44715dd",
   "metadata": {},
   "source": [
    "Проверим следующие предположения:\n",
    "* пользователи без подписки тратят меньшее или то же количество времени на поездки, что и пользователи с подпиской.\n",
    "* пользователи с подпиской тратят больше времени на поездки.\n",
    "\n",
    "Для проверки гипотезы используем данные о продолжительности каждой сессии — отдельно для подписчиков и тех, у кого нет подписки. Так как наши группы пользователей не зависят друг от друга, будем сравнивать средние двух генеральных совокупностей, используя t-test для двух независимых групп.\n",
    "\n",
    "Сформулируем гипотезы:\n",
    "* Н0: средняя продолжительность поездки пользователей с подпиской равна продолжительности поездки пользователей без подписки;\n",
    "* Н1: средняя продолжительность поездки пользователей с подпиской больше, чем у пользователей без подписки.\n",
    "\n",
    "Возьмем уровень значимости равный 5%"
   ]
  },
  {
   "cell_type": "code",
   "execution_count": 131,
   "id": "564df0ea",
   "metadata": {},
   "outputs": [
    {
     "name": "stdout",
     "output_type": "stream",
     "text": [
      "p-value= 1.2804098316645618e-34\n",
      "Отвергаем нулевую гипотезу\n"
     ]
    }
   ],
   "source": [
    "alpha = 0.05\n",
    "results = st.ttest_ind(ultra_users['duration'], free_users['duration'], alternative='greater')\n",
    "\n",
    "print('p-value=', results.pvalue)\n",
    "\n",
    "if results.pvalue < alpha:\n",
    "    print('Отвергаем нулевую гипотезу')\n",
    "else:\n",
    "    print('Нет оснований отвергнуть нулевую гипотезу')"
   ]
  },
  {
   "cell_type": "code",
   "execution_count": 132,
   "id": "0f881500",
   "metadata": {},
   "outputs": [
    {
     "name": "stdout",
     "output_type": "stream",
     "text": [
      "Среднее время для пользователей с подпиской 18.54198516280583\n",
      "Среднее время для пользователей без подписки 17.39090929866399\n"
     ]
    }
   ],
   "source": [
    "# проверим, используя средние значения для каждой группы\n",
    "print('Среднее время для пользователей с подпиской', ultra_users['duration'].mean())\n",
    "print('Среднее время для пользователей без подписки', free_users['duration'].mean())"
   ]
  },
  {
   "cell_type": "markdown",
   "id": "6f3cd6db",
   "metadata": {},
   "source": [
    "Полученное значение p-value меньше заданного уровня значимости, собственно оно стремится к нулю. Значит у нас нет оснований предполагать, что пользователи с подпиской тратят меньше или столько же времени на поездки, что и пользователи без подписки. Будем считать, что пользователи с подпиской тратят больше времени на поездки. В таком случак можно предположить, что эта группа пользователей может быть \"выгоднее\" для компании."
   ]
  },
  {
   "cell_type": "markdown",
   "id": "a4928b6e",
   "metadata": {},
   "source": [
    "### Можно ли сказать, что среднее расстояние, которое проезжают пользователи с подпиской за одну поездку, не превышает 3130 метров?"
   ]
  },
  {
   "cell_type": "markdown",
   "id": "a76a37cb",
   "metadata": {},
   "source": [
    "Проверим следующие предположения:\n",
    "* Н0: среднее расстояние, которое проезжают пользователи с подпиской за одну поездку, составляет 3130 метров или меньше;\n",
    "* Н1: среднее расстояние, которое проезжают пользователи с подпиской за одну поездку, больше 3130 метров.\n",
    "\n",
    "Будем использовать односторонний t-тест для одной выборки. Уровень значимости возьмем равным 5%."
   ]
  },
  {
   "cell_type": "code",
   "execution_count": 136,
   "id": "4406d99d",
   "metadata": {},
   "outputs": [
    {
     "name": "stdout",
     "output_type": "stream",
     "text": [
      "p-value= 0.9195368847849785\n",
      "Нет оснований отвергнуть нулевую гипотезу\n"
     ]
    }
   ],
   "source": [
    "alpha = 0.05\n",
    "control_value = 3130\n",
    "\n",
    "results = st.ttest_1samp(\n",
    "          ultra_users['distance'],\n",
    "          control_value, \n",
    "          alternative='greater')\n",
    "\n",
    "print('p-value=', results.pvalue)\n",
    "\n",
    "if results.pvalue < alpha:\n",
    "    print('Отвергаем нулевую гипотезу')\n",
    "else:\n",
    "    print('Нет оснований отвергнуть нулевую гипотезу')"
   ]
  },
  {
   "cell_type": "code",
   "execution_count": 137,
   "id": "3ccbbbb8",
   "metadata": {},
   "outputs": [
    {
     "name": "stdout",
     "output_type": "stream",
     "text": [
      "Среднее расстояние для пользователей с подпиской 3115.4453880370247\n"
     ]
    }
   ],
   "source": [
    "# проверим, используя средние значения для каждой группы\n",
    "print('Среднее расстояние для пользователей с подпиской', ultra_users['distance'].mean())"
   ]
  },
  {
   "cell_type": "markdown",
   "id": "68575179",
   "metadata": {},
   "source": [
    "Исследование не подтвердило, что пользователи с подпиской за одну поездку проезжают больше 3130 метров. И так как это расстояние оптимальное с точки зрения износа самоката, можно сделать вывод, что пользователи с подпиской и в этом случае \"выгодны\" компании."
   ]
  },
  {
   "cell_type": "markdown",
   "id": "82e473a1",
   "metadata": {},
   "source": [
    "### Будет ли помесячная выручка от пользователей с подпиской по месяцам выше, чем выручка от пользователей без подписки? "
   ]
  },
  {
   "cell_type": "markdown",
   "id": "3d49b631",
   "metadata": {},
   "source": [
    "Проверим следующие предположения:\n",
    "* Помесячная выручка от пользователей с подпиской не превышает выручку от пользователей без подписки;\n",
    "* Помесячная выручка от пользователей с подпиской выше, чем от пользователей без подписки.\n",
    "\n",
    "Для проверки предположения используем данные о выручке по месяцам для каждой группы пользователей. Используя гипотезу о равенстве средних, проведем t-тест для двух независимых групп. Уровень значимости возьмем равным 5%.\n",
    "\n",
    "Сформулируем гипотезы:\n",
    "* Н0: средняя выручка от пользователей с подпиской равна средней выручке от пользователей без подписки;\n",
    "* Н1: средняя выручка от пользователей с подпиской больше чем от пользователей без подписки."
   ]
  },
  {
   "cell_type": "code",
   "execution_count": 141,
   "id": "1c33fabe",
   "metadata": {},
   "outputs": [
    {
     "name": "stdout",
     "output_type": "stream",
     "text": [
      "p-value= 1.8850394384715216e-31\n",
      "Отвергаем нулевую гипотезу\n"
     ]
    }
   ],
   "source": [
    "free_users_revenue = data_agg.query('subscription_type == \"free\" ')['revenue'] # выручка от пользователей без подписки\n",
    "ultra_users_revenue = data_agg.query('subscription_type == \"ultra\" ')['revenue'] # выручка от пользователей с подпиской\n",
    "\n",
    "alpha = 0.05\n",
    "\n",
    "results = st.ttest_ind(\n",
    "          ultra_users_revenue, \n",
    "          free_users_revenue,\n",
    "          alternative='greater')\n",
    "\n",
    "print('p-value=', results.pvalue)\n",
    "\n",
    "if results.pvalue < alpha:\n",
    "    print('Отвергаем нулевую гипотезу')\n",
    "else:\n",
    "    print('Нет оснований отвергнуть нулевую гипотезу')"
   ]
  },
  {
   "cell_type": "code",
   "execution_count": 142,
   "id": "c176064f",
   "metadata": {},
   "outputs": [
    {
     "name": "stdout",
     "output_type": "stream",
     "text": [
      "Средняя выручка для пользователей с подпиской 362.7921906022502\n",
      "Средняя выручка для пользователей без подписки 328.6413651073845\n"
     ]
    }
   ],
   "source": [
    "# проверим, используя средние значения для каждой группы\n",
    "print('Средняя выручка для пользователей с подпиской', ultra_users_revenue.mean())\n",
    "print('Средняя выручка для пользователей без подписки', free_users_revenue.mean())"
   ]
  },
  {
   "cell_type": "markdown",
   "id": "f4e68894",
   "metadata": {},
   "source": [
    "Исследование не подтвердило, что что выручка от пользователей с подпиской меньше чем от пользователей без подписки. Значит можно предполагать обратное: пользователи с подпиской более выгодные для компании клиенты. "
   ]
  },
  {
   "cell_type": "markdown",
   "id": "b0aefce8",
   "metadata": {},
   "source": [
    "### Выбор теста для проверки гипотезы об улучшениях мобильного приложения"
   ]
  },
  {
   "cell_type": "markdown",
   "id": "52ab06aa",
   "metadata": {},
   "source": [
    "Техническая команда сервиса обновила сервера, с которыми взаимодействует мобильное приложение. Она надеется, что из-за этого количество обращений в техподдержку значимо снизилось. Некоторый файл содержит для каждого пользователя данные о количестве обращений до обновления и после него. Какой тест нам понадобился бы для проверки этой гипотезы?"
   ]
  },
  {
   "cell_type": "markdown",
   "id": "dc5c449a",
   "metadata": {},
   "source": [
    "В данном случае мы анализируем одну генеральную совокупность, с которой произошли некоторые изменения. Это одни и те же клиенты сервиса, использующие мобильное приложение до и после обновления серверов. Поэтому мы будем использовать гипотезу о равенстве средних для зависимых выборок.\n",
    "\n",
    "В нашем случае мы будем проверять, равны ли средние количества обращений в техподдержку от одних и тех же клиентов до и после обновления серверов. \n",
    "\n",
    "<div class=\"alert alert-block alert-info\">\n",
    "\n",
    "Для проверки используем метод `ttest_rel()` из библиотеки scipy.stats\n",
    "\n",
    "</div>"
   ]
  },
  {
   "cell_type": "markdown",
   "id": "f8d657fc",
   "metadata": {},
   "source": [
    "## Распределения"
   ]
  },
  {
   "cell_type": "markdown",
   "id": "b9ee4dd2",
   "metadata": {},
   "source": [
    "### Акция с раздачей промокодов на один бесплатный месяц подписки"
   ]
  },
  {
   "cell_type": "markdown",
   "id": "cd82c5ef",
   "metadata": {},
   "source": [
    "Поможем отделу маркетинга GoFast решить следующую задачу: \n",
    "\n",
    "Нужно провести акцию с раздачей промокодов на один бесплатный месяц подписки, в рамках которой как минимум 100 существующих клиентов должны продлить эту подписку. То есть по завершении периода действия подписки пользователь может либо отказаться от неё, либо продлить, совершив соответствующий платёж. \n",
    "Известно, что эта акция уже проводилась ранее и по итогу выяснилось, что после бесплатного пробного периода подписку продлевают \n",
    "10 % пользователей. Необходимо выяснить, какое минимальное количество промокодов нужно разослать, чтобы вероятность не выполнить план была примерно 5 %. \n",
    "\n",
    "Подберем параметры распределения, описывающего эту ситуацию, построим график распределения и ответим на вопрос о количестве промокодов."
   ]
  },
  {
   "cell_type": "code",
   "execution_count": 153,
   "id": "3b0fe119",
   "metadata": {
    "scrolled": true
   },
   "outputs": [
    {
     "data": {
      "image/png": "[encoded data removed]",
      "text/plain": [
       "<Figure size 640x480 with 1 Axes>"
      ]
     },
     "metadata": {},
     "output_type": "display_data"
    }
   ],
   "source": [
    "# Возьмем количество попыток равное 1000, вероятность успеха по условию равна 10%\n",
    "n = 1000\n",
    "p = 0.1\n",
    "\n",
    "# Будем использовать биномиальное распределение\n",
    "distr = []\n",
    "for k in range (0, n + 1):\n",
    "    current_value = binom.pmf(k, n, p)\n",
    "    distr.append(current_value)\n",
    "\n",
    "# Построим график распределения: по горизонтальной оси отложим возможное число успехов, \n",
    "# а по вертикальной — вероятность соответствующего исхода. \n",
    "plt.bar(range(0, n + 1), distr)\n",
    "plt.title('График биномиального распределения')\n",
    "plt.xlabel('Возможное число успехов')\n",
    "plt.ylabel('Плотность вероятности')\n",
    "plt.show()"
   ]
  },
  {
   "cell_type": "markdown",
   "id": "63c9c796",
   "metadata": {},
   "source": [
    "Минимальное количество успехов k - число продлений подписки должно быть равно 100. Вероятность не выполнить план - 5%. Предположим, что необходимое количество попыток n лежит в промежутке от 1000 до 1500. Цикл будет перебирать значения в этом интервале пока не доберется до первого необходимого количества попыток, когда вероятность неудачи будет менее 5%"
   ]
  },
  {
   "cell_type": "code",
   "execution_count": 159,
   "id": "d302b53d",
   "metadata": {},
   "outputs": [
    {
     "name": "stdout",
     "output_type": "stream",
     "text": [
      "Минимальное количество попыток: 1161\n"
     ]
    }
   ],
   "source": [
    "for n in range (1000,1500):\n",
    "    if binom.cdf(99, n, p) < 0.05:\n",
    "        print(\"Минимальное количество попыток:\", n)\n",
    "        break"
   ]
  },
  {
   "cell_type": "markdown",
   "id": "74a4d118",
   "metadata": {},
   "source": [
    "Нужно разослать минимум 1161 промокод , чтобы вероятность не выполнить план была примерно 5 %."
   ]
  },
  {
   "cell_type": "markdown",
   "id": "39eac70b",
   "metadata": {},
   "source": [
    "### Оценка вероятности открытия push-уведомления"
   ]
  },
  {
   "cell_type": "markdown",
   "id": "9dcd6e52",
   "metadata": {},
   "source": [
    "Отдел маркетинга рассылает клиентам push-уведомления в мобильном приложении. Клиенты могут открыть его или не открывать. Известно, что уведомления открывают около 40 % получивших клиентов. Отдел планирует разослать 1 млн уведомлений. С помощью аппроксимации постройте примерный график распределения и оцените вероятность того, что уведомление откроют не более 399,5 тыс. пользователей.\n",
    "\n",
    "Воспользуемся нормальной аппроксимацией биномиального распределения."
   ]
  },
  {
   "cell_type": "code",
   "execution_count": 163,
   "id": "d986d386",
   "metadata": {},
   "outputs": [
    {
     "data": {
      "text/plain": [
       "0.15371708296369768"
      ]
     },
     "execution_count": 163,
     "metadata": {},
     "output_type": "execute_result"
    }
   ],
   "source": [
    "# Параметры биномиального распределения\n",
    "n = 1000000 \n",
    "p = 0.4\n",
    "\n",
    "mu = n * p # мат.ожидание нормально расп. = мат. ожиданию биномиального расп.\n",
    "sigma = sqrt(n * p * (1 - p)) # стандартное отклонение нор. расп-я = станд. отклонению биномиального расп-я\n",
    "# задаём нормальное распределение с математическим ожиданием 400000 и стандартным отклонением ~489.9\n",
    "distr = st.norm(mu, sigma) \n",
    "# считаем вероятность получить значение <= x\n",
    "x = 399500\n",
    "\n",
    "result = distr.cdf(x)\n",
    "result"
   ]
  },
  {
   "cell_type": "markdown",
   "id": "a4dd8d00",
   "metadata": {},
   "source": [
    "Вероятность того, что уведомление откроют не более 399,5 тыс. пользователей составляет 15.37%"
   ]
  },
  {
   "cell_type": "markdown",
   "id": "2f437506",
   "metadata": {},
   "source": [
    "## Общий вывод"
   ]
  },
  {
   "cell_type": "markdown",
   "id": "d49b6271",
   "metadata": {},
   "source": [
    "В процессе исследования были реализованы следующие действия:\n",
    "- 1. Импортированы и изучены данные.\n",
    "\n",
    "\n",
    "- 2. В процессе предобработки:\n",
    "    - формат столбца `date` таблицы `rides` переведен в формат `datetime`;\n",
    "    - добавлен столбец `month` c номером месяца;\n",
    "    - из таблицы `users` удалены дубликаты;\n",
    "    - значения в колонках с расстоянием и продолжительностью сессии округлены до целого числа;\n",
    "    - таблицы проверены на наличие пропущенных значений.\n",
    "\n",
    "\n",
    "- 3. Проведен исследовательский анализ данных:\n",
    "    - изучена частота встречаемости городов: в датафрейме обнаружены записи о пользователях из восьми городов России. 14% всех пользователей из Пятигорска - это самый часто встречающийся город в таблице. Меньше всего записей о пользователях из Москвы - около 11%. Данные по городам распределены равномерно.\n",
    "    - в результате исследования соотношения пользователей с подпиской и без подписки сделаны следующие выводы: Более половины всех пользователей сервиса - 54% не используют подписку. Доля пользователей, оформивших подписку составляет 46%. Распределение по городам показало, что клиенты из Москвы и Омска с подпиской и без разделились практически поровну. В остальных городах: Тюмени, Сочи, Ростове-на-Дону, Пятигорске, Краснодаре и Екатеринбурге - преобладают пользователи, предпочитающие не оформлять подписку на сервис.\n",
    "    - Проанализирован средний возраст пользователей: Клиентам сервиса от 12 до 43 лет. Средний возраст пользователя 25 лет, основная группа пользователей от 22 до 28 лет. Распределение клиентов по возрастам имеет вид нормального распределения.\n",
    "    - Исследовано расстояние, которое пользователь преодолел за одну поездку: Пользователи совершали поездки длиной от 1 м до 7 км. Среднее расстояние за одну поездку составило 3071м. Медианное значение близко к среднему, и составило 3134м. Выяснилось, что расстояние поездок распределено неравномерно. На графике определились два пика: короткие поездки, с расстоянием от 0 до 1,5 км. Пик значений составляет около 500 метров - небольшая доля от всех поездок. И длинные поездки, - от 1,5 до 6 км. Пик значений составляет около 3200 метров. Таких поездок большинство. Поездки свыше 6 км совершаются редко.\n",
    "   \n",
    "   <div class=\"alert alert-block alert-info\">\n",
    "    \n",
    "   - При исследовании продолжительности поездок пользователей сервиса найдена аномалия: часть поездок пользователей длилась менее 1 минуты, но расстояние таких поездок составило от 4 до 7 километров. В целом, пользователи овершали поездки продолжительностью от 30 секунд до 41 минуты. Большинство поездок длятся от 10 до 25 минут, среднее время поездки - 18 минут. Есть редкие поездки длительностью свыше 35 минут - это малая часть всех поездок. Распределение поездок по длительности имеет вид нормального распределения.\n",
    "\n",
    "</div> \n",
    " \n",
    " \n",
    "- 4. Для дальнейшего исследования данные о пользователях, поездках и подписках были объединены в один датафрейм, после чего выделена информация о пользователях с подпиской и без подписки.  Изучено расстояние и время поездок для пользователей обеих категорий, сделаны следующие выводы:\n",
    "    \n",
    "    - Средняя длительность поездки пользователей обеих групп отличается и составляет около 17 минут у пользователей без подписки и 19 минут для клиентов с подпиской. Среди пользователей с подпиской есть те, кто совершают более долгие поездки - свыше 40 минут, в то время как максимальная длительность поездки клиентов без подписки не превышает 35 минут. В данных о длительности поездок клиентов без подписки есть пик значений времени в районе около 1 минуты. Возможно это новые пользователи, совершающие пробные поездки.\n",
    "\n",
    "- 5. Для подсчета выручки был создан датафрейм с агрегированными данными о поездках, куда был добавлен столбец с помесячной выручкой от каждого клиента.\n",
    "\n",
    "\n",
    "- 6. Были проверены следующие гипотезы: \n",
    "    * 1. Тратят ли пользователи с подпиской больше времени на поездки? Если да, то пользователи с подпиской могут быть «выгоднее» для компании. \n",
    "    * 2. Расстояние одной поездки в 3130 метров — оптимальное с точки зрения износа самоката.  Можно ли сказать, что среднее расстояние, которое проезжают пользователи с подпиской за одну поездку, не превышает 3130 метров?\n",
    "    * 3. Будет ли помесячная выручка от пользователей с подпиской по месяцам выше, чем выручка от пользователей без подписки. \n",
    "\n",
    "Сделаны заключения о том, что пользователи с подпиской тратят больше времени на поездки. Среднее расстояние, которое они проезжают за одну поездку, не превышает оптимального с точки зрения износа самоката. Средняя выручка пользователей с подпиской не меньше, чем от пользователей без подписки, таким образом, группа пользователей с подпиской более \"выгодная\" для компании. А значит компании стоит продолжать развивать это направление.\n"
   ]
  },
  {
   "cell_type": "code",
   "execution_count": null,
   "id": "cb1f5421-fe1e-40ba-8483-5f77e80175b6",
   "metadata": {},
   "outputs": [],
   "source": []
  }
 ],
 "metadata": {
  "ExecuteTimeLog": [
   {
    "duration": 52,
    "start_time": "2024-08-28T13:13:04.924Z"
   },
   {
    "duration": 873,
    "start_time": "2024-08-28T13:13:50.886Z"
   },
   {
    "duration": 115,
    "start_time": "2024-08-28T13:13:51.761Z"
   },
   {
    "duration": 304,
    "start_time": "2024-08-28T13:29:32.250Z"
   },
   {
    "duration": 139,
    "start_time": "2024-08-28T13:29:59.394Z"
   },
   {
    "duration": 16,
    "start_time": "2024-08-28T13:30:19.474Z"
   },
   {
    "duration": 8,
    "start_time": "2024-08-28T13:30:35.690Z"
   },
   {
    "duration": 8,
    "start_time": "2024-08-28T13:30:36.451Z"
   },
   {
    "duration": 7,
    "start_time": "2024-08-28T13:30:49.972Z"
   },
   {
    "duration": 15,
    "start_time": "2024-08-28T13:31:56.902Z"
   },
   {
    "duration": 12,
    "start_time": "2024-08-28T13:32:47.864Z"
   },
   {
    "duration": 12,
    "start_time": "2024-08-28T13:33:03.640Z"
   },
   {
    "duration": 13,
    "start_time": "2024-08-28T13:34:18.106Z"
   },
   {
    "duration": 7,
    "start_time": "2024-08-28T13:34:35.866Z"
   },
   {
    "duration": 8,
    "start_time": "2024-08-28T13:35:13.436Z"
   },
   {
    "duration": 3,
    "start_time": "2024-08-28T13:35:19.389Z"
   },
   {
    "duration": 13,
    "start_time": "2024-08-28T13:38:27.746Z"
   },
   {
    "duration": 8,
    "start_time": "2024-08-28T13:38:44.099Z"
   },
   {
    "duration": 7,
    "start_time": "2024-08-28T13:38:49.530Z"
   },
   {
    "duration": 4,
    "start_time": "2024-08-28T13:39:09.763Z"
   },
   {
    "duration": 5,
    "start_time": "2024-08-28T13:44:26.365Z"
   },
   {
    "duration": 10,
    "start_time": "2024-08-28T13:44:28.669Z"
   },
   {
    "duration": 4,
    "start_time": "2024-08-28T13:45:51.103Z"
   },
   {
    "duration": 52,
    "start_time": "2024-08-28T13:52:15.723Z"
   },
   {
    "duration": 50,
    "start_time": "2024-08-28T19:56:14.487Z"
   },
   {
    "duration": 877,
    "start_time": "2024-08-28T19:56:28.436Z"
   },
   {
    "duration": 368,
    "start_time": "2024-08-28T19:56:29.320Z"
   },
   {
    "duration": 15,
    "start_time": "2024-08-28T19:56:30.279Z"
   },
   {
    "duration": 11,
    "start_time": "2024-08-28T19:56:30.697Z"
   },
   {
    "duration": 7,
    "start_time": "2024-08-28T19:56:31.110Z"
   },
   {
    "duration": 4,
    "start_time": "2024-08-28T19:56:31.496Z"
   },
   {
    "duration": 9,
    "start_time": "2024-08-28T19:56:32.652Z"
   },
   {
    "duration": 12,
    "start_time": "2024-08-28T19:56:33.096Z"
   },
   {
    "duration": 8,
    "start_time": "2024-08-28T19:56:33.603Z"
   },
   {
    "duration": 4,
    "start_time": "2024-08-28T19:56:34.234Z"
   },
   {
    "duration": 7,
    "start_time": "2024-08-28T19:56:35.502Z"
   },
   {
    "duration": 10,
    "start_time": "2024-08-28T19:56:36.068Z"
   },
   {
    "duration": 5,
    "start_time": "2024-08-28T19:56:36.651Z"
   },
   {
    "duration": 4,
    "start_time": "2024-08-28T19:56:37.332Z"
   },
   {
    "duration": 12,
    "start_time": "2024-08-28T19:56:39.925Z"
   },
   {
    "duration": 21,
    "start_time": "2024-08-28T19:56:53.949Z"
   },
   {
    "duration": 13,
    "start_time": "2024-08-28T19:57:04.767Z"
   },
   {
    "duration": 6,
    "start_time": "2024-08-28T20:03:38.206Z"
   },
   {
    "duration": 11,
    "start_time": "2024-08-28T20:03:52.935Z"
   },
   {
    "duration": 5,
    "start_time": "2024-08-28T20:04:35.149Z"
   },
   {
    "duration": 6,
    "start_time": "2024-08-28T20:07:38.817Z"
   },
   {
    "duration": 9,
    "start_time": "2024-08-28T20:08:29.274Z"
   },
   {
    "duration": 8,
    "start_time": "2024-08-28T20:10:08.682Z"
   },
   {
    "duration": 12,
    "start_time": "2024-08-28T20:10:58.222Z"
   },
   {
    "duration": 57,
    "start_time": "2024-08-28T20:13:04.728Z"
   },
   {
    "duration": 13,
    "start_time": "2024-08-28T20:13:12.141Z"
   },
   {
    "duration": 13,
    "start_time": "2024-08-28T20:16:01.582Z"
   },
   {
    "duration": 5,
    "start_time": "2024-08-28T20:16:09.869Z"
   },
   {
    "duration": 21,
    "start_time": "2024-08-28T20:17:09.665Z"
   },
   {
    "duration": 13,
    "start_time": "2024-08-28T20:20:03.687Z"
   },
   {
    "duration": 13,
    "start_time": "2024-08-28T20:20:52.726Z"
   },
   {
    "duration": 8,
    "start_time": "2024-08-28T20:30:07.831Z"
   },
   {
    "duration": 4,
    "start_time": "2024-08-28T20:30:16.997Z"
   },
   {
    "duration": 6,
    "start_time": "2024-08-28T20:31:00.530Z"
   },
   {
    "duration": 28,
    "start_time": "2024-08-28T20:47:20.305Z"
   },
   {
    "duration": 846,
    "start_time": "2024-08-29T06:22:58.135Z"
   },
   {
    "duration": 296,
    "start_time": "2024-08-29T06:22:58.983Z"
   },
   {
    "duration": 15,
    "start_time": "2024-08-29T06:22:59.281Z"
   },
   {
    "duration": 11,
    "start_time": "2024-08-29T06:22:59.298Z"
   },
   {
    "duration": 6,
    "start_time": "2024-08-29T06:22:59.310Z"
   },
   {
    "duration": 10,
    "start_time": "2024-08-29T06:22:59.318Z"
   },
   {
    "duration": 11,
    "start_time": "2024-08-29T06:22:59.329Z"
   },
   {
    "duration": 11,
    "start_time": "2024-08-29T06:22:59.341Z"
   },
   {
    "duration": 6,
    "start_time": "2024-08-29T06:22:59.353Z"
   },
   {
    "duration": 8,
    "start_time": "2024-08-29T06:22:59.361Z"
   },
   {
    "duration": 11,
    "start_time": "2024-08-29T06:22:59.371Z"
   },
   {
    "duration": 28,
    "start_time": "2024-08-29T06:22:59.384Z"
   },
   {
    "duration": 5,
    "start_time": "2024-08-29T06:22:59.414Z"
   },
   {
    "duration": 9,
    "start_time": "2024-08-29T06:22:59.421Z"
   },
   {
    "duration": 8,
    "start_time": "2024-08-29T06:22:59.432Z"
   },
   {
    "duration": 6,
    "start_time": "2024-08-29T06:22:59.441Z"
   },
   {
    "duration": 9,
    "start_time": "2024-08-29T06:22:59.448Z"
   },
   {
    "duration": 51,
    "start_time": "2024-08-29T06:22:59.458Z"
   },
   {
    "duration": 5,
    "start_time": "2024-08-29T06:22:59.510Z"
   },
   {
    "duration": 49,
    "start_time": "2024-08-29T06:22:59.517Z"
   },
   {
    "duration": 1048,
    "start_time": "2024-08-29T06:23:38.498Z"
   },
   {
    "duration": 3,
    "start_time": "2024-08-29T06:23:50.461Z"
   },
   {
    "duration": 65,
    "start_time": "2024-08-29T06:23:51.328Z"
   },
   {
    "duration": 8,
    "start_time": "2024-08-29T06:23:52.274Z"
   },
   {
    "duration": 11,
    "start_time": "2024-08-29T06:23:53.080Z"
   },
   {
    "duration": 6,
    "start_time": "2024-08-29T06:23:53.646Z"
   },
   {
    "duration": 3,
    "start_time": "2024-08-29T06:23:54.121Z"
   },
   {
    "duration": 8,
    "start_time": "2024-08-29T06:23:55.469Z"
   },
   {
    "duration": 10,
    "start_time": "2024-08-29T06:23:55.928Z"
   },
   {
    "duration": 8,
    "start_time": "2024-08-29T06:23:56.423Z"
   },
   {
    "duration": 4,
    "start_time": "2024-08-29T06:23:57.035Z"
   },
   {
    "duration": 921,
    "start_time": "2024-08-29T06:23:57.989Z"
   },
   {
    "duration": 9,
    "start_time": "2024-08-29T06:24:16.192Z"
   },
   {
    "duration": 84,
    "start_time": "2024-08-29T06:24:47.797Z"
   },
   {
    "duration": 65,
    "start_time": "2024-08-29T06:24:55.637Z"
   },
   {
    "duration": 6,
    "start_time": "2024-08-29T06:25:13.573Z"
   },
   {
    "duration": 6,
    "start_time": "2024-08-29T06:26:09.878Z"
   },
   {
    "duration": 9,
    "start_time": "2024-08-29T06:26:20.662Z"
   },
   {
    "duration": 8,
    "start_time": "2024-08-29T06:26:38.294Z"
   },
   {
    "duration": 18,
    "start_time": "2024-08-29T07:06:11.496Z"
   },
   {
    "duration": 476,
    "start_time": "2024-08-29T07:06:46.566Z"
   },
   {
    "duration": 78,
    "start_time": "2024-08-29T07:06:47.373Z"
   },
   {
    "duration": 9,
    "start_time": "2024-08-29T07:06:48.503Z"
   },
   {
    "duration": 14,
    "start_time": "2024-08-29T07:06:49.093Z"
   },
   {
    "duration": 6,
    "start_time": "2024-08-29T07:06:49.626Z"
   },
   {
    "duration": 4,
    "start_time": "2024-08-29T07:06:50.123Z"
   },
   {
    "duration": 9,
    "start_time": "2024-08-29T07:06:51.815Z"
   },
   {
    "duration": 12,
    "start_time": "2024-08-29T07:06:52.037Z"
   },
   {
    "duration": 9,
    "start_time": "2024-08-29T07:06:52.238Z"
   },
   {
    "duration": 3,
    "start_time": "2024-08-29T07:06:52.432Z"
   },
   {
    "duration": 7,
    "start_time": "2024-08-29T07:06:52.625Z"
   },
   {
    "duration": 7,
    "start_time": "2024-08-29T07:06:53.183Z"
   },
   {
    "duration": 10,
    "start_time": "2024-08-29T07:06:53.360Z"
   },
   {
    "duration": 5,
    "start_time": "2024-08-29T07:06:53.532Z"
   },
   {
    "duration": 4,
    "start_time": "2024-08-29T07:06:53.701Z"
   },
   {
    "duration": 8,
    "start_time": "2024-08-29T07:06:54.924Z"
   },
   {
    "duration": 6,
    "start_time": "2024-08-29T07:06:57.016Z"
   },
   {
    "duration": 7,
    "start_time": "2024-08-29T07:06:58.784Z"
   },
   {
    "duration": 14,
    "start_time": "2024-08-29T07:06:59.319Z"
   },
   {
    "duration": 7,
    "start_time": "2024-08-29T07:07:00.316Z"
   },
   {
    "duration": 10,
    "start_time": "2024-08-29T07:07:00.774Z"
   },
   {
    "duration": 15,
    "start_time": "2024-08-29T07:07:03.365Z"
   },
   {
    "duration": 5,
    "start_time": "2024-08-29T07:08:20.331Z"
   },
   {
    "duration": 6,
    "start_time": "2024-08-29T07:08:28.969Z"
   },
   {
    "duration": 8,
    "start_time": "2024-08-29T07:08:29.497Z"
   },
   {
    "duration": 15,
    "start_time": "2024-08-29T07:08:31.338Z"
   },
   {
    "duration": 6,
    "start_time": "2024-08-29T07:11:10.079Z"
   },
   {
    "duration": 146,
    "start_time": "2024-08-29T07:12:45.105Z"
   },
   {
    "duration": 21,
    "start_time": "2024-08-29T07:12:58.081Z"
   },
   {
    "duration": 6,
    "start_time": "2024-08-29T07:19:44.957Z"
   },
   {
    "duration": 62,
    "start_time": "2024-08-29T07:39:09.083Z"
   },
   {
    "duration": 6,
    "start_time": "2024-08-29T07:40:04.349Z"
   },
   {
    "duration": 13,
    "start_time": "2024-08-29T07:40:16.141Z"
   },
   {
    "duration": 16,
    "start_time": "2024-08-29T07:41:34.175Z"
   },
   {
    "duration": 5,
    "start_time": "2024-08-29T07:43:26.714Z"
   },
   {
    "duration": 14,
    "start_time": "2024-08-29T07:50:03.260Z"
   },
   {
    "duration": 5,
    "start_time": "2024-08-29T07:50:03.980Z"
   },
   {
    "duration": 6,
    "start_time": "2024-08-29T07:50:04.844Z"
   },
   {
    "duration": 13,
    "start_time": "2024-08-29T07:59:56.893Z"
   },
   {
    "duration": 4,
    "start_time": "2024-08-29T08:00:00.317Z"
   },
   {
    "duration": 4,
    "start_time": "2024-08-29T08:00:01.821Z"
   },
   {
    "duration": 6,
    "start_time": "2024-08-29T08:00:03.549Z"
   },
   {
    "duration": 6,
    "start_time": "2024-08-29T08:00:04.172Z"
   },
   {
    "duration": 7,
    "start_time": "2024-08-29T08:00:09.197Z"
   },
   {
    "duration": 8,
    "start_time": "2024-08-29T08:00:09.981Z"
   },
   {
    "duration": 7,
    "start_time": "2024-08-29T08:00:11.261Z"
   },
   {
    "duration": 7,
    "start_time": "2024-08-29T08:00:11.725Z"
   },
   {
    "duration": 7,
    "start_time": "2024-08-29T08:00:12.367Z"
   },
   {
    "duration": 3,
    "start_time": "2024-08-29T08:00:37.350Z"
   },
   {
    "duration": 65,
    "start_time": "2024-08-29T08:00:38.125Z"
   },
   {
    "duration": 10,
    "start_time": "2024-08-29T08:00:38.527Z"
   },
   {
    "duration": 11,
    "start_time": "2024-08-29T08:00:38.691Z"
   },
   {
    "duration": 3,
    "start_time": "2024-08-29T08:00:38.869Z"
   },
   {
    "duration": 9,
    "start_time": "2024-08-29T08:00:39.381Z"
   },
   {
    "duration": 12,
    "start_time": "2024-08-29T08:00:39.551Z"
   },
   {
    "duration": 4,
    "start_time": "2024-08-29T08:00:39.742Z"
   },
   {
    "duration": 6,
    "start_time": "2024-08-29T08:00:39.891Z"
   },
   {
    "duration": 7,
    "start_time": "2024-08-29T08:00:40.419Z"
   },
   {
    "duration": 11,
    "start_time": "2024-08-29T08:00:40.597Z"
   },
   {
    "duration": 4,
    "start_time": "2024-08-29T08:00:40.751Z"
   },
   {
    "duration": 7,
    "start_time": "2024-08-29T08:00:41.441Z"
   },
   {
    "duration": 5,
    "start_time": "2024-08-29T08:00:41.968Z"
   },
   {
    "duration": 5,
    "start_time": "2024-08-29T08:00:42.325Z"
   },
   {
    "duration": 6,
    "start_time": "2024-08-29T08:00:42.850Z"
   },
   {
    "duration": 5,
    "start_time": "2024-08-29T08:00:43.029Z"
   },
   {
    "duration": 5,
    "start_time": "2024-08-29T08:00:43.393Z"
   },
   {
    "duration": 8,
    "start_time": "2024-08-29T08:00:43.555Z"
   },
   {
    "duration": 6,
    "start_time": "2024-08-29T08:00:43.913Z"
   },
   {
    "duration": 7,
    "start_time": "2024-08-29T08:00:44.084Z"
   },
   {
    "duration": 6,
    "start_time": "2024-08-29T08:00:44.261Z"
   },
   {
    "duration": 6,
    "start_time": "2024-08-29T08:00:45.577Z"
   },
   {
    "duration": 20,
    "start_time": "2024-08-29T08:22:36.257Z"
   },
   {
    "duration": 21,
    "start_time": "2024-08-29T08:22:47.025Z"
   },
   {
    "duration": 12,
    "start_time": "2024-08-29T08:26:52.273Z"
   },
   {
    "duration": 21,
    "start_time": "2024-08-29T08:27:22.537Z"
   },
   {
    "duration": 12,
    "start_time": "2024-08-29T08:27:32.618Z"
   },
   {
    "duration": 14,
    "start_time": "2024-08-29T08:32:02.338Z"
   },
   {
    "duration": 70,
    "start_time": "2024-08-29T08:33:04.417Z"
   },
   {
    "duration": 16,
    "start_time": "2024-08-29T08:33:28.274Z"
   },
   {
    "duration": 15,
    "start_time": "2024-08-29T08:36:09.383Z"
   },
   {
    "duration": 11,
    "start_time": "2024-08-29T08:41:39.484Z"
   },
   {
    "duration": 18,
    "start_time": "2024-08-29T08:41:48.271Z"
   },
   {
    "duration": 21,
    "start_time": "2024-08-29T08:42:20.576Z"
   },
   {
    "duration": 11,
    "start_time": "2024-08-29T08:44:20.372Z"
   },
   {
    "duration": 17,
    "start_time": "2024-08-29T08:45:17.702Z"
   },
   {
    "duration": 16,
    "start_time": "2024-08-29T08:51:05.159Z"
   },
   {
    "duration": 16,
    "start_time": "2024-08-29T08:52:15.905Z"
   },
   {
    "duration": 184,
    "start_time": "2024-08-29T08:53:15.761Z"
   },
   {
    "duration": 4,
    "start_time": "2024-08-29T08:56:14.023Z"
   },
   {
    "duration": 124,
    "start_time": "2024-08-29T09:00:40.526Z"
   },
   {
    "duration": 112,
    "start_time": "2024-08-29T09:02:37.682Z"
   },
   {
    "duration": 125,
    "start_time": "2024-08-29T09:02:45.010Z"
   },
   {
    "duration": 195,
    "start_time": "2024-08-29T09:06:34.840Z"
   },
   {
    "duration": 126,
    "start_time": "2024-08-29T09:08:13.434Z"
   },
   {
    "duration": 120,
    "start_time": "2024-08-29T09:08:32.122Z"
   },
   {
    "duration": 1410,
    "start_time": "2024-08-29T12:39:03.748Z"
   },
   {
    "duration": 294,
    "start_time": "2024-08-29T12:39:05.267Z"
   },
   {
    "duration": 14,
    "start_time": "2024-08-29T12:39:06.717Z"
   },
   {
    "duration": 12,
    "start_time": "2024-08-29T12:39:07.087Z"
   },
   {
    "duration": 4,
    "start_time": "2024-08-29T12:39:07.247Z"
   },
   {
    "duration": 9,
    "start_time": "2024-08-29T12:39:08.157Z"
   },
   {
    "duration": 12,
    "start_time": "2024-08-29T12:39:08.365Z"
   },
   {
    "duration": 3,
    "start_time": "2024-08-29T12:39:08.594Z"
   },
   {
    "duration": 7,
    "start_time": "2024-08-29T12:39:08.777Z"
   },
   {
    "duration": 8,
    "start_time": "2024-08-29T12:39:09.537Z"
   },
   {
    "duration": 13,
    "start_time": "2024-08-29T12:39:09.758Z"
   },
   {
    "duration": 5,
    "start_time": "2024-08-29T12:39:09.917Z"
   },
   {
    "duration": 7,
    "start_time": "2024-08-29T12:39:10.698Z"
   },
   {
    "duration": 5,
    "start_time": "2024-08-29T12:39:11.538Z"
   },
   {
    "duration": 6,
    "start_time": "2024-08-29T12:39:11.935Z"
   },
   {
    "duration": 5,
    "start_time": "2024-08-29T12:39:50.197Z"
   },
   {
    "duration": 12,
    "start_time": "2024-08-29T12:40:05.168Z"
   },
   {
    "duration": 5,
    "start_time": "2024-08-29T12:40:42.457Z"
   },
   {
    "duration": 5,
    "start_time": "2024-08-29T12:41:56.217Z"
   },
   {
    "duration": 5,
    "start_time": "2024-08-29T12:41:56.977Z"
   },
   {
    "duration": 6,
    "start_time": "2024-08-29T12:41:58.147Z"
   },
   {
    "duration": 4,
    "start_time": "2024-08-29T12:41:58.698Z"
   },
   {
    "duration": 6,
    "start_time": "2024-08-29T12:42:00.149Z"
   },
   {
    "duration": 9,
    "start_time": "2024-08-29T12:42:00.877Z"
   },
   {
    "duration": 6,
    "start_time": "2024-08-29T12:42:02.138Z"
   },
   {
    "duration": 6,
    "start_time": "2024-08-29T12:42:02.657Z"
   },
   {
    "duration": 6,
    "start_time": "2024-08-29T12:42:03.107Z"
   },
   {
    "duration": 17,
    "start_time": "2024-08-29T12:42:07.956Z"
   },
   {
    "duration": 209,
    "start_time": "2024-08-29T12:42:09.118Z"
   },
   {
    "duration": 156,
    "start_time": "2024-08-29T12:43:00.257Z"
   },
   {
    "duration": 189,
    "start_time": "2024-08-29T12:45:31.338Z"
   },
   {
    "duration": 1161,
    "start_time": "2024-08-29T12:46:00.945Z"
   },
   {
    "duration": 21,
    "start_time": "2024-08-29T12:46:10.557Z"
   },
   {
    "duration": 15,
    "start_time": "2024-08-29T12:46:42.584Z"
   },
   {
    "duration": 183,
    "start_time": "2024-08-29T13:00:43.333Z"
   },
   {
    "duration": 16,
    "start_time": "2024-08-29T13:01:37.637Z"
   },
   {
    "duration": 129,
    "start_time": "2024-08-29T13:05:58.333Z"
   },
   {
    "duration": 20,
    "start_time": "2024-08-29T13:11:45.643Z"
   },
   {
    "duration": 18,
    "start_time": "2024-08-29T13:11:55.187Z"
   },
   {
    "duration": 141,
    "start_time": "2024-08-29T13:12:33.587Z"
   },
   {
    "duration": 147,
    "start_time": "2024-08-29T13:13:10.053Z"
   },
   {
    "duration": 133,
    "start_time": "2024-08-29T13:13:38.957Z"
   },
   {
    "duration": 176,
    "start_time": "2024-08-29T13:15:46.977Z"
   },
   {
    "duration": 278,
    "start_time": "2024-08-29T13:16:11.745Z"
   },
   {
    "duration": 180,
    "start_time": "2024-08-29T13:18:06.927Z"
   },
   {
    "duration": 213,
    "start_time": "2024-08-29T13:19:57.097Z"
   },
   {
    "duration": 218,
    "start_time": "2024-08-29T13:20:31.399Z"
   },
   {
    "duration": 253,
    "start_time": "2024-08-29T13:23:26.124Z"
   },
   {
    "duration": 226,
    "start_time": "2024-08-29T13:24:49.005Z"
   },
   {
    "duration": 13,
    "start_time": "2024-08-29T13:26:03.248Z"
   },
   {
    "duration": 184,
    "start_time": "2024-08-29T13:28:04.233Z"
   },
   {
    "duration": 12,
    "start_time": "2024-08-29T13:28:27.806Z"
   },
   {
    "duration": 9,
    "start_time": "2024-08-29T13:28:59.290Z"
   },
   {
    "duration": 10,
    "start_time": "2024-08-29T13:30:14.617Z"
   },
   {
    "duration": 11,
    "start_time": "2024-08-29T13:42:06.838Z"
   },
   {
    "duration": 179,
    "start_time": "2024-08-29T13:47:15.699Z"
   },
   {
    "duration": 11,
    "start_time": "2024-08-29T13:47:16.257Z"
   },
   {
    "duration": 61,
    "start_time": "2024-08-29T13:47:16.977Z"
   },
   {
    "duration": 6,
    "start_time": "2024-08-29T13:55:11.574Z"
   },
   {
    "duration": 6,
    "start_time": "2024-08-29T13:56:23.044Z"
   },
   {
    "duration": 71,
    "start_time": "2024-08-29T13:57:39.765Z"
   },
   {
    "duration": 74,
    "start_time": "2024-08-29T14:01:17.027Z"
   },
   {
    "duration": 118,
    "start_time": "2024-08-29T14:03:48.856Z"
   },
   {
    "duration": 80,
    "start_time": "2024-08-29T14:04:03.146Z"
   },
   {
    "duration": 77,
    "start_time": "2024-08-29T14:05:28.399Z"
   },
   {
    "duration": 9,
    "start_time": "2024-08-29T14:20:05.305Z"
   },
   {
    "duration": 140,
    "start_time": "2024-08-29T14:22:32.735Z"
   },
   {
    "duration": 250,
    "start_time": "2024-08-29T14:23:32.175Z"
   },
   {
    "duration": 8,
    "start_time": "2024-08-29T14:26:09.045Z"
   },
   {
    "duration": 5,
    "start_time": "2024-08-29T14:27:42.917Z"
   },
   {
    "duration": 3,
    "start_time": "2024-08-29T14:28:19.826Z"
   },
   {
    "duration": 172,
    "start_time": "2024-08-29T14:28:24.278Z"
   },
   {
    "duration": 188,
    "start_time": "2024-08-29T14:29:53.357Z"
   },
   {
    "duration": 173,
    "start_time": "2024-08-29T14:29:58.998Z"
   },
   {
    "duration": 11,
    "start_time": "2024-08-29T14:34:07.615Z"
   },
   {
    "duration": 10,
    "start_time": "2024-08-29T14:34:24.318Z"
   },
   {
    "duration": 6,
    "start_time": "2024-08-29T14:35:11.145Z"
   },
   {
    "duration": 12,
    "start_time": "2024-08-29T14:38:45.088Z"
   },
   {
    "duration": 19,
    "start_time": "2024-08-29T14:39:12.687Z"
   },
   {
    "duration": 17,
    "start_time": "2024-08-29T14:40:48.494Z"
   },
   {
    "duration": 15,
    "start_time": "2024-08-29T14:45:41.959Z"
   },
   {
    "duration": 15,
    "start_time": "2024-08-29T14:46:29.325Z"
   },
   {
    "duration": 18,
    "start_time": "2024-08-29T14:47:10.214Z"
   },
   {
    "duration": 15,
    "start_time": "2024-08-29T14:47:18.046Z"
   },
   {
    "duration": 8,
    "start_time": "2024-08-29T14:54:45.247Z"
   },
   {
    "duration": 78,
    "start_time": "2024-08-29T14:55:13.299Z"
   },
   {
    "duration": 13,
    "start_time": "2024-08-29T14:55:25.886Z"
   },
   {
    "duration": 169,
    "start_time": "2024-08-29T14:55:26.898Z"
   },
   {
    "duration": 173,
    "start_time": "2024-08-29T14:55:40.790Z"
   },
   {
    "duration": 16,
    "start_time": "2024-08-29T14:56:02.556Z"
   },
   {
    "duration": 202,
    "start_time": "2024-08-29T14:58:05.035Z"
   },
   {
    "duration": 16,
    "start_time": "2024-08-29T14:58:42.844Z"
   },
   {
    "duration": 207,
    "start_time": "2024-08-29T14:58:44.637Z"
   },
   {
    "duration": 202,
    "start_time": "2024-08-29T14:59:48.668Z"
   },
   {
    "duration": 1263,
    "start_time": "2024-08-30T07:44:40.435Z"
   },
   {
    "duration": 407,
    "start_time": "2024-08-30T07:44:41.700Z"
   },
   {
    "duration": 17,
    "start_time": "2024-08-30T07:44:42.831Z"
   },
   {
    "duration": 11,
    "start_time": "2024-08-30T07:44:43.699Z"
   },
   {
    "duration": 3,
    "start_time": "2024-08-30T07:44:44.314Z"
   },
   {
    "duration": 9,
    "start_time": "2024-08-30T07:44:45.507Z"
   },
   {
    "duration": 11,
    "start_time": "2024-08-30T07:44:45.786Z"
   },
   {
    "duration": 4,
    "start_time": "2024-08-30T07:44:45.987Z"
   },
   {
    "duration": 7,
    "start_time": "2024-08-30T07:44:46.228Z"
   },
   {
    "duration": 8,
    "start_time": "2024-08-30T07:44:46.817Z"
   },
   {
    "duration": 10,
    "start_time": "2024-08-30T07:44:47.004Z"
   },
   {
    "duration": 4,
    "start_time": "2024-08-30T07:44:47.228Z"
   },
   {
    "duration": 8,
    "start_time": "2024-08-30T07:44:48.090Z"
   },
   {
    "duration": 5,
    "start_time": "2024-08-30T07:44:48.803Z"
   },
   {
    "duration": 5,
    "start_time": "2024-08-30T07:44:49.725Z"
   },
   {
    "duration": 6,
    "start_time": "2024-08-30T07:44:50.515Z"
   },
   {
    "duration": 5,
    "start_time": "2024-08-30T07:44:50.944Z"
   },
   {
    "duration": 6,
    "start_time": "2024-08-30T07:44:51.671Z"
   },
   {
    "duration": 7,
    "start_time": "2024-08-30T07:44:52.077Z"
   },
   {
    "duration": 6,
    "start_time": "2024-08-30T07:44:52.836Z"
   },
   {
    "duration": 7,
    "start_time": "2024-08-30T07:44:53.052Z"
   },
   {
    "duration": 6,
    "start_time": "2024-08-30T07:44:53.407Z"
   },
   {
    "duration": 185,
    "start_time": "2024-08-30T07:44:56.006Z"
   },
   {
    "duration": 11,
    "start_time": "2024-08-30T07:44:56.992Z"
   },
   {
    "duration": 83,
    "start_time": "2024-08-30T07:45:00.533Z"
   },
   {
    "duration": 16,
    "start_time": "2024-08-30T07:45:00.721Z"
   },
   {
    "duration": 202,
    "start_time": "2024-08-30T07:45:00.922Z"
   },
   {
    "duration": 9,
    "start_time": "2024-08-30T07:45:01.519Z"
   },
   {
    "duration": 195,
    "start_time": "2024-08-30T07:45:01.714Z"
   },
   {
    "duration": 6,
    "start_time": "2024-08-30T07:45:01.921Z"
   },
   {
    "duration": 172,
    "start_time": "2024-08-30T07:45:14.213Z"
   },
   {
    "duration": 11,
    "start_time": "2024-08-30T07:45:31.556Z"
   },
   {
    "duration": 170,
    "start_time": "2024-08-30T07:51:48.338Z"
   },
   {
    "duration": 183,
    "start_time": "2024-08-30T07:52:03.938Z"
   },
   {
    "duration": 6,
    "start_time": "2024-08-30T07:52:31.666Z"
   },
   {
    "duration": 194,
    "start_time": "2024-08-30T07:53:02.836Z"
   },
   {
    "duration": 167,
    "start_time": "2024-08-30T07:53:25.988Z"
   },
   {
    "duration": 275,
    "start_time": "2024-08-30T07:53:37.012Z"
   },
   {
    "duration": 164,
    "start_time": "2024-08-30T07:55:56.663Z"
   },
   {
    "duration": 213,
    "start_time": "2024-08-30T07:56:19.002Z"
   },
   {
    "duration": 159,
    "start_time": "2024-08-30T07:58:38.893Z"
   },
   {
    "duration": 166,
    "start_time": "2024-08-30T07:58:44.829Z"
   },
   {
    "duration": 163,
    "start_time": "2024-08-30T07:58:55.037Z"
   },
   {
    "duration": 7,
    "start_time": "2024-08-30T08:16:07.609Z"
   },
   {
    "duration": 4,
    "start_time": "2024-08-30T08:16:43.929Z"
   },
   {
    "duration": 11,
    "start_time": "2024-08-30T08:16:56.249Z"
   },
   {
    "duration": 12,
    "start_time": "2024-08-30T08:18:09.308Z"
   },
   {
    "duration": 256,
    "start_time": "2024-08-30T08:18:46.491Z"
   },
   {
    "duration": 60,
    "start_time": "2024-08-30T08:19:11.756Z"
   },
   {
    "duration": 349,
    "start_time": "2024-08-30T08:19:19.500Z"
   },
   {
    "duration": 114,
    "start_time": "2024-08-30T08:29:32.140Z"
   },
   {
    "duration": 186,
    "start_time": "2024-08-30T08:34:23.012Z"
   },
   {
    "duration": 205,
    "start_time": "2024-08-30T08:36:53.304Z"
   },
   {
    "duration": 131,
    "start_time": "2024-08-30T08:37:08.666Z"
   },
   {
    "duration": 166,
    "start_time": "2024-08-30T08:37:26.248Z"
   },
   {
    "duration": 175,
    "start_time": "2024-08-30T08:39:17.083Z"
   },
   {
    "duration": 14,
    "start_time": "2024-08-30T08:40:32.316Z"
   },
   {
    "duration": 261,
    "start_time": "2024-08-30T08:40:44.637Z"
   },
   {
    "duration": 282,
    "start_time": "2024-08-30T08:41:54.334Z"
   },
   {
    "duration": 187,
    "start_time": "2024-08-30T09:42:55.232Z"
   },
   {
    "duration": 5,
    "start_time": "2024-08-30T09:43:58.177Z"
   },
   {
    "duration": 8,
    "start_time": "2024-08-30T09:44:17.058Z"
   },
   {
    "duration": 269,
    "start_time": "2024-08-30T09:46:24.871Z"
   },
   {
    "duration": 339,
    "start_time": "2024-08-30T09:46:33.400Z"
   },
   {
    "duration": 198,
    "start_time": "2024-08-30T09:46:42.952Z"
   },
   {
    "duration": 198,
    "start_time": "2024-08-30T09:46:49.911Z"
   },
   {
    "duration": 201,
    "start_time": "2024-08-30T09:46:59.303Z"
   },
   {
    "duration": 203,
    "start_time": "2024-08-30T09:47:06.487Z"
   },
   {
    "duration": 178,
    "start_time": "2024-08-30T09:47:23.736Z"
   },
   {
    "duration": 226,
    "start_time": "2024-08-30T09:47:32.824Z"
   },
   {
    "duration": 62,
    "start_time": "2024-08-30T09:50:47.374Z"
   },
   {
    "duration": 204,
    "start_time": "2024-08-30T09:51:05.007Z"
   },
   {
    "duration": 202,
    "start_time": "2024-08-30T09:51:22.032Z"
   },
   {
    "duration": 202,
    "start_time": "2024-08-30T09:52:02.929Z"
   },
   {
    "duration": 395,
    "start_time": "2024-08-30T09:52:18.018Z"
   },
   {
    "duration": 205,
    "start_time": "2024-08-30T09:53:10.099Z"
   },
   {
    "duration": 3,
    "start_time": "2024-08-30T10:01:47.588Z"
   },
   {
    "duration": 3,
    "start_time": "2024-08-30T10:01:57.652Z"
   },
   {
    "duration": 82,
    "start_time": "2024-08-30T10:01:58.308Z"
   },
   {
    "duration": 13,
    "start_time": "2024-08-30T10:01:58.859Z"
   },
   {
    "duration": 11,
    "start_time": "2024-08-30T10:01:59.092Z"
   },
   {
    "duration": 4,
    "start_time": "2024-08-30T10:01:59.347Z"
   },
   {
    "duration": 8,
    "start_time": "2024-08-30T10:02:00.211Z"
   },
   {
    "duration": 11,
    "start_time": "2024-08-30T10:02:00.580Z"
   },
   {
    "duration": 4,
    "start_time": "2024-08-30T10:02:00.916Z"
   },
   {
    "duration": 6,
    "start_time": "2024-08-30T10:02:01.572Z"
   },
   {
    "duration": 9,
    "start_time": "2024-08-30T10:02:02.869Z"
   },
   {
    "duration": 11,
    "start_time": "2024-08-30T10:02:03.252Z"
   },
   {
    "duration": 4,
    "start_time": "2024-08-30T10:02:03.606Z"
   },
   {
    "duration": 8,
    "start_time": "2024-08-30T10:02:05.077Z"
   },
   {
    "duration": 5,
    "start_time": "2024-08-30T10:02:06.212Z"
   },
   {
    "duration": 2,
    "start_time": "2024-08-30T10:02:06.980Z"
   },
   {
    "duration": 7,
    "start_time": "2024-08-30T10:02:08.004Z"
   },
   {
    "duration": 6,
    "start_time": "2024-08-30T10:02:08.682Z"
   },
   {
    "duration": 7,
    "start_time": "2024-08-30T10:02:09.220Z"
   },
   {
    "duration": 8,
    "start_time": "2024-08-30T10:02:09.573Z"
   },
   {
    "duration": 7,
    "start_time": "2024-08-30T10:02:10.308Z"
   },
   {
    "duration": 6,
    "start_time": "2024-08-30T10:02:10.646Z"
   },
   {
    "duration": 6,
    "start_time": "2024-08-30T10:02:10.996Z"
   },
   {
    "duration": 170,
    "start_time": "2024-08-30T10:02:13.508Z"
   },
   {
    "duration": 11,
    "start_time": "2024-08-30T10:02:14.260Z"
   },
   {
    "duration": 80,
    "start_time": "2024-08-30T10:02:16.629Z"
   },
   {
    "duration": 21,
    "start_time": "2024-08-30T10:02:17.333Z"
   },
   {
    "duration": 210,
    "start_time": "2024-08-30T10:02:18.501Z"
   },
   {
    "duration": 9,
    "start_time": "2024-08-30T10:02:23.141Z"
   },
   {
    "duration": 180,
    "start_time": "2024-08-30T10:02:23.621Z"
   },
   {
    "duration": 54,
    "start_time": "2024-08-30T10:02:24.884Z"
   },
   {
    "duration": 8,
    "start_time": "2024-08-30T10:02:25.492Z"
   },
   {
    "duration": 9,
    "start_time": "2024-08-30T10:02:33.732Z"
   },
   {
    "duration": 274,
    "start_time": "2024-08-30T10:02:34.228Z"
   },
   {
    "duration": 8,
    "start_time": "2024-08-30T10:02:35.989Z"
   },
   {
    "duration": 209,
    "start_time": "2024-08-30T10:02:36.565Z"
   },
   {
    "duration": 2,
    "start_time": "2024-08-30T10:03:18.039Z"
   },
   {
    "duration": 6,
    "start_time": "2024-08-30T10:03:18.534Z"
   },
   {
    "duration": 5,
    "start_time": "2024-08-30T10:03:18.695Z"
   },
   {
    "duration": 6,
    "start_time": "2024-08-30T10:03:18.982Z"
   },
   {
    "duration": 8,
    "start_time": "2024-08-30T10:03:19.158Z"
   },
   {
    "duration": 6,
    "start_time": "2024-08-30T10:03:19.446Z"
   },
   {
    "duration": 7,
    "start_time": "2024-08-30T10:03:19.622Z"
   },
   {
    "duration": 3,
    "start_time": "2024-08-30T10:03:32.230Z"
   },
   {
    "duration": 80,
    "start_time": "2024-08-30T10:03:32.822Z"
   },
   {
    "duration": 9,
    "start_time": "2024-08-30T10:03:33.231Z"
   },
   {
    "duration": 11,
    "start_time": "2024-08-30T10:03:33.430Z"
   },
   {
    "duration": 4,
    "start_time": "2024-08-30T10:03:33.638Z"
   },
   {
    "duration": 8,
    "start_time": "2024-08-30T10:03:34.646Z"
   },
   {
    "duration": 12,
    "start_time": "2024-08-30T10:03:34.983Z"
   },
   {
    "duration": 5,
    "start_time": "2024-08-30T10:03:35.320Z"
   },
   {
    "duration": 7,
    "start_time": "2024-08-30T10:03:35.655Z"
   },
   {
    "duration": 7,
    "start_time": "2024-08-30T10:03:36.438Z"
   },
   {
    "duration": 11,
    "start_time": "2024-08-30T10:03:36.695Z"
   },
   {
    "duration": 4,
    "start_time": "2024-08-30T10:03:36.886Z"
   },
   {
    "duration": 17,
    "start_time": "2024-08-30T10:03:37.703Z"
   },
   {
    "duration": 8,
    "start_time": "2024-08-30T10:03:38.615Z"
   },
   {
    "duration": 3,
    "start_time": "2024-08-30T10:03:39.609Z"
   },
   {
    "duration": 7,
    "start_time": "2024-08-30T10:03:40.999Z"
   },
   {
    "duration": 5,
    "start_time": "2024-08-30T10:03:41.560Z"
   },
   {
    "duration": 6,
    "start_time": "2024-08-30T10:03:42.327Z"
   },
   {
    "duration": 8,
    "start_time": "2024-08-30T10:03:42.745Z"
   },
   {
    "duration": 6,
    "start_time": "2024-08-30T10:03:43.720Z"
   },
   {
    "duration": 6,
    "start_time": "2024-08-30T10:03:44.152Z"
   },
   {
    "duration": 6,
    "start_time": "2024-08-30T10:03:44.618Z"
   },
   {
    "duration": 177,
    "start_time": "2024-08-30T10:03:48.551Z"
   },
   {
    "duration": 10,
    "start_time": "2024-08-30T10:03:49.256Z"
   },
   {
    "duration": 85,
    "start_time": "2024-08-30T10:03:50.904Z"
   },
   {
    "duration": 14,
    "start_time": "2024-08-30T10:03:51.288Z"
   },
   {
    "duration": 218,
    "start_time": "2024-08-30T10:03:51.831Z"
   },
   {
    "duration": 10,
    "start_time": "2024-08-30T10:03:53.417Z"
   },
   {
    "duration": 337,
    "start_time": "2024-08-30T10:03:53.917Z"
   },
   {
    "duration": 8,
    "start_time": "2024-08-30T10:03:55.927Z"
   },
   {
    "duration": 308,
    "start_time": "2024-08-30T10:03:56.424Z"
   },
   {
    "duration": 10,
    "start_time": "2024-08-30T10:03:58.679Z"
   },
   {
    "duration": 215,
    "start_time": "2024-08-30T10:03:59.143Z"
   },
   {
    "duration": 60,
    "start_time": "2024-08-30T10:06:06.205Z"
   },
   {
    "duration": 16,
    "start_time": "2024-08-30T10:06:12.972Z"
   },
   {
    "duration": 17,
    "start_time": "2024-08-30T10:06:59.166Z"
   },
   {
    "duration": 22,
    "start_time": "2024-08-30T10:07:43.456Z"
   },
   {
    "duration": 15,
    "start_time": "2024-08-30T10:07:54.336Z"
   },
   {
    "duration": 68,
    "start_time": "2024-08-30T10:11:00.661Z"
   },
   {
    "duration": 10,
    "start_time": "2024-08-30T10:21:13.465Z"
   },
   {
    "duration": 13,
    "start_time": "2024-08-30T10:21:27.649Z"
   },
   {
    "duration": 16,
    "start_time": "2024-08-30T10:21:33.193Z"
   },
   {
    "duration": 6,
    "start_time": "2024-08-30T10:25:17.728Z"
   },
   {
    "duration": 19,
    "start_time": "2024-08-30T10:25:32.913Z"
   },
   {
    "duration": 6,
    "start_time": "2024-08-30T10:26:48.531Z"
   },
   {
    "duration": 12,
    "start_time": "2024-08-30T10:27:17.209Z"
   },
   {
    "duration": 5,
    "start_time": "2024-08-30T10:27:21.436Z"
   },
   {
    "duration": 16,
    "start_time": "2024-08-30T10:30:54.296Z"
   },
   {
    "duration": 5,
    "start_time": "2024-08-30T10:31:14.728Z"
   },
   {
    "duration": 23,
    "start_time": "2024-08-30T10:49:51.637Z"
   },
   {
    "duration": 18,
    "start_time": "2024-08-30T10:50:33.069Z"
   },
   {
    "duration": 289,
    "start_time": "2024-08-30T10:51:58.888Z"
   },
   {
    "duration": 14,
    "start_time": "2024-08-30T10:52:06.968Z"
   },
   {
    "duration": 24,
    "start_time": "2024-08-30T10:52:18.857Z"
   },
   {
    "duration": 13,
    "start_time": "2024-08-30T10:52:48.345Z"
   },
   {
    "duration": 15,
    "start_time": "2024-08-30T10:52:53.995Z"
   },
   {
    "duration": 4,
    "start_time": "2024-08-30T10:57:10.722Z"
   },
   {
    "duration": 4,
    "start_time": "2024-08-30T10:59:00.196Z"
   },
   {
    "duration": 7,
    "start_time": "2024-08-30T11:10:04.987Z"
   },
   {
    "duration": 20,
    "start_time": "2024-08-30T11:10:16.139Z"
   },
   {
    "duration": 16,
    "start_time": "2024-08-30T11:10:53.651Z"
   },
   {
    "duration": 17,
    "start_time": "2024-08-30T11:12:55.197Z"
   },
   {
    "duration": 22,
    "start_time": "2024-08-30T11:13:27.758Z"
   },
   {
    "duration": 19,
    "start_time": "2024-08-30T11:13:41.693Z"
   },
   {
    "duration": 16,
    "start_time": "2024-08-30T11:14:20.159Z"
   },
   {
    "duration": 3,
    "start_time": "2024-08-30T11:25:24.304Z"
   },
   {
    "duration": 18,
    "start_time": "2024-08-30T11:28:33.521Z"
   },
   {
    "duration": 4,
    "start_time": "2024-08-30T11:30:30.708Z"
   },
   {
    "duration": 55,
    "start_time": "2024-08-30T11:31:14.916Z"
   },
   {
    "duration": 145,
    "start_time": "2024-08-30T11:40:28.829Z"
   },
   {
    "duration": 123,
    "start_time": "2024-08-30T11:41:15.441Z"
   },
   {
    "duration": 155,
    "start_time": "2024-08-30T11:43:35.527Z"
   },
   {
    "duration": 134,
    "start_time": "2024-08-30T11:44:39.514Z"
   },
   {
    "duration": 132,
    "start_time": "2024-08-30T11:45:49.421Z"
   },
   {
    "duration": 60,
    "start_time": "2024-08-30T11:46:40.864Z"
   },
   {
    "duration": 158,
    "start_time": "2024-08-30T11:46:55.040Z"
   },
   {
    "duration": 163,
    "start_time": "2024-08-30T11:47:02.400Z"
   },
   {
    "duration": 130,
    "start_time": "2024-08-30T11:47:11.792Z"
   },
   {
    "duration": 149,
    "start_time": "2024-08-30T11:47:30.577Z"
   },
   {
    "duration": 183,
    "start_time": "2024-08-30T11:52:29.965Z"
   },
   {
    "duration": 295,
    "start_time": "2024-08-30T11:55:40.963Z"
   },
   {
    "duration": 159,
    "start_time": "2024-08-30T12:00:31.983Z"
   },
   {
    "duration": 192,
    "start_time": "2024-08-30T12:00:55.486Z"
   },
   {
    "duration": 201,
    "start_time": "2024-08-30T12:01:16.094Z"
   },
   {
    "duration": 265,
    "start_time": "2024-08-30T12:01:40.928Z"
   },
   {
    "duration": 171,
    "start_time": "2024-08-30T12:01:56.303Z"
   },
   {
    "duration": 14,
    "start_time": "2024-08-30T12:03:43.692Z"
   },
   {
    "duration": 151,
    "start_time": "2024-08-30T12:04:11.060Z"
   },
   {
    "duration": 173,
    "start_time": "2024-08-30T12:04:19.541Z"
   },
   {
    "duration": 177,
    "start_time": "2024-08-30T12:04:32.916Z"
   },
   {
    "duration": 167,
    "start_time": "2024-08-30T12:15:36.811Z"
   },
   {
    "duration": 186,
    "start_time": "2024-08-30T12:16:39.563Z"
   },
   {
    "duration": 181,
    "start_time": "2024-08-30T12:19:14.412Z"
   },
   {
    "duration": 10,
    "start_time": "2024-08-30T12:19:42.348Z"
   },
   {
    "duration": 182,
    "start_time": "2024-08-30T12:19:49.054Z"
   },
   {
    "duration": 56,
    "start_time": "2024-08-30T12:44:27.017Z"
   },
   {
    "duration": 59,
    "start_time": "2024-08-30T12:44:36.281Z"
   },
   {
    "duration": 58,
    "start_time": "2024-08-30T12:44:57.306Z"
   },
   {
    "duration": 55,
    "start_time": "2024-08-30T12:45:14.780Z"
   },
   {
    "duration": 53,
    "start_time": "2024-08-30T12:45:22.604Z"
   },
   {
    "duration": 52,
    "start_time": "2024-08-30T12:45:42.622Z"
   },
   {
    "duration": 9,
    "start_time": "2024-08-30T12:45:51.437Z"
   },
   {
    "duration": 5,
    "start_time": "2024-08-30T12:46:17.615Z"
   },
   {
    "duration": 4,
    "start_time": "2024-08-30T12:46:37.713Z"
   },
   {
    "duration": 5,
    "start_time": "2024-08-30T12:46:59.233Z"
   },
   {
    "duration": 5,
    "start_time": "2024-08-30T12:47:28.292Z"
   },
   {
    "duration": 306,
    "start_time": "2024-08-30T13:01:58.104Z"
   },
   {
    "duration": 5,
    "start_time": "2024-08-30T13:01:59.255Z"
   },
   {
    "duration": 170,
    "start_time": "2024-08-30T13:02:05.224Z"
   },
   {
    "duration": 169,
    "start_time": "2024-08-30T13:02:29.016Z"
   },
   {
    "duration": 5,
    "start_time": "2024-08-30T13:02:29.801Z"
   },
   {
    "duration": 5,
    "start_time": "2024-08-30T13:08:19.989Z"
   },
   {
    "duration": 5,
    "start_time": "2024-08-30T13:56:36.974Z"
   },
   {
    "duration": 4,
    "start_time": "2024-08-30T13:56:43.790Z"
   },
   {
    "duration": 5,
    "start_time": "2024-08-30T13:57:34.640Z"
   },
   {
    "duration": 1079,
    "start_time": "2024-08-31T11:44:52.349Z"
   },
   {
    "duration": 279,
    "start_time": "2024-08-31T11:44:53.471Z"
   },
   {
    "duration": 11,
    "start_time": "2024-08-31T11:44:55.214Z"
   },
   {
    "duration": 9,
    "start_time": "2024-08-31T11:44:55.407Z"
   },
   {
    "duration": 4,
    "start_time": "2024-08-31T11:44:55.594Z"
   },
   {
    "duration": 7,
    "start_time": "2024-08-31T11:44:56.354Z"
   },
   {
    "duration": 8,
    "start_time": "2024-08-31T11:44:56.546Z"
   },
   {
    "duration": 3,
    "start_time": "2024-08-31T11:44:56.740Z"
   },
   {
    "duration": 5,
    "start_time": "2024-08-31T11:44:56.901Z"
   },
   {
    "duration": 6,
    "start_time": "2024-08-31T11:44:57.446Z"
   },
   {
    "duration": 9,
    "start_time": "2024-08-31T11:44:57.631Z"
   },
   {
    "duration": 3,
    "start_time": "2024-08-31T11:44:57.818Z"
   },
   {
    "duration": 6,
    "start_time": "2024-08-31T11:44:58.561Z"
   },
   {
    "duration": 4,
    "start_time": "2024-08-31T11:44:59.111Z"
   },
   {
    "duration": 4,
    "start_time": "2024-08-31T11:44:59.677Z"
   },
   {
    "duration": 4,
    "start_time": "2024-08-31T11:44:59.840Z"
   },
   {
    "duration": 5,
    "start_time": "2024-08-31T11:45:00.219Z"
   },
   {
    "duration": 7,
    "start_time": "2024-08-31T11:45:00.390Z"
   },
   {
    "duration": 5,
    "start_time": "2024-08-31T11:45:00.824Z"
   },
   {
    "duration": 5,
    "start_time": "2024-08-31T11:45:01.011Z"
   },
   {
    "duration": 5,
    "start_time": "2024-08-31T11:45:01.204Z"
   },
   {
    "duration": 148,
    "start_time": "2024-08-31T11:45:02.211Z"
   },
   {
    "duration": 17,
    "start_time": "2024-08-31T11:45:02.623Z"
   },
   {
    "duration": 71,
    "start_time": "2024-08-31T11:45:03.831Z"
   },
   {
    "duration": 12,
    "start_time": "2024-08-31T11:45:04.058Z"
   },
   {
    "duration": 163,
    "start_time": "2024-08-31T11:45:04.322Z"
   },
   {
    "duration": 7,
    "start_time": "2024-08-31T11:45:05.295Z"
   },
   {
    "duration": 138,
    "start_time": "2024-08-31T11:45:05.504Z"
   },
   {
    "duration": 7,
    "start_time": "2024-08-31T11:45:06.434Z"
   },
   {
    "duration": 206,
    "start_time": "2024-08-31T11:45:06.660Z"
   },
   {
    "duration": 9,
    "start_time": "2024-08-31T11:45:08.480Z"
   },
   {
    "duration": 158,
    "start_time": "2024-08-31T11:45:08.859Z"
   },
   {
    "duration": 13,
    "start_time": "2024-08-31T11:45:09.442Z"
   },
   {
    "duration": 5,
    "start_time": "2024-08-31T11:45:09.706Z"
   },
   {
    "duration": 3,
    "start_time": "2024-08-31T11:45:10.836Z"
   },
   {
    "duration": 21,
    "start_time": "2024-08-31T11:45:11.092Z"
   },
   {
    "duration": 12,
    "start_time": "2024-08-31T11:45:11.621Z"
   },
   {
    "duration": 16,
    "start_time": "2024-08-31T11:45:12.954Z"
   },
   {
    "duration": 3,
    "start_time": "2024-08-31T11:45:13.171Z"
   },
   {
    "duration": 13,
    "start_time": "2024-08-31T11:45:14.022Z"
   },
   {
    "duration": 3,
    "start_time": "2024-08-31T11:45:14.300Z"
   },
   {
    "duration": 145,
    "start_time": "2024-08-31T11:45:15.317Z"
   },
   {
    "duration": 5,
    "start_time": "2024-08-31T11:45:15.556Z"
   },
   {
    "duration": 134,
    "start_time": "2024-08-31T11:45:17.618Z"
   },
   {
    "duration": 4,
    "start_time": "2024-08-31T11:45:18.447Z"
   },
   {
    "duration": 5,
    "start_time": "2024-08-31T11:45:27.297Z"
   },
   {
    "duration": 3,
    "start_time": "2024-08-31T11:45:30.305Z"
   },
   {
    "duration": 13,
    "start_time": "2024-08-31T11:51:30.187Z"
   },
   {
    "duration": 41,
    "start_time": "2024-08-31T11:51:39.523Z"
   },
   {
    "duration": 17,
    "start_time": "2024-08-31T11:54:45.625Z"
   },
   {
    "duration": 77,
    "start_time": "2024-08-31T11:55:29.965Z"
   },
   {
    "duration": 83,
    "start_time": "2024-08-31T11:55:43.066Z"
   },
   {
    "duration": 25,
    "start_time": "2024-08-31T11:55:51.739Z"
   },
   {
    "duration": 4,
    "start_time": "2024-09-02T08:08:00.442Z"
   },
   {
    "duration": 73,
    "start_time": "2024-09-02T08:08:01.714Z"
   },
   {
    "duration": 10,
    "start_time": "2024-09-02T08:08:02.760Z"
   },
   {
    "duration": 11,
    "start_time": "2024-09-02T08:08:03.087Z"
   },
   {
    "duration": 4,
    "start_time": "2024-09-02T08:08:03.294Z"
   },
   {
    "duration": 8,
    "start_time": "2024-09-02T08:08:03.782Z"
   },
   {
    "duration": 13,
    "start_time": "2024-09-02T08:08:03.945Z"
   },
   {
    "duration": 4,
    "start_time": "2024-09-02T08:08:04.140Z"
   },
   {
    "duration": 6,
    "start_time": "2024-09-02T08:08:04.333Z"
   },
   {
    "duration": 8,
    "start_time": "2024-09-02T08:08:04.836Z"
   },
   {
    "duration": 10,
    "start_time": "2024-09-02T08:08:05.062Z"
   },
   {
    "duration": 4,
    "start_time": "2024-09-02T08:08:05.248Z"
   },
   {
    "duration": 9,
    "start_time": "2024-09-02T08:08:06.014Z"
   },
   {
    "duration": 5,
    "start_time": "2024-09-02T08:08:06.580Z"
   },
   {
    "duration": 6,
    "start_time": "2024-09-02T08:08:07.146Z"
   },
   {
    "duration": 6,
    "start_time": "2024-09-02T08:08:07.355Z"
   },
   {
    "duration": 7,
    "start_time": "2024-09-02T08:08:07.757Z"
   },
   {
    "duration": 8,
    "start_time": "2024-09-02T08:08:07.952Z"
   },
   {
    "duration": 6,
    "start_time": "2024-09-02T08:08:08.345Z"
   },
   {
    "duration": 6,
    "start_time": "2024-09-02T08:08:08.548Z"
   },
   {
    "duration": 6,
    "start_time": "2024-09-02T08:08:08.750Z"
   },
   {
    "duration": 166,
    "start_time": "2024-09-02T08:08:09.696Z"
   },
   {
    "duration": 10,
    "start_time": "2024-09-02T08:08:09.888Z"
   },
   {
    "duration": 86,
    "start_time": "2024-09-02T08:08:10.672Z"
   },
   {
    "duration": 16,
    "start_time": "2024-09-02T08:08:10.866Z"
   },
   {
    "duration": 306,
    "start_time": "2024-09-02T08:08:11.061Z"
   },
   {
    "duration": 10,
    "start_time": "2024-09-02T08:08:11.888Z"
   },
   {
    "duration": 175,
    "start_time": "2024-09-02T08:08:12.090Z"
   },
   {
    "duration": 9,
    "start_time": "2024-09-02T08:08:12.918Z"
   },
   {
    "duration": 263,
    "start_time": "2024-09-02T08:08:13.105Z"
   },
   {
    "duration": 9,
    "start_time": "2024-09-02T08:08:13.896Z"
   },
   {
    "duration": 197,
    "start_time": "2024-09-02T08:08:14.105Z"
   },
   {
    "duration": 16,
    "start_time": "2024-09-02T08:08:14.517Z"
   },
   {
    "duration": 6,
    "start_time": "2024-09-02T08:08:14.740Z"
   },
   {
    "duration": 4,
    "start_time": "2024-09-02T08:08:15.563Z"
   },
   {
    "duration": 25,
    "start_time": "2024-09-02T08:08:15.779Z"
   },
   {
    "duration": 16,
    "start_time": "2024-09-02T08:08:15.998Z"
   },
   {
    "duration": 18,
    "start_time": "2024-09-02T08:08:16.788Z"
   },
   {
    "duration": 4,
    "start_time": "2024-09-02T08:08:17.004Z"
   },
   {
    "duration": 18,
    "start_time": "2024-09-02T08:08:17.655Z"
   },
   {
    "duration": 3,
    "start_time": "2024-09-02T08:08:17.855Z"
   },
   {
    "duration": 191,
    "start_time": "2024-09-02T08:08:18.746Z"
   },
   {
    "duration": 5,
    "start_time": "2024-09-02T08:08:19.165Z"
   },
   {
    "duration": 185,
    "start_time": "2024-09-02T08:08:20.320Z"
   },
   {
    "duration": 6,
    "start_time": "2024-09-02T08:08:20.731Z"
   },
   {
    "duration": 5,
    "start_time": "2024-09-02T08:08:22.228Z"
   },
   {
    "duration": 38,
    "start_time": "2024-09-02T08:08:23.753Z"
   },
   {
    "duration": 173,
    "start_time": "2024-09-02T08:09:03.829Z"
   },
   {
    "duration": 33,
    "start_time": "2024-09-02T08:09:48.021Z"
   },
   {
    "duration": 33,
    "start_time": "2024-09-02T08:11:06.904Z"
   },
   {
    "duration": 34,
    "start_time": "2024-09-02T08:11:41.753Z"
   },
   {
    "duration": 66,
    "start_time": "2024-09-02T08:15:29.375Z"
   },
   {
    "duration": 5,
    "start_time": "2024-09-02T08:16:08.895Z"
   },
   {
    "duration": 159,
    "start_time": "2024-09-02T08:16:09.886Z"
   },
   {
    "duration": 87,
    "start_time": "2024-09-02T08:16:10.560Z"
   },
   {
    "duration": 25,
    "start_time": "2024-09-02T08:16:44.113Z"
   },
   {
    "duration": 5,
    "start_time": "2024-09-02T08:17:21.073Z"
   },
   {
    "duration": 162,
    "start_time": "2024-09-02T08:17:22.145Z"
   },
   {
    "duration": 24,
    "start_time": "2024-09-02T08:17:22.658Z"
   },
   {
    "duration": 45,
    "start_time": "2024-09-02T08:17:51.859Z"
   },
   {
    "duration": 64,
    "start_time": "2024-09-02T08:18:50.168Z"
   },
   {
    "duration": 36,
    "start_time": "2024-09-02T08:20:07.702Z"
   },
   {
    "duration": 34,
    "start_time": "2024-09-02T08:20:26.471Z"
   },
   {
    "duration": 39,
    "start_time": "2024-09-02T08:21:50.905Z"
   },
   {
    "duration": 41,
    "start_time": "2024-09-02T08:22:38.410Z"
   },
   {
    "duration": 35,
    "start_time": "2024-09-02T08:28:19.205Z"
   },
   {
    "duration": 77,
    "start_time": "2024-09-02T08:51:50.458Z"
   },
   {
    "duration": 34,
    "start_time": "2024-09-02T08:51:57.244Z"
   },
   {
    "duration": 42,
    "start_time": "2024-09-02T08:53:01.131Z"
   },
   {
    "duration": 37,
    "start_time": "2024-09-02T08:53:41.406Z"
   },
   {
    "duration": 1280,
    "start_time": "2024-09-02T11:02:36.481Z"
   },
   {
    "duration": 393,
    "start_time": "2024-09-02T11:02:37.763Z"
   },
   {
    "duration": 12,
    "start_time": "2024-09-02T11:02:38.853Z"
   },
   {
    "duration": 11,
    "start_time": "2024-09-02T11:02:39.370Z"
   },
   {
    "duration": 4,
    "start_time": "2024-09-02T11:02:39.749Z"
   },
   {
    "duration": 9,
    "start_time": "2024-09-02T11:02:40.921Z"
   },
   {
    "duration": 10,
    "start_time": "2024-09-02T11:02:41.153Z"
   },
   {
    "duration": 3,
    "start_time": "2024-09-02T11:02:41.387Z"
   },
   {
    "duration": 6,
    "start_time": "2024-09-02T11:02:41.625Z"
   },
   {
    "duration": 7,
    "start_time": "2024-09-02T11:02:42.446Z"
   },
   {
    "duration": 10,
    "start_time": "2024-09-02T11:02:42.695Z"
   },
   {
    "duration": 4,
    "start_time": "2024-09-02T11:02:42.926Z"
   },
   {
    "duration": 7,
    "start_time": "2024-09-02T11:02:43.727Z"
   },
   {
    "duration": 5,
    "start_time": "2024-09-02T11:02:44.298Z"
   },
   {
    "duration": 6,
    "start_time": "2024-09-02T11:02:44.840Z"
   },
   {
    "duration": 4,
    "start_time": "2024-09-02T11:02:45.036Z"
   },
   {
    "duration": 5,
    "start_time": "2024-09-02T11:02:45.399Z"
   },
   {
    "duration": 8,
    "start_time": "2024-09-02T11:02:45.585Z"
   },
   {
    "duration": 5,
    "start_time": "2024-09-02T11:02:46.137Z"
   },
   {
    "duration": 7,
    "start_time": "2024-09-02T11:02:46.318Z"
   },
   {
    "duration": 5,
    "start_time": "2024-09-02T11:02:46.493Z"
   },
   {
    "duration": 175,
    "start_time": "2024-09-02T11:02:47.354Z"
   },
   {
    "duration": 11,
    "start_time": "2024-09-02T11:02:47.531Z"
   },
   {
    "duration": 90,
    "start_time": "2024-09-02T11:02:48.229Z"
   },
   {
    "duration": 14,
    "start_time": "2024-09-02T11:02:48.422Z"
   },
   {
    "duration": 192,
    "start_time": "2024-09-02T11:02:48.601Z"
   },
   {
    "duration": 8,
    "start_time": "2024-09-02T11:02:49.328Z"
   },
   {
    "duration": 167,
    "start_time": "2024-09-02T11:02:49.547Z"
   },
   {
    "duration": 9,
    "start_time": "2024-09-02T11:02:50.282Z"
   },
   {
    "duration": 265,
    "start_time": "2024-09-02T11:02:50.461Z"
   },
   {
    "duration": 9,
    "start_time": "2024-09-02T11:02:51.242Z"
   },
   {
    "duration": 193,
    "start_time": "2024-09-02T11:02:51.422Z"
   },
   {
    "duration": 15,
    "start_time": "2024-09-02T11:02:51.825Z"
   },
   {
    "duration": 5,
    "start_time": "2024-09-02T11:02:52.043Z"
   },
   {
    "duration": 3,
    "start_time": "2024-09-02T11:02:52.818Z"
   },
   {
    "duration": 24,
    "start_time": "2024-09-02T11:02:53.014Z"
   },
   {
    "duration": 16,
    "start_time": "2024-09-02T11:02:53.197Z"
   },
   {
    "duration": 18,
    "start_time": "2024-09-02T11:02:53.792Z"
   },
   {
    "duration": 3,
    "start_time": "2024-09-02T11:02:53.986Z"
   },
   {
    "duration": 15,
    "start_time": "2024-09-02T11:02:54.593Z"
   },
   {
    "duration": 4,
    "start_time": "2024-09-02T11:02:54.802Z"
   },
   {
    "duration": 178,
    "start_time": "2024-09-02T11:02:55.598Z"
   },
   {
    "duration": 5,
    "start_time": "2024-09-02T11:02:55.825Z"
   },
   {
    "duration": 200,
    "start_time": "2024-09-02T11:02:56.466Z"
   },
   {
    "duration": 5,
    "start_time": "2024-09-02T11:02:56.670Z"
   },
   {
    "duration": 5,
    "start_time": "2024-09-02T11:02:57.522Z"
   },
   {
    "duration": 206,
    "start_time": "2024-09-02T11:02:58.118Z"
   },
   {
    "duration": 109,
    "start_time": "2024-09-02T11:02:58.608Z"
   },
   {
    "duration": 90,
    "start_time": "2024-09-02T11:05:37.650Z"
   },
   {
    "duration": 125,
    "start_time": "2024-09-02T11:05:44.786Z"
   },
   {
    "duration": 114,
    "start_time": "2024-09-02T11:06:46.533Z"
   },
   {
    "duration": 68,
    "start_time": "2024-09-02T11:08:08.922Z"
   },
   {
    "duration": 66,
    "start_time": "2024-09-02T11:08:34.838Z"
   },
   {
    "duration": 63,
    "start_time": "2024-09-02T11:08:41.863Z"
   },
   {
    "duration": 11,
    "start_time": "2024-09-02T12:39:27.786Z"
   },
   {
    "duration": 3,
    "start_time": "2024-09-02T12:39:50.709Z"
   },
   {
    "duration": 75,
    "start_time": "2024-09-02T12:39:51.321Z"
   },
   {
    "duration": 8,
    "start_time": "2024-09-02T12:39:51.662Z"
   },
   {
    "duration": 11,
    "start_time": "2024-09-02T12:39:51.847Z"
   },
   {
    "duration": 4,
    "start_time": "2024-09-02T12:39:52.290Z"
   },
   {
    "duration": 8,
    "start_time": "2024-09-02T12:39:52.785Z"
   },
   {
    "duration": 11,
    "start_time": "2024-09-02T12:39:52.963Z"
   },
   {
    "duration": 3,
    "start_time": "2024-09-02T12:39:53.119Z"
   },
   {
    "duration": 7,
    "start_time": "2024-09-02T12:39:53.295Z"
   },
   {
    "duration": 7,
    "start_time": "2024-09-02T12:39:53.800Z"
   },
   {
    "duration": 9,
    "start_time": "2024-09-02T12:39:53.978Z"
   },
   {
    "duration": 4,
    "start_time": "2024-09-02T12:39:54.147Z"
   },
   {
    "duration": 7,
    "start_time": "2024-09-02T12:39:54.867Z"
   },
   {
    "duration": 6,
    "start_time": "2024-09-02T12:39:55.409Z"
   },
   {
    "duration": 5,
    "start_time": "2024-09-02T12:39:55.927Z"
   },
   {
    "duration": 5,
    "start_time": "2024-09-02T12:39:56.129Z"
   },
   {
    "duration": 5,
    "start_time": "2024-09-02T12:39:56.485Z"
   },
   {
    "duration": 8,
    "start_time": "2024-09-02T12:39:56.671Z"
   },
   {
    "duration": 6,
    "start_time": "2024-09-02T12:39:57.027Z"
   },
   {
    "duration": 6,
    "start_time": "2024-09-02T12:39:57.211Z"
   },
   {
    "duration": 6,
    "start_time": "2024-09-02T12:39:57.392Z"
   },
   {
    "duration": 156,
    "start_time": "2024-09-02T12:39:58.305Z"
   },
   {
    "duration": 10,
    "start_time": "2024-09-02T12:39:58.473Z"
   },
   {
    "duration": 80,
    "start_time": "2024-09-02T12:39:59.234Z"
   },
   {
    "duration": 16,
    "start_time": "2024-09-02T12:39:59.404Z"
   },
   {
    "duration": 195,
    "start_time": "2024-09-02T12:39:59.599Z"
   },
   {
    "duration": 8,
    "start_time": "2024-09-02T12:40:00.371Z"
   },
   {
    "duration": 188,
    "start_time": "2024-09-02T12:40:00.573Z"
   },
   {
    "duration": 9,
    "start_time": "2024-09-02T12:40:01.370Z"
   },
   {
    "duration": 272,
    "start_time": "2024-09-02T12:40:01.564Z"
   },
   {
    "duration": 11,
    "start_time": "2024-09-02T12:40:02.313Z"
   },
   {
    "duration": 290,
    "start_time": "2024-09-02T12:40:02.491Z"
   },
   {
    "duration": 15,
    "start_time": "2024-09-02T12:40:02.893Z"
   },
   {
    "duration": 5,
    "start_time": "2024-09-02T12:40:03.095Z"
   },
   {
    "duration": 4,
    "start_time": "2024-09-02T12:40:03.837Z"
   },
   {
    "duration": 23,
    "start_time": "2024-09-02T12:40:04.032Z"
   },
   {
    "duration": 15,
    "start_time": "2024-09-02T12:40:04.242Z"
   },
   {
    "duration": 18,
    "start_time": "2024-09-02T12:40:04.806Z"
   },
   {
    "duration": 5,
    "start_time": "2024-09-02T12:40:05.016Z"
   },
   {
    "duration": 17,
    "start_time": "2024-09-02T12:40:05.612Z"
   },
   {
    "duration": 4,
    "start_time": "2024-09-02T12:40:05.827Z"
   },
   {
    "duration": 170,
    "start_time": "2024-09-02T12:40:06.617Z"
   },
   {
    "duration": 5,
    "start_time": "2024-09-02T12:40:06.828Z"
   },
   {
    "duration": 161,
    "start_time": "2024-09-02T12:40:07.422Z"
   },
   {
    "duration": 5,
    "start_time": "2024-09-02T12:40:07.709Z"
   },
   {
    "duration": 4,
    "start_time": "2024-09-02T12:40:08.762Z"
   },
   {
    "duration": 161,
    "start_time": "2024-09-02T12:40:09.379Z"
   },
   {
    "duration": 33,
    "start_time": "2024-09-02T12:40:09.668Z"
   },
   {
    "duration": 8,
    "start_time": "2024-09-02T12:40:12.082Z"
   },
   {
    "duration": 4,
    "start_time": "2024-09-02T12:40:53.452Z"
   },
   {
    "duration": 54,
    "start_time": "2024-09-02T12:42:12.494Z"
   },
   {
    "duration": 5,
    "start_time": "2024-09-02T12:42:25.678Z"
   },
   {
    "duration": 6,
    "start_time": "2024-09-02T13:08:58.992Z"
   },
   {
    "duration": 5,
    "start_time": "2024-09-02T13:11:38.822Z"
   },
   {
    "duration": 6,
    "start_time": "2024-09-02T13:46:58.778Z"
   },
   {
    "duration": 1228,
    "start_time": "2024-09-03T06:22:23.504Z"
   },
   {
    "duration": 292,
    "start_time": "2024-09-03T06:22:24.937Z"
   },
   {
    "duration": 13,
    "start_time": "2024-09-03T06:22:25.293Z"
   },
   {
    "duration": 11,
    "start_time": "2024-09-03T06:22:25.472Z"
   },
   {
    "duration": 4,
    "start_time": "2024-09-03T06:22:25.923Z"
   },
   {
    "duration": 8,
    "start_time": "2024-09-03T06:22:26.495Z"
   },
   {
    "duration": 11,
    "start_time": "2024-09-03T06:22:26.697Z"
   },
   {
    "duration": 3,
    "start_time": "2024-09-03T06:22:27.069Z"
   },
   {
    "duration": 7,
    "start_time": "2024-09-03T06:22:27.352Z"
   },
   {
    "duration": 8,
    "start_time": "2024-09-03T06:22:27.944Z"
   },
   {
    "duration": 10,
    "start_time": "2024-09-03T06:22:28.147Z"
   },
   {
    "duration": 3,
    "start_time": "2024-09-03T06:22:28.318Z"
   },
   {
    "duration": 10,
    "start_time": "2024-09-03T06:22:29.061Z"
   },
   {
    "duration": 4,
    "start_time": "2024-09-03T06:22:29.597Z"
   },
   {
    "duration": 6,
    "start_time": "2024-09-03T06:22:30.146Z"
   },
   {
    "duration": 5,
    "start_time": "2024-09-03T06:22:30.325Z"
   },
   {
    "duration": 5,
    "start_time": "2024-09-03T06:22:30.675Z"
   },
   {
    "duration": 9,
    "start_time": "2024-09-03T06:22:31.411Z"
   },
   {
    "duration": 5,
    "start_time": "2024-09-03T06:22:31.799Z"
   },
   {
    "duration": 8,
    "start_time": "2024-09-03T06:22:31.968Z"
   },
   {
    "duration": 6,
    "start_time": "2024-09-03T06:22:32.163Z"
   },
   {
    "duration": 173,
    "start_time": "2024-09-03T06:22:33.010Z"
   },
   {
    "duration": 10,
    "start_time": "2024-09-03T06:22:33.194Z"
   },
   {
    "duration": 74,
    "start_time": "2024-09-03T06:22:33.947Z"
   },
   {
    "duration": 16,
    "start_time": "2024-09-03T06:22:34.117Z"
   },
   {
    "duration": 191,
    "start_time": "2024-09-03T06:22:34.319Z"
   },
   {
    "duration": 7,
    "start_time": "2024-09-03T06:22:35.079Z"
   },
   {
    "duration": 156,
    "start_time": "2024-09-03T06:22:35.258Z"
   },
   {
    "duration": 8,
    "start_time": "2024-09-03T06:22:35.985Z"
   },
   {
    "duration": 261,
    "start_time": "2024-09-03T06:22:36.171Z"
   },
   {
    "duration": 8,
    "start_time": "2024-09-03T06:22:36.922Z"
   },
   {
    "duration": 227,
    "start_time": "2024-09-03T06:22:37.117Z"
   },
   {
    "duration": 15,
    "start_time": "2024-09-03T06:22:37.497Z"
   },
   {
    "duration": 5,
    "start_time": "2024-09-03T06:22:37.675Z"
   },
   {
    "duration": 4,
    "start_time": "2024-09-03T06:22:38.444Z"
   },
   {
    "duration": 24,
    "start_time": "2024-09-03T06:22:38.621Z"
   },
   {
    "duration": 17,
    "start_time": "2024-09-03T06:22:38.816Z"
   },
   {
    "duration": 17,
    "start_time": "2024-09-03T06:22:39.583Z"
   },
   {
    "duration": 4,
    "start_time": "2024-09-03T06:22:39.761Z"
   },
   {
    "duration": 16,
    "start_time": "2024-09-03T06:22:40.343Z"
   },
   {
    "duration": 4,
    "start_time": "2024-09-03T06:22:40.537Z"
   },
   {
    "duration": 167,
    "start_time": "2024-09-03T06:22:41.319Z"
   },
   {
    "duration": 6,
    "start_time": "2024-09-03T06:22:41.506Z"
   },
   {
    "duration": 162,
    "start_time": "2024-09-03T06:22:42.119Z"
   },
   {
    "duration": 6,
    "start_time": "2024-09-03T06:22:42.339Z"
   },
   {
    "duration": 6,
    "start_time": "2024-09-03T06:22:43.156Z"
   },
   {
    "duration": 161,
    "start_time": "2024-09-03T06:22:43.769Z"
   },
   {
    "duration": 121,
    "start_time": "2024-09-03T06:22:43.971Z"
   },
   {
    "duration": 5,
    "start_time": "2024-09-03T06:22:45.831Z"
   },
   {
    "duration": 5,
    "start_time": "2024-09-03T06:22:47.289Z"
   },
   {
    "duration": 7,
    "start_time": "2024-09-03T07:16:33.153Z"
   },
   {
    "duration": 6,
    "start_time": "2024-09-03T07:17:01.342Z"
   },
   {
    "duration": 5,
    "start_time": "2024-09-03T07:17:03.087Z"
   },
   {
    "duration": 9,
    "start_time": "2024-09-03T08:13:32.745Z"
   },
   {
    "duration": 5,
    "start_time": "2024-09-03T08:16:54.045Z"
   },
   {
    "duration": 5,
    "start_time": "2024-09-03T08:17:02.597Z"
   },
   {
    "duration": 1328,
    "start_time": "2024-09-04T07:54:20.456Z"
   },
   {
    "duration": 407,
    "start_time": "2024-09-04T07:54:21.786Z"
   },
   {
    "duration": 14,
    "start_time": "2024-09-04T07:54:22.272Z"
   },
   {
    "duration": 12,
    "start_time": "2024-09-04T07:54:23.208Z"
   },
   {
    "duration": 5,
    "start_time": "2024-09-04T07:54:23.742Z"
   },
   {
    "duration": 9,
    "start_time": "2024-09-04T07:54:24.835Z"
   },
   {
    "duration": 12,
    "start_time": "2024-09-04T07:54:25.061Z"
   },
   {
    "duration": 5,
    "start_time": "2024-09-04T07:54:25.325Z"
   },
   {
    "duration": 7,
    "start_time": "2024-09-04T07:54:25.574Z"
   },
   {
    "duration": 7,
    "start_time": "2024-09-04T07:54:26.147Z"
   },
   {
    "duration": 11,
    "start_time": "2024-09-04T07:54:26.349Z"
   },
   {
    "duration": 4,
    "start_time": "2024-09-04T07:54:26.534Z"
   },
   {
    "duration": 8,
    "start_time": "2024-09-04T07:54:27.365Z"
   },
   {
    "duration": 5,
    "start_time": "2024-09-04T07:54:27.953Z"
   },
   {
    "duration": 6,
    "start_time": "2024-09-04T07:54:28.814Z"
   },
   {
    "duration": 5,
    "start_time": "2024-09-04T07:54:29.040Z"
   },
   {
    "duration": 6,
    "start_time": "2024-09-04T07:54:29.489Z"
   },
   {
    "duration": 9,
    "start_time": "2024-09-04T07:54:29.699Z"
   },
   {
    "duration": 7,
    "start_time": "2024-09-04T07:54:30.096Z"
   },
   {
    "duration": 6,
    "start_time": "2024-09-04T07:54:30.299Z"
   },
   {
    "duration": 6,
    "start_time": "2024-09-04T07:54:30.531Z"
   },
   {
    "duration": 191,
    "start_time": "2024-09-04T07:54:31.601Z"
   },
   {
    "duration": 17,
    "start_time": "2024-09-04T07:54:31.796Z"
   },
   {
    "duration": 85,
    "start_time": "2024-09-04T07:54:32.649Z"
   },
   {
    "duration": 22,
    "start_time": "2024-09-04T07:54:32.852Z"
   },
   {
    "duration": 211,
    "start_time": "2024-09-04T07:54:33.054Z"
   },
   {
    "duration": 9,
    "start_time": "2024-09-04T07:54:33.826Z"
   },
   {
    "duration": 195,
    "start_time": "2024-09-04T07:54:34.028Z"
   },
   {
    "duration": 8,
    "start_time": "2024-09-04T07:54:34.829Z"
   },
   {
    "duration": 313,
    "start_time": "2024-09-04T07:54:35.061Z"
   },
   {
    "duration": 10,
    "start_time": "2024-09-04T07:54:35.828Z"
   },
   {
    "duration": 211,
    "start_time": "2024-09-04T07:54:36.016Z"
   },
   {
    "duration": 17,
    "start_time": "2024-09-04T07:54:36.406Z"
   },
   {
    "duration": 5,
    "start_time": "2024-09-04T07:54:36.583Z"
   },
   {
    "duration": 3,
    "start_time": "2024-09-04T07:54:37.389Z"
   },
   {
    "duration": 27,
    "start_time": "2024-09-04T07:54:37.583Z"
   },
   {
    "duration": 15,
    "start_time": "2024-09-04T07:54:37.778Z"
   },
   {
    "duration": 20,
    "start_time": "2024-09-04T07:54:38.351Z"
   },
   {
    "duration": 4,
    "start_time": "2024-09-04T07:54:38.537Z"
   },
   {
    "duration": 18,
    "start_time": "2024-09-04T07:54:39.119Z"
   },
   {
    "duration": 4,
    "start_time": "2024-09-04T07:54:39.313Z"
   },
   {
    "duration": 201,
    "start_time": "2024-09-04T07:54:40.106Z"
   },
   {
    "duration": 5,
    "start_time": "2024-09-04T07:54:40.312Z"
   },
   {
    "duration": 182,
    "start_time": "2024-09-04T07:54:40.880Z"
   },
   {
    "duration": 5,
    "start_time": "2024-09-04T07:54:41.072Z"
   },
   {
    "duration": 5,
    "start_time": "2024-09-04T07:54:41.873Z"
   },
   {
    "duration": 177,
    "start_time": "2024-09-04T07:54:42.462Z"
   },
   {
    "duration": 119,
    "start_time": "2024-09-04T07:54:42.657Z"
   },
   {
    "duration": 5,
    "start_time": "2024-09-04T07:54:43.827Z"
   },
   {
    "duration": 6,
    "start_time": "2024-09-04T07:54:44.618Z"
   },
   {
    "duration": 8,
    "start_time": "2024-09-04T08:23:30.985Z"
   },
   {
    "duration": 8,
    "start_time": "2024-09-04T08:23:42.425Z"
   },
   {
    "duration": 52,
    "start_time": "2024-09-04T08:28:10.784Z"
   },
   {
    "duration": 12,
    "start_time": "2024-09-04T08:28:23.297Z"
   },
   {
    "duration": 6,
    "start_time": "2024-09-04T08:32:00.294Z"
   },
   {
    "duration": 4,
    "start_time": "2024-09-04T08:33:52.842Z"
   },
   {
    "duration": 4,
    "start_time": "2024-09-04T08:33:56.057Z"
   },
   {
    "duration": 5,
    "start_time": "2024-09-04T08:34:08.793Z"
   },
   {
    "duration": 4,
    "start_time": "2024-09-04T08:44:06.858Z"
   },
   {
    "duration": 4,
    "start_time": "2024-09-04T08:45:21.884Z"
   },
   {
    "duration": 5,
    "start_time": "2024-09-04T08:45:29.019Z"
   },
   {
    "duration": 5,
    "start_time": "2024-09-04T08:45:47.581Z"
   },
   {
    "duration": 5,
    "start_time": "2024-09-04T08:46:24.589Z"
   },
   {
    "duration": 4,
    "start_time": "2024-09-04T08:47:38.080Z"
   },
   {
    "duration": 4,
    "start_time": "2024-09-04T08:49:18.579Z"
   },
   {
    "duration": 4,
    "start_time": "2024-09-04T08:49:32.066Z"
   },
   {
    "duration": 4,
    "start_time": "2024-09-04T08:50:09.539Z"
   },
   {
    "duration": 1371,
    "start_time": "2024-09-05T07:42:37.791Z"
   },
   {
    "duration": 393,
    "start_time": "2024-09-05T07:42:39.164Z"
   },
   {
    "duration": 17,
    "start_time": "2024-09-05T07:42:39.560Z"
   },
   {
    "duration": 16,
    "start_time": "2024-09-05T07:42:39.579Z"
   },
   {
    "duration": 6,
    "start_time": "2024-09-05T07:42:39.622Z"
   },
   {
    "duration": 10,
    "start_time": "2024-09-05T07:42:40.328Z"
   },
   {
    "duration": 12,
    "start_time": "2024-09-05T07:42:40.514Z"
   },
   {
    "duration": 4,
    "start_time": "2024-09-05T07:42:40.662Z"
   },
   {
    "duration": 7,
    "start_time": "2024-09-05T07:42:40.831Z"
   },
   {
    "duration": 8,
    "start_time": "2024-09-05T07:42:41.382Z"
   },
   {
    "duration": 13,
    "start_time": "2024-09-05T07:42:41.540Z"
   },
   {
    "duration": 4,
    "start_time": "2024-09-05T07:42:41.817Z"
   },
   {
    "duration": 7,
    "start_time": "2024-09-05T07:42:42.593Z"
   },
   {
    "duration": 5,
    "start_time": "2024-09-05T07:42:43.115Z"
   },
   {
    "duration": 6,
    "start_time": "2024-09-05T07:42:43.686Z"
   },
   {
    "duration": 5,
    "start_time": "2024-09-05T07:42:43.859Z"
   },
   {
    "duration": 6,
    "start_time": "2024-09-05T07:42:44.239Z"
   },
   {
    "duration": 9,
    "start_time": "2024-09-05T07:42:44.388Z"
   },
   {
    "duration": 6,
    "start_time": "2024-09-05T07:42:44.739Z"
   },
   {
    "duration": 6,
    "start_time": "2024-09-05T07:42:44.915Z"
   },
   {
    "duration": 6,
    "start_time": "2024-09-05T07:42:45.101Z"
   },
   {
    "duration": 199,
    "start_time": "2024-09-05T07:42:46.063Z"
   },
   {
    "duration": 12,
    "start_time": "2024-09-05T07:42:46.264Z"
   },
   {
    "duration": 83,
    "start_time": "2024-09-05T07:42:47.027Z"
   },
   {
    "duration": 16,
    "start_time": "2024-09-05T07:42:47.214Z"
   },
   {
    "duration": 203,
    "start_time": "2024-09-05T07:42:47.447Z"
   },
   {
    "duration": 8,
    "start_time": "2024-09-05T07:42:48.230Z"
   },
   {
    "duration": 187,
    "start_time": "2024-09-05T07:42:48.441Z"
   },
   {
    "duration": 9,
    "start_time": "2024-09-05T07:42:49.201Z"
   },
   {
    "duration": 323,
    "start_time": "2024-09-05T07:42:49.402Z"
   },
   {
    "duration": 8,
    "start_time": "2024-09-05T07:42:50.342Z"
   },
   {
    "duration": 214,
    "start_time": "2024-09-05T07:42:50.575Z"
   },
   {
    "duration": 15,
    "start_time": "2024-09-05T07:42:50.973Z"
   },
   {
    "duration": 6,
    "start_time": "2024-09-05T07:42:51.214Z"
   },
   {
    "duration": 4,
    "start_time": "2024-09-05T07:42:51.996Z"
   },
   {
    "duration": 28,
    "start_time": "2024-09-05T07:42:52.193Z"
   },
   {
    "duration": 15,
    "start_time": "2024-09-05T07:42:52.541Z"
   },
   {
    "duration": 19,
    "start_time": "2024-09-05T07:42:53.162Z"
   },
   {
    "duration": 3,
    "start_time": "2024-09-05T07:42:53.381Z"
   },
   {
    "duration": 18,
    "start_time": "2024-09-05T07:42:54.014Z"
   },
   {
    "duration": 4,
    "start_time": "2024-09-05T07:42:54.256Z"
   },
   {
    "duration": 193,
    "start_time": "2024-09-05T07:42:55.205Z"
   },
   {
    "duration": 6,
    "start_time": "2024-09-05T07:42:55.427Z"
   },
   {
    "duration": 186,
    "start_time": "2024-09-05T07:42:56.125Z"
   },
   {
    "duration": 6,
    "start_time": "2024-09-05T07:42:56.385Z"
   },
   {
    "duration": 5,
    "start_time": "2024-09-05T07:42:57.478Z"
   },
   {
    "duration": 183,
    "start_time": "2024-09-05T07:42:58.167Z"
   },
   {
    "duration": 115,
    "start_time": "2024-09-05T07:42:58.403Z"
   },
   {
    "duration": 6,
    "start_time": "2024-09-05T07:42:59.768Z"
   },
   {
    "duration": 5,
    "start_time": "2024-09-05T07:43:00.008Z"
   },
   {
    "duration": 5,
    "start_time": "2024-09-05T07:43:01.110Z"
   },
   {
    "duration": 4,
    "start_time": "2024-09-05T07:43:01.320Z"
   },
   {
    "duration": 11,
    "start_time": "2024-09-05T07:43:02.198Z"
   },
   {
    "duration": 4,
    "start_time": "2024-09-05T07:43:02.400Z"
   },
   {
    "duration": 99,
    "start_time": "2024-09-05T08:43:50.374Z"
   },
   {
    "duration": 3,
    "start_time": "2024-09-05T08:50:20.238Z"
   },
   {
    "duration": 80,
    "start_time": "2024-09-05T08:50:22.150Z"
   },
   {
    "duration": 9,
    "start_time": "2024-09-05T08:50:22.486Z"
   },
   {
    "duration": 11,
    "start_time": "2024-09-05T08:50:22.614Z"
   },
   {
    "duration": 4,
    "start_time": "2024-09-05T08:50:22.774Z"
   },
   {
    "duration": 8,
    "start_time": "2024-09-05T08:50:23.347Z"
   },
   {
    "duration": 11,
    "start_time": "2024-09-05T08:50:23.381Z"
   },
   {
    "duration": 3,
    "start_time": "2024-09-05T08:50:23.425Z"
   },
   {
    "duration": 28,
    "start_time": "2024-09-05T08:50:23.457Z"
   },
   {
    "duration": 7,
    "start_time": "2024-09-05T08:50:23.558Z"
   },
   {
    "duration": 10,
    "start_time": "2024-09-05T08:50:23.594Z"
   },
   {
    "duration": 4,
    "start_time": "2024-09-05T08:50:23.634Z"
   },
   {
    "duration": 7,
    "start_time": "2024-09-05T08:50:23.751Z"
   },
   {
    "duration": 6,
    "start_time": "2024-09-05T08:50:23.838Z"
   },
   {
    "duration": 6,
    "start_time": "2024-09-05T08:50:23.947Z"
   },
   {
    "duration": 5,
    "start_time": "2024-09-05T08:50:23.978Z"
   },
   {
    "duration": 6,
    "start_time": "2024-09-05T08:50:24.086Z"
   },
   {
    "duration": 8,
    "start_time": "2024-09-05T08:50:24.116Z"
   },
   {
    "duration": 6,
    "start_time": "2024-09-05T08:50:24.182Z"
   },
   {
    "duration": 7,
    "start_time": "2024-09-05T08:50:24.212Z"
   },
   {
    "duration": 6,
    "start_time": "2024-09-05T08:50:24.243Z"
   },
   {
    "duration": 174,
    "start_time": "2024-09-05T08:50:24.394Z"
   },
   {
    "duration": 11,
    "start_time": "2024-09-05T08:50:24.570Z"
   },
   {
    "duration": 98,
    "start_time": "2024-09-05T08:50:24.582Z"
   },
   {
    "duration": 14,
    "start_time": "2024-09-05T08:50:24.682Z"
   },
   {
    "duration": 219,
    "start_time": "2024-09-05T08:50:24.697Z"
   },
   {
    "duration": 8,
    "start_time": "2024-09-05T08:50:24.924Z"
   },
   {
    "duration": 181,
    "start_time": "2024-09-05T08:50:24.934Z"
   },
   {
    "duration": 8,
    "start_time": "2024-09-05T08:50:25.125Z"
   },
   {
    "duration": 290,
    "start_time": "2024-09-05T08:50:25.135Z"
   },
   {
    "duration": 9,
    "start_time": "2024-09-05T08:50:25.427Z"
   },
   {
    "duration": 224,
    "start_time": "2024-09-05T08:50:25.438Z"
   },
   {
    "duration": 17,
    "start_time": "2024-09-05T08:50:25.664Z"
   },
   {
    "duration": 34,
    "start_time": "2024-09-05T08:50:25.683Z"
   },
   {
    "duration": 8,
    "start_time": "2024-09-05T08:50:25.719Z"
   },
   {
    "duration": 29,
    "start_time": "2024-09-05T08:50:25.728Z"
   },
   {
    "duration": 16,
    "start_time": "2024-09-05T08:50:25.758Z"
   },
   {
    "duration": 21,
    "start_time": "2024-09-05T08:50:25.776Z"
   },
   {
    "duration": 4,
    "start_time": "2024-09-05T08:50:25.799Z"
   },
   {
    "duration": 37,
    "start_time": "2024-09-05T08:50:25.804Z"
   },
   {
    "duration": 4,
    "start_time": "2024-09-05T08:50:25.843Z"
   },
   {
    "duration": 204,
    "start_time": "2024-09-05T08:50:25.848Z"
   },
   {
    "duration": 5,
    "start_time": "2024-09-05T08:50:26.054Z"
   },
   {
    "duration": 185,
    "start_time": "2024-09-05T08:50:26.060Z"
   },
   {
    "duration": 5,
    "start_time": "2024-09-05T08:50:26.246Z"
   },
   {
    "duration": 5,
    "start_time": "2024-09-05T08:50:28.396Z"
   },
   {
    "duration": 171,
    "start_time": "2024-09-05T08:50:28.509Z"
   },
   {
    "duration": 44,
    "start_time": "2024-09-05T08:50:28.682Z"
   },
   {
    "duration": 5,
    "start_time": "2024-09-05T08:50:28.732Z"
   },
   {
    "duration": 4,
    "start_time": "2024-09-05T08:50:28.768Z"
   },
   {
    "duration": 5,
    "start_time": "2024-09-05T08:50:28.914Z"
   },
   {
    "duration": 4,
    "start_time": "2024-09-05T08:50:28.947Z"
   },
   {
    "duration": 12,
    "start_time": "2024-09-05T08:50:29.063Z"
   },
   {
    "duration": 4,
    "start_time": "2024-09-05T08:50:29.097Z"
   },
   {
    "duration": 1552,
    "start_time": "2024-09-05T08:50:29.378Z"
   },
   {
    "duration": 1600,
    "start_time": "2024-09-05T08:51:01.959Z"
   },
   {
    "duration": 1774,
    "start_time": "2024-09-05T08:51:18.989Z"
   },
   {
    "duration": 3248,
    "start_time": "2024-09-05T08:51:44.649Z"
   },
   {
    "duration": 1753,
    "start_time": "2024-09-05T08:51:52.281Z"
   },
   {
    "duration": 2360,
    "start_time": "2024-09-05T11:47:28.397Z"
   },
   {
    "duration": 1529,
    "start_time": "2024-09-05T11:47:41.742Z"
   },
   {
    "duration": 12,
    "start_time": "2024-09-05T13:54:22.057Z"
   },
   {
    "duration": 1603,
    "start_time": "2024-09-05T13:55:38.874Z"
   },
   {
    "duration": 3,
    "start_time": "2024-09-05T14:08:18.451Z"
   },
   {
    "duration": 76,
    "start_time": "2024-09-05T14:08:19.440Z"
   },
   {
    "duration": 8,
    "start_time": "2024-09-05T14:08:19.518Z"
   },
   {
    "duration": 11,
    "start_time": "2024-09-05T14:08:19.563Z"
   },
   {
    "duration": 6,
    "start_time": "2024-09-05T14:08:19.596Z"
   },
   {
    "duration": 8,
    "start_time": "2024-09-05T14:08:19.686Z"
   },
   {
    "duration": 12,
    "start_time": "2024-09-05T14:08:19.718Z"
   },
   {
    "duration": 4,
    "start_time": "2024-09-05T14:08:19.763Z"
   },
   {
    "duration": 7,
    "start_time": "2024-09-05T14:08:19.798Z"
   },
   {
    "duration": 8,
    "start_time": "2024-09-05T14:08:19.890Z"
   },
   {
    "duration": 56,
    "start_time": "2024-09-05T14:08:19.938Z"
   },
   {
    "duration": 7,
    "start_time": "2024-09-05T14:08:19.996Z"
   },
   {
    "duration": 8,
    "start_time": "2024-09-05T14:08:20.118Z"
   },
   {
    "duration": 6,
    "start_time": "2024-09-05T14:08:20.211Z"
   },
   {
    "duration": 5,
    "start_time": "2024-09-05T14:08:20.293Z"
   },
   {
    "duration": 5,
    "start_time": "2024-09-05T14:08:20.327Z"
   },
   {
    "duration": 7,
    "start_time": "2024-09-05T14:08:20.417Z"
   },
   {
    "duration": 12,
    "start_time": "2024-09-05T14:08:20.448Z"
   },
   {
    "duration": 6,
    "start_time": "2024-09-05T14:08:20.502Z"
   },
   {
    "duration": 8,
    "start_time": "2024-09-05T14:08:20.530Z"
   },
   {
    "duration": 6,
    "start_time": "2024-09-05T14:08:20.558Z"
   },
   {
    "duration": 172,
    "start_time": "2024-09-05T14:08:20.711Z"
   },
   {
    "duration": 11,
    "start_time": "2024-09-05T14:08:20.885Z"
   },
   {
    "duration": 293,
    "start_time": "2024-09-05T14:08:20.897Z"
   },
   {
    "duration": 16,
    "start_time": "2024-09-05T14:08:21.192Z"
   },
   {
    "duration": 231,
    "start_time": "2024-09-05T14:08:21.209Z"
   },
   {
    "duration": 8,
    "start_time": "2024-09-05T14:08:21.441Z"
   },
   {
    "duration": 200,
    "start_time": "2024-09-05T14:08:21.451Z"
   },
   {
    "duration": 8,
    "start_time": "2024-09-05T14:08:21.653Z"
   },
   {
    "duration": 301,
    "start_time": "2024-09-05T14:08:21.663Z"
   },
   {
    "duration": 9,
    "start_time": "2024-09-05T14:08:21.965Z"
   },
   {
    "duration": 225,
    "start_time": "2024-09-05T14:08:21.976Z"
   },
   {
    "duration": 24,
    "start_time": "2024-09-05T14:08:22.202Z"
   },
   {
    "duration": 20,
    "start_time": "2024-09-05T14:08:22.228Z"
   },
   {
    "duration": 5,
    "start_time": "2024-09-05T14:08:22.250Z"
   },
   {
    "duration": 28,
    "start_time": "2024-09-05T14:08:22.256Z"
   },
   {
    "duration": 17,
    "start_time": "2024-09-05T14:08:22.286Z"
   },
   {
    "duration": 19,
    "start_time": "2024-09-05T14:08:22.326Z"
   },
   {
    "duration": 5,
    "start_time": "2024-09-05T14:08:22.347Z"
   },
   {
    "duration": 19,
    "start_time": "2024-09-05T14:08:22.354Z"
   },
   {
    "duration": 4,
    "start_time": "2024-09-05T14:08:22.374Z"
   },
   {
    "duration": 224,
    "start_time": "2024-09-05T14:08:22.380Z"
   },
   {
    "duration": 5,
    "start_time": "2024-09-05T14:08:22.606Z"
   },
   {
    "duration": 192,
    "start_time": "2024-09-05T14:08:22.627Z"
   },
   {
    "duration": 8,
    "start_time": "2024-09-05T14:08:22.820Z"
   },
   {
    "duration": 15,
    "start_time": "2024-09-05T14:08:22.830Z"
   },
   {
    "duration": 185,
    "start_time": "2024-09-05T14:08:22.846Z"
   },
   {
    "duration": 38,
    "start_time": "2024-09-05T14:08:23.033Z"
   },
   {
    "duration": 5,
    "start_time": "2024-09-05T14:08:23.074Z"
   },
   {
    "duration": 18,
    "start_time": "2024-09-05T14:08:23.081Z"
   },
   {
    "duration": 5,
    "start_time": "2024-09-05T14:08:23.100Z"
   },
   {
    "duration": 4,
    "start_time": "2024-09-05T14:08:23.125Z"
   },
   {
    "duration": 20,
    "start_time": "2024-09-05T14:08:23.131Z"
   },
   {
    "duration": 3,
    "start_time": "2024-09-05T14:08:23.153Z"
   },
   {
    "duration": 1628,
    "start_time": "2024-09-05T14:08:23.381Z"
   },
   {
    "duration": 51,
    "start_time": "2024-09-05T14:08:25.011Z"
   },
   {
    "duration": 1671,
    "start_time": "2024-09-05T14:08:50.530Z"
   },
   {
    "duration": 7,
    "start_time": "2024-09-05T14:17:18.864Z"
   },
   {
    "duration": 2411,
    "start_time": "2024-09-05T14:17:56.800Z"
   },
   {
    "duration": 14,
    "start_time": "2024-09-05T14:17:59.212Z"
   },
   {
    "duration": 1911,
    "start_time": "2024-09-05T14:18:14.881Z"
   },
   {
    "duration": 5,
    "start_time": "2024-09-05T14:18:19.249Z"
   },
   {
    "duration": 1722,
    "start_time": "2024-09-05T14:19:15.923Z"
   },
   {
    "duration": 5,
    "start_time": "2024-09-05T14:19:19.106Z"
   },
   {
    "duration": 42,
    "start_time": "2024-09-05T14:48:14.435Z"
   },
   {
    "duration": 51,
    "start_time": "2024-09-05T14:48:47.364Z"
   },
   {
    "duration": 49,
    "start_time": "2024-09-05T14:49:00.757Z"
   },
   {
    "duration": 44,
    "start_time": "2024-09-05T14:49:10.532Z"
   },
   {
    "duration": 47,
    "start_time": "2024-09-05T14:49:24.965Z"
   },
   {
    "duration": 48,
    "start_time": "2024-09-05T14:49:48.069Z"
   },
   {
    "duration": 48,
    "start_time": "2024-09-05T14:50:19.414Z"
   },
   {
    "duration": 45,
    "start_time": "2024-09-05T14:50:28.630Z"
   },
   {
    "duration": 1602,
    "start_time": "2024-09-05T14:51:07.927Z"
   },
   {
    "duration": 6,
    "start_time": "2024-09-05T14:51:09.531Z"
   },
   {
    "duration": 61,
    "start_time": "2024-09-05T14:51:09.539Z"
   },
   {
    "duration": 5,
    "start_time": "2024-09-05T14:51:11.112Z"
   },
   {
    "duration": 3,
    "start_time": "2024-09-05T16:02:03.600Z"
   },
   {
    "duration": 73,
    "start_time": "2024-09-05T16:02:04.002Z"
   },
   {
    "duration": 9,
    "start_time": "2024-09-05T16:02:04.359Z"
   },
   {
    "duration": 11,
    "start_time": "2024-09-05T16:02:04.531Z"
   },
   {
    "duration": 4,
    "start_time": "2024-09-05T16:02:04.708Z"
   },
   {
    "duration": 8,
    "start_time": "2024-09-05T16:02:05.242Z"
   },
   {
    "duration": 11,
    "start_time": "2024-09-05T16:02:05.429Z"
   },
   {
    "duration": 4,
    "start_time": "2024-09-05T16:02:05.622Z"
   },
   {
    "duration": 7,
    "start_time": "2024-09-05T16:02:05.802Z"
   },
   {
    "duration": 7,
    "start_time": "2024-09-05T16:02:08.352Z"
   },
   {
    "duration": 11,
    "start_time": "2024-09-05T16:02:08.579Z"
   },
   {
    "duration": 4,
    "start_time": "2024-09-05T16:02:08.772Z"
   },
   {
    "duration": 8,
    "start_time": "2024-09-05T16:02:09.484Z"
   },
   {
    "duration": 5,
    "start_time": "2024-09-05T16:02:10.594Z"
   },
   {
    "duration": 6,
    "start_time": "2024-09-05T16:02:11.114Z"
   },
   {
    "duration": 5,
    "start_time": "2024-09-05T16:02:11.315Z"
   },
   {
    "duration": 6,
    "start_time": "2024-09-05T16:02:11.664Z"
   },
   {
    "duration": 9,
    "start_time": "2024-09-05T16:02:11.826Z"
   },
   {
    "duration": 7,
    "start_time": "2024-09-05T16:02:12.254Z"
   },
   {
    "duration": 7,
    "start_time": "2024-09-05T16:02:12.432Z"
   },
   {
    "duration": 6,
    "start_time": "2024-09-05T16:02:12.634Z"
   },
   {
    "duration": 176,
    "start_time": "2024-09-05T16:02:13.602Z"
   },
   {
    "duration": 12,
    "start_time": "2024-09-05T16:02:13.782Z"
   },
   {
    "duration": 280,
    "start_time": "2024-09-05T16:02:14.526Z"
   },
   {
    "duration": 25,
    "start_time": "2024-09-05T16:02:14.808Z"
   },
   {
    "duration": 211,
    "start_time": "2024-09-05T16:02:14.899Z"
   },
   {
    "duration": 8,
    "start_time": "2024-09-05T16:02:15.651Z"
   },
   {
    "duration": 185,
    "start_time": "2024-09-05T16:02:15.837Z"
   },
   {
    "duration": 9,
    "start_time": "2024-09-05T16:02:16.580Z"
   },
   {
    "duration": 279,
    "start_time": "2024-09-05T16:02:16.782Z"
   },
   {
    "duration": 9,
    "start_time": "2024-09-05T16:02:17.546Z"
   },
   {
    "duration": 214,
    "start_time": "2024-09-05T16:02:17.752Z"
   },
   {
    "duration": 17,
    "start_time": "2024-09-05T16:02:18.131Z"
   },
   {
    "duration": 6,
    "start_time": "2024-09-05T16:02:18.340Z"
   },
   {
    "duration": 4,
    "start_time": "2024-09-05T16:02:19.084Z"
   },
   {
    "duration": 27,
    "start_time": "2024-09-05T16:02:19.271Z"
   },
   {
    "duration": 15,
    "start_time": "2024-09-05T16:02:19.465Z"
   },
   {
    "duration": 20,
    "start_time": "2024-09-05T16:02:20.046Z"
   },
   {
    "duration": 4,
    "start_time": "2024-09-05T16:02:20.240Z"
   },
   {
    "duration": 18,
    "start_time": "2024-09-05T16:02:20.799Z"
   },
   {
    "duration": 3,
    "start_time": "2024-09-05T16:02:20.993Z"
   },
   {
    "duration": 191,
    "start_time": "2024-09-05T16:02:21.792Z"
   },
   {
    "duration": 5,
    "start_time": "2024-09-05T16:02:21.985Z"
   },
   {
    "duration": 178,
    "start_time": "2024-09-05T16:02:22.569Z"
   },
   {
    "duration": 5,
    "start_time": "2024-09-05T16:02:22.748Z"
   },
   {
    "duration": 7,
    "start_time": "2024-09-05T16:02:23.533Z"
   },
   {
    "duration": 193,
    "start_time": "2024-09-05T16:02:24.102Z"
   },
   {
    "duration": 52,
    "start_time": "2024-09-05T16:02:24.297Z"
   },
   {
    "duration": 5,
    "start_time": "2024-09-05T16:02:25.571Z"
   },
   {
    "duration": 4,
    "start_time": "2024-09-05T16:02:25.785Z"
   },
   {
    "duration": 5,
    "start_time": "2024-09-05T16:02:26.561Z"
   },
   {
    "duration": 4,
    "start_time": "2024-09-05T16:02:26.732Z"
   },
   {
    "duration": 12,
    "start_time": "2024-09-05T16:02:27.508Z"
   },
   {
    "duration": 5,
    "start_time": "2024-09-05T16:02:27.700Z"
   },
   {
    "duration": 1631,
    "start_time": "2024-09-05T16:02:36.277Z"
   },
   {
    "duration": 1654,
    "start_time": "2024-09-05T16:02:53.481Z"
   },
   {
    "duration": 5,
    "start_time": "2024-09-05T16:02:55.209Z"
   },
   {
    "duration": 4,
    "start_time": "2024-09-05T16:04:30.491Z"
   },
   {
    "duration": 5,
    "start_time": "2024-09-05T16:05:28.652Z"
   },
   {
    "duration": 5,
    "start_time": "2024-09-05T16:05:45.390Z"
   },
   {
    "duration": 6,
    "start_time": "2024-09-05T16:06:19.453Z"
   },
   {
    "duration": 6,
    "start_time": "2024-09-05T16:06:29.711Z"
   },
   {
    "duration": 95,
    "start_time": "2024-09-05T16:11:01.775Z"
   },
   {
    "duration": 90,
    "start_time": "2024-09-05T16:11:13.071Z"
   },
   {
    "duration": 89,
    "start_time": "2024-09-05T16:11:16.910Z"
   },
   {
    "duration": 87,
    "start_time": "2024-09-05T16:12:00.481Z"
   },
   {
    "duration": 33,
    "start_time": "2024-09-05T16:17:45.633Z"
   },
   {
    "duration": 25,
    "start_time": "2024-09-05T16:17:52.624Z"
   },
   {
    "duration": 30,
    "start_time": "2024-09-05T16:17:58.769Z"
   },
   {
    "duration": 5,
    "start_time": "2024-09-05T16:18:23.618Z"
   },
   {
    "duration": 5,
    "start_time": "2024-09-05T16:18:27.666Z"
   },
   {
    "duration": 27,
    "start_time": "2024-09-05T16:19:57.477Z"
   },
   {
    "duration": 5,
    "start_time": "2024-09-05T16:20:00.773Z"
   },
   {
    "duration": 4,
    "start_time": "2024-09-05T16:20:03.974Z"
   },
   {
    "duration": 1666,
    "start_time": "2024-09-05T16:38:43.755Z"
   },
   {
    "duration": 29,
    "start_time": "2024-09-05T17:12:15.152Z"
   },
   {
    "duration": 5,
    "start_time": "2024-09-05T17:12:15.792Z"
   },
   {
    "duration": 6,
    "start_time": "2024-09-05T17:13:41.061Z"
   },
   {
    "duration": 364,
    "start_time": "2024-09-05T17:14:40.196Z"
   },
   {
    "duration": 29,
    "start_time": "2024-09-05T17:14:54.915Z"
   },
   {
    "duration": 4,
    "start_time": "2024-09-05T17:20:42.375Z"
   },
   {
    "duration": 5,
    "start_time": "2024-09-05T17:21:19.113Z"
   },
   {
    "duration": 5,
    "start_time": "2024-09-05T17:21:28.763Z"
   },
   {
    "duration": 5,
    "start_time": "2024-09-05T17:21:45.698Z"
   },
   {
    "duration": 41,
    "start_time": "2024-09-05T18:39:47.420Z"
   },
   {
    "duration": 27,
    "start_time": "2024-09-05T18:39:57.359Z"
   },
   {
    "duration": 1703,
    "start_time": "2024-09-05T19:06:40.202Z"
   },
   {
    "duration": 1859,
    "start_time": "2024-09-05T19:10:41.829Z"
   },
   {
    "duration": 1765,
    "start_time": "2024-09-05T19:13:22.474Z"
   },
   {
    "duration": 1766,
    "start_time": "2024-09-05T19:20:06.986Z"
   },
   {
    "duration": 5,
    "start_time": "2024-09-05T19:21:46.191Z"
   },
   {
    "duration": 7,
    "start_time": "2024-09-05T19:22:15.085Z"
   },
   {
    "duration": 25,
    "start_time": "2024-09-05T19:24:24.995Z"
   },
   {
    "duration": 5,
    "start_time": "2024-09-05T19:54:50.503Z"
   },
   {
    "duration": 6,
    "start_time": "2024-09-05T19:54:58.617Z"
   },
   {
    "duration": 5,
    "start_time": "2024-09-05T21:16:10.060Z"
   },
   {
    "duration": 13,
    "start_time": "2024-09-05T21:16:11.330Z"
   },
   {
    "duration": 47,
    "start_time": "2024-09-05T21:16:11.751Z"
   },
   {
    "duration": 1153,
    "start_time": "2024-09-06T00:39:46.762Z"
   },
   {
    "duration": 68,
    "start_time": "2024-09-06T00:39:47.916Z"
   },
   {
    "duration": 12,
    "start_time": "2024-09-06T00:39:47.985Z"
   },
   {
    "duration": 40,
    "start_time": "2024-09-06T00:39:47.999Z"
   },
   {
    "duration": 8,
    "start_time": "2024-09-06T00:39:48.041Z"
   },
   {
    "duration": 9,
    "start_time": "2024-09-06T00:39:48.050Z"
   },
   {
    "duration": 12,
    "start_time": "2024-09-06T00:39:48.060Z"
   },
   {
    "duration": 12,
    "start_time": "2024-09-06T00:39:48.073Z"
   },
   {
    "duration": 7,
    "start_time": "2024-09-06T00:39:48.087Z"
   },
   {
    "duration": 19,
    "start_time": "2024-09-06T00:39:48.097Z"
   },
   {
    "duration": 18,
    "start_time": "2024-09-06T00:39:48.118Z"
   },
   {
    "duration": 8,
    "start_time": "2024-09-06T00:39:48.138Z"
   },
   {
    "duration": 7,
    "start_time": "2024-09-06T00:39:48.147Z"
   },
   {
    "duration": 27,
    "start_time": "2024-09-06T00:39:48.156Z"
   },
   {
    "duration": 6,
    "start_time": "2024-09-06T00:39:48.185Z"
   },
   {
    "duration": 5,
    "start_time": "2024-09-06T00:39:48.192Z"
   },
   {
    "duration": 5,
    "start_time": "2024-09-06T00:39:48.198Z"
   },
   {
    "duration": 9,
    "start_time": "2024-09-06T00:39:48.205Z"
   },
   {
    "duration": 7,
    "start_time": "2024-09-06T00:39:48.215Z"
   },
   {
    "duration": 7,
    "start_time": "2024-09-06T00:39:48.223Z"
   },
   {
    "duration": 6,
    "start_time": "2024-09-06T00:39:48.253Z"
   },
   {
    "duration": 213,
    "start_time": "2024-09-06T00:39:48.260Z"
   },
   {
    "duration": 11,
    "start_time": "2024-09-06T00:39:48.474Z"
   },
   {
    "duration": 86,
    "start_time": "2024-09-06T00:39:48.487Z"
   },
   {
    "duration": 14,
    "start_time": "2024-09-06T00:39:48.575Z"
   },
   {
    "duration": 216,
    "start_time": "2024-09-06T00:39:48.591Z"
   },
   {
    "duration": 8,
    "start_time": "2024-09-06T00:39:48.809Z"
   },
   {
    "duration": 182,
    "start_time": "2024-09-06T00:39:48.820Z"
   },
   {
    "duration": 8,
    "start_time": "2024-09-06T00:39:49.004Z"
   },
   {
    "duration": 288,
    "start_time": "2024-09-06T00:39:49.013Z"
   },
   {
    "duration": 8,
    "start_time": "2024-09-06T00:39:49.303Z"
   },
   {
    "duration": 222,
    "start_time": "2024-09-06T00:39:49.313Z"
   },
   {
    "duration": 18,
    "start_time": "2024-09-06T00:39:49.536Z"
   },
   {
    "duration": 5,
    "start_time": "2024-09-06T00:39:49.555Z"
   },
   {
    "duration": 9,
    "start_time": "2024-09-06T00:39:49.561Z"
   },
   {
    "duration": 27,
    "start_time": "2024-09-06T00:39:49.571Z"
   },
   {
    "duration": 14,
    "start_time": "2024-09-06T00:39:49.600Z"
   },
   {
    "duration": 39,
    "start_time": "2024-09-06T00:39:49.615Z"
   },
   {
    "duration": 3,
    "start_time": "2024-09-06T00:39:49.655Z"
   },
   {
    "duration": 17,
    "start_time": "2024-09-06T00:39:49.659Z"
   },
   {
    "duration": 3,
    "start_time": "2024-09-06T00:39:49.677Z"
   },
   {
    "duration": 195,
    "start_time": "2024-09-06T00:39:49.682Z"
   },
   {
    "duration": 6,
    "start_time": "2024-09-06T00:39:49.878Z"
   },
   {
    "duration": 193,
    "start_time": "2024-09-06T00:39:49.885Z"
   },
   {
    "duration": 6,
    "start_time": "2024-09-06T00:39:50.080Z"
   },
   {
    "duration": 5,
    "start_time": "2024-09-06T00:39:50.088Z"
   },
   {
    "duration": 180,
    "start_time": "2024-09-06T00:39:50.095Z"
   },
   {
    "duration": 123,
    "start_time": "2024-09-06T00:39:50.277Z"
   },
   {
    "duration": 5,
    "start_time": "2024-09-06T00:39:50.402Z"
   },
   {
    "duration": 10,
    "start_time": "2024-09-06T00:39:50.408Z"
   },
   {
    "duration": 11,
    "start_time": "2024-09-06T00:39:50.419Z"
   },
   {
    "duration": 5,
    "start_time": "2024-09-06T00:39:50.431Z"
   },
   {
    "duration": 24,
    "start_time": "2024-09-06T00:39:50.438Z"
   },
   {
    "duration": 5,
    "start_time": "2024-09-06T00:39:50.463Z"
   },
   {
    "duration": 1584,
    "start_time": "2024-09-06T00:39:50.469Z"
   },
   {
    "duration": 26,
    "start_time": "2024-09-06T00:39:52.054Z"
   },
   {
    "duration": 6,
    "start_time": "2024-09-06T00:39:52.081Z"
   },
   {
    "duration": 83,
    "start_time": "2024-09-06T00:39:52.089Z"
   },
   {
    "duration": 7,
    "start_time": "2024-09-06T00:46:55.079Z"
   },
   {
    "duration": 1070,
    "start_time": "2024-09-06T00:50:22.147Z"
   },
   {
    "duration": 68,
    "start_time": "2024-09-06T00:50:23.219Z"
   },
   {
    "duration": 13,
    "start_time": "2024-09-06T00:50:23.288Z"
   },
   {
    "duration": 10,
    "start_time": "2024-09-06T00:50:23.303Z"
   },
   {
    "duration": 6,
    "start_time": "2024-09-06T00:50:23.315Z"
   },
   {
    "duration": 13,
    "start_time": "2024-09-06T00:50:23.322Z"
   },
   {
    "duration": 10,
    "start_time": "2024-09-06T00:50:23.336Z"
   },
   {
    "duration": 3,
    "start_time": "2024-09-06T00:50:23.353Z"
   },
   {
    "duration": 10,
    "start_time": "2024-09-06T00:50:23.357Z"
   },
   {
    "duration": 6,
    "start_time": "2024-09-06T00:50:23.369Z"
   },
   {
    "duration": 10,
    "start_time": "2024-09-06T00:50:23.376Z"
   },
   {
    "duration": 3,
    "start_time": "2024-09-06T00:50:23.388Z"
   },
   {
    "duration": 9,
    "start_time": "2024-09-06T00:50:23.392Z"
   },
   {
    "duration": 4,
    "start_time": "2024-09-06T00:50:23.403Z"
   },
   {
    "duration": 5,
    "start_time": "2024-09-06T00:50:23.409Z"
   },
   {
    "duration": 102,
    "start_time": "2024-09-06T00:50:23.415Z"
   },
   {
    "duration": 5,
    "start_time": "2024-09-06T00:50:23.519Z"
   },
   {
    "duration": 9,
    "start_time": "2024-09-06T00:50:23.526Z"
   },
   {
    "duration": 7,
    "start_time": "2024-09-06T00:50:23.536Z"
   },
   {
    "duration": 7,
    "start_time": "2024-09-06T00:50:23.544Z"
   },
   {
    "duration": 5,
    "start_time": "2024-09-06T00:50:23.553Z"
   },
   {
    "duration": 188,
    "start_time": "2024-09-06T00:50:23.560Z"
   },
   {
    "duration": 11,
    "start_time": "2024-09-06T00:50:23.753Z"
   },
   {
    "duration": 97,
    "start_time": "2024-09-06T00:50:23.766Z"
   },
   {
    "duration": 16,
    "start_time": "2024-09-06T00:50:23.865Z"
   },
   {
    "duration": 229,
    "start_time": "2024-09-06T00:50:23.882Z"
   },
   {
    "duration": 8,
    "start_time": "2024-09-06T00:50:24.113Z"
   },
   {
    "duration": 208,
    "start_time": "2024-09-06T00:50:24.124Z"
   },
   {
    "duration": 8,
    "start_time": "2024-09-06T00:50:24.334Z"
   },
   {
    "duration": 290,
    "start_time": "2024-09-06T00:50:24.343Z"
   },
   {
    "duration": 9,
    "start_time": "2024-09-06T00:50:24.634Z"
   },
   {
    "duration": 200,
    "start_time": "2024-09-06T00:50:24.653Z"
   },
   {
    "duration": 16,
    "start_time": "2024-09-06T00:50:24.854Z"
   },
   {
    "duration": 5,
    "start_time": "2024-09-06T00:50:24.872Z"
   },
   {
    "duration": 4,
    "start_time": "2024-09-06T00:50:24.879Z"
   },
   {
    "duration": 27,
    "start_time": "2024-09-06T00:50:24.885Z"
   },
   {
    "duration": 42,
    "start_time": "2024-09-06T00:50:24.913Z"
   },
   {
    "duration": 18,
    "start_time": "2024-09-06T00:50:24.957Z"
   },
   {
    "duration": 3,
    "start_time": "2024-09-06T00:50:24.977Z"
   },
   {
    "duration": 17,
    "start_time": "2024-09-06T00:50:24.982Z"
   },
   {
    "duration": 4,
    "start_time": "2024-09-06T00:50:25.000Z"
   },
   {
    "duration": 217,
    "start_time": "2024-09-06T00:50:25.005Z"
   },
   {
    "duration": 5,
    "start_time": "2024-09-06T00:50:25.224Z"
   },
   {
    "duration": 180,
    "start_time": "2024-09-06T00:50:25.231Z"
   },
   {
    "duration": 6,
    "start_time": "2024-09-06T00:50:25.413Z"
   },
   {
    "duration": 6,
    "start_time": "2024-09-06T00:50:25.420Z"
   },
   {
    "duration": 184,
    "start_time": "2024-09-06T00:50:25.427Z"
   },
   {
    "duration": 118,
    "start_time": "2024-09-06T00:50:25.613Z"
   },
   {
    "duration": 5,
    "start_time": "2024-09-06T00:50:25.733Z"
   },
   {
    "duration": 18,
    "start_time": "2024-09-06T00:50:25.739Z"
   },
   {
    "duration": 14,
    "start_time": "2024-09-06T00:50:25.759Z"
   },
   {
    "duration": 15,
    "start_time": "2024-09-06T00:50:25.775Z"
   },
   {
    "duration": 13,
    "start_time": "2024-09-06T00:50:25.792Z"
   },
   {
    "duration": 4,
    "start_time": "2024-09-06T00:50:25.806Z"
   },
   {
    "duration": 1654,
    "start_time": "2024-09-06T00:50:25.812Z"
   },
   {
    "duration": 25,
    "start_time": "2024-09-06T00:50:27.467Z"
   },
   {
    "duration": 6,
    "start_time": "2024-09-06T00:50:27.493Z"
   },
   {
    "duration": 67,
    "start_time": "2024-09-06T06:49:17.650Z"
   },
   {
    "duration": 55,
    "start_time": "2024-09-06T06:49:30.879Z"
   },
   {
    "duration": 7,
    "start_time": "2024-09-06T06:49:36.992Z"
   },
   {
    "duration": 1385,
    "start_time": "2024-09-06T06:49:47.019Z"
   },
   {
    "duration": 409,
    "start_time": "2024-09-06T06:49:49.167Z"
   },
   {
    "duration": 14,
    "start_time": "2024-09-06T06:49:50.153Z"
   },
   {
    "duration": 12,
    "start_time": "2024-09-06T06:49:50.881Z"
   },
   {
    "duration": 4,
    "start_time": "2024-09-06T06:49:51.495Z"
   },
   {
    "duration": 9,
    "start_time": "2024-09-06T06:49:56.751Z"
   },
   {
    "duration": 14,
    "start_time": "2024-09-06T06:49:57.853Z"
   },
   {
    "duration": 4,
    "start_time": "2024-09-06T06:49:58.699Z"
   },
   {
    "duration": 6,
    "start_time": "2024-09-06T06:49:59.894Z"
   },
   {
    "duration": 52,
    "start_time": "2024-09-06T06:50:14.912Z"
   },
   {
    "duration": 57,
    "start_time": "2024-09-06T07:15:08.620Z"
   },
   {
    "duration": 46,
    "start_time": "2024-09-06T07:28:48.338Z"
   },
   {
    "duration": 4,
    "start_time": "2024-09-06T07:35:52.033Z"
   },
   {
    "duration": 88,
    "start_time": "2024-09-06T07:35:53.748Z"
   },
   {
    "duration": 12,
    "start_time": "2024-09-06T07:35:54.940Z"
   },
   {
    "duration": 17,
    "start_time": "2024-09-06T07:35:55.638Z"
   },
   {
    "duration": 5,
    "start_time": "2024-09-06T07:35:56.096Z"
   },
   {
    "duration": 8,
    "start_time": "2024-09-06T07:35:59.224Z"
   },
   {
    "duration": 13,
    "start_time": "2024-09-06T07:35:59.895Z"
   },
   {
    "duration": 4,
    "start_time": "2024-09-06T07:36:00.469Z"
   },
   {
    "duration": 7,
    "start_time": "2024-09-06T07:36:03.321Z"
   },
   {
    "duration": 6,
    "start_time": "2024-09-06T07:36:10.961Z"
   },
   {
    "duration": 10,
    "start_time": "2024-09-06T07:36:11.797Z"
   },
   {
    "duration": 4,
    "start_time": "2024-09-06T07:36:12.301Z"
   },
   {
    "duration": 12,
    "start_time": "2024-09-06T07:36:20.038Z"
   },
   {
    "duration": 7,
    "start_time": "2024-09-06T07:36:22.210Z"
   },
   {
    "duration": 9,
    "start_time": "2024-09-06T07:38:05.069Z"
   },
   {
    "duration": 8,
    "start_time": "2024-09-06T07:38:23.214Z"
   },
   {
    "duration": 69,
    "start_time": "2024-09-06T07:38:45.726Z"
   },
   {
    "duration": 154,
    "start_time": "2024-09-06T07:38:53.438Z"
   },
   {
    "duration": 12,
    "start_time": "2024-09-06T07:39:32.224Z"
   },
   {
    "duration": 142,
    "start_time": "2024-09-06T07:39:46.832Z"
   },
   {
    "duration": 147,
    "start_time": "2024-09-06T07:40:27.873Z"
   },
   {
    "duration": 159,
    "start_time": "2024-09-06T07:40:47.874Z"
   },
   {
    "duration": 5,
    "start_time": "2024-09-06T07:51:03.760Z"
   },
   {
    "duration": 5,
    "start_time": "2024-09-06T07:51:22.944Z"
   },
   {
    "duration": 27,
    "start_time": "2024-09-06T07:51:24.128Z"
   },
   {
    "duration": 16,
    "start_time": "2024-09-06T07:51:25.859Z"
   },
   {
    "duration": 19,
    "start_time": "2024-09-06T07:51:29.121Z"
   },
   {
    "duration": 5,
    "start_time": "2024-09-06T07:51:29.584Z"
   },
   {
    "duration": 21,
    "start_time": "2024-09-06T07:51:31.808Z"
   },
   {
    "duration": 4,
    "start_time": "2024-09-06T07:51:32.385Z"
   },
   {
    "duration": 185,
    "start_time": "2024-09-06T07:51:36.753Z"
   },
   {
    "duration": 6,
    "start_time": "2024-09-06T07:51:48.274Z"
   },
   {
    "duration": 192,
    "start_time": "2024-09-06T07:51:49.649Z"
   },
   {
    "duration": 6,
    "start_time": "2024-09-06T07:51:50.514Z"
   },
   {
    "duration": 196,
    "start_time": "2024-09-06T07:52:38.196Z"
   },
   {
    "duration": 257,
    "start_time": "2024-09-06T07:52:52.643Z"
   },
   {
    "duration": 210,
    "start_time": "2024-09-06T07:53:28.583Z"
   },
   {
    "duration": 244,
    "start_time": "2024-09-06T07:53:29.748Z"
   },
   {
    "duration": 212,
    "start_time": "2024-09-06T07:54:12.150Z"
   },
   {
    "duration": 237,
    "start_time": "2024-09-06T07:54:37.643Z"
   },
   {
    "duration": 209,
    "start_time": "2024-09-06T07:54:49.927Z"
   },
   {
    "duration": 217,
    "start_time": "2024-09-06T07:55:01.047Z"
   },
   {
    "duration": 210,
    "start_time": "2024-09-06T07:55:09.063Z"
   },
   {
    "duration": 205,
    "start_time": "2024-09-06T07:55:16.471Z"
   },
   {
    "duration": 209,
    "start_time": "2024-09-06T07:55:39.400Z"
   },
   {
    "duration": 320,
    "start_time": "2024-09-06T07:59:12.733Z"
   },
   {
    "duration": 396,
    "start_time": "2024-09-06T07:59:26.318Z"
   },
   {
    "duration": 189,
    "start_time": "2024-09-06T07:59:36.188Z"
   },
   {
    "duration": 6,
    "start_time": "2024-09-06T07:59:36.878Z"
   },
   {
    "duration": 293,
    "start_time": "2024-09-06T07:59:38.461Z"
   },
   {
    "duration": 5,
    "start_time": "2024-09-06T07:59:39.725Z"
   },
   {
    "duration": 282,
    "start_time": "2024-09-06T07:59:58.334Z"
   },
   {
    "duration": 273,
    "start_time": "2024-09-06T08:00:54.320Z"
   },
   {
    "duration": 6,
    "start_time": "2024-09-06T08:01:39.520Z"
   },
   {
    "duration": 293,
    "start_time": "2024-09-06T08:01:42.177Z"
   },
   {
    "duration": 5,
    "start_time": "2024-09-06T08:01:43.057Z"
   },
   {
    "duration": 388,
    "start_time": "2024-09-06T08:05:15.927Z"
   },
   {
    "duration": 289,
    "start_time": "2024-09-06T08:05:27.927Z"
   },
   {
    "duration": 294,
    "start_time": "2024-09-06T08:05:35.031Z"
   },
   {
    "duration": 286,
    "start_time": "2024-09-06T08:05:40.520Z"
   },
   {
    "duration": 7,
    "start_time": "2024-09-06T08:12:13.904Z"
   },
   {
    "duration": 6,
    "start_time": "2024-09-06T08:12:14.397Z"
   },
   {
    "duration": 6,
    "start_time": "2024-09-06T08:12:14.492Z"
   },
   {
    "duration": 9,
    "start_time": "2024-09-06T08:12:14.543Z"
   },
   {
    "duration": 6,
    "start_time": "2024-09-06T08:12:14.609Z"
   },
   {
    "duration": 7,
    "start_time": "2024-09-06T08:12:14.645Z"
   },
   {
    "duration": 5,
    "start_time": "2024-09-06T08:12:14.696Z"
   },
   {
    "duration": 171,
    "start_time": "2024-09-06T08:12:14.882Z"
   },
   {
    "duration": 164,
    "start_time": "2024-09-06T08:12:15.055Z"
   },
   {
    "duration": 11,
    "start_time": "2024-09-06T08:12:15.221Z"
   },
   {
    "duration": 101,
    "start_time": "2024-09-06T08:12:15.234Z"
   },
   {
    "duration": 17,
    "start_time": "2024-09-06T08:12:15.337Z"
   },
   {
    "duration": 226,
    "start_time": "2024-09-06T08:12:15.355Z"
   },
   {
    "duration": 8,
    "start_time": "2024-09-06T08:12:16.480Z"
   },
   {
    "duration": 264,
    "start_time": "2024-09-06T08:12:16.929Z"
   },
   {
    "duration": 9,
    "start_time": "2024-09-06T08:12:17.839Z"
   },
   {
    "duration": 282,
    "start_time": "2024-09-06T08:12:18.064Z"
   },
   {
    "duration": 10,
    "start_time": "2024-09-06T08:12:19.056Z"
   },
   {
    "duration": 205,
    "start_time": "2024-09-06T08:12:19.265Z"
   },
   {
    "duration": 17,
    "start_time": "2024-09-06T08:12:19.697Z"
   },
   {
    "duration": 4,
    "start_time": "2024-09-06T08:12:23.440Z"
   },
   {
    "duration": 25,
    "start_time": "2024-09-06T08:12:24.256Z"
   },
   {
    "duration": 16,
    "start_time": "2024-09-06T08:12:24.673Z"
   },
   {
    "duration": 19,
    "start_time": "2024-09-06T08:12:25.985Z"
   },
   {
    "duration": 4,
    "start_time": "2024-09-06T08:12:26.400Z"
   },
   {
    "duration": 25,
    "start_time": "2024-09-06T08:12:27.746Z"
   },
   {
    "duration": 4,
    "start_time": "2024-09-06T08:12:28.321Z"
   },
   {
    "duration": 277,
    "start_time": "2024-09-06T08:12:30.753Z"
   },
   {
    "duration": 6,
    "start_time": "2024-09-06T08:12:31.281Z"
   },
   {
    "duration": 293,
    "start_time": "2024-09-06T08:12:33.696Z"
   },
   {
    "duration": 5,
    "start_time": "2024-09-06T08:12:34.705Z"
   },
   {
    "duration": 5,
    "start_time": "2024-09-06T08:12:38.305Z"
   },
   {
    "duration": 188,
    "start_time": "2024-09-06T08:12:39.808Z"
   },
   {
    "duration": 38,
    "start_time": "2024-09-06T08:12:40.337Z"
   },
   {
    "duration": 6,
    "start_time": "2024-09-06T08:12:43.744Z"
   },
   {
    "duration": 5,
    "start_time": "2024-09-06T08:12:44.417Z"
   },
   {
    "duration": 5,
    "start_time": "2024-09-06T08:12:46.465Z"
   },
   {
    "duration": 4,
    "start_time": "2024-09-06T08:12:46.945Z"
   },
   {
    "duration": 12,
    "start_time": "2024-09-06T08:13:54.211Z"
   },
   {
    "duration": 4,
    "start_time": "2024-09-06T08:13:54.772Z"
   },
   {
    "duration": 1698,
    "start_time": "2024-09-06T08:21:56.372Z"
   },
   {
    "duration": 1630,
    "start_time": "2024-09-06T08:22:02.577Z"
   },
   {
    "duration": 3,
    "start_time": "2024-09-06T08:29:10.442Z"
   },
   {
    "duration": 78,
    "start_time": "2024-09-06T08:29:11.449Z"
   },
   {
    "duration": 8,
    "start_time": "2024-09-06T08:29:12.074Z"
   },
   {
    "duration": 11,
    "start_time": "2024-09-06T08:29:12.378Z"
   },
   {
    "duration": 5,
    "start_time": "2024-09-06T08:29:12.699Z"
   },
   {
    "duration": 8,
    "start_time": "2024-09-06T08:29:13.403Z"
   },
   {
    "duration": 11,
    "start_time": "2024-09-06T08:29:13.611Z"
   },
   {
    "duration": 3,
    "start_time": "2024-09-06T08:29:13.787Z"
   },
   {
    "duration": 7,
    "start_time": "2024-09-06T08:29:14.123Z"
   },
   {
    "duration": 8,
    "start_time": "2024-09-06T08:29:14.585Z"
   },
   {
    "duration": 10,
    "start_time": "2024-09-06T08:29:14.779Z"
   },
   {
    "duration": 3,
    "start_time": "2024-09-06T08:29:14.906Z"
   },
   {
    "duration": 7,
    "start_time": "2024-09-06T08:29:15.787Z"
   },
   {
    "duration": 5,
    "start_time": "2024-09-06T08:29:16.281Z"
   },
   {
    "duration": 6,
    "start_time": "2024-09-06T08:29:17.178Z"
   },
   {
    "duration": 5,
    "start_time": "2024-09-06T08:29:17.371Z"
   },
   {
    "duration": 6,
    "start_time": "2024-09-06T08:29:17.722Z"
   },
   {
    "duration": 8,
    "start_time": "2024-09-06T08:29:17.899Z"
   },
   {
    "duration": 7,
    "start_time": "2024-09-06T08:29:18.285Z"
   },
   {
    "duration": 7,
    "start_time": "2024-09-06T08:29:18.477Z"
   },
   {
    "duration": 6,
    "start_time": "2024-09-06T08:29:18.683Z"
   },
   {
    "duration": 184,
    "start_time": "2024-09-06T08:29:19.770Z"
   },
   {
    "duration": 287,
    "start_time": "2024-09-06T08:29:19.956Z"
   },
   {
    "duration": 12,
    "start_time": "2024-09-06T08:29:20.506Z"
   },
   {
    "duration": 83,
    "start_time": "2024-09-06T08:29:21.280Z"
   },
   {
    "duration": 18,
    "start_time": "2024-09-06T08:29:21.467Z"
   },
   {
    "duration": 210,
    "start_time": "2024-09-06T08:29:21.627Z"
   },
   {
    "duration": 9,
    "start_time": "2024-09-06T08:29:22.586Z"
   },
   {
    "duration": 181,
    "start_time": "2024-09-06T08:29:22.922Z"
   },
   {
    "duration": 9,
    "start_time": "2024-09-06T08:29:23.737Z"
   },
   {
    "duration": 275,
    "start_time": "2024-09-06T08:29:23.962Z"
   },
   {
    "duration": 9,
    "start_time": "2024-09-06T08:29:25.098Z"
   },
   {
    "duration": 212,
    "start_time": "2024-09-06T08:29:25.311Z"
   },
   {
    "duration": 16,
    "start_time": "2024-09-06T08:29:25.739Z"
   },
   {
    "duration": 4,
    "start_time": "2024-09-06T08:29:27.209Z"
   },
   {
    "duration": 26,
    "start_time": "2024-09-06T08:29:27.641Z"
   },
   {
    "duration": 15,
    "start_time": "2024-09-06T08:29:27.819Z"
   },
   {
    "duration": 19,
    "start_time": "2024-09-06T08:29:28.458Z"
   },
   {
    "duration": 4,
    "start_time": "2024-09-06T08:29:28.651Z"
   },
   {
    "duration": 17,
    "start_time": "2024-09-06T08:29:29.259Z"
   },
   {
    "duration": 4,
    "start_time": "2024-09-06T08:29:29.482Z"
   },
   {
    "duration": 284,
    "start_time": "2024-09-06T08:29:30.523Z"
   },
   {
    "duration": 6,
    "start_time": "2024-09-06T08:29:30.809Z"
   },
   {
    "duration": 282,
    "start_time": "2024-09-06T08:29:31.402Z"
   },
   {
    "duration": 5,
    "start_time": "2024-09-06T08:29:31.686Z"
   },
   {
    "duration": 5,
    "start_time": "2024-09-06T08:29:33.162Z"
   },
   {
    "duration": 173,
    "start_time": "2024-09-06T08:29:34.090Z"
   },
   {
    "duration": 132,
    "start_time": "2024-09-06T08:29:34.282Z"
   },
   {
    "duration": 5,
    "start_time": "2024-09-06T08:29:36.042Z"
   },
   {
    "duration": 4,
    "start_time": "2024-09-06T08:29:36.267Z"
   },
   {
    "duration": 5,
    "start_time": "2024-09-06T08:29:37.146Z"
   },
   {
    "duration": 6,
    "start_time": "2024-09-06T08:29:37.355Z"
   },
   {
    "duration": 11,
    "start_time": "2024-09-06T08:29:38.203Z"
   },
   {
    "duration": 4,
    "start_time": "2024-09-06T08:29:38.443Z"
   },
   {
    "duration": 1631,
    "start_time": "2024-09-06T08:29:41.376Z"
   },
   {
    "duration": 25,
    "start_time": "2024-09-06T08:29:43.009Z"
   },
   {
    "duration": 6,
    "start_time": "2024-09-06T08:29:43.450Z"
   },
   {
    "duration": 49,
    "start_time": "2024-09-06T08:34:02.468Z"
   },
   {
    "duration": 3,
    "start_time": "2024-09-06T08:34:51.179Z"
   },
   {
    "duration": 79,
    "start_time": "2024-09-06T08:34:51.293Z"
   },
   {
    "duration": 8,
    "start_time": "2024-09-06T08:34:51.374Z"
   },
   {
    "duration": 11,
    "start_time": "2024-09-06T08:34:51.410Z"
   },
   {
    "duration": 4,
    "start_time": "2024-09-06T08:34:51.450Z"
   },
   {
    "duration": 8,
    "start_time": "2024-09-06T08:34:51.571Z"
   },
   {
    "duration": 11,
    "start_time": "2024-09-06T08:34:51.612Z"
   },
   {
    "duration": 4,
    "start_time": "2024-09-06T08:34:51.648Z"
   },
   {
    "duration": 7,
    "start_time": "2024-09-06T08:34:51.710Z"
   },
   {
    "duration": 7,
    "start_time": "2024-09-06T08:34:51.822Z"
   },
   {
    "duration": 10,
    "start_time": "2024-09-06T08:34:51.862Z"
   },
   {
    "duration": 3,
    "start_time": "2024-09-06T08:34:51.898Z"
   },
   {
    "duration": 8,
    "start_time": "2024-09-06T08:34:52.064Z"
   },
   {
    "duration": 5,
    "start_time": "2024-09-06T08:34:52.151Z"
   },
   {
    "duration": 6,
    "start_time": "2024-09-06T08:34:52.302Z"
   },
   {
    "duration": 6,
    "start_time": "2024-09-06T08:34:52.338Z"
   },
   {
    "duration": 6,
    "start_time": "2024-09-06T08:34:52.457Z"
   },
   {
    "duration": 8,
    "start_time": "2024-09-06T08:34:52.524Z"
   },
   {
    "duration": 7,
    "start_time": "2024-09-06T08:34:52.587Z"
   },
   {
    "duration": 7,
    "start_time": "2024-09-06T08:34:52.639Z"
   },
   {
    "duration": 5,
    "start_time": "2024-09-06T08:34:52.679Z"
   },
   {
    "duration": 188,
    "start_time": "2024-09-06T08:34:52.851Z"
   },
   {
    "duration": 156,
    "start_time": "2024-09-06T08:34:53.041Z"
   },
   {
    "duration": 11,
    "start_time": "2024-09-06T08:34:53.207Z"
   },
   {
    "duration": 95,
    "start_time": "2024-09-06T08:34:53.220Z"
   },
   {
    "duration": 16,
    "start_time": "2024-09-06T08:34:53.316Z"
   },
   {
    "duration": 243,
    "start_time": "2024-09-06T08:34:53.334Z"
   },
   {
    "duration": 8,
    "start_time": "2024-09-06T08:34:53.580Z"
   },
   {
    "duration": 206,
    "start_time": "2024-09-06T08:34:53.590Z"
   },
   {
    "duration": 15,
    "start_time": "2024-09-06T08:34:53.798Z"
   },
   {
    "duration": 303,
    "start_time": "2024-09-06T08:34:53.814Z"
   },
   {
    "duration": 8,
    "start_time": "2024-09-06T08:34:54.119Z"
   },
   {
    "duration": 231,
    "start_time": "2024-09-06T08:34:54.129Z"
   },
   {
    "duration": 15,
    "start_time": "2024-09-06T08:34:54.362Z"
   },
   {
    "duration": 4,
    "start_time": "2024-09-06T08:34:54.378Z"
   },
   {
    "duration": 44,
    "start_time": "2024-09-06T08:34:54.384Z"
   },
   {
    "duration": 15,
    "start_time": "2024-09-06T08:34:54.430Z"
   },
   {
    "duration": 24,
    "start_time": "2024-09-06T08:34:54.447Z"
   },
   {
    "duration": 8,
    "start_time": "2024-09-06T08:34:54.473Z"
   },
   {
    "duration": 31,
    "start_time": "2024-09-06T08:34:54.483Z"
   },
   {
    "duration": 4,
    "start_time": "2024-09-06T08:34:54.515Z"
   },
   {
    "duration": 276,
    "start_time": "2024-09-06T08:34:54.564Z"
   },
   {
    "duration": 6,
    "start_time": "2024-09-06T08:34:54.842Z"
   },
   {
    "duration": 470,
    "start_time": "2024-09-06T08:34:54.849Z"
   },
   {
    "duration": 5,
    "start_time": "2024-09-06T08:34:55.321Z"
   },
   {
    "duration": 22,
    "start_time": "2024-09-06T08:34:55.327Z"
   },
   {
    "duration": 195,
    "start_time": "2024-09-06T08:34:55.351Z"
   },
   {
    "duration": 35,
    "start_time": "2024-09-06T08:34:56.388Z"
   },
   {
    "duration": 5,
    "start_time": "2024-09-06T08:34:57.939Z"
   },
   {
    "duration": 5,
    "start_time": "2024-09-06T08:34:58.082Z"
   },
   {
    "duration": 6,
    "start_time": "2024-09-06T08:34:58.754Z"
   },
   {
    "duration": 4,
    "start_time": "2024-09-06T08:34:58.979Z"
   },
   {
    "duration": 13,
    "start_time": "2024-09-06T08:34:59.650Z"
   },
   {
    "duration": 5,
    "start_time": "2024-09-06T08:34:59.859Z"
   },
   {
    "duration": 1635,
    "start_time": "2024-09-06T08:35:02.131Z"
   },
   {
    "duration": 49,
    "start_time": "2024-09-06T08:35:03.768Z"
   },
   {
    "duration": 7,
    "start_time": "2024-09-06T08:35:05.298Z"
   },
   {
    "duration": 1013,
    "start_time": "2024-09-06T17:34:44.038Z"
   },
   {
    "duration": 287,
    "start_time": "2024-09-06T17:34:45.052Z"
   },
   {
    "duration": 11,
    "start_time": "2024-09-06T17:34:45.340Z"
   },
   {
    "duration": 9,
    "start_time": "2024-09-06T17:34:45.352Z"
   },
   {
    "duration": 3,
    "start_time": "2024-09-06T17:34:45.362Z"
   },
   {
    "duration": 9,
    "start_time": "2024-09-06T17:34:45.366Z"
   },
   {
    "duration": 8,
    "start_time": "2024-09-06T17:34:45.376Z"
   },
   {
    "duration": 5,
    "start_time": "2024-09-06T17:34:45.385Z"
   },
   {
    "duration": 4,
    "start_time": "2024-09-06T17:34:45.392Z"
   },
   {
    "duration": 6,
    "start_time": "2024-09-06T17:34:45.398Z"
   },
   {
    "duration": 8,
    "start_time": "2024-09-06T17:34:45.405Z"
   },
   {
    "duration": 10,
    "start_time": "2024-09-06T17:34:45.414Z"
   },
   {
    "duration": 6,
    "start_time": "2024-09-06T17:34:45.450Z"
   },
   {
    "duration": 7,
    "start_time": "2024-09-06T17:34:45.457Z"
   },
   {
    "duration": 4,
    "start_time": "2024-09-06T17:34:45.465Z"
   },
   {
    "duration": 3,
    "start_time": "2024-09-06T17:34:45.470Z"
   },
   {
    "duration": 4,
    "start_time": "2024-09-06T17:34:45.474Z"
   },
   {
    "duration": 7,
    "start_time": "2024-09-06T17:34:45.479Z"
   },
   {
    "duration": 4,
    "start_time": "2024-09-06T17:34:45.487Z"
   },
   {
    "duration": 5,
    "start_time": "2024-09-06T17:34:45.492Z"
   },
   {
    "duration": 4,
    "start_time": "2024-09-06T17:34:45.498Z"
   },
   {
    "duration": 181,
    "start_time": "2024-09-06T17:34:45.503Z"
   },
   {
    "duration": 125,
    "start_time": "2024-09-06T17:34:45.685Z"
   },
   {
    "duration": 8,
    "start_time": "2024-09-06T17:34:45.811Z"
   },
   {
    "duration": 75,
    "start_time": "2024-09-06T17:34:45.820Z"
   },
   {
    "duration": 12,
    "start_time": "2024-09-06T17:34:45.896Z"
   },
   {
    "duration": 172,
    "start_time": "2024-09-06T17:34:45.910Z"
   },
   {
    "duration": 6,
    "start_time": "2024-09-06T17:34:46.085Z"
   },
   {
    "duration": 159,
    "start_time": "2024-09-06T17:34:46.092Z"
   },
   {
    "duration": 7,
    "start_time": "2024-09-06T17:34:46.252Z"
   },
   {
    "duration": 222,
    "start_time": "2024-09-06T17:34:46.260Z"
   },
   {
    "duration": 6,
    "start_time": "2024-09-06T17:34:46.483Z"
   },
   {
    "duration": 162,
    "start_time": "2024-09-06T17:34:46.490Z"
   },
   {
    "duration": 12,
    "start_time": "2024-09-06T17:34:46.654Z"
   },
   {
    "duration": 3,
    "start_time": "2024-09-06T17:34:46.667Z"
   },
   {
    "duration": 21,
    "start_time": "2024-09-06T17:34:46.671Z"
   },
   {
    "duration": 12,
    "start_time": "2024-09-06T17:34:46.693Z"
   },
   {
    "duration": 15,
    "start_time": "2024-09-06T17:34:46.706Z"
   },
   {
    "duration": 30,
    "start_time": "2024-09-06T17:34:46.722Z"
   },
   {
    "duration": 15,
    "start_time": "2024-09-06T17:34:46.753Z"
   },
   {
    "duration": 3,
    "start_time": "2024-09-06T17:34:46.769Z"
   },
   {
    "duration": 272,
    "start_time": "2024-09-06T17:34:46.773Z"
   },
   {
    "duration": 7,
    "start_time": "2024-09-06T17:34:47.046Z"
   },
   {
    "duration": 223,
    "start_time": "2024-09-06T17:34:47.054Z"
   },
   {
    "duration": 4,
    "start_time": "2024-09-06T17:34:47.278Z"
   },
   {
    "duration": 11,
    "start_time": "2024-09-06T17:34:47.283Z"
   },
   {
    "duration": 161,
    "start_time": "2024-09-06T17:34:47.295Z"
   },
   {
    "duration": 30,
    "start_time": "2024-09-06T17:34:47.457Z"
   },
   {
    "duration": 4,
    "start_time": "2024-09-06T17:34:47.488Z"
   },
   {
    "duration": 9,
    "start_time": "2024-09-06T17:34:47.493Z"
   },
   {
    "duration": 4,
    "start_time": "2024-09-06T17:34:47.503Z"
   },
   {
    "duration": 4,
    "start_time": "2024-09-06T17:34:47.508Z"
   },
   {
    "duration": 9,
    "start_time": "2024-09-06T17:34:47.513Z"
   },
   {
    "duration": 29,
    "start_time": "2024-09-06T17:34:47.523Z"
   },
   {
    "duration": 1183,
    "start_time": "2024-09-06T17:34:47.553Z"
   },
   {
    "duration": 25,
    "start_time": "2024-09-06T17:34:48.737Z"
   },
   {
    "duration": 6,
    "start_time": "2024-09-06T17:34:48.763Z"
   },
   {
    "duration": 1135,
    "start_time": "2024-09-09T06:51:12.420Z"
   }
  ],
  "kernelspec": {
   "display_name": "Python 3 (ipykernel)",
   "language": "python",
   "name": "python3"
  },
  "language_info": {
   "codemirror_mode": {
    "name": "ipython",
    "version": 3
   },
   "file_extension": ".py",
   "mimetype": "text/x-python",
   "name": "python",
   "nbconvert_exporter": "python",
   "pygments_lexer": "ipython3",
   "version": "3.12.7"
  },
  "toc": {
   "base_numbering": 1,
   "nav_menu": {},
   "number_sections": true,
   "sideBar": true,
   "skip_h1_title": true,
   "title_cell": "Table of Contents",
   "title_sidebar": "Contents",
   "toc_cell": false,
   "toc_position": {
    "height": "calc(100% - 180px)",
    "left": "10px",
    "top": "150px",
    "width": "304px"
   },
   "toc_section_display": true,
   "toc_window_display": true
  }
 },
 "nbformat": 4,
 "nbformat_minor": 5
}

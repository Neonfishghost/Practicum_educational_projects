{
 "cells": [
  {
   "cell_type": "markdown",
   "metadata": {},
   "source": [
    "# Проект: Анализ базы данных сервиса для чтения книг по подписке.\n",
    "\n",
    "**Описание проекта:**\n",
    "\n",
    "Исследование проводится для стартап-компании, предлагающей клиентам сервис для чтения книг по подписке. Для анализа предоставлена база данных, содержащая информацию о книгах, издательствах, авторах, а также пользовательские обзоры книг. \n",
    "\n",
    "**Цель исследования:**\n",
    "\n",
    "Провести анализ данных, выявить инсайты, которые помогут понять потребительские предпочтения.\n",
    "\n",
    "**Описание данных:**\n",
    "\n",
    "Таблица **books** cодержит данные о книгах:\n",
    "* `book_id` — идентификатор книги;\n",
    "* `author_id` — идентификатор автора;\n",
    "* `title` — название книги;\n",
    "* `num_pages` — количество страниц;\n",
    "* `publication_date` — дата публикации книги;\n",
    "* `publisher_id` — идентификатор издателя.\n",
    "\n",
    "Таблица **authors** cодержит данные об авторах:\n",
    "* `author_id` — идентификатор автора;\n",
    "* `author` — имя автора.\n",
    "\n",
    "Таблица **publishers** cодержит данные об издательствах:\n",
    "* `publisher_id` — идентификатор издательства;\n",
    "* `publisher` — название издательства;\n",
    "\n",
    "Таблица **ratings** cодержит данные о пользовательских оценках книг:\n",
    "* `rating_id` — идентификатор оценки;\n",
    "* `book_id` — идентификатор книги;\n",
    "* `username` — имя пользователя, оставившего оценку;\n",
    "* `rating` — оценка книги.\n",
    "\n",
    "Таблица **reviews** содержит данные о пользовательских обзорах:\n",
    "* `review_id` — идентификатор обзора;\n",
    "* `book_id` — идентификатор книги;\n",
    "* `username` — имя автора обзора;\n",
    "* `text` — текст обзора.\n"
   ]
  },
  {
   "cell_type": "code",
   "execution_count": 1,
   "metadata": {},
   "outputs": [],
   "source": [
    "# импортируем библиотеки\n",
    "import pandas as pd\n",
    "from sqlalchemy import text, create_engine\n"
   ]
  },
  {
   "cell_type": "code",
   "execution_count": null,
   "metadata": {},
   "outputs": [],
   "source": [
    "# устанавливаем параметры\n",
    "db_config = {'user': 'praktikum_student', # имя пользователя\n",
    "'pwd': 'Sdf4$2;d-d30pp', # пароль\n",
    "'host': 'rc1b-wcoijxj3yxfsf3fs.mdb.yandexcloud.net',\n",
    "'port': 6432, # порт подключения\n",
    "'db': 'data-analyst-final-project-db'} # название базы данных\n",
    "connection_string = 'postgresql://{user}:{pwd}@{host}:{port}/{db}'.format(**db_config)\n",
    "# сохраняем коннектор\n",
    "engine = create_engine(connection_string, connect_args={'sslmode':'require'})"
   ]
  },
  {
   "cell_type": "markdown",
   "metadata": {},
   "source": [
    "Создадим функцию, выводящую результат запроса:"
   ]
  },
  {
   "cell_type": "code",
   "execution_count": 2,
   "metadata": {},
   "outputs": [],
   "source": [
    "def result(query):\n",
    "     \n",
    "    return pd.io.sql.read_sql(query, con = engine)"
   ]
  },
  {
   "cell_type": "code",
   "execution_count": 3,
   "metadata": {},
   "outputs": [
    {
     "data": {
      "text/html": [
       "<div>\n",
       "<style scoped>\n",
       "    .dataframe tbody tr th:only-of-type {\n",
       "        vertical-align: middle;\n",
       "    }\n",
       "\n",
       "    .dataframe tbody tr th {\n",
       "        vertical-align: top;\n",
       "    }\n",
       "\n",
       "    .dataframe thead th {\n",
       "        text-align: right;\n",
       "    }\n",
       "</style>\n",
       "<table border=\"1\" class=\"dataframe\">\n",
       "  <thead>\n",
       "    <tr style=\"text-align: right;\">\n",
       "      <th></th>\n",
       "      <th>book_id</th>\n",
       "      <th>author_id</th>\n",
       "      <th>title</th>\n",
       "      <th>num_pages</th>\n",
       "      <th>publication_date</th>\n",
       "      <th>publisher_id</th>\n",
       "    </tr>\n",
       "  </thead>\n",
       "  <tbody>\n",
       "    <tr>\n",
       "      <th>0</th>\n",
       "      <td>1</td>\n",
       "      <td>546</td>\n",
       "      <td>'Salem's Lot</td>\n",
       "      <td>594</td>\n",
       "      <td>2005-11-01</td>\n",
       "      <td>93</td>\n",
       "    </tr>\n",
       "    <tr>\n",
       "      <th>1</th>\n",
       "      <td>2</td>\n",
       "      <td>465</td>\n",
       "      <td>1 000 Places to See Before You Die</td>\n",
       "      <td>992</td>\n",
       "      <td>2003-05-22</td>\n",
       "      <td>336</td>\n",
       "    </tr>\n",
       "    <tr>\n",
       "      <th>2</th>\n",
       "      <td>3</td>\n",
       "      <td>407</td>\n",
       "      <td>13 Little Blue Envelopes (Little Blue Envelope...</td>\n",
       "      <td>322</td>\n",
       "      <td>2010-12-21</td>\n",
       "      <td>135</td>\n",
       "    </tr>\n",
       "    <tr>\n",
       "      <th>3</th>\n",
       "      <td>4</td>\n",
       "      <td>82</td>\n",
       "      <td>1491: New Revelations of the Americas Before C...</td>\n",
       "      <td>541</td>\n",
       "      <td>2006-10-10</td>\n",
       "      <td>309</td>\n",
       "    </tr>\n",
       "    <tr>\n",
       "      <th>4</th>\n",
       "      <td>5</td>\n",
       "      <td>125</td>\n",
       "      <td>1776</td>\n",
       "      <td>386</td>\n",
       "      <td>2006-07-04</td>\n",
       "      <td>268</td>\n",
       "    </tr>\n",
       "  </tbody>\n",
       "</table>\n",
       "</div>"
      ],
      "text/plain": [
       "   book_id  author_id                                              title  \\\n",
       "0        1        546                                       'Salem's Lot   \n",
       "1        2        465                 1 000 Places to See Before You Die   \n",
       "2        3        407  13 Little Blue Envelopes (Little Blue Envelope...   \n",
       "3        4         82  1491: New Revelations of the Americas Before C...   \n",
       "4        5        125                                               1776   \n",
       "\n",
       "   num_pages publication_date  publisher_id  \n",
       "0        594       2005-11-01            93  \n",
       "1        992       2003-05-22           336  \n",
       "2        322       2010-12-21           135  \n",
       "3        541       2006-10-10           309  \n",
       "4        386       2006-07-04           268  "
      ]
     },
     "execution_count": 3,
     "metadata": {},
     "output_type": "execute_result"
    }
   ],
   "source": [
    "# чтобы выполнить SQL-запрос, используем Pandas\n",
    "query = '''SELECT * FROM books LIMIT 5'''\n",
    "con=engine.connect()\n",
    "pd.io.sql.read_sql(sql=text(query), con = con)"
   ]
  },
  {
   "cell_type": "markdown",
   "metadata": {},
   "source": [
    "## Выведем таблицы"
   ]
  },
  {
   "cell_type": "code",
   "execution_count": 4,
   "metadata": {},
   "outputs": [
    {
     "data": {
      "text/html": [
       "<div>\n",
       "<style scoped>\n",
       "    .dataframe tbody tr th:only-of-type {\n",
       "        vertical-align: middle;\n",
       "    }\n",
       "\n",
       "    .dataframe tbody tr th {\n",
       "        vertical-align: top;\n",
       "    }\n",
       "\n",
       "    .dataframe thead th {\n",
       "        text-align: right;\n",
       "    }\n",
       "</style>\n",
       "<table border=\"1\" class=\"dataframe\">\n",
       "  <thead>\n",
       "    <tr style=\"text-align: right;\">\n",
       "      <th></th>\n",
       "      <th>book_id</th>\n",
       "      <th>author_id</th>\n",
       "      <th>title</th>\n",
       "      <th>num_pages</th>\n",
       "      <th>publication_date</th>\n",
       "      <th>publisher_id</th>\n",
       "    </tr>\n",
       "  </thead>\n",
       "  <tbody>\n",
       "    <tr>\n",
       "      <th>0</th>\n",
       "      <td>1</td>\n",
       "      <td>546</td>\n",
       "      <td>'Salem's Lot</td>\n",
       "      <td>594</td>\n",
       "      <td>2005-11-01</td>\n",
       "      <td>93</td>\n",
       "    </tr>\n",
       "    <tr>\n",
       "      <th>1</th>\n",
       "      <td>2</td>\n",
       "      <td>465</td>\n",
       "      <td>1 000 Places to See Before You Die</td>\n",
       "      <td>992</td>\n",
       "      <td>2003-05-22</td>\n",
       "      <td>336</td>\n",
       "    </tr>\n",
       "    <tr>\n",
       "      <th>2</th>\n",
       "      <td>3</td>\n",
       "      <td>407</td>\n",
       "      <td>13 Little Blue Envelopes (Little Blue Envelope...</td>\n",
       "      <td>322</td>\n",
       "      <td>2010-12-21</td>\n",
       "      <td>135</td>\n",
       "    </tr>\n",
       "    <tr>\n",
       "      <th>3</th>\n",
       "      <td>4</td>\n",
       "      <td>82</td>\n",
       "      <td>1491: New Revelations of the Americas Before C...</td>\n",
       "      <td>541</td>\n",
       "      <td>2006-10-10</td>\n",
       "      <td>309</td>\n",
       "    </tr>\n",
       "    <tr>\n",
       "      <th>4</th>\n",
       "      <td>5</td>\n",
       "      <td>125</td>\n",
       "      <td>1776</td>\n",
       "      <td>386</td>\n",
       "      <td>2006-07-04</td>\n",
       "      <td>268</td>\n",
       "    </tr>\n",
       "  </tbody>\n",
       "</table>\n",
       "</div>"
      ],
      "text/plain": [
       "   book_id  author_id                                              title  \\\n",
       "0        1        546                                       'Salem's Lot   \n",
       "1        2        465                 1 000 Places to See Before You Die   \n",
       "2        3        407  13 Little Blue Envelopes (Little Blue Envelope...   \n",
       "3        4         82  1491: New Revelations of the Americas Before C...   \n",
       "4        5        125                                               1776   \n",
       "\n",
       "   num_pages publication_date  publisher_id  \n",
       "0        594       2005-11-01            93  \n",
       "1        992       2003-05-22           336  \n",
       "2        322       2010-12-21           135  \n",
       "3        541       2006-10-10           309  \n",
       "4        386       2006-07-04           268  "
      ]
     },
     "execution_count": 4,
     "metadata": {},
     "output_type": "execute_result"
    }
   ],
   "source": [
    "query = '''SELECT * FROM books LIMIT 5'''\n",
    "result(query)"
   ]
  },
  {
   "cell_type": "code",
   "execution_count": 5,
   "metadata": {},
   "outputs": [
    {
     "data": {
      "text/html": [
       "<div>\n",
       "<style scoped>\n",
       "    .dataframe tbody tr th:only-of-type {\n",
       "        vertical-align: middle;\n",
       "    }\n",
       "\n",
       "    .dataframe tbody tr th {\n",
       "        vertical-align: top;\n",
       "    }\n",
       "\n",
       "    .dataframe thead th {\n",
       "        text-align: right;\n",
       "    }\n",
       "</style>\n",
       "<table border=\"1\" class=\"dataframe\">\n",
       "  <thead>\n",
       "    <tr style=\"text-align: right;\">\n",
       "      <th></th>\n",
       "      <th>column_name</th>\n",
       "      <th>data_type</th>\n",
       "    </tr>\n",
       "  </thead>\n",
       "  <tbody>\n",
       "    <tr>\n",
       "      <th>0</th>\n",
       "      <td>publication_date</td>\n",
       "      <td>date</td>\n",
       "    </tr>\n",
       "  </tbody>\n",
       "</table>\n",
       "</div>"
      ],
      "text/plain": [
       "        column_name data_type\n",
       "0  publication_date      date"
      ]
     },
     "execution_count": 5,
     "metadata": {},
     "output_type": "execute_result"
    }
   ],
   "source": [
    "query = '''SELECT COLUMN_NAME, DATA_TYPE\n",
    "            FROM INFORMATION_SCHEMA.COLUMNS\n",
    "            WHERE TABLE_NAME = 'books' AND COLUMN_NAME = 'publication_date' '''\n",
    "result(query)"
   ]
  },
  {
   "cell_type": "code",
   "execution_count": 6,
   "metadata": {},
   "outputs": [
    {
     "data": {
      "text/html": [
       "<div>\n",
       "<style scoped>\n",
       "    .dataframe tbody tr th:only-of-type {\n",
       "        vertical-align: middle;\n",
       "    }\n",
       "\n",
       "    .dataframe tbody tr th {\n",
       "        vertical-align: top;\n",
       "    }\n",
       "\n",
       "    .dataframe thead th {\n",
       "        text-align: right;\n",
       "    }\n",
       "</style>\n",
       "<table border=\"1\" class=\"dataframe\">\n",
       "  <thead>\n",
       "    <tr style=\"text-align: right;\">\n",
       "      <th></th>\n",
       "      <th>author_id</th>\n",
       "      <th>author</th>\n",
       "    </tr>\n",
       "  </thead>\n",
       "  <tbody>\n",
       "    <tr>\n",
       "      <th>0</th>\n",
       "      <td>1</td>\n",
       "      <td>A.S. Byatt</td>\n",
       "    </tr>\n",
       "    <tr>\n",
       "      <th>1</th>\n",
       "      <td>2</td>\n",
       "      <td>Aesop/Laura Harris/Laura Gibbs</td>\n",
       "    </tr>\n",
       "    <tr>\n",
       "      <th>2</th>\n",
       "      <td>3</td>\n",
       "      <td>Agatha Christie</td>\n",
       "    </tr>\n",
       "    <tr>\n",
       "      <th>3</th>\n",
       "      <td>4</td>\n",
       "      <td>Alan Brennert</td>\n",
       "    </tr>\n",
       "    <tr>\n",
       "      <th>4</th>\n",
       "      <td>5</td>\n",
       "      <td>Alan Moore/David   Lloyd</td>\n",
       "    </tr>\n",
       "  </tbody>\n",
       "</table>\n",
       "</div>"
      ],
      "text/plain": [
       "   author_id                          author\n",
       "0          1                      A.S. Byatt\n",
       "1          2  Aesop/Laura Harris/Laura Gibbs\n",
       "2          3                 Agatha Christie\n",
       "3          4                   Alan Brennert\n",
       "4          5        Alan Moore/David   Lloyd"
      ]
     },
     "execution_count": 6,
     "metadata": {},
     "output_type": "execute_result"
    }
   ],
   "source": [
    "query = '''SELECT * FROM authors LIMIT 5'''\n",
    "result(query)"
   ]
  },
  {
   "cell_type": "code",
   "execution_count": 7,
   "metadata": {},
   "outputs": [
    {
     "data": {
      "text/html": [
       "<div>\n",
       "<style scoped>\n",
       "    .dataframe tbody tr th:only-of-type {\n",
       "        vertical-align: middle;\n",
       "    }\n",
       "\n",
       "    .dataframe tbody tr th {\n",
       "        vertical-align: top;\n",
       "    }\n",
       "\n",
       "    .dataframe thead th {\n",
       "        text-align: right;\n",
       "    }\n",
       "</style>\n",
       "<table border=\"1\" class=\"dataframe\">\n",
       "  <thead>\n",
       "    <tr style=\"text-align: right;\">\n",
       "      <th></th>\n",
       "      <th>publisher_id</th>\n",
       "      <th>publisher</th>\n",
       "    </tr>\n",
       "  </thead>\n",
       "  <tbody>\n",
       "    <tr>\n",
       "      <th>0</th>\n",
       "      <td>1</td>\n",
       "      <td>Ace</td>\n",
       "    </tr>\n",
       "    <tr>\n",
       "      <th>1</th>\n",
       "      <td>2</td>\n",
       "      <td>Ace Book</td>\n",
       "    </tr>\n",
       "    <tr>\n",
       "      <th>2</th>\n",
       "      <td>3</td>\n",
       "      <td>Ace Books</td>\n",
       "    </tr>\n",
       "    <tr>\n",
       "      <th>3</th>\n",
       "      <td>4</td>\n",
       "      <td>Ace Hardcover</td>\n",
       "    </tr>\n",
       "    <tr>\n",
       "      <th>4</th>\n",
       "      <td>5</td>\n",
       "      <td>Addison Wesley Publishing Company</td>\n",
       "    </tr>\n",
       "  </tbody>\n",
       "</table>\n",
       "</div>"
      ],
      "text/plain": [
       "   publisher_id                          publisher\n",
       "0             1                                Ace\n",
       "1             2                           Ace Book\n",
       "2             3                          Ace Books\n",
       "3             4                      Ace Hardcover\n",
       "4             5  Addison Wesley Publishing Company"
      ]
     },
     "execution_count": 7,
     "metadata": {},
     "output_type": "execute_result"
    }
   ],
   "source": [
    "query = '''SELECT * FROM publishers LIMIT 5'''\n",
    "result(query)"
   ]
  },
  {
   "cell_type": "code",
   "execution_count": 8,
   "metadata": {},
   "outputs": [
    {
     "data": {
      "text/html": [
       "<div>\n",
       "<style scoped>\n",
       "    .dataframe tbody tr th:only-of-type {\n",
       "        vertical-align: middle;\n",
       "    }\n",
       "\n",
       "    .dataframe tbody tr th {\n",
       "        vertical-align: top;\n",
       "    }\n",
       "\n",
       "    .dataframe thead th {\n",
       "        text-align: right;\n",
       "    }\n",
       "</style>\n",
       "<table border=\"1\" class=\"dataframe\">\n",
       "  <thead>\n",
       "    <tr style=\"text-align: right;\">\n",
       "      <th></th>\n",
       "      <th>rating_id</th>\n",
       "      <th>book_id</th>\n",
       "      <th>username</th>\n",
       "      <th>rating</th>\n",
       "    </tr>\n",
       "  </thead>\n",
       "  <tbody>\n",
       "    <tr>\n",
       "      <th>0</th>\n",
       "      <td>1</td>\n",
       "      <td>1</td>\n",
       "      <td>ryanfranco</td>\n",
       "      <td>4</td>\n",
       "    </tr>\n",
       "    <tr>\n",
       "      <th>1</th>\n",
       "      <td>2</td>\n",
       "      <td>1</td>\n",
       "      <td>grantpatricia</td>\n",
       "      <td>2</td>\n",
       "    </tr>\n",
       "    <tr>\n",
       "      <th>2</th>\n",
       "      <td>3</td>\n",
       "      <td>1</td>\n",
       "      <td>brandtandrea</td>\n",
       "      <td>5</td>\n",
       "    </tr>\n",
       "    <tr>\n",
       "      <th>3</th>\n",
       "      <td>4</td>\n",
       "      <td>2</td>\n",
       "      <td>lorichen</td>\n",
       "      <td>3</td>\n",
       "    </tr>\n",
       "    <tr>\n",
       "      <th>4</th>\n",
       "      <td>5</td>\n",
       "      <td>2</td>\n",
       "      <td>mariokeller</td>\n",
       "      <td>2</td>\n",
       "    </tr>\n",
       "  </tbody>\n",
       "</table>\n",
       "</div>"
      ],
      "text/plain": [
       "   rating_id  book_id       username  rating\n",
       "0          1        1     ryanfranco       4\n",
       "1          2        1  grantpatricia       2\n",
       "2          3        1   brandtandrea       5\n",
       "3          4        2       lorichen       3\n",
       "4          5        2    mariokeller       2"
      ]
     },
     "execution_count": 8,
     "metadata": {},
     "output_type": "execute_result"
    }
   ],
   "source": [
    "query = '''SELECT * FROM ratings LIMIT 5'''\n",
    "result(query)"
   ]
  },
  {
   "cell_type": "code",
   "execution_count": 9,
   "metadata": {},
   "outputs": [
    {
     "data": {
      "text/html": [
       "<div>\n",
       "<style scoped>\n",
       "    .dataframe tbody tr th:only-of-type {\n",
       "        vertical-align: middle;\n",
       "    }\n",
       "\n",
       "    .dataframe tbody tr th {\n",
       "        vertical-align: top;\n",
       "    }\n",
       "\n",
       "    .dataframe thead th {\n",
       "        text-align: right;\n",
       "    }\n",
       "</style>\n",
       "<table border=\"1\" class=\"dataframe\">\n",
       "  <thead>\n",
       "    <tr style=\"text-align: right;\">\n",
       "      <th></th>\n",
       "      <th>review_id</th>\n",
       "      <th>book_id</th>\n",
       "      <th>username</th>\n",
       "      <th>text</th>\n",
       "    </tr>\n",
       "  </thead>\n",
       "  <tbody>\n",
       "    <tr>\n",
       "      <th>0</th>\n",
       "      <td>1</td>\n",
       "      <td>1</td>\n",
       "      <td>brandtandrea</td>\n",
       "      <td>Mention society tell send professor analysis. ...</td>\n",
       "    </tr>\n",
       "    <tr>\n",
       "      <th>1</th>\n",
       "      <td>2</td>\n",
       "      <td>1</td>\n",
       "      <td>ryanfranco</td>\n",
       "      <td>Foot glass pretty audience hit themselves. Amo...</td>\n",
       "    </tr>\n",
       "    <tr>\n",
       "      <th>2</th>\n",
       "      <td>3</td>\n",
       "      <td>2</td>\n",
       "      <td>lorichen</td>\n",
       "      <td>Listen treat keep worry. Miss husband tax but ...</td>\n",
       "    </tr>\n",
       "    <tr>\n",
       "      <th>3</th>\n",
       "      <td>4</td>\n",
       "      <td>3</td>\n",
       "      <td>johnsonamanda</td>\n",
       "      <td>Finally month interesting blue could nature cu...</td>\n",
       "    </tr>\n",
       "    <tr>\n",
       "      <th>4</th>\n",
       "      <td>5</td>\n",
       "      <td>3</td>\n",
       "      <td>scotttamara</td>\n",
       "      <td>Nation purpose heavy give wait song will. List...</td>\n",
       "    </tr>\n",
       "  </tbody>\n",
       "</table>\n",
       "</div>"
      ],
      "text/plain": [
       "   review_id  book_id       username  \\\n",
       "0          1        1   brandtandrea   \n",
       "1          2        1     ryanfranco   \n",
       "2          3        2       lorichen   \n",
       "3          4        3  johnsonamanda   \n",
       "4          5        3    scotttamara   \n",
       "\n",
       "                                                text  \n",
       "0  Mention society tell send professor analysis. ...  \n",
       "1  Foot glass pretty audience hit themselves. Amo...  \n",
       "2  Listen treat keep worry. Miss husband tax but ...  \n",
       "3  Finally month interesting blue could nature cu...  \n",
       "4  Nation purpose heavy give wait song will. List...  "
      ]
     },
     "execution_count": 9,
     "metadata": {},
     "output_type": "execute_result"
    }
   ],
   "source": [
    "query = '''SELECT * FROM reviews LIMIT 5'''\n",
    "result(query)"
   ]
  },
  {
   "cell_type": "markdown",
   "metadata": {},
   "source": [
    "## Узнаем, сколько книг вышло после 1 января 2000 года"
   ]
  },
  {
   "cell_type": "code",
   "execution_count": 10,
   "metadata": {},
   "outputs": [
    {
     "data": {
      "text/html": [
       "<div>\n",
       "<style scoped>\n",
       "    .dataframe tbody tr th:only-of-type {\n",
       "        vertical-align: middle;\n",
       "    }\n",
       "\n",
       "    .dataframe tbody tr th {\n",
       "        vertical-align: top;\n",
       "    }\n",
       "\n",
       "    .dataframe thead th {\n",
       "        text-align: right;\n",
       "    }\n",
       "</style>\n",
       "<table border=\"1\" class=\"dataframe\">\n",
       "  <thead>\n",
       "    <tr style=\"text-align: right;\">\n",
       "      <th></th>\n",
       "      <th>count</th>\n",
       "    </tr>\n",
       "  </thead>\n",
       "  <tbody>\n",
       "    <tr>\n",
       "      <th>0</th>\n",
       "      <td>819</td>\n",
       "    </tr>\n",
       "  </tbody>\n",
       "</table>\n",
       "</div>"
      ],
      "text/plain": [
       "   count\n",
       "0    819"
      ]
     },
     "execution_count": 10,
     "metadata": {},
     "output_type": "execute_result"
    }
   ],
   "source": [
    "query = '''SELECT COUNT(DISTINCT book_id) \n",
    "            FROM books \n",
    "            WHERE publication_date > '2000-01-01' '''\n",
    "result(query)"
   ]
  },
  {
   "cell_type": "code",
   "execution_count": 11,
   "metadata": {},
   "outputs": [
    {
     "data": {
      "text/html": [
       "<div>\n",
       "<style scoped>\n",
       "    .dataframe tbody tr th:only-of-type {\n",
       "        vertical-align: middle;\n",
       "    }\n",
       "\n",
       "    .dataframe tbody tr th {\n",
       "        vertical-align: top;\n",
       "    }\n",
       "\n",
       "    .dataframe thead th {\n",
       "        text-align: right;\n",
       "    }\n",
       "</style>\n",
       "<table border=\"1\" class=\"dataframe\">\n",
       "  <thead>\n",
       "    <tr style=\"text-align: right;\">\n",
       "      <th></th>\n",
       "      <th>count</th>\n",
       "    </tr>\n",
       "  </thead>\n",
       "  <tbody>\n",
       "    <tr>\n",
       "      <th>0</th>\n",
       "      <td>1000</td>\n",
       "    </tr>\n",
       "  </tbody>\n",
       "</table>\n",
       "</div>"
      ],
      "text/plain": [
       "   count\n",
       "0   1000"
      ]
     },
     "execution_count": 11,
     "metadata": {},
     "output_type": "execute_result"
    }
   ],
   "source": [
    "query = '''SELECT COUNT(*) \n",
    "            FROM books \n",
    "             '''\n",
    "result(query)"
   ]
  },
  {
   "cell_type": "markdown",
   "metadata": {},
   "source": [
    "В нашей базе данных 819 книг, вышедших после 1 января 2000 года. Как-то не очень много. Можно ли ее пополнить новыми бестселлерами и популярными классическими книгами? \n",
    "## Найдем количество обзоров и среднюю оценку для каждой книги  "
   ]
  },
  {
   "cell_type": "code",
   "execution_count": 13,
   "metadata": {
    "scrolled": true
   },
   "outputs": [
    {
     "data": {
      "text/html": [
       "<div>\n",
       "<style scoped>\n",
       "    .dataframe tbody tr th:only-of-type {\n",
       "        vertical-align: middle;\n",
       "    }\n",
       "\n",
       "    .dataframe tbody tr th {\n",
       "        vertical-align: top;\n",
       "    }\n",
       "\n",
       "    .dataframe thead th {\n",
       "        text-align: right;\n",
       "    }\n",
       "</style>\n",
       "<table border=\"1\" class=\"dataframe\">\n",
       "  <thead>\n",
       "    <tr style=\"text-align: right;\">\n",
       "      <th></th>\n",
       "      <th>book_id</th>\n",
       "      <th>title</th>\n",
       "      <th>reviews</th>\n",
       "      <th>avg_rating</th>\n",
       "    </tr>\n",
       "  </thead>\n",
       "  <tbody>\n",
       "    <tr>\n",
       "      <th>0</th>\n",
       "      <td>948</td>\n",
       "      <td>Twilight (Twilight  #1)</td>\n",
       "      <td>7</td>\n",
       "      <td>3.662500</td>\n",
       "    </tr>\n",
       "    <tr>\n",
       "      <th>1</th>\n",
       "      <td>302</td>\n",
       "      <td>Harry Potter and the Prisoner of Azkaban (Harr...</td>\n",
       "      <td>6</td>\n",
       "      <td>4.414634</td>\n",
       "    </tr>\n",
       "    <tr>\n",
       "      <th>2</th>\n",
       "      <td>299</td>\n",
       "      <td>Harry Potter and the Chamber of Secrets (Harry...</td>\n",
       "      <td>6</td>\n",
       "      <td>4.287500</td>\n",
       "    </tr>\n",
       "    <tr>\n",
       "      <th>3</th>\n",
       "      <td>656</td>\n",
       "      <td>The Book Thief</td>\n",
       "      <td>6</td>\n",
       "      <td>4.264151</td>\n",
       "    </tr>\n",
       "    <tr>\n",
       "      <th>4</th>\n",
       "      <td>734</td>\n",
       "      <td>The Glass Castle</td>\n",
       "      <td>6</td>\n",
       "      <td>4.206897</td>\n",
       "    </tr>\n",
       "    <tr>\n",
       "      <th>5</th>\n",
       "      <td>497</td>\n",
       "      <td>Outlander (Outlander  #1)</td>\n",
       "      <td>6</td>\n",
       "      <td>4.125000</td>\n",
       "    </tr>\n",
       "    <tr>\n",
       "      <th>6</th>\n",
       "      <td>750</td>\n",
       "      <td>The Hobbit  or There and Back Again</td>\n",
       "      <td>6</td>\n",
       "      <td>4.125000</td>\n",
       "    </tr>\n",
       "    <tr>\n",
       "      <th>7</th>\n",
       "      <td>695</td>\n",
       "      <td>The Curious Incident of the Dog in the Night-Time</td>\n",
       "      <td>6</td>\n",
       "      <td>4.081081</td>\n",
       "    </tr>\n",
       "    <tr>\n",
       "      <th>8</th>\n",
       "      <td>779</td>\n",
       "      <td>The Lightning Thief (Percy Jackson and the Oly...</td>\n",
       "      <td>6</td>\n",
       "      <td>4.080645</td>\n",
       "    </tr>\n",
       "    <tr>\n",
       "      <th>9</th>\n",
       "      <td>963</td>\n",
       "      <td>Water for Elephants</td>\n",
       "      <td>6</td>\n",
       "      <td>3.977273</td>\n",
       "    </tr>\n",
       "    <tr>\n",
       "      <th>10</th>\n",
       "      <td>696</td>\n",
       "      <td>The Da Vinci Code (Robert Langdon  #2)</td>\n",
       "      <td>6</td>\n",
       "      <td>3.830508</td>\n",
       "    </tr>\n",
       "    <tr>\n",
       "      <th>11</th>\n",
       "      <td>673</td>\n",
       "      <td>The Catcher in the Rye</td>\n",
       "      <td>6</td>\n",
       "      <td>3.825581</td>\n",
       "    </tr>\n",
       "    <tr>\n",
       "      <th>12</th>\n",
       "      <td>627</td>\n",
       "      <td>The Alchemist</td>\n",
       "      <td>6</td>\n",
       "      <td>3.789474</td>\n",
       "    </tr>\n",
       "    <tr>\n",
       "      <th>13</th>\n",
       "      <td>854</td>\n",
       "      <td>The Road</td>\n",
       "      <td>6</td>\n",
       "      <td>3.772727</td>\n",
       "    </tr>\n",
       "    <tr>\n",
       "      <th>14</th>\n",
       "      <td>733</td>\n",
       "      <td>The Giver (The Giver  #1)</td>\n",
       "      <td>6</td>\n",
       "      <td>3.750000</td>\n",
       "    </tr>\n",
       "  </tbody>\n",
       "</table>\n",
       "</div>"
      ],
      "text/plain": [
       "    book_id                                              title  reviews  \\\n",
       "0       948                            Twilight (Twilight  #1)        7   \n",
       "1       302  Harry Potter and the Prisoner of Azkaban (Harr...        6   \n",
       "2       299  Harry Potter and the Chamber of Secrets (Harry...        6   \n",
       "3       656                                     The Book Thief        6   \n",
       "4       734                                   The Glass Castle        6   \n",
       "5       497                          Outlander (Outlander  #1)        6   \n",
       "6       750                The Hobbit  or There and Back Again        6   \n",
       "7       695  The Curious Incident of the Dog in the Night-Time        6   \n",
       "8       779  The Lightning Thief (Percy Jackson and the Oly...        6   \n",
       "9       963                                Water for Elephants        6   \n",
       "10      696             The Da Vinci Code (Robert Langdon  #2)        6   \n",
       "11      673                             The Catcher in the Rye        6   \n",
       "12      627                                      The Alchemist        6   \n",
       "13      854                                           The Road        6   \n",
       "14      733                          The Giver (The Giver  #1)        6   \n",
       "\n",
       "    avg_rating  \n",
       "0     3.662500  \n",
       "1     4.414634  \n",
       "2     4.287500  \n",
       "3     4.264151  \n",
       "4     4.206897  \n",
       "5     4.125000  \n",
       "6     4.125000  \n",
       "7     4.081081  \n",
       "8     4.080645  \n",
       "9     3.977273  \n",
       "10    3.830508  \n",
       "11    3.825581  \n",
       "12    3.789474  \n",
       "13    3.772727  \n",
       "14    3.750000  "
      ]
     },
     "execution_count": 13,
     "metadata": {},
     "output_type": "execute_result"
    }
   ],
   "source": [
    "query = '''SELECT b.book_id, \n",
    "                  b.title, \n",
    "                  COUNT(DISTINCT r.review_id) reviews,\n",
    "                  AVG(rt.rating) avg_rating\n",
    "            FROM books b\n",
    "            LEFT JOIN reviews r ON b.book_id = r.book_id\n",
    "            LEFT JOIN ratings rt ON b.book_id = rt.book_id\n",
    "            GROUP BY b.book_id, title \n",
    "            ORDER BY reviews DESC, avg_rating DESC\n",
    "            LIMIT 15'''\n",
    "result(query)"
   ]
  },
  {
   "cell_type": "markdown",
   "metadata": {},
   "source": [
    "Пользовательские обзоры написаны для 993 изданий. Наибольшее количество читательских отзывов у книг \"Сумерки\". Причем большое количество отзывов не гарантирует высокий средний рейтинг книги у читателей - сколько людей, столько и мнений. \n",
    "## Исключим из анализа брошюры и определим издательство, которое выпустило наибольшее число книг (толще 50 страниц)"
   ]
  },
  {
   "cell_type": "code",
   "execution_count": 14,
   "metadata": {},
   "outputs": [
    {
     "data": {
      "text/html": [
       "<div>\n",
       "<style scoped>\n",
       "    .dataframe tbody tr th:only-of-type {\n",
       "        vertical-align: middle;\n",
       "    }\n",
       "\n",
       "    .dataframe tbody tr th {\n",
       "        vertical-align: top;\n",
       "    }\n",
       "\n",
       "    .dataframe thead th {\n",
       "        text-align: right;\n",
       "    }\n",
       "</style>\n",
       "<table border=\"1\" class=\"dataframe\">\n",
       "  <thead>\n",
       "    <tr style=\"text-align: right;\">\n",
       "      <th></th>\n",
       "      <th>publisher</th>\n",
       "      <th>book_count</th>\n",
       "    </tr>\n",
       "  </thead>\n",
       "  <tbody>\n",
       "    <tr>\n",
       "      <th>0</th>\n",
       "      <td>Penguin Books</td>\n",
       "      <td>42</td>\n",
       "    </tr>\n",
       "  </tbody>\n",
       "</table>\n",
       "</div>"
      ],
      "text/plain": [
       "       publisher  book_count\n",
       "0  Penguin Books          42"
      ]
     },
     "execution_count": 14,
     "metadata": {},
     "output_type": "execute_result"
    }
   ],
   "source": [
    "query = ''' SELECT p.publisher, \n",
    "                   COUNT(b.book_id) AS book_count\n",
    "            FROM books b\n",
    "            JOIN publishers p ON b.publisher_id = p.publisher_id\n",
    "            WHERE b.num_pages > 50\n",
    "            GROUP BY p.publisher\n",
    "            ORDER BY book_count DESC\n",
    "            LIMIT 1;'''\n",
    "    \n",
    "result(query)"
   ]
  },
  {
   "cell_type": "markdown",
   "metadata": {},
   "source": [
    "Наибольшее число книг выпустило издательство 'Penguin Books'. Для формирования стратегии развития также будет полезно узнать, какое издательство самое популярное - выпускает книги с большим количеством пользовательских обзоров.\n",
    "## Определим автора с самой высокой средней оценкой книг. Будем учитывать только книги с 50 и более оценками."
   ]
  },
  {
   "cell_type": "code",
   "execution_count": 16,
   "metadata": {},
   "outputs": [
    {
     "data": {
      "text/html": [
       "<div>\n",
       "<style scoped>\n",
       "    .dataframe tbody tr th:only-of-type {\n",
       "        vertical-align: middle;\n",
       "    }\n",
       "\n",
       "    .dataframe tbody tr th {\n",
       "        vertical-align: top;\n",
       "    }\n",
       "\n",
       "    .dataframe thead th {\n",
       "        text-align: right;\n",
       "    }\n",
       "</style>\n",
       "<table border=\"1\" class=\"dataframe\">\n",
       "  <thead>\n",
       "    <tr style=\"text-align: right;\">\n",
       "      <th></th>\n",
       "      <th>author_id</th>\n",
       "      <th>author</th>\n",
       "      <th>average_rating</th>\n",
       "    </tr>\n",
       "  </thead>\n",
       "  <tbody>\n",
       "    <tr>\n",
       "      <th>0</th>\n",
       "      <td>236</td>\n",
       "      <td>J.K. Rowling/Mary GrandPré</td>\n",
       "      <td>4.287097</td>\n",
       "    </tr>\n",
       "  </tbody>\n",
       "</table>\n",
       "</div>"
      ],
      "text/plain": [
       "   author_id                      author  average_rating\n",
       "0        236  J.K. Rowling/Mary GrandPré        4.287097"
      ]
     },
     "execution_count": 16,
     "metadata": {},
     "output_type": "execute_result"
    }
   ],
   "source": [
    "query = ''' SELECT a.author_id,\n",
    "                   a.author,\n",
    "                   AVG(rt.rating) AS average_rating\n",
    "            FROM authors a\n",
    "            JOIN books b ON a.author_id = b.author_id\n",
    "            JOIN ratings rt ON b.book_id = rt.book_id\n",
    "            WHERE b.book_id IN \n",
    "            (\n",
    "                    SELECT book_id\n",
    "                    FROM ratings\n",
    "                    GROUP BY book_id\n",
    "                    HAVING COUNT(rating_id) >= 50\n",
    "                                )\n",
    "            GROUP BY a.author_id, a.author\n",
    "            ORDER BY average_rating DESC\n",
    "            LIMIT 1'''\n",
    "result(query)"
   ]
  },
  {
   "cell_type": "markdown",
   "metadata": {},
   "source": [
    "Самая высокая средняя оценка книг у писательницы Джоан Роулинг. Эта информация может помочь нам сформировать стратегию по контенту: на основе анализа популярных авторов можем разработать план по закупке новых книг.\n",
    "## Найдем среднее количество обзоров от пользователей, которые поставили больше 48 оценок."
   ]
  },
  {
   "cell_type": "code",
   "execution_count": 17,
   "metadata": {},
   "outputs": [
    {
     "data": {
      "text/html": [
       "<div>\n",
       "<style scoped>\n",
       "    .dataframe tbody tr th:only-of-type {\n",
       "        vertical-align: middle;\n",
       "    }\n",
       "\n",
       "    .dataframe tbody tr th {\n",
       "        vertical-align: top;\n",
       "    }\n",
       "\n",
       "    .dataframe thead th {\n",
       "        text-align: right;\n",
       "    }\n",
       "</style>\n",
       "<table border=\"1\" class=\"dataframe\">\n",
       "  <thead>\n",
       "    <tr style=\"text-align: right;\">\n",
       "      <th></th>\n",
       "      <th>avg</th>\n",
       "    </tr>\n",
       "  </thead>\n",
       "  <tbody>\n",
       "    <tr>\n",
       "      <th>0</th>\n",
       "      <td>24.0</td>\n",
       "    </tr>\n",
       "  </tbody>\n",
       "</table>\n",
       "</div>"
      ],
      "text/plain": [
       "    avg\n",
       "0  24.0"
      ]
     },
     "execution_count": 17,
     "metadata": {},
     "output_type": "execute_result"
    }
   ],
   "source": [
    "query = ''' WITH count_reviews AS(\n",
    "                SELECT COUNT(review_id) count, username\n",
    "                FROM reviews\n",
    "                WHERE username IN \n",
    "                    \n",
    "                    (                    \n",
    "                    SELECT username\n",
    "                    FROM ratings\n",
    "                    GROUP BY username\n",
    "                    HAVING COUNT(ratings) > 48\n",
    "                    )\n",
    "                    \n",
    "                GROUP BY username)\n",
    "                    \n",
    "                    SELECT AVG(count)\n",
    "                    FROM count_reviews '''\n",
    "    \n",
    "result(query)"
   ]
  },
  {
   "cell_type": "markdown",
   "metadata": {},
   "source": [
    "Покупатели книг часто просматривают обзоры на издания перед покупкой. Чем больше обзоров, тем выше вероятность, что книгой заинтересуются другие читатели. \n",
    "\n",
    "В нашей базе в среднем 24 обзора от пользователя, поставившего больше 48 оценок, это значит, что половина пользователей только оценивает книгу, но не рассказывает про нее свое мнение. Возможно, наличие поощрительной бонусной программы для пользователей может побудить их подробнее рассказать о своих впечатлениях о прочитанной книге.\n",
    "\n",
    "\n",
    "\n",
    "## Вывод\n",
    "\n",
    "- Для анализа была предоставлена база данных сервиса для чтения книг по подписке, содержащая информацию о 1000 книг. 80% книг в ней старше 2000 года. \n",
    "\n",
    "- Пользовательские обзоры написаны для 993 изданий. Наибольшее количество читательских отзывов у книг \"Сумерки\". Причем большое количество отзывов не гарантирует высокий средний рейтинг книги у читателей. Но, судя по топ-15 лидеров можно предположить, что читателям нравятся истории о фантастических мирах.\n",
    "\n",
    "- Наибольшее число книг выпустило издательство 'Penguin Books'. Для формирования стратегии развития также будет полезно узнать, какое издательство самое популярное - выпускает книги с большим количеством пользовательских обзоров.\n",
    "\n",
    "- Самая высокая средняя оценка книг у писательницы Джоан Роулинг. Эта информация может помочь нам сформировать стратегию по контенту: на основе анализа популярных авторов можем разработать план по закупке новых книг.\n",
    "\n",
    "- В нашей базе в среднем 24 обзора от пользователя, поставившего больше 48 оценок, это значит, что половина пользователей только оценивает книгу, но не рассказывает про нее свое мнение. Возможно, наличие поощрительной бонусной программы для пользователей может побудить их подробнее рассказать о своих впечатлениях о прочитанной книге.\n",
    "\n",
    "- Для того чтобы лучше понять потребительские предпочтения стоит также проанализировать отзывы и оценки пользователей пользователей, для понимания их ожиданий и выявления возможных недостатков в текущем предложении. "
   ]
  },
  {
   "cell_type": "code",
   "execution_count": null,
   "metadata": {},
   "outputs": [],
   "source": []
  }
 ],
 "metadata": {
  "ExecuteTimeLog": [
   {
    "duration": 6609,
    "start_time": "2025-02-04T16:09:10.866Z"
   },
   {
    "duration": 10628,
    "start_time": "2025-02-05T08:30:01.539Z"
   },
   {
    "duration": 249,
    "start_time": "2025-02-05T08:30:12.170Z"
   },
   {
    "duration": 11822,
    "start_time": "2025-02-05T08:30:16.955Z"
   },
   {
    "duration": 227,
    "start_time": "2025-02-05T08:30:28.779Z"
   },
   {
    "duration": 72,
    "start_time": "2025-02-05T08:42:32.214Z"
   },
   {
    "duration": 4,
    "start_time": "2025-02-05T08:42:38.150Z"
   },
   {
    "duration": 3,
    "start_time": "2025-02-05T08:42:38.822Z"
   },
   {
    "duration": 237,
    "start_time": "2025-02-05T08:42:39.159Z"
   },
   {
    "duration": 148,
    "start_time": "2025-02-05T08:42:39.519Z"
   },
   {
    "duration": 95,
    "start_time": "2025-02-05T09:05:14.662Z"
   },
   {
    "duration": 76,
    "start_time": "2025-02-05T09:05:56.487Z"
   },
   {
    "duration": 77,
    "start_time": "2025-02-05T09:06:37.960Z"
   },
   {
    "duration": 76,
    "start_time": "2025-02-05T09:06:38.408Z"
   },
   {
    "duration": 80,
    "start_time": "2025-02-05T09:07:15.189Z"
   },
   {
    "duration": 78,
    "start_time": "2025-02-05T09:07:17.209Z"
   },
   {
    "duration": 78,
    "start_time": "2025-02-05T09:07:33.818Z"
   },
   {
    "duration": 170,
    "start_time": "2025-02-05T09:12:55.874Z"
   },
   {
    "duration": 165,
    "start_time": "2025-02-05T09:15:54.039Z"
   },
   {
    "duration": 83,
    "start_time": "2025-02-05T09:18:47.932Z"
   },
   {
    "duration": 80,
    "start_time": "2025-02-05T09:19:07.227Z"
   },
   {
    "duration": 78,
    "start_time": "2025-02-05T09:32:44.563Z"
   },
   {
    "duration": 175,
    "start_time": "2025-02-05T09:37:43.480Z"
   },
   {
    "duration": 76,
    "start_time": "2025-02-05T09:37:56.601Z"
   },
   {
    "duration": 167,
    "start_time": "2025-02-05T09:54:19.042Z"
   },
   {
    "duration": 161,
    "start_time": "2025-02-05T09:55:04.315Z"
   },
   {
    "duration": 170,
    "start_time": "2025-02-05T09:55:28.917Z"
   },
   {
    "duration": 175,
    "start_time": "2025-02-05T09:56:29.558Z"
   },
   {
    "duration": 205,
    "start_time": "2025-02-05T09:56:51.783Z"
   },
   {
    "duration": 170,
    "start_time": "2025-02-05T10:02:05.151Z"
   },
   {
    "duration": 164,
    "start_time": "2025-02-05T10:02:40.031Z"
   },
   {
    "duration": 169,
    "start_time": "2025-02-05T10:06:37.958Z"
   },
   {
    "duration": 192,
    "start_time": "2025-02-05T10:07:23.208Z"
   },
   {
    "duration": 173,
    "start_time": "2025-02-05T10:08:11.033Z"
   },
   {
    "duration": 167,
    "start_time": "2025-02-05T10:08:33.609Z"
   },
   {
    "duration": 172,
    "start_time": "2025-02-05T10:09:30.234Z"
   },
   {
    "duration": 165,
    "start_time": "2025-02-05T10:09:40.939Z"
   },
   {
    "duration": 104,
    "start_time": "2025-02-05T10:11:21.294Z"
   },
   {
    "duration": 169,
    "start_time": "2025-02-05T10:12:48.351Z"
   },
   {
    "duration": 163,
    "start_time": "2025-02-05T10:13:55.793Z"
   },
   {
    "duration": 179,
    "start_time": "2025-02-05T10:15:46.260Z"
   },
   {
    "duration": 104,
    "start_time": "2025-02-05T10:15:53.316Z"
   },
   {
    "duration": 115,
    "start_time": "2025-02-05T10:16:33.301Z"
   },
   {
    "duration": 170,
    "start_time": "2025-02-05T10:19:01.048Z"
   },
   {
    "duration": 114,
    "start_time": "2025-02-05T10:19:14.009Z"
   },
   {
    "duration": 114,
    "start_time": "2025-02-05T10:19:27.576Z"
   },
   {
    "duration": 114,
    "start_time": "2025-02-05T10:20:07.210Z"
   },
   {
    "duration": 114,
    "start_time": "2025-02-05T10:21:22.030Z"
   },
   {
    "duration": 161,
    "start_time": "2025-02-05T10:21:47.853Z"
   },
   {
    "duration": 114,
    "start_time": "2025-02-05T10:22:03.822Z"
   },
   {
    "duration": 164,
    "start_time": "2025-02-05T10:25:24.978Z"
   },
   {
    "duration": 162,
    "start_time": "2025-02-05T10:25:49.010Z"
   },
   {
    "duration": 159,
    "start_time": "2025-02-05T10:26:19.763Z"
   },
   {
    "duration": 118,
    "start_time": "2025-02-05T10:26:37.477Z"
   },
   {
    "duration": 90,
    "start_time": "2025-02-05T10:29:02.199Z"
   },
   {
    "duration": 108,
    "start_time": "2025-02-05T10:29:13.431Z"
   },
   {
    "duration": 90,
    "start_time": "2025-02-05T10:33:29.054Z"
   },
   {
    "duration": 108,
    "start_time": "2025-02-05T10:35:52.451Z"
   },
   {
    "duration": 206,
    "start_time": "2025-02-05T10:36:30.360Z"
   },
   {
    "duration": 179,
    "start_time": "2025-02-05T10:37:18.404Z"
   },
   {
    "duration": 170,
    "start_time": "2025-02-05T10:38:52.423Z"
   },
   {
    "duration": 90,
    "start_time": "2025-02-05T10:39:17.079Z"
   },
   {
    "duration": 186,
    "start_time": "2025-02-05T10:39:43.625Z"
   },
   {
    "duration": 91,
    "start_time": "2025-02-05T10:39:55.095Z"
   },
   {
    "duration": 92,
    "start_time": "2025-02-05T10:48:52.423Z"
   },
   {
    "duration": 182,
    "start_time": "2025-02-05T11:00:00.600Z"
   },
   {
    "duration": 194,
    "start_time": "2025-02-05T11:00:04.840Z"
   },
   {
    "duration": 170,
    "start_time": "2025-02-05T11:00:10.121Z"
   },
   {
    "duration": 91,
    "start_time": "2025-02-05T11:00:22.905Z"
   },
   {
    "duration": 91,
    "start_time": "2025-02-05T11:03:03.804Z"
   },
   {
    "duration": 91,
    "start_time": "2025-02-05T11:24:23.664Z"
   },
   {
    "duration": 218,
    "start_time": "2025-02-05T11:25:39.377Z"
   },
   {
    "duration": 92,
    "start_time": "2025-02-05T11:26:23.650Z"
   },
   {
    "duration": 93,
    "start_time": "2025-02-05T11:26:37.458Z"
   },
   {
    "duration": 93,
    "start_time": "2025-02-05T11:28:17.205Z"
   },
   {
    "duration": 89,
    "start_time": "2025-02-05T11:31:16.044Z"
   },
   {
    "duration": 91,
    "start_time": "2025-02-05T11:35:58.353Z"
   },
   {
    "duration": 176,
    "start_time": "2025-02-05T11:36:50.258Z"
   },
   {
    "duration": 168,
    "start_time": "2025-02-05T11:36:58.964Z"
   },
   {
    "duration": 76,
    "start_time": "2025-02-05T11:37:18.244Z"
   },
   {
    "duration": 89,
    "start_time": "2025-02-05T11:37:46.725Z"
   },
   {
    "duration": 84,
    "start_time": "2025-02-05T11:42:47.388Z"
   },
   {
    "duration": 171,
    "start_time": "2025-02-05T11:42:56.957Z"
   },
   {
    "duration": 197,
    "start_time": "2025-02-05T11:44:14.703Z"
   },
   {
    "duration": 79,
    "start_time": "2025-02-05T11:44:34.063Z"
   },
   {
    "duration": 81,
    "start_time": "2025-02-05T11:45:52.082Z"
   },
   {
    "duration": 78,
    "start_time": "2025-02-05T11:46:24.802Z"
   },
   {
    "duration": 77,
    "start_time": "2025-02-05T11:46:34.818Z"
   },
   {
    "duration": 79,
    "start_time": "2025-02-05T11:54:47.087Z"
   },
   {
    "duration": 76,
    "start_time": "2025-02-05T11:57:40.901Z"
   },
   {
    "duration": 4,
    "start_time": "2025-02-05T12:02:22.762Z"
   },
   {
    "duration": 364,
    "start_time": "2025-02-05T12:07:16.756Z"
   },
   {
    "duration": 84,
    "start_time": "2025-02-05T12:07:50.150Z"
   },
   {
    "duration": 82,
    "start_time": "2025-02-05T12:08:26.214Z"
   },
   {
    "duration": 82,
    "start_time": "2025-02-05T12:08:35.350Z"
   },
   {
    "duration": 83,
    "start_time": "2025-02-05T12:11:51.900Z"
   },
   {
    "duration": 81,
    "start_time": "2025-02-05T12:19:43.209Z"
   },
   {
    "duration": 82,
    "start_time": "2025-02-05T12:40:59.738Z"
   },
   {
    "duration": 86,
    "start_time": "2025-02-05T12:45:21.427Z"
   },
   {
    "duration": 86,
    "start_time": "2025-02-05T12:45:29.137Z"
   },
   {
    "duration": 80,
    "start_time": "2025-02-05T12:46:02.385Z"
   },
   {
    "duration": 306,
    "start_time": "2025-02-05T12:47:05.604Z"
   },
   {
    "duration": 79,
    "start_time": "2025-02-05T12:47:24.215Z"
   },
   {
    "duration": 104,
    "start_time": "2025-02-05T12:51:31.947Z"
   },
   {
    "duration": 180,
    "start_time": "2025-02-05T12:53:31.902Z"
   },
   {
    "duration": 185,
    "start_time": "2025-02-05T12:54:03.360Z"
   },
   {
    "duration": 278,
    "start_time": "2025-02-05T12:54:38.272Z"
   },
   {
    "duration": 171,
    "start_time": "2025-02-05T12:55:19.377Z"
   },
   {
    "duration": 79,
    "start_time": "2025-02-05T12:55:26.848Z"
   },
   {
    "duration": 81,
    "start_time": "2025-02-05T12:58:24.901Z"
   },
   {
    "duration": 87,
    "start_time": "2025-02-05T13:00:06.330Z"
   },
   {
    "duration": 10410,
    "start_time": "2025-02-05T13:00:31.739Z"
   },
   {
    "duration": 3,
    "start_time": "2025-02-05T13:00:42.151Z"
   },
   {
    "duration": 280,
    "start_time": "2025-02-05T13:00:42.155Z"
   },
   {
    "duration": 100,
    "start_time": "2025-02-05T13:00:42.437Z"
   },
   {
    "duration": 0,
    "start_time": "2025-02-05T13:00:42.540Z"
   },
   {
    "duration": 0,
    "start_time": "2025-02-05T13:00:42.541Z"
   },
   {
    "duration": 0,
    "start_time": "2025-02-05T13:00:42.543Z"
   },
   {
    "duration": 0,
    "start_time": "2025-02-05T13:00:42.544Z"
   },
   {
    "duration": 0,
    "start_time": "2025-02-05T13:00:42.546Z"
   },
   {
    "duration": 0,
    "start_time": "2025-02-05T13:00:42.548Z"
   },
   {
    "duration": 0,
    "start_time": "2025-02-05T13:00:42.549Z"
   },
   {
    "duration": 0,
    "start_time": "2025-02-05T13:00:42.550Z"
   },
   {
    "duration": 0,
    "start_time": "2025-02-05T13:00:42.552Z"
   },
   {
    "duration": 0,
    "start_time": "2025-02-05T13:00:42.553Z"
   },
   {
    "duration": 6,
    "start_time": "2025-02-05T13:01:01.927Z"
   },
   {
    "duration": 3,
    "start_time": "2025-02-05T13:01:02.556Z"
   },
   {
    "duration": 253,
    "start_time": "2025-02-05T13:01:02.808Z"
   },
   {
    "duration": 11,
    "start_time": "2025-02-05T13:01:03.514Z"
   },
   {
    "duration": 8,
    "start_time": "2025-02-05T13:01:03.737Z"
   },
   {
    "duration": 7,
    "start_time": "2025-02-05T13:01:03.959Z"
   },
   {
    "duration": 9,
    "start_time": "2025-02-05T13:01:04.761Z"
   },
   {
    "duration": 8,
    "start_time": "2025-02-05T13:01:05.063Z"
   },
   {
    "duration": 9,
    "start_time": "2025-02-05T13:01:05.528Z"
   },
   {
    "duration": 9862,
    "start_time": "2025-02-05T13:02:38.553Z"
   },
   {
    "duration": 4,
    "start_time": "2025-02-05T13:02:48.417Z"
   },
   {
    "duration": 241,
    "start_time": "2025-02-05T13:02:48.423Z"
   },
   {
    "duration": 160,
    "start_time": "2025-02-05T13:02:48.666Z"
   },
   {
    "duration": 87,
    "start_time": "2025-02-05T13:02:48.833Z"
   },
   {
    "duration": 85,
    "start_time": "2025-02-05T13:02:48.927Z"
   },
   {
    "duration": 81,
    "start_time": "2025-02-05T13:02:49.018Z"
   },
   {
    "duration": 78,
    "start_time": "2025-02-05T13:02:49.105Z"
   },
   {
    "duration": 78,
    "start_time": "2025-02-05T13:02:49.184Z"
   },
   {
    "duration": 77,
    "start_time": "2025-02-05T13:02:49.264Z"
   },
   {
    "duration": 93,
    "start_time": "2025-02-05T13:02:49.343Z"
   },
   {
    "duration": 91,
    "start_time": "2025-02-05T13:02:49.437Z"
   },
   {
    "duration": 83,
    "start_time": "2025-02-05T13:02:49.530Z"
   },
   {
    "duration": 82,
    "start_time": "2025-02-05T13:02:49.617Z"
   },
   {
    "duration": 87,
    "start_time": "2025-02-05T13:05:15.679Z"
   },
   {
    "duration": 78,
    "start_time": "2025-02-05T13:20:53.991Z"
   },
   {
    "duration": 11336,
    "start_time": "2025-02-05T13:31:00.447Z"
   },
   {
    "duration": 3,
    "start_time": "2025-02-05T13:31:11.785Z"
   },
   {
    "duration": 251,
    "start_time": "2025-02-05T13:31:11.790Z"
   },
   {
    "duration": 159,
    "start_time": "2025-02-05T13:31:12.043Z"
   },
   {
    "duration": 85,
    "start_time": "2025-02-05T13:31:12.206Z"
   },
   {
    "duration": 76,
    "start_time": "2025-02-05T13:31:12.293Z"
   },
   {
    "duration": 78,
    "start_time": "2025-02-05T13:31:12.371Z"
   },
   {
    "duration": 79,
    "start_time": "2025-02-05T13:31:12.451Z"
   },
   {
    "duration": 79,
    "start_time": "2025-02-05T13:31:12.531Z"
   },
   {
    "duration": 76,
    "start_time": "2025-02-05T13:31:12.620Z"
   },
   {
    "duration": 79,
    "start_time": "2025-02-05T13:31:12.698Z"
   },
   {
    "duration": 93,
    "start_time": "2025-02-05T13:31:12.778Z"
   },
   {
    "duration": 78,
    "start_time": "2025-02-05T13:31:12.873Z"
   },
   {
    "duration": 81,
    "start_time": "2025-02-05T13:31:12.952Z"
   },
   {
    "duration": 84,
    "start_time": "2025-02-05T13:31:13.035Z"
   },
   {
    "duration": 6616,
    "start_time": "2025-02-06T04:53:57.844Z"
   },
   {
    "duration": 2,
    "start_time": "2025-02-06T04:54:04.462Z"
   },
   {
    "duration": 68,
    "start_time": "2025-02-06T04:54:04.466Z"
   },
   {
    "duration": 43,
    "start_time": "2025-02-06T04:54:04.535Z"
   },
   {
    "duration": 19,
    "start_time": "2025-02-06T04:54:04.580Z"
   },
   {
    "duration": 12,
    "start_time": "2025-02-06T04:54:04.601Z"
   },
   {
    "duration": 11,
    "start_time": "2025-02-06T04:54:04.614Z"
   },
   {
    "duration": 13,
    "start_time": "2025-02-06T04:54:04.626Z"
   },
   {
    "duration": 32,
    "start_time": "2025-02-06T04:54:04.640Z"
   },
   {
    "duration": 35,
    "start_time": "2025-02-06T04:54:04.673Z"
   },
   {
    "duration": 11,
    "start_time": "2025-02-06T04:54:04.709Z"
   },
   {
    "duration": 33,
    "start_time": "2025-02-06T04:54:04.722Z"
   },
   {
    "duration": 28,
    "start_time": "2025-02-06T04:54:09.223Z"
   },
   {
    "duration": 49,
    "start_time": "2025-02-06T06:45:25.717Z"
   },
   {
    "duration": 6,
    "start_time": "2025-02-06T06:50:02.155Z"
   },
   {
    "duration": 7697,
    "start_time": "2025-02-06T06:50:09.690Z"
   },
   {
    "duration": 2,
    "start_time": "2025-02-06T06:50:17.389Z"
   },
   {
    "duration": 67,
    "start_time": "2025-02-06T06:50:17.393Z"
   },
   {
    "duration": 42,
    "start_time": "2025-02-06T06:50:17.463Z"
   },
   {
    "duration": 18,
    "start_time": "2025-02-06T06:50:17.507Z"
   },
   {
    "duration": 11,
    "start_time": "2025-02-06T06:50:17.526Z"
   },
   {
    "duration": 10,
    "start_time": "2025-02-06T06:50:17.538Z"
   },
   {
    "duration": 77,
    "start_time": "2025-02-06T06:50:17.549Z"
   },
   {
    "duration": 12,
    "start_time": "2025-02-06T06:50:17.628Z"
   },
   {
    "duration": 7562,
    "start_time": "2025-02-06T06:50:29.065Z"
   },
   {
    "duration": 3,
    "start_time": "2025-02-06T06:50:36.629Z"
   },
   {
    "duration": 68,
    "start_time": "2025-02-06T06:50:36.634Z"
   },
   {
    "duration": 42,
    "start_time": "2025-02-06T06:50:36.704Z"
   },
   {
    "duration": 18,
    "start_time": "2025-02-06T06:50:36.747Z"
   },
   {
    "duration": 10,
    "start_time": "2025-02-06T06:50:36.767Z"
   },
   {
    "duration": 20,
    "start_time": "2025-02-06T06:50:36.779Z"
   },
   {
    "duration": 13,
    "start_time": "2025-02-06T06:50:36.800Z"
   },
   {
    "duration": 23,
    "start_time": "2025-02-06T06:50:36.815Z"
   },
   {
    "duration": 19,
    "start_time": "2025-02-06T06:50:36.840Z"
   },
   {
    "duration": 9,
    "start_time": "2025-02-06T06:50:36.861Z"
   },
   {
    "duration": 45,
    "start_time": "2025-02-06T06:50:36.871Z"
   },
   {
    "duration": 32,
    "start_time": "2025-02-06T06:50:36.918Z"
   },
   {
    "duration": 12,
    "start_time": "2025-02-06T06:50:36.951Z"
   },
   {
    "duration": 14,
    "start_time": "2025-02-06T06:50:36.964Z"
   },
   {
    "duration": 16,
    "start_time": "2025-02-06T06:50:36.979Z"
   },
   {
    "duration": 136,
    "start_time": "2025-02-06T06:55:05.677Z"
   },
   {
    "duration": 33,
    "start_time": "2025-02-06T06:55:16.338Z"
   },
   {
    "duration": 42,
    "start_time": "2025-02-06T06:56:03.011Z"
   },
   {
    "duration": 3,
    "start_time": "2025-02-06T06:58:32.056Z"
   },
   {
    "duration": 22,
    "start_time": "2025-02-06T06:58:58.743Z"
   },
   {
    "duration": 27,
    "start_time": "2025-02-06T07:02:41.886Z"
   },
   {
    "duration": 30,
    "start_time": "2025-02-06T07:03:42.053Z"
   },
   {
    "duration": 38,
    "start_time": "2025-02-06T07:05:06.642Z"
   },
   {
    "duration": 119,
    "start_time": "2025-02-06T07:18:10.646Z"
   },
   {
    "duration": 1109,
    "start_time": "2025-02-06T07:18:33.685Z"
   },
   {
    "duration": 29,
    "start_time": "2025-02-06T07:18:56.455Z"
   },
   {
    "duration": 22,
    "start_time": "2025-02-06T07:26:18.674Z"
   },
   {
    "duration": 76,
    "start_time": "2025-02-06T07:35:50.145Z"
   },
   {
    "duration": 2,
    "start_time": "2025-02-06T07:37:14.723Z"
   },
   {
    "duration": 15,
    "start_time": "2025-02-06T07:37:23.188Z"
   },
   {
    "duration": 21,
    "start_time": "2025-02-06T07:39:18.919Z"
   },
   {
    "duration": 15,
    "start_time": "2025-02-06T07:42:37.965Z"
   },
   {
    "duration": 7452,
    "start_time": "2025-02-06T07:45:26.891Z"
   },
   {
    "duration": 2,
    "start_time": "2025-02-06T07:45:34.345Z"
   },
   {
    "duration": 81,
    "start_time": "2025-02-06T07:45:34.349Z"
   },
   {
    "duration": 44,
    "start_time": "2025-02-06T07:45:34.432Z"
   },
   {
    "duration": 12,
    "start_time": "2025-02-06T07:45:34.478Z"
   },
   {
    "duration": 9,
    "start_time": "2025-02-06T07:45:34.491Z"
   },
   {
    "duration": 25,
    "start_time": "2025-02-06T07:45:34.501Z"
   },
   {
    "duration": 16,
    "start_time": "2025-02-06T07:45:34.528Z"
   },
   {
    "duration": 11,
    "start_time": "2025-02-06T07:45:34.545Z"
   },
   {
    "duration": 9,
    "start_time": "2025-02-06T07:45:34.557Z"
   },
   {
    "duration": 9,
    "start_time": "2025-02-06T07:45:34.567Z"
   },
   {
    "duration": 30,
    "start_time": "2025-02-06T07:45:34.577Z"
   },
   {
    "duration": 22,
    "start_time": "2025-02-06T07:45:34.609Z"
   },
   {
    "duration": 12,
    "start_time": "2025-02-06T07:45:34.633Z"
   },
   {
    "duration": 16,
    "start_time": "2025-02-06T07:45:34.647Z"
   },
   {
    "duration": 15,
    "start_time": "2025-02-06T07:45:34.664Z"
   },
   {
    "duration": 13,
    "start_time": "2025-02-06T07:45:34.681Z"
   }
  ],
  "kernelspec": {
   "display_name": "Python 3 (ipykernel)",
   "language": "python",
   "name": "python3"
  },
  "language_info": {
   "codemirror_mode": {
    "name": "ipython",
    "version": 3
   },
   "file_extension": ".py",
   "mimetype": "text/x-python",
   "name": "python",
   "nbconvert_exporter": "python",
   "pygments_lexer": "ipython3",
   "version": "3.12.7"
  },
  "toc": {
   "base_numbering": 1,
   "nav_menu": {},
   "number_sections": true,
   "sideBar": true,
   "skip_h1_title": true,
   "title_cell": "Table of Contents",
   "title_sidebar": "Contents",
   "toc_cell": false,
   "toc_position": {
    "height": "calc(100% - 180px)",
    "left": "10px",
    "top": "150px",
    "width": "165px"
   },
   "toc_section_display": true,
   "toc_window_display": true
  }
 },
 "nbformat": 4,
 "nbformat_minor": 4
}
